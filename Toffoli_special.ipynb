{
 "cells": [
  {
   "cell_type": "code",
   "execution_count": 1,
   "id": "9c4d7d00-5e25-413e-bf62-5cb047770f3c",
   "metadata": {},
   "outputs": [
    {
     "name": "stderr",
     "output_type": "stream",
     "text": [
      "WARNING:absl:No GPU/TPU found, falling back to CPU. (Set TF_CPP_MIN_LOG_LEVEL=0 and rerun for more info.)\n"
     ]
    }
   ],
   "source": [
    "from jax_circuits import *\n",
    "from scipy.stats import unitary_group\n",
    "import matplotlib.pyplot as plt\n",
    "\n",
    "import time\n",
    "import pickle\n",
    "\n",
    "from qiskit import transpile\n",
    "from qiskit.quantum_info import Operator\n",
    "\n",
    "from topology import *\n",
    "\n",
    "from jax import custom_jvp, jvp, grad\n",
    "from jax.scipy.optimize import minimize\n",
    "\n",
    "key = random.PRNGKey(42)"
   ]
  },
  {
   "cell_type": "markdown",
   "id": "c23e4b11-6563-47e3-b913-48775e0c3fa7",
   "metadata": {},
   "source": [
    "Number of ideas to try in optimization of Toffoli gates\n",
    "- Push on the CP learning\n",
    "- Try to use ancillas\n",
    "- Try to find decompositions up to swaps"
   ]
  },
  {
   "cell_type": "markdown",
   "id": "66399440-5a90-4339-a833-9b42ddd746d4",
   "metadata": {},
   "source": [
    "# Toffoli 3"
   ]
  },
  {
   "cell_type": "code",
   "execution_count": 2,
   "id": "c9e69ab0-171e-4e05-b055-b3142cbd9ee1",
   "metadata": {},
   "outputs": [],
   "source": [
    "qc = QuantumCircuit(3)\n",
    "qc.ccx(0, 1, 2)\n",
    "u_toff3 = Operator(qc.reverse_bits()).data"
   ]
  },
  {
   "cell_type": "markdown",
   "id": "31c7cf69-b653-4874-9371-fa8252f09806",
   "metadata": {
    "tags": []
   },
   "source": [
    "## Randomized learning"
   ]
  },
  {
   "cell_type": "code",
   "execution_count": 3,
   "id": "4c586937-f2c2-43f9-8aaa-a7a6363107c4",
   "metadata": {},
   "outputs": [
    {
     "name": "stdout",
     "output_type": "stream",
     "text": [
      "CPU times: user 380 ms, sys: 7.9 ms, total: 388 ms\n",
      "Wall time: 390 ms\n"
     ]
    }
   ],
   "source": [
    "%%time\n",
    "\n",
    "num_attempts = 10\n",
    "key = random.PRNGKey(13)\n",
    "for _ in range(num_attempts):\n",
    "    key, subkey = random.split(key)\n",
    "    current_placements = random_placements(3, 6, key=subkey)\n",
    "    anz = Ansatz(3, 'cz', placements={'free':current_placements})\n",
    "    break\n",
    "    ah, lh, sh = unitary_learn_repeat(anz.unitary, \n",
    "                                      u_toff3, \n",
    "                                      anz.num_angles, \n",
    "                                      'adam', \n",
    "                                      0.1, \n",
    "                                      num_repeats=5, \n",
    "                                      target_loss=1e-4)\n",
    "    if sum(sh)>0:\n",
    "        print('decomposition found')"
   ]
  },
  {
   "cell_type": "code",
   "execution_count": 25,
   "id": "dc248b16-15c9-48e6-9c67-5405d6d7e372",
   "metadata": {},
   "outputs": [
    {
     "name": "stdout",
     "output_type": "stream",
     "text": [
      "<class 'numpy.int32'>\n",
      "<class 'int'>\n",
      "<class 'int'>\n"
     ]
    }
   ],
   "source": [
    "print(type(current_placements[0][0]))\n",
    "print(type(placements[1][1]))\n",
    "print(type(int(current_placements[0][0])))"
   ]
  },
  {
   "cell_type": "code",
   "execution_count": 22,
   "id": "4c08674a-3af5-467b-984c-ce5312bf0725",
   "metadata": {},
   "outputs": [
    {
     "ename": "TypeError",
     "evalue": "int() argument must be a string, a bytes-like object or a number, not 'list'",
     "output_type": "error",
     "traceback": [
      "\u001b[0;31m---------------------------------------------------------------------------\u001b[0m",
      "\u001b[0;31mTypeError\u001b[0m                                 Traceback (most recent call last)",
      "\u001b[0;32m<ipython-input-22-2eac5041789a>\u001b[0m in \u001b[0;36m<module>\u001b[0;34m\u001b[0m\n\u001b[0;32m----> 1\u001b[0;31m \u001b[0mint\u001b[0m\u001b[0;34m(\u001b[0m\u001b[0mcurrent_placements\u001b[0m\u001b[0;34m)\u001b[0m\u001b[0;34m\u001b[0m\u001b[0;34m\u001b[0m\u001b[0m\n\u001b[0m",
      "\u001b[0;31mTypeError\u001b[0m: int() argument must be a string, a bytes-like object or a number, not 'list'"
     ]
    }
   ],
   "source": [
    "int(current_placements)"
   ]
  },
  {
   "cell_type": "code",
   "execution_count": 26,
   "id": "3b4bdbc4-d1ba-4d48-ac72-3f084769216f",
   "metadata": {},
   "outputs": [
    {
     "data": {
      "text/html": [
       "<pre style=\"word-wrap: normal;white-space: pre;background: #fff0;line-height: 1.1;font-family: &quot;Courier New&quot;,Courier,monospace\">     ┌────────┐┌────────┐┌────────┐                            ┌─────────┐»\n",
       "q_0: ┤ RZ(a0) ├┤ RX(a1) ├┤ RZ(a2) ├──────────────────────────■─┤ RY(a13) ├»\n",
       "     ├────────┤├────────┤├────────┤    ┌────────┐┌─────────┐ │ ├─────────┤»\n",
       "q_1: ┤ RZ(a3) ├┤ RX(a4) ├┤ RZ(a5) ├─■──┤ RY(a9) ├┤ RX(a10) ├─■─┤ RY(a15) ├»\n",
       "     ├────────┤├────────┤├────────┤ │ ┌┴────────┤├─────────┤   └─────────┘»\n",
       "q_2: ┤ RZ(a6) ├┤ RX(a7) ├┤ RZ(a8) ├─■─┤ RY(a11) ├┤ RX(a12) ├──────────────»\n",
       "     └────────┘└────────┘└────────┘   └─────────┘└─────────┘              »\n",
       "«     ┌─────────┐   ┌─────────┐┌─────────┐   ┌─────────┐┌─────────┐   »\n",
       "«q_0: ┤ RX(a14) ├─■─┤ RY(a19) ├┤ RX(a20) ├─■─┤ RY(a23) ├┤ RX(a24) ├─■─»\n",
       "«     ├─────────┤ │ ├─────────┤├─────────┤ │ └─────────┘└─────────┘ │ »\n",
       "«q_1: ┤ RX(a16) ├─■─┤ RY(a17) ├┤ RX(a18) ├─┼────────────────────────┼─»\n",
       "«     └─────────┘   └─────────┘└─────────┘ │ ┌─────────┐┌─────────┐ │ »\n",
       "«q_2: ─────────────────────────────────────■─┤ RY(a21) ├┤ RX(a22) ├─■─»\n",
       "«                                            └─────────┘└─────────┘   »\n",
       "«     ┌─────────┐┌─────────┐                         \n",
       "«q_0: ┤ RY(a25) ├┤ RX(a26) ├─────────────────────────\n",
       "«     └─────────┘└─────────┘   ┌─────────┐┌─────────┐\n",
       "«q_1: ───────────────────────■─┤ RY(a29) ├┤ RX(a30) ├\n",
       "«     ┌─────────┐┌─────────┐ │ ├─────────┤├─────────┤\n",
       "«q_2: ┤ RY(a27) ├┤ RX(a28) ├─■─┤ RY(a31) ├┤ RX(a32) ├\n",
       "«     └─────────┘└─────────┘   └─────────┘└─────────┘</pre>"
      ],
      "text/plain": [
       "     ┌────────┐┌────────┐┌────────┐                            ┌─────────┐»\n",
       "q_0: ┤ RZ(a0) ├┤ RX(a1) ├┤ RZ(a2) ├──────────────────────────■─┤ RY(a13) ├»\n",
       "     ├────────┤├────────┤├────────┤    ┌────────┐┌─────────┐ │ ├─────────┤»\n",
       "q_1: ┤ RZ(a3) ├┤ RX(a4) ├┤ RZ(a5) ├─■──┤ RY(a9) ├┤ RX(a10) ├─■─┤ RY(a15) ├»\n",
       "     ├────────┤├────────┤├────────┤ │ ┌┴────────┤├─────────┤   └─────────┘»\n",
       "q_2: ┤ RZ(a6) ├┤ RX(a7) ├┤ RZ(a8) ├─■─┤ RY(a11) ├┤ RX(a12) ├──────────────»\n",
       "     └────────┘└────────┘└────────┘   └─────────┘└─────────┘              »\n",
       "«     ┌─────────┐   ┌─────────┐┌─────────┐   ┌─────────┐┌─────────┐   »\n",
       "«q_0: ┤ RX(a14) ├─■─┤ RY(a19) ├┤ RX(a20) ├─■─┤ RY(a23) ├┤ RX(a24) ├─■─»\n",
       "«     ├─────────┤ │ ├─────────┤├─────────┤ │ └─────────┘└─────────┘ │ »\n",
       "«q_1: ┤ RX(a16) ├─■─┤ RY(a17) ├┤ RX(a18) ├─┼────────────────────────┼─»\n",
       "«     └─────────┘   └─────────┘└─────────┘ │ ┌─────────┐┌─────────┐ │ »\n",
       "«q_2: ─────────────────────────────────────■─┤ RY(a21) ├┤ RX(a22) ├─■─»\n",
       "«                                            └─────────┘└─────────┘   »\n",
       "«     ┌─────────┐┌─────────┐                         \n",
       "«q_0: ┤ RY(a25) ├┤ RX(a26) ├─────────────────────────\n",
       "«     └─────────┘└─────────┘   ┌─────────┐┌─────────┐\n",
       "«q_1: ───────────────────────■─┤ RY(a29) ├┤ RX(a30) ├\n",
       "«     ┌─────────┐┌─────────┐ │ ├─────────┤├─────────┤\n",
       "«q_2: ┤ RY(a27) ├┤ RX(a28) ├─■─┤ RY(a31) ├┤ RX(a32) ├\n",
       "«     └─────────┘└─────────┘   └─────────┘└─────────┘"
      ]
     },
     "execution_count": 26,
     "metadata": {},
     "output_type": "execute_result"
    }
   ],
   "source": [
    "# placements = [[1, 2], [0, 1], [1, 0], [2, 0], [0, 2], [1, 2]]\n",
    "# anz= Ansatz(3, 'cz', placements={'free': current_placements})\n",
    "placements = [[int(i), int(j)] for i,j in list(current_placements)]\n",
    "anz= Ansatz(3, 'cz', placements={'free': placements})\n",
    "anz.circuit().draw()"
   ]
  },
  {
   "cell_type": "markdown",
   "id": "991325ba-9fe5-4b85-91b0-b02225f63a55",
   "metadata": {},
   "source": [
    "## CP learning"
   ]
  },
  {
   "cell_type": "markdown",
   "id": "10250906-3ea3-42ed-b6bb-55c19c85182a",
   "metadata": {},
   "source": [
    "With suitable hyperparameters finding optimal 6-gate decomposition is in fact rather easy."
   ]
  },
  {
   "cell_type": "code",
   "execution_count": null,
   "id": "557a0e82-97b2-4442-9520-f5965dc77dad",
   "metadata": {},
   "outputs": [],
   "source": []
  }
 ],
 "metadata": {
  "kernelspec": {
   "display_name": "Python 3",
   "language": "python",
   "name": "python3"
  },
  "language_info": {
   "codemirror_mode": {
    "name": "ipython",
    "version": 3
   },
   "file_extension": ".py",
   "mimetype": "text/x-python",
   "name": "python",
   "nbconvert_exporter": "python",
   "pygments_lexer": "ipython3",
   "version": "3.8.10"
  },
  "widgets": {
   "application/vnd.jupyter.widget-state+json": {
    "state": {},
    "version_major": 2,
    "version_minor": 0
   }
  }
 },
 "nbformat": 4,
 "nbformat_minor": 5
}
