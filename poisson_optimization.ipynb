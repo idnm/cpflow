{
 "cells": [
  {
   "cell_type": "code",
   "execution_count": 1,
   "id": "e3e2ecf9-bbac-408c-8979-4976e05df9a3",
   "metadata": {},
   "outputs": [
    {
     "name": "stderr",
     "output_type": "stream",
     "text": [
      "WARNING:absl:No GPU/TPU found, falling back to CPU. (Set TF_CPP_MIN_LOG_LEVEL=0 and rerun for more info.)\n"
     ]
    }
   ],
   "source": [
    "from jax_circuits import *\n",
    "from scipy.stats import unitary_group\n",
    "import matplotlib.pyplot as plt\n",
    "\n",
    "import time\n",
    "import pickle\n",
    "\n",
    "from qiskit import transpile\n",
    "from qiskit.quantum_info import Operator\n",
    "\n",
    "from topology import *\n",
    "\n",
    "from jax import custom_jvp, jvp, grad\n",
    "from jax.scipy.optimize import minimize\n",
    "\n",
    "key = random.PRNGKey(42)"
   ]
  },
  {
   "cell_type": "markdown",
   "id": "8abd164f-5e1d-414c-937e-5ad62264e1a2",
   "metadata": {
    "tags": [],
    "toc-hr-collapsed": true
   },
   "source": [
    "# Random losses"
   ]
  },
  {
   "cell_type": "code",
   "execution_count": 4,
   "id": "95b00d31-3aad-463e-963b-8b01c9701f8d",
   "metadata": {},
   "outputs": [],
   "source": [
    "def int_to_list(n, size):\n",
    "    \"\"\"Examples:\n",
    "        (10, 5) -> [0, 1, 0, 1, 0]\n",
    "        (11, 6) -> [0, 0, 1, 0, 1, 0]\n",
    "        (11, 6) -> [0, 0, 1, 0, 1, 1] \"\"\"\n",
    "    n_str = format(n, 'b')\n",
    "    assert len(n_str)<=size, 'Integer {} too big to be converted to size {}'.format(n, size)\n",
    "    \n",
    "    zero_pad = '0'*(size-len(n_str))\n",
    "    n_str = zero_pad + n_str\n",
    "    \n",
    "    return [int(b) for b in n_str]\n",
    "\n",
    "def all_binary_strings(size):\n",
    "    \"\"\"Example, size=3:\n",
    "        [[0, 0, 0],\n",
    "         [0, 0, 1],\n",
    "         [0, 1, 0],\n",
    "         [0, 1, 1],\n",
    "         [1, 0, 0],\n",
    "         [1, 0, 1],\n",
    "         [1, 1, 0],\n",
    "         [1, 1, 1]]\n",
    "    \"\"\"\n",
    "    \n",
    "    max_n = int('1'*size, 2)+1\n",
    "    return [int_to_list(n, size) for n in range(max_n)]\n",
    "\n",
    "def cos_sin_monomials(angles, n_angles):\n",
    "    \"\"\"Example angles=(a0, a1) n_angles=2:\n",
    "    [cos a0/2 cos a1/2,\n",
    "     cos a0/2 sin a1/2,\n",
    "     sin a0/2 cos a1/2,\n",
    "     sin a0/2 sin a1/2]\n",
    "    \"\"\"\n",
    "    powers = 1-jnp.array(all_binary_strings(int(n_angles)))\n",
    "    cos_sin_array = jnp.cos(angles/2)**powers * jnp.sin(angles/2)**(1-powers)\n",
    "    cos_sin_monomials = jnp.prod(cos_sin_array, axis=1)\n",
    "    return cos_sin_monomials\n",
    "\n",
    "def trigonometric_sum_func(coeffs, n_angles):\n",
    "    \"\"\"Example coefss=[1,2,3,4], n_angles=2:\n",
    "        1*cos a0/2 cos a1/2+2*cos a0/2 sin a1/2+3*sin a0/2 cos a1/2+4*sin a0/2 sin a1/2\"\"\"\n",
    "    return lambda angles: jnp.tensordot(cos_sin_monomials(angles, n_angles), coeffs, axes=1)\n",
    "\n",
    "def trigonometric_coefficients(f, n_angles):\n",
    "    \"\"\"Example n_angles=2: \n",
    "        1*cos a0/2 cos a1/2+2*cos a0/2 sin a1/2+3*sin a0/2 cos a1/2+4*sin a0/2 sin a1/2 -> [1,2,3,4]\"\"\"\n",
    "    all_vertices = jnp.pi*jnp.array(all_binary_strings(int(n_angles)))\n",
    "    return vmap(f)(all_vertices)"
   ]
  },
  {
   "cell_type": "markdown",
   "id": "134b819b-ffeb-4cba-a65b-52c9ca169ce2",
   "metadata": {},
   "source": [
    "Illustration."
   ]
  },
  {
   "cell_type": "code",
   "execution_count": 5,
   "id": "dbdf18ca-8997-450f-8fab-5a6e42005564",
   "metadata": {},
   "outputs": [
    {
     "data": {
      "text/plain": [
       "[<matplotlib.lines.Line2D at 0x7f0f2857aa90>]"
      ]
     },
     "execution_count": 5,
     "metadata": {},
     "output_type": "execute_result"
    },
    {
     "data": {
      "image/png": "[encoded data removed]",
      "text/plain": [
       "<Figure size 432x288 with 1 Axes>"
      ]
     },
     "metadata": {
      "needs_background": "light"
     },
     "output_type": "display_data"
    }
   ],
   "source": [
    "coeffs0=jnp.array([1, 2, 3, 4], dtype='float32') # Define coefficients\n",
    "n_angles0 = int(jnp.log2(len(coeffs0))) # Number of angles is log 2 of number of coefficients.\n",
    "\n",
    "f0 = trigonometric_sum_func(coeffs0, n_angles0) # Define function with precsribed coefficients\n",
    "\n",
    "# Choose random y and sweep over x to compare explicit funciton and the one defined implicitly.\n",
    "x_sweep = jnp.linspace(-2*jnp.pi, 2*jnp.pi, 1000)\n",
    "y = 0.3\n",
    "\n",
    "plt.plot(x_sweep, vmap(lambda x: f0(jnp.array([x, y], dtype='float32')))(x_sweep))\n",
    "plt.plot(x_sweep, jnp.cos(x_sweep/2)*jnp.cos(y/2)+\n",
    "         2*jnp.cos(x_sweep/2)*jnp.sin(y/2)+\n",
    "         3*jnp.sin(x_sweep/2)*jnp.cos(y/2)+\n",
    "         4*jnp.sin(x_sweep/2)*jnp.sin(y/2)+0.1) # SHift added for clarity."
   ]
  },
  {
   "cell_type": "markdown",
   "id": "f97d9156-07e6-4f08-b988-b57ed32070ea",
   "metadata": {},
   "source": [
    "Now let us see whether local minima are problematic for random trigonometric sums."
   ]
  },
  {
   "cell_type": "code",
   "execution_count": 4,
   "id": "eba619e7-81e9-4362-b282-04103c273af8",
   "metadata": {},
   "outputs": [],
   "source": [
    "def random_trigonometric_loss(num_angles, key=random.PRNGKey(0)):\n",
    "    key, subkey = random.split(key)\n",
    "    unbalanced_coeffs = random.uniform(subkey, shape=(2, 2**num_angles, ), minval=0, maxval=1)\n",
    "    unbalanced_coeffs = unbalanced_coeffs[0]+1j*unbalanced_coeffs[1]\n",
    "    unbalanced_f = trigonometric_sum_func(unbalanced_coeffs, num_angles)\n",
    "    \n",
    "    key, subkey = random.split(key)\n",
    "    min_angles = random_angles(num_angles, key=subkey)\n",
    "    \n",
    "    c0 =unbalanced_coeffs[0] - unbalanced_f(min_angles)/cos_sin_monomials(min_angles, num_angles)[0]\n",
    "    balanced_coeffs = unbalanced_coeffs.at[0].set(c0)\n",
    "    \n",
    "    balanced_f = trigonometric_sum_func(balanced_coeffs, num_angles)\n",
    "    \n",
    "    return lambda angles: jnp.abs(balanced_f(angles))**2"
   ]
  },
  {
   "cell_type": "code",
   "execution_count": 5,
   "id": "b2f6a84a-2a1a-4076-894d-177912cee0dc",
   "metadata": {},
   "outputs": [
    {
     "name": "stdout",
     "output_type": "stream",
     "text": [
      "CPU times: user 45.6 s, sys: 391 ms, total: 46 s\n",
      "Wall time: 26.5 s\n"
     ]
    }
   ],
   "source": [
    "%%time\n",
    "num_angles = 14\n",
    "loss_func = random_trigonometric_loss(num_angles, key=random.PRNGKey(5))\n",
    "ah, lh = optax_minimize(loss_func, num_angles, optax.adam(0.1))"
   ]
  },
  {
   "cell_type": "code",
   "execution_count": 6,
   "id": "5275bfae-4ccc-47f2-8362-8a089099ee94",
   "metadata": {},
   "outputs": [
    {
     "data": {
      "image/png": "[encoded data removed]",
      "text/plain": [
       "<Figure size 432x288 with 1 Axes>"
      ]
     },
     "metadata": {
      "needs_background": "light"
     },
     "output_type": "display_data"
    }
   ],
   "source": [
    "plt.plot(lh)\n",
    "plt.yscale('log')"
   ]
  },
  {
   "cell_type": "markdown",
   "id": "4440e1ed-22c6-4038-a68d-36f9381c19df",
   "metadata": {},
   "source": [
    "It appears that under 15 or so angles the local minumums are not problematic for random trigonometric functions. Going above 15 angles seems to be too expensive. However, in the next section we will find realistic examples that have local minumums and not too much parameters."
   ]
  },
  {
   "cell_type": "markdown",
   "id": "3aad3f32-b69b-441a-90c2-c0e53b0cb8d6",
   "metadata": {
    "tags": []
   },
   "source": [
    "# Unitary losses"
   ]
  },
  {
   "cell_type": "markdown",
   "id": "c08fe448-74df-453e-a592-826e4c606c9f",
   "metadata": {},
   "source": [
    "It seems that good examples of local minimum problem can be found if we take a circuit with many cnot but fix some of the angles (to bring the number of parameters down). Here is an example."
   ]
  },
  {
   "cell_type": "code",
   "execution_count": 2,
   "id": "861f7401-eb5f-43f6-962a-a6ac3378597f",
   "metadata": {},
   "outputs": [],
   "source": [
    "def insert_angles(angles, insertion_angles, indices):\n",
    "    \"\"\"Replaces angles at positions specified by indices by insertion angles.\"\"\"\n",
    "    new_angles = angles\n",
    "    for a, i in zip(insertion_angles, indices):\n",
    "        new_angles = new_angles.at[i].set(a)\n",
    "    return new_angles\n",
    "\n",
    "def u_func_constrained(u_func, target_angles, indices):\n",
    "    \"\"\"Returns a function with angles=target_angles EXCEPT at positions specified by indices. There the angles are free parameters.\"\"\"\n",
    "    return lambda free_angles: u_func(insert_angles(target_angles, free_angles, indices))"
   ]
  },
  {
   "cell_type": "markdown",
   "id": "be7b2f32-b48e-41ff-a3e8-cb80562abdab",
   "metadata": {},
   "source": [
    "Initial angles in the definition of the target can be changed with the local minimum problem being fairly robust. This way one can obtain a series of examples to test against optimization ideas."
   ]
  },
  {
   "cell_type": "code",
   "execution_count": 17,
   "id": "eea2598a-fb47-4928-adbe-dc377432f6ba",
   "metadata": {},
   "outputs": [
    {
     "name": "stdout",
     "output_type": "stream",
     "text": [
      "CPU times: user 1min 38s, sys: 2.67 s, total: 1min 41s\n",
      "Wall time: 1min 33s\n"
     ]
    }
   ],
   "source": [
    "%%time\n",
    "\n",
    "anz = Ansatz(3, 'cz', fill_layers(sequ_layer(3), 4))\n",
    "\n",
    "angles_target = random_angles(anz.num_angles, key=random.PRNGKey(1000))\n",
    "u_target = anz.unitary(angles_target)\n",
    "\n",
    "num_free_angles = 13\n",
    "indices = jnp.sort(random.choice(random.PRNGKey(100), jnp.arange(anz.num_angles), shape=(num_free_angles, ), replace=False))\n",
    "constrained_u = u_func_constrained(anz.unitary, angles_target, indices)\n",
    "free_angles_target = jnp.array([angles_target[i] for i in indices])\n",
    "\n",
    "ah, lh, sh = unitary_learn_repeat(constrained_u, \n",
    "                                  u_target, \n",
    "                                  anz.num_angles, \n",
    "                                  'adam', \n",
    "                                  0.1, \n",
    "                                  num_repeats=10, \n",
    "                                  target_loss=1e-4)"
   ]
  },
  {
   "cell_type": "code",
   "execution_count": 18,
   "id": "d3d947af-74f5-405d-b74f-b74b11366046",
   "metadata": {},
   "outputs": [
    {
     "data": {
      "text/plain": [
       "0.1"
      ]
     },
     "execution_count": 18,
     "metadata": {},
     "output_type": "execute_result"
    }
   ],
   "source": [
    "sum(sh)/len(sh)"
   ]
  },
  {
   "cell_type": "markdown",
   "id": "0c78d1b0-0e3b-4c22-b653-1bb76153f7fb",
   "metadata": {},
   "source": [
    "# Ancilla qubits"
   ]
  },
  {
   "cell_type": "code",
   "execution_count": 14,
   "id": "d6fab510-645f-4ffc-a313-7f14d40a452e",
   "metadata": {},
   "outputs": [
    {
     "data": {
      "image/png": "[encoded data removed]",
      "text/plain": [
       "<Figure size 1591.6x686.28 with 1 Axes>"
      ]
     },
     "execution_count": 14,
     "metadata": {},
     "output_type": "execute_result"
    }
   ],
   "source": [
    "qc = QuantumCircuit(5)\n",
    "qc.mct([0, 1, 2], 3)\n",
    "u_toff4 = Operator(qc.reverse_bits()).data\n",
    "\n",
    "qc.draw(output='mpl')\n",
    "transpile(qc, basis_gates=['u3', 'cx'], optimization_level=3).draw(output='mpl')"
   ]
  },
  {
   "cell_type": "code",
   "execution_count": 22,
   "id": "5d1c8d8a-22da-44d9-b9c5-69b3dc148c49",
   "metadata": {},
   "outputs": [
    {
     "name": "stdout",
     "output_type": "stream",
     "text": [
      "0.0\n",
      "CPU times: user 6min 24s, sys: 6.42 s, total: 6min 31s\n",
      "Wall time: 5min 38s\n"
     ]
    }
   ],
   "source": [
    "%%time\n",
    "\n",
    "anz = Ansatz(5, 'cz', fill_layers(chain_layer(5), 27))\n",
    "\n",
    "ah, lh, sh = unitary_learn_repeat(anz.unitary, \n",
    "                                  u_toff4, \n",
    "                                  anz.num_angles, \n",
    "                                  'adam', \n",
    "                                  0.1, \n",
    "                                  num_repeats=20, \n",
    "                                  target_loss=1e-4)\n",
    "\n",
    "print(sum(sh)/len(sh))"
   ]
  },
  {
   "cell_type": "code",
   "execution_count": 23,
   "id": "eff19b15-74e0-48ca-b6da-91a7067ab30c",
   "metadata": {},
   "outputs": [
    {
     "data": {
      "image/png": "[encoded data removed]",
      "text/plain": [
       "<Figure size 1591.6x686.28 with 1 Axes>"
      ]
     },
     "execution_count": 23,
     "metadata": {},
     "output_type": "execute_result"
    }
   ],
   "source": [
    "anz.circuit().draw(output='mpl')"
   ]
  },
  {
   "cell_type": "markdown",
   "id": "73f973d9-e347-458a-a651-b4bf17c41ce2",
   "metadata": {
    "tags": [],
    "toc-hr-collapsed": true
   },
   "source": [
    "# Redundant 1q gates."
   ]
  },
  {
   "cell_type": "code",
   "execution_count": 10,
   "id": "acd811bb-07d9-4581-871a-0bab0d684f1e",
   "metadata": {},
   "outputs": [],
   "source": [
    "anz = Ansatz(3, 'cz', fill_layers(sequ_layer(3), 6))\n",
    "\n",
    "angles_target = random_angles(anz.num_angles, key=random.PRNGKey(1000))\n",
    "u_target = anz.unitary(angles_target)\n",
    "\n",
    "\n",
    "repeated_layer = [sequ_layer(3)[i//3] for i in range(3*len(sequ_layer(3)))]\n",
    "anz_cp = Ansatz(3, 'cp', fill_layers(repeated_layer, 4*3))\n",
    "\n",
    "cp_mask = jnp.array(anz_cp.cp_mask)\n",
    "mask_indices = jnp.nonzero(cp_mask)[0]\n",
    "mask_angles = jnp.pi*jnp.array([1 if i%3==0 else 0 for i in range(len(mask_indices))])\n",
    "\n",
    "zero_angles_with_mask_fixed = insert_angles(jnp.zeros(anz_cp.num_angles), mask_angles, mask_indices)\n",
    "free_angles_indices = [i for i in range(anz_cp.num_angles) if i not in mask_indices]\n",
    "num_free_angles = len(free_angles_indices)\n",
    "\n",
    "anz_cp.circuit(zero_angles_with_mask_fixed).draw()\n",
    "u_cp_constrainded = u_func_constrained(anz_cp.unitary, zero_angles_with_mask_fixed, free_angles_indices)"
   ]
  },
  {
   "cell_type": "code",
   "execution_count": 11,
   "id": "f9cfaae1-ba91-46ef-8441-a0054e8f57e6",
   "metadata": {},
   "outputs": [
    {
     "name": "stdout",
     "output_type": "stream",
     "text": [
      "CPU times: user 1min 39s, sys: 3.02 s, total: 1min 42s\n",
      "Wall time: 1min 33s\n"
     ]
    },
    {
     "data": {
      "text/plain": [
       "0.1"
      ]
     },
     "execution_count": 11,
     "metadata": {},
     "output_type": "execute_result"
    }
   ],
   "source": [
    "%%time\n",
    "\n",
    "ah, lh, sh = unitary_learn_repeat(anz.unitary, \n",
    "                                  u_target, \n",
    "                                  anz.num_angles, \n",
    "                                  'adam', \n",
    "                                  0.1, \n",
    "                                  num_repeats=10, \n",
    "                                  target_loss=1e-4)\n",
    "\n",
    "sum(sh)/len(sh)"
   ]
  },
  {
   "cell_type": "code",
   "execution_count": 12,
   "id": "db408667-5ea3-45c8-9f73-04979f22d605",
   "metadata": {},
   "outputs": [
    {
     "name": "stdout",
     "output_type": "stream",
     "text": [
      "CPU times: user 5min 27s, sys: 3.69 s, total: 5min 31s\n",
      "Wall time: 5min 20s\n"
     ]
    },
    {
     "data": {
      "text/plain": [
       "0.0"
      ]
     },
     "execution_count": 12,
     "metadata": {},
     "output_type": "execute_result"
    }
   ],
   "source": [
    "%%time\n",
    "ah, lh, sh = unitary_learn_repeat(u_cp_constrainded, \n",
    "                                  u_target, \n",
    "                                  num_free_angles, \n",
    "                                  'adam', \n",
    "                                  0.1, \n",
    "                                  num_repeats=10, \n",
    "                                  target_loss=1e-4)\n",
    "\n",
    "sum(sh)/len(sh)"
   ]
  },
  {
   "cell_type": "markdown",
   "id": "e26f2b58-e35f-4a27-87ba-613e53a236ba",
   "metadata": {
    "tags": [],
    "toc-hr-collapsed": true
   },
   "source": [
    "# Fourier-Poisson optimization"
   ]
  },
  {
   "cell_type": "code",
   "execution_count": 121,
   "id": "9a74e835-186d-4a81-add2-f0b1ae622b41",
   "metadata": {},
   "outputs": [],
   "source": [
    "def exact_average(F, n_angles):\n",
    "    \n",
    "    grid_points = 2*jnp.pi*jnp.array(all_binary_strings(n_angles))\n",
    "    F_grid = vmap(F)(grid_points)\n",
    "    \n",
    "    return F_grid.sum()/len(grid_points)"
   ]
  },
  {
   "cell_type": "code",
   "execution_count": 15,
   "id": "1df555c6-ef49-41a2-b586-2585c9f2d094",
   "metadata": {},
   "outputs": [
    {
     "name": "stdout",
     "output_type": "stream",
     "text": [
      "CPU times: user 25.7 s, sys: 10.1 s, total: 35.8 s\n",
      "Wall time: 17.2 s\n"
     ]
    }
   ],
   "source": [
    "%%time\n",
    "\n",
    "anz = Ansatz(3, 'cz', fill_layers(sequ_layer(3), 4))\n",
    "\n",
    "angles_target = random_angles(anz.num_angles, key=random.PRNGKey(1000))\n",
    "u_target = anz.unitary(angles_target)\n",
    "\n",
    "num_free_angles = 13\n",
    "indices = jnp.sort(random.choice(random.PRNGKey(100), jnp.arange(anz.num_angles), shape=(num_free_angles, ), replace=False))\n",
    "constrained_u = u_func_constrained(anz.unitary, angles_target, indices)\n",
    "free_angles_target = jnp.array([angles_target[i] for i in indices])\n",
    "\n",
    "real_cost = lambda angs: 8-jnp.real((constrained_u(angs)*u_target.conj()).sum())\n",
    "\n",
    "initial_angles = random_angles(num_free_angles, key=random.PRNGKey(8))\n",
    "ah, lh = optax_minimize(real_cost, \n",
    "                        num_free_angles, \n",
    "                        optax.adam(0.1), \n",
    "                        preconditioner_func=plain_natural_preconditioner(constrained_u),\n",
    "                        initial_params=initial_angles,\n",
    "                        target_loss=1e-4)"
   ]
  },
  {
   "cell_type": "code",
   "execution_count": 68,
   "id": "d10b6b44-cbe2-4152-9fa0-ed611c9f2c9b",
   "metadata": {},
   "outputs": [],
   "source": [
    "def exp_loss(lmbd, angles):\n",
    "    return -jnp.exp(-lmbd*real_cost(angles))\n",
    "\n",
    "@jit\n",
    "def exp_loss_norm(lmbd, angles):\n",
    "    return exp_loss(lmbd, angles) - exact_average(lambda angs: exp_loss(lmbd, angs), num_free_angles)"
   ]
  },
  {
   "cell_type": "code",
   "execution_count": 109,
   "id": "23ad27f6-8be8-43f2-af96-0b3816e4bed1",
   "metadata": {},
   "outputs": [
    {
     "name": "stdout",
     "output_type": "stream",
     "text": [
      "4.7683716e-07\n",
      "4.7683716e-07\n"
     ]
    }
   ],
   "source": [
    "print(real_cost(free_angles_target))\n",
    "print(real_cost(free_angles_target+4*jnp.pi*jnp.zeros(num_free_angles).at[0].set(1)))"
   ]
  },
  {
   "cell_type": "code",
   "execution_count": 128,
   "id": "740bc8a7-23ef-4530-ac0e-de004e4522d5",
   "metadata": {},
   "outputs": [],
   "source": [
    "def abavg(lmbd, a):\n",
    "    return exact_average(lambda angs: exp_loss(lmbd, jnp.concatenate([jnp.array([a]), angs])), num_free_angles-1)"
   ]
  },
  {
   "cell_type": "code",
   "execution_count": 129,
   "id": "90623c65-e249-4d79-a612-22a596feb7ad",
   "metadata": {},
   "outputs": [
    {
     "name": "stdout",
     "output_type": "stream",
     "text": [
      "-0.00038929778\n",
      "-0.00034686172\n"
     ]
    }
   ],
   "source": [
    "lmbd=1\n",
    "print(abavg(lmbd, 0))\n",
    "print(abavg(lmbd, 1*jnp.pi))"
   ]
  },
  {
   "cell_type": "code",
   "execution_count": 130,
   "id": "62a62605-c1fc-4ae0-8ad9-cff5b7a0938a",
   "metadata": {},
   "outputs": [
    {
     "data": {
      "text/plain": [
       "DeviceArray([1.4085239 , 0.5855335 , 0.81626433, 0.95043296, 4.157632  ,\n",
       "             3.6373787 , 3.186574  , 2.2470086 , 1.1132274 , 5.635514  ,\n",
       "             1.4421338 , 3.1975808 , 2.3271897 ], dtype=float32)"
      ]
     },
     "execution_count": 130,
     "metadata": {},
     "output_type": "execute_result"
    }
   ],
   "source": [
    "free_angles_target"
   ]
  },
  {
   "cell_type": "code",
   "execution_count": 96,
   "id": "5cf54aa0-ce5f-4e97-a54b-6eff00dd1cd1",
   "metadata": {},
   "outputs": [
    {
     "data": {
      "text/plain": [
       "DeviceArray(-0.00030679, dtype=float32)"
      ]
     },
     "execution_count": 96,
     "metadata": {},
     "output_type": "execute_result"
    }
   ],
   "source": [
    "exact_average(lambda angs: exp_loss(1, angs), num_free_angles)"
   ]
  },
  {
   "cell_type": "code",
   "execution_count": 99,
   "id": "563298fc-9b8f-4dcb-82e6-417f9b16aa65",
   "metadata": {},
   "outputs": [],
   "source": [
    "lmbd = 1\n",
    "a = exact_average(lambda angs: exp_loss_norm(lmbd, jnp.concatenate([jnp.array([0]), angs])), num_free_angles-1)\n",
    "b = exact_average(lambda angs: exp_loss_norm(lmbd, jnp.concatenate([jnp.array([jnp.pi]), angs])), num_free_angles-1)"
   ]
  },
  {
   "cell_type": "code",
   "execution_count": 100,
   "id": "c6639737-6b0a-4b11-948c-abfe44b1a1ab",
   "metadata": {},
   "outputs": [
    {
     "data": {
      "text/plain": [
       "(DeviceArray(2.175722e-05, dtype=float32),\n",
       " DeviceArray(-0.00016833, dtype=float32))"
      ]
     },
     "execution_count": 100,
     "metadata": {},
     "output_type": "execute_result"
    }
   ],
   "source": [
    "a, b"
   ]
  },
  {
   "cell_type": "code",
   "execution_count": 80,
   "id": "2255acab-908f-4238-afbb-70be02a7d27e",
   "metadata": {},
   "outputs": [
    {
     "data": {
      "text/plain": [
       "DeviceArray(-0.9995692, dtype=float32)"
      ]
     },
     "execution_count": 80,
     "metadata": {},
     "output_type": "execute_result"
    }
   ],
   "source": [
    "exp_loss_norm(1, free_angles_target)"
   ]
  },
  {
   "cell_type": "code",
   "execution_count": 94,
   "id": "b0845f4a-44c2-43ef-af6b-270f09c1d488",
   "metadata": {},
   "outputs": [
    {
     "data": {
      "text/plain": [
       "DeviceArray(-2.69135e-07, dtype=float32)"
      ]
     },
     "execution_count": 94,
     "metadata": {},
     "output_type": "execute_result"
    }
   ],
   "source": [
    "exp_loss(1, free_angles_target+2.3*jnp.pi*jnp.concatenate([jnp.array([1]), jnp.zeros(num_free_angles-1)]))"
   ]
  },
  {
   "cell_type": "markdown",
   "id": "6aa2174a-02af-400c-9f96-62a3ce676027",
   "metadata": {
    "tags": [],
    "toc-hr-collapsed": true
   },
   "source": [
    "# Real part optimization."
   ]
  },
  {
   "cell_type": "code",
   "execution_count": 93,
   "id": "212a1c85-1efc-4f37-b74a-02e956b4657f",
   "metadata": {},
   "outputs": [
    {
     "name": "stdout",
     "output_type": "stream",
     "text": [
      "CPU times: user 27.9 s, sys: 11.8 s, total: 39.8 s\n",
      "Wall time: 19.2 s\n"
     ]
    }
   ],
   "source": [
    "%%time\n",
    "\n",
    "anz = Ansatz(3, 'cz', fill_layers(sequ_layer(3), 4))\n",
    "\n",
    "angles_target = random_angles(anz.num_angles, key=random.PRNGKey(1000))\n",
    "u_target = anz.unitary(angles_target)\n",
    "\n",
    "num_free_angles = 13\n",
    "indices = jnp.sort(random.choice(random.PRNGKey(100), jnp.arange(anz.num_angles), shape=(num_free_angles, ), replace=False))\n",
    "constrained_u = u_func_constrained(anz.unitary, angles_target, indices)\n",
    "free_angles_target = jnp.array([angles_target[i] for i in indices])\n",
    "\n",
    "real_cost = lambda angs: 8-jnp.real((constrained_u(angs)*u_target.conj()).sum())\n",
    "\n",
    "initial_angles = random_angles(num_free_angles, key=random.PRNGKey(8))\n",
    "ah, lh = optax_minimize(real_cost, \n",
    "                        num_free_angles, \n",
    "                        optax.adam(0.1), \n",
    "                        preconditioner_func=plain_natural_preconditioner(constrained_u),\n",
    "                        initial_params=initial_angles,\n",
    "                        target_loss=1e-4)"
   ]
  },
  {
   "cell_type": "code",
   "execution_count": 94,
   "id": "8b7fa9b0-1128-4b8c-bc41-a50c1414a390",
   "metadata": {},
   "outputs": [
    {
     "data": {
      "image/png": "[encoded data removed]",
      "text/plain": [
       "<Figure size 432x288 with 1 Axes>"
      ]
     },
     "metadata": {
      "needs_background": "light"
     },
     "output_type": "display_data"
    }
   ],
   "source": [
    "plt.plot(lh)\n",
    "plt.yscale('log')"
   ]
  },
  {
   "cell_type": "markdown",
   "id": "ecebf4aa-3ac4-4284-8759-e6816ed43219",
   "metadata": {
    "tags": [],
    "toc-hr-collapsed": true
   },
   "source": [
    "# SGD optimization"
   ]
  },
  {
   "cell_type": "code",
   "execution_count": 6,
   "id": "dcb35247-a55b-47f3-8fb9-2940c39efe91",
   "metadata": {},
   "outputs": [],
   "source": [
    "anz = Ansatz(3, 'cz', fill_layers(sequ_layer(3), 4))\n",
    "\n",
    "angles_target = random_angles(anz.num_angles, key=random.PRNGKey(1004))\n",
    "u_target = anz.unitary(angles_target)\n",
    "\n",
    "num_free_angles = 13\n",
    "indices = jnp.sort(random.choice(random.PRNGKey(100), jnp.arange(anz.num_angles), shape=(num_free_angles, ), replace=False))\n",
    "constrained_u = u_func_constrained(anz.unitary, angles_target, indices)\n",
    "free_angles_target = jnp.array([angles_target[i] for i in indices])\n",
    "\n",
    "def frobenius_loss(angles, minibatch):\n",
    "    u_diff = jnp.abs(constrained_u(angles)-u_target)**2\n",
    "    u_diff = u_diff.reshape(-1)\n",
    "    \n",
    "    return (u_diff*minibatch).sum()"
   ]
  },
  {
   "cell_type": "code",
   "execution_count": 63,
   "id": "ff9464a6-fce5-407f-954f-5da1653e5d95",
   "metadata": {},
   "outputs": [
    {
     "name": "stderr",
     "output_type": "stream",
     "text": [
      "/home/idnm/.local/lib/python3.8/site-packages/jax/_src/random.py:517: FutureWarning: jax.random.shuffle is deprecated and will be removed in a future release. Use jax.random.permutation\n",
      "  warnings.warn(msg, FutureWarning)\n"
     ]
    },
    {
     "name": "stdout",
     "output_type": "stream",
     "text": [
      "CPU times: user 35.6 s, sys: 1.35 s, total: 36.9 s\n",
      "Wall time: 32.5 s\n"
     ]
    }
   ],
   "source": [
    "%%time\n",
    "\n",
    "\n",
    "@partial(jit, static_argnums=(0, 1))\n",
    "def batch_update_step(loss_and_grad, opt, opt_state, params, minibatch):\n",
    "\n",
    "    loss, grads = loss_and_grad(params, minibatch)\n",
    "    updates, opt_state = opt.update(grads, opt_state)\n",
    "    params = optax.apply_updates(params, updates)\n",
    "    return params, opt_state, loss\n",
    "\n",
    "\n",
    "num_iterations = 5000\n",
    "minibatch_size = 16\n",
    "opt = optax.adam(0.1)\n",
    "initial_angles = random_angles(num_free_angles, key=random.PRNGKey(6))\n",
    "# initial_angles = free_angles_target+0.1\n",
    "opt_state = opt.init(initial_angles)\n",
    "num_matrix_entries = len(u_target.reshape(-1))\n",
    "\n",
    "loss_and_grad = value_and_grad(frobenius_loss, argnums=0)\n",
    "\n",
    "angles = initial_angles\n",
    "angles_history = []\n",
    "loss_history = []\n",
    "for i in range(num_iterations):\n",
    "    key, subkey = random.split(key)\n",
    "    \n",
    "    minibatch = jnp.sort(random.choice(subkey, jnp.arange(num_matrix_entries), (minibatch_size, ), replace=False))\n",
    "    minibatch = jnp.array([1 if i in minibatch else 0 for i in range(num_matrix_entries)])\n",
    "    ## !!Warining! overriding sensible behaviour!!\n",
    "    minibatch = jnp.array([1 if i<5 else 0 for i in range(num_matrix_entries)])\n",
    "    minibatch = random.shuffle(random.PRNGKey(1), minibatch)\n",
    "    \n",
    "    angles, opt_state, loss = batch_update_step(loss_and_grad, opt, opt_state, angles, minibatch)\n",
    "    angles_history.append(angles)\n",
    "    loss_history.append(loss)\n",
    "    \n",
    "full_loss_history = vmap(jit(lambda angs: frobenius_loss(angs, jnp.ones(num_matrix_entries))))(jnp.array(angles_history))"
   ]
  },
  {
   "cell_type": "code",
   "execution_count": 62,
   "id": "9879ac9c-ea94-4a11-a3d9-b356b39bc855",
   "metadata": {},
   "outputs": [
    {
     "data": {
      "image/png": "[encoded data removed]",
      "text/plain": [
       "<Figure size 432x288 with 1 Axes>"
      ]
     },
     "metadata": {
      "needs_background": "light"
     },
     "output_type": "display_data"
    }
   ],
   "source": [
    "plt.plot(loss_history, label='minibatch')\n",
    "plt.plot(full_loss_history, label='full')\n",
    "plt.legend()\n",
    "plt.yscale('log')"
   ]
  },
  {
   "cell_type": "markdown",
   "id": "c8b09bf3-b7bf-40d2-a17d-927b3a399aa0",
   "metadata": {
    "tags": [],
    "toc-hr-collapsed": true
   },
   "source": [
    "# Weighted Frobenius optimization."
   ]
  },
  {
   "cell_type": "code",
   "execution_count": 76,
   "id": "83250e0e-00c4-417a-b805-f4b60aeb29ab",
   "metadata": {},
   "outputs": [
    {
     "data": {
      "image/png": "[encoded data removed]",
      "text/plain": [
       "<Figure size 432x288 with 1 Axes>"
      ]
     },
     "metadata": {
      "needs_background": "light"
     },
     "output_type": "display_data"
    }
   ],
   "source": [
    "num_qubits = 3\n",
    "anz = Ansatz(num_qubits, 'cz', fill_layers(sequ_layer(num_qubits), 4))\n",
    "\n",
    "angles_target = random_angles(anz.num_angles, key=random.PRNGKey(1004))\n",
    "u_target = anz.unitary(angles_target)\n",
    "\n",
    "num_free_angles = 13\n",
    "indices = jnp.sort(random.choice(random.PRNGKey(100), jnp.arange(anz.num_angles), shape=(num_free_angles, ), replace=False))\n",
    "free_angles_target = jnp.array([angles_target[i] for i in indices])\n",
    "\n",
    "constrained_u = u_func_constrained(anz.unitary, angles_target, indices)\n",
    "\n",
    "r = 0.0001\n",
    "\n",
    "def multi_loss(params):\n",
    "    angles = params[:num_free_angles]\n",
    "    lambdas = params[num_free_angles:4**num_qubits+num_free_angles]\n",
    "    u_diff=constrained_u(angles)-u_target\n",
    "    u_diff = u_diff.reshape(-1)\n",
    "    \n",
    "    return jnp.real(((lambdas)**2 * u_diff * u_diff.conj()+r*(1-lambdas)**2).sum())\n",
    "\n",
    "initial_angles = random_angles(num_free_angles, key=random.PRNGKey(2))\n",
    "\n",
    "initial_lambdas = jnp.ones((4**num_qubits, ))\n",
    "initial_params = jnp.concatenate([initial_angles, initial_lambdas])\n",
    "\n",
    "ah, lh = optax_minimize(multi_loss, num_free_angles+4**num_qubits, optax.adam(0.01), initial_params=initial_params, num_iterations=20000)\n",
    "plt.plot(lh)\n",
    "plt.yscale('log')"
   ]
  },
  {
   "cell_type": "code",
   "execution_count": 77,
   "id": "f8183044-0cb1-4bdb-a7cd-6bba2e8cd4b7",
   "metadata": {},
   "outputs": [
    {
     "data": {
      "image/png": "[encoded data removed]",
      "text/plain": [
       "<Figure size 432x288 with 1 Axes>"
      ]
     },
     "metadata": {
      "needs_background": "light"
     },
     "output_type": "display_data"
    }
   ],
   "source": [
    "ah1, lh1 = unitary_learn(constrained_u, \n",
    "                                  u_target, \n",
    "                                  anz.num_angles, \n",
    "                                  'adam', \n",
    "                                  0.01, \n",
    "                                  initial_params=ah[-1][:num_free_angles],\n",
    "                                  target_loss=1e-4)\n",
    "\n",
    "plt.plot(lh1)\n",
    "plt.yscale('log')"
   ]
  },
  {
   "cell_type": "code",
   "execution_count": 96,
   "id": "e12f1767-0c1e-4f62-aed4-f0b22946baef",
   "metadata": {},
   "outputs": [
    {
     "data": {
      "image/png": "[encoded data removed]",
      "text/plain": [
       "<Figure size 432x288 with 1 Axes>"
      ]
     },
     "metadata": {
      "needs_background": "light"
     },
     "output_type": "display_data"
    }
   ],
   "source": [
    "num_qubits = 3\n",
    "anz = Ansatz(num_qubits, 'cz', fill_layers(sequ_layer(num_qubits), 4))\n",
    "\n",
    "angles_target = random_angles(anz.num_angles, key=random.PRNGKey(1004))\n",
    "u_target = anz.unitary(angles_target)\n",
    "\n",
    "num_free_angles = 13\n",
    "indices = jnp.sort(random.choice(random.PRNGKey(100), jnp.arange(anz.num_angles), shape=(num_free_angles, ), replace=False))\n",
    "free_angles_target = jnp.array([angles_target[i] for i in indices])\n",
    "\n",
    "constrained_u = u_func_constrained(anz.unitary, angles_target, indices)\n",
    "\n",
    "r = 0.000001\n",
    "\n",
    "def multi_loss(params):\n",
    "    angles = params[:num_free_angles]\n",
    "    lambdas = params[num_free_angles:4**num_qubits+num_free_angles]\n",
    "    u_diff=constrained_u(angles)-u_target\n",
    "    u_diff = u_diff.reshape(-1)\n",
    "    \n",
    "    return jnp.real(((lambdas)**2 * u_diff * u_diff.conj()+r*(1-lambdas)**2).sum())\n",
    "\n",
    "initial_angles = random_angles(num_free_angles, key=random.PRNGKey(2))\n",
    "\n",
    "initial_lambdas = jnp.ones((4**num_qubits, ))\n",
    "initial_params = jnp.concatenate([initial_angles, initial_lambdas])\n",
    "\n",
    "ah, lh = optax_minimize(multi_loss, num_free_angles+4**num_qubits, optax.adam(0.01), initial_params=initial_params, num_iterations=20000)\n",
    "plt.plot(lh)\n",
    "plt.yscale('log')"
   ]
  },
  {
   "cell_type": "code",
   "execution_count": 97,
   "id": "856a6038-a27d-4f14-b149-b0296343d7e4",
   "metadata": {},
   "outputs": [
    {
     "data": {
      "image/png": "[encoded data removed]",
      "text/plain": [
       "<Figure size 432x288 with 1 Axes>"
      ]
     },
     "metadata": {
      "needs_background": "light"
     },
     "output_type": "display_data"
    }
   ],
   "source": [
    "ah1, lh1 = unitary_learn(constrained_u, \n",
    "                                  u_target, \n",
    "                                  anz.num_angles, \n",
    "                                  'adam', \n",
    "                                  0.01, \n",
    "                                  initial_params=ah[-1][:num_free_angles],\n",
    "                                  target_loss=1e-4)\n",
    "\n",
    "plt.plot(lh1)\n",
    "plt.yscale('log')"
   ]
  },
  {
   "cell_type": "markdown",
   "id": "9dca0353-e605-4aed-8601-a23eb0e38025",
   "metadata": {
    "tags": [],
    "toc-hr-collapsed": true
   },
   "source": [
    "# Poisson optimization"
   ]
  },
  {
   "cell_type": "code",
   "execution_count": 45,
   "id": "f6a346e2-2d91-4105-9a3e-7288c27ac143",
   "metadata": {},
   "outputs": [],
   "source": [
    "anz = Ansatz(3, 'cz', fill_layers(sequ_layer(3), 4))\n",
    "\n",
    "angles_target = random_angles(anz.num_angles, key=random.PRNGKey(1006))\n",
    "u_target = anz.unitary(angles_target)\n",
    "pre_loss = lambda angles: trace_prod(u_target, anz.unitary(angles))\n",
    "\n",
    "num_free_angles = 13\n",
    "indices = jnp.sort(random.choice(random.PRNGKey(100), jnp.arange(anz.num_angles), shape=(num_free_angles, ), replace=False))\n",
    "\n",
    "constrained_u = u_func_constrained(anz.unitary, angles_target, indices)\n",
    "constrained_pre_loss = u_func_constrained(pre_loss, angles_target, indices)"
   ]
  },
  {
   "cell_type": "code",
   "execution_count": 46,
   "id": "5dd2b26c-bd6a-4944-881b-42127430354a",
   "metadata": {},
   "outputs": [
    {
     "name": "stdout",
     "output_type": "stream",
     "text": [
      "0.9994712\n",
      "0.9994712\n"
     ]
    }
   ],
   "source": [
    "# Check that pre_loss reproduces our loss\n",
    "free_angles_sample = random_angles(num_free_angles)\n",
    "\n",
    "print(disc2(u_target, constrained_u(free_angles_sample)))\n",
    "print(1 - jnp.abs(constrained_pre_loss(free_angles_sample)) ** 2 / 8 ** 2)"
   ]
  },
  {
   "cell_type": "code",
   "execution_count": 47,
   "id": "ae300505-f383-4f99-8de1-86721d713a9f",
   "metadata": {},
   "outputs": [],
   "source": [
    "coeffs_array = trigonometric_coefficients(constrained_pre_loss, num_free_angles).reshape([2]*num_free_angles)\n",
    "def ABcoeffs(coeffs_array, i):\n",
    "    W0 = jnp.take(coeffs_array, indices=0, axis=i)\n",
    "    W1 = jnp.take(coeffs_array, indices=1, axis=i)\n",
    "    A = -(W0*W0.conj()-W1*W1.conj()).sum()/2\n",
    "    B = -(W0*W1.conj()).sum()\n",
    "    return jnp.real(A), jnp.real(B)\n",
    "\n",
    "def AB_angle(A, B):\n",
    "    AB_func = lambda x: A*jnp.cos(x)+B*jnp.sin(x)\n",
    "    return min_angle(AB_func)\n",
    "\n",
    "guess_angles = jnp.array([AB_angle(*ABcoeffs(coeffs_array, i)) for i in range(num_free_angles)])"
   ]
  },
  {
   "cell_type": "code",
   "execution_count": 48,
   "id": "9f9f2a69-58ae-400d-84f9-653f75113471",
   "metadata": {},
   "outputs": [
    {
     "name": "stdout",
     "output_type": "stream",
     "text": [
      "0.0\n"
     ]
    }
   ],
   "source": [
    "ah, lh, sh = unitary_learn_repeat(constrained_u, \n",
    "                                  u_target, \n",
    "                                  anz.num_angles, \n",
    "                                  'adam', \n",
    "                                  0.1, \n",
    "                                  num_repeats=10, \n",
    "                                  target_loss=1e-4)\n",
    "\n",
    "print(sum(sh)/len(sh))"
   ]
  },
  {
   "cell_type": "code",
   "execution_count": 49,
   "id": "e2b21bc0-1d26-41a3-bcf9-db22ec2f0e41",
   "metadata": {},
   "outputs": [],
   "source": [
    "ah, lh = unitary_learn(constrained_u, \n",
    "                                  u_target, \n",
    "                                  anz.num_angles, \n",
    "                                  'natural adam', \n",
    "                                  0.1, \n",
    "                                  initial_params=guess_angles,\n",
    "                                  target_loss=1e-4)\n"
   ]
  },
  {
   "cell_type": "code",
   "execution_count": 50,
   "id": "1b972304-62eb-4a1a-956f-d14eaef9cc8c",
   "metadata": {},
   "outputs": [
    {
     "data": {
      "image/png": "[encoded data removed]",
      "text/plain": [
       "<Figure size 432x288 with 1 Axes>"
      ]
     },
     "metadata": {
      "needs_background": "light"
     },
     "output_type": "display_data"
    }
   ],
   "source": [
    "plt.plot(lh)\n",
    "plt.yscale('log')"
   ]
  }
 ],
 "metadata": {
  "kernelspec": {
   "display_name": "Python 3",
   "language": "python",
   "name": "python3"
  },
  "language_info": {
   "codemirror_mode": {
    "name": "ipython",
    "version": 3
   },
   "file_extension": ".py",
   "mimetype": "text/x-python",
   "name": "python",
   "nbconvert_exporter": "python",
   "pygments_lexer": "ipython3",
   "version": "3.8.10"
  },
  "widgets": {
   "application/vnd.jupyter.widget-state+json": {
    "state": {},
    "version_major": 2,
    "version_minor": 0
   }
  }
 },
 "nbformat": 4,
 "nbformat_minor": 5
}
