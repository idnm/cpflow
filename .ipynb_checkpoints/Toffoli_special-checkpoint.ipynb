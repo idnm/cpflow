{
 "cells": [
  {
   "cell_type": "code",
   "execution_count": 1,
   "id": "9c4d7d00-5e25-413e-bf62-5cb047770f3c",
   "metadata": {},
   "outputs": [
    {
     "name": "stderr",
     "output_type": "stream",
     "text": [
      "WARNING:absl:No GPU/TPU found, falling back to CPU. (Set TF_CPP_MIN_LOG_LEVEL=0 and rerun for more info.)\n"
     ]
    }
   ],
   "source": [
    "from jax_circuits import *\n",
    "from scipy.stats import unitary_group\n",
    "import matplotlib.pyplot as plt\n",
    "\n",
    "import time\n",
    "import pickle\n",
    "\n",
    "from qiskit import transpile\n",
    "from qiskit.quantum_info import Operator\n",
    "\n",
    "from topology import *\n",
    "\n",
    "from jax import custom_jvp, jvp, grad\n",
    "from jax.scipy.optimize import minimize\n",
    "\n",
    "key = random.PRNGKey(42)"
   ]
  },
  {
   "cell_type": "markdown",
   "id": "c23e4b11-6563-47e3-b913-48775e0c3fa7",
   "metadata": {},
   "source": [
    "Number of ideas to try in optimization of Toffoli gates\n",
    "- Try to use ancillas\n",
    "- Try to find decompositions up to swaps"
   ]
  },
  {
   "cell_type": "markdown",
   "id": "66399440-5a90-4339-a833-9b42ddd746d4",
   "metadata": {},
   "source": [
    "# Toffoli 3"
   ]
  },
  {
   "cell_type": "code",
   "execution_count": 2,
   "id": "c9e69ab0-171e-4e05-b055-b3142cbd9ee1",
   "metadata": {},
   "outputs": [],
   "source": [
    "qc = QuantumCircuit(3)\n",
    "qc.ccx(0, 1, 2)\n",
    "u_toff3 = Operator(qc.reverse_bits()).data"
   ]
  },
  {
   "cell_type": "markdown",
   "id": "31c7cf69-b653-4874-9371-fa8252f09806",
   "metadata": {},
   "source": [
    "## Randomized learning"
   ]
  },
  {
   "cell_type": "code",
   "execution_count": 15,
   "id": "6c56a642-11b7-43e2-a8ed-24d41925508a",
   "metadata": {},
   "outputs": [],
   "source": [
    "def random_placements(num_qubits, num_gates, coupling_map=None, key=random.PRNGKey(0)):\n",
    "    placements = []\n",
    "    for _ in range(num_gates):\n",
    "        key, subkey = random.split(key)\n",
    "        placements.append(random_placement(num_qubits, coupling_map=coupling_map, key=subkey))\n",
    "    return placements\n",
    "\n",
    "def random_placement(num_qubits, coupling_map=None, key=random.PRNGKey(0)):\n",
    "    return list(random.choice(key, jnp.arange(num_qubits), (2, ), replace=False))    "
   ]
  }
 ],
 "metadata": {
  "kernelspec": {
   "display_name": "Python 3",
   "language": "python",
   "name": "python3"
  },
  "language_info": {
   "codemirror_mode": {
    "name": "ipython",
    "version": 3
   },
   "file_extension": ".py",
   "mimetype": "text/x-python",
   "name": "python",
   "nbconvert_exporter": "python",
   "pygments_lexer": "ipython3",
   "version": "3.8.10"
  },
  "widgets": {
   "application/vnd.jupyter.widget-state+json": {
    "state": {},
    "version_major": 2,
    "version_minor": 0
   }
  }
 },
 "nbformat": 4,
 "nbformat_minor": 5
}
