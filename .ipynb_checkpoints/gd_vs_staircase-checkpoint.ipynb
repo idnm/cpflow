{
 "cells": [
  {
   "cell_type": "code",
   "execution_count": 1,
   "id": "723fc597-de54-4362-b31f-16cc45e287e7",
   "metadata": {},
   "outputs": [
    {
     "name": "stderr",
     "output_type": "stream",
     "text": [
      "WARNING:absl:No GPU/TPU found, falling back to CPU. (Set TF_CPP_MIN_LOG_LEVEL=0 and rerun for more info.)\n"
     ]
    }
   ],
   "source": [
    "from jax_circuits import *\n",
    "from scipy.stats import unitary_group\n",
    "import matplotlib.pyplot as plt\n",
    "\n",
    "import time\n",
    "\n",
    "from qiskit import transpile\n",
    "from qiskit.quantum_info import Operator\n",
    "\n",
    "from topology import *\n",
    "\n",
    "from jax import custom_jvp, jvp, grad\n",
    "from jax.scipy.optimize import minimize\n",
    "\n",
    "key = random.PRNGKey(0)"
   ]
  },
  {
   "cell_type": "markdown",
   "id": "08f6a53d-1959-406f-9088-3bdd03bb1768",
   "metadata": {},
   "source": [
    "# Gradient descent vs Staircase"
   ]
  },
  {
   "cell_type": "markdown",
   "id": "d0f46457-f891-448e-809f-eb972dd6bedb",
   "metadata": {},
   "source": [
    "Test circuit."
   ]
  },
  {
   "cell_type": "code",
   "execution_count": 7,
   "id": "bcb37304-c110-4092-ade9-a7bfd247c175",
   "metadata": {},
   "outputs": [],
   "source": [
    "# Unpack layer for better resemblamce of random circuits.\n",
    "layers_dict =  fill_layers(sequ_layer(3), 14)\n",
    "p_periodic, n  = layers_dict['layers']\n",
    "p_free = layers_dict['free']\n",
    "\n",
    "\n",
    "a = Ansatz(3, 'cz', {'free':p_periodic*n+p_free})\n",
    "u_target = a.unitary(jnp.array(range(a.n_angles), dtype='float32'))\n",
    "    \n",
    "key, subkey = random.split(key)    \n",
    "initial_angles  = random.uniform(random.PRNGKey(0), shape=(a.n_angles, ), minval=0, maxval=2*jnp.pi)"
   ]
  },
  {
   "cell_type": "markdown",
   "id": "dd0e457e-7183-4476-ac03-683d76fe6ea7",
   "metadata": {},
   "source": [
    "Timing a single update step."
   ]
  },
  {
   "cell_type": "code",
   "execution_count": 3,
   "id": "b50dd1bc-e369-43e0-ba96-a319ed8ed211",
   "metadata": {},
   "outputs": [],
   "source": [
    "opt = optax.adam(0.01)\n",
    "opt_state = opt.init(initial_angles)\n",
    "def discr(angles):\n",
    "    return disc2(a.unitary(angles), u_target)\n",
    "                 \n",
    "loss_and_grad = value_and_grad(discr)\n",
    "\n",
    "def angles_gd():\n",
    "    return gradient_descent_update(loss_and_grad, opt, opt_state, initial_angles)\n",
    "\n",
    "def angles_sc():\n",
    "    return staircase_update(discr, initial_angles)\n",
    "\n",
    "# To exclude compilation time\n",
    "_ = angles_gd()\n",
    "_ = angles_sc()"
   ]
  },
  {
   "cell_type": "code",
   "execution_count": 4,
   "id": "03de272c-7618-4d2e-8844-ec6e605bd074",
   "metadata": {},
   "outputs": [
    {
     "name": "stdout",
     "output_type": "stream",
     "text": [
      "60.5 µs ± 856 ns per loop (mean ± std. dev. of 7 runs, 10000 loops each)\n",
      "2.25 ms ± 49.4 µs per loop (mean ± std. dev. of 7 runs, 1000 loops each)\n"
     ]
    }
   ],
   "source": [
    "%timeit angles_gd()\n",
    "%timeit angles_sc()"
   ]
  },
  {
   "cell_type": "markdown",
   "id": "17cb40d2-4459-4ae5-980b-3a1e0882bc78",
   "metadata": {},
   "source": [
    "Timing full learning cycle."
   ]
  },
  {
   "cell_type": "code",
   "execution_count": 8,
   "id": "561edf68-291e-4c34-96c4-c1ca987d8792",
   "metadata": {},
   "outputs": [
    {
     "name": "stdout",
     "output_type": "stream",
     "text": [
      "CPU times: user 19.1 s, sys: 345 ms, total: 19.5 s\n",
      "Wall time: 18.4 s\n"
     ]
    }
   ],
   "source": [
    "%%time\n",
    "angles_history_gd, loss_history_gd = gradient_descent_learn(a.unitary, u_target, a.n_angles, \n",
    "                                                            initial_angles=initial_angles, \n",
    "                                                            n_iterations=5000)"
   ]
  },
  {
   "cell_type": "code",
   "execution_count": 9,
   "id": "15ffcf6e-3284-4d03-98a2-44aa8d7e722c",
   "metadata": {},
   "outputs": [
    {
     "name": "stdout",
     "output_type": "stream",
     "text": [
      "CPU times: user 42.2 s, sys: 146 ms, total: 42.3 s\n",
      "Wall time: 41.5 s\n"
     ]
    }
   ],
   "source": [
    "%%time\n",
    "angles_history_sc, loss_history_sc = staircase_learn(a.unitary, u_target, a.n_angles,\n",
    "                                                     initial_angles=initial_angles, \n",
    "                                                     n_iterations=5000, \n",
    "                                                     keep_history=True)"
   ]
  },
  {
   "cell_type": "markdown",
   "id": "8a462b7a-500c-414f-b76b-50bea4480347",
   "metadata": {},
   "source": [
    "Here is an additional learning method, which starts with SC updates and finishes with GD updates. Perhaps the runtime here can be increased significantly if we do not jit-compile SC iterations."
   ]
  },
  {
   "cell_type": "code",
   "execution_count": 10,
   "id": "ebc9362f-bf5f-498b-8812-1090af820236",
   "metadata": {},
   "outputs": [
    {
     "name": "stdout",
     "output_type": "stream",
     "text": [
      "CPU times: user 38.9 s, sys: 382 ms, total: 39.3 s\n",
      "Wall time: 37.9 s\n"
     ]
    }
   ],
   "source": [
    "%%time\n",
    "angles_history_hd, loss_history_hd = hybrid_learn(a.unitary, u_target, a.n_angles,\n",
    "                                                     initial_angles=initial_angles, \n",
    "                                                     n_stairs = 10,\n",
    "                                                     n_iterations=5000, \n",
    "                                                     keep_history=True)"
   ]
  },
  {
   "cell_type": "code",
   "execution_count": 11,
   "id": "cab83202-eb59-46ee-a665-9983d8d6b748",
   "metadata": {},
   "outputs": [
    {
     "data": {
      "image/png": "[encoded data removed]",
      "text/plain": [
       "<Figure size 432x288 with 1 Axes>"
      ]
     },
     "metadata": {
      "needs_background": "light"
     },
     "output_type": "display_data"
    }
   ],
   "source": [
    "plt.plot(loss_history_gd, label='gd')\n",
    "plt.plot(loss_history_sc, label='sc')\n",
    "plt.plot(loss_history_hd, label='hd')\n",
    "plt.legend()         \n",
    "plt.yscale('log')"
   ]
  },
  {
   "cell_type": "markdown",
   "id": "b9ddc6e8-272f-42f3-aec7-5563d6cc04a5",
   "metadata": {},
   "source": [
    "Implications: staricase (SC) seems to converge much faster initially, but much slower to reach very high fidelity. Learning runtime is better for gradient descent (GD) due to much faster single update step. With GD all angles are updated simultaneously while SC updates them one by one. Updating all angles within a single SC step seems to ruin the convergence. A good option might be to update them in batches. That would speed up the learning. Also note that GD and SC generally converge to different local minimums. GD seems to usually find better local minimum than SC but perhaps this is bad statistics on my side."
   ]
  }
 ],
 "metadata": {
  "kernelspec": {
   "display_name": "Python 3",
   "language": "python",
   "name": "python3"
  },
  "language_info": {
   "codemirror_mode": {
    "name": "ipython",
    "version": 3
   },
   "file_extension": ".py",
   "mimetype": "text/x-python",
   "name": "python",
   "nbconvert_exporter": "python",
   "pygments_lexer": "ipython3",
   "version": "3.8.10"
  },
  "widgets": {
   "application/vnd.jupyter.widget-state+json": {
    "state": {},
    "version_major": 2,
    "version_minor": 0
   }
  }
 },
 "nbformat": 4,
 "nbformat_minor": 5
}
