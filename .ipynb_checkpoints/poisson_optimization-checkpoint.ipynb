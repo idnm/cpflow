{
 "cells": [
  {
   "cell_type": "code",
   "execution_count": 1,
   "id": "e3e2ecf9-bbac-408c-8979-4976e05df9a3",
   "metadata": {},
   "outputs": [
    {
     "name": "stderr",
     "output_type": "stream",
     "text": [
      "WARNING:absl:No GPU/TPU found, falling back to CPU. (Set TF_CPP_MIN_LOG_LEVEL=0 and rerun for more info.)\n"
     ]
    }
   ],
   "source": [
    "from jax_circuits import *\n",
    "from scipy.stats import unitary_group\n",
    "import matplotlib.pyplot as plt\n",
    "\n",
    "import time\n",
    "import pickle\n",
    "\n",
    "from qiskit import transpile\n",
    "from qiskit.quantum_info import Operator\n",
    "\n",
    "from topology import *\n",
    "\n",
    "from jax import custom_jvp, jvp, grad\n",
    "from jax.scipy.optimize import minimize\n",
    "\n",
    "key = random.PRNGKey(42)"
   ]
  },
  {
   "cell_type": "markdown",
   "id": "8abd164f-5e1d-414c-937e-5ad62264e1a2",
   "metadata": {
    "tags": []
   },
   "source": [
    "# Random losses"
   ]
  },
  {
   "cell_type": "code",
   "execution_count": 2,
   "id": "95b00d31-3aad-463e-963b-8b01c9701f8d",
   "metadata": {},
   "outputs": [],
   "source": [
    "def int_to_list(n, size):\n",
    "    \"\"\"Examples:\n",
    "        (10, 5) -> [0, 1, 0, 1, 0]\n",
    "        (11, 6) -> [0, 0, 1, 0, 1, 0]\n",
    "        (11, 6) -> [0, 0, 1, 0, 1, 1] \"\"\"\n",
    "    n_str = format(n, 'b')\n",
    "    assert len(n_str)<=size, 'Integer {} too big to be converted to size {}'.format(n, size)\n",
    "    \n",
    "    zero_pad = '0'*(size-len(n_str))\n",
    "    n_str = zero_pad + n_str\n",
    "    \n",
    "    return [int(b) for b in n_str]\n",
    "\n",
    "def all_binary_strings(size):\n",
    "    \"\"\"Example, size=3:\n",
    "        [[0, 0, 0],\n",
    "         [0, 0, 1],\n",
    "         [0, 1, 0],\n",
    "         [0, 1, 1],\n",
    "         [1, 0, 0],\n",
    "         [1, 0, 1],\n",
    "         [1, 1, 0],\n",
    "         [1, 1, 1]]\n",
    "    \"\"\"\n",
    "    \n",
    "    max_n = int('1'*size, 2)+1\n",
    "    return [int_to_list(n, size) for n in range(max_n)]\n",
    "\n",
    "def cos_sin_monomials(angles, n_angles):\n",
    "    \"\"\"Example angles=(a0, a1) n_angles=2:\n",
    "    [cos a0/2 cos a1/2,\n",
    "     cos a0/2 sin a1/2,\n",
    "     sin a0/2 cos a1/2,\n",
    "     sin a0/2 sin a1/2]\n",
    "    \"\"\"\n",
    "    powers = 1-jnp.array(all_binary_strings(int(n_angles)))\n",
    "    cos_sin_array = jnp.cos(angles/2)**powers * jnp.sin(angles/2)**(1-powers)\n",
    "    cos_sin_monomials = jnp.prod(cos_sin_array, axis=1)\n",
    "    return cos_sin_monomials\n",
    "\n",
    "def trigonometric_sum_func(coeffs, n_angles):\n",
    "    \"\"\"Example coefss=[1,2,3,4], n_angles=2:\n",
    "        1*cos a0/2 cos a1/2+2*cos a0/2 sin a1/2+3*sin a0/2 cos a1/2+4*sin a0/2 sin a1/2\"\"\"\n",
    "    return lambda angles: jnp.tensordot(cos_sin_monomials(angles, n_angles), coeffs, axes=1)\n",
    "\n",
    "def trigonometric_coefficients(f, n_angles):\n",
    "    \"\"\"Example n_angles=2: \n",
    "        1*cos a0/2 cos a1/2+2*cos a0/2 sin a1/2+3*sin a0/2 cos a1/2+4*sin a0/2 sin a1/2 -> [1,2,3,4]\"\"\"\n",
    "    all_vertices = jnp.pi*jnp.array(all_binary_strings(int(n_angles)))\n",
    "    return vmap(f)(all_vertices)"
   ]
  },
  {
   "cell_type": "markdown",
   "id": "134b819b-ffeb-4cba-a65b-52c9ca169ce2",
   "metadata": {},
   "source": [
    "Illustration."
   ]
  },
  {
   "cell_type": "code",
   "execution_count": 3,
   "id": "dbdf18ca-8997-450f-8fab-5a6e42005564",
   "metadata": {},
   "outputs": [
    {
     "data": {
      "text/plain": [
       "[<matplotlib.lines.Line2D at 0x7fbf0c0975b0>]"
      ]
     },
     "execution_count": 3,
     "metadata": {},
     "output_type": "execute_result"
    },
    {
     "data": {
      "image/png": "[encoded data removed]",
      "text/plain": [
       "<Figure size 432x288 with 1 Axes>"
      ]
     },
     "metadata": {
      "needs_background": "light"
     },
     "output_type": "display_data"
    }
   ],
   "source": [
    "coeffs0=jnp.array([1, 2, 3, 4], dtype='float32') # Define coefficients\n",
    "n_angles0 = int(jnp.log2(len(coeffs0))) # Number of angles is log 2 of number of coefficients.\n",
    "\n",
    "f0 = trigonometric_sum_func(coeffs0, n_angles0) # Define function with precsribed coefficients\n",
    "\n",
    "# Choose random y and sweep over x to compare explicit funciton and the one defined implicitly.\n",
    "x_sweep = jnp.linspace(-2*jnp.pi, 2*jnp.pi, 1000)\n",
    "y = 0.3\n",
    "\n",
    "plt.plot(x_sweep, vmap(lambda x: f0(jnp.array([x, y], dtype='float32')))(x_sweep))\n",
    "plt.plot(x_sweep, jnp.cos(x_sweep/2)*jnp.cos(y/2)+\n",
    "         2*jnp.cos(x_sweep/2)*jnp.sin(y/2)+\n",
    "         3*jnp.sin(x_sweep/2)*jnp.cos(y/2)+\n",
    "         4*jnp.sin(x_sweep/2)*jnp.sin(y/2)+0.1) # SHift added for clarity."
   ]
  },
  {
   "cell_type": "markdown",
   "id": "f97d9156-07e6-4f08-b988-b57ed32070ea",
   "metadata": {},
   "source": [
    "Now let us see whether local minima are problematic for random trigonometric sums."
   ]
  },
  {
   "cell_type": "code",
   "execution_count": 4,
   "id": "eba619e7-81e9-4362-b282-04103c273af8",
   "metadata": {},
   "outputs": [],
   "source": [
    "def random_trigonometric_loss(num_angles, key=random.PRNGKey(0)):\n",
    "    key, subkey = random.split(key)\n",
    "    unbalanced_coeffs = random.uniform(subkey, shape=(2, 2**num_angles, ), minval=0, maxval=1)\n",
    "    unbalanced_coeffs = unbalanced_coeffs[0]+1j*unbalaced_coeffs[1]\n",
    "    unbalanced_f = trigonometric_sum_func(unbalanced_coeffs, num_angles)\n",
    "    \n",
    "    key, subkey = random.split(key)\n",
    "    min_angles = random_angles(num_angles, key=subkey)\n",
    "    \n",
    "    c0 =unbalanced_coeffs[0] - unbalanced_f(min_angles)/cos_sin_monomials(min_angles, num_angles)[0]\n",
    "    balanced_coeffs = unbalanced_coeffs.at[0].set(c0)\n",
    "    \n",
    "    balanced_f = trigonometric_sum_func(balanced_coeffs, num_angles)\n",
    "    \n",
    "    return lambda angles: jnp.abs(balanced_f(angles))**2"
   ]
  },
  {
   "cell_type": "code",
   "execution_count": 198,
   "id": "b2f6a84a-2a1a-4076-894d-177912cee0dc",
   "metadata": {},
   "outputs": [
    {
     "name": "stdout",
     "output_type": "stream",
     "text": [
      "CPU times: user 14.6 s, sys: 153 ms, total: 14.8 s\n",
      "Wall time: 8.57 s\n"
     ]
    }
   ],
   "source": [
    "%%time\n",
    "num_angles = 14\n",
    "loss_func = random_trigonometric_loss(num_angles, key=random.PRNGKey(5))\n",
    "ah, lh = optax_minimize(loss_func, num_angles, optax.adam(0.1))"
   ]
  },
  {
   "cell_type": "code",
   "execution_count": 199,
   "id": "5275bfae-4ccc-47f2-8362-8a089099ee94",
   "metadata": {},
   "outputs": [
    {
     "data": {
      "image/png": "[encoded data removed]",
      "text/plain": [
       "<Figure size 432x288 with 1 Axes>"
      ]
     },
     "metadata": {
      "needs_background": "light"
     },
     "output_type": "display_data"
    }
   ],
   "source": [
    "plt.plot(lh)\n",
    "plt.yscale('log')"
   ]
  },
  {
   "cell_type": "markdown",
   "id": "4440e1ed-22c6-4038-a68d-36f9381c19df",
   "metadata": {},
   "source": [
    "It appears that under 15 or so angles the local minumums are not problematic for random trigonometric functions. Going above 15 angles seems to be too expensive. However, in the next section we will find realistic examples that have local minumums and not too much parameters."
   ]
  },
  {
   "cell_type": "markdown",
   "id": "3aad3f32-b69b-441a-90c2-c0e53b0cb8d6",
   "metadata": {
    "tags": []
   },
   "source": [
    "# Unitary losses"
   ]
  },
  {
   "cell_type": "markdown",
   "id": "c08fe448-74df-453e-a592-826e4c606c9f",
   "metadata": {},
   "source": [
    "It seems that good examples of local minimum problem can be found if we take a circuit with many cnot but fix some of the angles (to bring the number of parameters down). Here is an example."
   ]
  },
  {
   "cell_type": "code",
   "execution_count": 5,
   "id": "861f7401-eb5f-43f6-962a-a6ac3378597f",
   "metadata": {},
   "outputs": [],
   "source": [
    "def insert_angles(angles, insertion_angles, indices):\n",
    "    new_angles = angles\n",
    "    for a, i in zip(insertion_angles, indices):\n",
    "        new_angles = new_angles.at[i].set(a)\n",
    "    return new_angles\n",
    "\n",
    "def u_func_constrained(u_func, target_angles, indices):\n",
    "    return lambda free_angles: u_func(insert_angles(target_angles, free_angles, indices))"
   ]
  },
  {
   "cell_type": "markdown",
   "id": "be7b2f32-b48e-41ff-a3e8-cb80562abdab",
   "metadata": {},
   "source": [
    "Initial angles in the definition of the target can be changed with the local minimum problem being fairly robust. This way one can obtain a series of examples to test against optimization ideas."
   ]
  },
  {
   "cell_type": "code",
   "execution_count": 234,
   "id": "eea2598a-fb47-4928-adbe-dc377432f6ba",
   "metadata": {},
   "outputs": [
    {
     "name": "stdout",
     "output_type": "stream",
     "text": [
      "CPU times: user 3min 14s, sys: 5.59 s, total: 3min 19s\n",
      "Wall time: 3min 2s\n"
     ]
    }
   ],
   "source": [
    "%%time\n",
    "\n",
    "anz = Ansatz(3, 'cz', fill_layers(sequ_layer(3), 4))\n",
    "\n",
    "angles_target = random_angles(anz.num_angles, key=random.PRNGKey(1004))\n",
    "u_target = anz.unitary(angles_target)\n",
    "\n",
    "num_free_angles = 13\n",
    "indices = random.choice(random.PRNGKey(100), jnp.arange(anz.num_angles), shape=(num_free_angles, ))\n",
    "constrained_u = u_func_constrained(anz.unitary, angles_target, indices)\n",
    "\n",
    "ah, lh, sh = unitary_learn_repeat(constrained_u, \n",
    "                                  u_target, \n",
    "                                  anz.num_angles, \n",
    "                                  'adam', \n",
    "                                  0.1, \n",
    "                                  num_repeats=20, \n",
    "                                  target_loss=1e-4)"
   ]
  },
  {
   "cell_type": "code",
   "execution_count": 235,
   "id": "d3d947af-74f5-405d-b74f-b74b11366046",
   "metadata": {},
   "outputs": [
    {
     "data": {
      "text/plain": [
       "0.1"
      ]
     },
     "execution_count": 235,
     "metadata": {},
     "output_type": "execute_result"
    }
   ],
   "source": [
    "sum(sh)/len(sh)"
   ]
  },
  {
   "cell_type": "markdown",
   "id": "9dca0353-e605-4aed-8601-a23eb0e38025",
   "metadata": {},
   "source": [
    "# Poisson optimization"
   ]
  },
  {
   "cell_type": "code",
   "execution_count": 6,
   "id": "f6a346e2-2d91-4105-9a3e-7288c27ac143",
   "metadata": {},
   "outputs": [],
   "source": [
    "anz = Ansatz(3, 'cz', fill_layers(sequ_layer(3), 4))\n",
    "\n",
    "angles_target = random_angles(anz.num_angles, key=random.PRNGKey(1004))\n",
    "u_target = anz.unitary(angles_target)\n",
    "pre_loss = lambda angles: trace_prod(u_target, anz.unitary(angles))\n",
    "\n",
    "num_free_angles = 13\n",
    "indices = random.choice(random.PRNGKey(100), jnp.arange(anz.num_angles), shape=(num_free_angles, ))\n",
    "constrained_u = u_func_constrained(anz.unitary, angles_target, indices)\n",
    "constrained_pre_loss = u_func_constrained(pre_loss, angles_target, indices)"
   ]
  },
  {
   "cell_type": "code",
   "execution_count": 7,
   "id": "5dd2b26c-bd6a-4944-881b-42127430354a",
   "metadata": {},
   "outputs": [
    {
     "name": "stdout",
     "output_type": "stream",
     "text": [
      "0.99757725\n",
      "0.99757725\n"
     ]
    }
   ],
   "source": [
    "# Check that pre_loss reproduces our loss\n",
    "free_angles_sample = random_angles(num_free_angles)\n",
    "\n",
    "print(disc2(u_target, constrained_u(free_angles_sample)))\n",
    "print(1 - jnp.abs(constrained_pre_loss(free_angles_sample)) ** 2 / 8 ** 2)"
   ]
  },
  {
   "cell_type": "code",
   "execution_count": 8,
   "id": "ae300505-f383-4f99-8de1-86721d713a9f",
   "metadata": {},
   "outputs": [],
   "source": [
    "coeffs_array = trigonometric_coefficients(constrained_pre_loss, num_free_angles).reshape([2]*num_free_angles)\n",
    "def ABcoeffs(coeffs_array, i):\n",
    "    W0 = jnp.take(coeffs_array, indices=0, axis=i)\n",
    "    W1 = jnp.take(coeffs_array, indices=1, axis=i)\n",
    "    A = (W0*W0.conj()-W1*W1.conj()).sum()/2\n",
    "    B = (W0*W1.conj()).sum()\n",
    "    return jnp.real(A), jnp.real(B)\n",
    "\n",
    "def AB_angle(A, B):\n",
    "    AB_func = lambda x: A*jnp.cos(x)+B*jnp.sin(x)\n",
    "    return min_angle(AB_func)\n",
    "\n",
    "guess_angles = jnp.array([AB_angle(*ABcoeffs(coeffs_array, i)) for i in range(num_free_angles)])"
   ]
  },
  {
   "cell_type": "code",
   "execution_count": 9,
   "id": "9f9f2a69-58ae-400d-84f9-653f75113471",
   "metadata": {},
   "outputs": [],
   "source": [
    "ah, lh, sh = unitary_learn_repeat(constrained_u, \n",
    "                                  u_target, \n",
    "                                  anz.num_angles, \n",
    "                                  'adam', \n",
    "                                  0.1, \n",
    "                                  num_repeats=10, \n",
    "                                  target_loss=1e-4)\n"
   ]
  },
  {
   "cell_type": "code",
   "execution_count": 10,
   "id": "3bbbc917-d772-484d-8822-8855c537c8db",
   "metadata": {},
   "outputs": [
    {
     "name": "stdout",
     "output_type": "stream",
     "text": [
      "0.0\n"
     ]
    }
   ],
   "source": [
    "print(sum(sh)/len(sh))"
   ]
  },
  {
   "cell_type": "code",
   "execution_count": 13,
   "id": "37dfef1a-6f48-4679-8f14-5d294acb6ae7",
   "metadata": {},
   "outputs": [
    {
     "data": {
      "text/plain": [
       "[DeviceArray(5.247024, dtype=float32),\n",
       " DeviceArray(2.2169971, dtype=float32),\n",
       " DeviceArray(0.23789886, dtype=float32),\n",
       " DeviceArray(4.724446, dtype=float32),\n",
       " DeviceArray(1.8992922, dtype=float32),\n",
       " DeviceArray(1.8316195, dtype=float32),\n",
       " DeviceArray(1.5073549, dtype=float32),\n",
       " DeviceArray(5.173807, dtype=float32),\n",
       " DeviceArray(1.5073549, dtype=float32),\n",
       " DeviceArray(4.724446, dtype=float32),\n",
       " DeviceArray(1.961399, dtype=float32),\n",
       " DeviceArray(2.2169971, dtype=float32),\n",
       " DeviceArray(4.635669, dtype=float32)]"
      ]
     },
     "execution_count": 13,
     "metadata": {},
     "output_type": "execute_result"
    }
   ],
   "source": []
  },
  {
   "cell_type": "code",
   "execution_count": 16,
   "id": "e2b21bc0-1d26-41a3-bcf9-db22ec2f0e41",
   "metadata": {},
   "outputs": [],
   "source": [
    "ah, lh = unitary_learn(constrained_u, \n",
    "                                  u_target, \n",
    "                                  anz.num_angles, \n",
    "                                  'natural adam', \n",
    "                                  0.1, \n",
    "                                  initial_params=jnp.array([angles_target[i] for i in indices])+0.01,\n",
    "                                  target_loss=1e-4)\n"
   ]
  },
  {
   "cell_type": "code",
   "execution_count": 17,
   "id": "1b972304-62eb-4a1a-956f-d14eaef9cc8c",
   "metadata": {},
   "outputs": [
    {
     "data": {
      "image/png": "[encoded data removed]",
      "text/plain": [
       "<Figure size 432x288 with 1 Axes>"
      ]
     },
     "metadata": {
      "needs_background": "light"
     },
     "output_type": "display_data"
    }
   ],
   "source": [
    "plt.plot(lh)\n",
    "plt.yscale('log')\n"
   ]
  },
  {
   "cell_type": "code",
   "execution_count": null,
   "id": "f1064ea0-d7fe-4555-993a-2871356fc1b3",
   "metadata": {},
   "outputs": [],
   "source": []
  }
 ],
 "metadata": {
  "kernelspec": {
   "display_name": "Python 3",
   "language": "python",
   "name": "python3"
  },
  "language_info": {
   "codemirror_mode": {
    "name": "ipython",
    "version": 3
   },
   "file_extension": ".py",
   "mimetype": "text/x-python",
   "name": "python",
   "nbconvert_exporter": "python",
   "pygments_lexer": "ipython3",
   "version": "3.8.10"
  },
  "widgets": {
   "application/vnd.jupyter.widget-state+json": {
    "state": {},
    "version_major": 2,
    "version_minor": 0
   }
  }
 },
 "nbformat": 4,
 "nbformat_minor": 5
}
