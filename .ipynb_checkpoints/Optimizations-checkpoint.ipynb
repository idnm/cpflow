{
 "cells": [
  {
   "cell_type": "code",
   "execution_count": 1,
   "id": "4a6247bd-f704-4887-be07-4bb14583281d",
   "metadata": {},
   "outputs": [
    {
     "name": "stderr",
     "output_type": "stream",
     "text": [
      "WARNING:absl:No GPU/TPU found, falling back to CPU. (Set TF_CPP_MIN_LOG_LEVEL=0 and rerun for more info.)\n"
     ]
    }
   ],
   "source": [
    "from jax_circuits import *\n",
    "from scipy.stats import unitary_group\n",
    "import matplotlib.pyplot as plt\n",
    "\n",
    "import time\n",
    "import pickle\n",
    "\n",
    "from qiskit import transpile\n",
    "from qiskit.quantum_info import Operator\n",
    "\n",
    "from topology import *\n",
    "\n",
    "from jax import custom_jvp, jvp, grad, jacfwd, jacrev\n",
    "from jax.scipy.optimize import minimize\n",
    "\n",
    "key = random.PRNGKey(42)\n",
    "\n",
    "from jax.config import config\n",
    "config.update(\"jax_enable_x64\", True)"
   ]
  },
  {
   "cell_type": "markdown",
   "id": "3aebd35c-271c-4dd1-a1b2-0fc839e93d49",
   "metadata": {
    "tags": []
   },
   "source": [
    "# 2-qubit random unitary"
   ]
  },
  {
   "cell_type": "code",
   "execution_count": 2,
   "id": "25d08972-29f0-45ac-b56d-f9a18946eb54",
   "metadata": {},
   "outputs": [
    {
     "data": {
      "image/png": "[encoded data removed]",
      "text/plain": [
       "<Figure size 808.852x144.48 with 1 Axes>"
      ]
     },
     "execution_count": 2,
     "metadata": {},
     "output_type": "execute_result"
    }
   ],
   "source": [
    "num_qubits = 2\n",
    "depth = theoretical_lower_bound(num_qubits)\n",
    "\n",
    "anz = Ansatz(num_qubits, 'cz', placements=fill_layers(sequ_layer(num_qubits), depth))\n",
    "u_target = unitary_group.rvs(2**num_qubits, random_state=1)\n",
    "anz_cost = lambda angs : disc2(anz.unitary(angs), u_target)\n",
    "\n",
    "\n",
    "initial_angles = random_angles(anz.num_angles, key=random.PRNGKey(101))\n",
    "\n",
    "anz.circuit().draw(output='mpl')"
   ]
  },
  {
   "cell_type": "code",
   "execution_count": 3,
   "id": "ec083e67-60af-4e90-be4b-fa329e3aeaf5",
   "metadata": {},
   "outputs": [
    {
     "name": "stdout",
     "output_type": "stream",
     "text": [
      "CPU times: user 4.69 s, sys: 185 ms, total: 4.87 s\n",
      "Wall time: 4.36 s\n"
     ]
    }
   ],
   "source": [
    "%%time\n",
    "angles_history_gd, loss_history_gd = gradient_descent_minimize(anz_cost, \n",
    "                                                               anz.num_angles, \n",
    "                                                               learning_rate=0.1,\n",
    "                                                               initial_params=initial_angles)"
   ]
  },
  {
   "cell_type": "code",
   "execution_count": 4,
   "id": "b6f0c225-cd0e-45c8-b387-3dcb58107994",
   "metadata": {},
   "outputs": [
    {
     "name": "stdout",
     "output_type": "stream",
     "text": [
      "CPU times: user 4.43 s, sys: 88.9 ms, total: 4.52 s\n",
      "Wall time: 4.44 s\n"
     ]
    }
   ],
   "source": [
    "%%time\n",
    "preconditioner = plain_natural_preconditioner(anz.unitary)\n",
    "angles_history_natural, loss_history_natural = gradient_descent_minimize(anz_cost, \n",
    "                                                                         anz.num_angles, \n",
    "                                                                         initial_params=initial_angles,\n",
    "                                                                         preconditioner_func=preconditioner,  \n",
    "                                                                         learning_rate=0.1)"
   ]
  },
  {
   "cell_type": "code",
   "execution_count": 5,
   "id": "34c6b818-4e95-4829-9d35-46f44449bc70",
   "metadata": {},
   "outputs": [
    {
     "name": "stdout",
     "output_type": "stream",
     "text": [
      "CPU times: user 26.8 s, sys: 11.8 s, total: 38.6 s\n",
      "Wall time: 17.5 s\n"
     ]
    }
   ],
   "source": [
    "%%time\n",
    "preconditioner = plain_hessian_preconditioner(anz_cost)\n",
    "angles_history_plain, loss_history_plain = gradient_descent_minimize(anz_cost, \n",
    "                                                                     anz.num_angles, \n",
    "                                                                     initial_params=initial_angles,\n",
    "                                                                     preconditioner_func=preconditioner,\n",
    "                                                                     learning_rate=0.1)"
   ]
  },
  {
   "cell_type": "code",
   "execution_count": 6,
   "id": "8eeec5c4-9b1f-4ec3-80b2-b1421b30cf90",
   "metadata": {},
   "outputs": [
    {
     "name": "stdout",
     "output_type": "stream",
     "text": [
      "CPU times: user 20.1 s, sys: 272 ms, total: 20.4 s\n",
      "Wall time: 18.8 s\n"
     ]
    }
   ],
   "source": [
    "%%time\n",
    "preconditioner = sparse_hessian_preconditioner(anz_cost)\n",
    "angles_history_sparse, loss_history_sparse = gradient_descent_minimize(anz_cost, \n",
    "                                                                       anz.num_angles, \n",
    "                                                                       initial_params=initial_angles,\n",
    "                                                                       preconditioner_func=preconditioner,\n",
    "                                                                       learning_rate=0.1)"
   ]
  },
  {
   "cell_type": "code",
   "execution_count": 7,
   "id": "5a6947d9-f4f5-4cb1-a94c-3b858c871fa6",
   "metadata": {},
   "outputs": [],
   "source": [
    "angles_history_adam, loss_history_adam = anz.learn(u_target, \n",
    "                                                   initial_params=initial_angles,\n",
    "                                                   learning_rate=0.1)"
   ]
  },
  {
   "cell_type": "code",
   "execution_count": 8,
   "id": "cf938cf4-9c84-4639-a6ce-c73877b0e44a",
   "metadata": {},
   "outputs": [
    {
     "data": {
      "image/png": "[encoded data removed]",
      "text/plain": [
       "<Figure size 432x288 with 1 Axes>"
      ]
     },
     "metadata": {
      "needs_background": "light"
     },
     "output_type": "display_data"
    }
   ],
   "source": [
    "plt.plot(loss_history_gd, label='plain gd')\n",
    "plt.plot(loss_history_adam, label='adam')\n",
    "plt.plot(loss_history_natural, label='natural gd')\n",
    "plt.plot(loss_history_plain, label='plain hessian')\n",
    "plt.plot(loss_history_sparse, label='sparse hessian')\n",
    "plt.legend()\n",
    "plt.yscale('log')"
   ]
  },
  {
   "cell_type": "markdown",
   "id": "daa885c7-ad5b-4022-b0f1-b7db1e799ce1",
   "metadata": {
    "tags": [],
    "toc-hr-collapsed": true
   },
   "source": [
    "## Check of Fubini-Study metric"
   ]
  },
  {
   "cell_type": "markdown",
   "id": "ad18c162-bfba-4d6b-bd6a-503e459e6180",
   "metadata": {},
   "source": [
    "Overall things look good, but the second term in the fubini-study metric appear to be of little effect, which is a bit puzzling."
   ]
  },
  {
   "cell_type": "code",
   "execution_count": 5,
   "id": "eab7b34b-42d8-411f-91ea-f7d84c5e0e2b",
   "metadata": {},
   "outputs": [
    {
     "data": {
      "text/plain": [
       "<matplotlib.legend.Legend at 0x7f8fc6ab6550>"
      ]
     },
     "execution_count": 5,
     "metadata": {},
     "output_type": "execute_result"
    },
    {
     "data": {
      "image/png": "[encoded data removed]",
      "text/plain": [
       "<Figure size 432x288 with 1 Axes>"
      ]
     },
     "metadata": {
      "needs_background": "light"
     },
     "output_type": "display_data"
    }
   ],
   "source": [
    "angles = random_angles(anz.num_angles, key=random.PRNGKey(113))\n",
    "u_norm = jnp.abs(trace_prod(anz.unitary(angles),anz.unitary(angles)))\n",
    "\n",
    "\n",
    "distances = []\n",
    "metric_distances = []\n",
    "\n",
    "for k in range(10):\n",
    "    d_angles = 1e-2*random_angles(anz.num_angles, key=random.PRNGKey(k))\n",
    "    dist = jnp.arccos(jnp.abs(trace_prod(anz.unitary(angles), anz.unitary(angles+d_angles))/u_norm))\n",
    "    dist2 = dist**2\n",
    "    \n",
    "    g_metric = fubini_study(anz.unitary, angles, relative_coeff=1)\n",
    "    quad2 = d_angles@g_metric@d_angles\n",
    "    distances.append(dist2)\n",
    "    metric_distances.append(quad2)\n",
    "\n",
    "plt.plot(distances, label='d')\n",
    "plt.plot(metric_distances, label='g')\n",
    "plt.legend()"
   ]
  },
  {
   "cell_type": "markdown",
   "id": "0008195b-8f48-45ef-8e9b-7fc7ffe5837e",
   "metadata": {
    "tags": []
   },
   "source": [
    "# 3-qubit Toffoli"
   ]
  },
  {
   "cell_type": "code",
   "execution_count": 9,
   "id": "aac3534a-e81e-4987-911b-d8acc7f7266b",
   "metadata": {},
   "outputs": [
    {
     "data": {
      "image/png": "[encoded data removed]",
      "text/plain": [
       "<Figure size 1350.8x204.68 with 1 Axes>"
      ]
     },
     "execution_count": 9,
     "metadata": {},
     "output_type": "execute_result"
    }
   ],
   "source": [
    "qc = QuantumCircuit(3)\n",
    "qc.ccx(0, 1, 2)\n",
    "u_toff3 = Operator(qc.reverse_bits()).data\n",
    "\n",
    "placements_toff3 = [[1, 2], [0, 2], [1, 2], [0, 2], [0, 1], [0, 1]]\n",
    "anz_toff3 = Ansatz(3, 'cz', placements={'free': placements_toff3})\n",
    "\n",
    "anz_toff3.circuit().draw(output='mpl')"
   ]
  },
  {
   "cell_type": "code",
   "execution_count": 10,
   "id": "e0338479-a5c0-4cde-a004-508fde07ccf5",
   "metadata": {},
   "outputs": [],
   "source": [
    "cost_toff3 = lambda angs: disc2(anz_toff3.unitary(angs), u_toff3)\n",
    "# Interesting values: k=13 adam wins, k=23 nadam wins, at k=33 ngd wins, LOL. Is it a joke or something?\n",
    "initial_angles = random_angles(anz_toff3.num_angles, key=random.PRNGKey(43))"
   ]
  },
  {
   "cell_type": "code",
   "execution_count": 11,
   "id": "27d0617b-ea43-43e7-9416-e7e9a93c53d5",
   "metadata": {},
   "outputs": [
    {
     "name": "stdout",
     "output_type": "stream",
     "text": [
      "CPU times: user 15.7 s, sys: 2.82 s, total: 18.5 s\n",
      "Wall time: 12.4 s\n"
     ]
    }
   ],
   "source": [
    "%%time\n",
    "preconditioner=plain_natural_preconditioner(anz_toff3.unitary)\n",
    "angles_history_nadam, loss_history_nadam = optax_minimize(cost_toff3,\n",
    "                                                      anz_toff3.num_angles,\n",
    "                                                      optax.adam(0.1),\n",
    "                                                      preconditioner_func=preconditioner,\n",
    "                                                      initial_params=initial_angles,\n",
    "                                                      num_iterations=1000) "
   ]
  },
  {
   "cell_type": "code",
   "execution_count": 12,
   "id": "763f5ad6-ceb1-4d46-ab46-d02c037891b3",
   "metadata": {},
   "outputs": [
    {
     "name": "stdout",
     "output_type": "stream",
     "text": [
      "CPU times: user 6.29 s, sys: 119 ms, total: 6.41 s\n",
      "Wall time: 6.11 s\n"
     ]
    }
   ],
   "source": [
    "%%time\n",
    "angles_history_adam, loss_history_adam = anz_toff3.learn(u_toff3, \n",
    "                                                         initial_params=initial_angles, \n",
    "                                                         num_iterations=1000)"
   ]
  },
  {
   "cell_type": "code",
   "execution_count": 13,
   "id": "f39b0c34-7a11-4cc2-86f8-0be61d6e4f8a",
   "metadata": {},
   "outputs": [
    {
     "name": "stdout",
     "output_type": "stream",
     "text": [
      "CPU times: user 17 s, sys: 2.11 s, total: 19.1 s\n",
      "Wall time: 14.6 s\n"
     ]
    }
   ],
   "source": [
    "%%time\n",
    "preconditioner = plain_natural_preconditioner(anz_toff3.unitary)\n",
    "angles_history_ngd, loss_history_ngd = gradient_descent_minimize(cost_toff3,\n",
    "                                                                 anz_toff3.num_angles,\n",
    "                                                                 preconditioner_func=preconditioner,\n",
    "                                                                 learning_rate=0.1,\n",
    "                                                                 initial_params=initial_angles,\n",
    "                                                                 num_iterations=1000) "
   ]
  },
  {
   "cell_type": "code",
   "execution_count": 14,
   "id": "086127c8-55a7-4eb9-bf99-02aefdce9687",
   "metadata": {},
   "outputs": [
    {
     "data": {
      "image/png": "[encoded data removed]",
      "text/plain": [
       "<Figure size 432x288 with 1 Axes>"
      ]
     },
     "metadata": {
      "needs_background": "light"
     },
     "output_type": "display_data"
    }
   ],
   "source": [
    "plt.plot(loss_history_adam, label='adam')\n",
    "plt.plot(loss_history_ngd, label='ngd')\n",
    "plt.plot(loss_history_nadam, label='nadam')\n",
    "plt.legend()\n",
    "plt.yscale('log')"
   ]
  },
  {
   "cell_type": "markdown",
   "id": "33bc224f-093c-4d6a-8d73-7180a2ba3348",
   "metadata": {},
   "source": [
    "Finishing learning with hessian proves that the optimum is very robust."
   ]
  },
  {
   "cell_type": "code",
   "execution_count": 60,
   "id": "74aee34a-6139-4d87-8b1e-aa318e308622",
   "metadata": {},
   "outputs": [
    {
     "name": "stdout",
     "output_type": "stream",
     "text": [
      "CPU times: user 1min 25s, sys: 28.4 s, total: 1min 53s\n",
      "Wall time: 57.3 s\n"
     ]
    }
   ],
   "source": [
    "%%time\n",
    "preconditioner = plain_hessian_preconditioner(cost_toff3)\n",
    "angles_history_hessian, loss_history_hessian = gradient_descent_minimize(cost_toff3,\n",
    "                                                                         anz_toff3.num_angles, \n",
    "                                                                         preconditioner_func=preconditioner,\n",
    "                                                                         initial_params=angles_history_adam[-1])                                                            "
   ]
  },
  {
   "cell_type": "code",
   "execution_count": 63,
   "id": "5140fae6-6b08-46c6-9fcf-461dd0eab492",
   "metadata": {},
   "outputs": [
    {
     "data": {
      "text/plain": [
       "DeviceArray([-3.33066907e-16,  2.22044605e-16, -9.09396428e-17,\n",
       "              1.66533454e-16, -3.81232123e-17,  1.66533454e-16,\n",
       "              3.78354875e-16, -2.77555756e-16, -3.33066907e-16,\n",
       "              1.37261854e-16, -5.22650714e-17, -5.55111512e-17,\n",
       "              2.77555756e-16,  1.44328993e-15, -1.24416010e-16,\n",
       "             -1.66533454e-16,  1.38777878e-16,  2.74523708e-16,\n",
       "              1.37261854e-16,  3.33066907e-16,  1.51981471e-16,\n",
       "             -4.44089210e-16, -2.77555756e-16,  0.00000000e+00,\n",
       "              1.66533454e-16, -1.11022302e-16,  3.33066907e-16,\n",
       "             -1.07757661e-31, -5.22652875e-17,  2.22044605e-16,\n",
       "             -9.71445147e-17, -5.22589366e-17, -2.41791330e-16],            dtype=float64)"
      ]
     },
     "execution_count": 63,
     "metadata": {},
     "output_type": "execute_result"
    }
   ],
   "source": [
    "grad(cost_toff3)(angles_history_hessian[-1])"
   ]
  },
  {
   "cell_type": "markdown",
   "id": "f1412203-04be-4e9c-8e00-23a44da5618e",
   "metadata": {
    "tags": []
   },
   "source": [
    "# Quadratic form"
   ]
  },
  {
   "cell_type": "code",
   "execution_count": 2,
   "id": "6ef9d89a-8621-446a-a781-c0817da7157d",
   "metadata": {},
   "outputs": [
    {
     "name": "stdout",
     "output_type": "stream",
     "text": [
      "[[-0.744222   -0.47258872 -0.8538813 ]\n",
      " [-0.47258872  0.899473   -0.7430085 ]\n",
      " [-0.8538813  -0.7430085   1.4633775 ]]\n",
      "[[-0.744222   -0.47258872 -0.8538813 ]\n",
      " [-0.47258872  0.899473   -0.7430085 ]\n",
      " [-0.8538813  -0.7430085   1.4633775 ]]\n"
     ]
    }
   ],
   "source": [
    "n = 3\n",
    "A = random.normal(random.PRNGKey(0), (n,n))\n",
    "A = A + A.T\n",
    "\n",
    "x = random.normal(random.PRNGKey(1), (n,))\n",
    "y = random.normal(random.PRNGKey(1), (n,))\n",
    "\n",
    "def quad(x, y):\n",
    "    return x@A@y\n",
    "\n",
    "print(jacfwd(grad(quad, argnums=0), argnums=1)(x,x))\n",
    "print(A)\n",
    "\n",
    "# vmap(grad)(grad(quad, argnums=(0)))\n",
    "\n",
    "# vmap(lambda f: grad(f, argnums=(1,))(x, y))(grad(quad, argnums=(0,)))"
   ]
  },
  {
   "cell_type": "markdown",
   "id": "9c911c99-adf2-4aa8-a1e8-82f2a9c041b3",
   "metadata": {
    "tags": [],
    "toc-hr-collapsed": true
   },
   "source": [
    "# Simple function"
   ]
  },
  {
   "cell_type": "code",
   "execution_count": 32,
   "id": "20ac372c-bc6e-4bd1-b56c-2d7aaf0b0cc9",
   "metadata": {},
   "outputs": [],
   "source": [
    "def test_f(x):\n",
    "    return (jnp.sin(x)**2+x**4-x**2+10*x).sum()\n",
    "\n",
    "n_x = 100\n",
    "test_primals = random.normal(random.PRNGKey(0), (n_x, ))\n",
    "test_tangets = random.normal(random.PRNGKey(1), (n_x, ))"
   ]
  },
  {
   "cell_type": "code",
   "execution_count": 33,
   "id": "7191dc54-764d-43a7-a4c4-27da0afe0d98",
   "metadata": {},
   "outputs": [
    {
     "name": "stdout",
     "output_type": "stream",
     "text": [
      "CPU times: user 6.01 s, sys: 2.41 s, total: 8.42 s\n",
      "Wall time: 2.59 s\n"
     ]
    }
   ],
   "source": [
    "%%time\n",
    "plain_hessian = plain_hessian_preconditioner(test_f, learning_rate=0.01)\n",
    "angles_history_plain, loss_history_plain = gradient_descent_minimize(test_f, n_x, plain_hessian)"
   ]
  },
  {
   "cell_type": "code",
   "execution_count": 34,
   "id": "bafd70bf-8a4f-4cef-b6bd-bce5bde3c817",
   "metadata": {},
   "outputs": [
    {
     "name": "stdout",
     "output_type": "stream",
     "text": [
      "CPU times: user 1.11 s, sys: 67.3 ms, total: 1.18 s\n",
      "Wall time: 1.02 s\n"
     ]
    }
   ],
   "source": [
    "%%time\n",
    "sparse_hessian = hessian_preconditioner(test_f, learning_rate=0.01)\n",
    "angles_history_sparse, loss_history_sparse = gradient_descent_minimize(test_f, n_x, sparse_hessian)"
   ]
  },
  {
   "cell_type": "code",
   "execution_count": 35,
   "id": "59e84733-852e-4c3e-8e36-67b929d27b84",
   "metadata": {},
   "outputs": [
    {
     "data": {
      "image/png": "[encoded data removed]",
      "text/plain": [
       "<Figure size 432x288 with 1 Axes>"
      ]
     },
     "metadata": {
      "needs_background": "light"
     },
     "output_type": "display_data"
    }
   ],
   "source": [
    "plt.plot(loss_history_plain, label='plain')\n",
    "plt.plot(loss_history_sparse, label='sparse')\n",
    "plt.legend()\n",
    "plt.yscale('log')"
   ]
  }
 ],
 "metadata": {
  "kernelspec": {
   "display_name": "Python 3",
   "language": "python",
   "name": "python3"
  },
  "language_info": {
   "codemirror_mode": {
    "name": "ipython",
    "version": 3
   },
   "file_extension": ".py",
   "mimetype": "text/x-python",
   "name": "python",
   "nbconvert_exporter": "python",
   "pygments_lexer": "ipython3",
   "version": "3.8.10"
  },
  "widgets": {
   "application/vnd.jupyter.widget-state+json": {
    "state": {},
    "version_major": 2,
    "version_minor": 0
   }
  }
 },
 "nbformat": 4,
 "nbformat_minor": 5
}
