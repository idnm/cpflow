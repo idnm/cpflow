{
 "cells": [
  {
   "cell_type": "markdown",
   "id": "a942ff26-070d-4cd0-a892-103e3d544842",
   "metadata": {},
   "source": [
    "Todo:\n",
    "- optimize filtering results\n",
    "- combinded routine hyperopt+gd\n",
    "- look at toffoli4 with ancilla\n",
    "- look at 14-gate 5 qubits circuits\n",
    "- estimate failure % for 5-qubuts toffoli\n",
    "- look what is best 5-toffoli on chain\n",
    "\n",
    "What could give more speedup:\n",
    "- Simpler cost function? Like Re Tr?\n",
    "- Stopping learning at reached target accuracy?\n",
    "- Better (smoothened) penalty function?\n",
    "\n",
    "Issues to fix:\n",
    "- Change random seeds in objective function."
   ]
  },
  {
   "cell_type": "code",
   "execution_count": 1,
   "id": "60c10b15-492e-41c5-8bd2-5f53df5f40af",
   "metadata": {},
   "outputs": [
    {
     "name": "stderr",
     "output_type": "stream",
     "text": [
      "WARNING:absl:No GPU/TPU found, falling back to CPU. (Set TF_CPP_MIN_LOG_LEVEL=0 and rerun for more info.)\n"
     ]
    }
   ],
   "source": [
    "from jax_circuits import *\n",
    "from topology import *\n",
    "from penalty import *\n",
    "from cp_utils import *\n",
    "import matplotlib.pyplot as plt\n",
    "from scipy.stats import unitary_group\n",
    "from qiskit import transpile\n",
    "from qiskit.quantum_info import Operator\n",
    "# import pickle\n",
    "# import dill\n",
    "# import time\n",
    "\n",
    "# import hyperopt\n",
    "# from hyperopt import  hp, fmin, tpe, Trials, STATUS_OK\n",
    "\n",
    "# import hyperopt.pyll.stochastic\n",
    "# from hyperopt.pyll import scope"
   ]
  },
  {
   "cell_type": "markdown",
   "id": "28a17cae-6013-4273-b23c-346e0c6f99e7",
   "metadata": {},
   "source": [
    "# Adaptive decompose"
   ]
  },
  {
   "cell_type": "code",
   "execution_count": null,
   "id": "86d1c594-9c32-46bc-b8d9-9892c8770c1d",
   "metadata": {},
   "outputs": [
    {
     "name": "stderr",
     "output_type": "stream",
     "text": [
      "Epochs:   0%|          | 0/2 [00:00<?, ?it/s]"
     ]
    },
    {
     "name": "stdout",
     "output_type": "stream",
     "text": [
      "\n",
      "  0%|          | 0/2 [00:00<?, ?trial/s, best loss=?]\u001b[A"
     ]
    }
   ],
   "source": [
    "hyperopt_options = {'max_num_cp_gates': 20,\n",
    "                    'accepted_num_gates': 10,\n",
    "                    'target_num_gates': 8,\n",
    "                    'num_gd_iterations': 2000,\n",
    "                    'batch_size': 100,\n",
    "                    'evals_between_verification': 2,\n",
    "                    'max_evals': 5,\n",
    "                   }\n",
    "\n",
    "trials, decompositions = adaptive_decompose(u_toff3, \n",
    "                        chain_layer(3), \n",
    "                        hyperopt_options, \n",
    "                        save_to='data/toff3_chain', \n",
    "                        overwrite_existing=True)"
   ]
  },
  {
   "cell_type": "code",
   "execution_count": 8,
   "id": "fa0b095d-27b9-42de-a102-5380ce7db57e",
   "metadata": {},
   "outputs": [
    {
     "data": {
      "text/plain": [
       "[-0.4000000059604645,\n",
       " -0.30000001192092896,\n",
       " -0.20000000298023224,\n",
       " -0.0,\n",
       " -0.10000000149011612,\n",
       " -0.30000001192092896,\n",
       " -0.20000000298023224,\n",
       " -0.30000001192092896,\n",
       " -0.20000000298023224,\n",
       " -0.0,\n",
       " -0.20000000298023224,\n",
       " -0.0,\n",
       " -0.0,\n",
       " -0.20000000298023224,\n",
       " -0.30000001192092896,\n",
       " -0.0,\n",
       " -0.15000000596046448,\n",
       " -0.10000000149011612,\n",
       " -0.23999999463558197,\n",
       " -0.09000000357627869,\n",
       " -0.009999999776482582,\n",
       " -0.30000001192092896,\n",
       " -0.009999999776482582,\n",
       " -0.15000000596046448,\n",
       " -0.07000000029802322,\n",
       " -0.10000000149011612,\n",
       " -0.14000000059604645,\n",
       " -0.03999999910593033,\n",
       " -0.09000000357627869,\n",
       " -0.15000000596046448,\n",
       " -0.1599999964237213,\n",
       " -0.05000000074505806]"
      ]
     },
     "execution_count": 8,
     "metadata": {},
     "output_type": "execute_result"
    }
   ],
   "source": [
    "trials.losses()"
   ]
  },
  {
   "cell_type": "code",
   "execution_count": 3,
   "id": "35ecddd6-3b62-4172-953c-67c576875899",
   "metadata": {},
   "outputs": [
    {
     "data": {
      "text/plain": [
       "32"
      ]
     },
     "execution_count": 3,
     "metadata": {},
     "output_type": "execute_result"
    }
   ],
   "source": [
    "len(trials.trials)"
   ]
  },
  {
   "cell_type": "code",
   "execution_count": 9,
   "id": "ea513c0d-05be-4a06-b0e9-761a78498fd6",
   "metadata": {},
   "outputs": [
    {
     "data": {
      "text/plain": [
       "{'state': 2,\n",
       " 'tid': 0,\n",
       " 'spec': None,\n",
       " 'result': {'loss': -0.4000000059604645,\n",
       "  'status': 'ok',\n",
       "  'angles_random_seed': 657251,\n",
       "  'cz_counts': [8, 8, 8, 8, 9, 9, 9, 10, 11, 11],\n",
       "  'num_gd_iterations': 2000,\n",
       "  'entry_loss': 0.001,\n",
       "  'threshold_cp': 0.2},\n",
       " 'misc': {'tid': 0,\n",
       "  'cmd': ('domain_attachment', 'FMinIter_Domain'),\n",
       "  'workdir': None,\n",
       "  'idxs': {'num_cp_gates': [0], 'r': [0]},\n",
       "  'vals': {'num_cp_gates': [16.0], 'r': [0.0004403706688235234]}},\n",
       " 'exp_key': None,\n",
       " 'owner': None,\n",
       " 'version': 0,\n",
       " 'book_time': datetime.datetime(2022, 2, 15, 15, 58, 54, 41000),\n",
       " 'refresh_time': datetime.datetime(2022, 2, 15, 15, 59, 11, 788000)}"
      ]
     },
     "execution_count": 9,
     "metadata": {},
     "output_type": "execute_result"
    }
   ],
   "source": [
    "trials.trials[0]"
   ]
  },
  {
   "cell_type": "code",
   "execution_count": 10,
   "id": "99c0566e-2f96-4960-8cb0-0b762a8fe7ed",
   "metadata": {},
   "outputs": [
    {
     "data": {
      "text/plain": [
       "{'num_cp_gates': 16.0, 'r': 0.0004403706688235234}"
      ]
     },
     "execution_count": 10,
     "metadata": {},
     "output_type": "execute_result"
    }
   ],
   "source": [
    "best"
   ]
  },
  {
   "cell_type": "code",
   "execution_count": 8,
   "id": "6fc8f8b8-ba73-4dfe-96f3-98b4e3411333",
   "metadata": {},
   "outputs": [
    {
     "data": {
      "text/plain": [
       "{'num_cp_gates': 16.0, 'r': 0.0004403706688235234}"
      ]
     },
     "execution_count": 8,
     "metadata": {},
     "output_type": "execute_result"
    }
   ],
   "source": [
    "best"
   ]
  },
  {
   "cell_type": "markdown",
   "id": "7feb9f49-5db0-47ec-9251-1a2afd8abcef",
   "metadata": {
    "tags": []
   },
   "source": [
    "# Hyperopt examples"
   ]
  },
  {
   "cell_type": "code",
   "execution_count": 57,
   "id": "c4294d3d-7098-4a4d-b4d1-61a8bc6c7ff0",
   "metadata": {},
   "outputs": [],
   "source": [
    "qc = QuantumCircuit(3)\n",
    "qc.ccx(0, 1, 2)\n",
    "u_toff3 = Operator(qc.reverse_bits()).data\n",
    "\n",
    "num_samples=50\n",
    "\n",
    "def objective(args):\n",
    "    r, num_gates = args\n",
    "    anz = Ansatz(3, 'cp', placements=fill_layers(chain_layer(3), num_gates))\n",
    "    reg_options = {'r': r,\n",
    "               'function': 'linear',\n",
    "               'ymax': 2,\n",
    "               'xmax': jnp.pi/2,\n",
    "               'plato': 0.05,\n",
    "               'accepted_num_gates': 12,\n",
    "               'target_num_gates': 8,\n",
    "               'cp_mask': anz.cp_mask}\n",
    "    \n",
    "    score, cz_counts = cp_ansatz_score(u_toff3, \n",
    "                                       anz, \n",
    "                                       reg_options, \n",
    "                                       num_samples=num_samples,\n",
    "                                       save_prospective_results=False,\n",
    "                                       save_raw_results=False,\n",
    "                                       cp_dist='0')\n",
    "    \n",
    "    return {\n",
    "        'loss': -score,\n",
    "        'status': STATUS_OK}"
   ]
  },
  {
   "cell_type": "code",
   "execution_count": 58,
   "id": "8a815957-5529-4f15-9fbe-4f94e855fe4c",
   "metadata": {},
   "outputs": [],
   "source": [
    "space = [hp.loguniform('r', jnp.log(0.0001), jnp.log(0.01)),\n",
    "        scope.int(hp.quniform('num_gates', 1, 30, 1))]\n",
    "\n",
    "samples = [hyperopt.pyll.stochastic.sample(space) for _ in range(100)] \n",
    "r_samples = [r for r,_ in samples]\n",
    "g_samples = [g for _,g in samples]\n",
    "\n",
    "# plt.xscale('log')\n",
    "# plt.hist(r_samples)"
   ]
  },
  {
   "cell_type": "code",
   "execution_count": 59,
   "id": "edf86098-d647-4fa0-8cc0-3978a9c124ca",
   "metadata": {},
   "outputs": [
    {
     "name": "stdout",
     "output_type": "stream",
     "text": [
      "100%|██████████| 150/150 [1:09:03<00:00, 27.62s/trial, best loss: -16.0625]\n",
      "{'num_gates': 21.0, 'r': 0.0005310848219253889}\n"
     ]
    }
   ],
   "source": [
    "trials = Trials()\n",
    "best = fmin(objective,\n",
    "    space=space,\n",
    "    algo=tpe.suggest,\n",
    "    max_evals=150,\n",
    "    trials=trials)\n",
    "\n",
    "print(best)"
   ]
  },
  {
   "cell_type": "code",
   "execution_count": 92,
   "id": "46b8d258-93cc-4e9d-b650-9b9999e467be",
   "metadata": {},
   "outputs": [
    {
     "name": "stdout",
     "output_type": "stream",
     "text": [
      "\n",
      "Computing raw results.\n",
      "\n",
      "Selecting prospective results:\n"
     ]
    },
    {
     "name": "stderr",
     "output_type": "stream",
     "text": [
      "100it [00:01, 68.35it/s]\n"
     ]
    },
    {
     "name": "stdout",
     "output_type": "stream",
     "text": [
      "0 found.\n",
      "\n",
      "Verifying prospective results:\n"
     ]
    },
    {
     "name": "stderr",
     "output_type": "stream",
     "text": [
      "0it [00:00, ?it/s]"
     ]
    },
    {
     "name": "stdout",
     "output_type": "stream",
     "text": [
      "0 successful.\n",
      "cz counts are:\n",
      "[]\n"
     ]
    },
    {
     "name": "stderr",
     "output_type": "stream",
     "text": [
      "\n"
     ]
    }
   ],
   "source": [
    "qc = QuantumCircuit(3)\n",
    "qc.ccx(0, 1, 2)\n",
    "u_toff3 = Operator(qc.reverse_bits()).data\n",
    "\n",
    "anz = Ansatz(3, 'cp', fill_layers(chain_layer(3), 21))\n",
    "\n",
    "reg_options = {'r': 0.0005310848219253889,\n",
    "               'function': 'linear',\n",
    "               'ymax': 2,\n",
    "               'xmax': jnp.pi/2,\n",
    "               'plato': 0.05,\n",
    "               'target_num_gates': 8,\n",
    "               'accepted_num_gates': 7,\n",
    "               'angle_tolerance': 0.2,\n",
    "               'cp_mask': anz.cp_mask}\n",
    "\n",
    "key = random.PRNGKey(2)\n",
    "num_samples = 100\n",
    "\n",
    "successful_results, failed_results = cp_decompose(u_toff3, \n",
    "                                               anz,\n",
    "                                               regularization_options=reg_options,\n",
    "                                               num_samples=num_samples, \n",
    "                                               key=key,\n",
    "                                               disc_func=disc2,\n",
    "                                               cp_dist='0',\n",
    "                                               save_raw_results=True,\n",
    "                                               save_to='data/toff3_chain')"
   ]
  },
  {
   "cell_type": "code",
   "execution_count": 93,
   "id": "0f17604d-b027-428d-9d6d-41fdca44faec",
   "metadata": {},
   "outputs": [],
   "source": [
    "with open('data/toff3_chain_raw_results.pickle', 'rb') as f:\n",
    "    raw_results = pickle.load(f)"
   ]
  },
  {
   "cell_type": "code",
   "execution_count": 96,
   "id": "9041ec15-1ddb-4d69-8d8e-42cd6bf4920f",
   "metadata": {},
   "outputs": [
    {
     "name": "stderr",
     "output_type": "stream",
     "text": [
      "100it [00:01, 73.34it/s]\n"
     ]
    },
    {
     "data": {
      "text/plain": [
       "[]"
      ]
     },
     "execution_count": 96,
     "metadata": {},
     "output_type": "execute_result"
    }
   ],
   "source": [
    "filter_cp_results(raw_results, anz.cp_mask, 0.2, 1e-4)"
   ]
  },
  {
   "cell_type": "code",
   "execution_count": 61,
   "id": "acbfe654-2b2c-483a-a1da-de008e5c81bb",
   "metadata": {},
   "outputs": [
    {
     "name": "stdout",
     "output_type": "stream",
     "text": [
      "100%|██████████| 100/100 [42:08<00:00, 25.28s/trial, best loss: -25.25] \n",
      "{'num_gates': 13.0, 'r': 0.000644899814208608}\n"
     ]
    }
   ],
   "source": [
    "qc = QuantumCircuit(3)\n",
    "qc.ccx(0, 1, 2)\n",
    "u_toff3 = Operator(qc.reverse_bits()).data\n",
    "\n",
    "num_samples=50\n",
    "\n",
    "def objective(args):\n",
    "    r, num_gates = args\n",
    "    anz = Ansatz(3, 'cp', placements=fill_layers(chain_layer(3), num_gates))\n",
    "    reg_options = {'r': r,\n",
    "               'function': 'linear',\n",
    "               'ymax': 2,\n",
    "               'xmax': jnp.pi/2,\n",
    "               'plato': 0.05,\n",
    "               'accepted_num_gates': 12,\n",
    "               'target_num_gates': 8,\n",
    "               'cp_mask': anz.cp_mask}\n",
    "    \n",
    "    score, cz_counts = cp_ansatz_score(u_toff3, \n",
    "                                       anz, \n",
    "                                       reg_options, \n",
    "                                       num_samples=num_samples,\n",
    "                                       save_prospective_results=False,\n",
    "                                       save_raw_results=False,\n",
    "                                       cp_dist='uniform')\n",
    "    \n",
    "    return {\n",
    "        'loss': -score,\n",
    "        'status': STATUS_OK}\n",
    "\n",
    "space = [hp.loguniform('r', jnp.log(0.0001), jnp.log(0.01)),\n",
    "        scope.int(hp.quniform('num_gates', 1, 30, 1))]\n",
    "\n",
    "trials = Trials()\n",
    "best = fmin(objective,\n",
    "    space=space,\n",
    "    algo=tpe.suggest,\n",
    "    max_evals=100,\n",
    "    trials=trials)\n",
    "\n",
    "print(best)"
   ]
  },
  {
   "cell_type": "code",
   "execution_count": 11,
   "id": "e87d9ef6-f91d-410b-9205-e59bb0c04a64",
   "metadata": {},
   "outputs": [
    {
     "name": "stdout",
     "output_type": "stream",
     "text": [
      "\n",
      "Computing raw results.\n",
      "\n",
      "Selecting prospective results:\n"
     ]
    },
    {
     "name": "stderr",
     "output_type": "stream",
     "text": [
      "100it [00:01, 89.37it/s]\n"
     ]
    },
    {
     "name": "stdout",
     "output_type": "stream",
     "text": [
      "13 found.\n",
      "\n",
      "Verifying prospective results:\n"
     ]
    },
    {
     "name": "stderr",
     "output_type": "stream",
     "text": [
      "100%|██████████| 13/13 [04:39<00:00, 21.51s/it]\n"
     ]
    },
    {
     "name": "stdout",
     "output_type": "stream",
     "text": [
      "13 successful.\n",
      "cz counts are:\n",
      "[8, 8, 8, 8, 8, 8, 8, 8, 8, 8, 8, 8, 8]\n"
     ]
    }
   ],
   "source": [
    "qc = QuantumCircuit(3)\n",
    "qc.ccx(0, 1, 2)\n",
    "u_toff3 = Operator(qc.reverse_bits()).data\n",
    "\n",
    "anz = Ansatz(3, 'cp', fill_layers(chain_layer(3), 13))\n",
    "\n",
    "reg_options = {'r': 0.0002510848219253889,\n",
    "               'function': 'linear',\n",
    "               'ymax': 2,\n",
    "               'xmax': jnp.pi/2,\n",
    "               'plato': 0.05,\n",
    "               'target_num_gates': 8,\n",
    "               'accepted_num_gates': 8,\n",
    "               'angle_tolerance': 0.2,\n",
    "               'cp_mask': anz.cp_mask}\n",
    "\n",
    "key = random.PRNGKey(5)\n",
    "num_samples = 100\n",
    "\n",
    "successful_results, failed_results = cp_decompose(u_toff3, \n",
    "                                               anz,\n",
    "                                               regularization_options=reg_options,\n",
    "                                               num_samples=num_samples, \n",
    "                                               key=key,\n",
    "                                               disc_func=disc2,\n",
    "                                               cp_dist='uniform',\n",
    "                                               save_to='toff3_connected')"
   ]
  },
  {
   "cell_type": "code",
   "execution_count": 2,
   "id": "59f15b5a-bf90-4f47-9483-0b1470a1d218",
   "metadata": {},
   "outputs": [
    {
     "name": "stdout",
     "output_type": "stream",
     "text": [
      "100%|██████████| 50/50 [1:39:57<00:00, 119.95s/trial, best loss: -1.2890625]\n",
      "{'num_gates': 25.0, 'r': 0.0005908527276785403}\n"
     ]
    }
   ],
   "source": [
    "qc = QuantumCircuit(4)\n",
    "qc.mct([0, 1, 2], 3)\n",
    "u_toff4 = Operator(qc.reverse_bits()).data\n",
    "\n",
    "num_samples=200\n",
    "\n",
    "def objective(args):\n",
    "    r, num_gates = args\n",
    "    anz = Ansatz(4, 'cp', placements=fill_layers(chain_layer(4), num_gates))\n",
    "    reg_options = {'r': r,\n",
    "               'function': 'linear',\n",
    "               'ymax': 2,\n",
    "               'xmax': jnp.pi/2,\n",
    "               'plato': 0.05,\n",
    "               'accepted_num_gates': 25,\n",
    "               'target_num_gates': 18,\n",
    "               'cp_mask': anz.cp_mask}\n",
    "    \n",
    "    score, cz_counts = cp_ansatz_score(u_toff4, \n",
    "                                       anz, \n",
    "                                       reg_options, \n",
    "                                       num_samples=num_samples,\n",
    "                                       save_prospective_results=False,\n",
    "                                       save_raw_results=False,\n",
    "                                       cp_dist='uniform')\n",
    "    \n",
    "    return {\n",
    "        'loss': -score,\n",
    "        'status': STATUS_OK}\n",
    "\n",
    "space = [hp.loguniform('r', jnp.log(0.00005), jnp.log(0.001)),\n",
    "        scope.int(hp.quniform('num_gates', 15, 40, 1))]\n",
    "\n",
    "trials = Trials()\n",
    "best = fmin(objective,\n",
    "    space=space,\n",
    "    algo=tpe.suggest,\n",
    "    max_evals=50,\n",
    "    trials=trials)\n",
    "\n",
    "print(best)    "
   ]
  },
  {
   "cell_type": "code",
   "execution_count": 3,
   "id": "4b5b3649-506c-4cbd-ab8c-9d38fce356fe",
   "metadata": {},
   "outputs": [
    {
     "name": "stdout",
     "output_type": "stream",
     "text": [
      "\n",
      "Computing raw results.\n",
      "\n",
      "Selecting prospective results:\n"
     ]
    },
    {
     "name": "stderr",
     "output_type": "stream",
     "text": [
      "2000it [00:39, 50.52it/s]\n"
     ]
    },
    {
     "name": "stdout",
     "output_type": "stream",
     "text": [
      "1 found.\n",
      "\n",
      "Verifying prospective results:\n"
     ]
    },
    {
     "name": "stderr",
     "output_type": "stream",
     "text": [
      "100%|██████████| 1/1 [00:47<00:00, 47.34s/it]"
     ]
    },
    {
     "name": "stdout",
     "output_type": "stream",
     "text": [
      "1 successful.\n",
      "cz counts are:\n",
      "[18]\n",
      "time: 1090.0114843845367\n"
     ]
    },
    {
     "name": "stderr",
     "output_type": "stream",
     "text": [
      "\n"
     ]
    }
   ],
   "source": [
    "time_start = time.time()\n",
    "qc = QuantumCircuit(4)\n",
    "qc.mct([0, 1, 2], 3)\n",
    "u_toff4 = Operator(qc.reverse_bits()).data\n",
    "\n",
    "\n",
    "anz = Ansatz(4, 'cp', fill_layers(chain_layer(4), 25))\n",
    "\n",
    "reg_options = {'r': 0.0005908527276785403,\n",
    "               'function': 'linear',\n",
    "               'ymax': 2,\n",
    "               'xmax': jnp.pi/2,\n",
    "               'plato': 0.05,\n",
    "               'accepted_num_gates': 19,\n",
    "               'target_num_gates': 18,\n",
    "               'cp_mask': anz.cp_mask}\n",
    "\n",
    "key = random.PRNGKey(131)\n",
    "\n",
    "num_samples = 2000\n",
    "\n",
    "successful_results, failed_results = cp_decompose(u_toff4, \n",
    "                                               anz,\n",
    "                                               regularization_options=reg_options,\n",
    "                                               num_samples=num_samples, \n",
    "                                               key=key,\n",
    "                                               disc_func=disc2,\n",
    "                                               cp_dist='uniform',\n",
    "                                               save_to='toff4_chain')\n",
    "\n",
    "print(f'time: {time.time()-time_start}')"
   ]
  },
  {
   "cell_type": "code",
   "execution_count": null,
   "id": "aba4faee-0454-4b73-889f-fa4d468beabb",
   "metadata": {},
   "outputs": [],
   "source": [
    "qc = QuantumCircuit(5)\n",
    "qc.mct([0, 1, 2, 3], 4)\n",
    "u_toff5 = Operator(qc.reverse_bits()).data\n",
    "\n",
    "num_samples=500\n",
    "\n",
    "def objective(args):\n",
    "    r, num_gates = args\n",
    "    anz = Ansatz(5, 'cp', placements=fill_layers(sequ_layer(5), num_gates))\n",
    "    reg_options = {'r': r,\n",
    "               'function': 'linear',\n",
    "               'ymax': 2,\n",
    "               'xmax': jnp.pi/2,\n",
    "               'plato': 0.05,\n",
    "               'accepted_num_gates': 100,\n",
    "               'target_num_gates': 36,\n",
    "               'cp_mask': anz.cp_mask}\n",
    "    \n",
    "    score, cz_counts = cp_ansatz_score(u_toff5, \n",
    "                                       anz, \n",
    "                                       reg_options, \n",
    "                                       num_samples=num_samples,\n",
    "                                       save_prospective_results=False,\n",
    "                                       save_raw_results=False,\n",
    "                                       cp_dist='uniform')\n",
    "    \n",
    "    return {\n",
    "        'loss': -score,\n",
    "        'status': STATUS_OK}\n",
    "\n",
    "space = [hp.loguniform('r', jnp.log(0.00005), jnp.log(0.001)),\n",
    "        scope.int(hp.quniform('num_gates', 15, 40, 1))]\n",
    "\n",
    "trials = Trials()\n",
    "best = fmin(objective,\n",
    "    space=space,\n",
    "    algo=tpe.suggest,\n",
    "    max_evals=50,\n",
    "    trials=trials)\n",
    "\n",
    "print(best)    "
   ]
  },
  {
   "cell_type": "code",
   "execution_count": 9,
   "id": "e96e7ebb-e5ed-4269-9e61-39a5a3108cf4",
   "metadata": {},
   "outputs": [
    {
     "data": {
      "text/plain": [
       "DeviceArray(-9.903487, dtype=float32)"
      ]
     },
     "execution_count": 9,
     "metadata": {},
     "output_type": "execute_result"
    }
   ],
   "source": [
    "jnp.log(rmin)"
   ]
  },
  {
   "cell_type": "code",
   "execution_count": 49,
   "id": "c21e6e7a-1281-4e38-ad2b-974f9a626376",
   "metadata": {},
   "outputs": [
    {
     "data": {
      "image/png": "[encoded data removed]",
      "text/plain": [
       "<Figure size 432x288 with 1 Axes>"
      ]
     },
     "metadata": {
      "needs_background": "light"
     },
     "output_type": "display_data"
    }
   ],
   "source": [
    "rmiddle = 0.0005\n",
    "\n",
    "space = [hp.lognormal('r', jnp.log(rmiddle), 0.5),\n",
    "        scope.int(hp.quniform('num_gates', 36, 60, 1))]\n",
    "\n",
    "\n",
    "qc = QuantumCircuit(5)\n",
    "qc.mct([0, 1, 2, 3], 4)\n",
    "u_toff5 = Operator(qc.reverse_bits()).data\n",
    "\n",
    "num_samples=500\n",
    "\n",
    "def objective(args):\n",
    "    r, num_gates = args\n",
    "    anz = Ansatz(5, 'cp', placements=fill_layers(sequ_layer(5), num_gates))\n",
    "    reg_options = {'r': r,\n",
    "               'function': 'linear',\n",
    "               'ymax': 2,\n",
    "               'xmax': jnp.pi/2,\n",
    "               'plato': 0.05,\n",
    "               'accepted_num_gates': 100,\n",
    "               'target_num_gates': 36,\n",
    "               'cp_mask': anz.cp_mask}\n",
    "    \n",
    "    score, cz_counts = cp_ansatz_score(u_toff5, \n",
    "                                       anz, \n",
    "                                       reg_options, \n",
    "                                       num_samples=num_samples,\n",
    "                                       save_prospective_results=False,\n",
    "                                       save_raw_results=False,\n",
    "                                       cp_dist='uniform')\n",
    "    \n",
    "    return {\n",
    "        'loss': -score,\n",
    "        'status': STATUS_OK}\n",
    "\n",
    "\n",
    "trials = Trials()\n",
    "best = fmin(objective,\n",
    "    space=space,\n",
    "    algo=tpe.suggest,\n",
    "    max_evals=50,\n",
    "    trials=trials)\n",
    "\n",
    "print(best)    \n",
    "\n",
    "# samples = [hyperopt.pyll.stochastic.sample(space) for _ in range(10000)] \n",
    "# r_samples = [r for r,_ in samples]\n",
    "# g_samples = [g for _,g in samples]\n",
    "\n",
    "\n",
    "# logbins = jnp.e**jnp.linspace(jnp.log(rmiddle/10), jnp.log(rmiddle*10), 50)\n",
    "# plt.hist(r_samples, bins=logbins)\n",
    "# plt.xscale('log')"
   ]
  },
  {
   "cell_type": "code",
   "execution_count": 37,
   "id": "d6c26b6d-e5ce-4171-ba4c-f2cd62cf0c49",
   "metadata": {},
   "outputs": [
    {
     "data": {
      "text/plain": [
       "DeviceArray(1.2488573e-10, dtype=float32)"
      ]
     },
     "execution_count": 37,
     "metadata": {},
     "output_type": "execute_result"
    }
   ],
   "source": [
    "10**jnp.log(rmin)"
   ]
  },
  {
   "cell_type": "code",
   "execution_count": 38,
   "id": "0c4fe435-1cc6-43eb-8e99-9d58fe2d8d25",
   "metadata": {},
   "outputs": [
    {
     "data": {
      "text/plain": [
       "5e-05"
      ]
     },
     "execution_count": 38,
     "metadata": {},
     "output_type": "execute_result"
    }
   ],
   "source": [
    "rmin"
   ]
  },
  {
   "cell_type": "code",
   "execution_count": 22,
   "id": "f3c3dfc8-e747-4c95-b910-b57ced0a080c",
   "metadata": {},
   "outputs": [
    {
     "data": {
      "text/plain": [
       "DeviceArray([1.       , 1.       , 1.       , 1.0000001], dtype=float32)"
      ]
     },
     "execution_count": 22,
     "metadata": {},
     "output_type": "execute_result"
    }
   ],
   "source": [
    "jnp.e**jnp.logspace(jnp.log(rmin), jnp.log(rmax), 4)"
   ]
  },
  {
   "cell_type": "code",
   "execution_count": 23,
   "id": "80e81b24-5d8b-43f6-a7ee-eea9ccbf57e1",
   "metadata": {},
   "outputs": [
    {
     "data": {
      "text/plain": [
       "2.718281828459045"
      ]
     },
     "execution_count": 23,
     "metadata": {},
     "output_type": "execute_result"
    }
   ],
   "source": [
    "jnp.e"
   ]
  },
  {
   "cell_type": "code",
   "execution_count": 19,
   "id": "0f6074fe-b561-4841-835d-f7bc0c028625",
   "metadata": {},
   "outputs": [
    {
     "data": {
      "text/plain": [
       "DeviceArray(-9.903487, dtype=float32)"
      ]
     },
     "execution_count": 19,
     "metadata": {},
     "output_type": "execute_result"
    }
   ],
   "source": [
    "jnp.log(rmin)"
   ]
  },
  {
   "cell_type": "code",
   "execution_count": 65,
   "id": "69c5147b-ef9a-4cef-b29e-472a4915d664",
   "metadata": {},
   "outputs": [
    {
     "name": "stdout",
     "output_type": "stream",
     "text": [
      "100%|██████████| 1000/1000 [00:06<00:00, 157.81trial/s, best loss: 2.4546931171463713e-05]\n",
      "{'x': -0.004954485964402736}\n"
     ]
    }
   ],
   "source": [
    "import pickle\n",
    "import time\n",
    "from hyperopt import fmin, tpe, hp, STATUS_OK, Trials\n",
    "\n",
    "def objective(x):\n",
    "    return {\n",
    "        'loss': x ** 2,\n",
    "        'status': STATUS_OK,\n",
    "        # -- store other results like this\n",
    "        'eval_time': time.time(),\n",
    "        'other_stuff': {'type': None, 'value': [0, 1, 2]},\n",
    "        # -- attachments are handled differently\n",
    "        'attachments':\n",
    "            {'time_module': pickle.dumps(time.time)}\n",
    "        }\n",
    "trials = Trials()\n",
    "best = fmin(objective,\n",
    "    space=hp.uniform('x', -10, 10),\n",
    "    algo=tpe.suggest,\n",
    "    max_evals=1000,\n",
    "    trials=trials)\n",
    "\n",
    "print(best)"
   ]
  },
  {
   "cell_type": "code",
   "execution_count": 66,
   "id": "95d7981b-d65b-4a97-b8d9-32843d7a9a99",
   "metadata": {},
   "outputs": [
    {
     "data": {
      "text/plain": [
       "[<matplotlib.lines.Line2D at 0x7eff31d9a8b0>]"
      ]
     },
     "execution_count": 66,
     "metadata": {},
     "output_type": "execute_result"
    },
    {
     "data": {
      "image/png": "[encoded data removed]",
      "text/plain": [
       "<Figure size 432x288 with 1 Axes>"
      ]
     },
     "metadata": {
      "needs_background": "light"
     },
     "output_type": "display_data"
    }
   ],
   "source": [
    "plt.plot([t['loss'] for t in trials.results])"
   ]
  },
  {
   "cell_type": "code",
   "execution_count": 79,
   "id": "12e90d01-95ab-44e7-aff5-10b71a28e393",
   "metadata": {},
   "outputs": [],
   "source": [
    "qc = QuantumCircuit(6)\n",
    "qc.mct([0,1,2,3,4],5)\n",
    "\n",
    "qc_trans = transpile(qc, basis_gates=['cx', 'u'], optimization_level=3)"
   ]
  },
  {
   "cell_type": "code",
   "execution_count": 80,
   "id": "c47633cf-e1ed-43a1-a276-048ee314b15f",
   "metadata": {},
   "outputs": [
    {
     "data": {
      "text/plain": [
       "92"
      ]
     },
     "execution_count": 80,
     "metadata": {},
     "output_type": "execute_result"
    }
   ],
   "source": [
    "(qc_trans.qasm()).count('\\ncx')"
   ]
  },
  {
   "cell_type": "code",
   "execution_count": 78,
   "id": "e19f389b-dc91-4cc3-88c3-5d4b2e1cdf28",
   "metadata": {},
   "outputs": [
    {
     "data": {
      "text/plain": [
       "36"
      ]
     },
     "execution_count": 78,
     "metadata": {},
     "output_type": "execute_result"
    }
   ],
   "source": [
    "(qc.decompose().decompose().decompose().qasm()).count('\\ncx')"
   ]
  },
  {
   "cell_type": "code",
   "execution_count": 77,
   "id": "0144f4bb-5a00-406a-b533-e10c3114e72f",
   "metadata": {},
   "outputs": [
    {
     "data": {
      "text/html": [
       "<pre style=\"word-wrap: normal;white-space: pre;background: #fff0;line-height: 1.1;font-family: &quot;Courier New&quot;,Courier,monospace\">                                                                             »\n",
       "q_0: ────────────────────────────────────────────────────────────────────────»\n",
       "                                                                             »\n",
       "q_1: ────────────────────────────────────────────────────────────────────────»\n",
       "                                                                             »\n",
       "q_2: ────────────────────────────────────────────────────────────────────────»\n",
       "     ┌──────────────┐                         ┌─────────────┐ ┌─────────────┐»\n",
       "q_3: ┤ U3(0,0,-π/4) ├──■───────────────────■──┤ U3(π/2,0,π) ├─┤ U3(0,0,π/4) ├»\n",
       "     ├─────────────┬┘┌─┴─┐┌─────────────┐┌─┴─┐├─────────────┴┐├─────────────┤»\n",
       "q_4: ┤ U3(π/2,0,π) ├─┤ X ├┤ U3(0,0,π/4) ├┤ X ├┤ U3(0,0,-π/4) ├┤ U3(π/2,0,π) ├»\n",
       "     └─────────────┘ └───┘└─────────────┘└───┘└──────────────┘└─────────────┘»\n",
       "«                                                                            »\n",
       "«q_0: ────────────────────────────────────────────────■──────────────────────»\n",
       "«                                                     │                      »\n",
       "«q_1: ────────────────────────────────────────────────┼───────────────────■──»\n",
       "«                                                     │                   │  »\n",
       "«q_2: ───────■────────────────────────────────────────┼───────────────────┼──»\n",
       "«          ┌─┴─┐     ┌──────────────┐┌─────────────┐┌─┴─┐┌─────────────┐┌─┴─┐»\n",
       "«q_3: ─────┤ X ├─────┤ U3(0,0,-π/4) ├┤ U3(π/2,0,π) ├┤ X ├┤ U3(0,0,π/4) ├┤ X ├»\n",
       "«     ┌────┴───┴────┐└──────────────┘└─────────────┘└───┘└─────────────┘└───┘»\n",
       "«q_4: ┤ U3(π/2,0,π) ├────────────────────────────────────────────────────────»\n",
       "«     └─────────────┘                                                        »\n",
       "«                                                                             »\n",
       "«q_0: ──────────────────■─────────────────────────────────────────────────────»\n",
       "«                       │                                                     »\n",
       "«q_1: ──────────────────┼───────────────────■─────────────────────────────────»\n",
       "«                       │                   │                                 »\n",
       "«q_2: ──────────────────┼───────────────────┼─────────────────────────────────»\n",
       "«     ┌──────────────┐┌─┴─┐┌─────────────┐┌─┴─┐┌──────────────┐┌─────────────┐»\n",
       "«q_3: ┤ U3(0,0,-π/4) ├┤ X ├┤ U3(0,0,π/4) ├┤ X ├┤ U3(0,0,-π/4) ├┤ U3(π/2,0,π) ├»\n",
       "«     └──────────────┘└───┘└─────────────┘└───┘└──────────────┘└─────────────┘»\n",
       "«q_4: ────────────────────────────────────────────────────────────────────────»\n",
       "«                                                                             »\n",
       "«                                                                            »\n",
       "«q_0: ───────────────────────────────────────────────────────────────────────»\n",
       "«                                                                            »\n",
       "«q_1: ───────────────────────────────────────────────────────────────────────»\n",
       "«                                                                            »\n",
       "«q_2: ─────────────────■─────────────────────────────────────────────────────»\n",
       "«     ┌─────────────┐┌─┴─┐┌──────────────┐┌─────────────┐┌─────────────┐     »\n",
       "«q_3: ┤ U3(0,0,π/4) ├┤ X ├┤ U3(0,0,-π/4) ├┤ U3(π/2,0,π) ├┤ U3(0,0,π/4) ├──■──»\n",
       "«     └─────────────┘└───┘└──────────────┘└─────────────┘└─────────────┘┌─┴─┐»\n",
       "«q_4: ──────────────────────────────────────────────────────────────────┤ X ├»\n",
       "«                                                                       └───┘»\n",
       "«                                                                     »\n",
       "«q_0: ────────────────────────────────────────────────────────────────»\n",
       "«                                                                     »\n",
       "«q_1: ────────────────────────────────────────────────────────────────»\n",
       "«                                                                     »\n",
       "«q_2: ──────────────────────────────────────────────────────────■─────»\n",
       "«                          ┌───────────────┐┌─────────────┐   ┌─┴─┐   »\n",
       "«q_3: ──────────────────■──┤ U3(π/2,-2π,π) ├┤ U3(0,0,π/4) ├───┤ X ├───»\n",
       "«     ┌──────────────┐┌─┴─┐└┬─────────────┬┘├─────────────┤┌──┴───┴──┐»\n",
       "«q_4: ┤ U3(0,0,-π/4) ├┤ X ├─┤ U3(0,0,π/4) ├─┤ U3(π/2,0,π) ├┤ U2(0,π) ├»\n",
       "«     └──────────────┘└───┘ └─────────────┘ └─────────────┘└─────────┘»\n",
       "«                                                                          »\n",
       "«q_0: ─────────────────────────────────────────────────────────────────────»\n",
       "«                                                                          »\n",
       "«q_1: ──────────────────────────────────────────────────■──────────────────»\n",
       "«                                                       │                  »\n",
       "«q_2: ──────────────────────────────────────────────────┼──────────────────»\n",
       "«     ┌──────────────┐┌───────────────┐┌─────────────┐┌─┴─┐┌──────────────┐»\n",
       "«q_3: ┤ U3(0,0,-π/4) ├┤ U3(π/2,-2π,π) ├┤ U3(0,0,π/4) ├┤ X ├┤ U3(0,0,-π/4) ├»\n",
       "«     └──────────────┘└───────────────┘└─────────────┘└───┘└──────────────┘»\n",
       "«q_4: ─────────────────────────────────────────────────────────────────────»\n",
       "«                                                                          »\n",
       "«                                                     ┌───────────┐  »\n",
       "«q_0: ──■────────────────────────────────────────■────┤ U1(-π/16) ├──»\n",
       "«       │                                        │    └───────────┘  »\n",
       "«q_1: ──┼───────────────────■────────────────────┼───────────────────»\n",
       "«       │                   │                    │                   »\n",
       "«q_2: ──┼───────────────────┼────────────────────┼───────────────────»\n",
       "«     ┌─┴─┐┌─────────────┐┌─┴─┐┌──────────────┐┌─┴─┐┌───────────────┐»\n",
       "«q_3: ┤ X ├┤ U3(0,0,π/4) ├┤ X ├┤ U3(0,0,-π/4) ├┤ X ├┤ U3(π/2,-2π,π) ├»\n",
       "«     └───┘└─────────────┘└───┘└──────────────┘└───┘└───────────────┘»\n",
       "«q_4: ───────────────────────────────────────────────────────────────»\n",
       "«                                                                    »\n",
       "«                                                                           »\n",
       "«q_0: ─────────────────■────────────────────────────────■──────────■────────»\n",
       "«                      │                                │        ┌─┴─┐      »\n",
       "«q_1: ─────────────────┼────────────────────────────────┼────────┤ X ├──────»\n",
       "«                      │                                │        └───┘      »\n",
       "«q_2: ─────────────────┼───────■────────────────────────┼───────────────────»\n",
       "«     ┌─────────────┐  │     ┌─┴─┐    ┌──────────────┐  │  ┌───────────────┐»\n",
       "«q_3: ┤ U3(0,0,π/4) ├──┼─────┤ X ├────┤ U3(0,0,-π/4) ├──┼──┤ U3(π/2,-2π,π) ├»\n",
       "«     └─────────────┘┌─┴─┐┌──┴───┴───┐└──────────────┘┌─┴─┐└─┬───────────┬─┘»\n",
       "«q_4: ───────────────┤ X ├┤ U1(π/16) ├────────────────┤ X ├──┤ U1(-π/16) ├──»\n",
       "«                    └───┘└──────────┘                └───┘  └───────────┘  »\n",
       "«                                                                            »\n",
       "«q_0: ───────────────────────────────────────────────────■───────────────────»\n",
       "«     ┌──────────┐                                     ┌─┴─┐    ┌───────────┐»\n",
       "«q_1: ┤ U1(π/16) ├─────────────■─────────────────■─────┤ X ├────┤ U1(-π/16) ├»\n",
       "«     └──────────┘             │                 │     └───┘    └───────────┘»\n",
       "«q_2: ─────────────────────────┼─────────────────┼───────────────────────────»\n",
       "«                              │                 │                           »\n",
       "«q_3: ─────────────────────────┼─────────────────┼───────────────────────────»\n",
       "«     ┌─────────┐ ┌─────────┐┌─┴─┐┌───────────┐┌─┴─┐┌──────────┐ ┌─────────┐ »\n",
       "«q_4: ┤ U2(0,π) ├─┤ U2(0,π) ├┤ X ├┤ U1(-π/16) ├┤ X ├┤ U1(π/16) ├─┤ U2(0,π) ├─»\n",
       "«     └─────────┘ └─────────┘└───┘└───────────┘└───┘└──────────┘ └─────────┘ »\n",
       "«                                                                          »\n",
       "«q_0: ─────────────────────────────────────────────────────────────────────»\n",
       "«                                                                          »\n",
       "«q_1: ─────────────■────────────────■────────■─────────────────────────────»\n",
       "«                  │                │      ┌─┴─┐    ┌──────────┐           »\n",
       "«q_2: ─────────────┼────────────────┼──────┤ X ├────┤ U1(π/16) ├───────────»\n",
       "«                  │                │      └───┘    └──────────┘           »\n",
       "«q_3: ─────────────┼────────────────┼──────────────────────────────────────»\n",
       "«     ┌─────────┐┌─┴─┐┌──────────┐┌─┴─┐┌───────────┐┌─────────┐ ┌─────────┐»\n",
       "«q_4: ┤ U2(0,π) ├┤ X ├┤ U1(π/16) ├┤ X ├┤ U1(-π/16) ├┤ U2(0,π) ├─┤ U2(0,π) ├»\n",
       "«     └─────────┘└───┘└──────────┘└───┘└───────────┘└─────────┘ └─────────┘»\n",
       "«                                                                     »\n",
       "«q_0: ────────────────────────────■───────────────────────────────────»\n",
       "«                                 │                                   »\n",
       "«q_1: ────────────────────────────┼───────────────────────────────────»\n",
       "«                               ┌─┴─┐    ┌───────────┐                »\n",
       "«q_2: ──■─────────────────■─────┤ X ├────┤ U1(-π/16) ├─────────────■──»\n",
       "«       │                 │     └───┘    └───────────┘             │  »\n",
       "«q_3: ──┼─────────────────┼────────────────────────────────────────┼──»\n",
       "«     ┌─┴─┐┌───────────┐┌─┴─┐┌──────────┐ ┌─────────┐ ┌─────────┐┌─┴─┐»\n",
       "«q_4: ┤ X ├┤ U1(-π/16) ├┤ X ├┤ U1(π/16) ├─┤ U2(0,π) ├─┤ U2(0,π) ├┤ X ├»\n",
       "«     └───┘└───────────┘└───┘└──────────┘ └─────────┘ └─────────┘└───┘»\n",
       "«                                                                            »\n",
       "«q_0: ───────────────────────────────────────────────────────────────────────»\n",
       "«                                                                            »\n",
       "«q_1: ───────────────────────■───────────────────────────────────────────────»\n",
       "«                          ┌─┴─┐    ┌──────────┐                             »\n",
       "«q_2: ──────────────■──────┤ X ├────┤ U1(π/16) ├─────────────■───────────────»\n",
       "«                   │      └───┘    └──────────┘             │               »\n",
       "«q_3: ──────────────┼────────────────────────────────────────┼───────────────»\n",
       "«     ┌──────────┐┌─┴─┐┌───────────┐┌─────────┐ ┌─────────┐┌─┴─┐┌───────────┐»\n",
       "«q_4: ┤ U1(π/16) ├┤ X ├┤ U1(-π/16) ├┤ U2(0,π) ├─┤ U2(0,π) ├┤ X ├┤ U1(-π/16) ├»\n",
       "«     └──────────┘└───┘└───────────┘└─────────┘ └─────────┘└───┘└───────────┘»\n",
       "«                                                                    »\n",
       "«q_0: ──────────■────────────────────────────────────────────────────»\n",
       "«               │                                                    »\n",
       "«q_1: ──────────┼────────────────────────────────────────────────────»\n",
       "«             ┌─┴─┐    ┌───────────┐                                 »\n",
       "«q_2: ──■─────┤ X ├────┤ U1(-π/16) ├─────────────■────────────────■──»\n",
       "«       │     └───┘    └───────────┘             │                │  »\n",
       "«q_3: ──┼────────────────────────────────────────┼────────────────┼──»\n",
       "«     ┌─┴─┐┌──────────┐ ┌─────────┐ ┌─────────┐┌─┴─┐┌──────────┐┌─┴─┐»\n",
       "«q_4: ┤ X ├┤ U1(π/16) ├─┤ U2(0,π) ├─┤ U2(0,π) ├┤ X ├┤ U1(π/16) ├┤ X ├»\n",
       "«     └───┘└──────────┘ └─────────┘ └─────────┘└───┘└──────────┘└───┘»\n",
       "«                             \n",
       "«q_0: ────────────────────────\n",
       "«                             \n",
       "«q_1: ────────────────────────\n",
       "«                             \n",
       "«q_2: ────────────────────────\n",
       "«                             \n",
       "«q_3: ────────────────────────\n",
       "«     ┌───────────┐┌─────────┐\n",
       "«q_4: ┤ U1(-π/16) ├┤ U2(0,π) ├\n",
       "«     └───────────┘└─────────┘</pre>"
      ],
      "text/plain": [
       "                                                                             »\n",
       "q_0: ────────────────────────────────────────────────────────────────────────»\n",
       "                                                                             »\n",
       "q_1: ────────────────────────────────────────────────────────────────────────»\n",
       "                                                                             »\n",
       "q_2: ────────────────────────────────────────────────────────────────────────»\n",
       "     ┌──────────────┐                         ┌─────────────┐ ┌─────────────┐»\n",
       "q_3: ┤ U3(0,0,-π/4) ├──■───────────────────■──┤ U3(π/2,0,π) ├─┤ U3(0,0,π/4) ├»\n",
       "     ├─────────────┬┘┌─┴─┐┌─────────────┐┌─┴─┐├─────────────┴┐├─────────────┤»\n",
       "q_4: ┤ U3(π/2,0,π) ├─┤ X ├┤ U3(0,0,π/4) ├┤ X ├┤ U3(0,0,-π/4) ├┤ U3(π/2,0,π) ├»\n",
       "     └─────────────┘ └───┘└─────────────┘└───┘└──────────────┘└─────────────┘»\n",
       "«                                                                            »\n",
       "«q_0: ────────────────────────────────────────────────■──────────────────────»\n",
       "«                                                     │                      »\n",
       "«q_1: ────────────────────────────────────────────────┼───────────────────■──»\n",
       "«                                                     │                   │  »\n",
       "«q_2: ───────■────────────────────────────────────────┼───────────────────┼──»\n",
       "«          ┌─┴─┐     ┌──────────────┐┌─────────────┐┌─┴─┐┌─────────────┐┌─┴─┐»\n",
       "«q_3: ─────┤ X ├─────┤ U3(0,0,-π/4) ├┤ U3(π/2,0,π) ├┤ X ├┤ U3(0,0,π/4) ├┤ X ├»\n",
       "«     ┌────┴───┴────┐└──────────────┘└─────────────┘└───┘└─────────────┘└───┘»\n",
       "«q_4: ┤ U3(π/2,0,π) ├────────────────────────────────────────────────────────»\n",
       "«     └─────────────┘                                                        »\n",
       "«                                                                             »\n",
       "«q_0: ──────────────────■─────────────────────────────────────────────────────»\n",
       "«                       │                                                     »\n",
       "«q_1: ──────────────────┼───────────────────■─────────────────────────────────»\n",
       "«                       │                   │                                 »\n",
       "«q_2: ──────────────────┼───────────────────┼─────────────────────────────────»\n",
       "«     ┌──────────────┐┌─┴─┐┌─────────────┐┌─┴─┐┌──────────────┐┌─────────────┐»\n",
       "«q_3: ┤ U3(0,0,-π/4) ├┤ X ├┤ U3(0,0,π/4) ├┤ X ├┤ U3(0,0,-π/4) ├┤ U3(π/2,0,π) ├»\n",
       "«     └──────────────┘└───┘└─────────────┘└───┘└──────────────┘└─────────────┘»\n",
       "«q_4: ────────────────────────────────────────────────────────────────────────»\n",
       "«                                                                             »\n",
       "«                                                                            »\n",
       "«q_0: ───────────────────────────────────────────────────────────────────────»\n",
       "«                                                                            »\n",
       "«q_1: ───────────────────────────────────────────────────────────────────────»\n",
       "«                                                                            »\n",
       "«q_2: ─────────────────■─────────────────────────────────────────────────────»\n",
       "«     ┌─────────────┐┌─┴─┐┌──────────────┐┌─────────────┐┌─────────────┐     »\n",
       "«q_3: ┤ U3(0,0,π/4) ├┤ X ├┤ U3(0,0,-π/4) ├┤ U3(π/2,0,π) ├┤ U3(0,0,π/4) ├──■──»\n",
       "«     └─────────────┘└───┘└──────────────┘└─────────────┘└─────────────┘┌─┴─┐»\n",
       "«q_4: ──────────────────────────────────────────────────────────────────┤ X ├»\n",
       "«                                                                       └───┘»\n",
       "«                                                                     »\n",
       "«q_0: ────────────────────────────────────────────────────────────────»\n",
       "«                                                                     »\n",
       "«q_1: ────────────────────────────────────────────────────────────────»\n",
       "«                                                                     »\n",
       "«q_2: ──────────────────────────────────────────────────────────■─────»\n",
       "«                          ┌───────────────┐┌─────────────┐   ┌─┴─┐   »\n",
       "«q_3: ──────────────────■──┤ U3(π/2,-2π,π) ├┤ U3(0,0,π/4) ├───┤ X ├───»\n",
       "«     ┌──────────────┐┌─┴─┐└┬─────────────┬┘├─────────────┤┌──┴───┴──┐»\n",
       "«q_4: ┤ U3(0,0,-π/4) ├┤ X ├─┤ U3(0,0,π/4) ├─┤ U3(π/2,0,π) ├┤ U2(0,π) ├»\n",
       "«     └──────────────┘└───┘ └─────────────┘ └─────────────┘└─────────┘»\n",
       "«                                                                          »\n",
       "«q_0: ─────────────────────────────────────────────────────────────────────»\n",
       "«                                                                          »\n",
       "«q_1: ──────────────────────────────────────────────────■──────────────────»\n",
       "«                                                       │                  »\n",
       "«q_2: ──────────────────────────────────────────────────┼──────────────────»\n",
       "«     ┌──────────────┐┌───────────────┐┌─────────────┐┌─┴─┐┌──────────────┐»\n",
       "«q_3: ┤ U3(0,0,-π/4) ├┤ U3(π/2,-2π,π) ├┤ U3(0,0,π/4) ├┤ X ├┤ U3(0,0,-π/4) ├»\n",
       "«     └──────────────┘└───────────────┘└─────────────┘└───┘└──────────────┘»\n",
       "«q_4: ─────────────────────────────────────────────────────────────────────»\n",
       "«                                                                          »\n",
       "«                                                     ┌───────────┐  »\n",
       "«q_0: ──■────────────────────────────────────────■────┤ U1(-π/16) ├──»\n",
       "«       │                                        │    └───────────┘  »\n",
       "«q_1: ──┼───────────────────■────────────────────┼───────────────────»\n",
       "«       │                   │                    │                   »\n",
       "«q_2: ──┼───────────────────┼────────────────────┼───────────────────»\n",
       "«     ┌─┴─┐┌─────────────┐┌─┴─┐┌──────────────┐┌─┴─┐┌───────────────┐»\n",
       "«q_3: ┤ X ├┤ U3(0,0,π/4) ├┤ X ├┤ U3(0,0,-π/4) ├┤ X ├┤ U3(π/2,-2π,π) ├»\n",
       "«     └───┘└─────────────┘└───┘└──────────────┘└───┘└───────────────┘»\n",
       "«q_4: ───────────────────────────────────────────────────────────────»\n",
       "«                                                                    »\n",
       "«                                                                           »\n",
       "«q_0: ─────────────────■────────────────────────────────■──────────■────────»\n",
       "«                      │                                │        ┌─┴─┐      »\n",
       "«q_1: ─────────────────┼────────────────────────────────┼────────┤ X ├──────»\n",
       "«                      │                                │        └───┘      »\n",
       "«q_2: ─────────────────┼───────■────────────────────────┼───────────────────»\n",
       "«     ┌─────────────┐  │     ┌─┴─┐    ┌──────────────┐  │  ┌───────────────┐»\n",
       "«q_3: ┤ U3(0,0,π/4) ├──┼─────┤ X ├────┤ U3(0,0,-π/4) ├──┼──┤ U3(π/2,-2π,π) ├»\n",
       "«     └─────────────┘┌─┴─┐┌──┴───┴───┐└──────────────┘┌─┴─┐└─┬───────────┬─┘»\n",
       "«q_4: ───────────────┤ X ├┤ U1(π/16) ├────────────────┤ X ├──┤ U1(-π/16) ├──»\n",
       "«                    └───┘└──────────┘                └───┘  └───────────┘  »\n",
       "«                                                                            »\n",
       "«q_0: ───────────────────────────────────────────────────■───────────────────»\n",
       "«     ┌──────────┐                                     ┌─┴─┐    ┌───────────┐»\n",
       "«q_1: ┤ U1(π/16) ├─────────────■─────────────────■─────┤ X ├────┤ U1(-π/16) ├»\n",
       "«     └──────────┘             │                 │     └───┘    └───────────┘»\n",
       "«q_2: ─────────────────────────┼─────────────────┼───────────────────────────»\n",
       "«                              │                 │                           »\n",
       "«q_3: ─────────────────────────┼─────────────────┼───────────────────────────»\n",
       "«     ┌─────────┐ ┌─────────┐┌─┴─┐┌───────────┐┌─┴─┐┌──────────┐ ┌─────────┐ »\n",
       "«q_4: ┤ U2(0,π) ├─┤ U2(0,π) ├┤ X ├┤ U1(-π/16) ├┤ X ├┤ U1(π/16) ├─┤ U2(0,π) ├─»\n",
       "«     └─────────┘ └─────────┘└───┘└───────────┘└───┘└──────────┘ └─────────┘ »\n",
       "«                                                                          »\n",
       "«q_0: ─────────────────────────────────────────────────────────────────────»\n",
       "«                                                                          »\n",
       "«q_1: ─────────────■────────────────■────────■─────────────────────────────»\n",
       "«                  │                │      ┌─┴─┐    ┌──────────┐           »\n",
       "«q_2: ─────────────┼────────────────┼──────┤ X ├────┤ U1(π/16) ├───────────»\n",
       "«                  │                │      └───┘    └──────────┘           »\n",
       "«q_3: ─────────────┼────────────────┼──────────────────────────────────────»\n",
       "«     ┌─────────┐┌─┴─┐┌──────────┐┌─┴─┐┌───────────┐┌─────────┐ ┌─────────┐»\n",
       "«q_4: ┤ U2(0,π) ├┤ X ├┤ U1(π/16) ├┤ X ├┤ U1(-π/16) ├┤ U2(0,π) ├─┤ U2(0,π) ├»\n",
       "«     └─────────┘└───┘└──────────┘└───┘└───────────┘└─────────┘ └─────────┘»\n",
       "«                                                                     »\n",
       "«q_0: ────────────────────────────■───────────────────────────────────»\n",
       "«                                 │                                   »\n",
       "«q_1: ────────────────────────────┼───────────────────────────────────»\n",
       "«                               ┌─┴─┐    ┌───────────┐                »\n",
       "«q_2: ──■─────────────────■─────┤ X ├────┤ U1(-π/16) ├─────────────■──»\n",
       "«       │                 │     └───┘    └───────────┘             │  »\n",
       "«q_3: ──┼─────────────────┼────────────────────────────────────────┼──»\n",
       "«     ┌─┴─┐┌───────────┐┌─┴─┐┌──────────┐ ┌─────────┐ ┌─────────┐┌─┴─┐»\n",
       "«q_4: ┤ X ├┤ U1(-π/16) ├┤ X ├┤ U1(π/16) ├─┤ U2(0,π) ├─┤ U2(0,π) ├┤ X ├»\n",
       "«     └───┘└───────────┘└───┘└──────────┘ └─────────┘ └─────────┘└───┘»\n",
       "«                                                                            »\n",
       "«q_0: ───────────────────────────────────────────────────────────────────────»\n",
       "«                                                                            »\n",
       "«q_1: ───────────────────────■───────────────────────────────────────────────»\n",
       "«                          ┌─┴─┐    ┌──────────┐                             »\n",
       "«q_2: ──────────────■──────┤ X ├────┤ U1(π/16) ├─────────────■───────────────»\n",
       "«                   │      └───┘    └──────────┘             │               »\n",
       "«q_3: ──────────────┼────────────────────────────────────────┼───────────────»\n",
       "«     ┌──────────┐┌─┴─┐┌───────────┐┌─────────┐ ┌─────────┐┌─┴─┐┌───────────┐»\n",
       "«q_4: ┤ U1(π/16) ├┤ X ├┤ U1(-π/16) ├┤ U2(0,π) ├─┤ U2(0,π) ├┤ X ├┤ U1(-π/16) ├»\n",
       "«     └──────────┘└───┘└───────────┘└─────────┘ └─────────┘└───┘└───────────┘»\n",
       "«                                                                    »\n",
       "«q_0: ──────────■────────────────────────────────────────────────────»\n",
       "«               │                                                    »\n",
       "«q_1: ──────────┼────────────────────────────────────────────────────»\n",
       "«             ┌─┴─┐    ┌───────────┐                                 »\n",
       "«q_2: ──■─────┤ X ├────┤ U1(-π/16) ├─────────────■────────────────■──»\n",
       "«       │     └───┘    └───────────┘             │                │  »\n",
       "«q_3: ──┼────────────────────────────────────────┼────────────────┼──»\n",
       "«     ┌─┴─┐┌──────────┐ ┌─────────┐ ┌─────────┐┌─┴─┐┌──────────┐┌─┴─┐»\n",
       "«q_4: ┤ X ├┤ U1(π/16) ├─┤ U2(0,π) ├─┤ U2(0,π) ├┤ X ├┤ U1(π/16) ├┤ X ├»\n",
       "«     └───┘└──────────┘ └─────────┘ └─────────┘└───┘└──────────┘└───┘»\n",
       "«                             \n",
       "«q_0: ────────────────────────\n",
       "«                             \n",
       "«q_1: ────────────────────────\n",
       "«                             \n",
       "«q_2: ────────────────────────\n",
       "«                             \n",
       "«q_3: ────────────────────────\n",
       "«     ┌───────────┐┌─────────┐\n",
       "«q_4: ┤ U1(-π/16) ├┤ U2(0,π) ├\n",
       "«     └───────────┘└─────────┘"
      ]
     },
     "execution_count": 77,
     "metadata": {},
     "output_type": "execute_result"
    }
   ],
   "source": [
    "qc.decompose().decompose().decompose().draw()"
   ]
  },
  {
   "cell_type": "code",
   "execution_count": null,
   "id": "5478da0f-73a8-469e-8700-3f221b6d6d09",
   "metadata": {},
   "outputs": [],
   "source": []
  }
 ],
 "metadata": {
  "kernelspec": {
   "display_name": "Python 3",
   "language": "python",
   "name": "python3"
  },
  "language_info": {
   "codemirror_mode": {
    "name": "ipython",
    "version": 3
   },
   "file_extension": ".py",
   "mimetype": "text/x-python",
   "name": "python",
   "nbconvert_exporter": "python",
   "pygments_lexer": "ipython3",
   "version": "3.8.10"
  },
  "widgets": {
   "application/vnd.jupyter.widget-state+json": {
    "state": {},
    "version_major": 2,
    "version_minor": 0
   }
  }
 },
 "nbformat": 4,
 "nbformat_minor": 5
}
