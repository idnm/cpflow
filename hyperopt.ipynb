{
 "cells": [
  {
   "cell_type": "code",
   "execution_count": 1,
   "id": "60c10b15-492e-41c5-8bd2-5f53df5f40af",
   "metadata": {},
   "outputs": [
    {
     "name": "stderr",
     "output_type": "stream",
     "text": [
      "WARNING:absl:No GPU/TPU found, falling back to CPU. (Set TF_CPP_MIN_LOG_LEVEL=0 and rerun for more info.)\n"
     ]
    }
   ],
   "source": [
    "from jax_circuits import*\n",
    "from topology import *\n",
    "from penalty import *\n",
    "from cp_utils import *\n",
    "import matplotlib.pyplot as plt\n",
    "from scipy.stats import unitary_group\n",
    "from qiskit import transpile\n",
    "from qiskit.quantum_info import Operator\n",
    "import pickle\n",
    "import time\n",
    "\n",
    "import hyperopt\n",
    "from hyperopt import hp, fmin, tpe, Trials, STATUS_OK\n",
    "\n",
    "import hyperopt.pyll.stochastic\n",
    "from hyperopt.pyll import scope"
   ]
  },
  {
   "cell_type": "code",
   "execution_count": 57,
   "id": "c4294d3d-7098-4a4d-b4d1-61a8bc6c7ff0",
   "metadata": {},
   "outputs": [],
   "source": [
    "qc = QuantumCircuit(3)\n",
    "qc.ccx(0, 1, 2)\n",
    "u_toff3 = Operator(qc.reverse_bits()).data\n",
    "\n",
    "num_samples=50\n",
    "\n",
    "def objective(args):\n",
    "    r, num_gates = args\n",
    "    anz = Ansatz(3, 'cp', placements=fill_layers(chain_layer(3), num_gates))\n",
    "    reg_options = {'r': r,\n",
    "               'function': 'linear',\n",
    "               'ymax': 2,\n",
    "               'xmax': jnp.pi/2,\n",
    "               'plato': 0.05,\n",
    "               'accepted_num_gates': 12,\n",
    "               'target_num_gates': 8,\n",
    "               'cp_mask': anz.cp_mask}\n",
    "    \n",
    "    score, cz_counts = cp_ansatz_score(u_toff3, \n",
    "                                       anz, \n",
    "                                       reg_options, \n",
    "                                       num_samples=num_samples,\n",
    "                                       save_prospective_results=False,\n",
    "                                       save_raw_results=False,\n",
    "                                       cp_dist='0')\n",
    "    \n",
    "    return {\n",
    "        'loss': -score,\n",
    "        'status': STATUS_OK}"
   ]
  },
  {
   "cell_type": "code",
   "execution_count": 58,
   "id": "8a815957-5529-4f15-9fbe-4f94e855fe4c",
   "metadata": {},
   "outputs": [],
   "source": [
    "space = [hp.loguniform('r', jnp.log(0.0001), jnp.log(0.01)),\n",
    "        scope.int(hp.quniform('num_gates', 1, 30, 1))]\n",
    "\n",
    "samples = [hyperopt.pyll.stochastic.sample(space) for _ in range(100)] \n",
    "r_samples = [r for r,_ in samples]\n",
    "g_samples = [g for _,g in samples]\n",
    "\n",
    "# plt.xscale('log')\n",
    "# plt.hist(r_samples)"
   ]
  },
  {
   "cell_type": "code",
   "execution_count": 59,
   "id": "edf86098-d647-4fa0-8cc0-3978a9c124ca",
   "metadata": {},
   "outputs": [
    {
     "name": "stdout",
     "output_type": "stream",
     "text": [
      "100%|██████████| 150/150 [1:09:03<00:00, 27.62s/trial, best loss: -16.0625]\n",
      "{'num_gates': 21.0, 'r': 0.0005310848219253889}\n"
     ]
    }
   ],
   "source": [
    "trials = Trials()\n",
    "best = fmin(objective,\n",
    "    space=space,\n",
    "    algo=tpe.suggest,\n",
    "    max_evals=150,\n",
    "    trials=trials)\n",
    "\n",
    "print(best)"
   ]
  },
  {
   "cell_type": "code",
   "execution_count": 60,
   "id": "46b8d258-93cc-4e9d-b650-9b9999e467be",
   "metadata": {},
   "outputs": [
    {
     "name": "stdout",
     "output_type": "stream",
     "text": [
      "\n",
      "Computing raw results.\n",
      "\n",
      "Selecting prospective results:\n"
     ]
    },
    {
     "name": "stderr",
     "output_type": "stream",
     "text": [
      "50it [00:00, 75.01it/s]\n"
     ]
    },
    {
     "name": "stdout",
     "output_type": "stream",
     "text": [
      "4 found.\n",
      "\n",
      "Verifying prospective results:\n"
     ]
    },
    {
     "name": "stderr",
     "output_type": "stream",
     "text": [
      "100%|██████████| 4/4 [01:46<00:00, 26.54s/it]\n"
     ]
    },
    {
     "name": "stdout",
     "output_type": "stream",
     "text": [
      "4 successful.\n",
      "cz counts are:\n",
      "[8, 8, 8, 8]\n"
     ]
    }
   ],
   "source": [
    "qc = QuantumCircuit(3)\n",
    "qc.ccx(0, 1, 2)\n",
    "u_toff3 = Operator(qc.reverse_bits()).data\n",
    "\n",
    "anz = Ansatz(3, 'cp', fill_layers(chain_layer(3), 21))\n",
    "\n",
    "reg_options = {'r': 0.0005310848219253889,\n",
    "               'function': 'linear',\n",
    "               'ymax': 2,\n",
    "               'xmax': jnp.pi/2,\n",
    "               'plato': 0.05,\n",
    "               'target_num_gates': 8,\n",
    "               'accepted_num_gates': 8,\n",
    "               'angle_tolerance': 0.2,\n",
    "               'cp_mask': anz.cp_mask}\n",
    "\n",
    "key = random.PRNGKey(2)\n",
    "num_samples = 50\n",
    "\n",
    "successful_results, failed_results = cp_decompose(u_toff3, \n",
    "                                               anz,\n",
    "                                               regularization_options=reg_options,\n",
    "                                               num_samples=num_samples, \n",
    "                                               key=key,\n",
    "                                               disc_func=disc2,\n",
    "                                               cp_dist='0',\n",
    "                                               save_to='toff3_connected')"
   ]
  },
  {
   "cell_type": "code",
   "execution_count": 61,
   "id": "acbfe654-2b2c-483a-a1da-de008e5c81bb",
   "metadata": {},
   "outputs": [
    {
     "name": "stdout",
     "output_type": "stream",
     "text": [
      "100%|██████████| 100/100 [42:08<00:00, 25.28s/trial, best loss: -25.25] \n",
      "{'num_gates': 13.0, 'r': 0.000644899814208608}\n"
     ]
    }
   ],
   "source": [
    "qc = QuantumCircuit(3)\n",
    "qc.ccx(0, 1, 2)\n",
    "u_toff3 = Operator(qc.reverse_bits()).data\n",
    "\n",
    "num_samples=50\n",
    "\n",
    "def objective(args):\n",
    "    r, num_gates = args\n",
    "    anz = Ansatz(3, 'cp', placements=fill_layers(chain_layer(3), num_gates))\n",
    "    reg_options = {'r': r,\n",
    "               'function': 'linear',\n",
    "               'ymax': 2,\n",
    "               'xmax': jnp.pi/2,\n",
    "               'plato': 0.05,\n",
    "               'accepted_num_gates': 12,\n",
    "               'target_num_gates': 8,\n",
    "               'cp_mask': anz.cp_mask}\n",
    "    \n",
    "    score, cz_counts = cp_ansatz_score(u_toff3, \n",
    "                                       anz, \n",
    "                                       reg_options, \n",
    "                                       num_samples=num_samples,\n",
    "                                       save_prospective_results=False,\n",
    "                                       save_raw_results=False,\n",
    "                                       cp_dist='uniform')\n",
    "    \n",
    "    return {\n",
    "        'loss': -score,\n",
    "        'status': STATUS_OK}\n",
    "\n",
    "space = [hp.loguniform('r', jnp.log(0.0001), jnp.log(0.01)),\n",
    "        scope.int(hp.quniform('num_gates', 1, 30, 1))]\n",
    "\n",
    "trials = Trials()\n",
    "best = fmin(objective,\n",
    "    space=space,\n",
    "    algo=tpe.suggest,\n",
    "    max_evals=100,\n",
    "    trials=trials)\n",
    "\n",
    "print(best)"
   ]
  },
  {
   "cell_type": "code",
   "execution_count": 11,
   "id": "e87d9ef6-f91d-410b-9205-e59bb0c04a64",
   "metadata": {},
   "outputs": [
    {
     "name": "stdout",
     "output_type": "stream",
     "text": [
      "\n",
      "Computing raw results.\n",
      "\n",
      "Selecting prospective results:\n"
     ]
    },
    {
     "name": "stderr",
     "output_type": "stream",
     "text": [
      "100it [00:01, 89.37it/s]\n"
     ]
    },
    {
     "name": "stdout",
     "output_type": "stream",
     "text": [
      "13 found.\n",
      "\n",
      "Verifying prospective results:\n"
     ]
    },
    {
     "name": "stderr",
     "output_type": "stream",
     "text": [
      "100%|██████████| 13/13 [04:39<00:00, 21.51s/it]\n"
     ]
    },
    {
     "name": "stdout",
     "output_type": "stream",
     "text": [
      "13 successful.\n",
      "cz counts are:\n",
      "[8, 8, 8, 8, 8, 8, 8, 8, 8, 8, 8, 8, 8]\n"
     ]
    }
   ],
   "source": [
    "qc = QuantumCircuit(3)\n",
    "qc.ccx(0, 1, 2)\n",
    "u_toff3 = Operator(qc.reverse_bits()).data\n",
    "\n",
    "anz = Ansatz(3, 'cp', fill_layers(chain_layer(3), 13))\n",
    "\n",
    "reg_options = {'r': 0.0002510848219253889,\n",
    "               'function': 'linear',\n",
    "               'ymax': 2,\n",
    "               'xmax': jnp.pi/2,\n",
    "               'plato': 0.05,\n",
    "               'target_num_gates': 8,\n",
    "               'accepted_num_gates': 8,\n",
    "               'angle_tolerance': 0.2,\n",
    "               'cp_mask': anz.cp_mask}\n",
    "\n",
    "key = random.PRNGKey(5)\n",
    "num_samples = 100\n",
    "\n",
    "successful_results, failed_results = cp_decompose(u_toff3, \n",
    "                                               anz,\n",
    "                                               regularization_options=reg_options,\n",
    "                                               num_samples=num_samples, \n",
    "                                               key=key,\n",
    "                                               disc_func=disc2,\n",
    "                                               cp_dist='uniform',\n",
    "                                               save_to='toff3_connected')"
   ]
  },
  {
   "cell_type": "code",
   "execution_count": 2,
   "id": "59f15b5a-bf90-4f47-9483-0b1470a1d218",
   "metadata": {},
   "outputs": [
    {
     "name": "stdout",
     "output_type": "stream",
     "text": [
      "100%|██████████| 50/50 [1:39:57<00:00, 119.95s/trial, best loss: -1.2890625]\n",
      "{'num_gates': 25.0, 'r': 0.0005908527276785403}\n"
     ]
    }
   ],
   "source": [
    "qc = QuantumCircuit(4)\n",
    "qc.mct([0, 1, 2], 3)\n",
    "u_toff4 = Operator(qc.reverse_bits()).data\n",
    "\n",
    "num_samples=200\n",
    "\n",
    "def objective(args):\n",
    "    r, num_gates = args\n",
    "    anz = Ansatz(4, 'cp', placements=fill_layers(chain_layer(4), num_gates))\n",
    "    reg_options = {'r': r,\n",
    "               'function': 'linear',\n",
    "               'ymax': 2,\n",
    "               'xmax': jnp.pi/2,\n",
    "               'plato': 0.05,\n",
    "               'accepted_num_gates': 25,\n",
    "               'target_num_gates': 18,\n",
    "               'cp_mask': anz.cp_mask}\n",
    "    \n",
    "    score, cz_counts = cp_ansatz_score(u_toff4, \n",
    "                                       anz, \n",
    "                                       reg_options, \n",
    "                                       num_samples=num_samples,\n",
    "                                       save_prospective_results=False,\n",
    "                                       save_raw_results=False,\n",
    "                                       cp_dist='uniform')\n",
    "    \n",
    "    return {\n",
    "        'loss': -score,\n",
    "        'status': STATUS_OK}\n",
    "\n",
    "space = [hp.loguniform('r', jnp.log(0.00005), jnp.log(0.001)),\n",
    "        scope.int(hp.quniform('num_gates', 15, 40, 1))]\n",
    "\n",
    "trials = Trials()\n",
    "best = fmin(objective,\n",
    "    space=space,\n",
    "    algo=tpe.suggest,\n",
    "    max_evals=50,\n",
    "    trials=trials)\n",
    "\n",
    "print(best)    "
   ]
  },
  {
   "cell_type": "code",
   "execution_count": 3,
   "id": "4b5b3649-506c-4cbd-ab8c-9d38fce356fe",
   "metadata": {},
   "outputs": [
    {
     "name": "stdout",
     "output_type": "stream",
     "text": [
      "\n",
      "Computing raw results.\n",
      "\n",
      "Selecting prospective results:\n"
     ]
    },
    {
     "name": "stderr",
     "output_type": "stream",
     "text": [
      "2000it [00:39, 50.52it/s]\n"
     ]
    },
    {
     "name": "stdout",
     "output_type": "stream",
     "text": [
      "1 found.\n",
      "\n",
      "Verifying prospective results:\n"
     ]
    },
    {
     "name": "stderr",
     "output_type": "stream",
     "text": [
      "100%|██████████| 1/1 [00:47<00:00, 47.34s/it]"
     ]
    },
    {
     "name": "stdout",
     "output_type": "stream",
     "text": [
      "1 successful.\n",
      "cz counts are:\n",
      "[18]\n",
      "time: 1090.0114843845367\n"
     ]
    },
    {
     "name": "stderr",
     "output_type": "stream",
     "text": [
      "\n"
     ]
    }
   ],
   "source": [
    "time_start = time.time()\n",
    "qc = QuantumCircuit(4)\n",
    "qc.mct([0, 1, 2], 3)\n",
    "u_toff4 = Operator(qc.reverse_bits()).data\n",
    "\n",
    "\n",
    "anz = Ansatz(4, 'cp', fill_layers(chain_layer(4), 25))\n",
    "\n",
    "reg_options = {'r': 0.0005908527276785403,\n",
    "               'function': 'linear',\n",
    "               'ymax': 2,\n",
    "               'xmax': jnp.pi/2,\n",
    "               'plato': 0.05,\n",
    "               'accepted_num_gates': 19,\n",
    "               'target_num_gates': 18,\n",
    "               'cp_mask': anz.cp_mask}\n",
    "\n",
    "key = random.PRNGKey(131)\n",
    "\n",
    "num_samples = 2000\n",
    "\n",
    "successful_results, failed_results = cp_decompose(u_toff4, \n",
    "                                               anz,\n",
    "                                               regularization_options=reg_options,\n",
    "                                               num_samples=num_samples, \n",
    "                                               key=key,\n",
    "                                               disc_func=disc2,\n",
    "                                               cp_dist='uniform',\n",
    "                                               save_to='toff4_chain')\n",
    "\n",
    "print(f'time: {time.time()-time_start}')"
   ]
  },
  {
   "cell_type": "code",
   "execution_count": null,
   "id": "aba4faee-0454-4b73-889f-fa4d468beabb",
   "metadata": {},
   "outputs": [],
   "source": []
  }
 ],
 "metadata": {
  "kernelspec": {
   "display_name": "Python 3",
   "language": "python",
   "name": "python3"
  },
  "language_info": {
   "codemirror_mode": {
    "name": "ipython",
    "version": 3
   },
   "file_extension": ".py",
   "mimetype": "text/x-python",
   "name": "python",
   "nbconvert_exporter": "python",
   "pygments_lexer": "ipython3",
   "version": "3.8.10"
  },
  "widgets": {
   "application/vnd.jupyter.widget-state+json": {
    "state": {},
    "version_major": 2,
    "version_minor": 0
   }
  }
 },
 "nbformat": 4,
 "nbformat_minor": 5
}
