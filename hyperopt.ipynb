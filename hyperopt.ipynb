{
 "cells": [
  {
   "cell_type": "code",
   "execution_count": 7,
   "id": "60c10b15-492e-41c5-8bd2-5f53df5f40af",
   "metadata": {},
   "outputs": [],
   "source": [
    "from jax_circuits import*\n",
    "from topology import *\n",
    "from penalty import *\n",
    "from cp_utils import *\n",
    "import matplotlib.pyplot as plt\n",
    "from scipy.stats import unitary_group\n",
    "from qiskit import transpile\n",
    "from qiskit.quantum_info import Operator\n",
    "import pickle\n",
    "import time\n",
    "\n",
    "import hyperopt\n",
    "from hyperopt import hp, fmin, tpe, Trials, STATUS_OK"
   ]
  },
  {
   "cell_type": "code",
   "execution_count": 8,
   "id": "c4294d3d-7098-4a4d-b4d1-61a8bc6c7ff0",
   "metadata": {},
   "outputs": [],
   "source": [
    "qc = QuantumCircuit(3)\n",
    "qc.ccx(0, 1, 2)\n",
    "u_toff3 = Operator(qc.reverse_bits()).data\n",
    "\n",
    "def objective(args):\n",
    "    r, num_gates = args\n",
    "    num_gates = int(num_gates)\n",
    "    anz = Ansatz(3, 'cp', placements=fill_layers(sequ_layer(3), num_gates))\n",
    "    reg_options = {'r': r,\n",
    "               'function': 'linear',\n",
    "               'ymax': 2,\n",
    "               'xmax': jnp.pi/2,\n",
    "               'plato': 0.05,\n",
    "               'accepted_num_gates': 10,\n",
    "               'target_num_gates': 6,\n",
    "               'cp_mask': anz.cp_mask}\n",
    "    \n",
    "    time_start = time.time()\n",
    "    score, cz_counts = cp_ansatz_score(u_toff3, \n",
    "                                       anz, \n",
    "                                       reg_options, \n",
    "                                       num_samples=20,\n",
    "                                       save_prospective_results=False,\n",
    "                                       save_raw_results=False)\n",
    "    eval_time = time.time()-time_start\n",
    "    \n",
    "    return {\n",
    "        'loss': -score,\n",
    "        'status': STATUS_OK,\n",
    "        # -- store other results like this\n",
    "        'eval_time': eval_time,\n",
    "        # -- attachments are handled differently\n",
    "        'attachments':\n",
    "            {'time_module': pickle.dumps(time.time)}\n",
    "        }    \n",
    "    "
   ]
  },
  {
   "cell_type": "code",
   "execution_count": 9,
   "id": "edf86098-d647-4fa0-8cc0-3978a9c124ca",
   "metadata": {},
   "outputs": [
    {
     "name": "stdout",
     "output_type": "stream",
     "text": [
      "100%|██████████| 10/10 [05:11<00:00, 31.19s/trial, best loss: -7.1875]\n",
      "{'num_gates': 11.0, 'r': 0.007872887239086376}\n"
     ]
    }
   ],
   "source": [
    "space = [hp.uniform('r', 0.0001, 0.01),\n",
    "        hp.quniform('num_gates', 6, 30, 1)]\n",
    "\n",
    "trials = Trials()\n",
    "best = fmin(objective,\n",
    "    space=space,\n",
    "    algo=tpe.suggest,\n",
    "    max_evals=10,\n",
    "    trials=trials)\n",
    "\n",
    "print(best)"
   ]
  }
 ],
 "metadata": {
  "kernelspec": {
   "display_name": "Python 3",
   "language": "python",
   "name": "python3"
  },
  "language_info": {
   "codemirror_mode": {
    "name": "ipython",
    "version": 3
   },
   "file_extension": ".py",
   "mimetype": "text/x-python",
   "name": "python",
   "nbconvert_exporter": "python",
   "pygments_lexer": "ipython3",
   "version": "3.8.10"
  },
  "widgets": {
   "application/vnd.jupyter.widget-state+json": {
    "state": {},
    "version_major": 2,
    "version_minor": 0
   }
  }
 },
 "nbformat": 4,
 "nbformat_minor": 5
}
