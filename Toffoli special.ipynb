{
 "cells": [
  {
   "cell_type": "code",
   "execution_count": 43,
   "id": "b14b878d-d32a-4432-94fd-e375823575c5",
   "metadata": {},
   "outputs": [],
   "source": [
    "# import sys\n",
    "# sys.path.insert(0,'/home/idnm/Programming projects/jax_circuits')\n",
    "from jax_circuits import *\n",
    "from topology import *\n",
    "from qiskit import QuantumCircuit\n",
    "from qiskit.circuit.library import *"
   ]
  },
  {
   "cell_type": "markdown",
   "id": "484eead9-b628-42d5-ac3f-f0f360800a94",
   "metadata": {},
   "source": [
    "# Assembling"
   ]
  },
  {
   "cell_type": "markdown",
   "id": "ad45fe7f-1a98-4d73-bf62-11902002c139",
   "metadata": {},
   "source": [
    "## Toffoli 5 without ancilla"
   ]
  },
  {
   "cell_type": "markdown",
   "id": "44ceab3f-63f8-4008-8e37-3a12814c9492",
   "metadata": {},
   "source": [
    "We can find decomposition of Toffoli 5 without ancilla qubits using the following representation."
   ]
  },
  {
   "cell_type": "code",
   "execution_count": 44,
   "id": "f0b76284-58e3-4923-a91f-403a09f4f1d3",
   "metadata": {},
   "outputs": [
    {
     "name": "stdout",
     "output_type": "stream",
     "text": [
      "True\n"
     ]
    },
    {
     "data": {
      "image/png": "[encoded data removed]",
      "text/plain": [
       "<Figure size 387.597x325.08 with 1 Axes>"
      ]
     },
     "execution_count": 44,
     "metadata": {},
     "output_type": "execute_result"
    }
   ],
   "source": [
    "qc = QuantumCircuit(5)\n",
    "qc.mct([0,1,2], 3)\n",
    "qc.append(SXGate().inverse().control(1), [3,4])\n",
    "qc.mct([0,1,2], 3)\n",
    "qc.append(SXGate().control(1), [3,4])\n",
    "qc.append(SXGate().control(3), [0,1,2,4])\n",
    "print(jnp.allclose(Operator(qc.reverse_bits()).data, u_toff5))\n",
    "qc.draw(output='mpl')"
   ]
  },
  {
   "cell_type": "markdown",
   "id": "2e9ba78f-b30b-4a2d-8750-cc8d01f2a02e",
   "metadata": {},
   "source": [
    "In place of Toffoli 4 gates proper one can use relative phase Toffoli gates (On a fully connected topology they only 6 CNOT gates. I was not able to imporove this result allowing for an arbitrary 3-qubit unitary on control qubits. Note that if the unitary touches the target the result can be further improved to 4 CNOT gates). "
   ]
  },
  {
   "cell_type": "code",
   "execution_count": 52,
   "id": "6809af42-9bf1-485d-92d6-714a4b49a35d",
   "metadata": {},
   "outputs": [
    {
     "name": "stdout",
     "output_type": "stream",
     "text": [
      "1.2942249e-31\n"
     ]
    },
    {
     "data": {
      "image/png": "[encoded data removed]",
      "text/plain": [
       "<Figure size 1170.2x264.88 with 1 Axes>"
      ]
     },
     "execution_count": 52,
     "metadata": {},
     "output_type": "execute_result"
    }
   ],
   "source": [
    "qc = QuantumCircuit(4)\n",
    "\n",
    "qc.h(3)\n",
    "qc.t(3)\n",
    "qc.cx(2, 3)\n",
    "qc.tdg(3)\n",
    "qc.h(3)\n",
    "qc.cx(0, 3)\n",
    "qc.t(3)\n",
    "qc.cx(1, 3)\n",
    "qc.tdg(3)\n",
    "qc.cx(0, 3)\n",
    "qc.t(3)\n",
    "qc.cx(1, 3)\n",
    "qc.tdg(3)\n",
    "qc.h(3)\n",
    "qc.t(3)\n",
    "qc.cx(2,3)\n",
    "qc.tdg(3)\n",
    "qc.h(3)\n",
    "\n",
    "u_toff4_relative = Operator(qc.reverse_bits()).data\n",
    "print(disc_modulo_diagonal(u_toff4, u_toff4_relative, 4, [0, 1, 2, 3]))\n",
    "qc.draw(output='mpl')"
   ]
  },
  {
   "cell_type": "markdown",
   "id": "1e8f8d92-78eb-4000-9b52-da3d0e4aecf6",
   "metadata": {},
   "source": [
    "It remains to find an efficient decomposition of the controlled $\\sqrt{X}$ gate. This is where we use our program -- it was able to find a 14-CNOT decomposition of the controlled $\\sqrt{X}$ gate, the same complexity as the controlled $X$ itself. This gives in total 6+2+6+2+14=30 CNOT gates. The best 5-qubit Toffoli without ancilla decomposition known to me requires 36 CNOT gates."
   ]
  },
  {
   "cell_type": "markdown",
   "id": "543400d2-66b4-41fa-bb92-cb7375e67cd7",
   "metadata": {},
   "source": [
    "# Decomposing"
   ]
  },
  {
   "cell_type": "markdown",
   "id": "d37c2289-9c23-402d-a116-5b1e28db02e7",
   "metadata": {},
   "source": [
    "# Comparing"
   ]
  }
 ],
 "metadata": {
  "kernelspec": {
   "display_name": "python37",
   "language": "python",
   "name": "python37"
  },
  "language_info": {
   "codemirror_mode": {
    "name": "ipython",
    "version": 3
   },
   "file_extension": ".py",
   "mimetype": "text/x-python",
   "name": "python",
   "nbconvert_exporter": "python",
   "pygments_lexer": "ipython3",
   "version": "3.7.12"
  },
  "widgets": {
   "application/vnd.jupyter.widget-state+json": {
    "state": {},
    "version_major": 2,
    "version_minor": 0
   }
  }
 },
 "nbformat": 4,
 "nbformat_minor": 5
}
