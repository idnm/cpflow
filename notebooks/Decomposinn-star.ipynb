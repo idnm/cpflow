{
 "cells": [
  {
   "cell_type": "code",
   "execution_count": 1,
   "id": "1042721f-0714-4bea-b52d-c9163784f3f3",
   "metadata": {},
   "outputs": [
    {
     "name": "stderr",
     "output_type": "stream",
     "text": [
      "WARNING:absl:No GPU/TPU found, falling back to CPU. (Set TF_CPP_MIN_LOG_LEVEL=0 and rerun for more info.)\n"
     ]
    },
    {
     "data": {
      "text/plain": [
       "[<matplotlib.lines.Line2D at 0x7fade4214790>]"
      ]
     },
     "execution_count": 1,
     "metadata": {},
     "output_type": "execute_result"
    },
    {
     "data": {
      "image/png": "[encoded data removed]",
      "text/plain": [
       "<Figure size 432x288 with 1 Axes>"
      ]
     },
     "metadata": {
      "needs_background": "light"
     },
     "output_type": "display_data"
    }
   ],
   "source": [
    "from jax_circuits import *\n",
    "from cp_utils import *\n",
    "from topology import *\n",
    "from scipy.stats import unitary_group\n",
    "\n",
    "import matplotlib.pyplot as plt\n",
    "from hyperopt import plotting\n",
    "\n",
    "u_target = unitary_group.rvs(4, random_state=0)\n",
    "d = Decompose(sequ_layer(2), u_target=u_target)\n",
    "sweep = jnp.linspace(0, 4*jnp.pi, 200)\n",
    "plt.plot(sweep, vmap(d.cp_regularization_func)(sweep))"
   ]
  },
  {
   "cell_type": "markdown",
   "id": "76005866-de7f-45bf-bdc0-00202fe19720",
   "metadata": {},
   "source": [
    "# Toffoli 4"
   ]
  },
  {
   "cell_type": "markdown",
   "id": "97864a88-1088-410a-ade7-7fed01be8d98",
   "metadata": {
    "tags": []
   },
   "source": [
    "## star-shaped"
   ]
  },
  {
   "cell_type": "code",
   "execution_count": null,
   "id": "a97fa5e8-f6e8-49c8-af6b-648a2f158676",
   "metadata": {
    "collapsed": true,
    "jupyter": {
     "outputs_hidden": true
    },
    "tags": []
   },
   "outputs": [
    {
     "name": "stdout",
     "output_type": "stream",
     "text": [
      "\n",
      "Starting decomposition routine with the following options:\n",
      "\n",
      "Static:\n",
      "{'accepted_num_gates': None,\n",
      " 'batch_size': 400,\n",
      " 'cp_dist': 'uniform',\n",
      " 'entry_loss': 0.001,\n",
      " 'learning_rate': 0.01,\n",
      " 'method': 'adam',\n",
      " 'num_gd_iterations': 2000,\n",
      " 'target_loss': 1e-06,\n",
      " 'threshold_cp': 0.2}\n",
      "\n",
      "Adaptive:\n",
      "{'evals_between_verification': 1,\n",
      " 'hyperopt_random_seed': 0,\n",
      " 'max_evals': 200,\n",
      " 'max_num_cp_gates': 40,\n",
      " 'min_num_cp_gates': 35,\n",
      " 'r_mean': 0.00055,\n",
      " 'r_variance': 0.5,\n",
      " 'stop_if_target_reached': True,\n",
      " 'target_num_gates': 14}\n",
      "\n",
      "\n",
      "\n",
      "Found existing trials, resuming from here.\n"
     ]
    },
    {
     "name": "stderr",
     "output_type": "stream",
     "text": [
      "Epochs:   0%|                                                                                                                     | 0/200 [00:00<?, ?it/s]"
     ]
    },
    {
     "name": "stdout",
     "output_type": "stream",
     "text": [
      "\n",
      " 99%|██████████████████████████████████████████████████████████████████████████████████████████████████████████▎| 165/166 [00:00<?, ?trial/s, best loss=?]\u001b[A\n",
      "100%|█████████████████████████████████████████████████████████████████████████████| 166/166 [06:28<00:00, 388.03s/trial, best loss: -0.001390899415127933]\u001b[A\n"
     ]
    },
    {
     "name": "stderr",
     "output_type": "stream",
     "text": [
      "Epochs:   0%|▌                                                                                                        | 1/200 [06:28<21:27:59, 388.34s/it]"
     ]
    },
    {
     "name": "stdout",
     "output_type": "stream",
     "text": [
      "\n",
      "Found no better decompositions. Found 0 decompositions with the current best count 17.\n",
      "\n",
      " 99%|██████████████████████████████████████████████████████████████████████████████████████████████████████████▎| 166/167 [00:00<?, ?trial/s, best loss=?]\u001b[A\n",
      "100%|█████████████████████████████████████████████████████████████████████████████| 167/167 [06:59<00:00, 419.50s/trial, best loss: -0.001390899415127933]\u001b[A\n"
     ]
    },
    {
     "name": "stderr",
     "output_type": "stream",
     "text": [
      "Epochs:   1%|█                                                                                                        | 2/200 [13:28<22:22:38, 406.86s/it]"
     ]
    },
    {
     "name": "stdout",
     "output_type": "stream",
     "text": [
      "\n",
      "Found no better decompositions. Found 0 decompositions with the current best count 17.\n",
      "\n",
      " 99%|██████████████████████████████████████████████████████████████████████████████████████████████████████████▎| 167/168 [00:00<?, ?trial/s, best loss=?]\u001b[A\n",
      "100%|█████████████████████████████████████████████████████████████████████████████| 168/168 [06:49<00:00, 409.57s/trial, best loss: -0.001390899415127933]\u001b[A\n"
     ]
    },
    {
     "name": "stderr",
     "output_type": "stream",
     "text": [
      "Epochs:   2%|█▌                                                                                                       | 3/200 [20:18<22:20:30, 408.28s/it]"
     ]
    },
    {
     "name": "stdout",
     "output_type": "stream",
     "text": [
      "\n",
      "Found no better decompositions. Found 0 decompositions with the current best count 17.\n",
      "\n",
      " 99%|██████████████████████████████████████████████████████████████████████████████████████████████████████████▎| 168/169 [00:00<?, ?trial/s, best loss=?]\u001b[A\n",
      "100%|█████████████████████████████████████████████████████████████████████████████| 169/169 [06:42<00:00, 402.08s/trial, best loss: -0.001390899415127933]\u001b[A\n"
     ]
    },
    {
     "name": "stderr",
     "output_type": "stream",
     "text": [
      "Epochs:   2%|██                                                                                                       | 4/200 [27:00<22:06:13, 405.99s/it]"
     ]
    },
    {
     "name": "stdout",
     "output_type": "stream",
     "text": [
      "\n",
      "Found no better decompositions. Found 0 decompositions with the current best count 17.\n",
      "\n",
      " 99%|██████████████████████████████████████████████████████████████████████████████████████████████████████████▎| 169/170 [00:00<?, ?trial/s, best loss=?]\u001b[A\n",
      "100%|█████████████████████████████████████████████████████████████████████████████| 170/170 [06:26<00:00, 386.96s/trial, best loss: -0.001390899415127933]\u001b[A\n"
     ]
    },
    {
     "name": "stderr",
     "output_type": "stream",
     "text": [
      "Epochs:   2%|██▋                                                                                                      | 5/200 [33:27<21:37:29, 399.23s/it]"
     ]
    },
    {
     "name": "stdout",
     "output_type": "stream",
     "text": [
      "\n",
      "Found no better decompositions. Found 0 decompositions with the current best count 17.\n",
      "\n",
      " 99%|██████████████████████████████████████████████████████████████████████████████████████████████████████████▎| 170/171 [00:00<?, ?trial/s, best loss=?]\u001b[A\n",
      "100%|█████████████████████████████████████████████████████████████████████████████| 171/171 [06:39<00:00, 399.30s/trial, best loss: -0.001390899415127933]\u001b[A\n"
     ]
    },
    {
     "name": "stderr",
     "output_type": "stream",
     "text": [
      "Epochs:   3%|███▏                                                                                                     | 6/200 [40:07<21:31:15, 399.36s/it]"
     ]
    },
    {
     "name": "stdout",
     "output_type": "stream",
     "text": [
      "\n",
      "Found no better decompositions. Found 0 decompositions with the current best count 17.\n",
      "\n",
      " 99%|██████████████████████████████████████████████████████████████████████████████████████████████████████████▍| 171/172 [00:00<?, ?trial/s, best loss=?]\u001b[A\n",
      "100%|█████████████████████████████████████████████████████████████████████████████| 172/172 [06:46<00:00, 406.94s/trial, best loss: -0.001390899415127933]\u001b[A\n"
     ]
    },
    {
     "name": "stderr",
     "output_type": "stream",
     "text": [
      "Epochs:   4%|███▋                                                                                                     | 7/200 [46:54<21:32:56, 401.95s/it]"
     ]
    },
    {
     "name": "stdout",
     "output_type": "stream",
     "text": [
      "\n",
      "Found no better decompositions. Found 0 decompositions with the current best count 17.\n",
      "\n",
      " 99%|██████████████████████████████████████████████████████████████████████████████████████████████████████████▍| 172/173 [00:00<?, ?trial/s, best loss=?]\u001b[A\n",
      "100%|█████████████████████████████████████████████████████████████████████████████| 173/173 [06:58<00:00, 418.74s/trial, best loss: -0.001390899415127933]\u001b[A\n"
     ]
    },
    {
     "name": "stderr",
     "output_type": "stream",
     "text": [
      "Epochs:   4%|████▏                                                                                                    | 8/200 [53:53<21:43:42, 407.41s/it]"
     ]
    },
    {
     "name": "stdout",
     "output_type": "stream",
     "text": [
      "\n",
      "Found no better decompositions. Found 0 decompositions with the current best count 17.\n",
      "\n",
      " 99%|██████████████████████████████████████████████████████████████████████████████████████████████████████████▍| 173/174 [00:00<?, ?trial/s, best loss=?]\u001b[A\n",
      "100%|█████████████████████████████████████████████████████████████████████████████| 174/174 [06:41<00:00, 401.79s/trial, best loss: -0.001390899415127933]\u001b[A\n"
     ]
    },
    {
     "name": "stderr",
     "output_type": "stream",
     "text": [
      "Epochs:   4%|████▋                                                                                                  | 9/200 [1:00:36<21:31:42, 405.77s/it]"
     ]
    },
    {
     "name": "stdout",
     "output_type": "stream",
     "text": [
      "\n",
      "Found no better decompositions. Found 0 decompositions with the current best count 17.\n",
      "\n",
      " 99%|██████████████████████████████████████████████████████████████████████████████████████████████████████████▍| 174/175 [00:00<?, ?trial/s, best loss=?]\u001b[A\n",
      "100%|█████████████████████████████████████████████████████████████████████████████| 175/175 [06:28<00:00, 388.30s/trial, best loss: -0.001390899415127933]\u001b[A\n"
     ]
    },
    {
     "name": "stderr",
     "output_type": "stream",
     "text": [
      "Epochs:   5%|█████                                                                                                 | 10/200 [1:07:04<21:08:08, 400.46s/it]"
     ]
    },
    {
     "name": "stdout",
     "output_type": "stream",
     "text": [
      "\n",
      "Found no better decompositions. Found 0 decompositions with the current best count 17.\n",
      "\n",
      " 99%|██████████████████████████████████████████████████████████████████████████████████████████████████████████▍| 175/176 [00:00<?, ?trial/s, best loss=?]\u001b[A\n",
      "100%|█████████████████████████████████████████████████████████████████████████████| 176/176 [06:15<00:00, 375.32s/trial, best loss: -0.001390899415127933]\u001b[A\n"
     ]
    },
    {
     "name": "stderr",
     "output_type": "stream",
     "text": [
      "Epochs:   6%|█████▌                                                                                                | 11/200 [1:13:20<20:37:29, 392.86s/it]"
     ]
    },
    {
     "name": "stdout",
     "output_type": "stream",
     "text": [
      "\n",
      "Found no better decompositions. Found 0 decompositions with the current best count 17.\n",
      "\n",
      " 99%|██████████████████████████████████████████████████████████████████████████████████████████████████████████▍| 176/177 [00:00<?, ?trial/s, best loss=?]\u001b[A\n",
      "100%|█████████████████████████████████████████████████████████████████████████████| 177/177 [06:29<00:00, 389.64s/trial, best loss: -0.001390899415127933]\u001b[A\n"
     ]
    },
    {
     "name": "stderr",
     "output_type": "stream",
     "text": [
      "Epochs:   6%|██████                                                                                                | 12/200 [1:19:50<20:28:09, 391.97s/it]"
     ]
    },
    {
     "name": "stdout",
     "output_type": "stream",
     "text": [
      "\n",
      "Found no better decompositions. Found 0 decompositions with the current best count 17.\n",
      "\n",
      " 99%|██████████████████████████████████████████████████████████████████████████████████████████████████████████▍| 177/178 [00:00<?, ?trial/s, best loss=?]\u001b[A\n",
      "100%|█████████████████████████████████████████████████████████████████████████████| 178/178 [06:28<00:00, 388.52s/trial, best loss: -0.001390899415127933]\u001b[A\n"
     ]
    },
    {
     "name": "stderr",
     "output_type": "stream",
     "text": [
      "Epochs:   6%|██████▋                                                                                               | 13/200 [1:26:18<20:18:40, 391.02s/it]"
     ]
    },
    {
     "name": "stdout",
     "output_type": "stream",
     "text": [
      "\n",
      "Found no better decompositions. Found 0 decompositions with the current best count 17.\n",
      "\n",
      " 99%|██████████████████████████████████████████████████████████████████████████████████████████████████████████▍| 178/179 [00:00<?, ?trial/s, best loss=?]\u001b[A\n",
      "100%|█████████████████████████████████████████████████████████████████████████████| 179/179 [06:17<00:00, 377.64s/trial, best loss: -0.001390899415127933]\u001b[A\n"
     ]
    },
    {
     "name": "stderr",
     "output_type": "stream",
     "text": [
      "Epochs:   7%|███████▏                                                                                              | 14/200 [1:32:37<20:00:01, 387.10s/it]"
     ]
    },
    {
     "name": "stdout",
     "output_type": "stream",
     "text": [
      "\n",
      "Found no better decompositions. Found 0 decompositions with the current best count 17.\n",
      "\n",
      " 99%|██████████████████████████████████████████████████████████████████████████████████████████████████████████▍| 179/180 [00:00<?, ?trial/s, best loss=?]\u001b[A\n",
      "100%|█████████████████████████████████████████████████████████████████████████████| 180/180 [06:30<00:00, 390.46s/trial, best loss: -0.001390899415127933]\u001b[A\n"
     ]
    },
    {
     "name": "stderr",
     "output_type": "stream",
     "text": [
      "Epochs:   8%|███████▋                                                                                              | 15/200 [1:39:07<19:56:59, 388.21s/it]"
     ]
    },
    {
     "name": "stdout",
     "output_type": "stream",
     "text": [
      "\n",
      "Found no better decompositions. Found 0 decompositions with the current best count 17.\n",
      "\n",
      " 99%|██████████████████████████████████████████████████████████████████████████████████████████████████████████▍| 180/181 [00:00<?, ?trial/s, best loss=?]\u001b[A\n",
      "100%|█████████████████████████████████████████████████████████████████████████████| 181/181 [06:17<00:00, 377.60s/trial, best loss: -0.001390899415127933]\u001b[A\n"
     ]
    },
    {
     "name": "stderr",
     "output_type": "stream",
     "text": [
      "Epochs:   8%|████████▏                                                                                             | 16/200 [1:45:25<19:41:00, 385.11s/it]"
     ]
    },
    {
     "name": "stdout",
     "output_type": "stream",
     "text": [
      "\n",
      "Found no better decompositions. Found 0 decompositions with the current best count 17.\n",
      "\n",
      " 99%|██████████████████████████████████████████████████████████████████████████████████████████████████████████▍| 181/182 [00:00<?, ?trial/s, best loss=?]\u001b[A\n",
      "100%|█████████████████████████████████████████████████████████████████████████████| 182/182 [06:29<00:00, 389.78s/trial, best loss: -0.001390899415127933]\u001b[A\n"
     ]
    },
    {
     "name": "stderr",
     "output_type": "stream",
     "text": [
      "Epochs:   8%|████████▋                                                                                             | 17/200 [1:51:55<19:39:09, 386.61s/it]"
     ]
    },
    {
     "name": "stdout",
     "output_type": "stream",
     "text": [
      "\n",
      "Found no better decompositions. Found 0 decompositions with the current best count 17.\n",
      "\n",
      " 99%|██████████████████████████████████████████████████████████████████████████████████████████████████████████▍| 182/183 [00:00<?, ?trial/s, best loss=?]\u001b[A\n",
      "100%|█████████████████████████████████████████████████████████████████████████████| 183/183 [06:31<00:00, 391.63s/trial, best loss: -0.001390899415127933]\u001b[A\n"
     ]
    },
    {
     "name": "stderr",
     "output_type": "stream",
     "text": [
      "Epochs:   9%|█████████▏                                                                                            | 18/200 [1:58:27<19:37:39, 388.24s/it]"
     ]
    },
    {
     "name": "stdout",
     "output_type": "stream",
     "text": [
      "\n",
      "Found no better decompositions. Found 0 decompositions with the current best count 17.\n",
      "\n",
      " 99%|██████████████████████████████████████████████████████████████████████████████████████████████████████████▍| 183/184 [00:00<?, ?trial/s, best loss=?]\u001b[A\n",
      "100%|█████████████████████████████████████████████████████████████████████████████| 184/184 [06:19<00:00, 379.47s/trial, best loss: -0.001390899415127933]\u001b[A\n"
     ]
    },
    {
     "name": "stderr",
     "output_type": "stream",
     "text": [
      "Epochs:  10%|█████████▋                                                                                            | 19/200 [2:04:47<19:23:30, 385.70s/it]"
     ]
    },
    {
     "name": "stdout",
     "output_type": "stream",
     "text": [
      "\n",
      "Found no better decompositions. Found 0 decompositions with the current best count 17.\n",
      "\n",
      " 99%|██████████████████████████████████████████████████████████████████████████████████████████████████████████▍| 184/185 [00:00<?, ?trial/s, best loss=?]\u001b[A\n",
      "100%|█████████████████████████████████████████████████████████████████████████████| 185/185 [06:31<00:00, 391.27s/trial, best loss: -0.001390899415127933]\u001b[A\n"
     ]
    },
    {
     "name": "stderr",
     "output_type": "stream",
     "text": [
      "Epochs:  10%|██████████▏                                                                                           | 20/200 [2:11:19<19:22:23, 387.46s/it]"
     ]
    },
    {
     "name": "stdout",
     "output_type": "stream",
     "text": [
      "\n",
      "Found no better decompositions. Found 0 decompositions with the current best count 17.\n",
      "\n",
      " 99%|██████████████████████████████████████████████████████████████████████████████████████████████████████████▍| 185/186 [00:00<?, ?trial/s, best loss=?]\u001b[A"
     ]
    }
   ],
   "source": [
    "layer = [[0,1], [0,2], [0,3]]\n",
    "\n",
    "u_target = u_toff4\n",
    "decomposer = Decompose(layer, u_target=u_target)\n",
    "\n",
    "static_options = {'batch_size':400}\n",
    "adaptive_options = {\n",
    "    'max_evals': 200,\n",
    "    'evals_between_verification': 1,\n",
    "    'min_num_cp_gates': 35,\n",
    "    'max_num_cp_gates': 40,\n",
    "    'target_num_gates': 14}\n",
    "\n",
    "adaptive_results = decomposer.adaptive(\n",
    "    static_options=static_options,\n",
    "    adaptive_options=adaptive_options,\n",
    "    save_to='data/toff4_star/',\n",
    "    overwrite_existing_trials=False,\n",
    "    overwrite_existing_decompositions=False)"
   ]
  },
  {
   "cell_type": "code",
   "execution_count": 2,
   "id": "84d02a5f-6734-489e-83cd-78993f6858cb",
   "metadata": {},
   "outputs": [
    {
     "name": "stdout",
     "output_type": "stream",
     "text": [
      "avg best error: -0.001390899415127933\n"
     ]
    },
    {
     "data": {
      "image/png": "[encoded data removed]",
      "text/plain": [
       "<Figure size 432x288 with 1 Axes>"
      ]
     },
     "metadata": {
      "needs_background": "light"
     },
     "output_type": "display_data"
    },
    {
     "name": "stdout",
     "output_type": "stream",
     "text": [
      "finite loss range -0.001390899415127933 -0.0 -1.001390899415128\n"
     ]
    },
    {
     "data": {
      "image/png": "[encoded data removed]",
      "text/plain": [
       "<Figure size 432x288 with 2 Axes>"
      ]
     },
     "metadata": {
      "needs_background": "light"
     },
     "output_type": "display_data"
    }
   ],
   "source": [
    "trials, decompositions = Decompose.load_trials_and_decompositions('data/toff4_star/')\n",
    "plotting.main_plot_history(trials)\n",
    "plotting.main_plot_vars(trials)"
   ]
  },
  {
   "cell_type": "code",
   "execution_count": 8,
   "id": "635ffff6-6ed3-4285-acd8-71e7507e0484",
   "metadata": {},
   "outputs": [
    {
     "name": "stdout",
     "output_type": "stream",
     "text": [
      "\n",
      "Starting decomposition routine with the following options:\n",
      "\n",
      "{'accepted_num_gates': 17,\n",
      " 'batch_size': 5000,\n",
      " 'cp_dist': 'uniform',\n",
      " 'entry_loss': 0.001,\n",
      " 'learning_rate': 0.01,\n",
      " 'method': 'adam',\n",
      " 'num_gd_iterations': 2000,\n",
      " 'target_loss': 1e-06,\n",
      " 'threshold_cp': 0.2}\n",
      "\n",
      "Computing raw results...\n",
      "\n",
      "Selecting prospective results...\n"
     ]
    },
    {
     "name": "stderr",
     "output_type": "stream",
     "text": [
      "5000it [00:04, 1094.30it/s]\n"
     ]
    },
    {
     "name": "stdout",
     "output_type": "stream",
     "text": [
      "\n",
      "Found 1. Verifying...\n"
     ]
    },
    {
     "name": "stderr",
     "output_type": "stream",
     "text": [
      "100%|███████████████████████████████████████████████████████████████████████████████████████████████████████████████████████| 1/1 [01:04<00:00, 64.30s/it]"
     ]
    },
    {
     "name": "stdout",
     "output_type": "stream",
     "text": [
      "\n",
      "1 successful. cz counts are:\n",
      "[17]\n"
     ]
    },
    {
     "name": "stderr",
     "output_type": "stream",
     "text": [
      "\n"
     ]
    }
   ],
   "source": [
    "layer = [[0,1], [0,2], [0,3]]\n",
    "\n",
    "u_target = u_toff4\n",
    "decomposer = Decompose(layer, u_target=u_target)\n",
    "\n",
    "static_options = {'batch_size':5000,\n",
    "                 'accepted_num_gates': 17}\n",
    "\n",
    "static_results = decomposer.static(\n",
    "    41,\n",
    "    0.003472913211387546,\n",
    "    options=static_options,\n",
    "    save_to='data/toff4_star/',\n",
    "    overwrite_existing=False,\n",
    "    )\n",
    "\n"
   ]
  },
  {
   "cell_type": "code",
   "execution_count": 9,
   "id": "00297858-4fe6-42fa-8d53-413a8dc16375",
   "metadata": {},
   "outputs": [
    {
     "name": "stdout",
     "output_type": "stream",
     "text": [
      "\n",
      "Starting decomposition routine with the following options:\n",
      "\n",
      "{'accepted_num_gates': 17,\n",
      " 'batch_size': 5000,\n",
      " 'cp_dist': 'uniform',\n",
      " 'entry_loss': 0.001,\n",
      " 'learning_rate': 0.01,\n",
      " 'method': 'adam',\n",
      " 'num_gd_iterations': 2000,\n",
      " 'target_loss': 1e-06,\n",
      " 'threshold_cp': 0.2}\n",
      "\n",
      "Computing raw results...\n",
      "\n",
      "Selecting prospective results...\n"
     ]
    },
    {
     "name": "stderr",
     "output_type": "stream",
     "text": [
      "5000it [00:03, 1352.50it/s]"
     ]
    },
    {
     "name": "stdout",
     "output_type": "stream",
     "text": [
      "No results passed.\n"
     ]
    },
    {
     "name": "stderr",
     "output_type": "stream",
     "text": [
      "\n"
     ]
    }
   ],
   "source": [
    "layer = [[0,1], [0,2], [0,3]]\n",
    "\n",
    "u_target = u_toff4\n",
    "decomposer = Decompose(layer, u_target=u_target)\n",
    "\n",
    "static_options = {'batch_size':5000,\n",
    "                 'accepted_num_gates': 17}\n",
    "\n",
    "static_results = decomposer.static(\n",
    "    41,\n",
    "    0.003472913211387546,\n",
    "    key=random.PRNGKey(6),\n",
    "    options=static_options,\n",
    "    save_to='data/toff4_star/',\n",
    "    overwrite_existing=False,\n",
    "    )\n",
    "\n"
   ]
  },
  {
   "cell_type": "code",
   "execution_count": 5,
   "id": "9231bf9a-919a-4baf-85b8-e4176393fe9e",
   "metadata": {
    "collapsed": true,
    "jupyter": {
     "outputs_hidden": true
    },
    "tags": []
   },
   "outputs": [
    {
     "data": {
      "text/plain": [
       "{'state': 2,\n",
       " 'tid': 131,\n",
       " 'spec': None,\n",
       " 'result': {'loss': -0.001390899415127933,\n",
       "  'status': 'ok',\n",
       "  'angles_random_seed': 5275386,\n",
       "  'cz_counts': [17,\n",
       "   18,\n",
       "   19,\n",
       "   20,\n",
       "   20,\n",
       "   20,\n",
       "   20,\n",
       "   20,\n",
       "   21,\n",
       "   21,\n",
       "   21,\n",
       "   21,\n",
       "   21,\n",
       "   21,\n",
       "   21,\n",
       "   21,\n",
       "   22,\n",
       "   22,\n",
       "   22,\n",
       "   22,\n",
       "   22,\n",
       "   22,\n",
       "   22,\n",
       "   22,\n",
       "   22,\n",
       "   22,\n",
       "   22,\n",
       "   22,\n",
       "   22,\n",
       "   22,\n",
       "   22,\n",
       "   22,\n",
       "   22,\n",
       "   22,\n",
       "   22,\n",
       "   22,\n",
       "   22,\n",
       "   22,\n",
       "   23,\n",
       "   23,\n",
       "   23,\n",
       "   23,\n",
       "   23,\n",
       "   23,\n",
       "   23,\n",
       "   23,\n",
       "   23,\n",
       "   23,\n",
       "   23,\n",
       "   23,\n",
       "   23,\n",
       "   23,\n",
       "   23,\n",
       "   23,\n",
       "   23,\n",
       "   23,\n",
       "   23,\n",
       "   23,\n",
       "   23,\n",
       "   23,\n",
       "   23,\n",
       "   23,\n",
       "   23,\n",
       "   24,\n",
       "   24,\n",
       "   24,\n",
       "   24,\n",
       "   24,\n",
       "   24,\n",
       "   24,\n",
       "   24,\n",
       "   24,\n",
       "   24,\n",
       "   24,\n",
       "   24,\n",
       "   24,\n",
       "   24,\n",
       "   24,\n",
       "   24,\n",
       "   24,\n",
       "   24,\n",
       "   24,\n",
       "   24,\n",
       "   24,\n",
       "   24,\n",
       "   24,\n",
       "   24,\n",
       "   24,\n",
       "   24,\n",
       "   24,\n",
       "   24,\n",
       "   24,\n",
       "   24,\n",
       "   24,\n",
       "   25,\n",
       "   25,\n",
       "   25,\n",
       "   25,\n",
       "   25,\n",
       "   25,\n",
       "   25,\n",
       "   25,\n",
       "   25,\n",
       "   25,\n",
       "   25,\n",
       "   25,\n",
       "   25,\n",
       "   25,\n",
       "   25,\n",
       "   25,\n",
       "   25,\n",
       "   25,\n",
       "   25,\n",
       "   25,\n",
       "   25,\n",
       "   25,\n",
       "   25,\n",
       "   25,\n",
       "   25,\n",
       "   25,\n",
       "   25,\n",
       "   25,\n",
       "   25,\n",
       "   25,\n",
       "   25,\n",
       "   25,\n",
       "   25,\n",
       "   25,\n",
       "   25,\n",
       "   25,\n",
       "   25,\n",
       "   25,\n",
       "   26,\n",
       "   26,\n",
       "   26,\n",
       "   26,\n",
       "   26,\n",
       "   26,\n",
       "   26,\n",
       "   26,\n",
       "   26,\n",
       "   26,\n",
       "   26,\n",
       "   26,\n",
       "   26,\n",
       "   26,\n",
       "   26,\n",
       "   26,\n",
       "   26,\n",
       "   26,\n",
       "   26,\n",
       "   26,\n",
       "   26,\n",
       "   26,\n",
       "   26,\n",
       "   26,\n",
       "   26,\n",
       "   26,\n",
       "   26,\n",
       "   26,\n",
       "   26,\n",
       "   26,\n",
       "   26,\n",
       "   26,\n",
       "   26,\n",
       "   26,\n",
       "   26,\n",
       "   26,\n",
       "   27,\n",
       "   27,\n",
       "   27,\n",
       "   27,\n",
       "   27,\n",
       "   27,\n",
       "   27,\n",
       "   27,\n",
       "   27,\n",
       "   27,\n",
       "   27,\n",
       "   27,\n",
       "   27,\n",
       "   27,\n",
       "   27,\n",
       "   27,\n",
       "   27,\n",
       "   27,\n",
       "   27,\n",
       "   27,\n",
       "   27,\n",
       "   27,\n",
       "   27,\n",
       "   27,\n",
       "   27,\n",
       "   27,\n",
       "   28,\n",
       "   28,\n",
       "   28,\n",
       "   28,\n",
       "   28,\n",
       "   28,\n",
       "   28,\n",
       "   28,\n",
       "   28,\n",
       "   28,\n",
       "   28,\n",
       "   28,\n",
       "   28,\n",
       "   28,\n",
       "   28,\n",
       "   29,\n",
       "   29,\n",
       "   29,\n",
       "   29,\n",
       "   29,\n",
       "   29,\n",
       "   29,\n",
       "   29,\n",
       "   29,\n",
       "   29,\n",
       "   29,\n",
       "   29,\n",
       "   29,\n",
       "   30,\n",
       "   30,\n",
       "   30,\n",
       "   30,\n",
       "   30,\n",
       "   31,\n",
       "   31,\n",
       "   31,\n",
       "   31,\n",
       "   32,\n",
       "   32,\n",
       "   34,\n",
       "   35],\n",
       "  'layer': [[0, 1], [0, 2], [0, 3]],\n",
       "  'unitary_loss_func': <function jax_circuits.<lambda>(u)>,\n",
       "  'static_options': {'cp_dist': 'uniform',\n",
       "   'entry_loss': 0.001,\n",
       "   'target_loss': 1e-06,\n",
       "   'threshold_cp': 0.2,\n",
       "   'batch_size': 400,\n",
       "   'num_gd_iterations': 2000,\n",
       "   'method': 'adam',\n",
       "   'learning_rate': 0.01,\n",
       "   'accepted_num_gates': None}},\n",
       " 'misc': {'tid': 131,\n",
       "  'cmd': ('domain_attachment', 'FMinIter_Domain'),\n",
       "  'workdir': None,\n",
       "  'idxs': {'num_cp_gates': [131], 'r': [131]},\n",
       "  'vals': {'num_cp_gates': [41.0], 'r': [0.003472913211387546]}},\n",
       " 'exp_key': None,\n",
       " 'owner': None,\n",
       " 'version': 0,\n",
       " 'book_time': datetime.datetime(2022, 2, 23, 9, 52, 48, 683000),\n",
       " 'refresh_time': datetime.datetime(2022, 2, 23, 10, 0, 52, 35000)}"
      ]
     },
     "execution_count": 5,
     "metadata": {},
     "output_type": "execute_result"
    }
   ],
   "source": [
    "losses = [res['loss'] for res in trials.results]\n",
    "jnp.argmin(jnp.array(losses))\n",
    "trials.trials[131]"
   ]
  },
  {
   "cell_type": "markdown",
   "id": "c0a2e25e-5012-4729-8e8c-8cc225500839",
   "metadata": {},
   "source": [
    "## Chain"
   ]
  },
  {
   "cell_type": "code",
   "execution_count": null,
   "id": "5ecae5d0-69d4-4e51-ba70-f4e6b23ca781",
   "metadata": {},
   "outputs": [
    {
     "name": "stdout",
     "output_type": "stream",
     "text": [
      "\n",
      "Starting decomposition routine with the following options:\n",
      "\n",
      "Static:\n",
      "{'accepted_num_gates': None,\n",
      " 'batch_size': 400,\n",
      " 'cp_dist': 'uniform',\n",
      " 'entry_loss': 0.001,\n",
      " 'learning_rate': 0.01,\n",
      " 'method': 'adam',\n",
      " 'num_gd_iterations': 2000,\n",
      " 'target_loss': 1e-06,\n",
      " 'threshold_cp': 0.2}\n",
      "\n",
      "Adaptive:\n",
      "{'evals_between_verification': 1,\n",
      " 'hyperopt_random_seed': 0,\n",
      " 'max_evals': 200,\n",
      " 'max_num_cp_gates': 45,\n",
      " 'min_num_cp_gates': 16,\n",
      " 'r_mean': 0.00055,\n",
      " 'r_variance': 0.5,\n",
      " 'stop_if_target_reached': True,\n",
      " 'target_num_gates': 16}\n",
      "\n",
      "\n"
     ]
    },
    {
     "name": "stderr",
     "output_type": "stream",
     "text": [
      "Epochs:   0%|                                                                                                                     | 0/200 [00:00<?, ?it/s]"
     ]
    },
    {
     "name": "stdout",
     "output_type": "stream",
     "text": [
      "\n",
      "  0%|                                                                                                               | 0/1 [00:00<?, ?trial/s, best loss=?]\u001b[A\n",
      "100%|████████████████████████████████████████████████████████████████████████████████| 1/1 [03:25<00:00, 205.00s/trial, best loss: -7.324218586290954e-06]\u001b[A\n",
      "\n",
      "Found 2 decompositions potentially better than current best count 61, verifying...\n",
      "vefigying with options\n",
      "{'cp_dist': 'uniform', 'entry_loss': 0.001, 'target_loss': 1e-06, 'threshold_cp': 0.2, 'batch_size': 400, 'num_gd_iterations': 2000, 'method': 'adam', 'learning_rate': 0.01, 'accepted_num_gates': None}\n"
     ]
    },
    {
     "name": "stderr",
     "output_type": "stream",
     "text": [
      "Epochs:   0%|▌                                                                                                        | 1/200 [03:55<12:59:54, 235.15s/it]"
     ]
    },
    {
     "name": "stdout",
     "output_type": "stream",
     "text": [
      "\n",
      "Found new decomposition with 25 gates.\n",
      "\n",
      "\n",
      " 50%|███████████████████████████████████████████████████████▌                                                       | 1/2 [00:00<?, ?trial/s, best loss=?]\u001b[A"
     ]
    }
   ],
   "source": [
    "layer = chain_layer(4)\n",
    "\n",
    "u_target = u_toff4\n",
    "decomposer = Decompose(layer, u_target=u_target)\n",
    "st = 'data/toff4_chain/'\n",
    "\n",
    "static_options = {\n",
    "    'batch_size':400}\n",
    "\n",
    "adaptive_options = {\n",
    "    'max_evals': 200,\n",
    "    'evals_between_verification': 1,\n",
    "    'min_num_cp_gates': 16,\n",
    "    'max_num_cp_gates': 45,\n",
    "    'target_num_gates': 16}\n",
    "\n",
    "adaptive_results = decomposer.adaptive(\n",
    "    static_options=static_options,\n",
    "    adaptive_options=adaptive_options,\n",
    "    save_to=st,\n",
    "    overwrite_existing_trials=False,\n",
    "    overwrite_existing_decompositions=False)"
   ]
  },
  {
   "cell_type": "code",
   "execution_count": null,
   "id": "faaf1c47-0253-4b0a-825c-27a7dc752734",
   "metadata": {},
   "outputs": [],
   "source": [
    "trials, decompositions = Decompose.load_trials_and_decompositions('data/toff4_square/')\n",
    "plotting.main_plot_history(trials)\n",
    "plotting.main_plot_vars(trials)"
   ]
  },
  {
   "cell_type": "markdown",
   "id": "43a2133f-be1f-4e42-b538-731611ef7ec7",
   "metadata": {
    "jp-MarkdownHeadingCollapsed": true,
    "tags": []
   },
   "source": [
    "# Chain Toffoli 3 with 7 gates up to a swap"
   ]
  },
  {
   "cell_type": "code",
   "execution_count": 85,
   "id": "6b1c682a-4321-4c58-b31d-0be28939b2aa",
   "metadata": {
    "collapsed": true,
    "jupyter": {
     "outputs_hidden": true
    },
    "tags": []
   },
   "outputs": [
    {
     "name": "stdout",
     "output_type": "stream",
     "text": [
      "\n",
      "Starting decomposition routine with the following options:\n",
      "\n",
      "Static:\n",
      "{'accepted_num_gates': 8,\n",
      " 'batch_size': 100,\n",
      " 'cp_dist': 'uniform',\n",
      " 'entry_loss': 0.001,\n",
      " 'learning_rate': 0.01,\n",
      " 'method': 'adam',\n",
      " 'num_gd_iterations': 2000,\n",
      " 'target_loss': 1e-06,\n",
      " 'threshold_cp': 0.2}\n",
      "\n",
      "Adaptive:\n",
      "{'evals_between_verification': 2,\n",
      " 'hyperopt_random_seed': 0,\n",
      " 'max_evals': 20,\n",
      " 'max_num_cp_gates': 12,\n",
      " 'min_num_cp_gates': 6,\n",
      " 'r_mean': 0.00055,\n",
      " 'r_variance': 0.5,\n",
      " 'stop_if_target_reached': False,\n",
      " 'target_num_gates': 7}\n",
      "\n",
      "\n"
     ]
    },
    {
     "name": "stderr",
     "output_type": "stream",
     "text": [
      "Epochs:   0%|                                                                                                                      | 0/10 [00:00<?, ?it/s]"
     ]
    },
    {
     "name": "stdout",
     "output_type": "stream",
     "text": [
      "\n",
      "  0%|                                                                                                               | 0/2 [00:00<?, ?trial/s, best loss=?]\u001b[A\n",
      " 50%|█████████████████████████████████████████▌                                         | 1/2 [00:33<00:33, 33.13s/trial, best loss: -0.02437499910593033]\u001b[A\n",
      "100%|██████████████████████████████████████████████████████████████████████████████████| 2/2 [01:08<00:00, 34.29s/trial, best loss: -0.048124998807907104]\u001b[A\n",
      "\n",
      "Found 36 decompositions potentially better than current best count 14, verifying...\n"
     ]
    },
    {
     "name": "stderr",
     "output_type": "stream",
     "text": [
      "Epochs:  10%|███████████                                                                                                   | 1/10 [01:25<12:49, 85.49s/it]"
     ]
    },
    {
     "name": "stdout",
     "output_type": "stream",
     "text": [
      "\n",
      "Found new decomposition with 8 gates.\n",
      "\n",
      "\n",
      " 50%|███████████████████████████████████████████████████████▌                                                       | 2/4 [00:00<?, ?trial/s, best loss=?]\u001b[A\n",
      " 75%|█████████████████████████████████████████████████████████████▌                    | 3/4 [00:32<00:32, 32.10s/trial, best loss: -0.048124998807907104]\u001b[A\n",
      "100%|██████████████████████████████████████████████████████████████████████████████████| 4/4 [01:02<00:00, 31.06s/trial, best loss: -0.054375000298023224]\u001b[A"
     ]
    },
    {
     "name": "stderr",
     "output_type": "stream",
     "text": [
      "Epochs:  20%|██████████████████████                                                                                        | 2/10 [02:27<09:34, 71.75s/it]"
     ]
    },
    {
     "name": "stdout",
     "output_type": "stream",
     "text": [
      "\n",
      "\n",
      "Found no better decompositions. Found 4 decompositions with the current best count 8.\n",
      "\n",
      " 67%|██████████████████████████████████████████████████████████████████████████                                     | 4/6 [00:00<?, ?trial/s, best loss=?]\u001b[A\n",
      " 83%|████████████████████████████████████████████████████████████████████▎             | 5/6 [00:31<00:31, 31.12s/trial, best loss: -0.054375000298023224]\u001b[A\n",
      "100%|███████████████████████████████████████████████████████████████████████████████████| 6/6 [00:59<00:00, 29.96s/trial, best loss: -0.08453124761581421]\u001b[A\n",
      "\n",
      "Found 5 decompositions potentially better than current best count 8, verifying...\n"
     ]
    },
    {
     "name": "stderr",
     "output_type": "stream",
     "text": [
      "Epochs:  30%|█████████████████████████████████                                                                             | 3/10 [03:42<08:32, 73.16s/it]"
     ]
    },
    {
     "name": "stdout",
     "output_type": "stream",
     "text": [
      "\n",
      "Found new decomposition with 7 gates.\n",
      "\n",
      "\n",
      " 75%|███████████████████████████████████████████████████████████████████████████████████▎                           | 6/8 [00:00<?, ?trial/s, best loss=?]\u001b[A\n",
      " 88%|████████████████████████████████████████████████████████████████████████▋          | 7/8 [00:35<00:35, 35.22s/trial, best loss: -0.08453124761581421]\u001b[A\n",
      "100%|███████████████████████████████████████████████████████████████████████████████████| 8/8 [01:04<00:00, 32.38s/trial, best loss: -0.08453124761581421]\u001b[A"
     ]
    },
    {
     "name": "stderr",
     "output_type": "stream",
     "text": [
      "Epochs:  40%|████████████████████████████████████████████                                                                  | 4/10 [04:47<06:59, 69.85s/it]"
     ]
    },
    {
     "name": "stdout",
     "output_type": "stream",
     "text": [
      "\n",
      "\n",
      "Found no better decompositions. Found 1 decompositions with the current best count 7.\n",
      "\n",
      " 80%|████████████████████████████████████████████████████████████████████████████████████████                      | 8/10 [00:00<?, ?trial/s, best loss=?]\u001b[A\n",
      " 90%|█████████████████████████████████████████████████████████████████████████▊        | 9/10 [00:29<00:29, 29.38s/trial, best loss: -0.08453124761581421]\u001b[A\n",
      "100%|█████████████████████████████████████████████████████████████████████████████████| 10/10 [00:56<00:00, 28.47s/trial, best loss: -0.08453124761581421]\u001b[A"
     ]
    },
    {
     "name": "stderr",
     "output_type": "stream",
     "text": [
      "Epochs:  50%|███████████████████████████████████████████████████████                                                       | 5/10 [05:44<05:26, 65.20s/it]"
     ]
    },
    {
     "name": "stdout",
     "output_type": "stream",
     "text": [
      "\n",
      "\n",
      "Found no better decompositions. Found 3 decompositions with the current best count 7.\n",
      "\n",
      " 83%|██████████████████████████████████████████████████████████████████████████████████████████▊                  | 10/12 [00:00<?, ?trial/s, best loss=?]\u001b[A\n",
      " 92%|██████████████████████████████████████████████████████████████████████████▎      | 11/12 [00:28<00:28, 28.48s/trial, best loss: -0.08453124761581421]\u001b[A\n",
      "100%|█████████████████████████████████████████████████████████████████████████████████| 12/12 [00:56<00:00, 28.11s/trial, best loss: -0.08453124761581421]\u001b[A"
     ]
    },
    {
     "name": "stderr",
     "output_type": "stream",
     "text": [
      "Epochs:  60%|██████████████████████████████████████████████████████████████████                                            | 6/10 [06:40<04:08, 62.16s/it]"
     ]
    },
    {
     "name": "stdout",
     "output_type": "stream",
     "text": [
      "\n",
      "\n",
      "Found no better decompositions. Found 0 decompositions with the current best count 7.\n",
      "\n",
      " 86%|█████████████████████████████████████████████████████████████████████████████████████████████▍               | 12/14 [00:00<?, ?trial/s, best loss=?]\u001b[A\n",
      " 93%|███████████████████████████████████████████████████████████████████████████▏     | 13/14 [00:35<00:35, 35.26s/trial, best loss: -0.08453124761581421]\u001b[A\n",
      "100%|█████████████████████████████████████████████████████████████████████████████████| 14/14 [01:03<00:00, 31.77s/trial, best loss: -0.09289062768220901]\u001b[A"
     ]
    },
    {
     "name": "stderr",
     "output_type": "stream",
     "text": [
      "Epochs:  70%|█████████████████████████████████████████████████████████████████████████████                                 | 7/10 [07:43<03:07, 62.61s/it]"
     ]
    },
    {
     "name": "stdout",
     "output_type": "stream",
     "text": [
      "\n",
      "\n",
      "Found no better decompositions. Found 4 decompositions with the current best count 7.\n",
      "\n",
      " 88%|███████████████████████████████████████████████████████████████████████████████████████████████▍             | 14/16 [00:00<?, ?trial/s, best loss=?]\u001b[A\n",
      " 94%|███████████████████████████████████████████████████████████████████████████▉     | 15/16 [00:30<00:30, 30.75s/trial, best loss: -0.09289062768220901]\u001b[A\n",
      "100%|█████████████████████████████████████████████████████████████████████████████████| 16/16 [01:01<00:00, 30.71s/trial, best loss: -0.09289062768220901]\u001b[A"
     ]
    },
    {
     "name": "stderr",
     "output_type": "stream",
     "text": [
      "Epochs:  80%|████████████████████████████████████████████████████████████████████████████████████████                      | 8/10 [08:45<02:04, 62.24s/it]"
     ]
    },
    {
     "name": "stdout",
     "output_type": "stream",
     "text": [
      "\n",
      "\n",
      "Found no better decompositions. Found 0 decompositions with the current best count 7.\n",
      "\n",
      " 89%|████████████████████████████████████████████████████████████████████████████████████████████████▉            | 16/18 [00:00<?, ?trial/s, best loss=?]\u001b[A\n",
      " 94%|████████████████████████████████████████████████████████████████████████████▌    | 17/18 [00:32<00:32, 32.05s/trial, best loss: -0.09289062768220901]\u001b[A\n",
      "100%|█████████████████████████████████████████████████████████████████████████████████| 18/18 [01:04<00:00, 32.22s/trial, best loss: -0.09289062768220901]\u001b[A"
     ]
    },
    {
     "name": "stderr",
     "output_type": "stream",
     "text": [
      "Epochs:  90%|███████████████████████████████████████████████████████████████████████████████████████████████████           | 9/10 [09:49<01:02, 62.93s/it]"
     ]
    },
    {
     "name": "stdout",
     "output_type": "stream",
     "text": [
      "\n",
      "\n",
      "Found no better decompositions. Found 2 decompositions with the current best count 7.\n",
      "\n",
      " 90%|██████████████████████████████████████████████████████████████████████████████████████████████████           | 18/20 [00:00<?, ?trial/s, best loss=?]\u001b[A\n",
      " 95%|████████████████████████████████████████████████████████████████████████████▉    | 19/20 [00:37<00:37, 37.61s/trial, best loss: -0.09289062768220901]\u001b[A\n",
      "100%|█████████████████████████████████████████████████████████████████████████████████| 20/20 [01:09<00:00, 34.95s/trial, best loss: -0.09289062768220901]\u001b[A"
     ]
    },
    {
     "name": "stderr",
     "output_type": "stream",
     "text": [
      "Epochs: 100%|█████████████████████████████████████████████████████████████████████████████████████████████████████████████| 10/10 [10:59<00:00, 65.98s/it]"
     ]
    },
    {
     "name": "stdout",
     "output_type": "stream",
     "text": [
      "\n",
      "\n",
      "Found no better decompositions. Found 3 decompositions with the current best count 7.\n"
     ]
    },
    {
     "name": "stderr",
     "output_type": "stream",
     "text": [
      "\n"
     ]
    }
   ],
   "source": [
    "u_target = u_toff3\n",
    "layer = chain_layer(3)\n",
    "unitary_loss_func = lambda u: disc2_swap(u, u_target, 3)\n",
    "\n",
    "decomposer = Decompose(layer, unitary_loss_func=unitary_loss_func)\n",
    "\n",
    "static_options = {'batch_size': 100, 'accepted_num_gates': 8}\n",
    "\n",
    "adaptive_options = {'max_evals':20,\n",
    "                   'max_num_cp_gates':12,\n",
    "                   'min_num_cp_gates':6,\n",
    "                   'target_num_gates': 7,\n",
    "                   'evals_between_verification':2,\n",
    "                   'stop_if_target_reached': False}\n",
    "\n",
    "\n",
    "results = decomposer.adaptive(\n",
    "    static_options=static_options,\n",
    "    adaptive_options = adaptive_options,\n",
    "    save_to = 'data/toff3_chain_swap/',\n",
    "    overwrite_existing_trials=False,\n",
    "    overwrite_existing_decompositions=False,\n",
    ")"
   ]
  },
  {
   "cell_type": "code",
   "execution_count": 98,
   "id": "e86f4e05-f877-4b04-99de-0b9715d0476f",
   "metadata": {},
   "outputs": [
    {
     "data": {
      "image/png": "[encoded data removed]",
      "text/plain": [
       "<Figure size 1591.6x445.48 with 1 Axes>"
      ]
     },
     "execution_count": 98,
     "metadata": {},
     "output_type": "execute_result"
    }
   ],
   "source": [
    "trials, decompositions = Decompose.load_trials_and_decompositions('data/toff3_chain_swap/')\n",
    "cz, circ, u, angs = decompositions[-1]\n",
    "disc2(u(angs), permutation_matrices(3)[1]@u_toff3)\n",
    "circ(angs).draw(output='mpl')"
   ]
  },
  {
   "cell_type": "markdown",
   "id": "aac6a626-90ca-4118-91fb-99118a4fea96",
   "metadata": {},
   "source": [
    "## Clean ancilla"
   ]
  },
  {
   "cell_type": "code",
   "execution_count": null,
   "id": "a0407aba-c535-4d5e-a201-a584b1c01951",
   "metadata": {},
   "outputs": [
    {
     "name": "stdout",
     "output_type": "stream",
     "text": [
      "\n",
      "Starting decomposition routine with the following options:\n",
      "\n",
      "Static:\n",
      "{'accepted_num_gates': 15,\n",
      " 'batch_size': 500,\n",
      " 'cp_dist': 'uniform',\n",
      " 'entry_loss': 0.001,\n",
      " 'learning_rate': 0.01,\n",
      " 'method': 'adam',\n",
      " 'num_gd_iterations': 2000,\n",
      " 'target_loss': 1e-06,\n",
      " 'threshold_cp': 0.2}\n",
      "\n",
      "Adaptive:\n",
      "{'evals_between_verification': 2,\n",
      " 'hyperopt_random_seed': 0,\n",
      " 'max_evals': 30,\n",
      " 'max_num_cp_gates': 35,\n",
      " 'min_num_cp_gates': 12,\n",
      " 'r_mean': 0.00055,\n",
      " 'r_variance': 0.5,\n",
      " 'stop_if_target_reached': False,\n",
      " 'target_num_gates': 13}\n",
      "\n",
      "\n"
     ]
    },
    {
     "name": "stderr",
     "output_type": "stream",
     "text": [
      "Epochs:   0%|                                                                                                                      | 0/15 [00:00<?, ?it/s]"
     ]
    },
    {
     "name": "stdout",
     "output_type": "stream",
     "text": [
      "\n",
      "  0%|                                                                                                               | 0/2 [00:00<?, ?trial/s, best loss=?]\u001b[A\n",
      " 50%|█████████████████████████████████████████████████                                                 | 1/2 [08:24<08:24, 504.65s/trial, best loss: -0.0]\u001b[A\n",
      "100%|██████████████████████████████████████████████████████████████████████████████████████████████████| 2/2 [17:59<00:00, 539.67s/trial, best loss: -0.0]\u001b[A"
     ]
    },
    {
     "name": "stderr",
     "output_type": "stream",
     "text": [
      "Epochs:   7%|███████                                                                                                   | 1/15 [17:59<4:11:51, 1079.36s/it]"
     ]
    },
    {
     "name": "stdout",
     "output_type": "stream",
     "text": [
      "\n",
      "\n",
      "Found no better decompositions. Found 0 decompositions with the current best count 253.\n",
      "\n",
      " 50%|███████████████████████████████████████████████████████▌                                                       | 2/4 [00:00<?, ?trial/s, best loss=?]\u001b[A\n",
      " 75%|█████████████████████████████████████████████████████████████████████████▌                        | 3/4 [08:05<08:05, 485.54s/trial, best loss: -0.0]\u001b[A"
     ]
    }
   ],
   "source": [
    "qc = QuantumCircuit(5)\n",
    "qc.mct([0, 1, 2], 3)\n",
    "u_target = Operator(qc.reverse_bits()).data\n",
    "\n",
    "layer = sequ_layer(5)\n",
    "\n",
    "projector = jnp.kron(jnp.identity(2**4), jnp.array([[1,0],[0,0]], dtype=jnp.complex64))\n",
    "unitary_loss_func = lambda u: disc2(u @ projector, u_target @ projector)\n",
    "\n",
    "decomposer = Decompose(layer, unitary_loss_func=unitary_loss_func)\n",
    "\n",
    "\n",
    "static_options = {'batch_size': 500, \n",
    "                  'accepted_num_gates': 15}\n",
    "\n",
    "adaptive_options = {'max_evals':30,\n",
    "                   'max_num_cp_gates':35,\n",
    "                   'min_num_cp_gates':12,\n",
    "                   'target_num_gates': 13,\n",
    "                   'evals_between_verification':2,\n",
    "                   'stop_if_target_reached': False}\n",
    "\n",
    "\n",
    "adaptive_results = decomposer.adaptive(\n",
    "    static_options=static_options,\n",
    "    adaptive_options = adaptive_options,\n",
    "    save_to = 'data/toff4_conn_clean_ancilla/',\n",
    "    overwrite_existing_trials=False,\n",
    "    overwrite_existing_decompositions=False,\n",
    ")"
   ]
  }
 ],
 "metadata": {
  "kernelspec": {
   "display_name": "python37",
   "language": "python",
   "name": "python37"
  },
  "language_info": {
   "codemirror_mode": {
    "name": "ipython",
    "version": 3
   },
   "file_extension": ".py",
   "mimetype": "text/x-python",
   "name": "python",
   "nbconvert_exporter": "python",
   "pygments_lexer": "ipython3",
   "version": "3.7.12"
  },
  "widgets": {
   "application/vnd.jupyter.widget-state+json": {
    "state": {},
    "version_major": 2,
    "version_minor": 0
   }
  }
 },
 "nbformat": 4,
 "nbformat_minor": 5
}
