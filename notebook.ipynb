{
 "cells": [
  {
   "cell_type": "code",
   "execution_count": 1,
   "metadata": {
    "collapsed": false,
    "jupyter": {
     "outputs_hidden": false
    },
    "pycharm": {
     "name": "#%%\n"
    }
   },
   "outputs": [
    {
     "name": "stderr",
     "output_type": "stream",
     "text": [
      "WARNING:absl:No GPU/TPU found, falling back to CPU. (Set TF_CPP_MIN_LOG_LEVEL=0 and rerun for more info.)\n"
     ]
    }
   ],
   "source": [
    "from jax_circuits import *\n",
    "from scipy.stats import unitary_group\n",
    "import matplotlib.pyplot as plt\n",
    "\n",
    "from qiskit import transpile\n",
    "from qiskit.quantum_info import Operator\n",
    "\n",
    "from penalty import *\n",
    "from topology import *\n",
    "\n",
    "key = random.PRNGKey(0)\n",
    "from jax import custom_jvp, jvp, grad"
   ]
  },
  {
   "cell_type": "markdown",
   "metadata": {
    "tags": [],
    "toc-hr-collapsed": true
   },
   "source": [
    "# Helper functions"
   ]
  },
  {
   "cell_type": "markdown",
   "metadata": {
    "tags": []
   },
   "source": [
    "# Tests & benchamrks"
   ]
  },
  {
   "cell_type": "code",
   "execution_count": 2,
   "metadata": {},
   "outputs": [],
   "source": [
    "@jit\n",
    "def box_angles(a):\n",
    "    \"\"\"Bring angles within range (-pi, pi)\"\"\"\n",
    "    aright = a + jnp.pi\n",
    "    aright = aright % (2*jnp.pi)\n",
    "    a_center = aright - jnp.pi\n",
    "    return a_center\n",
    "\n",
    "def cz_count(angles, epsilon=1e-2):\n",
    "    \"\"\"Count how many angles in cp gates a close to identity, CNOT and generic.\"\"\"\n",
    "    count = 0\n",
    "    for a in angles:\n",
    "        if jnp.abs(a)<epsilon:\n",
    "            count += 0\n",
    "        elif jnp.abs(a-jnp.pi)<epsilon or jnp.abs(a+jnp.pi)<epsilon:\n",
    "            count += 1\n",
    "        else:\n",
    "            count +=2\n",
    "            \n",
    "    return count\n",
    "\n",
    "def TLB(n):\n",
    "    return int((4**n-3*n-1)/4 + 1)\n",
    "\n",
    "\n",
    "def random_pair(key, num_qubits):\n",
    "    key, subkey = random.split(key)\n",
    "    i, j = random.randint(key, shape=(2,), minval=0, maxval=num_qubits)\n",
    "    if i==j:\n",
    "        return random_pair(key, num_qubits)\n",
    "    else:\n",
    "        return int(i), int(j)\n",
    "\n",
    "def random_placements(key, num_qubits, num_cz):\n",
    "    *keys, _ = random.split(key, num=num_cz+1)\n",
    "    return [random_pair(key, num_qubits) for key in keys]        \n",
    "\n",
    "def random_special_unitary(key, num_qubits, num_cz):\n",
    "    placements = {'free': random_placements(key, num_qubits, num_cz)}\n",
    "    a = Ansatz(num_qubits, 'cz', placements)\n",
    "    angles = random.uniform(key, shape=(a.num_angles, ), minval=0, maxval=2*jnp.pi)\n",
    "    return a.unitary(angles), placements\n",
    "\n"
   ]
  },
  {
   "cell_type": "markdown",
   "metadata": {
    "tags": []
   },
   "source": [
    "## Min test"
   ]
  },
  {
   "cell_type": "code",
   "execution_count": 3,
   "metadata": {},
   "outputs": [
    {
     "data": {
      "text/plain": [
       "[<matplotlib.lines.Line2D at 0x7fc064741fd0>]"
      ]
     },
     "execution_count": 3,
     "metadata": {},
     "output_type": "execute_result"
    },
    {
     "data": {
      "image/png": "[encoded data removed]",
      "text/plain": [
       "<Figure size 432x288 with 1 Axes>"
      ]
     },
     "metadata": {
      "needs_background": "light"
     },
     "output_type": "display_data"
    }
   ],
   "source": [
    "a, b = random.uniform(random.PRNGKey(8), shape=(2,), minval=0, maxval=10)\n",
    "# a, b = 1, 0\n",
    "def f(x):\n",
    "    return a*jnp.cos(x)+b*jnp.sin(x)\n",
    "\n",
    "x_sweep = jnp.linspace(0, 8*jnp.pi, 200)\n",
    "plt.plot(x_sweep, vmap(f)(x_sweep))\n",
    "plt.plot(min_angle(f), f(min_angle(f)), 'bo')\n"
   ]
  },
  {
   "cell_type": "markdown",
   "metadata": {
    "tags": []
   },
   "source": [
    "## Update test"
   ]
  },
  {
   "cell_type": "code",
   "execution_count": 4,
   "metadata": {},
   "outputs": [],
   "source": [
    "def ff(angles):\n",
    "    return jnp.cos(angles[0])+jnp.sin(angles[1])+0.01*jnp.cos(angles[1])*(0.3*jnp.cos(angles[3])-0.26*jnp.sin(angles[3]))"
   ]
  },
  {
   "cell_type": "code",
   "execution_count": 5,
   "metadata": {},
   "outputs": [],
   "source": [
    "angs = jnp.array((0., 0., 0.))\n",
    "mas = jnp.array(min_angles(ff, angs, 0, 3)) "
   ]
  },
  {
   "cell_type": "code",
   "execution_count": 6,
   "metadata": {},
   "outputs": [
    {
     "data": {
      "text/plain": [
       "DeviceArray([1.        , 1.4990451 , 0.77269816], dtype=float32)"
      ]
     },
     "execution_count": 6,
     "metadata": {},
     "output_type": "execute_result"
    }
   ],
   "source": [
    "mas/jnp.pi"
   ]
  },
  {
   "cell_type": "markdown",
   "metadata": {
    "tags": []
   },
   "source": [
    "## 2-qubit bench"
   ]
  },
  {
   "cell_type": "code",
   "execution_count": 7,
   "metadata": {},
   "outputs": [
    {
     "data": {
      "text/html": [
       "<pre style=\"word-wrap: normal;white-space: pre;background: #fff0;line-height: 1.1;font-family: &quot;Courier New&quot;,Courier,monospace\">     ┌────────┐┌────────┐┌────────┐   ┌────────┐┌────────┐   ┌─────────┐»\n",
       "q_0: ┤ RZ(a0) ├┤ RX(a1) ├┤ RZ(a2) ├─■─┤ RY(a6) ├┤ RX(a7) ├─■─┤ RY(a10) ├»\n",
       "     ├────────┤├────────┤├────────┤ │ ├────────┤├────────┤ │ ├─────────┤»\n",
       "q_1: ┤ RZ(a3) ├┤ RX(a4) ├┤ RZ(a5) ├─■─┤ RY(a8) ├┤ RX(a9) ├─■─┤ RY(a12) ├»\n",
       "     └────────┘└────────┘└────────┘   └────────┘└────────┘   └─────────┘»\n",
       "«     ┌─────────┐   ┌─────────┐┌─────────┐\n",
       "«q_0: ┤ RX(a11) ├─■─┤ RY(a14) ├┤ RX(a15) ├\n",
       "«     ├─────────┤ │ ├─────────┤├─────────┤\n",
       "«q_1: ┤ RX(a13) ├─■─┤ RY(a16) ├┤ RX(a17) ├\n",
       "«     └─────────┘   └─────────┘└─────────┘</pre>"
      ],
      "text/plain": [
       "     ┌────────┐┌────────┐┌────────┐   ┌────────┐┌────────┐   ┌─────────┐»\n",
       "q_0: ┤ RZ(a0) ├┤ RX(a1) ├┤ RZ(a2) ├─■─┤ RY(a6) ├┤ RX(a7) ├─■─┤ RY(a10) ├»\n",
       "     ├────────┤├────────┤├────────┤ │ ├────────┤├────────┤ │ ├─────────┤»\n",
       "q_1: ┤ RZ(a3) ├┤ RX(a4) ├┤ RZ(a5) ├─■─┤ RY(a8) ├┤ RX(a9) ├─■─┤ RY(a12) ├»\n",
       "     └────────┘└────────┘└────────┘   └────────┘└────────┘   └─────────┘»\n",
       "«     ┌─────────┐   ┌─────────┐┌─────────┐\n",
       "«q_0: ┤ RX(a11) ├─■─┤ RY(a14) ├┤ RX(a15) ├\n",
       "«     ├─────────┤ │ ├─────────┤├─────────┤\n",
       "«q_1: ┤ RX(a13) ├─■─┤ RY(a16) ├┤ RX(a17) ├\n",
       "«     └─────────┘   └─────────┘└─────────┘"
      ]
     },
     "execution_count": 7,
     "metadata": {},
     "output_type": "execute_result"
    }
   ],
   "source": [
    "a = Ansatz(2, 'cz', fill_layers(sequ_layer(2), 3))\n",
    "u = a.unitary\n",
    "a.circuit().draw()"
   ]
  },
  {
   "cell_type": "code",
   "execution_count": 8,
   "metadata": {},
   "outputs": [],
   "source": [
    "v = unitary_group.rvs(4, random_state=0)\n",
    "def d2(angles):\n",
    "    return disc2(u(angles), v)"
   ]
  },
  {
   "cell_type": "code",
   "execution_count": 9,
   "metadata": {},
   "outputs": [],
   "source": [
    "# %%time\n",
    "# angles_history = staircase_min(d2, a.num_angles, n_iterations=1000)"
   ]
  },
  {
   "cell_type": "code",
   "execution_count": 10,
   "metadata": {},
   "outputs": [],
   "source": [
    "# plt.plot(vmap(d2)(angles_history))\n",
    "# plt.yscale('log')"
   ]
  },
  {
   "cell_type": "code",
   "execution_count": 12,
   "metadata": {
    "tags": []
   },
   "outputs": [
    {
     "name": "stdout",
     "output_type": "stream",
     "text": [
      "CPU times: user 30 s, sys: 419 ms, total: 30.4 s\n",
      "Wall time: 29 s\n"
     ]
    }
   ],
   "source": [
    "%%time\n",
    "angles_history = staircase_min_batch(d2, a.num_angles, n_iterations=2)"
   ]
  },
  {
   "cell_type": "code",
   "execution_count": 12,
   "metadata": {},
   "outputs": [
    {
     "ename": "NameError",
     "evalue": "name 'angles_history' is not defined",
     "output_type": "error",
     "traceback": [
      "\u001b[0;31m---------------------------------------------------------------------------\u001b[0m",
      "\u001b[0;31mNameError\u001b[0m                                 Traceback (most recent call last)",
      "\u001b[0;32m<ipython-input-12-d01f6e1b078b>\u001b[0m in \u001b[0;36m<module>\u001b[0;34m\u001b[0m\n\u001b[0;32m----> 1\u001b[0;31m \u001b[0mangles_history\u001b[0m\u001b[0;34m\u001b[0m\u001b[0;34m\u001b[0m\u001b[0m\n\u001b[0m",
      "\u001b[0;31mNameError\u001b[0m: name 'angles_history' is not defined"
     ]
    }
   ],
   "source": [
    "angles_history"
   ]
  },
  {
   "cell_type": "code",
   "execution_count": 12,
   "metadata": {},
   "outputs": [
    {
     "data": {
      "image/png": "[encoded data removed]",
      "text/plain": [
       "<Figure size 432x288 with 1 Axes>"
      ]
     },
     "metadata": {
      "needs_background": "light"
     },
     "output_type": "display_data"
    }
   ],
   "source": [
    "plt.plot(vmap(d2)(jnp.array(angles_history)))\n",
    "plt.yscale('log')"
   ]
  },
  {
   "cell_type": "markdown",
   "metadata": {
    "tags": []
   },
   "source": [
    "## n-qubit bench"
   ]
  },
  {
   "cell_type": "code",
   "execution_count": 28,
   "metadata": {},
   "outputs": [],
   "source": [
    "# placements = random_placements(random.PRNGKey(0), 3, 14)\n",
    "a = Ansatz(4, 'cz', fill_layers(sequ_layer(4), 61))\n",
    "u_target  = unitary_group.rvs(2**4, random_state=41)"
   ]
  },
  {
   "cell_type": "code",
   "execution_count": 29,
   "metadata": {},
   "outputs": [
    {
     "name": "stdout",
     "output_type": "stream",
     "text": [
      "CPU times: user 37.8 s, sys: 810 ms, total: 38.6 s\n",
      "Wall time: 28 s\n"
     ]
    }
   ],
   "source": [
    "%%time\n",
    "angles_history, loss_history = a.learn(u_target, num_iterations=25000)"
   ]
  },
  {
   "cell_type": "code",
   "execution_count": 10,
   "metadata": {},
   "outputs": [
    {
     "data": {
      "image/png": "[encoded data removed]",
      "text/plain": [
       "<Figure size 432x288 with 1 Axes>"
      ]
     },
     "metadata": {
      "needs_background": "light"
     },
     "output_type": "display_data"
    }
   ],
   "source": [
    "plt.plot(loss_history)\n",
    "plt.yscale('log')"
   ]
  },
  {
   "cell_type": "code",
   "execution_count": 11,
   "metadata": {},
   "outputs": [],
   "source": [
    "def ffff(angles):\n",
    "    return disc2(a.unitary(angles), u_target)"
   ]
  },
  {
   "cell_type": "code",
   "execution_count": 12,
   "metadata": {},
   "outputs": [
    {
     "name": "stdout",
     "output_type": "stream",
     "text": [
      "CPU times: user 12.5 s, sys: 834 ms, total: 13.3 s\n",
      "Wall time: 12.4 s\n"
     ]
    }
   ],
   "source": [
    "%%time\n",
    "ah = staircase_min(ffff, a.num_angles, n_iterations=1000000)"
   ]
  },
  {
   "cell_type": "code",
   "execution_count": 13,
   "metadata": {},
   "outputs": [
    {
     "data": {
      "image/png": "[encoded data removed]",
      "text/plain": [
       "<Figure size 432x288 with 1 Axes>"
      ]
     },
     "metadata": {
      "needs_background": "light"
     },
     "output_type": "display_data"
    }
   ],
   "source": [
    "plt.plot(vmap(jit(ffff))(ah[::10000]))\n",
    "plt.yscale('log')"
   ]
  },
  {
   "cell_type": "markdown",
   "metadata": {
    "tags": [],
    "toc-hr-collapsed": true
   },
   "source": [
    "# Real test"
   ]
  },
  {
   "cell_type": "code",
   "execution_count": 10,
   "metadata": {},
   "outputs": [],
   "source": [
    "a = Ansatz(5, 'cz', fill_layers(sequ_layer(5), 50))\n",
    "u = a.unitary\n",
    "v = unitary_group.rvs(2**5, random_state=14)\n",
    "# a.circuit().draw()"
   ]
  },
  {
   "cell_type": "code",
   "execution_count": 11,
   "metadata": {},
   "outputs": [],
   "source": [
    "angles = random.uniform(key, minval=0, maxval=2*jnp.pi, shape=(a.num_angles, ))\n",
    "\n",
    "@jit\n",
    "def plain_grad(angles):\n",
    "    return grad(lambda a: trace2(u, v, a))(angles)\n",
    "\n",
    "@jit\n",
    "def shift_grad(angles):\n",
    "    return grad(lambda a: shift_trace2(u, v, a))(angles)"
   ]
  },
  {
   "cell_type": "code",
   "execution_count": 12,
   "metadata": {},
   "outputs": [
    {
     "name": "stdout",
     "output_type": "stream",
     "text": [
      "CPU times: user 23.5 s, sys: 26 ms, total: 23.6 s\n",
      "Wall time: 23.6 s\n"
     ]
    }
   ],
   "source": [
    "%%time\n",
    "pg = plain_grad(angles)"
   ]
  },
  {
   "cell_type": "code",
   "execution_count": 13,
   "metadata": {},
   "outputs": [
    {
     "name": "stdout",
     "output_type": "stream",
     "text": [
      "CPU times: user 6.54 s, sys: 7.71 ms, total: 6.55 s\n",
      "Wall time: 6.55 s\n"
     ]
    }
   ],
   "source": [
    "%%time\n",
    "sg = shift_grad(angles)"
   ]
  },
  {
   "cell_type": "code",
   "execution_count": 14,
   "metadata": {},
   "outputs": [
    {
     "data": {
      "text/plain": [
       "DeviceArray(True, dtype=bool)"
      ]
     },
     "execution_count": 14,
     "metadata": {},
     "output_type": "execute_result"
    }
   ],
   "source": [
    "jnp.allclose(pg, sg, rtol=1e-5, atol=1e-6)"
   ]
  },
  {
   "cell_type": "code",
   "execution_count": 15,
   "metadata": {},
   "outputs": [
    {
     "name": "stdout",
     "output_type": "stream",
     "text": [
      "859 µs ± 2.77 µs per loop (mean ± std. dev. of 7 runs, 1000 loops each)\n"
     ]
    }
   ],
   "source": [
    "%timeit plain_grad(angles)"
   ]
  },
  {
   "cell_type": "code",
   "execution_count": 16,
   "metadata": {},
   "outputs": [
    {
     "name": "stdout",
     "output_type": "stream",
     "text": [
      "59.1 ms ± 3.46 ms per loop (mean ± std. dev. of 7 runs, 100 loops each)\n"
     ]
    }
   ],
   "source": [
    "%timeit shift_grad(angles)"
   ]
  },
  {
   "cell_type": "code",
   "execution_count": null,
   "metadata": {},
   "outputs": [],
   "source": []
  }
 ],
 "metadata": {
  "kernelspec": {
   "display_name": "Python 3",
   "language": "python",
   "name": "python3"
  },
  "language_info": {
   "codemirror_mode": {
    "name": "ipython",
    "version": 3
   },
   "file_extension": ".py",
   "mimetype": "text/x-python",
   "name": "python",
   "nbconvert_exporter": "python",
   "pygments_lexer": "ipython3",
   "version": "3.8.10"
  },
  "widgets": {
   "application/vnd.jupyter.widget-state+json": {
    "state": {},
    "version_major": 2,
    "version_minor": 0
   }
  }
 },
 "nbformat": 4,
 "nbformat_minor": 4
}
