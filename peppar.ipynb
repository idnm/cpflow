{
 "cells": [
  {
   "cell_type": "code",
   "execution_count": 1,
   "id": "404b9c83-0882-4dc8-becf-6f6406386aec",
   "metadata": {},
   "outputs": [
    {
     "name": "stderr",
     "output_type": "stream",
     "text": [
      "WARNING:absl:No GPU/TPU found, falling back to CPU. (Set TF_CPP_MIN_LOG_LEVEL=0 and rerun for more info.)\n"
     ]
    }
   ],
   "source": [
    "from jax_circuits import *\n",
    "# from exact_decompositions import *\n",
    "from qiskit import transpile\n",
    "from qiskit.circuit.library import *\n",
    "from qiskit.quantum_info import OneQubitEulerDecomposer, random_clifford\n",
    "from cp_utils import *\n",
    "from scipy.stats import unitary_group"
   ]
  },
  {
   "cell_type": "markdown",
   "id": "d2037d26-e987-44eb-aa9d-985a792f766d",
   "metadata": {},
   "source": [
    "To do\n",
    "\n",
    "1. Local minima plots in an accurate way:\n",
    "    1. For each ansatz several random unitaries and several self-unitaries. \n",
    "    1. Separately stats for different realizations of Toffoli 3 and Toffoli 4 gates."
   ]
  },
  {
   "cell_type": "markdown",
   "id": "b17bdfa9-8714-4e74-be6f-d87977417b36",
   "metadata": {},
   "source": [
    "# Local minimums"
   ]
  },
  {
   "cell_type": "code",
   "execution_count": 36,
   "id": "f292278e-c2bf-4644-adff-f1235a192e4a",
   "metadata": {},
   "outputs": [],
   "source": [
    "def success_ratio(num_qubits, num_cz_gates, target, u_target=None, num_samples=100):\n",
    "    anz = Ansatz(num_qubits, 'cz', fill_layers(sequ_layer(num_qubits), num_cz_gates))\n",
    "    \n",
    "    if target == 'random_unitary':\n",
    "        u_target = unitary_group.rvs(2**num_qubits, random_state=42)\n",
    "    elif target == 'self':\n",
    "        angles_target = random_angles(anz.num_angles, key=random.PRNGKey(42))\n",
    "        u_target = anz.unitary(angles_target)\n",
    "    \n",
    "        \n",
    "    results = anz.learn(u_target, num_repeats=num_samples)\n",
    "    best_losses = [jnp.min(r['loss']) for r in results]\n",
    "    \n",
    "    if target == 'random_unitary':\n",
    "        successes = [loss <= (min(best_losses)+1e-4) for loss in best_losses]\n",
    "    elif target == 'self':\n",
    "        successes = [loss < 1e-4 for loss in best_losses]\n",
    "    \n",
    "    return sum(successes)/len(successes)\n",
    "\n",
    "def success_chart(num_qubits, num_cz_gates_list, target, save_to, u_target=None, num_samples=100):\n",
    "    success_list = []\n",
    "    for num_cz_gates in tqdm(num_cz_gates_list):\n",
    "        success_list.append(success_ratio(num_qubits, num_cz_gates, target, num_samples=num_samples))\n",
    "        \n",
    "    with open(save_to, 'wb') as f:\n",
    "        pickle.dump(success_list, f)\n",
    "        \n",
    "    return success_list"
   ]
  },
  {
   "cell_type": "code",
   "execution_count": 35,
   "id": "68e4ba64-9ae5-4c20-a19f-63d2eb888281",
   "metadata": {},
   "outputs": [
    {
     "data": {
      "text/plain": [
       "DeviceArray(0.1, dtype=float32)"
      ]
     },
     "execution_count": 35,
     "metadata": {},
     "output_type": "execute_result"
    }
   ],
   "source": [
    "success_ratio(3, 6, 'self')"
   ]
  },
  {
   "cell_type": "code",
   "execution_count": 20,
   "id": "354c3fd5-b182-4941-8a33-c91253da84a1",
   "metadata": {},
   "outputs": [
    {
     "data": {
      "application/vnd.jupyter.widget-view+json": {
       "model_id": "6890cd0724524cc9a3a554e4e3d5b5c8",
       "version_major": 2,
       "version_minor": 0
      },
      "text/plain": [
       "  0%|          | 0/5 [00:00<?, ?it/s]"
      ]
     },
     "metadata": {},
     "output_type": "display_data"
    },
    {
     "data": {
      "text/plain": [
       "[DeviceArray(1., dtype=float32),\n",
       " DeviceArray(0.78, dtype=float32),\n",
       " DeviceArray(0.1, dtype=float32),\n",
       " DeviceArray(0., dtype=float32),\n",
       " DeviceArray(0., dtype=float32)]"
      ]
     },
     "execution_count": 20,
     "metadata": {},
     "output_type": "execute_result"
    }
   ],
   "source": [
    "success_chart(3, range(15)[::3], 'self', 'results/s_chart_3_self')"
   ]
  },
  {
   "cell_type": "code",
   "execution_count": 22,
   "id": "47e790a9-e383-4135-8389-4edf058eff4c",
   "metadata": {},
   "outputs": [
    {
     "data": {
      "text/plain": [
       "[0, 3, 6, 9, 12]"
      ]
     },
     "execution_count": 22,
     "metadata": {},
     "output_type": "execute_result"
    }
   ],
   "source": [
    "list(range(15)[::3])\n",
    "                                                       \n",
    "                                                                                                                                                                                                                                                                                                                                                                                                                                                                                                                                                                                                                                                                                                                                                                                                                                                                                                                                                                                                                                                                                                                                                                                                                                                                                                                                                                                                                                                                                                                                                                                                                                                                                                                                                                                                                                                                                                                                                                                                                                                                                                                                                                                                                                                                                                                                                                                                                                                                                                                                                                                                                                                                                                                                                                                                                                                                                                                                                                    l''    \n",
    "                                                                                                                                                                                                                                                                                                                                                                                                                                                                                                                                                                                                                                                                                                                                                                                                                                                                                                                                                                                                                                                                                                                                                                                                                                                                                                                                                                                                                                                                                                                                                                                                                                                                                                                                                                                                                                                                                                                                                                                                                                                                                                                                                                                                                                                                                                                                                                                                                                                                                                                                                                                                                                                                                                                                                                                                                                                                                                                                                                                                                                                                                                                                                                                                                                                                                                                                                                                                                                                                                                                                                                                                                                                                                                                                                                                                                                                                                                                                                                                                                                                                                                                                                                                                                                                                                                                                                                                                                                                                                                                                                                                                                                                                                                                                                                                                                                                                                                                                                                                                                                                                                                                                                                                                                                                                                                                                                                                                                                                                                                                                                                                                                                                                                                                                                                                                                                                                                                                                                                                                                                                                                                                                                                                                                                                                                                                                                                                                                                                                                                                                                                                                                                                                                                                                                                                                                                                                                                                                                                                                                                                                                                                                                                                                                                                                                                                                                                                                                                                                                                                                                                                                                                                                                                                                                                                                                                                                                                                                                                                                                                                                                                                                                                                                                                                                                                                "
   ]
  },
  {
   "cell_type": "code",
   "execution_count": 2,
   "id": "5b014952-b65a-4385-8390-3de597b19446",
   "metadata": {},
   "outputs": [
    {
     "data": {
      "image/png": "[encoded data removed]",
      "text/plain": [
       "<Figure size 1350.8x204.68 with 1 Axes>"
      ]
     },
     "execution_count": 2,
     "metadata": {},
     "output_type": "execute_result"
    }
   ],
   "source": [
    "placements_toff3 = [[1, 2], [0, 2], [1, 2], [0, 2], [0, 1], [0, 1]]\n",
    "anz = Ansatz(3, 'cx', placements={'free': placements_toff3})\n",
    "\n",
    "anz.circuit().draw(output='mpl')"
   ]
  },
  {
   "cell_type": "code",
   "execution_count": 3,
   "id": "3de114e2-4b70-4007-8792-edb4502b81e4",
   "metadata": {},
   "outputs": [],
   "source": [
    "res = anz.learn(u_toff3, num_repeats=200)"
   ]
  },
  {
   "cell_type": "code",
   "execution_count": 4,
   "id": "cff58b48-3908-4c93-bb25-51ce1392eb94",
   "metadata": {},
   "outputs": [
    {
     "data": {
      "text/plain": [
       "0.535"
      ]
     },
     "execution_count": 4,
     "metadata": {},
     "output_type": "execute_result"
    }
   ],
   "source": [
    "s = [min(r['loss'])<1e-4 for r in res]\n",
    "sum(s)/len(s)"
   ]
  },
  {
   "cell_type": "code",
   "execution_count": 5,
   "id": "a4abfe8b-3739-4f86-a800-ba3f2755220f",
   "metadata": {},
   "outputs": [
    {
     "data": {
      "text/plain": [
       "[< toff3_conn_test| Approximate | cz count: 6 | cz depth: 6 | loss: 0.0 >,\n",
       " < toff3_conn_test| Approximate | cz count: 6 | cz depth: 6 | loss: 0.0 >,\n",
       " < toff3_conn_test| Approximate | cz count: 6 | cz depth: 6 | loss: 1.1920928955078125e-07 >,\n",
       " < toff3_conn_test| Approximate | cz count: 7 | cz depth: 7 | loss: 0.0 >,\n",
       " < toff3_conn_test| Approximate | cz count: 7 | cz depth: 7 | loss: 0.0 >,\n",
       " < toff3_conn_test| Approximate | cz count: 6 | cz depth: 6 | loss: 0.0 >,\n",
       " < toff3_conn_test| Approximate | cz count: 8 | cz depth: 8 | loss: 0.0 >,\n",
       " < toff3_conn_test| Approximate | cz count: 8 | cz depth: 8 | loss: 0.0 >,\n",
       " < toff3_conn_test| Approximate | cz count: 9 | cz depth: 9 | loss: 0.0 >]"
      ]
     },
     "execution_count": 5,
     "metadata": {},
     "output_type": "execute_result"
    }
   ],
   "source": [
    "results = Results.load('results/toff3_conn_test')\n",
    "results.decompositions"
   ]
  },
  {
   "cell_type": "code",
   "execution_count": 6,
   "id": "2b120b40-5ef9-4d85-a547-c2303991ebea",
   "metadata": {},
   "outputs": [
    {
     "data": {
      "text/plain": [
       "0.36"
      ]
     },
     "execution_count": 6,
     "metadata": {},
     "output_type": "execute_result"
    }
   ],
   "source": [
    "n = 0\n",
    "\n",
    "d = results.decompositions[n]\n",
    "qc = d.circuit\n",
    "u, angles, wires = qiskit_circ_to_jax_unitary(qc)\n",
    "\n",
    "loss_f = lambda angs: disc2(u(angs), u_toff3)\n",
    "res = mynimize_repeated(loss_f, len(angles), num_repeats=100)\n",
    "\n",
    "s = [min(r['loss'])<1e-4 for r in res]\n",
    "sum(s)/len(s)"
   ]
  },
  {
   "cell_type": "code",
   "execution_count": 7,
   "id": "a732a32d-ac39-4a17-87a5-18de84ef3b56",
   "metadata": {},
   "outputs": [
    {
     "data": {
      "text/plain": [
       "0.68"
      ]
     },
     "execution_count": 7,
     "metadata": {},
     "output_type": "execute_result"
    }
   ],
   "source": [
    "n = 1\n",
    "\n",
    "d = results.decompositions[n]\n",
    "qc = d.circuit\n",
    "u, angles, wires = qiskit_circ_to_jax_unitary(qc)\n",
    "\n",
    "loss_f = lambda angs: disc2(u(angs), u_toff3)\n",
    "res = mynimize_repeated(loss_f, len(angles), num_repeats=100)\n",
    "\n",
    "s = [min(r['loss'])<1e-4 for r in res]\n",
    "sum(s)/len(s)"
   ]
  },
  {
   "cell_type": "code",
   "execution_count": 9,
   "id": "216e60bd-0d43-460f-863e-13095b27c698",
   "metadata": {},
   "outputs": [
    {
     "data": {
      "text/plain": [
       "0.52"
      ]
     },
     "execution_count": 9,
     "metadata": {},
     "output_type": "execute_result"
    }
   ],
   "source": [
    "n = 2\n",
    "\n",
    "d = results.decompositions[n]\n",
    "qc = d.circuit\n",
    "u, angles, wires = qiskit_circ_to_jax_unitary(qc)\n",
    "\n",
    "loss_f = lambda angs: disc2(u(angs), u_toff3)\n",
    "res = mynimize_repeated(loss_f, len(angles), num_repeats=100)\n",
    "\n",
    "s = [min(r['loss'])<1e-4 for r in res]\n",
    "sum(s)/len(s)"
   ]
  },
  {
   "cell_type": "code",
   "execution_count": null,
   "id": "774816ef-dd68-4278-84c8-94c77a641702",
   "metadata": {},
   "outputs": [],
   "source": []
  }
 ],
 "metadata": {
  "kernelspec": {
   "display_name": "Python 3",
   "language": "python",
   "name": "python3"
  },
  "language_info": {
   "codemirror_mode": {
    "name": "ipython",
    "version": 3
   },
   "file_extension": ".py",
   "mimetype": "text/x-python",
   "name": "python",
   "nbconvert_exporter": "python",
   "pygments_lexer": "ipython3",
   "version": "3.8.10"
  },
  "widgets": {
   "application/vnd.jupyter.widget-state+json": {
    "state": {},
    "version_major": 2,
    "version_minor": 0
   }
  }
 },
 "nbformat": 4,
 "nbformat_minor": 5
}
