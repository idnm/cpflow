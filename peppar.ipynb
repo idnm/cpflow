{
 "cells": [
  {
   "cell_type": "code",
   "execution_count": 1,
   "id": "404b9c83-0882-4dc8-becf-6f6406386aec",
   "metadata": {},
   "outputs": [
    {
     "name": "stderr",
     "output_type": "stream",
     "text": [
      "WARNING:absl:No GPU/TPU found, falling back to CPU. (Set TF_CPP_MIN_LOG_LEVEL=0 and rerun for more info.)\n"
     ]
    }
   ],
   "source": [
    "from jax_circuits import *\n",
    "# from exact_decompositions import *\n",
    "from qiskit import transpile\n",
    "from qiskit.circuit.library import *\n",
    "from qiskit.quantum_info import OneQubitEulerDecomposer, random_clifford\n",
    "from cp_utils import *\n",
    "from scipy.stats import unitary_group"
   ]
  },
  {
   "cell_type": "markdown",
   "id": "d2037d26-e987-44eb-aa9d-985a792f766d",
   "metadata": {},
   "source": [
    "To do\n",
    "\n",
    "1. Local minima plots in an accurate way:\n",
    "    1. For each ansatz several random unitaries and several self-unitaries. \n",
    "    1. Separately stats for different realizations of Toffoli 3 and Toffoli 4 gates."
   ]
  },
  {
   "cell_type": "markdown",
   "id": "b17bdfa9-8714-4e74-be6f-d87977417b36",
   "metadata": {},
   "source": [
    "# Local minimums"
   ]
  },
  {
   "cell_type": "code",
   "execution_count": 22,
   "id": "f292278e-c2bf-4644-adff-f1235a192e4a",
   "metadata": {},
   "outputs": [],
   "source": [
    "with open('scripts/results/local_minimums/2q_random_self_rs0', 'rb')  as f:\n",
    "    res = pickle.load(f)"
   ]
  },
  {
   "cell_type": "code",
   "execution_count": 26,
   "id": "01bb9f92-4fd8-40c3-a135-7e1f32b63261",
   "metadata": {},
   "outputs": [
    {
     "data": {
      "text/plain": [
       "<matplotlib.collections.PathCollection at 0x7fe769980d30>"
      ]
     },
     "execution_count": 26,
     "metadata": {},
     "output_type": "execute_result"
    },
    {
     "data": {
      "image/png": "[encoded data removed]",
      "text/plain": [
       "<Figure size 432x288 with 1 Axes>"
      ]
     },
     "metadata": {
      "needs_background": "light"
     },
     "output_type": "display_data"
    }
   ],
   "source": [
    "plt.scatter([r['num_cz_gates'] for r in res], [r['success_ratio'] for r in res])"
   ]
  },
  {
   "cell_type": "code",
   "execution_count": 21,
   "id": "42591897-9f64-4a2d-9b7c-8f1d0dd03bf2",
   "metadata": {},
   "outputs": [
    {
     "data": {
      "text/plain": [
       "{'u_target': DeviceArray([[-0.29470095-0.3773886j ,  0.09311418-0.11133659j,\n",
       "               -0.16810302-0.14672203j, -0.1675328 -0.02094156j,\n",
       "                0.15326998-0.34222052j, -0.02802873+0.3675722j ,\n",
       "                0.22311774-0.03526231j, -0.5658742 -0.15372416j],\n",
       "              [-0.3978111 +0.10287364j,  0.12912118+0.02298552j,\n",
       "                0.09051987+0.20737302j, -0.12876141-0.31858003j,\n",
       "                0.1700865 +0.41565853j, -0.39094236+0.31858456j,\n",
       "               -0.03410435-0.40213662j,  0.13252823+0.09065402j],\n",
       "              [ 0.23804863+0.13589711j,  0.09693439-0.01718009j,\n",
       "               -0.41857076-0.10477793j,  0.23243289+0.07471322j,\n",
       "                0.1507368 +0.37571365j, -0.12564859+0.35343397j,\n",
       "               -0.04100351+0.42075515j, -0.21059002+0.37647906j],\n",
       "              [-0.24585983+0.12495063j, -0.2813289 +0.32843125j,\n",
       "               -0.47191128+0.01505139j,  0.26633343-0.3221225j ,\n",
       "                0.18229663-0.35248j   , -0.09693578-0.07920533j,\n",
       "               -0.36179322+0.0549072j ,  0.11127113-0.1409584j ],\n",
       "              [ 0.1309339 -0.11334223j,  0.5617776 -0.24737042j,\n",
       "               -0.01258592-0.2566492j ,  0.2744825 -0.4759251j ,\n",
       "               -0.20716637-0.08388767j,  0.23562741+0.0175631j ,\n",
       "               -0.28781337-0.17994648j,  0.0314913 +0.05794942j],\n",
       "              [-0.17141198-0.18234703j,  0.03197897+0.313843j  ,\n",
       "                0.2993458 +0.12771606j,  0.01519097-0.17171295j,\n",
       "                0.32728663+0.30090612j,  0.35814765-0.33023775j,\n",
       "               -0.21465692+0.16371544j, -0.42139244+0.1295073j ],\n",
       "              [ 0.42260408+0.06160715j, -0.38013238-0.24573736j,\n",
       "                0.2931376 +0.18844676j,  0.1205841 -0.26511216j,\n",
       "                0.06677797-0.24687843j, -0.3254629 -0.00673977j,\n",
       "               -0.11455476-0.17243183j, -0.3603425 +0.24974789j],\n",
       "              [ 0.24114493-0.3428331j ,  0.27875745+0.07828963j,\n",
       "               -0.31782788+0.30904192j, -0.25232083+0.3729149j ,\n",
       "                0.13117276-0.07813153j, -0.15838683-0.17084002j,\n",
       "               -0.39382136-0.2956761j ,  0.01216309+0.14483032j]],            dtype=complex64),\n",
       " 'target_type': 'random_self',\n",
       " 'random_seed': 0,\n",
       " 'num_cz_gates': 9,\n",
       " 'num_qubits': 3,\n",
       " 'losses': [DeviceArray(0.07472444, dtype=float32),\n",
       "  DeviceArray(0.04062855, dtype=float32),\n",
       "  DeviceArray(0.03430086, dtype=float32),\n",
       "  DeviceArray(0.05904663, dtype=float32),\n",
       "  DeviceArray(0.04020923, dtype=float32),\n",
       "  DeviceArray(0.09844834, dtype=float32),\n",
       "  DeviceArray(0.04538506, dtype=float32),\n",
       "  DeviceArray(0.05051237, dtype=float32),\n",
       "  DeviceArray(0.03509706, dtype=float32),\n",
       "  DeviceArray(0.04102784, dtype=float32),\n",
       "  DeviceArray(0.05700928, dtype=float32),\n",
       "  DeviceArray(0.04213828, dtype=float32),\n",
       "  DeviceArray(0.10629004, dtype=float32),\n",
       "  DeviceArray(0.02830935, dtype=float32),\n",
       "  DeviceArray(0.06213307, dtype=float32),\n",
       "  DeviceArray(0.0436151, dtype=float32),\n",
       "  DeviceArray(0.04466301, dtype=float32),\n",
       "  DeviceArray(0.06482762, dtype=float32),\n",
       "  DeviceArray(-4.7683716e-07, dtype=float32),\n",
       "  DeviceArray(0.04746622, dtype=float32),\n",
       "  DeviceArray(0.09352821, dtype=float32),\n",
       "  DeviceArray(0.05085933, dtype=float32),\n",
       "  DeviceArray(0.02830946, dtype=float32),\n",
       "  DeviceArray(0.04117715, dtype=float32),\n",
       "  DeviceArray(0.06041491, dtype=float32),\n",
       "  DeviceArray(0.02945119, dtype=float32),\n",
       "  DeviceArray(0.07170331, dtype=float32),\n",
       "  DeviceArray(0.05599451, dtype=float32),\n",
       "  DeviceArray(0.06080675, dtype=float32),\n",
       "  DeviceArray(0.04181558, dtype=float32),\n",
       "  DeviceArray(0.07359815, dtype=float32),\n",
       "  DeviceArray(0.03189516, dtype=float32),\n",
       "  DeviceArray(0.04923701, dtype=float32),\n",
       "  DeviceArray(0.06695276, dtype=float32),\n",
       "  DeviceArray(0.07364428, dtype=float32),\n",
       "  DeviceArray(0.07525492, dtype=float32),\n",
       "  DeviceArray(0.05780673, dtype=float32),\n",
       "  DeviceArray(0.07963914, dtype=float32),\n",
       "  DeviceArray(0.10951328, dtype=float32),\n",
       "  DeviceArray(0.0965485, dtype=float32),\n",
       "  DeviceArray(0.04753834, dtype=float32),\n",
       "  DeviceArray(0.05009592, dtype=float32),\n",
       "  DeviceArray(0.08614212, dtype=float32),\n",
       "  DeviceArray(0.06648487, dtype=float32),\n",
       "  DeviceArray(0.05570585, dtype=float32),\n",
       "  DeviceArray(0.04857093, dtype=float32),\n",
       "  DeviceArray(0.06177032, dtype=float32),\n",
       "  DeviceArray(0.06480813, dtype=float32),\n",
       "  DeviceArray(0.06421381, dtype=float32),\n",
       "  DeviceArray(0.05752462, dtype=float32),\n",
       "  DeviceArray(0.03824323, dtype=float32),\n",
       "  DeviceArray(0.07568145, dtype=float32),\n",
       "  DeviceArray(0.05091798, dtype=float32),\n",
       "  DeviceArray(0.04864872, dtype=float32),\n",
       "  DeviceArray(0.04994625, dtype=float32),\n",
       "  DeviceArray(0.04391515, dtype=float32),\n",
       "  DeviceArray(0.07147884, dtype=float32),\n",
       "  DeviceArray(0.04766285, dtype=float32),\n",
       "  DeviceArray(0.07702488, dtype=float32),\n",
       "  DeviceArray(0.04516912, dtype=float32),\n",
       "  DeviceArray(0.04589629, dtype=float32),\n",
       "  DeviceArray(0.05528146, dtype=float32),\n",
       "  DeviceArray(0.05239117, dtype=float32),\n",
       "  DeviceArray(0.07154709, dtype=float32),\n",
       "  DeviceArray(0.06572467, dtype=float32),\n",
       "  DeviceArray(0.03831631, dtype=float32),\n",
       "  DeviceArray(0.0389449, dtype=float32),\n",
       "  DeviceArray(0.05587471, dtype=float32),\n",
       "  DeviceArray(0.07904369, dtype=float32),\n",
       "  DeviceArray(0.06932139, dtype=float32),\n",
       "  DeviceArray(0.04903531, dtype=float32),\n",
       "  DeviceArray(0.08141917, dtype=float32),\n",
       "  DeviceArray(0.06453747, dtype=float32),\n",
       "  DeviceArray(0.05220371, dtype=float32),\n",
       "  DeviceArray(9.536743e-07, dtype=float32),\n",
       "  DeviceArray(0.05094361, dtype=float32),\n",
       "  DeviceArray(0.05580914, dtype=float32),\n",
       "  DeviceArray(0.07951665, dtype=float32),\n",
       "  DeviceArray(0.04538494, dtype=float32),\n",
       "  DeviceArray(0.06140298, dtype=float32),\n",
       "  DeviceArray(0.0610463, dtype=float32),\n",
       "  DeviceArray(0.05173141, dtype=float32),\n",
       "  DeviceArray(0.07117581, dtype=float32),\n",
       "  DeviceArray(0.08298421, dtype=float32),\n",
       "  DeviceArray(0.06306612, dtype=float32),\n",
       "  DeviceArray(0.08505839, dtype=float32),\n",
       "  DeviceArray(0.06238246, dtype=float32),\n",
       "  DeviceArray(0.07519966, dtype=float32),\n",
       "  DeviceArray(0.06354332, dtype=float32),\n",
       "  DeviceArray(0.04103577, dtype=float32),\n",
       "  DeviceArray(0.03984714, dtype=float32),\n",
       "  DeviceArray(0.0689193, dtype=float32),\n",
       "  DeviceArray(0.07573783, dtype=float32),\n",
       "  DeviceArray(0.05497658, dtype=float32),\n",
       "  DeviceArray(0.05034757, dtype=float32),\n",
       "  DeviceArray(0.0968067, dtype=float32),\n",
       "  DeviceArray(0.05051619, dtype=float32),\n",
       "  DeviceArray(0.06691951, dtype=float32),\n",
       "  DeviceArray(0.04878753, dtype=float32),\n",
       "  DeviceArray(0.06750643, dtype=float32),\n",
       "  DeviceArray(0.06588906, dtype=float32),\n",
       "  DeviceArray(0.05975235, dtype=float32),\n",
       "  DeviceArray(0.1003902, dtype=float32),\n",
       "  DeviceArray(0.05220383, dtype=float32),\n",
       "  DeviceArray(0.05430859, dtype=float32),\n",
       "  DeviceArray(0.11037165, dtype=float32),\n",
       "  DeviceArray(0.07820147, dtype=float32),\n",
       "  DeviceArray(0.05871034, dtype=float32),\n",
       "  DeviceArray(0.07635784, dtype=float32),\n",
       "  DeviceArray(0.05586201, dtype=float32),\n",
       "  DeviceArray(0.0069015, dtype=float32),\n",
       "  DeviceArray(0.06041056, dtype=float32),\n",
       "  DeviceArray(0.06105727, dtype=float32),\n",
       "  DeviceArray(0.07834166, dtype=float32),\n",
       "  DeviceArray(0.06691962, dtype=float32),\n",
       "  DeviceArray(0.12382054, dtype=float32),\n",
       "  DeviceArray(0.00690126, dtype=float32),\n",
       "  DeviceArray(0.1026805, dtype=float32),\n",
       "  DeviceArray(0.04681748, dtype=float32),\n",
       "  DeviceArray(0.04197264, dtype=float32),\n",
       "  DeviceArray(0.07770628, dtype=float32),\n",
       "  DeviceArray(0.05275732, dtype=float32),\n",
       "  DeviceArray(0.0641672, dtype=float32),\n",
       "  DeviceArray(0.08337265, dtype=float32),\n",
       "  DeviceArray(0.03502291, dtype=float32),\n",
       "  DeviceArray(0.0339331, dtype=float32),\n",
       "  DeviceArray(0.08627534, dtype=float32),\n",
       "  DeviceArray(0.0404228, dtype=float32),\n",
       "  DeviceArray(0.05780673, dtype=float32),\n",
       "  DeviceArray(0.07730019, dtype=float32),\n",
       "  DeviceArray(0.07568157, dtype=float32),\n",
       "  DeviceArray(0.07164407, dtype=float32),\n",
       "  DeviceArray(0.08751643, dtype=float32),\n",
       "  DeviceArray(0.02932227, dtype=float32),\n",
       "  DeviceArray(0.03189445, dtype=float32),\n",
       "  DeviceArray(0.04937065, dtype=float32),\n",
       "  DeviceArray(0.0343408, dtype=float32),\n",
       "  DeviceArray(0.07882959, dtype=float32),\n",
       "  DeviceArray(0.0759511, dtype=float32),\n",
       "  DeviceArray(0.05812675, dtype=float32),\n",
       "  DeviceArray(0.064798, dtype=float32),\n",
       "  DeviceArray(0.07818216, dtype=float32),\n",
       "  DeviceArray(0.0967921, dtype=float32),\n",
       "  DeviceArray(0.05633533, dtype=float32),\n",
       "  DeviceArray(0.06639385, dtype=float32),\n",
       "  DeviceArray(0.05780119, dtype=float32),\n",
       "  DeviceArray(0.05904639, dtype=float32),\n",
       "  DeviceArray(0.06437224, dtype=float32),\n",
       "  DeviceArray(0.04347986, dtype=float32),\n",
       "  DeviceArray(0.07922077, dtype=float32),\n",
       "  DeviceArray(0.05324399, dtype=float32),\n",
       "  DeviceArray(0.06165314, dtype=float32),\n",
       "  DeviceArray(0.09425443, dtype=float32),\n",
       "  DeviceArray(0.06180048, dtype=float32),\n",
       "  DeviceArray(0.07176739, dtype=float32),\n",
       "  DeviceArray(0.06345612, dtype=float32),\n",
       "  DeviceArray(0.096017, dtype=float32),\n",
       "  DeviceArray(0.06630462, dtype=float32),\n",
       "  DeviceArray(0.05097175, dtype=float32),\n",
       "  DeviceArray(0.06794858, dtype=float32),\n",
       "  DeviceArray(0.03639537, dtype=float32),\n",
       "  DeviceArray(0.05829567, dtype=float32),\n",
       "  DeviceArray(0.06667745, dtype=float32),\n",
       "  DeviceArray(0.06506026, dtype=float32),\n",
       "  DeviceArray(0.07814491, dtype=float32),\n",
       "  DeviceArray(0.0591557, dtype=float32),\n",
       "  DeviceArray(0.10029101, dtype=float32),\n",
       "  DeviceArray(0.0388608, dtype=float32),\n",
       "  DeviceArray(0.0889551, dtype=float32),\n",
       "  DeviceArray(0.05528146, dtype=float32),\n",
       "  DeviceArray(0.06775475, dtype=float32),\n",
       "  DeviceArray(0.04817367, dtype=float32),\n",
       "  DeviceArray(0.0517146, dtype=float32),\n",
       "  DeviceArray(0.07593262, dtype=float32),\n",
       "  DeviceArray(0.05787522, dtype=float32),\n",
       "  DeviceArray(0.05113548, dtype=float32),\n",
       "  DeviceArray(0.10948396, dtype=float32),\n",
       "  DeviceArray(0.06633216, dtype=float32),\n",
       "  DeviceArray(0.06331247, dtype=float32),\n",
       "  DeviceArray(0.03391528, dtype=float32),\n",
       "  DeviceArray(0.06416684, dtype=float32),\n",
       "  DeviceArray(0.03491122, dtype=float32),\n",
       "  DeviceArray(0.06386214, dtype=float32),\n",
       "  DeviceArray(0.04069042, dtype=float32),\n",
       "  DeviceArray(0.05473471, dtype=float32),\n",
       "  DeviceArray(0.10524172, dtype=float32),\n",
       "  DeviceArray(0.04937112, dtype=float32),\n",
       "  DeviceArray(0.05079949, dtype=float32),\n",
       "  DeviceArray(0.07344919, dtype=float32),\n",
       "  DeviceArray(0.0606178, dtype=float32),\n",
       "  DeviceArray(0.0888167, dtype=float32),\n",
       "  DeviceArray(0.0826602, dtype=float32),\n",
       "  DeviceArray(0.12092251, dtype=float32),\n",
       "  DeviceArray(0.03363299, dtype=float32),\n",
       "  DeviceArray(0.06874305, dtype=float32),\n",
       "  DeviceArray(0.00690103, dtype=float32),\n",
       "  DeviceArray(0.07932097, dtype=float32),\n",
       "  DeviceArray(0.05720514, dtype=float32),\n",
       "  DeviceArray(0.07617807, dtype=float32),\n",
       "  DeviceArray(0.05627161, dtype=float32)],\n",
       " 'success_ratio': DeviceArray(0.01, dtype=float32)}"
      ]
     },
     "execution_count": 21,
     "metadata": {},
     "output_type": "execute_result"
    }
   ],
   "source": [
    "success_ratio(3, 9, 'random_self', 200, 0)"
   ]
  },
  {
   "cell_type": "code",
   "execution_count": 19,
   "id": "41b06e94-6dfb-4786-80e4-01da05a7d22a",
   "metadata": {
    "tags": []
   },
   "outputs": [
    {
     "data": {
      "application/vnd.jupyter.widget-view+json": {
       "model_id": "dc96ba6c7e6d400cb7b5f01e538e1745",
       "version_major": 2,
       "version_minor": 0
      },
      "text/plain": [
       "  0%|          | 0/1 [00:00<?, ?it/s]"
      ]
     },
     "metadata": {},
     "output_type": "display_data"
    },
    {
     "name": "stdout",
     "output_type": "stream",
     "text": [
      "CPU times: user 4min 44s, sys: 14.5 s, total: 4min 58s\n",
      "Wall time: 4min 26s\n"
     ]
    },
    {
     "data": {
      "text/plain": [
       "[DeviceArray(1., dtype=float32)]"
      ]
     },
     "execution_count": 19,
     "metadata": {},
     "output_type": "execute_result"
    }
   ],
   "source": [
    "%%time\n",
    "success_chart(2, [2], 'random_unitary', 1000, 2, 'results/2q_random_self_0')"
   ]
  },
  {
   "cell_type": "code",
   "execution_count": null,
   "id": "c88e95d3-833c-4161-8a61-805322b683f5",
   "metadata": {},
   "outputs": [],
   "source": [
    "0.005"
   ]
  },
  {
   "cell_type": "code",
   "execution_count": 35,
   "id": "68e4ba64-9ae5-4c20-a19f-63d2eb888281",
   "metadata": {},
   "outputs": [
    {
     "data": {
      "text/plain": [
       "DeviceArray(0.1, dtype=float32)"
      ]
     },
     "execution_count": 35,
     "metadata": {},
     "output_type": "execute_result"
    }
   ],
   "source": [
    "success_ratio(3, 6, 'self')"
   ]
  },
  {
   "cell_type": "code",
   "execution_count": 20,
   "id": "354c3fd5-b182-4941-8a33-c91253da84a1",
   "metadata": {},
   "outputs": [
    {
     "data": {
      "application/vnd.jupyter.widget-view+json": {
       "model_id": "6890cd0724524cc9a3a554e4e3d5b5c8",
       "version_major": 2,
       "version_minor": 0
      },
      "text/plain": [
       "  0%|          | 0/5 [00:00<?, ?it/s]"
      ]
     },
     "metadata": {},
     "output_type": "display_data"
    },
    {
     "data": {
      "text/plain": [
       "[DeviceArray(1., dtype=float32),\n",
       " DeviceArray(0.78, dtype=float32),\n",
       " DeviceArray(0.1, dtype=float32),\n",
       " DeviceArray(0., dtype=float32),\n",
       " DeviceArray(0., dtype=float32)]"
      ]
     },
     "execution_count": 20,
     "metadata": {},
     "output_type": "execute_result"
    }
   ],
   "source": [
    "success_chart(3, range(15)[::3], 'self', 'results/s_chart_3_self')"
   ]
  },
  {
   "cell_type": "code",
   "execution_count": 22,
   "id": "47e790a9-e383-4135-8389-4edf058eff4c",
   "metadata": {},
   "outputs": [
    {
     "data": {
      "text/plain": [
       "[0, 3, 6, 9, 12]"
      ]
     },
     "execution_count": 22,
     "metadata": {},
     "output_type": "execute_result"
    }
   ],
   "source": [
    "list(range(15)[::3])\n",
    "                                                       \n",
    "                                                                                                                                                                                                                                                                                                                                                                                                                                                                                                                                                                                                                                                                                                                                                                                                                                                                                                                                                                                                                                                                                                                                                                                                                                                                                                                                                                                                                                                                                                                                                                                                                                                                                                                                                                                                                                                                                                                                                                                                                                                                                                                                                                                                                                                                                                                                                                                                                                                                                                                                                                                                                                                                                                                                                                                                                                                                                                                                                                    l''    \n",
    "                                                                                                                                                                                                                                                                                                                                                                                                                                                                                                                                                                                                                                                                                                                                                                                                                                                                                                                                                                                                                                                                                                                                                                                                                                                                                                                                                                                                                                                                                                                                                                                                                                                                                                                                                                                                                                                                                                                                                                                                                                                                                                                                                                                                                                                                                                                                                                                                                                                                                                                                                                                                                                                                                                                                                                                                                                                                                                                                                                                                                                                                                                                                                                                                                                                                                                                                                                                                                                                                                                                                                                                                                                                                                                                                                                                                                                                                                                                                                                                                                                                                                                                                                                                                                                                                                                                                                                                                                                                                                                                                                                                                                                                                                                                                                                                                                                                                                                                                                                                                                                                                                                                                                                                                                                                                                                                                                                                                                                                                                                                                                                                                                                                                                                                                                                                                                                                                                                                                                                                                                                                                                                                                                                                                                                                                                                                                                                                                                                                                                                                                                                                                                                                                                                                                                                                                                                                                                                                                                                                                                                                                                                                                                                                                                                                                                                                                                                                                                                                                                                                                                                                                                                                                                                                                                                                                                                                                                                                                                                                                                                                                                                                                                                                                                                                                                                                "
   ]
  },
  {
   "cell_type": "code",
   "execution_count": 2,
   "id": "5b014952-b65a-4385-8390-3de597b19446",
   "metadata": {},
   "outputs": [
    {
     "data": {
      "image/png": "[encoded data removed]",
      "text/plain": [
       "<Figure size 1350.8x204.68 with 1 Axes>"
      ]
     },
     "execution_count": 2,
     "metadata": {},
     "output_type": "execute_result"
    }
   ],
   "source": [
    "placements_toff3 = [[1, 2], [0, 2], [1, 2], [0, 2], [0, 1], [0, 1]]\n",
    "anz = Ansatz(3, 'cx', placements={'free': placements_toff3})\n",
    "\n",
    "anz.circuit().draw(output='mpl')"
   ]
  },
  {
   "cell_type": "code",
   "execution_count": 3,
   "id": "3de114e2-4b70-4007-8792-edb4502b81e4",
   "metadata": {},
   "outputs": [],
   "source": [
    "res = anz.learn(u_toff3, num_repeats=200)"
   ]
  },
  {
   "cell_type": "code",
   "execution_count": 4,
   "id": "cff58b48-3908-4c93-bb25-51ce1392eb94",
   "metadata": {},
   "outputs": [
    {
     "data": {
      "text/plain": [
       "0.535"
      ]
     },
     "execution_count": 4,
     "metadata": {},
     "output_type": "execute_result"
    }
   ],
   "source": [
    "s = [min(r['loss'])<1e-4 for r in res]\n",
    "sum(s)/len(s)"
   ]
  },
  {
   "cell_type": "code",
   "execution_count": 5,
   "id": "a4abfe8b-3739-4f86-a800-ba3f2755220f",
   "metadata": {},
   "outputs": [
    {
     "data": {
      "text/plain": [
       "[< toff3_conn_test| Approximate | cz count: 6 | cz depth: 6 | loss: 0.0 >,\n",
       " < toff3_conn_test| Approximate | cz count: 6 | cz depth: 6 | loss: 0.0 >,\n",
       " < toff3_conn_test| Approximate | cz count: 6 | cz depth: 6 | loss: 1.1920928955078125e-07 >,\n",
       " < toff3_conn_test| Approximate | cz count: 7 | cz depth: 7 | loss: 0.0 >,\n",
       " < toff3_conn_test| Approximate | cz count: 7 | cz depth: 7 | loss: 0.0 >,\n",
       " < toff3_conn_test| Approximate | cz count: 6 | cz depth: 6 | loss: 0.0 >,\n",
       " < toff3_conn_test| Approximate | cz count: 8 | cz depth: 8 | loss: 0.0 >,\n",
       " < toff3_conn_test| Approximate | cz count: 8 | cz depth: 8 | loss: 0.0 >,\n",
       " < toff3_conn_test| Approximate | cz count: 9 | cz depth: 9 | loss: 0.0 >]"
      ]
     },
     "execution_count": 5,
     "metadata": {},
     "output_type": "execute_result"
    }
   ],
   "source": [
    "results = Results.load('results/toff3_conn_test')\n",
    "results.decompositions"
   ]
  },
  {
   "cell_type": "code",
   "execution_count": 6,
   "id": "2b120b40-5ef9-4d85-a547-c2303991ebea",
   "metadata": {},
   "outputs": [
    {
     "data": {
      "text/plain": [
       "0.36"
      ]
     },
     "execution_count": 6,
     "metadata": {},
     "output_type": "execute_result"
    }
   ],
   "source": [
    "n = 0\n",
    "\n",
    "d = results.decompositions[n]\n",
    "qc = d.circuit\n",
    "u, angles, wires = qiskit_circ_to_jax_unitary(qc)\n",
    "\n",
    "loss_f = lambda angs: disc2(u(angs), u_toff3)\n",
    "res = mynimize_repeated(loss_f, len(angles), num_repeats=100)\n",
    "\n",
    "s = [min(r['loss'])<1e-4 for r in res]\n",
    "sum(s)/len(s)"
   ]
  },
  {
   "cell_type": "code",
   "execution_count": 7,
   "id": "a732a32d-ac39-4a17-87a5-18de84ef3b56",
   "metadata": {},
   "outputs": [
    {
     "data": {
      "text/plain": [
       "0.68"
      ]
     },
     "execution_count": 7,
     "metadata": {},
     "output_type": "execute_result"
    }
   ],
   "source": [
    "n = 1\n",
    "\n",
    "d = results.decompositions[n]\n",
    "qc = d.circuit\n",
    "u, angles, wires = qiskit_circ_to_jax_unitary(qc)\n",
    "\n",
    "loss_f = lambda angs: disc2(u(angs), u_toff3)\n",
    "res = mynimize_repeated(loss_f, len(angles), num_repeats=100)\n",
    "\n",
    "s = [min(r['loss'])<1e-4 for r in res]\n",
    "sum(s)/len(s)"
   ]
  },
  {
   "cell_type": "code",
   "execution_count": 9,
   "id": "216e60bd-0d43-460f-863e-13095b27c698",
   "metadata": {},
   "outputs": [
    {
     "data": {
      "text/plain": [
       "0.52"
      ]
     },
     "execution_count": 9,
     "metadata": {},
     "output_type": "execute_result"
    }
   ],
   "source": [
    "n = 2\n",
    "\n",
    "d = results.decompositions[n]\n",
    "qc = d.circuit\n",
    "u, angles, wires = qiskit_circ_to_jax_unitary(qc)\n",
    "\n",
    "loss_f = lambda angs: disc2(u(angs), u_toff3)\n",
    "res = mynimize_repeated(loss_f, len(angles), num_repeats=100)\n",
    "\n",
    "s = [min(r['loss'])<1e-4 for r in res]\n",
    "sum(s)/len(s)"
   ]
  },
  {
   "cell_type": "code",
   "execution_count": null,
   "id": "774816ef-dd68-4278-84c8-94c77a641702",
   "metadata": {},
   "outputs": [],
   "source": []
  }
 ],
 "metadata": {
  "kernelspec": {
   "display_name": "Python 3",
   "language": "python",
   "name": "python3"
  },
  "language_info": {
   "codemirror_mode": {
    "name": "ipython",
    "version": 3
   },
   "file_extension": ".py",
   "mimetype": "text/x-python",
   "name": "python",
   "nbconvert_exporter": "python",
   "pygments_lexer": "ipython3",
   "version": "3.8.10"
  },
  "widgets": {
   "application/vnd.jupyter.widget-state+json": {
    "state": {
     "040994b438814be198b666f420a59567": {
      "model_module": "@jupyter-widgets/controls",
      "model_module_version": "1.5.0",
      "model_name": "HBoxModel",
      "state": {
       "children": [
        "IPY_MODEL_ebc6fabc88eb472cb474eacb75985c58",
        "IPY_MODEL_1f262837a9e641338389e7eadda81f5c",
        "IPY_MODEL_37dfb9b0f842425c8179c660967cd1b0"
       ],
       "layout": "IPY_MODEL_ab83dcf787b6499fa2e72c2b2f0fc5da"
      }
     },
     "041e7e5feaa942e3aafc8c294a20e642": {
      "model_module": "@jupyter-widgets/controls",
      "model_module_version": "1.5.0",
      "model_name": "HBoxModel",
      "state": {
       "children": [
        "IPY_MODEL_5e4c6fe26cd0480a8523b812c22c5bd1",
        "IPY_MODEL_3a33a77f163a45b98411c96e37fbd569",
        "IPY_MODEL_e4c2410e32fe4da986d47b096411cec7"
       ],
       "layout": "IPY_MODEL_b16538c8407147f1ab04d287ee341a59"
      }
     },
     "06e1c488e04d48b7874dce24d22fd0ff": {
      "model_module": "@jupyter-widgets/controls",
      "model_module_version": "1.5.0",
      "model_name": "HTMLModel",
      "state": {
       "layout": "IPY_MODEL_bc9ce03f4e64419baec1586e550d9422",
       "style": "IPY_MODEL_fc6722151e424be099c4964b2ab54252",
       "value": " 3/3 [00:50&lt;00:00, 17.85s/it]"
      }
     },
     "0b5ec13f55e94a309a4a624e3f7d3a69": {
      "model_module": "@jupyter-widgets/controls",
      "model_module_version": "1.5.0",
      "model_name": "DescriptionStyleModel",
      "state": {
       "description_width": ""
      }
     },
     "0bfd5c715361400f977c1787535f4b64": {
      "model_module": "@jupyter-widgets/base",
      "model_module_version": "1.2.0",
      "model_name": "LayoutModel",
      "state": {}
     },
     "0c215936603d45bb9a1555a75d53c87d": {
      "model_module": "@jupyter-widgets/base",
      "model_module_version": "1.2.0",
      "model_name": "LayoutModel",
      "state": {}
     },
     "1477762920844ffe8f3b986e729eb85b": {
      "model_module": "@jupyter-widgets/base",
      "model_module_version": "1.2.0",
      "model_name": "LayoutModel",
      "state": {}
     },
     "15758d9438214a7dadb1f12462d3e270": {
      "model_module": "@jupyter-widgets/base",
      "model_module_version": "1.2.0",
      "model_name": "LayoutModel",
      "state": {}
     },
     "166bc98cafe94829b609e42e13586c42": {
      "model_module": "@jupyter-widgets/base",
      "model_module_version": "1.2.0",
      "model_name": "LayoutModel",
      "state": {}
     },
     "18ceefc29e5546fe8460f5e1f685fffd": {
      "model_module": "@jupyter-widgets/base",
      "model_module_version": "1.2.0",
      "model_name": "LayoutModel",
      "state": {}
     },
     "194cfb81dd7044ba8ace7c8d313cc113": {
      "model_module": "@jupyter-widgets/base",
      "model_module_version": "1.2.0",
      "model_name": "LayoutModel",
      "state": {}
     },
     "1f262837a9e641338389e7eadda81f5c": {
      "model_module": "@jupyter-widgets/controls",
      "model_module_version": "1.5.0",
      "model_name": "FloatProgressModel",
      "state": {
       "bar_style": "danger",
       "layout": "IPY_MODEL_8c25778dfa7f4446b106fd7ddb02c8b8",
       "max": 3,
       "style": "IPY_MODEL_6ab219da499a47cfa6cc0459a982f31c"
      }
     },
     "201c23ed91124620a7ec4b44669b25c8": {
      "model_module": "@jupyter-widgets/controls",
      "model_module_version": "1.5.0",
      "model_name": "DescriptionStyleModel",
      "state": {
       "description_width": ""
      }
     },
     "20b683de2f46434abbc1615a818ca801": {
      "model_module": "@jupyter-widgets/base",
      "model_module_version": "1.2.0",
      "model_name": "LayoutModel",
      "state": {}
     },
     "20ec2c9f4a024da68af30e68e81d9a76": {
      "model_module": "@jupyter-widgets/controls",
      "model_module_version": "1.5.0",
      "model_name": "FloatProgressModel",
      "state": {
       "bar_style": "success",
       "layout": "IPY_MODEL_e277a97e6bfa40fda7ee5ec06003c56c",
       "max": 3,
       "style": "IPY_MODEL_fe30072b33e945dbb908362367d076d3",
       "value": 3
      }
     },
     "2964a164c85042539ff647d9d52e8c39": {
      "model_module": "@jupyter-widgets/base",
      "model_module_version": "1.2.0",
      "model_name": "LayoutModel",
      "state": {}
     },
     "2d6f4d8af9054b6a86f2f8273c310730": {
      "model_module": "@jupyter-widgets/base",
      "model_module_version": "1.2.0",
      "model_name": "LayoutModel",
      "state": {}
     },
     "2ec6b9968fb94c49b5b775e8cf0c97b3": {
      "model_module": "@jupyter-widgets/base",
      "model_module_version": "1.2.0",
      "model_name": "LayoutModel",
      "state": {}
     },
     "32f1633510c042d18126ec3fbdecb701": {
      "model_module": "@jupyter-widgets/base",
      "model_module_version": "1.2.0",
      "model_name": "LayoutModel",
      "state": {}
     },
     "3328c20c460e42eda332e209c9b28d95": {
      "model_module": "@jupyter-widgets/controls",
      "model_module_version": "1.5.0",
      "model_name": "FloatProgressModel",
      "state": {
       "bar_style": "success",
       "layout": "IPY_MODEL_4c84c25c30dd48d092556b449e57e866",
       "max": 3,
       "style": "IPY_MODEL_ea6e004dd89f435ea83ed41cf55b389a",
       "value": 3
      }
     },
     "35f02f3066344ab8b5e1e39449aa06dd": {
      "model_module": "@jupyter-widgets/controls",
      "model_module_version": "1.5.0",
      "model_name": "ProgressStyleModel",
      "state": {
       "description_width": ""
      }
     },
     "37dfb9b0f842425c8179c660967cd1b0": {
      "model_module": "@jupyter-widgets/controls",
      "model_module_version": "1.5.0",
      "model_name": "HTMLModel",
      "state": {
       "layout": "IPY_MODEL_6d06598ec11f419cb4cc4f8930a84fda",
       "style": "IPY_MODEL_95ed5c02c5814676bbdcb1927beb47cb",
       "value": " 0/3 [00:12&lt;?, ?it/s]"
      }
     },
     "38727a4b3f814a9bbabe33772d183851": {
      "model_module": "@jupyter-widgets/controls",
      "model_module_version": "1.5.0",
      "model_name": "HBoxModel",
      "state": {
       "children": [
        "IPY_MODEL_97d5c61afbf742db8ccfa492488d986a",
        "IPY_MODEL_dfd23a82589040a4826d7339b19b4976",
        "IPY_MODEL_4c8994a1cabc43f8909d1e6cfc90da34"
       ],
       "layout": "IPY_MODEL_2d6f4d8af9054b6a86f2f8273c310730"
      }
     },
     "3a33a77f163a45b98411c96e37fbd569": {
      "model_module": "@jupyter-widgets/controls",
      "model_module_version": "1.5.0",
      "model_name": "FloatProgressModel",
      "state": {
       "bar_style": "success",
       "layout": "IPY_MODEL_e60d6419b81c4f738f80298733e952c6",
       "max": 1,
       "style": "IPY_MODEL_ee540ea06786404a9d0ec91ef8ff15d4",
       "value": 1
      }
     },
     "3a9a07035466425dbe372ebed714327e": {
      "model_module": "@jupyter-widgets/base",
      "model_module_version": "1.2.0",
      "model_name": "LayoutModel",
      "state": {}
     },
     "3bac23503aaa44359aaca9307cc9577f": {
      "model_module": "@jupyter-widgets/base",
      "model_module_version": "1.2.0",
      "model_name": "LayoutModel",
      "state": {}
     },
     "3dcaf1b929f34294b32a3880d771174f": {
      "model_module": "@jupyter-widgets/controls",
      "model_module_version": "1.5.0",
      "model_name": "ProgressStyleModel",
      "state": {
       "description_width": ""
      }
     },
     "3e894d588bad4825bbdaaf0024f22d04": {
      "model_module": "@jupyter-widgets/controls",
      "model_module_version": "1.5.0",
      "model_name": "DescriptionStyleModel",
      "state": {
       "description_width": ""
      }
     },
     "40a4abb53b0243f785830075b732d6e9": {
      "model_module": "@jupyter-widgets/controls",
      "model_module_version": "1.5.0",
      "model_name": "DescriptionStyleModel",
      "state": {
       "description_width": ""
      }
     },
     "40fb36d3bf95453883878bae281625dd": {
      "model_module": "@jupyter-widgets/base",
      "model_module_version": "1.2.0",
      "model_name": "LayoutModel",
      "state": {}
     },
     "420fe47b03ad4cc3807f078ca6ae73f2": {
      "model_module": "@jupyter-widgets/controls",
      "model_module_version": "1.5.0",
      "model_name": "HTMLModel",
      "state": {
       "layout": "IPY_MODEL_0c215936603d45bb9a1555a75d53c87d",
       "style": "IPY_MODEL_201c23ed91124620a7ec4b44669b25c8",
       "value": "100%"
      }
     },
     "42b055ce7f4d40c48afe56e9cb2e7822": {
      "model_module": "@jupyter-widgets/base",
      "model_module_version": "1.2.0",
      "model_name": "LayoutModel",
      "state": {}
     },
     "43febe462a0a454d9b65d7967bbaf362": {
      "model_module": "@jupyter-widgets/controls",
      "model_module_version": "1.5.0",
      "model_name": "HTMLModel",
      "state": {
       "layout": "IPY_MODEL_ef877919d7814b8a851f58ba5d18303d",
       "style": "IPY_MODEL_f8211c23a27d45a9b615e2c3a03904cb",
       "value": "100%"
      }
     },
     "453d486817f74b208659094c4b8a45f4": {
      "model_module": "@jupyter-widgets/controls",
      "model_module_version": "1.5.0",
      "model_name": "HTMLModel",
      "state": {
       "layout": "IPY_MODEL_42b055ce7f4d40c48afe56e9cb2e7822",
       "style": "IPY_MODEL_92beb0f975cf4b68bc02653189f799f2",
       "value": " 3/3 [01:12&lt;00:00, 24.93s/it]"
      }
     },
     "45626a8a47274654917afe21f0c7d640": {
      "model_module": "@jupyter-widgets/controls",
      "model_module_version": "1.5.0",
      "model_name": "FloatProgressModel",
      "state": {
       "bar_style": "success",
       "layout": "IPY_MODEL_6fb7bd9088ba4191853d1a94ccae49b2",
       "max": 3,
       "style": "IPY_MODEL_b1d72f1d43324efdab5f454b7b8239a9",
       "value": 3
      }
     },
     "47d44b2de042459cacc3b7cf22b2aa8f": {
      "model_module": "@jupyter-widgets/controls",
      "model_module_version": "1.5.0",
      "model_name": "HTMLModel",
      "state": {
       "layout": "IPY_MODEL_2ec6b9968fb94c49b5b775e8cf0c97b3",
       "style": "IPY_MODEL_cc850f20ad5443e18a1c3f436fa2ace1",
       "value": "100%"
      }
     },
     "4b1ec4e62d51462fa97f9b94d2e5c916": {
      "model_module": "@jupyter-widgets/controls",
      "model_module_version": "1.5.0",
      "model_name": "HBoxModel",
      "state": {
       "children": [
        "IPY_MODEL_82f1fe60f04648408313c61c0c4e29eb",
        "IPY_MODEL_95f2ad0d942341d78eb13b2717c7c867",
        "IPY_MODEL_453d486817f74b208659094c4b8a45f4"
       ],
       "layout": "IPY_MODEL_837dc2099b8549e38ef2e74c31710f8d"
      }
     },
     "4c84c25c30dd48d092556b449e57e866": {
      "model_module": "@jupyter-widgets/base",
      "model_module_version": "1.2.0",
      "model_name": "LayoutModel",
      "state": {}
     },
     "4c8994a1cabc43f8909d1e6cfc90da34": {
      "model_module": "@jupyter-widgets/controls",
      "model_module_version": "1.5.0",
      "model_name": "HTMLModel",
      "state": {
       "layout": "IPY_MODEL_84ac1971551846e2950a7d5ce291d023",
       "style": "IPY_MODEL_9f088f926cb44503882a62c9bac805f4",
       "value": " 1/3 [05:23&lt;07:45, 232.93s/it]"
      }
     },
     "52a0c1c0a60f46a4bff8a6aa4761688c": {
      "model_module": "@jupyter-widgets/controls",
      "model_module_version": "1.5.0",
      "model_name": "ProgressStyleModel",
      "state": {
       "description_width": ""
      }
     },
     "53acc623a9814284b3796c03af79a4ae": {
      "model_module": "@jupyter-widgets/base",
      "model_module_version": "1.2.0",
      "model_name": "LayoutModel",
      "state": {}
     },
     "549746ddd4b6403ab9782cb09cedcc59": {
      "model_module": "@jupyter-widgets/controls",
      "model_module_version": "1.5.0",
      "model_name": "HTMLModel",
      "state": {
       "layout": "IPY_MODEL_8f624d63fc1d4832964544738b89e92f",
       "style": "IPY_MODEL_d23986f180fa4e8797dba9dc090aa1c9",
       "value": " 3/3 [00:56&lt;00:00, 19.83s/it]"
      }
     },
     "55547d702ec64e2d90050a745564039f": {
      "model_module": "@jupyter-widgets/controls",
      "model_module_version": "1.5.0",
      "model_name": "FloatProgressModel",
      "state": {
       "bar_style": "success",
       "layout": "IPY_MODEL_2964a164c85042539ff647d9d52e8c39",
       "max": 1,
       "style": "IPY_MODEL_e4d372f2905b4803ab9f81d6a814b9e6",
       "value": 1
      }
     },
     "5a36794312d14d3bb232217453e83c04": {
      "model_module": "@jupyter-widgets/controls",
      "model_module_version": "1.5.0",
      "model_name": "DescriptionStyleModel",
      "state": {
       "description_width": ""
      }
     },
     "5e4c6fe26cd0480a8523b812c22c5bd1": {
      "model_module": "@jupyter-widgets/controls",
      "model_module_version": "1.5.0",
      "model_name": "HTMLModel",
      "state": {
       "layout": "IPY_MODEL_ba1fb36da60b40eab7536369c37b6070",
       "style": "IPY_MODEL_6f22218f97d34a189ef14d1a00f0d379",
       "value": "100%"
      }
     },
     "69b6d8af342144bbafd8666f1d6576f7": {
      "model_module": "@jupyter-widgets/controls",
      "model_module_version": "1.5.0",
      "model_name": "DescriptionStyleModel",
      "state": {
       "description_width": ""
      }
     },
     "6ab219da499a47cfa6cc0459a982f31c": {
      "model_module": "@jupyter-widgets/controls",
      "model_module_version": "1.5.0",
      "model_name": "ProgressStyleModel",
      "state": {
       "description_width": ""
      }
     },
     "6d06598ec11f419cb4cc4f8930a84fda": {
      "model_module": "@jupyter-widgets/base",
      "model_module_version": "1.2.0",
      "model_name": "LayoutModel",
      "state": {}
     },
     "6f22218f97d34a189ef14d1a00f0d379": {
      "model_module": "@jupyter-widgets/controls",
      "model_module_version": "1.5.0",
      "model_name": "DescriptionStyleModel",
      "state": {
       "description_width": ""
      }
     },
     "6fb7bd9088ba4191853d1a94ccae49b2": {
      "model_module": "@jupyter-widgets/base",
      "model_module_version": "1.2.0",
      "model_name": "LayoutModel",
      "state": {}
     },
     "71ab78da820d4071bf7eb3993feb8f8a": {
      "model_module": "@jupyter-widgets/base",
      "model_module_version": "1.2.0",
      "model_name": "LayoutModel",
      "state": {}
     },
     "7220227f433749d78d5f64e063b65a0e": {
      "model_module": "@jupyter-widgets/controls",
      "model_module_version": "1.5.0",
      "model_name": "HTMLModel",
      "state": {
       "layout": "IPY_MODEL_ff8dc4a3c74a47168ce4010d26086af4",
       "style": "IPY_MODEL_69b6d8af342144bbafd8666f1d6576f7",
       "value": " 3/3 [00:34&lt;00:00, 12.11s/it]"
      }
     },
     "7330888659b7429982c9e50ac59e7b2b": {
      "model_module": "@jupyter-widgets/base",
      "model_module_version": "1.2.0",
      "model_name": "LayoutModel",
      "state": {}
     },
     "7720c78205f440d48e009f41f45ab2c1": {
      "model_module": "@jupyter-widgets/controls",
      "model_module_version": "1.5.0",
      "model_name": "DescriptionStyleModel",
      "state": {
       "description_width": ""
      }
     },
     "7a9c6eeaaad240e3947c495315f933e6": {
      "model_module": "@jupyter-widgets/controls",
      "model_module_version": "1.5.0",
      "model_name": "HTMLModel",
      "state": {
       "layout": "IPY_MODEL_9045f6101ff24d25b161a450a986a14a",
       "style": "IPY_MODEL_5a36794312d14d3bb232217453e83c04",
       "value": " 3/3 [03:04&lt;00:00, 65.56s/it]"
      }
     },
     "7d39c8b2b94c45ce9a897e4644a47b3a": {
      "model_module": "@jupyter-widgets/controls",
      "model_module_version": "1.5.0",
      "model_name": "FloatProgressModel",
      "state": {
       "bar_style": "success",
       "layout": "IPY_MODEL_3a9a07035466425dbe372ebed714327e",
       "max": 3,
       "style": "IPY_MODEL_3dcaf1b929f34294b32a3880d771174f",
       "value": 3
      }
     },
     "80fc16a0c7fd45aca728df42a0b2aa1f": {
      "model_module": "@jupyter-widgets/base",
      "model_module_version": "1.2.0",
      "model_name": "LayoutModel",
      "state": {}
     },
     "82666501f24d453f8ac604b4aa070638": {
      "model_module": "@jupyter-widgets/controls",
      "model_module_version": "1.5.0",
      "model_name": "HBoxModel",
      "state": {
       "children": [
        "IPY_MODEL_47d44b2de042459cacc3b7cf22b2aa8f",
        "IPY_MODEL_45626a8a47274654917afe21f0c7d640",
        "IPY_MODEL_549746ddd4b6403ab9782cb09cedcc59"
       ],
       "layout": "IPY_MODEL_71ab78da820d4071bf7eb3993feb8f8a"
      }
     },
     "82f1fe60f04648408313c61c0c4e29eb": {
      "model_module": "@jupyter-widgets/controls",
      "model_module_version": "1.5.0",
      "model_name": "HTMLModel",
      "state": {
       "layout": "IPY_MODEL_d158e1c400554344849508f6d3ab7e20",
       "style": "IPY_MODEL_7720c78205f440d48e009f41f45ab2c1",
       "value": "100%"
      }
     },
     "837dc2099b8549e38ef2e74c31710f8d": {
      "model_module": "@jupyter-widgets/base",
      "model_module_version": "1.2.0",
      "model_name": "LayoutModel",
      "state": {}
     },
     "84ac1971551846e2950a7d5ce291d023": {
      "model_module": "@jupyter-widgets/base",
      "model_module_version": "1.2.0",
      "model_name": "LayoutModel",
      "state": {}
     },
     "8aa1092fc10a4639bc4c6f2921ead7ed": {
      "model_module": "@jupyter-widgets/controls",
      "model_module_version": "1.5.0",
      "model_name": "HBoxModel",
      "state": {
       "children": [
        "IPY_MODEL_ed61747030034ed8a3a2a4bee10f1702",
        "IPY_MODEL_20ec2c9f4a024da68af30e68e81d9a76",
        "IPY_MODEL_06e1c488e04d48b7874dce24d22fd0ff"
       ],
       "layout": "IPY_MODEL_53acc623a9814284b3796c03af79a4ae"
      }
     },
     "8c25778dfa7f4446b106fd7ddb02c8b8": {
      "model_module": "@jupyter-widgets/base",
      "model_module_version": "1.2.0",
      "model_name": "LayoutModel",
      "state": {}
     },
     "8eacf9ff954b46e085d063f3363caf4b": {
      "model_module": "@jupyter-widgets/controls",
      "model_module_version": "1.5.0",
      "model_name": "HBoxModel",
      "state": {
       "children": [
        "IPY_MODEL_420fe47b03ad4cc3807f078ca6ae73f2",
        "IPY_MODEL_7d39c8b2b94c45ce9a897e4644a47b3a",
        "IPY_MODEL_f3764c78c0d547f8bac0c1c2231c5764"
       ],
       "layout": "IPY_MODEL_15758d9438214a7dadb1f12462d3e270"
      }
     },
     "8f624d63fc1d4832964544738b89e92f": {
      "model_module": "@jupyter-widgets/base",
      "model_module_version": "1.2.0",
      "model_name": "LayoutModel",
      "state": {}
     },
     "9045f6101ff24d25b161a450a986a14a": {
      "model_module": "@jupyter-widgets/base",
      "model_module_version": "1.2.0",
      "model_name": "LayoutModel",
      "state": {}
     },
     "92beb0f975cf4b68bc02653189f799f2": {
      "model_module": "@jupyter-widgets/controls",
      "model_module_version": "1.5.0",
      "model_name": "DescriptionStyleModel",
      "state": {
       "description_width": ""
      }
     },
     "95ed5c02c5814676bbdcb1927beb47cb": {
      "model_module": "@jupyter-widgets/controls",
      "model_module_version": "1.5.0",
      "model_name": "DescriptionStyleModel",
      "state": {
       "description_width": ""
      }
     },
     "95f2ad0d942341d78eb13b2717c7c867": {
      "model_module": "@jupyter-widgets/controls",
      "model_module_version": "1.5.0",
      "model_name": "FloatProgressModel",
      "state": {
       "bar_style": "success",
       "layout": "IPY_MODEL_efc45a0fba1c426a9be8511a5c1edddd",
       "max": 3,
       "style": "IPY_MODEL_52a0c1c0a60f46a4bff8a6aa4761688c",
       "value": 3
      }
     },
     "97d5c61afbf742db8ccfa492488d986a": {
      "model_module": "@jupyter-widgets/controls",
      "model_module_version": "1.5.0",
      "model_name": "HTMLModel",
      "state": {
       "layout": "IPY_MODEL_40fb36d3bf95453883878bae281625dd",
       "style": "IPY_MODEL_0b5ec13f55e94a309a4a624e3f7d3a69",
       "value": " 33%"
      }
     },
     "98e5cb5617b74ee5b11b25a0478c6c03": {
      "model_module": "@jupyter-widgets/controls",
      "model_module_version": "1.5.0",
      "model_name": "HTMLModel",
      "state": {
       "layout": "IPY_MODEL_0bfd5c715361400f977c1787535f4b64",
       "style": "IPY_MODEL_b3e7ebbe3e1f430db7aa5867244c2032",
       "value": "100%"
      }
     },
     "9f088f926cb44503882a62c9bac805f4": {
      "model_module": "@jupyter-widgets/controls",
      "model_module_version": "1.5.0",
      "model_name": "DescriptionStyleModel",
      "state": {
       "description_width": ""
      }
     },
     "a156c51b9db24cc6ade083b7fd3930b1": {
      "model_module": "@jupyter-widgets/controls",
      "model_module_version": "1.5.0",
      "model_name": "DescriptionStyleModel",
      "state": {
       "description_width": ""
      }
     },
     "a52d53dad6b6490988394855757e4bf4": {
      "model_module": "@jupyter-widgets/controls",
      "model_module_version": "1.5.0",
      "model_name": "FloatProgressModel",
      "state": {
       "bar_style": "success",
       "layout": "IPY_MODEL_166bc98cafe94829b609e42e13586c42",
       "max": 3,
       "style": "IPY_MODEL_35f02f3066344ab8b5e1e39449aa06dd",
       "value": 3
      }
     },
     "ab83dcf787b6499fa2e72c2b2f0fc5da": {
      "model_module": "@jupyter-widgets/base",
      "model_module_version": "1.2.0",
      "model_name": "LayoutModel",
      "state": {}
     },
     "b16538c8407147f1ab04d287ee341a59": {
      "model_module": "@jupyter-widgets/base",
      "model_module_version": "1.2.0",
      "model_name": "LayoutModel",
      "state": {}
     },
     "b1d72f1d43324efdab5f454b7b8239a9": {
      "model_module": "@jupyter-widgets/controls",
      "model_module_version": "1.5.0",
      "model_name": "ProgressStyleModel",
      "state": {
       "description_width": ""
      }
     },
     "b3e7ebbe3e1f430db7aa5867244c2032": {
      "model_module": "@jupyter-widgets/controls",
      "model_module_version": "1.5.0",
      "model_name": "DescriptionStyleModel",
      "state": {
       "description_width": ""
      }
     },
     "b538313311dd4b89ade0882e566a4efb": {
      "model_module": "@jupyter-widgets/controls",
      "model_module_version": "1.5.0",
      "model_name": "HBoxModel",
      "state": {
       "children": [
        "IPY_MODEL_fd971c61589242b382502748b6dc9b6a",
        "IPY_MODEL_3328c20c460e42eda332e209c9b28d95",
        "IPY_MODEL_7220227f433749d78d5f64e063b65a0e"
       ],
       "layout": "IPY_MODEL_7330888659b7429982c9e50ac59e7b2b"
      }
     },
     "ba1fb36da60b40eab7536369c37b6070": {
      "model_module": "@jupyter-widgets/base",
      "model_module_version": "1.2.0",
      "model_name": "LayoutModel",
      "state": {}
     },
     "bc9ce03f4e64419baec1586e550d9422": {
      "model_module": "@jupyter-widgets/base",
      "model_module_version": "1.2.0",
      "model_name": "LayoutModel",
      "state": {}
     },
     "c24deb8c81524578abc1538737179a1c": {
      "model_module": "@jupyter-widgets/controls",
      "model_module_version": "1.5.0",
      "model_name": "DescriptionStyleModel",
      "state": {
       "description_width": ""
      }
     },
     "cc850f20ad5443e18a1c3f436fa2ace1": {
      "model_module": "@jupyter-widgets/controls",
      "model_module_version": "1.5.0",
      "model_name": "DescriptionStyleModel",
      "state": {
       "description_width": ""
      }
     },
     "d158e1c400554344849508f6d3ab7e20": {
      "model_module": "@jupyter-widgets/base",
      "model_module_version": "1.2.0",
      "model_name": "LayoutModel",
      "state": {}
     },
     "d23986f180fa4e8797dba9dc090aa1c9": {
      "model_module": "@jupyter-widgets/controls",
      "model_module_version": "1.5.0",
      "model_name": "DescriptionStyleModel",
      "state": {
       "description_width": ""
      }
     },
     "d312acdd54374e65b49d6cdb779d0036": {
      "model_module": "@jupyter-widgets/controls",
      "model_module_version": "1.5.0",
      "model_name": "DescriptionStyleModel",
      "state": {
       "description_width": ""
      }
     },
     "da49153f92fe4bfa9b57ce2e7cb30409": {
      "model_module": "@jupyter-widgets/controls",
      "model_module_version": "1.5.0",
      "model_name": "ProgressStyleModel",
      "state": {
       "description_width": ""
      }
     },
     "dc96ba6c7e6d400cb7b5f01e538e1745": {
      "model_module": "@jupyter-widgets/controls",
      "model_module_version": "1.5.0",
      "model_name": "HBoxModel",
      "state": {
       "children": [
        "IPY_MODEL_98e5cb5617b74ee5b11b25a0478c6c03",
        "IPY_MODEL_55547d702ec64e2d90050a745564039f",
        "IPY_MODEL_e0034c4a36a24345a5b29fb5b851c148"
       ],
       "layout": "IPY_MODEL_32f1633510c042d18126ec3fbdecb701"
      }
     },
     "dfd23a82589040a4826d7339b19b4976": {
      "model_module": "@jupyter-widgets/controls",
      "model_module_version": "1.5.0",
      "model_name": "FloatProgressModel",
      "state": {
       "bar_style": "danger",
       "layout": "IPY_MODEL_80fc16a0c7fd45aca728df42a0b2aa1f",
       "max": 3,
       "style": "IPY_MODEL_da49153f92fe4bfa9b57ce2e7cb30409",
       "value": 1
      }
     },
     "e0034c4a36a24345a5b29fb5b851c148": {
      "model_module": "@jupyter-widgets/controls",
      "model_module_version": "1.5.0",
      "model_name": "HTMLModel",
      "state": {
       "layout": "IPY_MODEL_1477762920844ffe8f3b986e729eb85b",
       "style": "IPY_MODEL_a156c51b9db24cc6ade083b7fd3930b1",
       "value": " 1/1 [04:26&lt;00:00, 266.90s/it]"
      }
     },
     "e277a97e6bfa40fda7ee5ec06003c56c": {
      "model_module": "@jupyter-widgets/base",
      "model_module_version": "1.2.0",
      "model_name": "LayoutModel",
      "state": {}
     },
     "e4c2410e32fe4da986d47b096411cec7": {
      "model_module": "@jupyter-widgets/controls",
      "model_module_version": "1.5.0",
      "model_name": "HTMLModel",
      "state": {
       "layout": "IPY_MODEL_18ceefc29e5546fe8460f5e1f685fffd",
       "style": "IPY_MODEL_c24deb8c81524578abc1538737179a1c",
       "value": " 1/1 [01:27&lt;00:00, 87.91s/it]"
      }
     },
     "e4d372f2905b4803ab9f81d6a814b9e6": {
      "model_module": "@jupyter-widgets/controls",
      "model_module_version": "1.5.0",
      "model_name": "ProgressStyleModel",
      "state": {
       "description_width": ""
      }
     },
     "e60d6419b81c4f738f80298733e952c6": {
      "model_module": "@jupyter-widgets/base",
      "model_module_version": "1.2.0",
      "model_name": "LayoutModel",
      "state": {}
     },
     "ea6e004dd89f435ea83ed41cf55b389a": {
      "model_module": "@jupyter-widgets/controls",
      "model_module_version": "1.5.0",
      "model_name": "ProgressStyleModel",
      "state": {
       "description_width": ""
      }
     },
     "eadcb101cf494bd3bafb65527f789967": {
      "model_module": "@jupyter-widgets/controls",
      "model_module_version": "1.5.0",
      "model_name": "HBoxModel",
      "state": {
       "children": [
        "IPY_MODEL_43febe462a0a454d9b65d7967bbaf362",
        "IPY_MODEL_a52d53dad6b6490988394855757e4bf4",
        "IPY_MODEL_7a9c6eeaaad240e3947c495315f933e6"
       ],
       "layout": "IPY_MODEL_20b683de2f46434abbc1615a818ca801"
      }
     },
     "ebc6fabc88eb472cb474eacb75985c58": {
      "model_module": "@jupyter-widgets/controls",
      "model_module_version": "1.5.0",
      "model_name": "HTMLModel",
      "state": {
       "layout": "IPY_MODEL_fd05ada1e3114c9aa036cbfe9c75962e",
       "style": "IPY_MODEL_ee0083d96e454d85aeb5c11cf728ce38",
       "value": "  0%"
      }
     },
     "ed61747030034ed8a3a2a4bee10f1702": {
      "model_module": "@jupyter-widgets/controls",
      "model_module_version": "1.5.0",
      "model_name": "HTMLModel",
      "state": {
       "layout": "IPY_MODEL_3bac23503aaa44359aaca9307cc9577f",
       "style": "IPY_MODEL_40a4abb53b0243f785830075b732d6e9",
       "value": "100%"
      }
     },
     "ee0083d96e454d85aeb5c11cf728ce38": {
      "model_module": "@jupyter-widgets/controls",
      "model_module_version": "1.5.0",
      "model_name": "DescriptionStyleModel",
      "state": {
       "description_width": ""
      }
     },
     "ee540ea06786404a9d0ec91ef8ff15d4": {
      "model_module": "@jupyter-widgets/controls",
      "model_module_version": "1.5.0",
      "model_name": "ProgressStyleModel",
      "state": {
       "description_width": ""
      }
     },
     "ef877919d7814b8a851f58ba5d18303d": {
      "model_module": "@jupyter-widgets/base",
      "model_module_version": "1.2.0",
      "model_name": "LayoutModel",
      "state": {}
     },
     "efc45a0fba1c426a9be8511a5c1edddd": {
      "model_module": "@jupyter-widgets/base",
      "model_module_version": "1.2.0",
      "model_name": "LayoutModel",
      "state": {}
     },
     "f3764c78c0d547f8bac0c1c2231c5764": {
      "model_module": "@jupyter-widgets/controls",
      "model_module_version": "1.5.0",
      "model_name": "HTMLModel",
      "state": {
       "layout": "IPY_MODEL_194cfb81dd7044ba8ace7c8d313cc113",
       "style": "IPY_MODEL_d312acdd54374e65b49d6cdb779d0036",
       "value": " 3/3 [01:20&lt;00:00, 27.56s/it]"
      }
     },
     "f8211c23a27d45a9b615e2c3a03904cb": {
      "model_module": "@jupyter-widgets/controls",
      "model_module_version": "1.5.0",
      "model_name": "DescriptionStyleModel",
      "state": {
       "description_width": ""
      }
     },
     "fbefc0ae8ea1477a8db7239b07dc9cb4": {
      "model_module": "@jupyter-widgets/base",
      "model_module_version": "1.2.0",
      "model_name": "LayoutModel",
      "state": {}
     },
     "fc6722151e424be099c4964b2ab54252": {
      "model_module": "@jupyter-widgets/controls",
      "model_module_version": "1.5.0",
      "model_name": "DescriptionStyleModel",
      "state": {
       "description_width": ""
      }
     },
     "fd05ada1e3114c9aa036cbfe9c75962e": {
      "model_module": "@jupyter-widgets/base",
      "model_module_version": "1.2.0",
      "model_name": "LayoutModel",
      "state": {}
     },
     "fd971c61589242b382502748b6dc9b6a": {
      "model_module": "@jupyter-widgets/controls",
      "model_module_version": "1.5.0",
      "model_name": "HTMLModel",
      "state": {
       "layout": "IPY_MODEL_fbefc0ae8ea1477a8db7239b07dc9cb4",
       "style": "IPY_MODEL_3e894d588bad4825bbdaaf0024f22d04",
       "value": "100%"
      }
     },
     "fe30072b33e945dbb908362367d076d3": {
      "model_module": "@jupyter-widgets/controls",
      "model_module_version": "1.5.0",
      "model_name": "ProgressStyleModel",
      "state": {
       "description_width": ""
      }
     },
     "ff8dc4a3c74a47168ce4010d26086af4": {
      "model_module": "@jupyter-widgets/base",
      "model_module_version": "1.2.0",
      "model_name": "LayoutModel",
      "state": {}
     }
    },
    "version_major": 2,
    "version_minor": 0
   }
  }
 },
 "nbformat": 4,
 "nbformat_minor": 5
}
