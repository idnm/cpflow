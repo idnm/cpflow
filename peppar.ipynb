{
 "cells": [
  {
   "cell_type": "code",
   "execution_count": 1,
   "id": "404b9c83-0882-4dc8-becf-6f6406386aec",
   "metadata": {},
   "outputs": [
    {
     "name": "stderr",
     "output_type": "stream",
     "text": [
      "WARNING:absl:No GPU/TPU found, falling back to CPU. (Set TF_CPP_MIN_LOG_LEVEL=0 and rerun for more info.)\n"
     ]
    }
   ],
   "source": [
    "from jax_circuits import *\n",
    "# from exact_decompositions import *\n",
    "from qiskit import transpile\n",
    "from qiskit.circuit.library import *\n",
    "from qiskit.quantum_info import OneQubitEulerDecomposer, random_clifford\n",
    "from cp_utils import *\n",
    "from scipy.stats import unitary_group"
   ]
  },
  {
   "cell_type": "markdown",
   "id": "d2037d26-e987-44eb-aa9d-985a792f766d",
   "metadata": {},
   "source": [
    "To do\n",
    "\n",
    "1. Local minima plots in an accurate way:\n",
    "    1. For each ansatz several random unitaries and several self-unitaries. \n",
    "    1. Separately stats for different realizations of Toffoli 3 and Toffoli 4 gates."
   ]
  },
  {
   "cell_type": "markdown",
   "id": "b17bdfa9-8714-4e74-be6f-d87977417b36",
   "metadata": {},
   "source": [
    "# Local minimums"
   ]
  },
  {
   "cell_type": "markdown",
   "id": "47f1d546-ba34-4ebf-979b-59c7712faeac",
   "metadata": {
    "toc-hr-collapsed": true
   },
   "source": [
    "## Empirical success ratio: definition and example"
   ]
  },
  {
   "cell_type": "code",
   "execution_count": 24,
   "id": "50f911c5-419f-4779-b02c-88598dcc8c56",
   "metadata": {},
   "outputs": [
    {
     "data": {
      "image/png": "[encoded data removed]",
      "text/plain": [
       "<PIL.Image.Image image mode=RGB size=1350x109 at 0x7F504CD8DC10>"
      ]
     },
     "execution_count": 24,
     "metadata": {},
     "output_type": "execute_result"
    }
   ],
   "source": [
    "anz = Ansatz(3, 'cz', fill_layers(connected_layer(3), 4))\n",
    "target_angles = random_angles(anz.num_angles)\n",
    "target_circuit = anz.circuit(target_angles)\n",
    "target_unitary = anz.unitary(target_angles)\n",
    "\n",
    "anz.circuit().draw(output='latex')"
   ]
  },
  {
   "cell_type": "code",
   "execution_count": 25,
   "id": "fe3113a6-c1a4-49a6-8587-11b340a9d4a7",
   "metadata": {},
   "outputs": [
    {
     "name": "stdout",
     "output_type": "stream",
     "text": [
      "\\documentclass[border=2px]{standalone}\n",
      "\n",
      "\\usepackage[braket, qm]{qcircuit}\n",
      "\\usepackage{graphicx}\n",
      "\n",
      "\\begin{document}\n",
      "\\scalebox{1.0}{\n",
      "\\Qcircuit @C=1.0em @R=0.2em @!R { \\\\\n",
      "\t \t\\nghost{{q}_{0} :  } & \\lstick{{q}_{0} :  } & \\gate{\\mathrm{R_Z}\\,(\\mathrm{6.246})} & \\gate{\\mathrm{R_X}\\,(\\mathrm{0.5124})} & \\gate{\\mathrm{R_Z}\\,(\\mathrm{1.219})} & \\ctrl{1} & \\gate{\\mathrm{R_X}\\,(\\mathrm{1.903})} & \\gate{\\mathrm{R_Z}\\,(\\mathrm{5.638})} & \\ctrl{2} & \\gate{\\mathrm{R_X}\\,(\\mathrm{2.711})} & \\gate{\\mathrm{R_Z}\\,(\\mathrm{5.384})} & \\qw & \\qw & \\qw & \\ctrl{1} & \\gate{\\mathrm{R_X}\\,(\\mathrm{1.105})} & \\gate{\\mathrm{R_Z}\\,(\\mathrm{1.16})} & \\qw & \\qw\\\\\n",
      "\t \t\\nghost{{q}_{1} :  } & \\lstick{{q}_{1} :  } & \\gate{\\mathrm{R_Z}\\,(\\mathrm{4.646})} & \\gate{\\mathrm{R_X}\\,(\\mathrm{2.216})} & \\gate{\\mathrm{R_Z}\\,(\\mathrm{1.714})} & \\control\\qw & \\gate{\\mathrm{R_X}\\,(\\mathrm{2.833})} & \\gate{\\mathrm{R_Z}\\,(\\mathrm{0.6454})} & \\qw & \\qw & \\qw & \\ctrl{1} & \\gate{\\mathrm{R_X}\\,(\\mathrm{2.812})} & \\gate{\\mathrm{R_Z}\\,(\\mathrm{2.779})} & \\control\\qw & \\gate{\\mathrm{R_X}\\,(\\mathrm{2.515})} & \\gate{\\mathrm{R_Z}\\,(\\mathrm{2.283})} & \\qw & \\qw\\\\\n",
      "\t \t\\nghost{{q}_{2} :  } & \\lstick{{q}_{2} :  } & \\gate{\\mathrm{R_Z}\\,(\\mathrm{6.106})} & \\gate{\\mathrm{R_X}\\,(\\mathrm{2.695})} & \\gate{\\mathrm{R_Z}\\,(\\mathrm{1.408})} & \\qw & \\qw & \\qw & \\control\\qw & \\gate{\\mathrm{R_X}\\,(\\mathrm{5.926})} & \\gate{\\mathrm{R_Z}\\,(\\mathrm{0.1336})} & \\control\\qw & \\gate{\\mathrm{R_X}\\,(\\mathrm{3.677})} & \\gate{\\mathrm{R_Z}\\,(\\mathrm{1.53})} & \\qw & \\qw & \\qw & \\qw & \\qw\\\\\n",
      "\\\\ }}\n",
      "\\end{document}\n"
     ]
    }
   ],
   "source": [
    "print(target_circuit.draw(output='latex_source'))"
   ]
  },
  {
   "cell_type": "code",
   "execution_count": 15,
   "id": "a69bd91b-e866-43dd-a1fc-bffaf4c17ad2",
   "metadata": {},
   "outputs": [],
   "source": [
    "results = anz.learn(target_unitary, num_repeats=100)"
   ]
  },
  {
   "cell_type": "code",
   "execution_count": 19,
   "id": "2e4d7f7c-e631-4d42-8eab-08093288a8b2",
   "metadata": {},
   "outputs": [
    {
     "data": {
      "text/plain": [
       "DeviceArray(0.46, dtype=float32)"
      ]
     },
     "execution_count": 19,
     "metadata": {},
     "output_type": "execute_result"
    }
   ],
   "source": [
    "success_record = [jnp.min(r['loss'])<1e-4 for r in results]\n",
    "sum(success_record)/len(success_record)"
   ]
  },
  {
   "cell_type": "code",
   "execution_count": null,
   "id": "eaa8f002-2e87-40ca-8085-9c74adfccbe2",
   "metadata": {},
   "outputs": [],
   "source": [
    "target_circuit"
   ]
  },
  {
   "cell_type": "code",
   "execution_count": 78,
   "id": "f292278e-c2bf-4644-adff-f1235a192e4a",
   "metadata": {},
   "outputs": [],
   "source": [
    "results_self = []\n",
    "for i in range(10):\n",
    "    with open(f'results/local_minimums/3q_random_self_rs{i}', 'rb')  as f:\n",
    "        results_self.append(pickle.load(f))\n",
    "        \n",
    "results_unitary = []\n",
    "for i in range(10):\n",
    "    with open(f'results/local_minimums/3q_random_unitary_rs{i}', 'rb')  as f:\n",
    "        results_unitary.append(pickle.load(f))        "
   ]
  },
  {
   "cell_type": "code",
   "execution_count": 79,
   "id": "a6ad5427-7c98-4037-a451-0bfbb6c4ee7f",
   "metadata": {},
   "outputs": [],
   "source": [
    "def mean_and_std(results):\n",
    "    mean_list = []\n",
    "    std_list = []\n",
    "    for i in range(len(results[0])):\n",
    "        sr_list = jnp.array([res[i]['success_ratio'] for res in results])\n",
    "        mean_list.append(jnp.mean(sr_list))\n",
    "        std_list.append(jnp.std(sr_list))\n",
    "    \n",
    "    return mean_list, std_list        "
   ]
  },
  {
   "cell_type": "code",
   "execution_count": 106,
   "id": "f147cb2d-0836-4251-986c-44908deb71ff",
   "metadata": {},
   "outputs": [
    {
     "data": {
      "text/plain": [
       "{'params': DeviceArray([[ 5.754299  ,  1.3584471 ,  1.6861063 ,  3.7769492 ,\n",
       "                2.748102  ,  5.365713  ,  3.5388346 ,  0.86656886,\n",
       "                2.001221  ,  4.5974364 ,  5.9759526 ,  2.0757704 ,\n",
       "                1.5540582 ,  0.2268112 ],\n",
       "              [ 6.5517073 ,  2.0547414 ,  1.3540331 ,  3.3458786 ,\n",
       "                2.6183314 ,  5.0481944 ,  3.141516  ,  1.3540308 ,\n",
       "                3.1417074 ,  5.0481663 ,  5.196244  ,  2.873174  ,\n",
       "               -0.5232145 , -0.20425496]], dtype=float32),\n",
       " 'loss': DeviceArray([ 9.6465313e-01, -4.7683716e-07], dtype=float32),\n",
       " 'reg': DeviceArray([0, 0], dtype=int32),\n",
       " 'regloss': DeviceArray([ 9.6465313e-01, -4.7683716e-07], dtype=float32)}"
      ]
     },
     "execution_count": 106,
     "metadata": {},
     "output_type": "execute_result"
    }
   ],
   "source": [
    "anz = Ansatz(2, 'cz', fill_layers(sequ_layer(2),2))\n",
    "anz.learn(jnp.identity(4), keep_history=False)"
   ]
  },
  {
   "cell_type": "code",
   "execution_count": 102,
   "id": "00e91835-a4b4-4d48-ac8c-4d897f481a6d",
   "metadata": {},
   "outputs": [
    {
     "data": {
      "text/plain": [
       "Text(0.5, 1.0, 'Local minimums in 3q circuits')"
      ]
     },
     "execution_count": 102,
     "metadata": {},
     "output_type": "execute_result"
    },
    {
     "data": {
      "image/png": "[encoded data removed]",
      "text/plain": [
       "<Figure size 432x288 with 1 Axes>"
      ]
     },
     "metadata": {
      "needs_background": "light"
     },
     "output_type": "display_data"
    }
   ],
   "source": [
    "mean_list_self, std_list_self = mean_and_std(results_self)\n",
    "mean_list_unitary, std_list_unitary = mean_and_std(results_unitary)\n",
    "plt.errorbar(range(len(mean_list_self)), mean_list_self, yerr=std_list_self, fmt='o', capsize=10, label='random self')\n",
    "plt.errorbar(range(len(mean_list_unitary)), mean_list_unitary, yerr=std_list_unitary, fmt='o', capsize=10, label='random unitary')\n",
    "plt.legend()\n",
    "\n",
    "plt.ylim([-0.1, 1.1])\n",
    "# plt.yscale('log')\n",
    "plt.axhline(y=0, color='grey', linestyle='--')\n",
    "plt.axhline(y=1, color='grey', linestyle='--')\n",
    "plt.xticks(range(len(mean_list_unitary)))\n",
    "plt.ylabel('success ratio')\n",
    "plt.xlabel('number CZ gates')\n",
    "plt.title('Local minimums in 3q circuits')"
   ]
  },
  {
   "cell_type": "code",
   "execution_count": null,
   "id": "cc1d89ff-d789-4551-bf92-bc90f13b8ba3",
   "metadata": {},
   "outputs": [],
   "source": [
    "\n"
   ]
  }
 ],
 "metadata": {
  "kernelspec": {
   "display_name": "Python 3",
   "language": "python",
   "name": "python3"
  },
  "language_info": {
   "codemirror_mode": {
    "name": "ipython",
    "version": 3
   },
   "file_extension": ".py",
   "mimetype": "text/x-python",
   "name": "python",
   "nbconvert_exporter": "python",
   "pygments_lexer": "ipython3",
   "version": "3.8.10"
  },
  "widgets": {
   "application/vnd.jupyter.widget-state+json": {
    "state": {},
    "version_major": 2,
    "version_minor": 0
   }
  }
 },
 "nbformat": 4,
 "nbformat_minor": 5
}
