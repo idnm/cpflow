{
 "cells": [
  {
   "cell_type": "code",
   "execution_count": 1,
   "id": "404b9c83-0882-4dc8-becf-6f6406386aec",
   "metadata": {},
   "outputs": [
    {
     "name": "stderr",
     "output_type": "stream",
     "text": [
      "WARNING:absl:No GPU/TPU found, falling back to CPU. (Set TF_CPP_MIN_LOG_LEVEL=0 and rerun for more info.)\n"
     ]
    }
   ],
   "source": [
    "from jax_circuits import *\n",
    "# from exact_decompositions import *\n",
    "from qiskit import transpile\n",
    "from qiskit.circuit.library import *\n",
    "from qiskit.quantum_info import OneQubitEulerDecomposer, random_clifford\n",
    "from cp_utils import *\n",
    "from scipy.stats import unitary_group"
   ]
  },
  {
   "cell_type": "markdown",
   "id": "d2037d26-e987-44eb-aa9d-985a792f766d",
   "metadata": {},
   "source": [
    "To do\n",
    "\n",
    "1. Local minima plots in an accurate way:\n",
    "    1. For each ansatz several random unitaries and several self-unitaries. \n",
    "    1. Separately stats for different realizations of Toffoli 3 and Toffoli 4 gates."
   ]
  },
  {
   "cell_type": "markdown",
   "id": "b17bdfa9-8714-4e74-be6f-d87977417b36",
   "metadata": {},
   "source": [
    "# Local minimums"
   ]
  },
  {
   "cell_type": "code",
   "execution_count": 78,
   "id": "f292278e-c2bf-4644-adff-f1235a192e4a",
   "metadata": {},
   "outputs": [],
   "source": [
    "results_self = []\n",
    "for i in range(10):\n",
    "    with open(f'results/local_minimums/3q_random_self_rs{i}', 'rb')  as f:\n",
    "        results_self.append(pickle.load(f))\n",
    "        \n",
    "results_unitary = []\n",
    "for i in range(10):\n",
    "    with open(f'results/local_minimums/3q_random_unitary_rs{i}', 'rb')  as f:\n",
    "        results_unitary.append(pickle.load(f))        "
   ]
  },
  {
   "cell_type": "code",
   "execution_count": 79,
   "id": "a6ad5427-7c98-4037-a451-0bfbb6c4ee7f",
   "metadata": {},
   "outputs": [],
   "source": [
    "def mean_and_std(results):\n",
    "    mean_list = []\n",
    "    std_list = []\n",
    "    for i in range(len(results[0])):\n",
    "        sr_list = jnp.array([res[i]['success_ratio'] for res in results])\n",
    "        mean_list.append(jnp.mean(sr_list))\n",
    "        std_list.append(jnp.std(sr_list))\n",
    "    \n",
    "    return mean_list, std_list        "
   ]
  },
  {
   "cell_type": "code",
   "execution_count": null,
   "id": "f147cb2d-0836-4251-986c-44908deb71ff",
   "metadata": {},
   "outputs": [],
   "source": [
    "anz = Ansatz(2, 'cz', fill_layers(sequ_layer(2)))\n",
    "anz.learn()"
   ]
  },
  {
   "cell_type": "code",
   "execution_count": 102,
   "id": "00e91835-a4b4-4d48-ac8c-4d897f481a6d",
   "metadata": {},
   "outputs": [
    {
     "data": {
      "text/plain": [
       "Text(0.5, 1.0, 'Local minimums in 3q circuits')"
      ]
     },
     "execution_count": 102,
     "metadata": {},
     "output_type": "execute_result"
    },
    {
     "data": {
      "image/png": "[encoded data removed]",
      "text/plain": [
       "<Figure size 432x288 with 1 Axes>"
      ]
     },
     "metadata": {
      "needs_background": "light"
     },
     "output_type": "display_data"
    }
   ],
   "source": [
    "mean_list_self, std_list_self = mean_and_std(results_self)\n",
    "mean_list_unitary, std_list_unitary = mean_and_std(results_unitary)\n",
    "plt.errorbar(range(len(mean_list_self)), mean_list_self, yerr=std_list_self, fmt='o', capsize=10, label='random self')\n",
    "plt.errorbar(range(len(mean_list_unitary)), mean_list_unitary, yerr=std_list_unitary, fmt='o', capsize=10, label='random unitary')\n",
    "plt.legend()\n",
    "\n",
    "plt.ylim([-0.1, 1.1])\n",
    "# plt.yscale('log')\n",
    "plt.axhline(y=0, color='grey', linestyle='--')\n",
    "plt.axhline(y=1, color='grey', linestyle='--')\n",
    "plt.xticks(range(len(mean_list_unitary)))\n",
    "plt.ylabel('success ratio')\n",
    "plt.xlabel('number CZ gates')\n",
    "plt.title('Local minimums in 3q circuits')"
   ]
  },
  {
   "cell_type": "code",
   "execution_count": null,
   "id": "cc1d89ff-d789-4551-bf92-bc90f13b8ba3",
   "metadata": {},
   "outputs": [],
   "source": [
    "\n"
   ]
  }
 ],
 "metadata": {
  "kernelspec": {
   "display_name": "Python 3",
   "language": "python",
   "name": "python3"
  },
  "language_info": {
   "codemirror_mode": {
    "name": "ipython",
    "version": 3
   },
   "file_extension": ".py",
   "mimetype": "text/x-python",
   "name": "python",
   "nbconvert_exporter": "python",
   "pygments_lexer": "ipython3",
   "version": "3.8.10"
  },
  "widgets": {
   "application/vnd.jupyter.widget-state+json": {
    "state": {
     "040994b438814be198b666f420a59567": {
      "model_module": "@jupyter-widgets/controls",
      "model_module_version": "1.5.0",
      "model_name": "HBoxModel",
      "state": {
       "children": [
        "IPY_MODEL_ebc6fabc88eb472cb474eacb75985c58",
        "IPY_MODEL_1f262837a9e641338389e7eadda81f5c",
        "IPY_MODEL_37dfb9b0f842425c8179c660967cd1b0"
       ],
       "layout": "IPY_MODEL_ab83dcf787b6499fa2e72c2b2f0fc5da"
      }
     },
     "041e7e5feaa942e3aafc8c294a20e642": {
      "model_module": "@jupyter-widgets/controls",
      "model_module_version": "1.5.0",
      "model_name": "HBoxModel",
      "state": {
       "children": [
        "IPY_MODEL_5e4c6fe26cd0480a8523b812c22c5bd1",
        "IPY_MODEL_3a33a77f163a45b98411c96e37fbd569",
        "IPY_MODEL_e4c2410e32fe4da986d47b096411cec7"
       ],
       "layout": "IPY_MODEL_b16538c8407147f1ab04d287ee341a59"
      }
     },
     "06e1c488e04d48b7874dce24d22fd0ff": {
      "model_module": "@jupyter-widgets/controls",
      "model_module_version": "1.5.0",
      "model_name": "HTMLModel",
      "state": {
       "layout": "IPY_MODEL_bc9ce03f4e64419baec1586e550d9422",
       "style": "IPY_MODEL_fc6722151e424be099c4964b2ab54252",
       "value": " 3/3 [00:50&lt;00:00, 17.85s/it]"
      }
     },
     "0b5ec13f55e94a309a4a624e3f7d3a69": {
      "model_module": "@jupyter-widgets/controls",
      "model_module_version": "1.5.0",
      "model_name": "DescriptionStyleModel",
      "state": {
       "description_width": ""
      }
     },
     "0bfd5c715361400f977c1787535f4b64": {
      "model_module": "@jupyter-widgets/base",
      "model_module_version": "1.2.0",
      "model_name": "LayoutModel",
      "state": {}
     },
     "0c215936603d45bb9a1555a75d53c87d": {
      "model_module": "@jupyter-widgets/base",
      "model_module_version": "1.2.0",
      "model_name": "LayoutModel",
      "state": {}
     },
     "1477762920844ffe8f3b986e729eb85b": {
      "model_module": "@jupyter-widgets/base",
      "model_module_version": "1.2.0",
      "model_name": "LayoutModel",
      "state": {}
     },
     "15758d9438214a7dadb1f12462d3e270": {
      "model_module": "@jupyter-widgets/base",
      "model_module_version": "1.2.0",
      "model_name": "LayoutModel",
      "state": {}
     },
     "166bc98cafe94829b609e42e13586c42": {
      "model_module": "@jupyter-widgets/base",
      "model_module_version": "1.2.0",
      "model_name": "LayoutModel",
      "state": {}
     },
     "18ceefc29e5546fe8460f5e1f685fffd": {
      "model_module": "@jupyter-widgets/base",
      "model_module_version": "1.2.0",
      "model_name": "LayoutModel",
      "state": {}
     },
     "194cfb81dd7044ba8ace7c8d313cc113": {
      "model_module": "@jupyter-widgets/base",
      "model_module_version": "1.2.0",
      "model_name": "LayoutModel",
      "state": {}
     },
     "1f262837a9e641338389e7eadda81f5c": {
      "model_module": "@jupyter-widgets/controls",
      "model_module_version": "1.5.0",
      "model_name": "FloatProgressModel",
      "state": {
       "bar_style": "danger",
       "layout": "IPY_MODEL_8c25778dfa7f4446b106fd7ddb02c8b8",
       "max": 3,
       "style": "IPY_MODEL_6ab219da499a47cfa6cc0459a982f31c"
      }
     },
     "201c23ed91124620a7ec4b44669b25c8": {
      "model_module": "@jupyter-widgets/controls",
      "model_module_version": "1.5.0",
      "model_name": "DescriptionStyleModel",
      "state": {
       "description_width": ""
      }
     },
     "20b683de2f46434abbc1615a818ca801": {
      "model_module": "@jupyter-widgets/base",
      "model_module_version": "1.2.0",
      "model_name": "LayoutModel",
      "state": {}
     },
     "20ec2c9f4a024da68af30e68e81d9a76": {
      "model_module": "@jupyter-widgets/controls",
      "model_module_version": "1.5.0",
      "model_name": "FloatProgressModel",
      "state": {
       "bar_style": "success",
       "layout": "IPY_MODEL_e277a97e6bfa40fda7ee5ec06003c56c",
       "max": 3,
       "style": "IPY_MODEL_fe30072b33e945dbb908362367d076d3",
       "value": 3
      }
     },
     "2964a164c85042539ff647d9d52e8c39": {
      "model_module": "@jupyter-widgets/base",
      "model_module_version": "1.2.0",
      "model_name": "LayoutModel",
      "state": {}
     },
     "2d6f4d8af9054b6a86f2f8273c310730": {
      "model_module": "@jupyter-widgets/base",
      "model_module_version": "1.2.0",
      "model_name": "LayoutModel",
      "state": {}
     },
     "2ec6b9968fb94c49b5b775e8cf0c97b3": {
      "model_module": "@jupyter-widgets/base",
      "model_module_version": "1.2.0",
      "model_name": "LayoutModel",
      "state": {}
     },
     "32f1633510c042d18126ec3fbdecb701": {
      "model_module": "@jupyter-widgets/base",
      "model_module_version": "1.2.0",
      "model_name": "LayoutModel",
      "state": {}
     },
     "3328c20c460e42eda332e209c9b28d95": {
      "model_module": "@jupyter-widgets/controls",
      "model_module_version": "1.5.0",
      "model_name": "FloatProgressModel",
      "state": {
       "bar_style": "success",
       "layout": "IPY_MODEL_4c84c25c30dd48d092556b449e57e866",
       "max": 3,
       "style": "IPY_MODEL_ea6e004dd89f435ea83ed41cf55b389a",
       "value": 3
      }
     },
     "35f02f3066344ab8b5e1e39449aa06dd": {
      "model_module": "@jupyter-widgets/controls",
      "model_module_version": "1.5.0",
      "model_name": "ProgressStyleModel",
      "state": {
       "description_width": ""
      }
     },
     "37dfb9b0f842425c8179c660967cd1b0": {
      "model_module": "@jupyter-widgets/controls",
      "model_module_version": "1.5.0",
      "model_name": "HTMLModel",
      "state": {
       "layout": "IPY_MODEL_6d06598ec11f419cb4cc4f8930a84fda",
       "style": "IPY_MODEL_95ed5c02c5814676bbdcb1927beb47cb",
       "value": " 0/3 [00:12&lt;?, ?it/s]"
      }
     },
     "38727a4b3f814a9bbabe33772d183851": {
      "model_module": "@jupyter-widgets/controls",
      "model_module_version": "1.5.0",
      "model_name": "HBoxModel",
      "state": {
       "children": [
        "IPY_MODEL_97d5c61afbf742db8ccfa492488d986a",
        "IPY_MODEL_dfd23a82589040a4826d7339b19b4976",
        "IPY_MODEL_4c8994a1cabc43f8909d1e6cfc90da34"
       ],
       "layout": "IPY_MODEL_2d6f4d8af9054b6a86f2f8273c310730"
      }
     },
     "3a33a77f163a45b98411c96e37fbd569": {
      "model_module": "@jupyter-widgets/controls",
      "model_module_version": "1.5.0",
      "model_name": "FloatProgressModel",
      "state": {
       "bar_style": "success",
       "layout": "IPY_MODEL_e60d6419b81c4f738f80298733e952c6",
       "max": 1,
       "style": "IPY_MODEL_ee540ea06786404a9d0ec91ef8ff15d4",
       "value": 1
      }
     },
     "3a9a07035466425dbe372ebed714327e": {
      "model_module": "@jupyter-widgets/base",
      "model_module_version": "1.2.0",
      "model_name": "LayoutModel",
      "state": {}
     },
     "3bac23503aaa44359aaca9307cc9577f": {
      "model_module": "@jupyter-widgets/base",
      "model_module_version": "1.2.0",
      "model_name": "LayoutModel",
      "state": {}
     },
     "3dcaf1b929f34294b32a3880d771174f": {
      "model_module": "@jupyter-widgets/controls",
      "model_module_version": "1.5.0",
      "model_name": "ProgressStyleModel",
      "state": {
       "description_width": ""
      }
     },
     "3e894d588bad4825bbdaaf0024f22d04": {
      "model_module": "@jupyter-widgets/controls",
      "model_module_version": "1.5.0",
      "model_name": "DescriptionStyleModel",
      "state": {
       "description_width": ""
      }
     },
     "40a4abb53b0243f785830075b732d6e9": {
      "model_module": "@jupyter-widgets/controls",
      "model_module_version": "1.5.0",
      "model_name": "DescriptionStyleModel",
      "state": {
       "description_width": ""
      }
     },
     "40fb36d3bf95453883878bae281625dd": {
      "model_module": "@jupyter-widgets/base",
      "model_module_version": "1.2.0",
      "model_name": "LayoutModel",
      "state": {}
     },
     "420fe47b03ad4cc3807f078ca6ae73f2": {
      "model_module": "@jupyter-widgets/controls",
      "model_module_version": "1.5.0",
      "model_name": "HTMLModel",
      "state": {
       "layout": "IPY_MODEL_0c215936603d45bb9a1555a75d53c87d",
       "style": "IPY_MODEL_201c23ed91124620a7ec4b44669b25c8",
       "value": "100%"
      }
     },
     "42b055ce7f4d40c48afe56e9cb2e7822": {
      "model_module": "@jupyter-widgets/base",
      "model_module_version": "1.2.0",
      "model_name": "LayoutModel",
      "state": {}
     },
     "43febe462a0a454d9b65d7967bbaf362": {
      "model_module": "@jupyter-widgets/controls",
      "model_module_version": "1.5.0",
      "model_name": "HTMLModel",
      "state": {
       "layout": "IPY_MODEL_ef877919d7814b8a851f58ba5d18303d",
       "style": "IPY_MODEL_f8211c23a27d45a9b615e2c3a03904cb",
       "value": "100%"
      }
     },
     "453d486817f74b208659094c4b8a45f4": {
      "model_module": "@jupyter-widgets/controls",
      "model_module_version": "1.5.0",
      "model_name": "HTMLModel",
      "state": {
       "layout": "IPY_MODEL_42b055ce7f4d40c48afe56e9cb2e7822",
       "style": "IPY_MODEL_92beb0f975cf4b68bc02653189f799f2",
       "value": " 3/3 [01:12&lt;00:00, 24.93s/it]"
      }
     },
     "45626a8a47274654917afe21f0c7d640": {
      "model_module": "@jupyter-widgets/controls",
      "model_module_version": "1.5.0",
      "model_name": "FloatProgressModel",
      "state": {
       "bar_style": "success",
       "layout": "IPY_MODEL_6fb7bd9088ba4191853d1a94ccae49b2",
       "max": 3,
       "style": "IPY_MODEL_b1d72f1d43324efdab5f454b7b8239a9",
       "value": 3
      }
     },
     "47d44b2de042459cacc3b7cf22b2aa8f": {
      "model_module": "@jupyter-widgets/controls",
      "model_module_version": "1.5.0",
      "model_name": "HTMLModel",
      "state": {
       "layout": "IPY_MODEL_2ec6b9968fb94c49b5b775e8cf0c97b3",
       "style": "IPY_MODEL_cc850f20ad5443e18a1c3f436fa2ace1",
       "value": "100%"
      }
     },
     "4b1ec4e62d51462fa97f9b94d2e5c916": {
      "model_module": "@jupyter-widgets/controls",
      "model_module_version": "1.5.0",
      "model_name": "HBoxModel",
      "state": {
       "children": [
        "IPY_MODEL_82f1fe60f04648408313c61c0c4e29eb",
        "IPY_MODEL_95f2ad0d942341d78eb13b2717c7c867",
        "IPY_MODEL_453d486817f74b208659094c4b8a45f4"
       ],
       "layout": "IPY_MODEL_837dc2099b8549e38ef2e74c31710f8d"
      }
     },
     "4c84c25c30dd48d092556b449e57e866": {
      "model_module": "@jupyter-widgets/base",
      "model_module_version": "1.2.0",
      "model_name": "LayoutModel",
      "state": {}
     },
     "4c8994a1cabc43f8909d1e6cfc90da34": {
      "model_module": "@jupyter-widgets/controls",
      "model_module_version": "1.5.0",
      "model_name": "HTMLModel",
      "state": {
       "layout": "IPY_MODEL_84ac1971551846e2950a7d5ce291d023",
       "style": "IPY_MODEL_9f088f926cb44503882a62c9bac805f4",
       "value": " 1/3 [05:23&lt;07:45, 232.93s/it]"
      }
     },
     "52a0c1c0a60f46a4bff8a6aa4761688c": {
      "model_module": "@jupyter-widgets/controls",
      "model_module_version": "1.5.0",
      "model_name": "ProgressStyleModel",
      "state": {
       "description_width": ""
      }
     },
     "53acc623a9814284b3796c03af79a4ae": {
      "model_module": "@jupyter-widgets/base",
      "model_module_version": "1.2.0",
      "model_name": "LayoutModel",
      "state": {}
     },
     "549746ddd4b6403ab9782cb09cedcc59": {
      "model_module": "@jupyter-widgets/controls",
      "model_module_version": "1.5.0",
      "model_name": "HTMLModel",
      "state": {
       "layout": "IPY_MODEL_8f624d63fc1d4832964544738b89e92f",
       "style": "IPY_MODEL_d23986f180fa4e8797dba9dc090aa1c9",
       "value": " 3/3 [00:56&lt;00:00, 19.83s/it]"
      }
     },
     "55547d702ec64e2d90050a745564039f": {
      "model_module": "@jupyter-widgets/controls",
      "model_module_version": "1.5.0",
      "model_name": "FloatProgressModel",
      "state": {
       "bar_style": "success",
       "layout": "IPY_MODEL_2964a164c85042539ff647d9d52e8c39",
       "max": 1,
       "style": "IPY_MODEL_e4d372f2905b4803ab9f81d6a814b9e6",
       "value": 1
      }
     },
     "5a36794312d14d3bb232217453e83c04": {
      "model_module": "@jupyter-widgets/controls",
      "model_module_version": "1.5.0",
      "model_name": "DescriptionStyleModel",
      "state": {
       "description_width": ""
      }
     },
     "5e4c6fe26cd0480a8523b812c22c5bd1": {
      "model_module": "@jupyter-widgets/controls",
      "model_module_version": "1.5.0",
      "model_name": "HTMLModel",
      "state": {
       "layout": "IPY_MODEL_ba1fb36da60b40eab7536369c37b6070",
       "style": "IPY_MODEL_6f22218f97d34a189ef14d1a00f0d379",
       "value": "100%"
      }
     },
     "69b6d8af342144bbafd8666f1d6576f7": {
      "model_module": "@jupyter-widgets/controls",
      "model_module_version": "1.5.0",
      "model_name": "DescriptionStyleModel",
      "state": {
       "description_width": ""
      }
     },
     "6ab219da499a47cfa6cc0459a982f31c": {
      "model_module": "@jupyter-widgets/controls",
      "model_module_version": "1.5.0",
      "model_name": "ProgressStyleModel",
      "state": {
       "description_width": ""
      }
     },
     "6d06598ec11f419cb4cc4f8930a84fda": {
      "model_module": "@jupyter-widgets/base",
      "model_module_version": "1.2.0",
      "model_name": "LayoutModel",
      "state": {}
     },
     "6f22218f97d34a189ef14d1a00f0d379": {
      "model_module": "@jupyter-widgets/controls",
      "model_module_version": "1.5.0",
      "model_name": "DescriptionStyleModel",
      "state": {
       "description_width": ""
      }
     },
     "6fb7bd9088ba4191853d1a94ccae49b2": {
      "model_module": "@jupyter-widgets/base",
      "model_module_version": "1.2.0",
      "model_name": "LayoutModel",
      "state": {}
     },
     "71ab78da820d4071bf7eb3993feb8f8a": {
      "model_module": "@jupyter-widgets/base",
      "model_module_version": "1.2.0",
      "model_name": "LayoutModel",
      "state": {}
     },
     "7220227f433749d78d5f64e063b65a0e": {
      "model_module": "@jupyter-widgets/controls",
      "model_module_version": "1.5.0",
      "model_name": "HTMLModel",
      "state": {
       "layout": "IPY_MODEL_ff8dc4a3c74a47168ce4010d26086af4",
       "style": "IPY_MODEL_69b6d8af342144bbafd8666f1d6576f7",
       "value": " 3/3 [00:34&lt;00:00, 12.11s/it]"
      }
     },
     "7330888659b7429982c9e50ac59e7b2b": {
      "model_module": "@jupyter-widgets/base",
      "model_module_version": "1.2.0",
      "model_name": "LayoutModel",
      "state": {}
     },
     "7720c78205f440d48e009f41f45ab2c1": {
      "model_module": "@jupyter-widgets/controls",
      "model_module_version": "1.5.0",
      "model_name": "DescriptionStyleModel",
      "state": {
       "description_width": ""
      }
     },
     "7a9c6eeaaad240e3947c495315f933e6": {
      "model_module": "@jupyter-widgets/controls",
      "model_module_version": "1.5.0",
      "model_name": "HTMLModel",
      "state": {
       "layout": "IPY_MODEL_9045f6101ff24d25b161a450a986a14a",
       "style": "IPY_MODEL_5a36794312d14d3bb232217453e83c04",
       "value": " 3/3 [03:04&lt;00:00, 65.56s/it]"
      }
     },
     "7d39c8b2b94c45ce9a897e4644a47b3a": {
      "model_module": "@jupyter-widgets/controls",
      "model_module_version": "1.5.0",
      "model_name": "FloatProgressModel",
      "state": {
       "bar_style": "success",
       "layout": "IPY_MODEL_3a9a07035466425dbe372ebed714327e",
       "max": 3,
       "style": "IPY_MODEL_3dcaf1b929f34294b32a3880d771174f",
       "value": 3
      }
     },
     "80fc16a0c7fd45aca728df42a0b2aa1f": {
      "model_module": "@jupyter-widgets/base",
      "model_module_version": "1.2.0",
      "model_name": "LayoutModel",
      "state": {}
     },
     "82666501f24d453f8ac604b4aa070638": {
      "model_module": "@jupyter-widgets/controls",
      "model_module_version": "1.5.0",
      "model_name": "HBoxModel",
      "state": {
       "children": [
        "IPY_MODEL_47d44b2de042459cacc3b7cf22b2aa8f",
        "IPY_MODEL_45626a8a47274654917afe21f0c7d640",
        "IPY_MODEL_549746ddd4b6403ab9782cb09cedcc59"
       ],
       "layout": "IPY_MODEL_71ab78da820d4071bf7eb3993feb8f8a"
      }
     },
     "82f1fe60f04648408313c61c0c4e29eb": {
      "model_module": "@jupyter-widgets/controls",
      "model_module_version": "1.5.0",
      "model_name": "HTMLModel",
      "state": {
       "layout": "IPY_MODEL_d158e1c400554344849508f6d3ab7e20",
       "style": "IPY_MODEL_7720c78205f440d48e009f41f45ab2c1",
       "value": "100%"
      }
     },
     "837dc2099b8549e38ef2e74c31710f8d": {
      "model_module": "@jupyter-widgets/base",
      "model_module_version": "1.2.0",
      "model_name": "LayoutModel",
      "state": {}
     },
     "84ac1971551846e2950a7d5ce291d023": {
      "model_module": "@jupyter-widgets/base",
      "model_module_version": "1.2.0",
      "model_name": "LayoutModel",
      "state": {}
     },
     "8aa1092fc10a4639bc4c6f2921ead7ed": {
      "model_module": "@jupyter-widgets/controls",
      "model_module_version": "1.5.0",
      "model_name": "HBoxModel",
      "state": {
       "children": [
        "IPY_MODEL_ed61747030034ed8a3a2a4bee10f1702",
        "IPY_MODEL_20ec2c9f4a024da68af30e68e81d9a76",
        "IPY_MODEL_06e1c488e04d48b7874dce24d22fd0ff"
       ],
       "layout": "IPY_MODEL_53acc623a9814284b3796c03af79a4ae"
      }
     },
     "8c25778dfa7f4446b106fd7ddb02c8b8": {
      "model_module": "@jupyter-widgets/base",
      "model_module_version": "1.2.0",
      "model_name": "LayoutModel",
      "state": {}
     },
     "8eacf9ff954b46e085d063f3363caf4b": {
      "model_module": "@jupyter-widgets/controls",
      "model_module_version": "1.5.0",
      "model_name": "HBoxModel",
      "state": {
       "children": [
        "IPY_MODEL_420fe47b03ad4cc3807f078ca6ae73f2",
        "IPY_MODEL_7d39c8b2b94c45ce9a897e4644a47b3a",
        "IPY_MODEL_f3764c78c0d547f8bac0c1c2231c5764"
       ],
       "layout": "IPY_MODEL_15758d9438214a7dadb1f12462d3e270"
      }
     },
     "8f624d63fc1d4832964544738b89e92f": {
      "model_module": "@jupyter-widgets/base",
      "model_module_version": "1.2.0",
      "model_name": "LayoutModel",
      "state": {}
     },
     "9045f6101ff24d25b161a450a986a14a": {
      "model_module": "@jupyter-widgets/base",
      "model_module_version": "1.2.0",
      "model_name": "LayoutModel",
      "state": {}
     },
     "92beb0f975cf4b68bc02653189f799f2": {
      "model_module": "@jupyter-widgets/controls",
      "model_module_version": "1.5.0",
      "model_name": "DescriptionStyleModel",
      "state": {
       "description_width": ""
      }
     },
     "95ed5c02c5814676bbdcb1927beb47cb": {
      "model_module": "@jupyter-widgets/controls",
      "model_module_version": "1.5.0",
      "model_name": "DescriptionStyleModel",
      "state": {
       "description_width": ""
      }
     },
     "95f2ad0d942341d78eb13b2717c7c867": {
      "model_module": "@jupyter-widgets/controls",
      "model_module_version": "1.5.0",
      "model_name": "FloatProgressModel",
      "state": {
       "bar_style": "success",
       "layout": "IPY_MODEL_efc45a0fba1c426a9be8511a5c1edddd",
       "max": 3,
       "style": "IPY_MODEL_52a0c1c0a60f46a4bff8a6aa4761688c",
       "value": 3
      }
     },
     "97d5c61afbf742db8ccfa492488d986a": {
      "model_module": "@jupyter-widgets/controls",
      "model_module_version": "1.5.0",
      "model_name": "HTMLModel",
      "state": {
       "layout": "IPY_MODEL_40fb36d3bf95453883878bae281625dd",
       "style": "IPY_MODEL_0b5ec13f55e94a309a4a624e3f7d3a69",
       "value": " 33%"
      }
     },
     "98e5cb5617b74ee5b11b25a0478c6c03": {
      "model_module": "@jupyter-widgets/controls",
      "model_module_version": "1.5.0",
      "model_name": "HTMLModel",
      "state": {
       "layout": "IPY_MODEL_0bfd5c715361400f977c1787535f4b64",
       "style": "IPY_MODEL_b3e7ebbe3e1f430db7aa5867244c2032",
       "value": "100%"
      }
     },
     "9f088f926cb44503882a62c9bac805f4": {
      "model_module": "@jupyter-widgets/controls",
      "model_module_version": "1.5.0",
      "model_name": "DescriptionStyleModel",
      "state": {
       "description_width": ""
      }
     },
     "a156c51b9db24cc6ade083b7fd3930b1": {
      "model_module": "@jupyter-widgets/controls",
      "model_module_version": "1.5.0",
      "model_name": "DescriptionStyleModel",
      "state": {
       "description_width": ""
      }
     },
     "a52d53dad6b6490988394855757e4bf4": {
      "model_module": "@jupyter-widgets/controls",
      "model_module_version": "1.5.0",
      "model_name": "FloatProgressModel",
      "state": {
       "bar_style": "success",
       "layout": "IPY_MODEL_166bc98cafe94829b609e42e13586c42",
       "max": 3,
       "style": "IPY_MODEL_35f02f3066344ab8b5e1e39449aa06dd",
       "value": 3
      }
     },
     "ab83dcf787b6499fa2e72c2b2f0fc5da": {
      "model_module": "@jupyter-widgets/base",
      "model_module_version": "1.2.0",
      "model_name": "LayoutModel",
      "state": {}
     },
     "b16538c8407147f1ab04d287ee341a59": {
      "model_module": "@jupyter-widgets/base",
      "model_module_version": "1.2.0",
      "model_name": "LayoutModel",
      "state": {}
     },
     "b1d72f1d43324efdab5f454b7b8239a9": {
      "model_module": "@jupyter-widgets/controls",
      "model_module_version": "1.5.0",
      "model_name": "ProgressStyleModel",
      "state": {
       "description_width": ""
      }
     },
     "b3e7ebbe3e1f430db7aa5867244c2032": {
      "model_module": "@jupyter-widgets/controls",
      "model_module_version": "1.5.0",
      "model_name": "DescriptionStyleModel",
      "state": {
       "description_width": ""
      }
     },
     "b538313311dd4b89ade0882e566a4efb": {
      "model_module": "@jupyter-widgets/controls",
      "model_module_version": "1.5.0",
      "model_name": "HBoxModel",
      "state": {
       "children": [
        "IPY_MODEL_fd971c61589242b382502748b6dc9b6a",
        "IPY_MODEL_3328c20c460e42eda332e209c9b28d95",
        "IPY_MODEL_7220227f433749d78d5f64e063b65a0e"
       ],
       "layout": "IPY_MODEL_7330888659b7429982c9e50ac59e7b2b"
      }
     },
     "ba1fb36da60b40eab7536369c37b6070": {
      "model_module": "@jupyter-widgets/base",
      "model_module_version": "1.2.0",
      "model_name": "LayoutModel",
      "state": {}
     },
     "bc9ce03f4e64419baec1586e550d9422": {
      "model_module": "@jupyter-widgets/base",
      "model_module_version": "1.2.0",
      "model_name": "LayoutModel",
      "state": {}
     },
     "c24deb8c81524578abc1538737179a1c": {
      "model_module": "@jupyter-widgets/controls",
      "model_module_version": "1.5.0",
      "model_name": "DescriptionStyleModel",
      "state": {
       "description_width": ""
      }
     },
     "cc850f20ad5443e18a1c3f436fa2ace1": {
      "model_module": "@jupyter-widgets/controls",
      "model_module_version": "1.5.0",
      "model_name": "DescriptionStyleModel",
      "state": {
       "description_width": ""
      }
     },
     "d158e1c400554344849508f6d3ab7e20": {
      "model_module": "@jupyter-widgets/base",
      "model_module_version": "1.2.0",
      "model_name": "LayoutModel",
      "state": {}
     },
     "d23986f180fa4e8797dba9dc090aa1c9": {
      "model_module": "@jupyter-widgets/controls",
      "model_module_version": "1.5.0",
      "model_name": "DescriptionStyleModel",
      "state": {
       "description_width": ""
      }
     },
     "d312acdd54374e65b49d6cdb779d0036": {
      "model_module": "@jupyter-widgets/controls",
      "model_module_version": "1.5.0",
      "model_name": "DescriptionStyleModel",
      "state": {
       "description_width": ""
      }
     },
     "da49153f92fe4bfa9b57ce2e7cb30409": {
      "model_module": "@jupyter-widgets/controls",
      "model_module_version": "1.5.0",
      "model_name": "ProgressStyleModel",
      "state": {
       "description_width": ""
      }
     },
     "dc96ba6c7e6d400cb7b5f01e538e1745": {
      "model_module": "@jupyter-widgets/controls",
      "model_module_version": "1.5.0",
      "model_name": "HBoxModel",
      "state": {
       "children": [
        "IPY_MODEL_98e5cb5617b74ee5b11b25a0478c6c03",
        "IPY_MODEL_55547d702ec64e2d90050a745564039f",
        "IPY_MODEL_e0034c4a36a24345a5b29fb5b851c148"
       ],
       "layout": "IPY_MODEL_32f1633510c042d18126ec3fbdecb701"
      }
     },
     "dfd23a82589040a4826d7339b19b4976": {
      "model_module": "@jupyter-widgets/controls",
      "model_module_version": "1.5.0",
      "model_name": "FloatProgressModel",
      "state": {
       "bar_style": "danger",
       "layout": "IPY_MODEL_80fc16a0c7fd45aca728df42a0b2aa1f",
       "max": 3,
       "style": "IPY_MODEL_da49153f92fe4bfa9b57ce2e7cb30409",
       "value": 1
      }
     },
     "e0034c4a36a24345a5b29fb5b851c148": {
      "model_module": "@jupyter-widgets/controls",
      "model_module_version": "1.5.0",
      "model_name": "HTMLModel",
      "state": {
       "layout": "IPY_MODEL_1477762920844ffe8f3b986e729eb85b",
       "style": "IPY_MODEL_a156c51b9db24cc6ade083b7fd3930b1",
       "value": " 1/1 [04:26&lt;00:00, 266.90s/it]"
      }
     },
     "e277a97e6bfa40fda7ee5ec06003c56c": {
      "model_module": "@jupyter-widgets/base",
      "model_module_version": "1.2.0",
      "model_name": "LayoutModel",
      "state": {}
     },
     "e4c2410e32fe4da986d47b096411cec7": {
      "model_module": "@jupyter-widgets/controls",
      "model_module_version": "1.5.0",
      "model_name": "HTMLModel",
      "state": {
       "layout": "IPY_MODEL_18ceefc29e5546fe8460f5e1f685fffd",
       "style": "IPY_MODEL_c24deb8c81524578abc1538737179a1c",
       "value": " 1/1 [01:27&lt;00:00, 87.91s/it]"
      }
     },
     "e4d372f2905b4803ab9f81d6a814b9e6": {
      "model_module": "@jupyter-widgets/controls",
      "model_module_version": "1.5.0",
      "model_name": "ProgressStyleModel",
      "state": {
       "description_width": ""
      }
     },
     "e60d6419b81c4f738f80298733e952c6": {
      "model_module": "@jupyter-widgets/base",
      "model_module_version": "1.2.0",
      "model_name": "LayoutModel",
      "state": {}
     },
     "ea6e004dd89f435ea83ed41cf55b389a": {
      "model_module": "@jupyter-widgets/controls",
      "model_module_version": "1.5.0",
      "model_name": "ProgressStyleModel",
      "state": {
       "description_width": ""
      }
     },
     "eadcb101cf494bd3bafb65527f789967": {
      "model_module": "@jupyter-widgets/controls",
      "model_module_version": "1.5.0",
      "model_name": "HBoxModel",
      "state": {
       "children": [
        "IPY_MODEL_43febe462a0a454d9b65d7967bbaf362",
        "IPY_MODEL_a52d53dad6b6490988394855757e4bf4",
        "IPY_MODEL_7a9c6eeaaad240e3947c495315f933e6"
       ],
       "layout": "IPY_MODEL_20b683de2f46434abbc1615a818ca801"
      }
     },
     "ebc6fabc88eb472cb474eacb75985c58": {
      "model_module": "@jupyter-widgets/controls",
      "model_module_version": "1.5.0",
      "model_name": "HTMLModel",
      "state": {
       "layout": "IPY_MODEL_fd05ada1e3114c9aa036cbfe9c75962e",
       "style": "IPY_MODEL_ee0083d96e454d85aeb5c11cf728ce38",
       "value": "  0%"
      }
     },
     "ed61747030034ed8a3a2a4bee10f1702": {
      "model_module": "@jupyter-widgets/controls",
      "model_module_version": "1.5.0",
      "model_name": "HTMLModel",
      "state": {
       "layout": "IPY_MODEL_3bac23503aaa44359aaca9307cc9577f",
       "style": "IPY_MODEL_40a4abb53b0243f785830075b732d6e9",
       "value": "100%"
      }
     },
     "ee0083d96e454d85aeb5c11cf728ce38": {
      "model_module": "@jupyter-widgets/controls",
      "model_module_version": "1.5.0",
      "model_name": "DescriptionStyleModel",
      "state": {
       "description_width": ""
      }
     },
     "ee540ea06786404a9d0ec91ef8ff15d4": {
      "model_module": "@jupyter-widgets/controls",
      "model_module_version": "1.5.0",
      "model_name": "ProgressStyleModel",
      "state": {
       "description_width": ""
      }
     },
     "ef877919d7814b8a851f58ba5d18303d": {
      "model_module": "@jupyter-widgets/base",
      "model_module_version": "1.2.0",
      "model_name": "LayoutModel",
      "state": {}
     },
     "efc45a0fba1c426a9be8511a5c1edddd": {
      "model_module": "@jupyter-widgets/base",
      "model_module_version": "1.2.0",
      "model_name": "LayoutModel",
      "state": {}
     },
     "f3764c78c0d547f8bac0c1c2231c5764": {
      "model_module": "@jupyter-widgets/controls",
      "model_module_version": "1.5.0",
      "model_name": "HTMLModel",
      "state": {
       "layout": "IPY_MODEL_194cfb81dd7044ba8ace7c8d313cc113",
       "style": "IPY_MODEL_d312acdd54374e65b49d6cdb779d0036",
       "value": " 3/3 [01:20&lt;00:00, 27.56s/it]"
      }
     },
     "f8211c23a27d45a9b615e2c3a03904cb": {
      "model_module": "@jupyter-widgets/controls",
      "model_module_version": "1.5.0",
      "model_name": "DescriptionStyleModel",
      "state": {
       "description_width": ""
      }
     },
     "fbefc0ae8ea1477a8db7239b07dc9cb4": {
      "model_module": "@jupyter-widgets/base",
      "model_module_version": "1.2.0",
      "model_name": "LayoutModel",
      "state": {}
     },
     "fc6722151e424be099c4964b2ab54252": {
      "model_module": "@jupyter-widgets/controls",
      "model_module_version": "1.5.0",
      "model_name": "DescriptionStyleModel",
      "state": {
       "description_width": ""
      }
     },
     "fd05ada1e3114c9aa036cbfe9c75962e": {
      "model_module": "@jupyter-widgets/base",
      "model_module_version": "1.2.0",
      "model_name": "LayoutModel",
      "state": {}
     },
     "fd971c61589242b382502748b6dc9b6a": {
      "model_module": "@jupyter-widgets/controls",
      "model_module_version": "1.5.0",
      "model_name": "HTMLModel",
      "state": {
       "layout": "IPY_MODEL_fbefc0ae8ea1477a8db7239b07dc9cb4",
       "style": "IPY_MODEL_3e894d588bad4825bbdaaf0024f22d04",
       "value": "100%"
      }
     },
     "fe30072b33e945dbb908362367d076d3": {
      "model_module": "@jupyter-widgets/controls",
      "model_module_version": "1.5.0",
      "model_name": "ProgressStyleModel",
      "state": {
       "description_width": ""
      }
     },
     "ff8dc4a3c74a47168ce4010d26086af4": {
      "model_module": "@jupyter-widgets/base",
      "model_module_version": "1.2.0",
      "model_name": "LayoutModel",
      "state": {}
     }
    },
    "version_major": 2,
    "version_minor": 0
   }
  }
 },
 "nbformat": 4,
 "nbformat_minor": 5
}
