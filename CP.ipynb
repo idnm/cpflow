{
 "cells": [
  {
   "cell_type": "code",
   "execution_count": 2,
   "id": "c0ac9526-b932-41d9-85a2-b8c018e3a235",
   "metadata": {},
   "outputs": [
    {
     "name": "stderr",
     "output_type": "stream",
     "text": [
      "WARNING:absl:No GPU/TPU found, falling back to CPU. (Set TF_CPP_MIN_LOG_LEVEL=0 and rerun for more info.)\n"
     ]
    }
   ],
   "source": [
    "from jax_circuits import*\n",
    "from topology import *\n",
    "from penalty import *\n",
    "from cp_utils import *\n",
    "import matplotlib.pyplot as plt\n",
    "from scipy.stats import unitary_group\n",
    "from qiskit import transpile\n",
    "from qiskit.quantum_info import Operator\n",
    "import pickle"
   ]
  },
  {
   "cell_type": "markdown",
   "id": "678e91bc-6b87-49d2-a804-d2014d493f22",
   "metadata": {},
   "source": [
    "Initially the goal was to try and use CP-gates to learn optimal CZ placements. This seems to be very difficult because of the local minimums. Whether the minimums are related to CP-penaly function or to 1q gate angles is not clear. Several directions can be interesting besides looking for truly optimal CZ decompositions:\n",
    "- Do CP circuits learn themselves better, compared to CZ circuits at the same gate count?\n",
    "- Compare non-optimal CZ decompositions with some other transpiling implementation, such as Qiskit.\n",
    "- Be OK with arbitrary angles in CP gates. Does this perform better? Can this improve on the number of CZ gates in qiskit?\n",
    "- How is sum of CP angles distributed? Say, if you need 20 CNOT in the circuit, does it mean that CP angles must sum to ~20 *pi , or one can do better?\n"
   ]
  },
  {
   "cell_type": "markdown",
   "id": "109c4899-9de6-4ac4-87cd-2c0739707cb9",
   "metadata": {
    "tags": [],
    "toc-hr-collapsed": true
   },
   "source": [
    "# Qiskit decompositions"
   ]
  },
  {
   "cell_type": "markdown",
   "id": "c22f7312-3f3d-48d8-95c4-5a8eed5a5015",
   "metadata": {
    "jp-MarkdownHeadingCollapsed": true,
    "tags": [],
    "toc-hr-collapsed": true
   },
   "source": [
    "## Toffoli 3 chain"
   ]
  },
  {
   "cell_type": "code",
   "execution_count": 9,
   "id": "49ee9d69-e65a-4eb7-a8d6-475b8b41a914",
   "metadata": {},
   "outputs": [
    {
     "name": "stdout",
     "output_type": "stream",
     "text": [
      "8\n"
     ]
    }
   ],
   "source": [
    "qc = QuantumCircuit(3)\n",
    "qc.ccx(0, 1, 2)\n",
    "\n",
    "best_count = 100\n",
    "for s in range(50):\n",
    "    qc_trans = transpile(qc, basis_gates=['cz', 'u'], coupling_map=[[0,1],[1,0],[1,2],[2,1]], optimization_level=3, seed_transpiler=s)\n",
    "    count = qc_trans.qasm().count('\\ncz')\n",
    "    if count < best_count:\n",
    "        best_count=count\n",
    "\n",
    "\n",
    "print(best_count)"
   ]
  },
  {
   "cell_type": "markdown",
   "id": "44671985-3be9-4608-8956-447062e886b1",
   "metadata": {
    "jp-MarkdownHeadingCollapsed": true,
    "tags": [],
    "toc-hr-collapsed": true
   },
   "source": [
    "## Toffoli 4 chain"
   ]
  },
  {
   "cell_type": "code",
   "execution_count": 14,
   "id": "79a3d6f9-0ed7-44cd-aeae-4104100a0f58",
   "metadata": {},
   "outputs": [
    {
     "name": "stdout",
     "output_type": "stream",
     "text": [
      "CPU times: user 5 µs, sys: 0 ns, total: 5 µs\n",
      "Wall time: 10.3 µs\n",
      "21\n"
     ]
    }
   ],
   "source": [
    "%time\n",
    "qc = QuantumCircuit(4)\n",
    "qc.mct([0, 1, 2], 3)\n",
    "\n",
    "best_count = 100\n",
    "best_s = 0\n",
    "for s in range(1000):\n",
    "    qc_trans = transpile(qc, basis_gates=['cz', 'u'], coupling_map=[[0,1],[1,0],[1,2],[2,1],[2,3],[3,2]], optimization_level=3, seed_transpiler=s)\n",
    "    count = qc_trans.qasm().count('\\ncz')\n",
    "    if count < best_count:\n",
    "        best_count=count\n",
    "        best_s = s\n",
    "\n",
    "\n",
    "print(best_count, best_s)"
   ]
  },
  {
   "cell_type": "markdown",
   "id": "06cee694-69c0-4b58-98a5-860e08c2ded5",
   "metadata": {
    "tags": []
   },
   "source": [
    "## Toffoli 5 connected"
   ]
  },
  {
   "cell_type": "markdown",
   "id": "04a86c84-ec4c-48db-8c16-6984fbda1292",
   "metadata": {},
   "source": [
    "Best decomposition known to qiskit seems to be 36 gates long."
   ]
  },
  {
   "cell_type": "markdown",
   "id": "1ffb9218-77c3-45e1-8765-de8b2d4bd931",
   "metadata": {
    "tags": []
   },
   "source": [
    "## Toffoli 5 chain"
   ]
  },
  {
   "cell_type": "code",
   "execution_count": 8,
   "id": "b49c15cc-9b26-4d03-9c8f-a93ca671a269",
   "metadata": {},
   "outputs": [
    {
     "name": "stdout",
     "output_type": "stream",
     "text": [
      "63 7582\n"
     ]
    }
   ],
   "source": [
    "qc = QuantumCircuit(5)\n",
    "qc.mct([0, 1, 2, 3], 4)\n",
    "\n",
    "best_count = 63\n",
    "best_s = 2500 #approx\n",
    "coupling_map=[[0,1],[1,0],[1,2],[2,1],[2,3],[3,2],[3,4],[4,3]]\n",
    "for s in range(6000, 8000):\n",
    "    qc_trans = transpile(qc, basis_gates=['cz', 'u'], coupling_map=coupling_map, optimization_level=3, seed_transpiler=s)\n",
    "    count = qc_trans.qasm().count('\\ncz')\n",
    "    if count <= best_count:\n",
    "        best_s = s\n",
    "        best_count=count\n",
    "\n",
    "print(best_count, best_s)"
   ]
  },
  {
   "cell_type": "code",
   "execution_count": 12,
   "id": "fb56f5ca-c642-4629-8aad-9a377585ac9e",
   "metadata": {},
   "outputs": [
    {
     "name": "stdout",
     "output_type": "stream",
     "text": [
      "63 2500\n"
     ]
    }
   ],
   "source": [
    "qc = QuantumCircuit(6)\n",
    "qc.mct([0, 1, 2, 3], 4, ancilla_qubits=[5])\n",
    "\n",
    "best_count = 63\n",
    "best_s = 2500 #approx\n",
    "coupling_map=[[0,1],[1,0],[1,2],[2,1],[2,3],[3,2],[3,4],[4,3],[4,5],[5,4]]\n",
    "for s in range(0, 100):\n",
    "    qc_trans = transpile(qc, basis_gates=['cz', 'u'], coupling_map=coupling_map, optimization_level=3, seed_transpiler=s)\n",
    "    count = qc_trans.qasm().count('\\ncz')\n",
    "    if count <= best_count:\n",
    "        best_s = s\n",
    "        best_count=count\n",
    "\n",
    "print(best_count, best_s)"
   ]
  },
  {
   "cell_type": "markdown",
   "id": "3dda96be-30c4-4e36-ae23-4e78ff08d9c8",
   "metadata": {},
   "source": [
    "## Toffoli 5 star"
   ]
  },
  {
   "cell_type": "code",
   "execution_count": 5,
   "id": "bfbb3950-5afa-4a7b-9174-abd0aa7208c5",
   "metadata": {},
   "outputs": [
    {
     "name": "stdout",
     "output_type": "stream",
     "text": [
      "44 198\n"
     ]
    }
   ],
   "source": [
    "qc = QuantumCircuit(5)\n",
    "qc.mct([0, 1, 2, 3], 4)\n",
    "\n",
    "best_count = 63\n",
    "best_s = 98 #approx\n",
    "coupling_map=[[0,1],[1,0],[0,2],[2,0],[0,3],[3,0],[0,4],[4,0]]\n",
    "for s in range(100, 200):\n",
    "    qc_trans = transpile(qc, basis_gates=['cz', 'u'], coupling_map=coupling_map, optimization_level=3, seed_transpiler=s)\n",
    "    count = qc_trans.qasm().count('\\ncz')\n",
    "    if count <= best_count:\n",
    "        best_s = s\n",
    "        best_count=count\n",
    "\n",
    "print(best_count, best_s)"
   ]
  },
  {
   "cell_type": "markdown",
   "id": "16725e67-5670-42ba-a9ef-4bb5f3540ca5",
   "metadata": {
    "tags": []
   },
   "source": [
    "# Smart decompose"
   ]
  },
  {
   "cell_type": "code",
   "execution_count": 21,
   "id": "17d5901a-9ed3-48c1-bf1d-3526dac4d1f8",
   "metadata": {},
   "outputs": [],
   "source": [
    "def cp_decompose_smart(u_target,\n",
    "                 anz,\n",
    "                 regularization_options,\n",
    "                 disc_func=None,\n",
    "                 num_samples=100,\n",
    "                 key=random.PRNGKey(0),\n",
    "                 entry_loss=1e-3,\n",
    "                 threshold_loss=1e-6,\n",
    "                 threshold_cp=0.2,\n",
    "                 cp_dist='uniform',\n",
    "                 save_to=None,\n",
    "                 num_batches=2,\n",
    "                 r_increment=0.2,\n",
    "                 disc_equlibrium=0.2):\n",
    "    \n",
    "\n",
    "    for batch_n in range(num_batches):\n",
    "        print(f'\\nBatch {batch_n+1} out of {num_batches}')\n",
    "        print(f\"r is {regularization_options['r']}\")\n",
    "        key, subkey = random.split(key)\n",
    "        successful_results, failed_results, cz_successes, disc_successes = cp_decompose(\n",
    "                     u_target,\n",
    "                     anz,\n",
    "                     regularization_options,\n",
    "                     disc_func=disc_func,\n",
    "                     num_samples=num_samples,\n",
    "                     key=subkey,\n",
    "                     entry_loss=entry_loss,\n",
    "                     threshold_loss=threshold_loss,\n",
    "                     threshold_cp=threshold_cp,\n",
    "                     cp_dist=cp_dist,\n",
    "                     save_successful_results=True,\n",
    "                     save_raw_results=True,\n",
    "                     save_to=save_to,\n",
    "                     report_successes=True)\n",
    "        \n",
    "        disc_success_ratio = sum(disc_successes)/len(disc_successes)\n",
    "        if disc_success_ratio > disc_equlibrium:\n",
    "            regularization_options['r'] = regularization_options['r']*(1+r_increment)\n",
    "        else:\n",
    "            regularization_options['r'] = regularization_options['r']*(1-r_increment)\n",
    "        "
   ]
  },
  {
   "cell_type": "code",
   "execution_count": 22,
   "id": "5e076b0a-045e-4d56-9691-4b8b1518b86f",
   "metadata": {},
   "outputs": [],
   "source": [
    "def cp_decompose_adaptive(u_target,\n",
    "                          layer,\n",
    "                          initial_num_gates,\n",
    "                          regularization_options,\n",
    "                          disc_func=None,\n",
    "                          num_samples=100,\n",
    "                          key=random.PRNGKey(0),\n",
    "                          entry_loss=1e-3,\n",
    "                          threshold_loss=1e-6,\n",
    "                          threshold_cp=0.2,\n",
    "                          cp_dist='uniform',\n",
    "                          save_to=None,\n",
    "                          num_batches=10,\n",
    "                          r_increment=0.1):\n",
    "    \n",
    "    num_qubits = int(jnp.log2(u_target.shape[0]))\n",
    "    num_gates = initial_num_gates\n",
    "\n",
    "    mean_cz_counts = [regularization_options['num_gates']*2]\n",
    "    total_successful_results = [num_samples//2]\n",
    "    \n",
    "    for batch_n in range(num_batches):\n",
    "        print('='*20)\n",
    "        print(f'\\nBatch {batch_n+1} out of {num_batches}')\n",
    "        print(f\"r: {regularization_options['r']}, num_gates: {num_gates}\")\n",
    "        \n",
    "        anz = Ansatz(num_qubits, 'cp', fill_layers(layer, num_gates))\n",
    "        regularization_options['cp_mask'] = anz.cp_mask\n",
    "        \n",
    "        key, subkey = random.split(key)\n",
    "        successful_results, failed_results, cz_counts_list, disc_list = cp_decompose(\n",
    "                     u_target,\n",
    "                     anz,\n",
    "                     regularization_options,\n",
    "                     disc_func=disc_func,\n",
    "                     num_samples=num_samples,\n",
    "                     key=subkey,\n",
    "                     entry_loss=entry_loss,\n",
    "                     threshold_loss=threshold_loss,\n",
    "                     threshold_cp=threshold_cp,\n",
    "                     cp_dist=cp_dist,\n",
    "                     save_successful_results=True,\n",
    "                     save_raw_results=True,\n",
    "                     save_to=save_to,\n",
    "                     report_successes=True)\n",
    "        \n",
    "        disc_success_list = jnp.array([d<entry_loss for d in disc_list])\n",
    "        successful_cz = jnp.array(cz_counts_list)[disc_success_list==True]\n",
    "        \n",
    "        new_total_successful_results = len(successful_cz)\n",
    "        if new_total_successful_results == 0:\n",
    "            new_mean_cz_count = 0\n",
    "        else:\n",
    "            new_mean_cz_count = sum(successful_cz)/len(successful_cz)\n",
    "        \n",
    "        if new_mean_cz_count > mean_cz_counts[-1]:\n",
    "            regularization_options['r'] = regularization_options['r']*(1+r_increment)\n",
    "        \n",
    "        if new_total_successful_results < total_successful_results[-1]:\n",
    "            num_gates += 1\n",
    "        print(f'\\n mean cz count: {new_mean_cz_count}, total successful: {new_total_successful_results}')        \n",
    "        mean_cz_counts.append(new_mean_cz_count)\n",
    "        total_successful_results.append(new_total_successful_results)"
   ]
  },
  {
   "cell_type": "code",
   "execution_count": null,
   "id": "8404a1c6-6152-47cd-bda9-c95f21b318e3",
   "metadata": {},
   "outputs": [],
   "source": [
    "qc = QuantumCircuit(3)\n",
    "qc.mct(0, 1, 2)\n",
    "u_toff3 = Operator(qc.reverse_bits()).data\n",
    "\n",
    "reg_options = {'r': 0.0001,\n",
    "               'function': 'linear',\n",
    "               'ymax': 2,\n",
    "               'xmax': jnp.pi/2,\n",
    "               'plato': 0.05,\n",
    "               'num_gates': 7,\n",
    "               'angle_tolerance': 0.2,\n",
    "               }\n",
    "\n",
    "key = random.PRNGKey(2)\n",
    "num_samples = 10\n",
    "layer = sequ_layer(3)\n",
    "initial_num_gates = 5\n",
    "\n",
    "cp_decompose_adaptive(u_toff3, \n",
    "                      layer,\n",
    "                      initial_num_gates=initial_num_gates,\n",
    "                      regularization_options=reg_options,\n",
    "                      num_samples=num_samples, \n",
    "                      key=key,\n",
    "                      disc_func=disc2,\n",
    "                      cp_dist='0',\n",
    "                      save_to='toff3_connected')"
   ]
  },
  {
   "cell_type": "code",
   "execution_count": 5,
   "id": "4cfa7adf-4864-4bd3-a986-295e04ccf45d",
   "metadata": {
    "tags": []
   },
   "outputs": [
    {
     "name": "stdout",
     "output_type": "stream",
     "text": [
      "====================\n",
      "\n",
      "Batch 1 out of 4\n",
      "r: 0.0016, num_gates: 24\n",
      "\n",
      "Computing raw results.\n"
     ]
    },
    {
     "name": "stderr",
     "output_type": "stream",
     "text": [
      "100%|██████████| 1000/1000 [31:43<00:00,  1.90s/it]\n"
     ]
    },
    {
     "name": "stdout",
     "output_type": "stream",
     "text": [
      "\n",
      "Selecting prospective results:\n"
     ]
    },
    {
     "name": "stderr",
     "output_type": "stream",
     "text": [
      "1000it [00:21, 46.04it/s]\n"
     ]
    },
    {
     "name": "stdout",
     "output_type": "stream",
     "text": [
      "8 found.\n",
      "\n",
      "Verifying prospective results:\n"
     ]
    },
    {
     "name": "stderr",
     "output_type": "stream",
     "text": [
      "100%|██████████| 8/8 [03:10<00:00, 23.76s/it]\n"
     ]
    },
    {
     "name": "stdout",
     "output_type": "stream",
     "text": [
      "8 successful.\n",
      "cz counts are:\n",
      "[16, 16, 16, 16, 16, 16, 16, 16]\n",
      "\n",
      " mean cz count: 20.93798449612403, total successful: 903\n",
      "====================\n",
      "\n",
      "Batch 2 out of 4\n",
      "r: 0.0016, num_gates: 24\n",
      "\n",
      "Computing raw results.\n"
     ]
    },
    {
     "name": "stderr",
     "output_type": "stream",
     "text": [
      "100%|██████████| 1000/1000 [31:29<00:00,  1.89s/it]\n"
     ]
    },
    {
     "name": "stdout",
     "output_type": "stream",
     "text": [
      "\n",
      "Selecting prospective results:\n"
     ]
    },
    {
     "name": "stderr",
     "output_type": "stream",
     "text": [
      "1000it [00:21, 45.96it/s]\n"
     ]
    },
    {
     "name": "stdout",
     "output_type": "stream",
     "text": [
      "7 found.\n",
      "\n",
      "Verifying prospective results:\n"
     ]
    },
    {
     "name": "stderr",
     "output_type": "stream",
     "text": [
      "100%|██████████| 7/7 [02:50<00:00, 24.31s/it]\n"
     ]
    },
    {
     "name": "stdout",
     "output_type": "stream",
     "text": [
      "7 successful.\n",
      "cz counts are:\n",
      "[15, 16, 16, 16, 16, 16, 16]\n",
      "\n",
      " mean cz count: 20.964757709251103, total successful: 908\n",
      "====================\n",
      "\n",
      "Batch 3 out of 4\n",
      "r: 0.0017600000000000003, num_gates: 24\n",
      "\n",
      "Computing raw results.\n"
     ]
    },
    {
     "name": "stderr",
     "output_type": "stream",
     "text": [
      "100%|██████████| 1000/1000 [31:53<00:00,  1.91s/it]\n"
     ]
    },
    {
     "name": "stdout",
     "output_type": "stream",
     "text": [
      "\n",
      "Selecting prospective results:\n"
     ]
    },
    {
     "name": "stderr",
     "output_type": "stream",
     "text": [
      "1000it [00:21, 46.14it/s]\n"
     ]
    },
    {
     "name": "stdout",
     "output_type": "stream",
     "text": [
      "7 found.\n",
      "\n",
      "Verifying prospective results:\n"
     ]
    },
    {
     "name": "stderr",
     "output_type": "stream",
     "text": [
      "100%|██████████| 7/7 [02:43<00:00, 23.30s/it]\n"
     ]
    },
    {
     "name": "stdout",
     "output_type": "stream",
     "text": [
      "7 successful.\n",
      "cz counts are:\n",
      "[16, 16, 16, 16, 16, 16, 16]\n",
      "\n",
      " mean cz count: 20.91356673960613, total successful: 914\n",
      "====================\n",
      "\n",
      "Batch 4 out of 4\n",
      "r: 0.0017600000000000003, num_gates: 24\n",
      "\n",
      "Computing raw results.\n"
     ]
    },
    {
     "name": "stderr",
     "output_type": "stream",
     "text": [
      "100%|██████████| 1000/1000 [30:40<00:00,  1.84s/it]\n"
     ]
    },
    {
     "name": "stdout",
     "output_type": "stream",
     "text": [
      "\n",
      "Selecting prospective results:\n"
     ]
    },
    {
     "name": "stderr",
     "output_type": "stream",
     "text": [
      "1000it [00:23, 43.40it/s]\n"
     ]
    },
    {
     "name": "stdout",
     "output_type": "stream",
     "text": [
      "8 found.\n",
      "\n",
      "Verifying prospective results:\n"
     ]
    },
    {
     "name": "stderr",
     "output_type": "stream",
     "text": [
      "100%|██████████| 8/8 [03:13<00:00, 24.19s/it]\n"
     ]
    },
    {
     "name": "stdout",
     "output_type": "stream",
     "text": [
      "7 successful.\n",
      "cz counts are:\n",
      "[16, 16, 16, 16, 16, 16, 16]\n",
      "\n",
      " mean cz count: 20.86888888888889, total successful: 900\n"
     ]
    }
   ],
   "source": [
    "qc = QuantumCircuit(4)\n",
    "qc.mct([0, 1, 2], 3)\n",
    "u_toff4 = Operator(qc.reverse_bits()).data\n",
    "\n",
    "reg_options = {'r': 0.0016,\n",
    "               'function': 'linear',\n",
    "               'ymax': 2,\n",
    "               'xmax': jnp.pi/2,\n",
    "               'plato': 0.05,\n",
    "               'num_gates': 16,\n",
    "               'angle_tolerance': 0.2,\n",
    "               }\n",
    "\n",
    "key = random.PRNGKey(2)\n",
    "num_samples = 1000\n",
    "num_batches = 4\n",
    "layer = sequ_layer(4)\n",
    "initial_num_gates = 24\n",
    "\n",
    "cp_decompose_adaptive(u_toff4, \n",
    "                      layer,\n",
    "                      initial_num_gates=initial_num_gates,\n",
    "                      regularization_options=reg_options,\n",
    "                      num_samples=num_samples, \n",
    "                      num_batches=num_batches,\n",
    "                      key=key,\n",
    "                      disc_func=disc2,\n",
    "                      cp_dist='uniform',\n",
    "                      save_to='toff4_connected')"
   ]
  },
  {
   "cell_type": "code",
   "execution_count": 4,
   "id": "bc04900b-8c50-4e95-9545-80d33458cef6",
   "metadata": {
    "tags": []
   },
   "outputs": [
    {
     "name": "stdout",
     "output_type": "stream",
     "text": [
      "====================\n",
      "\n",
      "Batch 1 out of 4\n",
      "r: 0.005, num_gates: 24\n",
      "\n",
      "Computing raw results.\n"
     ]
    },
    {
     "name": "stderr",
     "output_type": "stream",
     "text": [
      "100%|██████████| 1000/1000 [33:33<00:00,  2.01s/it]\n"
     ]
    },
    {
     "name": "stdout",
     "output_type": "stream",
     "text": [
      "\n",
      "Selecting prospective results:\n"
     ]
    },
    {
     "name": "stderr",
     "output_type": "stream",
     "text": [
      "1000it [00:24, 40.67it/s]\n"
     ]
    },
    {
     "name": "stdout",
     "output_type": "stream",
     "text": [
      "4 found.\n",
      "\n",
      "Verifying prospective results:\n"
     ]
    },
    {
     "name": "stderr",
     "output_type": "stream",
     "text": [
      "100%|██████████| 4/4 [01:50<00:00, 27.57s/it]\n"
     ]
    },
    {
     "name": "stdout",
     "output_type": "stream",
     "text": [
      "4 successful.\n",
      "cz counts are:\n",
      "[16, 16, 16, 16]\n",
      "\n",
      " mean cz count: 20.138009049773757, total successful: 442\n",
      "====================\n",
      "\n",
      "Batch 2 out of 4\n",
      "r: 0.005, num_gates: 25\n",
      "\n",
      "Computing raw results.\n"
     ]
    },
    {
     "name": "stderr",
     "output_type": "stream",
     "text": [
      "100%|██████████| 1000/1000 [31:40<00:00,  1.90s/it]\n"
     ]
    },
    {
     "name": "stdout",
     "output_type": "stream",
     "text": [
      "\n",
      "Selecting prospective results:\n"
     ]
    },
    {
     "name": "stderr",
     "output_type": "stream",
     "text": [
      "1000it [00:21, 46.51it/s]\n"
     ]
    },
    {
     "name": "stdout",
     "output_type": "stream",
     "text": [
      "4 found.\n",
      "\n",
      "Verifying prospective results:\n"
     ]
    },
    {
     "name": "stderr",
     "output_type": "stream",
     "text": [
      "100%|██████████| 4/4 [01:38<00:00, 24.60s/it]\n"
     ]
    },
    {
     "name": "stdout",
     "output_type": "stream",
     "text": [
      "4 successful.\n",
      "cz counts are:\n",
      "[16, 16, 16, 16]\n",
      "\n",
      " mean cz count: 20.30672268907563, total successful: 476\n",
      "====================\n",
      "\n",
      "Batch 3 out of 4\n",
      "r: 0.0055000000000000005, num_gates: 25\n",
      "\n",
      "Computing raw results.\n"
     ]
    },
    {
     "name": "stderr",
     "output_type": "stream",
     "text": [
      "100%|██████████| 1000/1000 [30:39<00:00,  1.84s/it]\n"
     ]
    },
    {
     "name": "stdout",
     "output_type": "stream",
     "text": [
      "\n",
      "Selecting prospective results:\n"
     ]
    },
    {
     "name": "stderr",
     "output_type": "stream",
     "text": [
      "1000it [00:21, 45.69it/s]\n"
     ]
    },
    {
     "name": "stdout",
     "output_type": "stream",
     "text": [
      "7 found.\n",
      "\n",
      "Verifying prospective results:\n"
     ]
    },
    {
     "name": "stderr",
     "output_type": "stream",
     "text": [
      "100%|██████████| 7/7 [02:49<00:00, 24.22s/it]\n"
     ]
    },
    {
     "name": "stdout",
     "output_type": "stream",
     "text": [
      "6 successful.\n",
      "cz counts are:\n",
      "[16, 16, 16, 14, 16, 16]\n",
      "\n",
      " mean cz count: 19.815384615384616, total successful: 325\n",
      "====================\n",
      "\n",
      "Batch 4 out of 4\n",
      "r: 0.0055000000000000005, num_gates: 26\n",
      "\n",
      "Computing raw results.\n"
     ]
    },
    {
     "name": "stderr",
     "output_type": "stream",
     "text": [
      "100%|██████████| 1000/1000 [30:52<00:00,  1.85s/it]\n"
     ]
    },
    {
     "name": "stdout",
     "output_type": "stream",
     "text": [
      "\n",
      "Selecting prospective results:\n"
     ]
    },
    {
     "name": "stderr",
     "output_type": "stream",
     "text": [
      "1000it [00:22, 45.16it/s]\n"
     ]
    },
    {
     "name": "stdout",
     "output_type": "stream",
     "text": [
      "6 found.\n",
      "\n",
      "Verifying prospective results:\n"
     ]
    },
    {
     "name": "stderr",
     "output_type": "stream",
     "text": [
      "100%|██████████| 6/6 [02:37<00:00, 26.33s/it]\n"
     ]
    },
    {
     "name": "stdout",
     "output_type": "stream",
     "text": [
      "6 successful.\n",
      "cz counts are:\n",
      "[14, 16, 16, 16, 16, 15]\n",
      "\n",
      " mean cz count: 20.220055710306408, total successful: 359\n"
     ]
    }
   ],
   "source": [
    "qc = QuantumCircuit(4)\n",
    "qc.mct([0, 1, 2], 3)\n",
    "u_toff4 = Operator(qc.reverse_bits()).data\n",
    "\n",
    "reg_options = {'r': 0.005,\n",
    "               'function': 'linear',\n",
    "               'ymax': 2,\n",
    "               'xmax': jnp.pi/2,\n",
    "               'plato': 0.05,\n",
    "               'num_gates': 16,\n",
    "               'angle_tolerance': 0.2,\n",
    "               }\n",
    "\n",
    "key = random.PRNGKey(2)\n",
    "num_samples = 1000\n",
    "num_batches = 4\n",
    "layer = sequ_layer(4)\n",
    "initial_num_gates = 24\n",
    "\n",
    "cp_decompose_adaptive(u_toff4, \n",
    "                      layer,\n",
    "                      initial_num_gates=initial_num_gates,\n",
    "                      regularization_options=reg_options,\n",
    "                      num_samples=num_samples, \n",
    "                      num_batches=num_batches,\n",
    "                      key=key,\n",
    "                      disc_func=disc2,\n",
    "                      cp_dist='uniform',\n",
    "                      save_to='toff4_connected')"
   ]
  },
  {
   "cell_type": "code",
   "execution_count": 4,
   "id": "f050a8df-ae03-4b60-9313-a88ea31dfe19",
   "metadata": {
    "tags": []
   },
   "outputs": [
    {
     "name": "stdout",
     "output_type": "stream",
     "text": [
      "====================\n",
      "\n",
      "Batch 1 out of 4\n",
      "r: 0.008, num_gates: 24\n",
      "\n",
      "Computing raw results.\n"
     ]
    },
    {
     "name": "stderr",
     "output_type": "stream",
     "text": [
      "100%|██████████| 1000/1000 [30:00<00:00,  1.80s/it]\n"
     ]
    },
    {
     "name": "stdout",
     "output_type": "stream",
     "text": [
      "\n",
      "Selecting prospective results:\n"
     ]
    },
    {
     "name": "stderr",
     "output_type": "stream",
     "text": [
      "1000it [00:20, 48.22it/s]\n"
     ]
    },
    {
     "name": "stdout",
     "output_type": "stream",
     "text": [
      "2 found.\n",
      "\n",
      "Verifying prospective results:\n"
     ]
    },
    {
     "name": "stderr",
     "output_type": "stream",
     "text": [
      "100%|██████████| 2/2 [00:50<00:00, 25.34s/it]\n"
     ]
    },
    {
     "name": "stdout",
     "output_type": "stream",
     "text": [
      "1 successful.\n",
      "cz counts are:\n",
      "[16]\n",
      "\n",
      " mean cz count: 18.79310344827586, total successful: 29\n",
      "====================\n",
      "\n",
      "Batch 2 out of 4\n",
      "r: 0.008, num_gates: 25\n",
      "\n",
      "Computing raw results.\n"
     ]
    },
    {
     "name": "stderr",
     "output_type": "stream",
     "text": [
      "100%|██████████| 1000/1000 [30:27<00:00,  1.83s/it]\n"
     ]
    },
    {
     "name": "stdout",
     "output_type": "stream",
     "text": [
      "\n",
      "Selecting prospective results:\n"
     ]
    },
    {
     "name": "stderr",
     "output_type": "stream",
     "text": [
      "1000it [00:21, 46.04it/s]\n"
     ]
    },
    {
     "name": "stdout",
     "output_type": "stream",
     "text": [
      "3 found.\n",
      "\n",
      "Verifying prospective results:\n"
     ]
    },
    {
     "name": "stderr",
     "output_type": "stream",
     "text": [
      "100%|██████████| 3/3 [01:19<00:00, 26.64s/it]\n"
     ]
    },
    {
     "name": "stdout",
     "output_type": "stream",
     "text": [
      "3 successful.\n",
      "cz counts are:\n",
      "[16, 14, 16]\n",
      "\n",
      " mean cz count: 18.551724137931036, total successful: 29\n",
      "====================\n",
      "\n",
      "Batch 3 out of 4\n",
      "r: 0.008, num_gates: 25\n",
      "\n",
      "Computing raw results.\n"
     ]
    },
    {
     "name": "stderr",
     "output_type": "stream",
     "text": [
      "100%|██████████| 1000/1000 [34:24<00:00,  2.06s/it]\n"
     ]
    },
    {
     "name": "stdout",
     "output_type": "stream",
     "text": [
      "\n",
      "Selecting prospective results:\n"
     ]
    },
    {
     "name": "stderr",
     "output_type": "stream",
     "text": [
      "1000it [00:27, 36.22it/s]\n"
     ]
    },
    {
     "name": "stdout",
     "output_type": "stream",
     "text": [
      "2 found.\n",
      "\n",
      "Verifying prospective results:\n"
     ]
    },
    {
     "name": "stderr",
     "output_type": "stream",
     "text": [
      "100%|██████████| 2/2 [00:58<00:00, 29.49s/it]\n"
     ]
    },
    {
     "name": "stdout",
     "output_type": "stream",
     "text": [
      "1 successful.\n",
      "cz counts are:\n",
      "[16]\n",
      "\n",
      " mean cz count: 18.63157894736842, total successful: 19\n",
      "====================\n",
      "\n",
      "Batch 4 out of 4\n",
      "r: 0.0088, num_gates: 26\n",
      "\n",
      "Computing raw results.\n"
     ]
    },
    {
     "name": "stderr",
     "output_type": "stream",
     "text": [
      "  0%|          | 0/1000 [00:19<?, ?it/s]\n"
     ]
    },
    {
     "ename": "KeyboardInterrupt",
     "evalue": "",
     "output_type": "error",
     "traceback": [
      "\u001b[0;31m---------------------------------------------------------------------------\u001b[0m",
      "\u001b[0;31mKeyboardInterrupt\u001b[0m                         Traceback (most recent call last)",
      "\u001b[0;32m<ipython-input-4-48af615c6cd6>\u001b[0m in \u001b[0;36m<module>\u001b[0;34m\u001b[0m\n\u001b[1;32m     18\u001b[0m \u001b[0minitial_num_gates\u001b[0m \u001b[0;34m=\u001b[0m \u001b[0;36m24\u001b[0m\u001b[0;34m\u001b[0m\u001b[0;34m\u001b[0m\u001b[0m\n\u001b[1;32m     19\u001b[0m \u001b[0;34m\u001b[0m\u001b[0m\n\u001b[0;32m---> 20\u001b[0;31m cp_decompose_adaptive(u_toff4, \n\u001b[0m\u001b[1;32m     21\u001b[0m                       \u001b[0mlayer\u001b[0m\u001b[0;34m,\u001b[0m\u001b[0;34m\u001b[0m\u001b[0;34m\u001b[0m\u001b[0m\n\u001b[1;32m     22\u001b[0m                       \u001b[0minitial_num_gates\u001b[0m\u001b[0;34m=\u001b[0m\u001b[0minitial_num_gates\u001b[0m\u001b[0;34m,\u001b[0m\u001b[0;34m\u001b[0m\u001b[0;34m\u001b[0m\u001b[0m\n",
      "\u001b[0;32m<ipython-input-3-5db049a67b84>\u001b[0m in \u001b[0;36mcp_decompose_adaptive\u001b[0;34m(u_target, layer, initial_num_gates, regularization_options, disc_func, num_samples, key, entry_loss, threshold_loss, threshold_cp, cp_dist, save_to, num_batches, r_increment)\u001b[0m\n\u001b[1;32m     29\u001b[0m \u001b[0;34m\u001b[0m\u001b[0m\n\u001b[1;32m     30\u001b[0m         \u001b[0mkey\u001b[0m\u001b[0;34m,\u001b[0m \u001b[0msubkey\u001b[0m \u001b[0;34m=\u001b[0m \u001b[0mrandom\u001b[0m\u001b[0;34m.\u001b[0m\u001b[0msplit\u001b[0m\u001b[0;34m(\u001b[0m\u001b[0mkey\u001b[0m\u001b[0;34m)\u001b[0m\u001b[0;34m\u001b[0m\u001b[0;34m\u001b[0m\u001b[0m\n\u001b[0;32m---> 31\u001b[0;31m         successful_results, failed_results, cz_counts_list, disc_list = cp_decompose(\n\u001b[0m\u001b[1;32m     32\u001b[0m                      \u001b[0mu_target\u001b[0m\u001b[0;34m,\u001b[0m\u001b[0;34m\u001b[0m\u001b[0;34m\u001b[0m\u001b[0m\n\u001b[1;32m     33\u001b[0m                      \u001b[0manz\u001b[0m\u001b[0;34m,\u001b[0m\u001b[0;34m\u001b[0m\u001b[0;34m\u001b[0m\u001b[0m\n",
      "\u001b[0;32m~/Programming projects/jax_circuits/cp_utils.py\u001b[0m in \u001b[0;36mcp_decompose\u001b[0;34m(u_target, anz, regularization_options, disc_func, num_samples, key, entry_loss, threshold_loss, threshold_cp, cp_dist, save_successful_results, save_raw_results, save_to, report_successes)\u001b[0m\n\u001b[1;32m    294\u001b[0m \u001b[0;34m\u001b[0m\u001b[0m\n\u001b[1;32m    295\u001b[0m     \u001b[0mprint\u001b[0m\u001b[0;34m(\u001b[0m\u001b[0;34m'\\nComputing raw results.'\u001b[0m\u001b[0;34m)\u001b[0m\u001b[0;34m\u001b[0m\u001b[0;34m\u001b[0m\u001b[0m\n\u001b[0;32m--> 296\u001b[0;31m     raw_results = anz.learn(u_target,\n\u001b[0m\u001b[1;32m    297\u001b[0m                             \u001b[0mregularization_options\u001b[0m\u001b[0;34m=\u001b[0m\u001b[0mregularization_options\u001b[0m\u001b[0;34m,\u001b[0m\u001b[0;34m\u001b[0m\u001b[0;34m\u001b[0m\u001b[0m\n\u001b[1;32m    298\u001b[0m                             \u001b[0minitial_angles\u001b[0m\u001b[0;34m=\u001b[0m\u001b[0minitial_angles_array\u001b[0m\u001b[0;34m,\u001b[0m\u001b[0;34m\u001b[0m\u001b[0;34m\u001b[0m\u001b[0m\n",
      "\u001b[0;32m~/Programming projects/jax_circuits/jax_circuits.py\u001b[0m in \u001b[0;36mlearn\u001b[0;34m(self, u_target, method, learning_rate, target_loss, **kwargs)\u001b[0m\n\u001b[1;32m    202\u001b[0m               **kwargs):\n\u001b[1;32m    203\u001b[0m \u001b[0;34m\u001b[0m\u001b[0m\n\u001b[0;32m--> 204\u001b[0;31m         return unitary_learn(self.unitary,\n\u001b[0m\u001b[1;32m    205\u001b[0m                              \u001b[0mu_target\u001b[0m\u001b[0;34m,\u001b[0m\u001b[0;34m\u001b[0m\u001b[0;34m\u001b[0m\u001b[0m\n\u001b[1;32m    206\u001b[0m                              \u001b[0mself\u001b[0m\u001b[0;34m.\u001b[0m\u001b[0mnum_angles\u001b[0m\u001b[0;34m,\u001b[0m\u001b[0;34m\u001b[0m\u001b[0;34m\u001b[0m\u001b[0m\n",
      "\u001b[0;32m~/Programming projects/jax_circuits/optimization.py\u001b[0m in \u001b[0;36munitary_learn\u001b[0;34m(u_func, u_target, num_params, method, learning_rate, target_loss, disc_func, regularization_options, initial_angles, num_repeats, **kwargs)\u001b[0m\n\u001b[1;32m    369\u001b[0m         \u001b[0mregularization_func\u001b[0m \u001b[0;34m=\u001b[0m \u001b[0;32mlambda\u001b[0m \u001b[0mx\u001b[0m\u001b[0;34m:\u001b[0m \u001b[0;36m0\u001b[0m\u001b[0;34m\u001b[0m\u001b[0;34m\u001b[0m\u001b[0m\n\u001b[1;32m    370\u001b[0m \u001b[0;34m\u001b[0m\u001b[0m\n\u001b[0;32m--> 371\u001b[0;31m     return mynimize_repeated(loss_func,\n\u001b[0m\u001b[1;32m    372\u001b[0m                              \u001b[0mnum_params\u001b[0m\u001b[0;34m,\u001b[0m\u001b[0;34m\u001b[0m\u001b[0;34m\u001b[0m\u001b[0m\n\u001b[1;32m    373\u001b[0m                              \u001b[0mmethod\u001b[0m\u001b[0;34m=\u001b[0m\u001b[0mmethod\u001b[0m\u001b[0;34m,\u001b[0m\u001b[0;34m\u001b[0m\u001b[0;34m\u001b[0m\u001b[0m\n",
      "\u001b[0;32m~/Programming projects/jax_circuits/optimization.py\u001b[0m in \u001b[0;36mmynimize_repeated\u001b[0;34m(loss_func, num_params, method, learning_rate, target_loss, u_func, initial_params_batch, num_repeats, regularization_func, **kwargs)\u001b[0m\n\u001b[1;32m    315\u001b[0m \u001b[0;34m\u001b[0m\u001b[0m\n\u001b[1;32m    316\u001b[0m     \u001b[0;32mfor\u001b[0m \u001b[0minitial_params\u001b[0m \u001b[0;32min\u001b[0m \u001b[0mtqdm\u001b[0m\u001b[0;34m(\u001b[0m\u001b[0minitial_params_batch\u001b[0m\u001b[0;34m,\u001b[0m \u001b[0mdisable\u001b[0m\u001b[0;34m=\u001b[0m\u001b[0;34m(\u001b[0m\u001b[0;32mnot\u001b[0m \u001b[0minput_is_vector\u001b[0m\u001b[0;34m)\u001b[0m\u001b[0;34m)\u001b[0m\u001b[0;34m:\u001b[0m\u001b[0;34m\u001b[0m\u001b[0;34m\u001b[0m\u001b[0m\n\u001b[0;32m--> 317\u001b[0;31m         learn_result = mynimize(regloss_func,\n\u001b[0m\u001b[1;32m    318\u001b[0m                                 \u001b[0mnum_params\u001b[0m\u001b[0;34m,\u001b[0m\u001b[0;34m\u001b[0m\u001b[0;34m\u001b[0m\u001b[0m\n\u001b[1;32m    319\u001b[0m                                 \u001b[0mmethod\u001b[0m\u001b[0;34m=\u001b[0m\u001b[0mmethod\u001b[0m\u001b[0;34m,\u001b[0m\u001b[0;34m\u001b[0m\u001b[0;34m\u001b[0m\u001b[0m\n",
      "\u001b[0;32m~/Programming projects/jax_circuits/optimization.py\u001b[0m in \u001b[0;36mmynimize\u001b[0;34m(loss_func, num_params, method, learning_rate, opt_instance, u_func, loss_is_loss_and_grad, target_loss, **kwargs)\u001b[0m\n\u001b[1;32m    195\u001b[0m         \u001b[0;32mif\u001b[0m \u001b[0mopt_instance\u001b[0m \u001b[0;32mis\u001b[0m \u001b[0;32mNone\u001b[0m\u001b[0;34m:\u001b[0m\u001b[0;34m\u001b[0m\u001b[0;34m\u001b[0m\u001b[0m\n\u001b[1;32m    196\u001b[0m             \u001b[0mopt_instance\u001b[0m \u001b[0;34m=\u001b[0m \u001b[0moptax\u001b[0m\u001b[0;34m.\u001b[0m\u001b[0madam\u001b[0m\u001b[0;34m(\u001b[0m\u001b[0mlearning_rate\u001b[0m\u001b[0;34m)\u001b[0m\u001b[0;34m\u001b[0m\u001b[0;34m\u001b[0m\u001b[0m\n\u001b[0;32m--> 197\u001b[0;31m         angles_history, loss_history = optax_minimize(loss_func,\n\u001b[0m\u001b[1;32m    198\u001b[0m                                                       \u001b[0mnum_params\u001b[0m\u001b[0;34m,\u001b[0m\u001b[0;34m\u001b[0m\u001b[0;34m\u001b[0m\u001b[0m\n\u001b[1;32m    199\u001b[0m                                                       \u001b[0mopt_instance\u001b[0m\u001b[0;34m,\u001b[0m\u001b[0;34m\u001b[0m\u001b[0;34m\u001b[0m\u001b[0m\n",
      "\u001b[0;32m~/Programming projects/jax_circuits/optimization.py\u001b[0m in \u001b[0;36moptax_minimize\u001b[0;34m(loss_func, num_params, opt, preconditioner_func, loss_is_loss_and_grad, initial_params, num_iterations, target_loss)\u001b[0m\n\u001b[1;32m     49\u001b[0m     \u001b[0;32mfor\u001b[0m \u001b[0m_\u001b[0m \u001b[0;32min\u001b[0m \u001b[0mrange\u001b[0m\u001b[0;34m(\u001b[0m\u001b[0mnum_iterations\u001b[0m\u001b[0;34m)\u001b[0m\u001b[0;34m:\u001b[0m\u001b[0;34m\u001b[0m\u001b[0;34m\u001b[0m\u001b[0m\n\u001b[1;32m     50\u001b[0m         \u001b[0;32mif\u001b[0m \u001b[0mloss_is_loss_and_grad\u001b[0m\u001b[0;34m:\u001b[0m\u001b[0;34m\u001b[0m\u001b[0;34m\u001b[0m\u001b[0m\n\u001b[0;32m---> 51\u001b[0;31m             \u001b[0mparams\u001b[0m\u001b[0;34m,\u001b[0m \u001b[0mopt_state\u001b[0m\u001b[0;34m,\u001b[0m \u001b[0mloss\u001b[0m \u001b[0;34m=\u001b[0m \u001b[0moptax_update_step\u001b[0m\u001b[0;34m(\u001b[0m\u001b[0mloss_func\u001b[0m\u001b[0;34m,\u001b[0m \u001b[0mopt\u001b[0m\u001b[0;34m,\u001b[0m \u001b[0mopt_state\u001b[0m\u001b[0;34m,\u001b[0m \u001b[0mparams\u001b[0m\u001b[0;34m,\u001b[0m \u001b[0mpreconditioner_func\u001b[0m\u001b[0;34m)\u001b[0m\u001b[0;34m\u001b[0m\u001b[0;34m\u001b[0m\u001b[0m\n\u001b[0m\u001b[1;32m     52\u001b[0m         \u001b[0;32melse\u001b[0m\u001b[0;34m:\u001b[0m\u001b[0;34m\u001b[0m\u001b[0;34m\u001b[0m\u001b[0m\n\u001b[1;32m     53\u001b[0m             \u001b[0mparams\u001b[0m\u001b[0;34m,\u001b[0m \u001b[0mopt_state\u001b[0m\u001b[0;34m,\u001b[0m \u001b[0mloss\u001b[0m \u001b[0;34m=\u001b[0m \u001b[0moptax_update_step\u001b[0m\u001b[0;34m(\u001b[0m\u001b[0mloss_and_grad_func\u001b[0m\u001b[0;34m,\u001b[0m \u001b[0mopt\u001b[0m\u001b[0;34m,\u001b[0m \u001b[0mopt_state\u001b[0m\u001b[0;34m,\u001b[0m \u001b[0mparams\u001b[0m\u001b[0;34m,\u001b[0m \u001b[0mpreconditioner_func\u001b[0m\u001b[0;34m)\u001b[0m\u001b[0;34m\u001b[0m\u001b[0;34m\u001b[0m\u001b[0m\n",
      "\u001b[0;32m~/.local/lib/python3.8/site-packages/jax/_src/traceback_util.py\u001b[0m in \u001b[0;36mreraise_with_filtered_traceback\u001b[0;34m(*args, **kwargs)\u001b[0m\n\u001b[1;32m    141\u001b[0m   \u001b[0;32mdef\u001b[0m \u001b[0mreraise_with_filtered_traceback\u001b[0m\u001b[0;34m(\u001b[0m\u001b[0;34m*\u001b[0m\u001b[0margs\u001b[0m\u001b[0;34m,\u001b[0m \u001b[0;34m**\u001b[0m\u001b[0mkwargs\u001b[0m\u001b[0;34m)\u001b[0m\u001b[0;34m:\u001b[0m\u001b[0;34m\u001b[0m\u001b[0;34m\u001b[0m\u001b[0m\n\u001b[1;32m    142\u001b[0m     \u001b[0;32mtry\u001b[0m\u001b[0;34m:\u001b[0m\u001b[0;34m\u001b[0m\u001b[0;34m\u001b[0m\u001b[0m\n\u001b[0;32m--> 143\u001b[0;31m       \u001b[0;32mreturn\u001b[0m \u001b[0mfun\u001b[0m\u001b[0;34m(\u001b[0m\u001b[0;34m*\u001b[0m\u001b[0margs\u001b[0m\u001b[0;34m,\u001b[0m \u001b[0;34m**\u001b[0m\u001b[0mkwargs\u001b[0m\u001b[0;34m)\u001b[0m\u001b[0;34m\u001b[0m\u001b[0;34m\u001b[0m\u001b[0m\n\u001b[0m\u001b[1;32m    144\u001b[0m     \u001b[0;32mexcept\u001b[0m \u001b[0mException\u001b[0m \u001b[0;32mas\u001b[0m \u001b[0me\u001b[0m\u001b[0;34m:\u001b[0m\u001b[0;34m\u001b[0m\u001b[0;34m\u001b[0m\u001b[0m\n\u001b[1;32m    145\u001b[0m       \u001b[0;32mif\u001b[0m \u001b[0;32mnot\u001b[0m \u001b[0mis_under_reraiser\u001b[0m\u001b[0;34m(\u001b[0m\u001b[0me\u001b[0m\u001b[0;34m)\u001b[0m\u001b[0;34m:\u001b[0m\u001b[0;34m\u001b[0m\u001b[0;34m\u001b[0m\u001b[0m\n",
      "\u001b[0;32m~/.local/lib/python3.8/site-packages/jax/_src/api.py\u001b[0m in \u001b[0;36mcache_miss\u001b[0;34m(*args, **kwargs)\u001b[0m\n\u001b[1;32m    424\u001b[0m       \u001b[0m_check_arg\u001b[0m\u001b[0;34m(\u001b[0m\u001b[0marg\u001b[0m\u001b[0;34m)\u001b[0m\u001b[0;34m\u001b[0m\u001b[0;34m\u001b[0m\u001b[0m\n\u001b[1;32m    425\u001b[0m     \u001b[0mflat_fun\u001b[0m\u001b[0;34m,\u001b[0m \u001b[0mout_tree\u001b[0m \u001b[0;34m=\u001b[0m \u001b[0mflatten_fun\u001b[0m\u001b[0;34m(\u001b[0m\u001b[0mf\u001b[0m\u001b[0;34m,\u001b[0m \u001b[0min_tree\u001b[0m\u001b[0;34m)\u001b[0m\u001b[0;34m\u001b[0m\u001b[0;34m\u001b[0m\u001b[0m\n\u001b[0;32m--> 426\u001b[0;31m     out_flat = xla.xla_call(\n\u001b[0m\u001b[1;32m    427\u001b[0m         \u001b[0mflat_fun\u001b[0m\u001b[0;34m,\u001b[0m\u001b[0;34m\u001b[0m\u001b[0;34m\u001b[0m\u001b[0m\n\u001b[1;32m    428\u001b[0m         \u001b[0;34m*\u001b[0m\u001b[0margs_flat\u001b[0m\u001b[0;34m,\u001b[0m\u001b[0;34m\u001b[0m\u001b[0;34m\u001b[0m\u001b[0m\n",
      "\u001b[0;32m~/.local/lib/python3.8/site-packages/jax/core.py\u001b[0m in \u001b[0;36mbind\u001b[0;34m(self, fun, *args, **params)\u001b[0m\n\u001b[1;32m   1563\u001b[0m \u001b[0;34m\u001b[0m\u001b[0m\n\u001b[1;32m   1564\u001b[0m   \u001b[0;32mdef\u001b[0m \u001b[0mbind\u001b[0m\u001b[0;34m(\u001b[0m\u001b[0mself\u001b[0m\u001b[0;34m,\u001b[0m \u001b[0mfun\u001b[0m\u001b[0;34m,\u001b[0m \u001b[0;34m*\u001b[0m\u001b[0margs\u001b[0m\u001b[0;34m,\u001b[0m \u001b[0;34m**\u001b[0m\u001b[0mparams\u001b[0m\u001b[0;34m)\u001b[0m\u001b[0;34m:\u001b[0m\u001b[0;34m\u001b[0m\u001b[0;34m\u001b[0m\u001b[0m\n\u001b[0;32m-> 1565\u001b[0;31m     \u001b[0;32mreturn\u001b[0m \u001b[0mcall_bind\u001b[0m\u001b[0;34m(\u001b[0m\u001b[0mself\u001b[0m\u001b[0;34m,\u001b[0m \u001b[0mfun\u001b[0m\u001b[0;34m,\u001b[0m \u001b[0;34m*\u001b[0m\u001b[0margs\u001b[0m\u001b[0;34m,\u001b[0m \u001b[0;34m**\u001b[0m\u001b[0mparams\u001b[0m\u001b[0;34m)\u001b[0m\u001b[0;34m\u001b[0m\u001b[0;34m\u001b[0m\u001b[0m\n\u001b[0m\u001b[1;32m   1566\u001b[0m \u001b[0;34m\u001b[0m\u001b[0m\n\u001b[1;32m   1567\u001b[0m   \u001b[0;32mdef\u001b[0m \u001b[0mprocess\u001b[0m\u001b[0;34m(\u001b[0m\u001b[0mself\u001b[0m\u001b[0;34m,\u001b[0m \u001b[0mtrace\u001b[0m\u001b[0;34m,\u001b[0m \u001b[0mfun\u001b[0m\u001b[0;34m,\u001b[0m \u001b[0mtracers\u001b[0m\u001b[0;34m,\u001b[0m \u001b[0mparams\u001b[0m\u001b[0;34m)\u001b[0m\u001b[0;34m:\u001b[0m\u001b[0;34m\u001b[0m\u001b[0;34m\u001b[0m\u001b[0m\n",
      "\u001b[0;32m~/.local/lib/python3.8/site-packages/jax/core.py\u001b[0m in \u001b[0;36mcall_bind\u001b[0;34m(primitive, fun, *args, **params)\u001b[0m\n\u001b[1;32m   1554\u001b[0m   \u001b[0mtracers\u001b[0m \u001b[0;34m=\u001b[0m \u001b[0mmap\u001b[0m\u001b[0;34m(\u001b[0m\u001b[0mtop_trace\u001b[0m\u001b[0;34m.\u001b[0m\u001b[0mfull_raise\u001b[0m\u001b[0;34m,\u001b[0m \u001b[0margs\u001b[0m\u001b[0;34m)\u001b[0m\u001b[0;34m\u001b[0m\u001b[0;34m\u001b[0m\u001b[0m\n\u001b[1;32m   1555\u001b[0m   \u001b[0;32mwith\u001b[0m \u001b[0mmaybe_new_sublevel\u001b[0m\u001b[0;34m(\u001b[0m\u001b[0mtop_trace\u001b[0m\u001b[0;34m)\u001b[0m\u001b[0;34m:\u001b[0m\u001b[0;34m\u001b[0m\u001b[0;34m\u001b[0m\u001b[0m\n\u001b[0;32m-> 1556\u001b[0;31m     \u001b[0mouts\u001b[0m \u001b[0;34m=\u001b[0m \u001b[0mprimitive\u001b[0m\u001b[0;34m.\u001b[0m\u001b[0mprocess\u001b[0m\u001b[0;34m(\u001b[0m\u001b[0mtop_trace\u001b[0m\u001b[0;34m,\u001b[0m \u001b[0mfun\u001b[0m\u001b[0;34m,\u001b[0m \u001b[0mtracers\u001b[0m\u001b[0;34m,\u001b[0m \u001b[0mparams\u001b[0m\u001b[0;34m)\u001b[0m\u001b[0;34m\u001b[0m\u001b[0;34m\u001b[0m\u001b[0m\n\u001b[0m\u001b[1;32m   1557\u001b[0m   \u001b[0;32mreturn\u001b[0m \u001b[0mmap\u001b[0m\u001b[0;34m(\u001b[0m\u001b[0mfull_lower\u001b[0m\u001b[0;34m,\u001b[0m \u001b[0mapply_todos\u001b[0m\u001b[0;34m(\u001b[0m\u001b[0menv_trace_todo\u001b[0m\u001b[0;34m(\u001b[0m\u001b[0;34m)\u001b[0m\u001b[0;34m,\u001b[0m \u001b[0mouts\u001b[0m\u001b[0;34m)\u001b[0m\u001b[0;34m)\u001b[0m\u001b[0;34m\u001b[0m\u001b[0;34m\u001b[0m\u001b[0m\n\u001b[1;32m   1558\u001b[0m \u001b[0;34m\u001b[0m\u001b[0m\n",
      "\u001b[0;32m~/.local/lib/python3.8/site-packages/jax/core.py\u001b[0m in \u001b[0;36mprocess\u001b[0;34m(self, trace, fun, tracers, params)\u001b[0m\n\u001b[1;32m   1566\u001b[0m \u001b[0;34m\u001b[0m\u001b[0m\n\u001b[1;32m   1567\u001b[0m   \u001b[0;32mdef\u001b[0m \u001b[0mprocess\u001b[0m\u001b[0;34m(\u001b[0m\u001b[0mself\u001b[0m\u001b[0;34m,\u001b[0m \u001b[0mtrace\u001b[0m\u001b[0;34m,\u001b[0m \u001b[0mfun\u001b[0m\u001b[0;34m,\u001b[0m \u001b[0mtracers\u001b[0m\u001b[0;34m,\u001b[0m \u001b[0mparams\u001b[0m\u001b[0;34m)\u001b[0m\u001b[0;34m:\u001b[0m\u001b[0;34m\u001b[0m\u001b[0;34m\u001b[0m\u001b[0m\n\u001b[0;32m-> 1568\u001b[0;31m     \u001b[0;32mreturn\u001b[0m \u001b[0mtrace\u001b[0m\u001b[0;34m.\u001b[0m\u001b[0mprocess_call\u001b[0m\u001b[0;34m(\u001b[0m\u001b[0mself\u001b[0m\u001b[0;34m,\u001b[0m \u001b[0mfun\u001b[0m\u001b[0;34m,\u001b[0m \u001b[0mtracers\u001b[0m\u001b[0;34m,\u001b[0m \u001b[0mparams\u001b[0m\u001b[0;34m)\u001b[0m\u001b[0;34m\u001b[0m\u001b[0;34m\u001b[0m\u001b[0m\n\u001b[0m\u001b[1;32m   1569\u001b[0m \u001b[0;34m\u001b[0m\u001b[0m\n\u001b[1;32m   1570\u001b[0m   \u001b[0;32mdef\u001b[0m \u001b[0mpost_process\u001b[0m\u001b[0;34m(\u001b[0m\u001b[0mself\u001b[0m\u001b[0;34m,\u001b[0m \u001b[0mtrace\u001b[0m\u001b[0;34m,\u001b[0m \u001b[0mout_tracers\u001b[0m\u001b[0;34m,\u001b[0m \u001b[0mparams\u001b[0m\u001b[0;34m)\u001b[0m\u001b[0;34m:\u001b[0m\u001b[0;34m\u001b[0m\u001b[0;34m\u001b[0m\u001b[0m\n",
      "\u001b[0;32m~/.local/lib/python3.8/site-packages/jax/core.py\u001b[0m in \u001b[0;36mprocess_call\u001b[0;34m(self, primitive, f, tracers, params)\u001b[0m\n\u001b[1;32m    607\u001b[0m \u001b[0;34m\u001b[0m\u001b[0m\n\u001b[1;32m    608\u001b[0m   \u001b[0;32mdef\u001b[0m \u001b[0mprocess_call\u001b[0m\u001b[0;34m(\u001b[0m\u001b[0mself\u001b[0m\u001b[0;34m,\u001b[0m \u001b[0mprimitive\u001b[0m\u001b[0;34m,\u001b[0m \u001b[0mf\u001b[0m\u001b[0;34m,\u001b[0m \u001b[0mtracers\u001b[0m\u001b[0;34m,\u001b[0m \u001b[0mparams\u001b[0m\u001b[0;34m)\u001b[0m\u001b[0;34m:\u001b[0m\u001b[0;34m\u001b[0m\u001b[0;34m\u001b[0m\u001b[0m\n\u001b[0;32m--> 609\u001b[0;31m     \u001b[0;32mreturn\u001b[0m \u001b[0mprimitive\u001b[0m\u001b[0;34m.\u001b[0m\u001b[0mimpl\u001b[0m\u001b[0;34m(\u001b[0m\u001b[0mf\u001b[0m\u001b[0;34m,\u001b[0m \u001b[0;34m*\u001b[0m\u001b[0mtracers\u001b[0m\u001b[0;34m,\u001b[0m \u001b[0;34m**\u001b[0m\u001b[0mparams\u001b[0m\u001b[0;34m)\u001b[0m\u001b[0;34m\u001b[0m\u001b[0;34m\u001b[0m\u001b[0m\n\u001b[0m\u001b[1;32m    610\u001b[0m   \u001b[0mprocess_map\u001b[0m \u001b[0;34m=\u001b[0m \u001b[0mprocess_call\u001b[0m\u001b[0;34m\u001b[0m\u001b[0;34m\u001b[0m\u001b[0m\n\u001b[1;32m    611\u001b[0m \u001b[0;34m\u001b[0m\u001b[0m\n",
      "\u001b[0;32m~/.local/lib/python3.8/site-packages/jax/interpreters/xla.py\u001b[0m in \u001b[0;36m_xla_call_impl\u001b[0;34m(fun, device, backend, name, donated_invars, *args)\u001b[0m\n\u001b[1;32m    576\u001b[0m \u001b[0;34m\u001b[0m\u001b[0m\n\u001b[1;32m    577\u001b[0m \u001b[0;32mdef\u001b[0m \u001b[0m_xla_call_impl\u001b[0m\u001b[0;34m(\u001b[0m\u001b[0mfun\u001b[0m\u001b[0;34m:\u001b[0m \u001b[0mlu\u001b[0m\u001b[0;34m.\u001b[0m\u001b[0mWrappedFun\u001b[0m\u001b[0;34m,\u001b[0m \u001b[0;34m*\u001b[0m\u001b[0margs\u001b[0m\u001b[0;34m,\u001b[0m \u001b[0mdevice\u001b[0m\u001b[0;34m,\u001b[0m \u001b[0mbackend\u001b[0m\u001b[0;34m,\u001b[0m \u001b[0mname\u001b[0m\u001b[0;34m,\u001b[0m \u001b[0mdonated_invars\u001b[0m\u001b[0;34m)\u001b[0m\u001b[0;34m:\u001b[0m\u001b[0;34m\u001b[0m\u001b[0;34m\u001b[0m\u001b[0m\n\u001b[0;32m--> 578\u001b[0;31m   compiled_fun = _xla_callable(fun, device, backend, name, donated_invars,\n\u001b[0m\u001b[1;32m    579\u001b[0m                                *unsafe_map(arg_spec, args))\n\u001b[1;32m    580\u001b[0m   \u001b[0;32mtry\u001b[0m\u001b[0;34m:\u001b[0m\u001b[0;34m\u001b[0m\u001b[0;34m\u001b[0m\u001b[0m\n",
      "\u001b[0;32m~/.local/lib/python3.8/site-packages/jax/linear_util.py\u001b[0m in \u001b[0;36mmemoized_fun\u001b[0;34m(fun, *args)\u001b[0m\n\u001b[1;32m    260\u001b[0m       \u001b[0mfun\u001b[0m\u001b[0;34m.\u001b[0m\u001b[0mpopulate_stores\u001b[0m\u001b[0;34m(\u001b[0m\u001b[0mstores\u001b[0m\u001b[0;34m)\u001b[0m\u001b[0;34m\u001b[0m\u001b[0;34m\u001b[0m\u001b[0m\n\u001b[1;32m    261\u001b[0m     \u001b[0;32melse\u001b[0m\u001b[0;34m:\u001b[0m\u001b[0;34m\u001b[0m\u001b[0;34m\u001b[0m\u001b[0m\n\u001b[0;32m--> 262\u001b[0;31m       \u001b[0mans\u001b[0m \u001b[0;34m=\u001b[0m \u001b[0mcall\u001b[0m\u001b[0;34m(\u001b[0m\u001b[0mfun\u001b[0m\u001b[0;34m,\u001b[0m \u001b[0;34m*\u001b[0m\u001b[0margs\u001b[0m\u001b[0;34m)\u001b[0m\u001b[0;34m\u001b[0m\u001b[0;34m\u001b[0m\u001b[0m\n\u001b[0m\u001b[1;32m    263\u001b[0m       \u001b[0mcache\u001b[0m\u001b[0;34m[\u001b[0m\u001b[0mkey\u001b[0m\u001b[0;34m]\u001b[0m \u001b[0;34m=\u001b[0m \u001b[0;34m(\u001b[0m\u001b[0mans\u001b[0m\u001b[0;34m,\u001b[0m \u001b[0mfun\u001b[0m\u001b[0;34m.\u001b[0m\u001b[0mstores\u001b[0m\u001b[0;34m)\u001b[0m\u001b[0;34m\u001b[0m\u001b[0;34m\u001b[0m\u001b[0m\n\u001b[1;32m    264\u001b[0m \u001b[0;34m\u001b[0m\u001b[0m\n",
      "\u001b[0;32m~/.local/lib/python3.8/site-packages/jax/interpreters/xla.py\u001b[0m in \u001b[0;36m_xla_callable\u001b[0;34m(fun, device, backend, name, donated_invars, *arg_specs)\u001b[0m\n\u001b[1;32m    722\u001b[0m       device_assignment=(device.id,) if device else None)\n\u001b[1;32m    723\u001b[0m   \u001b[0moptions\u001b[0m\u001b[0;34m.\u001b[0m\u001b[0mparameter_is_tupled_arguments\u001b[0m \u001b[0;34m=\u001b[0m \u001b[0mtuple_args\u001b[0m\u001b[0;34m\u001b[0m\u001b[0;34m\u001b[0m\u001b[0m\n\u001b[0;32m--> 724\u001b[0;31m   \u001b[0mcompiled\u001b[0m \u001b[0;34m=\u001b[0m \u001b[0mbackend_compile\u001b[0m\u001b[0;34m(\u001b[0m\u001b[0mbackend\u001b[0m\u001b[0;34m,\u001b[0m \u001b[0mbuilt\u001b[0m\u001b[0;34m,\u001b[0m \u001b[0moptions\u001b[0m\u001b[0;34m)\u001b[0m\u001b[0;34m\u001b[0m\u001b[0;34m\u001b[0m\u001b[0m\n\u001b[0m\u001b[1;32m    725\u001b[0m   \u001b[0;32mif\u001b[0m \u001b[0mnreps\u001b[0m \u001b[0;34m==\u001b[0m \u001b[0;36m1\u001b[0m\u001b[0;34m:\u001b[0m\u001b[0;34m\u001b[0m\u001b[0;34m\u001b[0m\u001b[0m\n\u001b[1;32m    726\u001b[0m     return partial(_execute_compiled, compiled, out_avals, result_handlers,\n",
      "\u001b[0;32m~/.local/lib/python3.8/site-packages/jax/interpreters/xla.py\u001b[0m in \u001b[0;36mbackend_compile\u001b[0;34m(backend, built_c, options)\u001b[0m\n\u001b[1;32m    343\u001b[0m   \u001b[0;31m# we use a separate function call to ensure that XLA compilation appears\u001b[0m\u001b[0;34m\u001b[0m\u001b[0;34m\u001b[0m\u001b[0;34m\u001b[0m\u001b[0m\n\u001b[1;32m    344\u001b[0m   \u001b[0;31m# separately in Python profiling results\u001b[0m\u001b[0;34m\u001b[0m\u001b[0;34m\u001b[0m\u001b[0;34m\u001b[0m\u001b[0m\n\u001b[0;32m--> 345\u001b[0;31m   \u001b[0;32mreturn\u001b[0m \u001b[0mbackend\u001b[0m\u001b[0;34m.\u001b[0m\u001b[0mcompile\u001b[0m\u001b[0;34m(\u001b[0m\u001b[0mbuilt_c\u001b[0m\u001b[0;34m,\u001b[0m \u001b[0mcompile_options\u001b[0m\u001b[0;34m=\u001b[0m\u001b[0moptions\u001b[0m\u001b[0;34m)\u001b[0m\u001b[0;34m\u001b[0m\u001b[0;34m\u001b[0m\u001b[0m\n\u001b[0m\u001b[1;32m    346\u001b[0m \u001b[0;34m\u001b[0m\u001b[0m\n\u001b[1;32m    347\u001b[0m \u001b[0;32mdef\u001b[0m \u001b[0m_execute_compiled_primitive\u001b[0m\u001b[0;34m(\u001b[0m\u001b[0mprim\u001b[0m\u001b[0;34m,\u001b[0m \u001b[0mcompiled\u001b[0m\u001b[0;34m,\u001b[0m \u001b[0mresult_handler\u001b[0m\u001b[0;34m,\u001b[0m \u001b[0;34m*\u001b[0m\u001b[0margs\u001b[0m\u001b[0;34m)\u001b[0m\u001b[0;34m:\u001b[0m\u001b[0;34m\u001b[0m\u001b[0;34m\u001b[0m\u001b[0m\n",
      "\u001b[0;31mKeyboardInterrupt\u001b[0m: "
     ]
    }
   ],
   "source": [
    "qc = QuantumCircuit(4)\n",
    "qc.mct([0, 1, 2], 3)\n",
    "u_toff4 = Operator(qc.reverse_bits()).data\n",
    "\n",
    "reg_options = {'r': 0.008,\n",
    "               'function': 'linear',\n",
    "               'ymax': 2,\n",
    "               'xmax': jnp.pi/2,\n",
    "               'plato': 0.05,\n",
    "               'num_gates': 16,\n",
    "               'angle_tolerance': 0.2,\n",
    "               }\n",
    "\n",
    "key = random.PRNGKey(2)\n",
    "num_samples = 1000\n",
    "num_batches = 4\n",
    "layer = sequ_layer(4)\n",
    "initial_num_gates = 24\n",
    "\n",
    "cp_decompose_adaptive(u_toff4, \n",
    "                      layer,\n",
    "                      initial_num_gates=initial_num_gates,\n",
    "                      regularization_options=reg_options,\n",
    "                      num_samples=num_samples, \n",
    "                      num_batches=num_batches,\n",
    "                      key=key,\n",
    "                      disc_func=disc2,\n",
    "                      cp_dist='uniform',\n",
    "                      save_to='toff4_connected')"
   ]
  },
  {
   "cell_type": "markdown",
   "id": "426060e6-c89e-434d-be1b-5a096a938b35",
   "metadata": {
    "tags": []
   },
   "source": [
    "# Toffoli 3"
   ]
  },
  {
   "cell_type": "markdown",
   "id": "b96f6e81-1d8e-4d02-a4a6-d693aacf4dff",
   "metadata": {
    "tags": []
   },
   "source": [
    "## Regularized CP"
   ]
  },
  {
   "cell_type": "markdown",
   "id": "ad6cb71d-9c5e-4155-9768-8077da59e39f",
   "metadata": {},
   "source": [
    "Here we use regularized CP learning to find optimal CZ compilation."
   ]
  },
  {
   "cell_type": "markdown",
   "id": "209bdfb4-794a-40d8-95e8-4f2216d60dca",
   "metadata": {},
   "source": [
    "Learning from completely random angles. Note: 'sucess' indicator should be treated with care, currently threshold values are very permissive."
   ]
  },
  {
   "cell_type": "code",
   "execution_count": 8,
   "id": "687775bb-2522-45ae-b0e8-089d6ede22f4",
   "metadata": {},
   "outputs": [
    {
     "name": "stdout",
     "output_type": "stream",
     "text": [
      "\n",
      "Computing raw results.\n"
     ]
    },
    {
     "name": "stderr",
     "output_type": "stream",
     "text": [
      "100%|██████████| 10/10 [00:29<00:00,  2.90s/it]\n"
     ]
    },
    {
     "name": "stdout",
     "output_type": "stream",
     "text": [
      "\n",
      "Selecting prospective results:\n"
     ]
    },
    {
     "name": "stderr",
     "output_type": "stream",
     "text": [
      "10it [00:00, 70.74it/s]\n"
     ]
    },
    {
     "name": "stdout",
     "output_type": "stream",
     "text": [
      "2 found.\n",
      "\n",
      "Verifying prospective results:\n"
     ]
    },
    {
     "name": "stderr",
     "output_type": "stream",
     "text": [
      "100%|██████████| 2/2 [00:21<00:00, 10.79s/it]\n"
     ]
    },
    {
     "name": "stdout",
     "output_type": "stream",
     "text": [
      "2 successful.\n",
      "cz counts are:\n",
      "[6, 6]\n"
     ]
    }
   ],
   "source": [
    "qc = QuantumCircuit(3)\n",
    "qc.ccx(0, 1, 2)\n",
    "u_toff3 = Operator(qc.reverse_bits()).data\n",
    "\n",
    "anz = Ansatz(3, 'cp', fill_layers(sequ_layer(3), 10))\n",
    "\n",
    "reg_options = {'r': 0.001,\n",
    "               'function': 'linear',\n",
    "               'ymax': 2,\n",
    "               'xmax': jnp.pi/2,\n",
    "               'plato': 0.05,\n",
    "               'num_gates': 7,\n",
    "               'angle_tolerance': 0.2,\n",
    "               'cp_mask': anz.cp_mask}\n",
    "\n",
    "key = random.PRNGKey(2)\n",
    "num_samples = 10\n",
    "\n",
    "successful_results, failed_results = cp_decompose(u_toff3, \n",
    "                                               anz,\n",
    "                                               regularization_options=reg_options,\n",
    "                                               num_samples=num_samples, \n",
    "                                               key=key,\n",
    "                                               disc_func=disc2,\n",
    "                                               cp_dist='0',\n",
    "                                               save_to='toff3_connected')"
   ]
  },
  {
   "cell_type": "code",
   "execution_count": 11,
   "id": "d8810e91-277e-489b-9c92-db21b2c0cb93",
   "metadata": {},
   "outputs": [
    {
     "data": {
      "image/png": "[encoded data removed]",
      "text/plain": [
       "<Figure size 1591.6x445.48 with 1 Axes>"
      ]
     },
     "execution_count": 11,
     "metadata": {},
     "output_type": "execute_result"
    }
   ],
   "source": [
    "with open('data/toff3_connected_successful_results.pickle', 'rb') as f:\n",
    "    peek = pickle.load(f)\n",
    "    \n",
    "peek[2][1].draw(output='mpl')"
   ]
  },
  {
   "cell_type": "markdown",
   "id": "ad1edbce-4e65-452f-9fc0-ed4c8c7f4cd6",
   "metadata": {
    "tags": []
   },
   "source": [
    "## Constrained connectivity"
   ]
  },
  {
   "cell_type": "code",
   "execution_count": 25,
   "id": "8545de84-fa84-450d-8f9d-cd000ab03626",
   "metadata": {},
   "outputs": [
    {
     "name": "stdout",
     "output_type": "stream",
     "text": [
      "batch 1 out of 5\n",
      "r is 0.001\n",
      "\n",
      "Computing raw results.\n"
     ]
    },
    {
     "name": "stderr",
     "output_type": "stream",
     "text": [
      "100%|██████████| 10/10 [00:25<00:00,  2.52s/it]\n"
     ]
    },
    {
     "name": "stdout",
     "output_type": "stream",
     "text": [
      "\n",
      "Selecting prospective results:\n"
     ]
    },
    {
     "name": "stderr",
     "output_type": "stream",
     "text": [
      "10it [00:00, 96.60it/s]\n"
     ]
    },
    {
     "name": "stdout",
     "output_type": "stream",
     "text": [
      "0 found.\n",
      "\n",
      "Verifying prospective results:\n"
     ]
    },
    {
     "name": "stderr",
     "output_type": "stream",
     "text": [
      "0it [00:00, ?it/s]\n"
     ]
    },
    {
     "name": "stdout",
     "output_type": "stream",
     "text": [
      "0 successful.\n",
      "cz counts are:\n",
      "[]\n",
      "batch 2 out of 5\n",
      "r is 0.0008\n",
      "\n",
      "Computing raw results.\n"
     ]
    },
    {
     "name": "stderr",
     "output_type": "stream",
     "text": [
      "100%|██████████| 10/10 [00:24<00:00,  2.48s/it]\n"
     ]
    },
    {
     "name": "stdout",
     "output_type": "stream",
     "text": [
      "\n",
      "Selecting prospective results:\n"
     ]
    },
    {
     "name": "stderr",
     "output_type": "stream",
     "text": [
      "10it [00:00, 83.88it/s]\n"
     ]
    },
    {
     "name": "stdout",
     "output_type": "stream",
     "text": [
      "1 found.\n",
      "\n",
      "Verifying prospective results:\n"
     ]
    },
    {
     "name": "stderr",
     "output_type": "stream",
     "text": [
      "100%|██████████| 1/1 [00:08<00:00,  8.84s/it]\n"
     ]
    },
    {
     "name": "stdout",
     "output_type": "stream",
     "text": [
      "1 successful.\n",
      "cz counts are:\n",
      "[8]\n",
      "batch 3 out of 5\n",
      "r is 0.00096\n",
      "\n",
      "Computing raw results.\n"
     ]
    },
    {
     "name": "stderr",
     "output_type": "stream",
     "text": [
      "100%|██████████| 10/10 [00:23<00:00,  2.39s/it]\n"
     ]
    },
    {
     "name": "stdout",
     "output_type": "stream",
     "text": [
      "\n",
      "Selecting prospective results:\n"
     ]
    },
    {
     "name": "stderr",
     "output_type": "stream",
     "text": [
      "10it [00:00, 66.21it/s]\n"
     ]
    },
    {
     "name": "stdout",
     "output_type": "stream",
     "text": [
      "1 found.\n",
      "\n",
      "Verifying prospective results:\n"
     ]
    },
    {
     "name": "stderr",
     "output_type": "stream",
     "text": [
      "100%|██████████| 1/1 [00:08<00:00,  8.53s/it]\n"
     ]
    },
    {
     "name": "stdout",
     "output_type": "stream",
     "text": [
      "1 successful.\n",
      "cz counts are:\n",
      "[8]\n",
      "batch 4 out of 5\n",
      "r is 0.001152\n",
      "\n",
      "Computing raw results.\n"
     ]
    },
    {
     "name": "stderr",
     "output_type": "stream",
     "text": [
      "100%|██████████| 10/10 [00:23<00:00,  2.39s/it]\n"
     ]
    },
    {
     "name": "stdout",
     "output_type": "stream",
     "text": [
      "\n",
      "Selecting prospective results:\n"
     ]
    },
    {
     "name": "stderr",
     "output_type": "stream",
     "text": [
      "10it [00:00, 72.38it/s]\n"
     ]
    },
    {
     "name": "stdout",
     "output_type": "stream",
     "text": [
      "0 found.\n",
      "\n",
      "Verifying prospective results:\n"
     ]
    },
    {
     "name": "stderr",
     "output_type": "stream",
     "text": [
      "0it [00:00, ?it/s]\n"
     ]
    },
    {
     "name": "stdout",
     "output_type": "stream",
     "text": [
      "0 successful.\n",
      "cz counts are:\n",
      "[]\n",
      "batch 5 out of 5\n",
      "r is 0.0009216000000000001\n",
      "\n",
      "Computing raw results.\n"
     ]
    },
    {
     "name": "stderr",
     "output_type": "stream",
     "text": [
      "100%|██████████| 10/10 [00:27<00:00,  2.70s/it]\n"
     ]
    },
    {
     "name": "stdout",
     "output_type": "stream",
     "text": [
      "\n",
      "Selecting prospective results:\n"
     ]
    },
    {
     "name": "stderr",
     "output_type": "stream",
     "text": [
      "10it [00:00, 59.02it/s]\n"
     ]
    },
    {
     "name": "stdout",
     "output_type": "stream",
     "text": [
      "1 found.\n",
      "\n",
      "Verifying prospective results:\n"
     ]
    },
    {
     "name": "stderr",
     "output_type": "stream",
     "text": [
      "100%|██████████| 1/1 [00:08<00:00,  8.28s/it]"
     ]
    },
    {
     "name": "stdout",
     "output_type": "stream",
     "text": [
      "1 successful.\n",
      "cz counts are:\n",
      "[8]\n"
     ]
    },
    {
     "name": "stderr",
     "output_type": "stream",
     "text": [
      "\n"
     ]
    }
   ],
   "source": [
    "qc = QuantumCircuit(3)\n",
    "qc.ccx(0, 1, 2)\n",
    "u_toff3 = Operator(qc.reverse_bits()).data\n",
    "\n",
    "anz = Ansatz(3, 'cp', fill_layers(chain_layer(3), 14))\n",
    "\n",
    "reg_options = {'r': 0.001,\n",
    "               'function': 'linear',\n",
    "               'ymax': 2,\n",
    "               'xmax': jnp.pi/2,\n",
    "               'plato': 0.05,\n",
    "               'num_gates': 8,\n",
    "               'angle_tolerance': 0.2,\n",
    "               'cp_mask': anz.cp_mask}\n",
    "\n",
    "key = random.PRNGKey(2)\n",
    "num_samples = 10\n",
    "num_batches = 5\n",
    "\n",
    "cp_decompose_smart(u_toff3, \n",
    "                   anz,\n",
    "                   regularization_options=reg_options,\n",
    "                   num_samples=num_samples, \n",
    "                   key=key,\n",
    "                   disc_func=disc2,\n",
    "                   cp_dist='0',\n",
    "                   save_to='toff3_chain',\n",
    "                   num_batches=num_batches,\n",
    "                   r_increment=0.2,\n",
    "                   disc_equlibrium=0.2)"
   ]
  },
  {
   "cell_type": "markdown",
   "id": "0125b8ae-7193-4d15-a05c-e7ba4bd97a50",
   "metadata": {
    "tags": []
   },
   "source": [
    "## Up to SWAPs"
   ]
  },
  {
   "cell_type": "code",
   "execution_count": 27,
   "id": "43377b21-3d11-4a31-9674-8c2251507805",
   "metadata": {},
   "outputs": [
    {
     "name": "stdout",
     "output_type": "stream",
     "text": [
      "\n",
      "Computing raw results.\n"
     ]
    },
    {
     "name": "stderr",
     "output_type": "stream",
     "text": [
      "100%|██████████| 50/50 [01:35<00:00,  1.91s/it]\n"
     ]
    },
    {
     "name": "stdout",
     "output_type": "stream",
     "text": [
      "\n",
      "Selecting prospective results:\n"
     ]
    },
    {
     "name": "stderr",
     "output_type": "stream",
     "text": [
      "50it [00:00, 102.08it/s]\n"
     ]
    },
    {
     "name": "stdout",
     "output_type": "stream",
     "text": [
      "9 found.\n",
      "\n",
      "Verifying prospective results:\n"
     ]
    },
    {
     "name": "stderr",
     "output_type": "stream",
     "text": [
      "100%|██████████| 9/9 [01:33<00:00, 10.36s/it]"
     ]
    },
    {
     "name": "stdout",
     "output_type": "stream",
     "text": [
      "8 sucessfull.\n",
      "cz counts are:\n",
      "[6, 6, 6, 6, 6, 6, 6, 6]\n"
     ]
    },
    {
     "name": "stderr",
     "output_type": "stream",
     "text": [
      "\n"
     ]
    }
   ],
   "source": [
    "qc = QuantumCircuit(3)\n",
    "qc.ccx(0, 1, 2)\n",
    "u_toff3 = Operator(qc.reverse_bits()).data\n",
    "\n",
    "anz = Ansatz(3, 'cp', fill_layers(sequ_layer(3), 10))\n",
    "\n",
    "reg_options = {'r': 0.01,\n",
    "               'function': 'linear',\n",
    "               'ymax': 2,\n",
    "               'xmax': jnp.pi/2,\n",
    "               'plato': 0.05,\n",
    "               'num_gates': 6,\n",
    "               'angle_tolerance': 0.2,\n",
    "               'cp_mask': anz.cp_mask}\n",
    "\n",
    "key = random.PRNGKey(30)\n",
    "num_samples = 50\n",
    "\n",
    "successful_results, failed_results = decompose(u_toff3, \n",
    "                                               anz,\n",
    "                                               regularization_options=reg_options,\n",
    "                                               num_samples=num_samples, \n",
    "                                               key=key,\n",
    "                                               disc_func=disc2_swap,\n",
    "                                               )"
   ]
  },
  {
   "cell_type": "code",
   "execution_count": 28,
   "id": "8a3b7132-d6bc-4152-b251-90f5e77cfef8",
   "metadata": {},
   "outputs": [
    {
     "name": "stdout",
     "output_type": "stream",
     "text": [
      "3.5762787e-07\n",
      "7.1525574e-07\n",
      "4.7683716e-07\n",
      "2.3841858e-07\n",
      "9.536743e-07\n",
      "7.1525574e-07\n",
      "9.536743e-07\n",
      "7.1525574e-07\n"
     ]
    }
   ],
   "source": [
    "for sr in successful_results:\n",
    "    cz, circ, u, angs = sr\n",
    "    print(disc2(u(angs), u_toff3))"
   ]
  },
  {
   "cell_type": "code",
   "execution_count": 8,
   "id": "27c94b1c-1471-4477-b7af-5bdd3e5aa967",
   "metadata": {},
   "outputs": [
    {
     "data": {
      "text/plain": [
       "DeviceArray(3.0941035e-07, dtype=float32)"
      ]
     },
     "execution_count": 8,
     "metadata": {},
     "output_type": "execute_result"
    }
   ],
   "source": []
  },
  {
   "cell_type": "markdown",
   "id": "86154f86-d894-44e4-aa7f-c165fef4e4a9",
   "metadata": {
    "tags": []
   },
   "source": [
    "## Unconstrained CP"
   ]
  },
  {
   "cell_type": "markdown",
   "id": "18a9f2b3-5e9a-4646-b2a6-d401bcb96047",
   "metadata": {},
   "source": [
    "Learning 3-qubits Toffoli with predefined pattern of 2-qubit gates. Note that the problem is not trivial because without CP gates the learning is about 80% likely to be stuck in local minimum. Let's see if we can do better with CP regularization.\n",
    "\n",
    "First, unconctrained CP optimization gets the job done very easily and reliably."
   ]
  },
  {
   "cell_type": "code",
   "execution_count": null,
   "id": "78f696f1-0cb5-4466-80a6-c0cf0d917b9a",
   "metadata": {},
   "outputs": [],
   "source": [
    "qc = QuantumCircuit(3)\n",
    "qc.ccx(0, 1, 2)\n",
    "u_toff3 = Operator(qc.reverse_bits()).data\n",
    "\n",
    "placements_toff3 = [[1, 2], [0, 2], [1, 2], [0, 2], [0, 1], [0, 1]]\n",
    "anz_toff3 = Ansatz(3, 'cp', placements={'free': placements_toff3})\n",
    "\n",
    "anz_toff3.circuit().draw(output='mpl')"
   ]
  },
  {
   "cell_type": "code",
   "execution_count": null,
   "id": "56b328d2-edda-4706-885b-d02753765667",
   "metadata": {},
   "outputs": [],
   "source": [
    "%time\n",
    "res, best_angles, sucess = anz_toff3.learn(u_toff3)\n",
    "_,_ = report_cp_learning(res)"
   ]
  },
  {
   "cell_type": "markdown",
   "id": "d595ee81-7d2b-4f54-97ce-3cd1b33faba1",
   "metadata": {},
   "source": [
    "## CP learning vs random learning."
   ]
  },
  {
   "cell_type": "markdown",
   "id": "e218618a-c7b4-4b2d-b215-0a2e9374fd17",
   "metadata": {},
   "source": [
    "When regularization parameter $r$ is large, all cp angles fall into immediate local minimums. This correspond to random choice of CZ locations in the circuit. It is necessary to compare out approach to this simplistic one."
   ]
  },
  {
   "cell_type": "code",
   "execution_count": 8,
   "id": "ab2db3a0-49a1-4c02-9280-0939664dacf9",
   "metadata": {
    "tags": []
   },
   "outputs": [],
   "source": [
    "with open('data/toff3_connected_raw_results.pickle', 'rb') as f:\n",
    "    raw_results = pickle.load(f)"
   ]
  },
  {
   "cell_type": "code",
   "execution_count": null,
   "id": "6b1089d3-c3fc-4735-875a-2462616fee07",
   "metadata": {},
   "outputs": [],
   "source": []
  },
  {
   "cell_type": "code",
   "execution_count": 7,
   "id": "c1f5b032-c10d-462b-b769-a179ae47e33a",
   "metadata": {},
   "outputs": [
    {
     "name": "stdout",
     "output_type": "stream",
     "text": [
      "\n",
      "Computing raw results.\n"
     ]
    },
    {
     "name": "stderr",
     "output_type": "stream",
     "text": [
      "100%|██████████| 50/50 [01:35<00:00,  1.91s/it]\n"
     ]
    },
    {
     "name": "stdout",
     "output_type": "stream",
     "text": [
      "\n",
      "Selecting prospective results:\n"
     ]
    },
    {
     "name": "stderr",
     "output_type": "stream",
     "text": [
      "50it [00:00, 84.64it/s]\n"
     ]
    },
    {
     "name": "stdout",
     "output_type": "stream",
     "text": [
      "19 found.\n",
      "\n",
      "Verifying prospective results:\n"
     ]
    },
    {
     "name": "stderr",
     "output_type": "stream",
     "text": [
      "100%|██████████| 19/19 [03:29<00:00, 11.05s/it]"
     ]
    },
    {
     "name": "stdout",
     "output_type": "stream",
     "text": [
      "18 successful.\n",
      "cz counts are:\n",
      "[7, 6, 6, 6, 7, 7, 6, 7, 7, 6, 6, 6, 6, 6, 6, 7, 6, 7]\n"
     ]
    },
    {
     "name": "stderr",
     "output_type": "stream",
     "text": [
      "\n"
     ]
    }
   ],
   "source": [
    "qc = QuantumCircuit(3)\n",
    "qc.ccx(0, 1, 2)\n",
    "u_toff3 = Operator(qc.reverse_bits()).data\n",
    "\n",
    "anz = Ansatz(3, 'cp', fill_layers(sequ_layer(3), 10))\n",
    "\n",
    "reg_options = {'r': 0.001,\n",
    "               'function': 'linear',\n",
    "               'ymax': 2,\n",
    "               'xmax': jnp.pi/2,\n",
    "               'plato': 0.05,\n",
    "               'num_gates': 7,\n",
    "               'angle_tolerance': 0.2,\n",
    "               'cp_mask': anz.cp_mask}\n",
    "\n",
    "key = random.PRNGKey(2)\n",
    "num_samples = 50\n",
    "\n",
    "successful_results, failed_results = cp_decompose(u_toff3, \n",
    "                                               anz,\n",
    "                                               regularization_options=reg_options,\n",
    "                                               num_samples=num_samples, \n",
    "                                               key=key,\n",
    "                                               disc_func=disc2,\n",
    "                                               cp_dist='uniform',\n",
    "                                               save_raw_results=True,\n",
    "                                               save_successful_results=False,\n",
    "                                               save_to='toff3_connected')"
   ]
  },
  {
   "cell_type": "code",
   "execution_count": 81,
   "id": "5dc0fbb0-348f-4b74-aea2-2e1bf08b89c8",
   "metadata": {},
   "outputs": [
    {
     "name": "stdout",
     "output_type": "stream",
     "text": [
      "\n",
      "Computing raw results.\n"
     ]
    },
    {
     "name": "stderr",
     "output_type": "stream",
     "text": [
      "100%|██████████| 50/50 [01:31<00:00,  1.84s/it]\n"
     ]
    },
    {
     "name": "stdout",
     "output_type": "stream",
     "text": [
      "\n",
      "Selecting prospective results:\n"
     ]
    },
    {
     "name": "stderr",
     "output_type": "stream",
     "text": [
      "50it [00:00, 106.98it/s]\n"
     ]
    },
    {
     "name": "stdout",
     "output_type": "stream",
     "text": [
      "2 found.\n",
      "\n",
      "Verifying prospective results:\n"
     ]
    },
    {
     "name": "stderr",
     "output_type": "stream",
     "text": [
      "100%|██████████| 2/2 [00:22<00:00, 11.14s/it]"
     ]
    },
    {
     "name": "stdout",
     "output_type": "stream",
     "text": [
      "2 successful.\n",
      "cz counts are:\n",
      "[7, 7]\n"
     ]
    },
    {
     "name": "stderr",
     "output_type": "stream",
     "text": [
      "\n"
     ]
    }
   ],
   "source": [
    "qc = QuantumCircuit(3)\n",
    "qc.ccx(0, 1, 2)\n",
    "u_toff3 = Operator(qc.reverse_bits()).data\n",
    "\n",
    "anz = Ansatz(3, 'cp', fill_layers(sequ_layer(3), 10))\n",
    "\n",
    "reg_options = {'r': 1,\n",
    "               'function': 'linear',\n",
    "               'ymax': 2,\n",
    "               'xmax': jnp.pi/2,\n",
    "               'plato': 0.05,\n",
    "               'num_gates': 7,\n",
    "               'angle_tolerance': 0.2,\n",
    "               'cp_mask': anz.cp_mask}\n",
    "\n",
    "key = random.PRNGKey(2)\n",
    "num_samples = 50\n",
    "\n",
    "successful_results, failed_results = cp_decompose(u_toff3, \n",
    "                                               anz,\n",
    "                                               regularization_options=reg_options,\n",
    "                                               num_samples=num_samples, \n",
    "                                               key=key,\n",
    "                                               disc_func=disc2,\n",
    "                                               cp_dist='uniform',\n",
    "                                               save_raw_results=True,\n",
    "                                               save_successful_results=False,\n",
    "                                               save_to='toff3_connected')"
   ]
  },
  {
   "cell_type": "code",
   "execution_count": 82,
   "id": "189b9260-b1dc-47bd-9cbe-87c7da8a4ead",
   "metadata": {},
   "outputs": [
    {
     "name": "stdout",
     "output_type": "stream",
     "text": [
      "\n",
      "Computing raw results.\n"
     ]
    },
    {
     "name": "stderr",
     "output_type": "stream",
     "text": [
      "100%|██████████| 50/50 [01:39<00:00,  1.99s/it]\n"
     ]
    },
    {
     "name": "stdout",
     "output_type": "stream",
     "text": [
      "\n",
      "Selecting prospective results:\n"
     ]
    },
    {
     "name": "stderr",
     "output_type": "stream",
     "text": [
      "50it [00:00, 56.24it/s]\n"
     ]
    },
    {
     "name": "stdout",
     "output_type": "stream",
     "text": [
      "29 found.\n",
      "\n",
      "Verifying prospective results:\n"
     ]
    },
    {
     "name": "stderr",
     "output_type": "stream",
     "text": [
      "100%|██████████| 29/29 [05:04<00:00, 10.49s/it]"
     ]
    },
    {
     "name": "stdout",
     "output_type": "stream",
     "text": [
      "27 successful.\n",
      "cz counts are:\n",
      "[8, 8, 9, 8, 8, 9, 8, 9, 8, 9, 9, 8, 9, 8, 9, 9, 9, 8, 9, 8, 8, 9, 9, 9, 9, 9, 8]\n"
     ]
    },
    {
     "name": "stderr",
     "output_type": "stream",
     "text": [
      "\n"
     ]
    }
   ],
   "source": [
    "qc = QuantumCircuit(3)\n",
    "qc.ccx(0, 1, 2)\n",
    "u_toff3 = Operator(qc.reverse_bits()).data\n",
    "\n",
    "anz = Ansatz(3, 'cp', fill_layers(chain_layer(3), 15))\n",
    "\n",
    "reg_options = {'r': 0.001,\n",
    "               'function': 'linear',\n",
    "               'ymax': 2,\n",
    "               'xmax': jnp.pi/2,\n",
    "               'plato': 0.05,\n",
    "               'num_gates': 9,\n",
    "               'angle_tolerance': 0.2,\n",
    "               'cp_mask': anz.cp_mask}\n",
    "\n",
    "key = random.PRNGKey(2)\n",
    "num_samples = 50\n",
    "\n",
    "successful_results, failed_results = cp_decompose(u_toff3, \n",
    "                                               anz,\n",
    "                                               regularization_options=reg_options,\n",
    "                                               num_samples=num_samples, \n",
    "                                               key=key,\n",
    "                                               disc_func=disc2,\n",
    "                                               cp_dist='uniform',\n",
    "                                               save_raw_results=True,\n",
    "                                               save_successful_results=False,\n",
    "                                               save_to='toff3_chain')"
   ]
  },
  {
   "cell_type": "code",
   "execution_count": 84,
   "id": "9c70be6c-f998-4d28-835f-23986d982fde",
   "metadata": {},
   "outputs": [
    {
     "name": "stdout",
     "output_type": "stream",
     "text": [
      "\n",
      "Computing raw results.\n"
     ]
    },
    {
     "name": "stderr",
     "output_type": "stream",
     "text": [
      "100%|██████████| 50/50 [01:53<00:00,  2.27s/it]\n"
     ]
    },
    {
     "name": "stdout",
     "output_type": "stream",
     "text": [
      "\n",
      "Selecting prospective results:\n"
     ]
    },
    {
     "name": "stderr",
     "output_type": "stream",
     "text": [
      "50it [00:00, 58.32it/s]\n"
     ]
    },
    {
     "name": "stdout",
     "output_type": "stream",
     "text": [
      "4 found.\n",
      "\n",
      "Verifying prospective results:\n"
     ]
    },
    {
     "name": "stderr",
     "output_type": "stream",
     "text": [
      "100%|██████████| 4/4 [00:48<00:00, 12.20s/it]"
     ]
    },
    {
     "name": "stdout",
     "output_type": "stream",
     "text": [
      "4 successful.\n",
      "cz counts are:\n",
      "[9, 9, 9, 9]\n"
     ]
    },
    {
     "name": "stderr",
     "output_type": "stream",
     "text": [
      "\n"
     ]
    }
   ],
   "source": [
    "qc = QuantumCircuit(3)\n",
    "qc.ccx(0, 1, 2)\n",
    "u_toff3 = Operator(qc.reverse_bits()).data\n",
    "\n",
    "anz = Ansatz(3, 'cp', fill_layers(chain_layer(3), 15))\n",
    "\n",
    "reg_options = {'r': 1,\n",
    "               'function': 'linear',\n",
    "               'ymax': 2,\n",
    "               'xmax': jnp.pi/2,\n",
    "               'plato': 0.05,\n",
    "               'num_gates': 9,\n",
    "               'angle_tolerance': 0.2,\n",
    "               'cp_mask': anz.cp_mask}\n",
    "\n",
    "key = random.PRNGKey(2)\n",
    "num_samples = 50\n",
    "\n",
    "successful_results, failed_results = cp_decompose(u_toff3, \n",
    "                                               anz,\n",
    "                                               regularization_options=reg_options,\n",
    "                                               num_samples=num_samples, \n",
    "                                               key=key,\n",
    "                                               disc_func=disc2,\n",
    "                                               cp_dist='uniform',\n",
    "                                               save_raw_results=True,\n",
    "                                               save_successful_results=False,\n",
    "                                               save_to='toff3_chain')"
   ]
  },
  {
   "cell_type": "code",
   "execution_count": 85,
   "id": "6bae0536-53f3-4081-93aa-3fcc46d5b7f8",
   "metadata": {},
   "outputs": [],
   "source": [
    "with open('data/toff3_chain_raw_results.pickle', 'rb') as f:\n",
    "    raw_results = pickle.load(f)"
   ]
  },
  {
   "cell_type": "code",
   "execution_count": 113,
   "id": "a57c8941-e070-4b6c-8f4e-9e054f26c6cc",
   "metadata": {},
   "outputs": [
    {
     "name": "stdout",
     "output_type": "stream",
     "text": [
      "cz count: 7\n",
      "fidelity at this count: 0.14658695459365845\n"
     ]
    },
    {
     "data": {
      "image/png": "[encoded data removed]",
      "text/plain": [
       "<Figure size 432x288 with 1 Axes>"
      ]
     },
     "metadata": {
      "needs_background": "light"
     },
     "output_type": "display_data"
    }
   ],
   "source": [
    "_ = report_cp_learning(raw_results[27], anz.cp_mask)"
   ]
  },
  {
   "cell_type": "markdown",
   "id": "84265e48-6488-4ee8-ae0c-47c6182b59ed",
   "metadata": {
    "tags": []
   },
   "source": [
    "# Toffoli 4"
   ]
  },
  {
   "cell_type": "code",
   "execution_count": 3,
   "id": "df78603b-b668-4f58-b9cc-81f5e8a36148",
   "metadata": {},
   "outputs": [
    {
     "name": "stdout",
     "output_type": "stream",
     "text": [
      "\n",
      "Batch 1 out of 10\n",
      "r is 0.008\n",
      "\n",
      "Computing raw results.\n"
     ]
    },
    {
     "name": "stderr",
     "output_type": "stream",
     "text": [
      "100%|██████████| 100/100 [03:23<00:00,  2.03s/it]\n"
     ]
    },
    {
     "name": "stdout",
     "output_type": "stream",
     "text": [
      "\n",
      "Selecting prospective results:\n"
     ]
    },
    {
     "name": "stderr",
     "output_type": "stream",
     "text": [
      "100it [00:01, 52.28it/s]\n"
     ]
    },
    {
     "name": "stdout",
     "output_type": "stream",
     "text": [
      "1 found.\n",
      "\n",
      "Verifying prospective results:\n"
     ]
    },
    {
     "name": "stderr",
     "output_type": "stream",
     "text": [
      "100%|██████████| 1/1 [00:21<00:00, 21.80s/it]\n"
     ]
    },
    {
     "name": "stdout",
     "output_type": "stream",
     "text": [
      "1 successful.\n",
      "cz counts are:\n",
      "[16]\n",
      "\n",
      "Batch 2 out of 10\n",
      "r is 0.0064\n",
      "\n",
      "Computing raw results.\n"
     ]
    },
    {
     "name": "stderr",
     "output_type": "stream",
     "text": [
      "100%|██████████| 100/100 [03:36<00:00,  2.17s/it]\n"
     ]
    },
    {
     "name": "stdout",
     "output_type": "stream",
     "text": [
      "\n",
      "Selecting prospective results:\n"
     ]
    },
    {
     "name": "stderr",
     "output_type": "stream",
     "text": [
      "100it [00:01, 55.31it/s]\n"
     ]
    },
    {
     "name": "stdout",
     "output_type": "stream",
     "text": [
      "1 found.\n",
      "\n",
      "Verifying prospective results:\n"
     ]
    },
    {
     "name": "stderr",
     "output_type": "stream",
     "text": [
      "100%|██████████| 1/1 [00:22<00:00, 22.18s/it]\n"
     ]
    },
    {
     "name": "stdout",
     "output_type": "stream",
     "text": [
      "1 successful.\n",
      "cz counts are:\n",
      "[18]\n",
      "\n",
      "Batch 3 out of 10\n",
      "r is 0.00512\n",
      "\n",
      "Computing raw results.\n"
     ]
    },
    {
     "name": "stderr",
     "output_type": "stream",
     "text": [
      "100%|██████████| 100/100 [03:18<00:00,  1.98s/it]\n"
     ]
    },
    {
     "name": "stdout",
     "output_type": "stream",
     "text": [
      "\n",
      "Selecting prospective results:\n"
     ]
    },
    {
     "name": "stderr",
     "output_type": "stream",
     "text": [
      "100it [00:01, 57.68it/s]\n"
     ]
    },
    {
     "name": "stdout",
     "output_type": "stream",
     "text": [
      "4 found.\n",
      "\n",
      "Verifying prospective results:\n"
     ]
    },
    {
     "name": "stderr",
     "output_type": "stream",
     "text": [
      "100%|██████████| 4/4 [01:23<00:00, 20.87s/it]\n"
     ]
    },
    {
     "name": "stdout",
     "output_type": "stream",
     "text": [
      "4 successful.\n",
      "cz counts are:\n",
      "[18, 18, 17, 17]\n",
      "\n",
      "Batch 4 out of 10\n",
      "r is 0.006144\n",
      "\n",
      "Computing raw results.\n"
     ]
    },
    {
     "name": "stderr",
     "output_type": "stream",
     "text": [
      "100%|██████████| 100/100 [03:18<00:00,  1.98s/it]\n"
     ]
    },
    {
     "name": "stdout",
     "output_type": "stream",
     "text": [
      "\n",
      "Selecting prospective results:\n"
     ]
    },
    {
     "name": "stderr",
     "output_type": "stream",
     "text": [
      "100it [00:01, 56.77it/s]\n"
     ]
    },
    {
     "name": "stdout",
     "output_type": "stream",
     "text": [
      "2 found.\n",
      "\n",
      "Verifying prospective results:\n"
     ]
    },
    {
     "name": "stderr",
     "output_type": "stream",
     "text": [
      "100%|██████████| 2/2 [00:40<00:00, 20.31s/it]\n"
     ]
    },
    {
     "name": "stdout",
     "output_type": "stream",
     "text": [
      "2 successful.\n",
      "cz counts are:\n",
      "[18, 18]\n",
      "\n",
      "Batch 5 out of 10\n",
      "r is 0.004915200000000001\n",
      "\n",
      "Computing raw results.\n"
     ]
    },
    {
     "name": "stderr",
     "output_type": "stream",
     "text": [
      " 18%|█▊        | 18/100 [00:54<04:08,  3.03s/it]\n"
     ]
    },
    {
     "ename": "KeyboardInterrupt",
     "evalue": "",
     "output_type": "error",
     "traceback": [
      "\u001b[0;31m---------------------------------------------------------------------------\u001b[0m",
      "\u001b[0;31mKeyboardInterrupt\u001b[0m                         Traceback (most recent call last)",
      "\u001b[0;32m<ipython-input-3-1725b722c4bf>\u001b[0m in \u001b[0;36m<module>\u001b[0;34m\u001b[0m\n\u001b[1;32m     19\u001b[0m \u001b[0mnum_batches\u001b[0m \u001b[0;34m=\u001b[0m \u001b[0;36m10\u001b[0m\u001b[0;34m\u001b[0m\u001b[0;34m\u001b[0m\u001b[0m\n\u001b[1;32m     20\u001b[0m \u001b[0;34m\u001b[0m\u001b[0m\n\u001b[0;32m---> 21\u001b[0;31m cp_decompose_smart(u_toff4, \n\u001b[0m\u001b[1;32m     22\u001b[0m                    \u001b[0manz\u001b[0m\u001b[0;34m,\u001b[0m\u001b[0;34m\u001b[0m\u001b[0;34m\u001b[0m\u001b[0m\n\u001b[1;32m     23\u001b[0m                    \u001b[0mregularization_options\u001b[0m\u001b[0;34m=\u001b[0m\u001b[0mreg_options\u001b[0m\u001b[0;34m,\u001b[0m\u001b[0;34m\u001b[0m\u001b[0;34m\u001b[0m\u001b[0m\n",
      "\u001b[0;32m<ipython-input-2-884bdeb4e711>\u001b[0m in \u001b[0;36mcp_decompose_smart\u001b[0;34m(u_target, anz, regularization_options, disc_func, num_samples, key, entry_loss, threshold_loss, threshold_cp, cp_dist, save_to, num_batches, r_increment, disc_equlibrium)\u001b[0m\n\u001b[1;32m     19\u001b[0m         \u001b[0mprint\u001b[0m\u001b[0;34m(\u001b[0m\u001b[0;34mf\"r is {regularization_options['r']}\"\u001b[0m\u001b[0;34m)\u001b[0m\u001b[0;34m\u001b[0m\u001b[0;34m\u001b[0m\u001b[0m\n\u001b[1;32m     20\u001b[0m         \u001b[0mkey\u001b[0m\u001b[0;34m,\u001b[0m \u001b[0msubkey\u001b[0m \u001b[0;34m=\u001b[0m \u001b[0mrandom\u001b[0m\u001b[0;34m.\u001b[0m\u001b[0msplit\u001b[0m\u001b[0;34m(\u001b[0m\u001b[0mkey\u001b[0m\u001b[0;34m)\u001b[0m\u001b[0;34m\u001b[0m\u001b[0;34m\u001b[0m\u001b[0m\n\u001b[0;32m---> 21\u001b[0;31m         successful_results, failed_results, cz_successes, disc_successes = cp_decompose(\n\u001b[0m\u001b[1;32m     22\u001b[0m                      \u001b[0mu_target\u001b[0m\u001b[0;34m,\u001b[0m\u001b[0;34m\u001b[0m\u001b[0;34m\u001b[0m\u001b[0m\n\u001b[1;32m     23\u001b[0m                      \u001b[0manz\u001b[0m\u001b[0;34m,\u001b[0m\u001b[0;34m\u001b[0m\u001b[0;34m\u001b[0m\u001b[0m\n",
      "\u001b[0;32m~/Programming projects/jax_circuits/cp_utils.py\u001b[0m in \u001b[0;36mcp_decompose\u001b[0;34m(u_target, anz, regularization_options, disc_func, num_samples, key, entry_loss, threshold_loss, threshold_cp, cp_dist, save_successful_results, save_raw_results, save_to, report_successes)\u001b[0m\n\u001b[1;32m    294\u001b[0m \u001b[0;34m\u001b[0m\u001b[0m\n\u001b[1;32m    295\u001b[0m     \u001b[0mprint\u001b[0m\u001b[0;34m(\u001b[0m\u001b[0;34m'\\nComputing raw results.'\u001b[0m\u001b[0;34m)\u001b[0m\u001b[0;34m\u001b[0m\u001b[0;34m\u001b[0m\u001b[0m\n\u001b[0;32m--> 296\u001b[0;31m     raw_results = anz.learn(u_target,\n\u001b[0m\u001b[1;32m    297\u001b[0m                             \u001b[0mregularization_options\u001b[0m\u001b[0;34m=\u001b[0m\u001b[0mregularization_options\u001b[0m\u001b[0;34m,\u001b[0m\u001b[0;34m\u001b[0m\u001b[0;34m\u001b[0m\u001b[0m\n\u001b[1;32m    298\u001b[0m                             \u001b[0minitial_angles\u001b[0m\u001b[0;34m=\u001b[0m\u001b[0minitial_angles_array\u001b[0m\u001b[0;34m,\u001b[0m\u001b[0;34m\u001b[0m\u001b[0;34m\u001b[0m\u001b[0m\n",
      "\u001b[0;32m~/Programming projects/jax_circuits/jax_circuits.py\u001b[0m in \u001b[0;36mlearn\u001b[0;34m(self, u_target, method, learning_rate, target_loss, **kwargs)\u001b[0m\n\u001b[1;32m    202\u001b[0m               **kwargs):\n\u001b[1;32m    203\u001b[0m \u001b[0;34m\u001b[0m\u001b[0m\n\u001b[0;32m--> 204\u001b[0;31m         return unitary_learn(self.unitary,\n\u001b[0m\u001b[1;32m    205\u001b[0m                              \u001b[0mu_target\u001b[0m\u001b[0;34m,\u001b[0m\u001b[0;34m\u001b[0m\u001b[0;34m\u001b[0m\u001b[0m\n\u001b[1;32m    206\u001b[0m                              \u001b[0mself\u001b[0m\u001b[0;34m.\u001b[0m\u001b[0mnum_angles\u001b[0m\u001b[0;34m,\u001b[0m\u001b[0;34m\u001b[0m\u001b[0;34m\u001b[0m\u001b[0m\n",
      "\u001b[0;32m~/Programming projects/jax_circuits/optimization.py\u001b[0m in \u001b[0;36munitary_learn\u001b[0;34m(u_func, u_target, num_params, method, learning_rate, target_loss, disc_func, regularization_options, initial_angles, num_repeats, **kwargs)\u001b[0m\n\u001b[1;32m    369\u001b[0m         \u001b[0mregularization_func\u001b[0m \u001b[0;34m=\u001b[0m \u001b[0;32mlambda\u001b[0m \u001b[0mx\u001b[0m\u001b[0;34m:\u001b[0m \u001b[0;36m0\u001b[0m\u001b[0;34m\u001b[0m\u001b[0;34m\u001b[0m\u001b[0m\n\u001b[1;32m    370\u001b[0m \u001b[0;34m\u001b[0m\u001b[0m\n\u001b[0;32m--> 371\u001b[0;31m     return mynimize_repeated(loss_func,\n\u001b[0m\u001b[1;32m    372\u001b[0m                              \u001b[0mnum_params\u001b[0m\u001b[0;34m,\u001b[0m\u001b[0;34m\u001b[0m\u001b[0;34m\u001b[0m\u001b[0m\n\u001b[1;32m    373\u001b[0m                              \u001b[0mmethod\u001b[0m\u001b[0;34m=\u001b[0m\u001b[0mmethod\u001b[0m\u001b[0;34m,\u001b[0m\u001b[0;34m\u001b[0m\u001b[0;34m\u001b[0m\u001b[0m\n",
      "\u001b[0;32m~/Programming projects/jax_circuits/optimization.py\u001b[0m in \u001b[0;36mmynimize_repeated\u001b[0;34m(loss_func, num_params, method, learning_rate, target_loss, u_func, initial_params_batch, num_repeats, regularization_func, **kwargs)\u001b[0m\n\u001b[1;32m    315\u001b[0m \u001b[0;34m\u001b[0m\u001b[0m\n\u001b[1;32m    316\u001b[0m     \u001b[0;32mfor\u001b[0m \u001b[0minitial_params\u001b[0m \u001b[0;32min\u001b[0m \u001b[0mtqdm\u001b[0m\u001b[0;34m(\u001b[0m\u001b[0minitial_params_batch\u001b[0m\u001b[0;34m,\u001b[0m \u001b[0mdisable\u001b[0m\u001b[0;34m=\u001b[0m\u001b[0;34m(\u001b[0m\u001b[0;32mnot\u001b[0m \u001b[0minput_is_vector\u001b[0m\u001b[0;34m)\u001b[0m\u001b[0;34m)\u001b[0m\u001b[0;34m:\u001b[0m\u001b[0;34m\u001b[0m\u001b[0;34m\u001b[0m\u001b[0m\n\u001b[0;32m--> 317\u001b[0;31m         learn_result = mynimize(regloss_func,\n\u001b[0m\u001b[1;32m    318\u001b[0m                                 \u001b[0mnum_params\u001b[0m\u001b[0;34m,\u001b[0m\u001b[0;34m\u001b[0m\u001b[0;34m\u001b[0m\u001b[0m\n\u001b[1;32m    319\u001b[0m                                 \u001b[0mmethod\u001b[0m\u001b[0;34m=\u001b[0m\u001b[0mmethod\u001b[0m\u001b[0;34m,\u001b[0m\u001b[0;34m\u001b[0m\u001b[0;34m\u001b[0m\u001b[0m\n",
      "\u001b[0;32m~/Programming projects/jax_circuits/optimization.py\u001b[0m in \u001b[0;36mmynimize\u001b[0;34m(loss_func, num_params, method, learning_rate, opt_instance, u_func, loss_is_loss_and_grad, target_loss, **kwargs)\u001b[0m\n\u001b[1;32m    195\u001b[0m         \u001b[0;32mif\u001b[0m \u001b[0mopt_instance\u001b[0m \u001b[0;32mis\u001b[0m \u001b[0;32mNone\u001b[0m\u001b[0;34m:\u001b[0m\u001b[0;34m\u001b[0m\u001b[0;34m\u001b[0m\u001b[0m\n\u001b[1;32m    196\u001b[0m             \u001b[0mopt_instance\u001b[0m \u001b[0;34m=\u001b[0m \u001b[0moptax\u001b[0m\u001b[0;34m.\u001b[0m\u001b[0madam\u001b[0m\u001b[0;34m(\u001b[0m\u001b[0mlearning_rate\u001b[0m\u001b[0;34m)\u001b[0m\u001b[0;34m\u001b[0m\u001b[0;34m\u001b[0m\u001b[0m\n\u001b[0;32m--> 197\u001b[0;31m         angles_history, loss_history = optax_minimize(loss_func,\n\u001b[0m\u001b[1;32m    198\u001b[0m                                                       \u001b[0mnum_params\u001b[0m\u001b[0;34m,\u001b[0m\u001b[0;34m\u001b[0m\u001b[0;34m\u001b[0m\u001b[0m\n\u001b[1;32m    199\u001b[0m                                                       \u001b[0mopt_instance\u001b[0m\u001b[0;34m,\u001b[0m\u001b[0;34m\u001b[0m\u001b[0;34m\u001b[0m\u001b[0m\n",
      "\u001b[0;32m~/Programming projects/jax_circuits/optimization.py\u001b[0m in \u001b[0;36moptax_minimize\u001b[0;34m(loss_func, num_params, opt, preconditioner_func, loss_is_loss_and_grad, initial_params, num_iterations, target_loss)\u001b[0m\n\u001b[1;32m     54\u001b[0m         \u001b[0mparams_history\u001b[0m\u001b[0;34m.\u001b[0m\u001b[0mappend\u001b[0m\u001b[0;34m(\u001b[0m\u001b[0mparams\u001b[0m\u001b[0;34m)\u001b[0m\u001b[0;34m\u001b[0m\u001b[0;34m\u001b[0m\u001b[0m\n\u001b[1;32m     55\u001b[0m         \u001b[0mloss_history\u001b[0m\u001b[0;34m.\u001b[0m\u001b[0mappend\u001b[0m\u001b[0;34m(\u001b[0m\u001b[0mloss\u001b[0m\u001b[0;34m)\u001b[0m\u001b[0;34m\u001b[0m\u001b[0;34m\u001b[0m\u001b[0m\n\u001b[0;32m---> 56\u001b[0;31m         \u001b[0;32mif\u001b[0m \u001b[0mloss\u001b[0m \u001b[0;34m<\u001b[0m \u001b[0mtarget_loss\u001b[0m\u001b[0;34m:\u001b[0m\u001b[0;34m\u001b[0m\u001b[0;34m\u001b[0m\u001b[0m\n\u001b[0m\u001b[1;32m     57\u001b[0m             \u001b[0;32mbreak\u001b[0m\u001b[0;34m\u001b[0m\u001b[0;34m\u001b[0m\u001b[0m\n\u001b[1;32m     58\u001b[0m \u001b[0;34m\u001b[0m\u001b[0m\n",
      "\u001b[0;32m~/.local/lib/python3.8/site-packages/jax/_src/numpy/lax_numpy.py\u001b[0m in \u001b[0;36mdeferring_binary_op\u001b[0;34m(self, other)\u001b[0m\n\u001b[1;32m   5664\u001b[0m     \u001b[0;32mif\u001b[0m \u001b[0;32mnot\u001b[0m \u001b[0misinstance\u001b[0m\u001b[0;34m(\u001b[0m\u001b[0mother\u001b[0m\u001b[0;34m,\u001b[0m \u001b[0m_scalar_types\u001b[0m \u001b[0;34m+\u001b[0m \u001b[0m_arraylike_types\u001b[0m \u001b[0;34m+\u001b[0m \u001b[0;34m(\u001b[0m\u001b[0mcore\u001b[0m\u001b[0;34m.\u001b[0m\u001b[0mTracer\u001b[0m\u001b[0;34m,\u001b[0m\u001b[0;34m)\u001b[0m\u001b[0;34m)\u001b[0m\u001b[0;34m:\u001b[0m\u001b[0;34m\u001b[0m\u001b[0;34m\u001b[0m\u001b[0m\n\u001b[1;32m   5665\u001b[0m       \u001b[0;32mreturn\u001b[0m \u001b[0mNotImplemented\u001b[0m\u001b[0;34m\u001b[0m\u001b[0;34m\u001b[0m\u001b[0m\n\u001b[0;32m-> 5666\u001b[0;31m     \u001b[0;32mreturn\u001b[0m \u001b[0mbinary_op\u001b[0m\u001b[0;34m(\u001b[0m\u001b[0mself\u001b[0m\u001b[0;34m,\u001b[0m \u001b[0mother\u001b[0m\u001b[0;34m)\u001b[0m\u001b[0;34m\u001b[0m\u001b[0;34m\u001b[0m\u001b[0m\n\u001b[0m\u001b[1;32m   5667\u001b[0m   \u001b[0;32mreturn\u001b[0m \u001b[0mdeferring_binary_op\u001b[0m\u001b[0;34m\u001b[0m\u001b[0;34m\u001b[0m\u001b[0m\n\u001b[1;32m   5668\u001b[0m \u001b[0;34m\u001b[0m\u001b[0m\n",
      "\u001b[0;32m~/.local/lib/python3.8/site-packages/jax/_src/numpy/lax_numpy.py\u001b[0m in \u001b[0;36mfn\u001b[0;34m(x1, x2)\u001b[0m\n\u001b[1;32m    486\u001b[0m \u001b[0;32mdef\u001b[0m \u001b[0m_comparison_op\u001b[0m\u001b[0;34m(\u001b[0m\u001b[0mnumpy_fn\u001b[0m\u001b[0;34m,\u001b[0m \u001b[0mlax_fn\u001b[0m\u001b[0;34m)\u001b[0m\u001b[0;34m:\u001b[0m\u001b[0;34m\u001b[0m\u001b[0;34m\u001b[0m\u001b[0m\n\u001b[1;32m    487\u001b[0m   \u001b[0;32mdef\u001b[0m \u001b[0mfn\u001b[0m\u001b[0;34m(\u001b[0m\u001b[0mx1\u001b[0m\u001b[0;34m,\u001b[0m \u001b[0mx2\u001b[0m\u001b[0;34m)\u001b[0m\u001b[0;34m:\u001b[0m\u001b[0;34m\u001b[0m\u001b[0;34m\u001b[0m\u001b[0m\n\u001b[0;32m--> 488\u001b[0;31m     \u001b[0mx1\u001b[0m\u001b[0;34m,\u001b[0m \u001b[0mx2\u001b[0m \u001b[0;34m=\u001b[0m  \u001b[0m_promote_args\u001b[0m\u001b[0;34m(\u001b[0m\u001b[0mnumpy_fn\u001b[0m\u001b[0;34m.\u001b[0m\u001b[0m__name__\u001b[0m\u001b[0;34m,\u001b[0m \u001b[0mx1\u001b[0m\u001b[0;34m,\u001b[0m \u001b[0mx2\u001b[0m\u001b[0;34m)\u001b[0m\u001b[0;34m\u001b[0m\u001b[0;34m\u001b[0m\u001b[0m\n\u001b[0m\u001b[1;32m    489\u001b[0m     \u001b[0;31m# Comparison on complex types are defined as a lexicographic ordering on\u001b[0m\u001b[0;34m\u001b[0m\u001b[0;34m\u001b[0m\u001b[0;34m\u001b[0m\u001b[0m\n\u001b[1;32m    490\u001b[0m     \u001b[0;31m# the (real, imag) pair.\u001b[0m\u001b[0;34m\u001b[0m\u001b[0;34m\u001b[0m\u001b[0;34m\u001b[0m\u001b[0m\n",
      "\u001b[0;32m~/.local/lib/python3.8/site-packages/jax/_src/numpy/lax_numpy.py\u001b[0m in \u001b[0;36m_promote_args\u001b[0;34m(fun_name, *args)\u001b[0m\n\u001b[1;32m    320\u001b[0m   \u001b[0m_check_arraylike\u001b[0m\u001b[0;34m(\u001b[0m\u001b[0mfun_name\u001b[0m\u001b[0;34m,\u001b[0m \u001b[0;34m*\u001b[0m\u001b[0margs\u001b[0m\u001b[0;34m)\u001b[0m\u001b[0;34m\u001b[0m\u001b[0;34m\u001b[0m\u001b[0m\n\u001b[1;32m    321\u001b[0m   \u001b[0m_check_no_float0s\u001b[0m\u001b[0;34m(\u001b[0m\u001b[0mfun_name\u001b[0m\u001b[0;34m,\u001b[0m \u001b[0;34m*\u001b[0m\u001b[0margs\u001b[0m\u001b[0;34m)\u001b[0m\u001b[0;34m\u001b[0m\u001b[0;34m\u001b[0m\u001b[0m\n\u001b[0;32m--> 322\u001b[0;31m   \u001b[0;32mreturn\u001b[0m \u001b[0m_promote_shapes\u001b[0m\u001b[0;34m(\u001b[0m\u001b[0mfun_name\u001b[0m\u001b[0;34m,\u001b[0m \u001b[0;34m*\u001b[0m\u001b[0m_promote_dtypes\u001b[0m\u001b[0;34m(\u001b[0m\u001b[0;34m*\u001b[0m\u001b[0margs\u001b[0m\u001b[0;34m)\u001b[0m\u001b[0;34m)\u001b[0m\u001b[0;34m\u001b[0m\u001b[0;34m\u001b[0m\u001b[0m\n\u001b[0m\u001b[1;32m    323\u001b[0m \u001b[0;34m\u001b[0m\u001b[0m\n\u001b[1;32m    324\u001b[0m \u001b[0;32mdef\u001b[0m \u001b[0m_promote_args_inexact\u001b[0m\u001b[0;34m(\u001b[0m\u001b[0mfun_name\u001b[0m\u001b[0;34m,\u001b[0m \u001b[0;34m*\u001b[0m\u001b[0margs\u001b[0m\u001b[0;34m)\u001b[0m\u001b[0;34m:\u001b[0m\u001b[0;34m\u001b[0m\u001b[0;34m\u001b[0m\u001b[0m\n",
      "\u001b[0;32m~/.local/lib/python3.8/site-packages/jax/_src/numpy/lax_numpy.py\u001b[0m in \u001b[0;36m_promote_dtypes\u001b[0;34m(*args)\u001b[0m\n\u001b[1;32m    266\u001b[0m     \u001b[0mto_dtype\u001b[0m\u001b[0;34m,\u001b[0m \u001b[0mweak_type\u001b[0m \u001b[0;34m=\u001b[0m \u001b[0mdtypes\u001b[0m\u001b[0;34m.\u001b[0m\u001b[0m_lattice_result_type\u001b[0m\u001b[0;34m(\u001b[0m\u001b[0;34m*\u001b[0m\u001b[0margs\u001b[0m\u001b[0;34m)\u001b[0m\u001b[0;34m\u001b[0m\u001b[0;34m\u001b[0m\u001b[0m\n\u001b[1;32m    267\u001b[0m     \u001b[0mto_dtype\u001b[0m \u001b[0;34m=\u001b[0m \u001b[0mdtypes\u001b[0m\u001b[0;34m.\u001b[0m\u001b[0mcanonicalize_dtype\u001b[0m\u001b[0;34m(\u001b[0m\u001b[0mto_dtype\u001b[0m\u001b[0;34m)\u001b[0m\u001b[0;34m\u001b[0m\u001b[0;34m\u001b[0m\u001b[0m\n\u001b[0;32m--> 268\u001b[0;31m     \u001b[0;32mreturn\u001b[0m \u001b[0;34m[\u001b[0m\u001b[0mlax\u001b[0m\u001b[0;34m.\u001b[0m\u001b[0m_convert_element_type\u001b[0m\u001b[0;34m(\u001b[0m\u001b[0mx\u001b[0m\u001b[0;34m,\u001b[0m \u001b[0mto_dtype\u001b[0m\u001b[0;34m,\u001b[0m \u001b[0mweak_type\u001b[0m\u001b[0;34m)\u001b[0m \u001b[0;32mfor\u001b[0m \u001b[0mx\u001b[0m \u001b[0;32min\u001b[0m \u001b[0margs\u001b[0m\u001b[0;34m]\u001b[0m\u001b[0;34m\u001b[0m\u001b[0;34m\u001b[0m\u001b[0m\n\u001b[0m\u001b[1;32m    269\u001b[0m \u001b[0;34m\u001b[0m\u001b[0m\n\u001b[1;32m    270\u001b[0m \u001b[0;32mdef\u001b[0m \u001b[0m_promote_dtypes_inexact\u001b[0m\u001b[0;34m(\u001b[0m\u001b[0;34m*\u001b[0m\u001b[0margs\u001b[0m\u001b[0;34m)\u001b[0m\u001b[0;34m:\u001b[0m\u001b[0;34m\u001b[0m\u001b[0;34m\u001b[0m\u001b[0m\n",
      "\u001b[0;32m~/.local/lib/python3.8/site-packages/jax/_src/numpy/lax_numpy.py\u001b[0m in \u001b[0;36m<listcomp>\u001b[0;34m(.0)\u001b[0m\n\u001b[1;32m    266\u001b[0m     \u001b[0mto_dtype\u001b[0m\u001b[0;34m,\u001b[0m \u001b[0mweak_type\u001b[0m \u001b[0;34m=\u001b[0m \u001b[0mdtypes\u001b[0m\u001b[0;34m.\u001b[0m\u001b[0m_lattice_result_type\u001b[0m\u001b[0;34m(\u001b[0m\u001b[0;34m*\u001b[0m\u001b[0margs\u001b[0m\u001b[0;34m)\u001b[0m\u001b[0;34m\u001b[0m\u001b[0;34m\u001b[0m\u001b[0m\n\u001b[1;32m    267\u001b[0m     \u001b[0mto_dtype\u001b[0m \u001b[0;34m=\u001b[0m \u001b[0mdtypes\u001b[0m\u001b[0;34m.\u001b[0m\u001b[0mcanonicalize_dtype\u001b[0m\u001b[0;34m(\u001b[0m\u001b[0mto_dtype\u001b[0m\u001b[0;34m)\u001b[0m\u001b[0;34m\u001b[0m\u001b[0;34m\u001b[0m\u001b[0m\n\u001b[0;32m--> 268\u001b[0;31m     \u001b[0;32mreturn\u001b[0m \u001b[0;34m[\u001b[0m\u001b[0mlax\u001b[0m\u001b[0;34m.\u001b[0m\u001b[0m_convert_element_type\u001b[0m\u001b[0;34m(\u001b[0m\u001b[0mx\u001b[0m\u001b[0;34m,\u001b[0m \u001b[0mto_dtype\u001b[0m\u001b[0;34m,\u001b[0m \u001b[0mweak_type\u001b[0m\u001b[0;34m)\u001b[0m \u001b[0;32mfor\u001b[0m \u001b[0mx\u001b[0m \u001b[0;32min\u001b[0m \u001b[0margs\u001b[0m\u001b[0;34m]\u001b[0m\u001b[0;34m\u001b[0m\u001b[0;34m\u001b[0m\u001b[0m\n\u001b[0m\u001b[1;32m    269\u001b[0m \u001b[0;34m\u001b[0m\u001b[0m\n\u001b[1;32m    270\u001b[0m \u001b[0;32mdef\u001b[0m \u001b[0m_promote_dtypes_inexact\u001b[0m\u001b[0;34m(\u001b[0m\u001b[0;34m*\u001b[0m\u001b[0margs\u001b[0m\u001b[0;34m)\u001b[0m\u001b[0;34m:\u001b[0m\u001b[0;34m\u001b[0m\u001b[0;34m\u001b[0m\u001b[0m\n",
      "\u001b[0;32m~/.local/lib/python3.8/site-packages/jax/_src/lax/lax.py\u001b[0m in \u001b[0;36m_convert_element_type\u001b[0;34m(operand, new_dtype, weak_type)\u001b[0m\n\u001b[1;32m    452\u001b[0m     \u001b[0;32mreturn\u001b[0m \u001b[0moperand\u001b[0m\u001b[0;34m\u001b[0m\u001b[0;34m\u001b[0m\u001b[0m\n\u001b[1;32m    453\u001b[0m   \u001b[0;32melse\u001b[0m\u001b[0;34m:\u001b[0m\u001b[0;34m\u001b[0m\u001b[0;34m\u001b[0m\u001b[0m\n\u001b[0;32m--> 454\u001b[0;31m     return convert_element_type_p.bind(operand, new_dtype=new_dtype,\n\u001b[0m\u001b[1;32m    455\u001b[0m                                        weak_type=new_weak_type)\n\u001b[1;32m    456\u001b[0m \u001b[0;34m\u001b[0m\u001b[0m\n",
      "\u001b[0;32m~/.local/lib/python3.8/site-packages/jax/core.py\u001b[0m in \u001b[0;36mbind\u001b[0;34m(self, *args, **params)\u001b[0m\n\u001b[1;32m    262\u001b[0m         args, used_axis_names(self, params) if self._dispatch_on_params else None)\n\u001b[1;32m    263\u001b[0m     \u001b[0mtracers\u001b[0m \u001b[0;34m=\u001b[0m \u001b[0mmap\u001b[0m\u001b[0;34m(\u001b[0m\u001b[0mtop_trace\u001b[0m\u001b[0;34m.\u001b[0m\u001b[0mfull_raise\u001b[0m\u001b[0;34m,\u001b[0m \u001b[0margs\u001b[0m\u001b[0;34m)\u001b[0m\u001b[0;34m\u001b[0m\u001b[0;34m\u001b[0m\u001b[0m\n\u001b[0;32m--> 264\u001b[0;31m     \u001b[0mout\u001b[0m \u001b[0;34m=\u001b[0m \u001b[0mtop_trace\u001b[0m\u001b[0;34m.\u001b[0m\u001b[0mprocess_primitive\u001b[0m\u001b[0;34m(\u001b[0m\u001b[0mself\u001b[0m\u001b[0;34m,\u001b[0m \u001b[0mtracers\u001b[0m\u001b[0;34m,\u001b[0m \u001b[0mparams\u001b[0m\u001b[0;34m)\u001b[0m\u001b[0;34m\u001b[0m\u001b[0;34m\u001b[0m\u001b[0m\n\u001b[0m\u001b[1;32m    265\u001b[0m     \u001b[0;32mreturn\u001b[0m \u001b[0mmap\u001b[0m\u001b[0;34m(\u001b[0m\u001b[0mfull_lower\u001b[0m\u001b[0;34m,\u001b[0m \u001b[0mout\u001b[0m\u001b[0;34m)\u001b[0m \u001b[0;32mif\u001b[0m \u001b[0mself\u001b[0m\u001b[0;34m.\u001b[0m\u001b[0mmultiple_results\u001b[0m \u001b[0;32melse\u001b[0m \u001b[0mfull_lower\u001b[0m\u001b[0;34m(\u001b[0m\u001b[0mout\u001b[0m\u001b[0;34m)\u001b[0m\u001b[0;34m\u001b[0m\u001b[0;34m\u001b[0m\u001b[0m\n\u001b[1;32m    266\u001b[0m \u001b[0;34m\u001b[0m\u001b[0m\n",
      "\u001b[0;32m~/.local/lib/python3.8/site-packages/jax/core.py\u001b[0m in \u001b[0;36mprocess_primitive\u001b[0;34m(self, primitive, tracers, params)\u001b[0m\n\u001b[1;32m    604\u001b[0m \u001b[0;34m\u001b[0m\u001b[0m\n\u001b[1;32m    605\u001b[0m   \u001b[0;32mdef\u001b[0m \u001b[0mprocess_primitive\u001b[0m\u001b[0;34m(\u001b[0m\u001b[0mself\u001b[0m\u001b[0;34m,\u001b[0m \u001b[0mprimitive\u001b[0m\u001b[0;34m,\u001b[0m \u001b[0mtracers\u001b[0m\u001b[0;34m,\u001b[0m \u001b[0mparams\u001b[0m\u001b[0;34m)\u001b[0m\u001b[0;34m:\u001b[0m\u001b[0;34m\u001b[0m\u001b[0;34m\u001b[0m\u001b[0m\n\u001b[0;32m--> 606\u001b[0;31m     \u001b[0;32mreturn\u001b[0m \u001b[0mprimitive\u001b[0m\u001b[0;34m.\u001b[0m\u001b[0mimpl\u001b[0m\u001b[0;34m(\u001b[0m\u001b[0;34m*\u001b[0m\u001b[0mtracers\u001b[0m\u001b[0;34m,\u001b[0m \u001b[0;34m**\u001b[0m\u001b[0mparams\u001b[0m\u001b[0;34m)\u001b[0m\u001b[0;34m\u001b[0m\u001b[0;34m\u001b[0m\u001b[0m\n\u001b[0m\u001b[1;32m    607\u001b[0m \u001b[0;34m\u001b[0m\u001b[0m\n\u001b[1;32m    608\u001b[0m   \u001b[0;32mdef\u001b[0m \u001b[0mprocess_call\u001b[0m\u001b[0;34m(\u001b[0m\u001b[0mself\u001b[0m\u001b[0;34m,\u001b[0m \u001b[0mprimitive\u001b[0m\u001b[0;34m,\u001b[0m \u001b[0mf\u001b[0m\u001b[0;34m,\u001b[0m \u001b[0mtracers\u001b[0m\u001b[0;34m,\u001b[0m \u001b[0mparams\u001b[0m\u001b[0;34m)\u001b[0m\u001b[0;34m:\u001b[0m\u001b[0;34m\u001b[0m\u001b[0;34m\u001b[0m\u001b[0m\n",
      "\u001b[0;32m~/.local/lib/python3.8/site-packages/jax/interpreters/xla.py\u001b[0m in \u001b[0;36mapply_primitive\u001b[0;34m(prim, *args, **params)\u001b[0m\n\u001b[1;32m    230\u001b[0m   \u001b[0;34m\"\"\"Impl rule that compiles and runs a single primitive 'prim' using XLA.\"\"\"\u001b[0m\u001b[0;34m\u001b[0m\u001b[0;34m\u001b[0m\u001b[0m\n\u001b[1;32m    231\u001b[0m   \u001b[0mcompiled_fun\u001b[0m \u001b[0;34m=\u001b[0m \u001b[0mxla_primitive_callable\u001b[0m\u001b[0;34m(\u001b[0m\u001b[0mprim\u001b[0m\u001b[0;34m,\u001b[0m \u001b[0;34m*\u001b[0m\u001b[0munsafe_map\u001b[0m\u001b[0;34m(\u001b[0m\u001b[0marg_spec\u001b[0m\u001b[0;34m,\u001b[0m \u001b[0margs\u001b[0m\u001b[0;34m)\u001b[0m\u001b[0;34m,\u001b[0m \u001b[0;34m**\u001b[0m\u001b[0mparams\u001b[0m\u001b[0;34m)\u001b[0m\u001b[0;34m\u001b[0m\u001b[0;34m\u001b[0m\u001b[0m\n\u001b[0;32m--> 232\u001b[0;31m   \u001b[0;32mreturn\u001b[0m \u001b[0mcompiled_fun\u001b[0m\u001b[0;34m(\u001b[0m\u001b[0;34m*\u001b[0m\u001b[0margs\u001b[0m\u001b[0;34m)\u001b[0m\u001b[0;34m\u001b[0m\u001b[0;34m\u001b[0m\u001b[0m\n\u001b[0m\u001b[1;32m    233\u001b[0m \u001b[0;34m\u001b[0m\u001b[0m\n\u001b[1;32m    234\u001b[0m \u001b[0;34m\u001b[0m\u001b[0m\n",
      "\u001b[0;32m~/.local/lib/python3.8/site-packages/jax/interpreters/xla.py\u001b[0m in \u001b[0;36m_execute_compiled_primitive\u001b[0;34m(prim, compiled, result_handler, *args)\u001b[0m\n\u001b[1;32m    347\u001b[0m \u001b[0;32mdef\u001b[0m \u001b[0m_execute_compiled_primitive\u001b[0m\u001b[0;34m(\u001b[0m\u001b[0mprim\u001b[0m\u001b[0;34m,\u001b[0m \u001b[0mcompiled\u001b[0m\u001b[0;34m,\u001b[0m \u001b[0mresult_handler\u001b[0m\u001b[0;34m,\u001b[0m \u001b[0;34m*\u001b[0m\u001b[0margs\u001b[0m\u001b[0;34m)\u001b[0m\u001b[0;34m:\u001b[0m\u001b[0;34m\u001b[0m\u001b[0;34m\u001b[0m\u001b[0m\n\u001b[1;32m    348\u001b[0m   \u001b[0mdevice\u001b[0m\u001b[0;34m,\u001b[0m \u001b[0;34m=\u001b[0m \u001b[0mcompiled\u001b[0m\u001b[0;34m.\u001b[0m\u001b[0mlocal_devices\u001b[0m\u001b[0;34m(\u001b[0m\u001b[0;34m)\u001b[0m\u001b[0;34m\u001b[0m\u001b[0;34m\u001b[0m\u001b[0m\n\u001b[0;32m--> 349\u001b[0;31m   \u001b[0minput_bufs\u001b[0m \u001b[0;34m=\u001b[0m \u001b[0mlist\u001b[0m\u001b[0;34m(\u001b[0m\u001b[0mit\u001b[0m\u001b[0;34m.\u001b[0m\u001b[0mchain\u001b[0m\u001b[0;34m.\u001b[0m\u001b[0mfrom_iterable\u001b[0m\u001b[0;34m(\u001b[0m\u001b[0mdevice_put\u001b[0m\u001b[0;34m(\u001b[0m\u001b[0mx\u001b[0m\u001b[0;34m,\u001b[0m \u001b[0mdevice\u001b[0m\u001b[0;34m)\u001b[0m \u001b[0;32mfor\u001b[0m \u001b[0mx\u001b[0m \u001b[0;32min\u001b[0m \u001b[0margs\u001b[0m \u001b[0;32mif\u001b[0m \u001b[0mx\u001b[0m \u001b[0;32mis\u001b[0m \u001b[0;32mnot\u001b[0m \u001b[0mtoken\u001b[0m\u001b[0;34m)\u001b[0m\u001b[0;34m)\u001b[0m\u001b[0;34m\u001b[0m\u001b[0;34m\u001b[0m\u001b[0m\n\u001b[0m\u001b[1;32m    350\u001b[0m   \u001b[0mout_bufs\u001b[0m \u001b[0;34m=\u001b[0m \u001b[0mcompiled\u001b[0m\u001b[0;34m.\u001b[0m\u001b[0mexecute\u001b[0m\u001b[0;34m(\u001b[0m\u001b[0minput_bufs\u001b[0m\u001b[0;34m)\u001b[0m\u001b[0;34m\u001b[0m\u001b[0;34m\u001b[0m\u001b[0m\n\u001b[1;32m    351\u001b[0m   \u001b[0mcheck_special\u001b[0m\u001b[0;34m(\u001b[0m\u001b[0mprim\u001b[0m\u001b[0;34m.\u001b[0m\u001b[0mname\u001b[0m\u001b[0;34m,\u001b[0m \u001b[0mout_bufs\u001b[0m\u001b[0;34m)\u001b[0m\u001b[0;34m\u001b[0m\u001b[0;34m\u001b[0m\u001b[0m\n",
      "\u001b[0;32m~/.local/lib/python3.8/site-packages/jax/interpreters/xla.py\u001b[0m in \u001b[0;36m<genexpr>\u001b[0;34m(.0)\u001b[0m\n\u001b[1;32m    347\u001b[0m \u001b[0;32mdef\u001b[0m \u001b[0m_execute_compiled_primitive\u001b[0m\u001b[0;34m(\u001b[0m\u001b[0mprim\u001b[0m\u001b[0;34m,\u001b[0m \u001b[0mcompiled\u001b[0m\u001b[0;34m,\u001b[0m \u001b[0mresult_handler\u001b[0m\u001b[0;34m,\u001b[0m \u001b[0;34m*\u001b[0m\u001b[0margs\u001b[0m\u001b[0;34m)\u001b[0m\u001b[0;34m:\u001b[0m\u001b[0;34m\u001b[0m\u001b[0;34m\u001b[0m\u001b[0m\n\u001b[1;32m    348\u001b[0m   \u001b[0mdevice\u001b[0m\u001b[0;34m,\u001b[0m \u001b[0;34m=\u001b[0m \u001b[0mcompiled\u001b[0m\u001b[0;34m.\u001b[0m\u001b[0mlocal_devices\u001b[0m\u001b[0;34m(\u001b[0m\u001b[0;34m)\u001b[0m\u001b[0;34m\u001b[0m\u001b[0;34m\u001b[0m\u001b[0m\n\u001b[0;32m--> 349\u001b[0;31m   \u001b[0minput_bufs\u001b[0m \u001b[0;34m=\u001b[0m \u001b[0mlist\u001b[0m\u001b[0;34m(\u001b[0m\u001b[0mit\u001b[0m\u001b[0;34m.\u001b[0m\u001b[0mchain\u001b[0m\u001b[0;34m.\u001b[0m\u001b[0mfrom_iterable\u001b[0m\u001b[0;34m(\u001b[0m\u001b[0mdevice_put\u001b[0m\u001b[0;34m(\u001b[0m\u001b[0mx\u001b[0m\u001b[0;34m,\u001b[0m \u001b[0mdevice\u001b[0m\u001b[0;34m)\u001b[0m \u001b[0;32mfor\u001b[0m \u001b[0mx\u001b[0m \u001b[0;32min\u001b[0m \u001b[0margs\u001b[0m \u001b[0;32mif\u001b[0m \u001b[0mx\u001b[0m \u001b[0;32mis\u001b[0m \u001b[0;32mnot\u001b[0m \u001b[0mtoken\u001b[0m\u001b[0;34m)\u001b[0m\u001b[0;34m)\u001b[0m\u001b[0;34m\u001b[0m\u001b[0;34m\u001b[0m\u001b[0m\n\u001b[0m\u001b[1;32m    350\u001b[0m   \u001b[0mout_bufs\u001b[0m \u001b[0;34m=\u001b[0m \u001b[0mcompiled\u001b[0m\u001b[0;34m.\u001b[0m\u001b[0mexecute\u001b[0m\u001b[0;34m(\u001b[0m\u001b[0minput_bufs\u001b[0m\u001b[0;34m)\u001b[0m\u001b[0;34m\u001b[0m\u001b[0;34m\u001b[0m\u001b[0m\n\u001b[1;32m    351\u001b[0m   \u001b[0mcheck_special\u001b[0m\u001b[0;34m(\u001b[0m\u001b[0mprim\u001b[0m\u001b[0;34m.\u001b[0m\u001b[0mname\u001b[0m\u001b[0;34m,\u001b[0m \u001b[0mout_bufs\u001b[0m\u001b[0;34m)\u001b[0m\u001b[0;34m\u001b[0m\u001b[0;34m\u001b[0m\u001b[0m\n",
      "\u001b[0;32m~/.local/lib/python3.8/site-packages/jax/interpreters/xla.py\u001b[0m in \u001b[0;36mdevice_put\u001b[0;34m(x, device)\u001b[0m\n\u001b[1;32m    117\u001b[0m   \u001b[0mx\u001b[0m \u001b[0;34m=\u001b[0m \u001b[0mcanonicalize_dtype\u001b[0m\u001b[0;34m(\u001b[0m\u001b[0mx\u001b[0m\u001b[0;34m)\u001b[0m\u001b[0;34m\u001b[0m\u001b[0;34m\u001b[0m\u001b[0m\n\u001b[1;32m    118\u001b[0m   \u001b[0;32mtry\u001b[0m\u001b[0;34m:\u001b[0m\u001b[0;34m\u001b[0m\u001b[0;34m\u001b[0m\u001b[0m\n\u001b[0;32m--> 119\u001b[0;31m     \u001b[0;32mreturn\u001b[0m \u001b[0mdevice_put_handlers\u001b[0m\u001b[0;34m[\u001b[0m\u001b[0mtype\u001b[0m\u001b[0;34m(\u001b[0m\u001b[0mx\u001b[0m\u001b[0;34m)\u001b[0m\u001b[0;34m]\u001b[0m\u001b[0;34m(\u001b[0m\u001b[0mx\u001b[0m\u001b[0;34m,\u001b[0m \u001b[0mdevice\u001b[0m\u001b[0;34m)\u001b[0m\u001b[0;34m\u001b[0m\u001b[0;34m\u001b[0m\u001b[0m\n\u001b[0m\u001b[1;32m    120\u001b[0m   \u001b[0;32mexcept\u001b[0m \u001b[0mKeyError\u001b[0m \u001b[0;32mas\u001b[0m \u001b[0merr\u001b[0m\u001b[0;34m:\u001b[0m\u001b[0;34m\u001b[0m\u001b[0;34m\u001b[0m\u001b[0m\n\u001b[1;32m    121\u001b[0m     \u001b[0;32mraise\u001b[0m \u001b[0mTypeError\u001b[0m\u001b[0;34m(\u001b[0m\u001b[0;34mf\"No device_put handler for type: {type(x)}\"\u001b[0m\u001b[0;34m)\u001b[0m \u001b[0;32mfrom\u001b[0m \u001b[0merr\u001b[0m\u001b[0;34m\u001b[0m\u001b[0;34m\u001b[0m\u001b[0m\n",
      "\u001b[0;32m~/.local/lib/python3.8/site-packages/jax/interpreters/xla.py\u001b[0m in \u001b[0;36m_device_put_array\u001b[0;34m(x, device)\u001b[0m\n\u001b[1;32m    125\u001b[0m   \u001b[0;32mif\u001b[0m \u001b[0mx\u001b[0m\u001b[0;34m.\u001b[0m\u001b[0mdtype\u001b[0m \u001b[0;32mis\u001b[0m \u001b[0mdtypes\u001b[0m\u001b[0;34m.\u001b[0m\u001b[0mfloat0\u001b[0m\u001b[0;34m:\u001b[0m\u001b[0;34m\u001b[0m\u001b[0;34m\u001b[0m\u001b[0m\n\u001b[1;32m    126\u001b[0m     \u001b[0mx\u001b[0m \u001b[0;34m=\u001b[0m \u001b[0mnp\u001b[0m\u001b[0;34m.\u001b[0m\u001b[0mzeros\u001b[0m\u001b[0;34m(\u001b[0m\u001b[0mx\u001b[0m\u001b[0;34m.\u001b[0m\u001b[0mshape\u001b[0m\u001b[0;34m,\u001b[0m \u001b[0mdtype\u001b[0m\u001b[0;34m=\u001b[0m\u001b[0mnp\u001b[0m\u001b[0;34m.\u001b[0m\u001b[0mdtype\u001b[0m\u001b[0;34m(\u001b[0m\u001b[0mbool\u001b[0m\u001b[0;34m)\u001b[0m\u001b[0;34m)\u001b[0m\u001b[0;34m\u001b[0m\u001b[0;34m\u001b[0m\u001b[0m\n\u001b[0;32m--> 127\u001b[0;31m   \u001b[0;32mreturn\u001b[0m \u001b[0;34m(\u001b[0m\u001b[0mbackend\u001b[0m\u001b[0;34m.\u001b[0m\u001b[0mbuffer_from_pyval\u001b[0m\u001b[0;34m(\u001b[0m\u001b[0mx\u001b[0m\u001b[0;34m,\u001b[0m \u001b[0mdevice\u001b[0m\u001b[0;34m)\u001b[0m\u001b[0;34m,\u001b[0m\u001b[0;34m)\u001b[0m\u001b[0;34m\u001b[0m\u001b[0;34m\u001b[0m\u001b[0m\n\u001b[0m\u001b[1;32m    128\u001b[0m \u001b[0;34m\u001b[0m\u001b[0m\n\u001b[1;32m    129\u001b[0m \u001b[0;32mdef\u001b[0m \u001b[0m_device_put_scalar\u001b[0m\u001b[0;34m(\u001b[0m\u001b[0mx\u001b[0m\u001b[0;34m,\u001b[0m \u001b[0mdevice\u001b[0m\u001b[0;34m)\u001b[0m\u001b[0;34m:\u001b[0m\u001b[0;34m\u001b[0m\u001b[0;34m\u001b[0m\u001b[0m\n",
      "\u001b[0;31mKeyboardInterrupt\u001b[0m: "
     ]
    }
   ],
   "source": [
    "qc = QuantumCircuit(4)\n",
    "qc.mct([0, 1, 2], 3)\n",
    "u_toff4 = Operator(qc.reverse_bits()).data\n",
    "\n",
    "\n",
    "anz = Ansatz(4, 'cp', fill_layers(sequ_layer(4), 18))\n",
    "\n",
    "reg_options = {'r': 0.008,\n",
    "               'function': 'linear',\n",
    "               'ymax': 2,\n",
    "               'xmax': jnp.pi/2,\n",
    "               'plato': 0.05,\n",
    "               'num_gates': 18,\n",
    "               'cp_mask': anz.cp_mask}\n",
    "\n",
    "key = random.PRNGKey(13)\n",
    "\n",
    "num_samples = 100\n",
    "num_batches = 10\n",
    "\n",
    "cp_decompose_smart(u_toff4, \n",
    "                   anz,\n",
    "                   regularization_options=reg_options,\n",
    "                   num_samples=num_samples, \n",
    "                   key=key,\n",
    "                   disc_func=disc2,\n",
    "                   cp_dist='uniform',\n",
    "                   save_to='toff4_connected',\n",
    "                   num_batches=num_batches,\n",
    "                   r_increment=0.2,\n",
    "                   disc_equlibrium=0.1)"
   ]
  },
  {
   "cell_type": "code",
   "execution_count": 38,
   "id": "afdd212b-3fbc-4356-9b0e-fd6d1c03ddd3",
   "metadata": {},
   "outputs": [
    {
     "name": "stdout",
     "output_type": "stream",
     "text": [
      "\n",
      "Batch 1 out of 20\n",
      "r is 0.01\n",
      "\n",
      "Computing raw results.\n"
     ]
    },
    {
     "name": "stderr",
     "output_type": "stream",
     "text": [
      "100%|██████████| 100/100 [03:48<00:00,  2.28s/it]\n"
     ]
    },
    {
     "name": "stdout",
     "output_type": "stream",
     "text": [
      "\n",
      "Selecting prospective results:\n"
     ]
    },
    {
     "name": "stderr",
     "output_type": "stream",
     "text": [
      "100it [00:02, 34.45it/s]\n"
     ]
    },
    {
     "name": "stdout",
     "output_type": "stream",
     "text": [
      "1 found.\n",
      "\n",
      "Verifying prospective results:\n"
     ]
    },
    {
     "name": "stderr",
     "output_type": "stream",
     "text": [
      "100%|██████████| 1/1 [00:34<00:00, 34.81s/it]\n"
     ]
    },
    {
     "name": "stdout",
     "output_type": "stream",
     "text": [
      "1 successful.\n",
      "cz counts are:\n",
      "[18]\n",
      "\n",
      "Batch 2 out of 20\n",
      "r is 0.01\n",
      "\n",
      "Computing raw results.\n"
     ]
    },
    {
     "name": "stderr",
     "output_type": "stream",
     "text": [
      "100%|██████████| 100/100 [03:37<00:00,  2.18s/it]\n"
     ]
    },
    {
     "name": "stdout",
     "output_type": "stream",
     "text": [
      "\n",
      "Selecting prospective results:\n"
     ]
    },
    {
     "name": "stderr",
     "output_type": "stream",
     "text": [
      "100it [00:02, 42.06it/s]\n"
     ]
    },
    {
     "name": "stdout",
     "output_type": "stream",
     "text": [
      "0 found.\n",
      "\n",
      "Verifying prospective results:\n"
     ]
    },
    {
     "name": "stderr",
     "output_type": "stream",
     "text": [
      "0it [00:00, ?it/s]\n"
     ]
    },
    {
     "name": "stdout",
     "output_type": "stream",
     "text": [
      "0 successful.\n",
      "cz counts are:\n",
      "[]\n",
      "\n",
      "Batch 3 out of 20\n",
      "r is 0.01\n",
      "\n",
      "Computing raw results.\n"
     ]
    },
    {
     "name": "stderr",
     "output_type": "stream",
     "text": [
      "  0%|          | 0/100 [00:17<?, ?it/s]\n"
     ]
    },
    {
     "ename": "KeyboardInterrupt",
     "evalue": "",
     "output_type": "error",
     "traceback": [
      "\u001b[0;31m---------------------------------------------------------------------------\u001b[0m",
      "\u001b[0;31mKeyboardInterrupt\u001b[0m                         Traceback (most recent call last)",
      "\u001b[0;32m<ipython-input-38-4cee7c53ea82>\u001b[0m in \u001b[0;36m<module>\u001b[0;34m\u001b[0m\n\u001b[1;32m     19\u001b[0m \u001b[0mnum_batches\u001b[0m \u001b[0;34m=\u001b[0m \u001b[0;36m20\u001b[0m\u001b[0;34m\u001b[0m\u001b[0;34m\u001b[0m\u001b[0m\n\u001b[1;32m     20\u001b[0m \u001b[0;34m\u001b[0m\u001b[0m\n\u001b[0;32m---> 21\u001b[0;31m cp_decompose_smart(u_toff4, \n\u001b[0m\u001b[1;32m     22\u001b[0m                    \u001b[0manz\u001b[0m\u001b[0;34m,\u001b[0m\u001b[0;34m\u001b[0m\u001b[0;34m\u001b[0m\u001b[0m\n\u001b[1;32m     23\u001b[0m                    \u001b[0mregularization_options\u001b[0m\u001b[0;34m=\u001b[0m\u001b[0mreg_options\u001b[0m\u001b[0;34m,\u001b[0m\u001b[0;34m\u001b[0m\u001b[0;34m\u001b[0m\u001b[0m\n",
      "\u001b[0;32m<ipython-input-33-884bdeb4e711>\u001b[0m in \u001b[0;36mcp_decompose_smart\u001b[0;34m(u_target, anz, regularization_options, disc_func, num_samples, key, entry_loss, threshold_loss, threshold_cp, cp_dist, save_to, num_batches, r_increment, disc_equlibrium)\u001b[0m\n\u001b[1;32m     19\u001b[0m         \u001b[0mprint\u001b[0m\u001b[0;34m(\u001b[0m\u001b[0;34mf\"r is {regularization_options['r']}\"\u001b[0m\u001b[0;34m)\u001b[0m\u001b[0;34m\u001b[0m\u001b[0;34m\u001b[0m\u001b[0m\n\u001b[1;32m     20\u001b[0m         \u001b[0mkey\u001b[0m\u001b[0;34m,\u001b[0m \u001b[0msubkey\u001b[0m \u001b[0;34m=\u001b[0m \u001b[0mrandom\u001b[0m\u001b[0;34m.\u001b[0m\u001b[0msplit\u001b[0m\u001b[0;34m(\u001b[0m\u001b[0mkey\u001b[0m\u001b[0;34m)\u001b[0m\u001b[0;34m\u001b[0m\u001b[0;34m\u001b[0m\u001b[0m\n\u001b[0;32m---> 21\u001b[0;31m         successful_results, failed_results, cz_successes, disc_successes = cp_decompose(\n\u001b[0m\u001b[1;32m     22\u001b[0m                      \u001b[0mu_target\u001b[0m\u001b[0;34m,\u001b[0m\u001b[0;34m\u001b[0m\u001b[0;34m\u001b[0m\u001b[0m\n\u001b[1;32m     23\u001b[0m                      \u001b[0manz\u001b[0m\u001b[0;34m,\u001b[0m\u001b[0;34m\u001b[0m\u001b[0;34m\u001b[0m\u001b[0m\n",
      "\u001b[0;32m~/Programming projects/jax_circuits/cp_utils.py\u001b[0m in \u001b[0;36mcp_decompose\u001b[0;34m(u_target, anz, regularization_options, disc_func, num_samples, key, entry_loss, threshold_loss, threshold_cp, cp_dist, save_successful_results, save_raw_results, save_to, report_successes)\u001b[0m\n\u001b[1;32m    294\u001b[0m \u001b[0;34m\u001b[0m\u001b[0m\n\u001b[1;32m    295\u001b[0m     \u001b[0mprint\u001b[0m\u001b[0;34m(\u001b[0m\u001b[0;34m'\\nComputing raw results.'\u001b[0m\u001b[0;34m)\u001b[0m\u001b[0;34m\u001b[0m\u001b[0;34m\u001b[0m\u001b[0m\n\u001b[0;32m--> 296\u001b[0;31m     raw_results = anz.learn(u_target,\n\u001b[0m\u001b[1;32m    297\u001b[0m                             \u001b[0mregularization_options\u001b[0m\u001b[0;34m=\u001b[0m\u001b[0mregularization_options\u001b[0m\u001b[0;34m,\u001b[0m\u001b[0;34m\u001b[0m\u001b[0;34m\u001b[0m\u001b[0m\n\u001b[1;32m    298\u001b[0m                             \u001b[0minitial_angles\u001b[0m\u001b[0;34m=\u001b[0m\u001b[0minitial_angles_array\u001b[0m\u001b[0;34m,\u001b[0m\u001b[0;34m\u001b[0m\u001b[0;34m\u001b[0m\u001b[0m\n",
      "\u001b[0;32m~/Programming projects/jax_circuits/jax_circuits.py\u001b[0m in \u001b[0;36mlearn\u001b[0;34m(self, u_target, method, learning_rate, target_loss, **kwargs)\u001b[0m\n\u001b[1;32m    202\u001b[0m               **kwargs):\n\u001b[1;32m    203\u001b[0m \u001b[0;34m\u001b[0m\u001b[0m\n\u001b[0;32m--> 204\u001b[0;31m         return unitary_learn(self.unitary,\n\u001b[0m\u001b[1;32m    205\u001b[0m                              \u001b[0mu_target\u001b[0m\u001b[0;34m,\u001b[0m\u001b[0;34m\u001b[0m\u001b[0;34m\u001b[0m\u001b[0m\n\u001b[1;32m    206\u001b[0m                              \u001b[0mself\u001b[0m\u001b[0;34m.\u001b[0m\u001b[0mnum_angles\u001b[0m\u001b[0;34m,\u001b[0m\u001b[0;34m\u001b[0m\u001b[0;34m\u001b[0m\u001b[0m\n",
      "\u001b[0;32m~/Programming projects/jax_circuits/optimization.py\u001b[0m in \u001b[0;36munitary_learn\u001b[0;34m(u_func, u_target, num_params, method, learning_rate, target_loss, disc_func, regularization_options, initial_angles, num_repeats, **kwargs)\u001b[0m\n\u001b[1;32m    369\u001b[0m         \u001b[0mregularization_func\u001b[0m \u001b[0;34m=\u001b[0m \u001b[0;32mlambda\u001b[0m \u001b[0mx\u001b[0m\u001b[0;34m:\u001b[0m \u001b[0;36m0\u001b[0m\u001b[0;34m\u001b[0m\u001b[0;34m\u001b[0m\u001b[0m\n\u001b[1;32m    370\u001b[0m \u001b[0;34m\u001b[0m\u001b[0m\n\u001b[0;32m--> 371\u001b[0;31m     return mynimize_repeated(loss_func,\n\u001b[0m\u001b[1;32m    372\u001b[0m                              \u001b[0mnum_params\u001b[0m\u001b[0;34m,\u001b[0m\u001b[0;34m\u001b[0m\u001b[0;34m\u001b[0m\u001b[0m\n\u001b[1;32m    373\u001b[0m                              \u001b[0mmethod\u001b[0m\u001b[0;34m=\u001b[0m\u001b[0mmethod\u001b[0m\u001b[0;34m,\u001b[0m\u001b[0;34m\u001b[0m\u001b[0;34m\u001b[0m\u001b[0m\n",
      "\u001b[0;32m~/Programming projects/jax_circuits/optimization.py\u001b[0m in \u001b[0;36mmynimize_repeated\u001b[0;34m(loss_func, num_params, method, learning_rate, target_loss, u_func, initial_params_batch, num_repeats, regularization_func, **kwargs)\u001b[0m\n\u001b[1;32m    315\u001b[0m \u001b[0;34m\u001b[0m\u001b[0m\n\u001b[1;32m    316\u001b[0m     \u001b[0;32mfor\u001b[0m \u001b[0minitial_params\u001b[0m \u001b[0;32min\u001b[0m \u001b[0mtqdm\u001b[0m\u001b[0;34m(\u001b[0m\u001b[0minitial_params_batch\u001b[0m\u001b[0;34m,\u001b[0m \u001b[0mdisable\u001b[0m\u001b[0;34m=\u001b[0m\u001b[0;34m(\u001b[0m\u001b[0;32mnot\u001b[0m \u001b[0minput_is_vector\u001b[0m\u001b[0;34m)\u001b[0m\u001b[0;34m)\u001b[0m\u001b[0;34m:\u001b[0m\u001b[0;34m\u001b[0m\u001b[0;34m\u001b[0m\u001b[0m\n\u001b[0;32m--> 317\u001b[0;31m         learn_result = mynimize(regloss_func,\n\u001b[0m\u001b[1;32m    318\u001b[0m                                 \u001b[0mnum_params\u001b[0m\u001b[0;34m,\u001b[0m\u001b[0;34m\u001b[0m\u001b[0;34m\u001b[0m\u001b[0m\n\u001b[1;32m    319\u001b[0m                                 \u001b[0mmethod\u001b[0m\u001b[0;34m=\u001b[0m\u001b[0mmethod\u001b[0m\u001b[0;34m,\u001b[0m\u001b[0;34m\u001b[0m\u001b[0;34m\u001b[0m\u001b[0m\n",
      "\u001b[0;32m~/Programming projects/jax_circuits/optimization.py\u001b[0m in \u001b[0;36mmynimize\u001b[0;34m(loss_func, num_params, method, learning_rate, opt_instance, u_func, loss_is_loss_and_grad, target_loss, **kwargs)\u001b[0m\n\u001b[1;32m    195\u001b[0m         \u001b[0;32mif\u001b[0m \u001b[0mopt_instance\u001b[0m \u001b[0;32mis\u001b[0m \u001b[0;32mNone\u001b[0m\u001b[0;34m:\u001b[0m\u001b[0;34m\u001b[0m\u001b[0;34m\u001b[0m\u001b[0m\n\u001b[1;32m    196\u001b[0m             \u001b[0mopt_instance\u001b[0m \u001b[0;34m=\u001b[0m \u001b[0moptax\u001b[0m\u001b[0;34m.\u001b[0m\u001b[0madam\u001b[0m\u001b[0;34m(\u001b[0m\u001b[0mlearning_rate\u001b[0m\u001b[0;34m)\u001b[0m\u001b[0;34m\u001b[0m\u001b[0;34m\u001b[0m\u001b[0m\n\u001b[0;32m--> 197\u001b[0;31m         angles_history, loss_history = optax_minimize(loss_func,\n\u001b[0m\u001b[1;32m    198\u001b[0m                                                       \u001b[0mnum_params\u001b[0m\u001b[0;34m,\u001b[0m\u001b[0;34m\u001b[0m\u001b[0;34m\u001b[0m\u001b[0m\n\u001b[1;32m    199\u001b[0m                                                       \u001b[0mopt_instance\u001b[0m\u001b[0;34m,\u001b[0m\u001b[0;34m\u001b[0m\u001b[0;34m\u001b[0m\u001b[0m\n",
      "\u001b[0;32m~/Programming projects/jax_circuits/optimization.py\u001b[0m in \u001b[0;36moptax_minimize\u001b[0;34m(loss_func, num_params, opt, preconditioner_func, loss_is_loss_and_grad, initial_params, num_iterations, target_loss)\u001b[0m\n\u001b[1;32m     49\u001b[0m     \u001b[0;32mfor\u001b[0m \u001b[0m_\u001b[0m \u001b[0;32min\u001b[0m \u001b[0mrange\u001b[0m\u001b[0;34m(\u001b[0m\u001b[0mnum_iterations\u001b[0m\u001b[0;34m)\u001b[0m\u001b[0;34m:\u001b[0m\u001b[0;34m\u001b[0m\u001b[0;34m\u001b[0m\u001b[0m\n\u001b[1;32m     50\u001b[0m         \u001b[0;32mif\u001b[0m \u001b[0mloss_is_loss_and_grad\u001b[0m\u001b[0;34m:\u001b[0m\u001b[0;34m\u001b[0m\u001b[0;34m\u001b[0m\u001b[0m\n\u001b[0;32m---> 51\u001b[0;31m             \u001b[0mparams\u001b[0m\u001b[0;34m,\u001b[0m \u001b[0mopt_state\u001b[0m\u001b[0;34m,\u001b[0m \u001b[0mloss\u001b[0m \u001b[0;34m=\u001b[0m \u001b[0moptax_update_step\u001b[0m\u001b[0;34m(\u001b[0m\u001b[0mloss_func\u001b[0m\u001b[0;34m,\u001b[0m \u001b[0mopt\u001b[0m\u001b[0;34m,\u001b[0m \u001b[0mopt_state\u001b[0m\u001b[0;34m,\u001b[0m \u001b[0mparams\u001b[0m\u001b[0;34m,\u001b[0m \u001b[0mpreconditioner_func\u001b[0m\u001b[0;34m)\u001b[0m\u001b[0;34m\u001b[0m\u001b[0;34m\u001b[0m\u001b[0m\n\u001b[0m\u001b[1;32m     52\u001b[0m         \u001b[0;32melse\u001b[0m\u001b[0;34m:\u001b[0m\u001b[0;34m\u001b[0m\u001b[0;34m\u001b[0m\u001b[0m\n\u001b[1;32m     53\u001b[0m             \u001b[0mparams\u001b[0m\u001b[0;34m,\u001b[0m \u001b[0mopt_state\u001b[0m\u001b[0;34m,\u001b[0m \u001b[0mloss\u001b[0m \u001b[0;34m=\u001b[0m \u001b[0moptax_update_step\u001b[0m\u001b[0;34m(\u001b[0m\u001b[0mloss_and_grad_func\u001b[0m\u001b[0;34m,\u001b[0m \u001b[0mopt\u001b[0m\u001b[0;34m,\u001b[0m \u001b[0mopt_state\u001b[0m\u001b[0;34m,\u001b[0m \u001b[0mparams\u001b[0m\u001b[0;34m,\u001b[0m \u001b[0mpreconditioner_func\u001b[0m\u001b[0;34m)\u001b[0m\u001b[0;34m\u001b[0m\u001b[0;34m\u001b[0m\u001b[0m\n",
      "\u001b[0;32m~/.local/lib/python3.8/site-packages/jax/_src/traceback_util.py\u001b[0m in \u001b[0;36mreraise_with_filtered_traceback\u001b[0;34m(*args, **kwargs)\u001b[0m\n\u001b[1;32m    141\u001b[0m   \u001b[0;32mdef\u001b[0m \u001b[0mreraise_with_filtered_traceback\u001b[0m\u001b[0;34m(\u001b[0m\u001b[0;34m*\u001b[0m\u001b[0margs\u001b[0m\u001b[0;34m,\u001b[0m \u001b[0;34m**\u001b[0m\u001b[0mkwargs\u001b[0m\u001b[0;34m)\u001b[0m\u001b[0;34m:\u001b[0m\u001b[0;34m\u001b[0m\u001b[0;34m\u001b[0m\u001b[0m\n\u001b[1;32m    142\u001b[0m     \u001b[0;32mtry\u001b[0m\u001b[0;34m:\u001b[0m\u001b[0;34m\u001b[0m\u001b[0;34m\u001b[0m\u001b[0m\n\u001b[0;32m--> 143\u001b[0;31m       \u001b[0;32mreturn\u001b[0m \u001b[0mfun\u001b[0m\u001b[0;34m(\u001b[0m\u001b[0;34m*\u001b[0m\u001b[0margs\u001b[0m\u001b[0;34m,\u001b[0m \u001b[0;34m**\u001b[0m\u001b[0mkwargs\u001b[0m\u001b[0;34m)\u001b[0m\u001b[0;34m\u001b[0m\u001b[0;34m\u001b[0m\u001b[0m\n\u001b[0m\u001b[1;32m    144\u001b[0m     \u001b[0;32mexcept\u001b[0m \u001b[0mException\u001b[0m \u001b[0;32mas\u001b[0m \u001b[0me\u001b[0m\u001b[0;34m:\u001b[0m\u001b[0;34m\u001b[0m\u001b[0;34m\u001b[0m\u001b[0m\n\u001b[1;32m    145\u001b[0m       \u001b[0;32mif\u001b[0m \u001b[0;32mnot\u001b[0m \u001b[0mis_under_reraiser\u001b[0m\u001b[0;34m(\u001b[0m\u001b[0me\u001b[0m\u001b[0;34m)\u001b[0m\u001b[0;34m:\u001b[0m\u001b[0;34m\u001b[0m\u001b[0;34m\u001b[0m\u001b[0m\n",
      "\u001b[0;32m~/.local/lib/python3.8/site-packages/jax/_src/api.py\u001b[0m in \u001b[0;36mcache_miss\u001b[0;34m(*args, **kwargs)\u001b[0m\n\u001b[1;32m    424\u001b[0m       \u001b[0m_check_arg\u001b[0m\u001b[0;34m(\u001b[0m\u001b[0marg\u001b[0m\u001b[0;34m)\u001b[0m\u001b[0;34m\u001b[0m\u001b[0;34m\u001b[0m\u001b[0m\n\u001b[1;32m    425\u001b[0m     \u001b[0mflat_fun\u001b[0m\u001b[0;34m,\u001b[0m \u001b[0mout_tree\u001b[0m \u001b[0;34m=\u001b[0m \u001b[0mflatten_fun\u001b[0m\u001b[0;34m(\u001b[0m\u001b[0mf\u001b[0m\u001b[0;34m,\u001b[0m \u001b[0min_tree\u001b[0m\u001b[0;34m)\u001b[0m\u001b[0;34m\u001b[0m\u001b[0;34m\u001b[0m\u001b[0m\n\u001b[0;32m--> 426\u001b[0;31m     out_flat = xla.xla_call(\n\u001b[0m\u001b[1;32m    427\u001b[0m         \u001b[0mflat_fun\u001b[0m\u001b[0;34m,\u001b[0m\u001b[0;34m\u001b[0m\u001b[0;34m\u001b[0m\u001b[0m\n\u001b[1;32m    428\u001b[0m         \u001b[0;34m*\u001b[0m\u001b[0margs_flat\u001b[0m\u001b[0;34m,\u001b[0m\u001b[0;34m\u001b[0m\u001b[0;34m\u001b[0m\u001b[0m\n",
      "\u001b[0;32m~/.local/lib/python3.8/site-packages/jax/core.py\u001b[0m in \u001b[0;36mbind\u001b[0;34m(self, fun, *args, **params)\u001b[0m\n\u001b[1;32m   1563\u001b[0m \u001b[0;34m\u001b[0m\u001b[0m\n\u001b[1;32m   1564\u001b[0m   \u001b[0;32mdef\u001b[0m \u001b[0mbind\u001b[0m\u001b[0;34m(\u001b[0m\u001b[0mself\u001b[0m\u001b[0;34m,\u001b[0m \u001b[0mfun\u001b[0m\u001b[0;34m,\u001b[0m \u001b[0;34m*\u001b[0m\u001b[0margs\u001b[0m\u001b[0;34m,\u001b[0m \u001b[0;34m**\u001b[0m\u001b[0mparams\u001b[0m\u001b[0;34m)\u001b[0m\u001b[0;34m:\u001b[0m\u001b[0;34m\u001b[0m\u001b[0;34m\u001b[0m\u001b[0m\n\u001b[0;32m-> 1565\u001b[0;31m     \u001b[0;32mreturn\u001b[0m \u001b[0mcall_bind\u001b[0m\u001b[0;34m(\u001b[0m\u001b[0mself\u001b[0m\u001b[0;34m,\u001b[0m \u001b[0mfun\u001b[0m\u001b[0;34m,\u001b[0m \u001b[0;34m*\u001b[0m\u001b[0margs\u001b[0m\u001b[0;34m,\u001b[0m \u001b[0;34m**\u001b[0m\u001b[0mparams\u001b[0m\u001b[0;34m)\u001b[0m\u001b[0;34m\u001b[0m\u001b[0;34m\u001b[0m\u001b[0m\n\u001b[0m\u001b[1;32m   1566\u001b[0m \u001b[0;34m\u001b[0m\u001b[0m\n\u001b[1;32m   1567\u001b[0m   \u001b[0;32mdef\u001b[0m \u001b[0mprocess\u001b[0m\u001b[0;34m(\u001b[0m\u001b[0mself\u001b[0m\u001b[0;34m,\u001b[0m \u001b[0mtrace\u001b[0m\u001b[0;34m,\u001b[0m \u001b[0mfun\u001b[0m\u001b[0;34m,\u001b[0m \u001b[0mtracers\u001b[0m\u001b[0;34m,\u001b[0m \u001b[0mparams\u001b[0m\u001b[0;34m)\u001b[0m\u001b[0;34m:\u001b[0m\u001b[0;34m\u001b[0m\u001b[0;34m\u001b[0m\u001b[0m\n",
      "\u001b[0;32m~/.local/lib/python3.8/site-packages/jax/core.py\u001b[0m in \u001b[0;36mcall_bind\u001b[0;34m(primitive, fun, *args, **params)\u001b[0m\n\u001b[1;32m   1554\u001b[0m   \u001b[0mtracers\u001b[0m \u001b[0;34m=\u001b[0m \u001b[0mmap\u001b[0m\u001b[0;34m(\u001b[0m\u001b[0mtop_trace\u001b[0m\u001b[0;34m.\u001b[0m\u001b[0mfull_raise\u001b[0m\u001b[0;34m,\u001b[0m \u001b[0margs\u001b[0m\u001b[0;34m)\u001b[0m\u001b[0;34m\u001b[0m\u001b[0;34m\u001b[0m\u001b[0m\n\u001b[1;32m   1555\u001b[0m   \u001b[0;32mwith\u001b[0m \u001b[0mmaybe_new_sublevel\u001b[0m\u001b[0;34m(\u001b[0m\u001b[0mtop_trace\u001b[0m\u001b[0;34m)\u001b[0m\u001b[0;34m:\u001b[0m\u001b[0;34m\u001b[0m\u001b[0;34m\u001b[0m\u001b[0m\n\u001b[0;32m-> 1556\u001b[0;31m     \u001b[0mouts\u001b[0m \u001b[0;34m=\u001b[0m \u001b[0mprimitive\u001b[0m\u001b[0;34m.\u001b[0m\u001b[0mprocess\u001b[0m\u001b[0;34m(\u001b[0m\u001b[0mtop_trace\u001b[0m\u001b[0;34m,\u001b[0m \u001b[0mfun\u001b[0m\u001b[0;34m,\u001b[0m \u001b[0mtracers\u001b[0m\u001b[0;34m,\u001b[0m \u001b[0mparams\u001b[0m\u001b[0;34m)\u001b[0m\u001b[0;34m\u001b[0m\u001b[0;34m\u001b[0m\u001b[0m\n\u001b[0m\u001b[1;32m   1557\u001b[0m   \u001b[0;32mreturn\u001b[0m \u001b[0mmap\u001b[0m\u001b[0;34m(\u001b[0m\u001b[0mfull_lower\u001b[0m\u001b[0;34m,\u001b[0m \u001b[0mapply_todos\u001b[0m\u001b[0;34m(\u001b[0m\u001b[0menv_trace_todo\u001b[0m\u001b[0;34m(\u001b[0m\u001b[0;34m)\u001b[0m\u001b[0;34m,\u001b[0m \u001b[0mouts\u001b[0m\u001b[0;34m)\u001b[0m\u001b[0;34m)\u001b[0m\u001b[0;34m\u001b[0m\u001b[0;34m\u001b[0m\u001b[0m\n\u001b[1;32m   1558\u001b[0m \u001b[0;34m\u001b[0m\u001b[0m\n",
      "\u001b[0;32m~/.local/lib/python3.8/site-packages/jax/core.py\u001b[0m in \u001b[0;36mprocess\u001b[0;34m(self, trace, fun, tracers, params)\u001b[0m\n\u001b[1;32m   1566\u001b[0m \u001b[0;34m\u001b[0m\u001b[0m\n\u001b[1;32m   1567\u001b[0m   \u001b[0;32mdef\u001b[0m \u001b[0mprocess\u001b[0m\u001b[0;34m(\u001b[0m\u001b[0mself\u001b[0m\u001b[0;34m,\u001b[0m \u001b[0mtrace\u001b[0m\u001b[0;34m,\u001b[0m \u001b[0mfun\u001b[0m\u001b[0;34m,\u001b[0m \u001b[0mtracers\u001b[0m\u001b[0;34m,\u001b[0m \u001b[0mparams\u001b[0m\u001b[0;34m)\u001b[0m\u001b[0;34m:\u001b[0m\u001b[0;34m\u001b[0m\u001b[0;34m\u001b[0m\u001b[0m\n\u001b[0;32m-> 1568\u001b[0;31m     \u001b[0;32mreturn\u001b[0m \u001b[0mtrace\u001b[0m\u001b[0;34m.\u001b[0m\u001b[0mprocess_call\u001b[0m\u001b[0;34m(\u001b[0m\u001b[0mself\u001b[0m\u001b[0;34m,\u001b[0m \u001b[0mfun\u001b[0m\u001b[0;34m,\u001b[0m \u001b[0mtracers\u001b[0m\u001b[0;34m,\u001b[0m \u001b[0mparams\u001b[0m\u001b[0;34m)\u001b[0m\u001b[0;34m\u001b[0m\u001b[0;34m\u001b[0m\u001b[0m\n\u001b[0m\u001b[1;32m   1569\u001b[0m \u001b[0;34m\u001b[0m\u001b[0m\n\u001b[1;32m   1570\u001b[0m   \u001b[0;32mdef\u001b[0m \u001b[0mpost_process\u001b[0m\u001b[0;34m(\u001b[0m\u001b[0mself\u001b[0m\u001b[0;34m,\u001b[0m \u001b[0mtrace\u001b[0m\u001b[0;34m,\u001b[0m \u001b[0mout_tracers\u001b[0m\u001b[0;34m,\u001b[0m \u001b[0mparams\u001b[0m\u001b[0;34m)\u001b[0m\u001b[0;34m:\u001b[0m\u001b[0;34m\u001b[0m\u001b[0;34m\u001b[0m\u001b[0m\n",
      "\u001b[0;32m~/.local/lib/python3.8/site-packages/jax/core.py\u001b[0m in \u001b[0;36mprocess_call\u001b[0;34m(self, primitive, f, tracers, params)\u001b[0m\n\u001b[1;32m    607\u001b[0m \u001b[0;34m\u001b[0m\u001b[0m\n\u001b[1;32m    608\u001b[0m   \u001b[0;32mdef\u001b[0m \u001b[0mprocess_call\u001b[0m\u001b[0;34m(\u001b[0m\u001b[0mself\u001b[0m\u001b[0;34m,\u001b[0m \u001b[0mprimitive\u001b[0m\u001b[0;34m,\u001b[0m \u001b[0mf\u001b[0m\u001b[0;34m,\u001b[0m \u001b[0mtracers\u001b[0m\u001b[0;34m,\u001b[0m \u001b[0mparams\u001b[0m\u001b[0;34m)\u001b[0m\u001b[0;34m:\u001b[0m\u001b[0;34m\u001b[0m\u001b[0;34m\u001b[0m\u001b[0m\n\u001b[0;32m--> 609\u001b[0;31m     \u001b[0;32mreturn\u001b[0m \u001b[0mprimitive\u001b[0m\u001b[0;34m.\u001b[0m\u001b[0mimpl\u001b[0m\u001b[0;34m(\u001b[0m\u001b[0mf\u001b[0m\u001b[0;34m,\u001b[0m \u001b[0;34m*\u001b[0m\u001b[0mtracers\u001b[0m\u001b[0;34m,\u001b[0m \u001b[0;34m**\u001b[0m\u001b[0mparams\u001b[0m\u001b[0;34m)\u001b[0m\u001b[0;34m\u001b[0m\u001b[0;34m\u001b[0m\u001b[0m\n\u001b[0m\u001b[1;32m    610\u001b[0m   \u001b[0mprocess_map\u001b[0m \u001b[0;34m=\u001b[0m \u001b[0mprocess_call\u001b[0m\u001b[0;34m\u001b[0m\u001b[0;34m\u001b[0m\u001b[0m\n\u001b[1;32m    611\u001b[0m \u001b[0;34m\u001b[0m\u001b[0m\n",
      "\u001b[0;32m~/.local/lib/python3.8/site-packages/jax/interpreters/xla.py\u001b[0m in \u001b[0;36m_xla_call_impl\u001b[0;34m(fun, device, backend, name, donated_invars, *args)\u001b[0m\n\u001b[1;32m    576\u001b[0m \u001b[0;34m\u001b[0m\u001b[0m\n\u001b[1;32m    577\u001b[0m \u001b[0;32mdef\u001b[0m \u001b[0m_xla_call_impl\u001b[0m\u001b[0;34m(\u001b[0m\u001b[0mfun\u001b[0m\u001b[0;34m:\u001b[0m \u001b[0mlu\u001b[0m\u001b[0;34m.\u001b[0m\u001b[0mWrappedFun\u001b[0m\u001b[0;34m,\u001b[0m \u001b[0;34m*\u001b[0m\u001b[0margs\u001b[0m\u001b[0;34m,\u001b[0m \u001b[0mdevice\u001b[0m\u001b[0;34m,\u001b[0m \u001b[0mbackend\u001b[0m\u001b[0;34m,\u001b[0m \u001b[0mname\u001b[0m\u001b[0;34m,\u001b[0m \u001b[0mdonated_invars\u001b[0m\u001b[0;34m)\u001b[0m\u001b[0;34m:\u001b[0m\u001b[0;34m\u001b[0m\u001b[0;34m\u001b[0m\u001b[0m\n\u001b[0;32m--> 578\u001b[0;31m   compiled_fun = _xla_callable(fun, device, backend, name, donated_invars,\n\u001b[0m\u001b[1;32m    579\u001b[0m                                *unsafe_map(arg_spec, args))\n\u001b[1;32m    580\u001b[0m   \u001b[0;32mtry\u001b[0m\u001b[0;34m:\u001b[0m\u001b[0;34m\u001b[0m\u001b[0;34m\u001b[0m\u001b[0m\n",
      "\u001b[0;32m~/.local/lib/python3.8/site-packages/jax/linear_util.py\u001b[0m in \u001b[0;36mmemoized_fun\u001b[0;34m(fun, *args)\u001b[0m\n\u001b[1;32m    260\u001b[0m       \u001b[0mfun\u001b[0m\u001b[0;34m.\u001b[0m\u001b[0mpopulate_stores\u001b[0m\u001b[0;34m(\u001b[0m\u001b[0mstores\u001b[0m\u001b[0;34m)\u001b[0m\u001b[0;34m\u001b[0m\u001b[0;34m\u001b[0m\u001b[0m\n\u001b[1;32m    261\u001b[0m     \u001b[0;32melse\u001b[0m\u001b[0;34m:\u001b[0m\u001b[0;34m\u001b[0m\u001b[0;34m\u001b[0m\u001b[0m\n\u001b[0;32m--> 262\u001b[0;31m       \u001b[0mans\u001b[0m \u001b[0;34m=\u001b[0m \u001b[0mcall\u001b[0m\u001b[0;34m(\u001b[0m\u001b[0mfun\u001b[0m\u001b[0;34m,\u001b[0m \u001b[0;34m*\u001b[0m\u001b[0margs\u001b[0m\u001b[0;34m)\u001b[0m\u001b[0;34m\u001b[0m\u001b[0;34m\u001b[0m\u001b[0m\n\u001b[0m\u001b[1;32m    263\u001b[0m       \u001b[0mcache\u001b[0m\u001b[0;34m[\u001b[0m\u001b[0mkey\u001b[0m\u001b[0;34m]\u001b[0m \u001b[0;34m=\u001b[0m \u001b[0;34m(\u001b[0m\u001b[0mans\u001b[0m\u001b[0;34m,\u001b[0m \u001b[0mfun\u001b[0m\u001b[0;34m.\u001b[0m\u001b[0mstores\u001b[0m\u001b[0;34m)\u001b[0m\u001b[0;34m\u001b[0m\u001b[0;34m\u001b[0m\u001b[0m\n\u001b[1;32m    264\u001b[0m \u001b[0;34m\u001b[0m\u001b[0m\n",
      "\u001b[0;32m~/.local/lib/python3.8/site-packages/jax/interpreters/xla.py\u001b[0m in \u001b[0;36m_xla_callable\u001b[0;34m(fun, device, backend, name, donated_invars, *arg_specs)\u001b[0m\n\u001b[1;32m    722\u001b[0m       device_assignment=(device.id,) if device else None)\n\u001b[1;32m    723\u001b[0m   \u001b[0moptions\u001b[0m\u001b[0;34m.\u001b[0m\u001b[0mparameter_is_tupled_arguments\u001b[0m \u001b[0;34m=\u001b[0m \u001b[0mtuple_args\u001b[0m\u001b[0;34m\u001b[0m\u001b[0;34m\u001b[0m\u001b[0m\n\u001b[0;32m--> 724\u001b[0;31m   \u001b[0mcompiled\u001b[0m \u001b[0;34m=\u001b[0m \u001b[0mbackend_compile\u001b[0m\u001b[0;34m(\u001b[0m\u001b[0mbackend\u001b[0m\u001b[0;34m,\u001b[0m \u001b[0mbuilt\u001b[0m\u001b[0;34m,\u001b[0m \u001b[0moptions\u001b[0m\u001b[0;34m)\u001b[0m\u001b[0;34m\u001b[0m\u001b[0;34m\u001b[0m\u001b[0m\n\u001b[0m\u001b[1;32m    725\u001b[0m   \u001b[0;32mif\u001b[0m \u001b[0mnreps\u001b[0m \u001b[0;34m==\u001b[0m \u001b[0;36m1\u001b[0m\u001b[0;34m:\u001b[0m\u001b[0;34m\u001b[0m\u001b[0;34m\u001b[0m\u001b[0m\n\u001b[1;32m    726\u001b[0m     return partial(_execute_compiled, compiled, out_avals, result_handlers,\n",
      "\u001b[0;32m~/.local/lib/python3.8/site-packages/jax/interpreters/xla.py\u001b[0m in \u001b[0;36mbackend_compile\u001b[0;34m(backend, built_c, options)\u001b[0m\n\u001b[1;32m    343\u001b[0m   \u001b[0;31m# we use a separate function call to ensure that XLA compilation appears\u001b[0m\u001b[0;34m\u001b[0m\u001b[0;34m\u001b[0m\u001b[0;34m\u001b[0m\u001b[0m\n\u001b[1;32m    344\u001b[0m   \u001b[0;31m# separately in Python profiling results\u001b[0m\u001b[0;34m\u001b[0m\u001b[0;34m\u001b[0m\u001b[0;34m\u001b[0m\u001b[0m\n\u001b[0;32m--> 345\u001b[0;31m   \u001b[0;32mreturn\u001b[0m \u001b[0mbackend\u001b[0m\u001b[0;34m.\u001b[0m\u001b[0mcompile\u001b[0m\u001b[0;34m(\u001b[0m\u001b[0mbuilt_c\u001b[0m\u001b[0;34m,\u001b[0m \u001b[0mcompile_options\u001b[0m\u001b[0;34m=\u001b[0m\u001b[0moptions\u001b[0m\u001b[0;34m)\u001b[0m\u001b[0;34m\u001b[0m\u001b[0;34m\u001b[0m\u001b[0m\n\u001b[0m\u001b[1;32m    346\u001b[0m \u001b[0;34m\u001b[0m\u001b[0m\n\u001b[1;32m    347\u001b[0m \u001b[0;32mdef\u001b[0m \u001b[0m_execute_compiled_primitive\u001b[0m\u001b[0;34m(\u001b[0m\u001b[0mprim\u001b[0m\u001b[0;34m,\u001b[0m \u001b[0mcompiled\u001b[0m\u001b[0;34m,\u001b[0m \u001b[0mresult_handler\u001b[0m\u001b[0;34m,\u001b[0m \u001b[0;34m*\u001b[0m\u001b[0margs\u001b[0m\u001b[0;34m)\u001b[0m\u001b[0;34m:\u001b[0m\u001b[0;34m\u001b[0m\u001b[0;34m\u001b[0m\u001b[0m\n",
      "\u001b[0;31mKeyboardInterrupt\u001b[0m: "
     ]
    }
   ],
   "source": [
    "qc = QuantumCircuit(4)\n",
    "qc.mct([0, 1, 2], 3)\n",
    "u_toff4 = Operator(qc.reverse_bits()).data\n",
    "\n",
    "\n",
    "anz = Ansatz(4, 'cp', fill_layers(sequ_layer(4), 25))\n",
    "\n",
    "reg_options = {'r': 0.01,\n",
    "               'function': 'linear',\n",
    "               'ymax': 2,\n",
    "               'xmax': jnp.pi/2,\n",
    "               'plato': 0.05,\n",
    "               'num_gates': 35,\n",
    "               'cp_mask': anz.cp_mask}\n",
    "\n",
    "key = random.PRNGKey(12)\n",
    "\n",
    "num_samples = 100\n",
    "num_batches = 20\n",
    "\n",
    "cp_decompose_smart(u_toff4, \n",
    "                   anz,\n",
    "                   regularization_options=reg_options,\n",
    "                   num_samples=num_samples, \n",
    "                   key=key,\n",
    "                   disc_func=disc2,\n",
    "                   cp_dist='uniform',\n",
    "                   save_to='toff4_connected',\n",
    "                   num_batches=num_batches,\n",
    "                   r_increment=0.0,\n",
    "                   disc_equlibrium=0.1)"
   ]
  },
  {
   "cell_type": "code",
   "execution_count": 2,
   "id": "98f15f72-d2a4-418e-9e9d-2d174d07a6fb",
   "metadata": {},
   "outputs": [],
   "source": [
    "with open('data/toff4_connected_raw_results.pickle', 'rb') as f:\n",
    "    raw_results = pickle.load(f)"
   ]
  },
  {
   "cell_type": "code",
   "execution_count": 14,
   "id": "7031b212-5aac-4bd9-aeac-a6ca863ece8e",
   "metadata": {},
   "outputs": [],
   "source": [
    "scatter_data = [[cz, disc] for cz, disc, _ in [evaluate_cp_result(r, anz.cp_mask) for r in raw_results]]"
   ]
  },
  {
   "cell_type": "code",
   "execution_count": 17,
   "id": "dd745b9b-c76a-42a1-9736-a74b060b6758",
   "metadata": {},
   "outputs": [
    {
     "data": {
      "image/png": "[encoded data removed]",
      "text/plain": [
       "<Figure size 432x288 with 1 Axes>"
      ]
     },
     "metadata": {
      "needs_background": "light"
     },
     "output_type": "display_data"
    }
   ],
   "source": [
    "plt.scatter([cz for cz,_ in scatter_data], [disc for _, disc in scatter_data])\n",
    "plt.yscale('log')"
   ]
  },
  {
   "cell_type": "code",
   "execution_count": 81,
   "id": "e1eabbc6-a678-4bdd-b052-8f5f79bb9cf6",
   "metadata": {},
   "outputs": [
    {
     "data": {
      "text/plain": [
       "{'params': array([[ 4.125892  ,  5.1388254 ,  2.7351167 , ...,  3.9983227 ,\n",
       "          0.24633169, -0.09999567],\n",
       "        [ 4.051372  ,  5.058698  ,  2.8124666 , ...,  3.9227188 ,\n",
       "          0.3261888 , -0.02741227],\n",
       "        [ 3.9740071 ,  5.1145015 ,  2.8040562 , ...,  3.9722896 ,\n",
       "          0.265896  ,  0.04432033],\n",
       "        ...,\n",
       "        [ 4.3496184 ,  6.043369  ,  3.9367669 , ...,  3.1512654 ,\n",
       "         -0.03149092,  0.7677141 ],\n",
       "        [ 4.3492355 ,  6.0394473 ,  3.9369016 , ...,  3.1540208 ,\n",
       "         -0.03699383,  0.7680267 ],\n",
       "        [ 4.350139  ,  6.0435696 ,  3.9368849 , ...,  3.1517267 ,\n",
       "         -0.03236842,  0.76731783]], dtype=float32),\n",
       " 'regloss': array([0.99977046, 0.9654914 , 0.5663462 , ..., 0.00851124, 0.008405  ,\n",
       "        0.00818359], dtype=float32),\n",
       " 'loss': array([9.6467221e-01, 5.6557012e-01, 4.2080861e-01, ..., 8.6158514e-04,\n",
       "        6.4778328e-04, 3.9452314e-04], dtype=float32),\n",
       " 'reg': array([0.00081922, 0.00077602, 0.00094527, ..., 0.00754353, 0.00753581,\n",
       "        0.00753267], dtype=float32)}"
      ]
     },
     "execution_count": 81,
     "metadata": {},
     "output_type": "execute_result"
    }
   ],
   "source": [
    "raw_results[0]"
   ]
  },
  {
   "cell_type": "code",
   "execution_count": 80,
   "id": "97ee66fa-6069-435e-976b-7dd8f5ad17a5",
   "metadata": {},
   "outputs": [
    {
     "name": "stdout",
     "output_type": "stream",
     "text": [
      "cz count: 18\n",
      "fidelity at this count: 0.038098156452178955\n"
     ]
    },
    {
     "data": {
      "image/png": "[encoded data removed]",
      "text/plain": [
       "<Figure size 432x288 with 1 Axes>"
      ]
     },
     "metadata": {
      "needs_background": "light"
     },
     "output_type": "display_data"
    }
   ],
   "source": [
    "_,_ = report_cp_learning(raw_results[33], anz.cp_mask)"
   ]
  },
  {
   "cell_type": "raw",
   "id": "ac86d6ea-b2d8-457a-8d57-0bfde9031ee8",
   "metadata": {},
   "source": []
  },
  {
   "cell_type": "code",
   "execution_count": 40,
   "id": "d0878247-7355-4651-bb7d-fb0ab44930d4",
   "metadata": {},
   "outputs": [],
   "source": [
    "cz, circ, u, angs = successful_results[1]\n",
    "circ(angs).draw(output='mpl')"
   ]
  },
  {
   "cell_type": "markdown",
   "id": "90479bc3-410d-4780-b9a4-c2367ba457fc",
   "metadata": {
    "tags": []
   },
   "source": [
    "## Restricted topology"
   ]
  },
  {
   "cell_type": "code",
   "execution_count": 29,
   "id": "3de27f1d-7178-418c-8b25-27c9a366ed05",
   "metadata": {},
   "outputs": [
    {
     "name": "stdout",
     "output_type": "stream",
     "text": [
      "\n",
      "Computing raw results.\n"
     ]
    },
    {
     "name": "stderr",
     "output_type": "stream",
     "text": [
      "100%|██████████| 1000/1000 [30:15<00:00,  1.82s/it]\n"
     ]
    },
    {
     "name": "stdout",
     "output_type": "stream",
     "text": [
      "\n",
      "Selecting prospective results:\n"
     ]
    },
    {
     "name": "stderr",
     "output_type": "stream",
     "text": [
      "1000it [00:27, 36.64it/s]\n"
     ]
    },
    {
     "name": "stdout",
     "output_type": "stream",
     "text": [
      "15 found.\n",
      "\n",
      "Verifying prospective results:\n"
     ]
    },
    {
     "name": "stderr",
     "output_type": "stream",
     "text": [
      "100%|██████████| 15/15 [04:28<00:00, 17.87s/it]"
     ]
    },
    {
     "name": "stdout",
     "output_type": "stream",
     "text": [
      "13 sucessfull.\n",
      "cz counts are:\n",
      "[22, 22, 23, 22, 21, 19, 23, 23, 22, 22, 22, 23, 19]\n"
     ]
    },
    {
     "name": "stderr",
     "output_type": "stream",
     "text": [
      "\n"
     ]
    }
   ],
   "source": [
    "qc = QuantumCircuit(4)\n",
    "qc.mct([0, 1, 2], 3)\n",
    "u_toff4 = Operator(qc.reverse_bits()).data\n",
    "\n",
    "\n",
    "anz = Ansatz(4, 'cp', fill_layers(chain_layer(4), 35))\n",
    "\n",
    "reg_options = {'r': 0.001,\n",
    "               'function': 'linear',\n",
    "               'ymax': 2,\n",
    "               'xmax': jnp.pi/2,\n",
    "               'plato': 0.05,\n",
    "               'num_gates': 23,\n",
    "               'angle_tolerance': 0.2,\n",
    "               'cp_mask': anz.cp_mask}\n",
    "\n",
    "key = random.PRNGKey(7)\n",
    "num_samples = 1000\n",
    "\n",
    "successful_results, failed_results = decompose(u_toff4, \n",
    "                                               anz,\n",
    "                                               regularization_options=reg_options,\n",
    "                                               num_samples=num_samples, \n",
    "                                               key=key\n",
    "                                               )"
   ]
  },
  {
   "cell_type": "code",
   "execution_count": 13,
   "id": "d61d7c4e-f973-429a-be1a-abba48080ed0",
   "metadata": {
    "tags": []
   },
   "outputs": [
    {
     "name": "stdout",
     "output_type": "stream",
     "text": [
      "====================\n",
      "\n",
      "Batch 1 out of 4\n",
      "r: 0.001, num_gates: 35\n",
      "\n",
      "Computing raw results.\n"
     ]
    },
    {
     "name": "stderr",
     "output_type": "stream",
     "text": [
      "100%|██████████| 500/500 [15:25<00:00,  1.85s/it]\n"
     ]
    },
    {
     "name": "stdout",
     "output_type": "stream",
     "text": [
      "\n",
      "Selecting prospective results:\n"
     ]
    },
    {
     "name": "stderr",
     "output_type": "stream",
     "text": [
      "500it [00:13, 36.00it/s]\n"
     ]
    },
    {
     "name": "stdout",
     "output_type": "stream",
     "text": [
      "0 found.\n",
      "\n",
      "Verifying prospective results:\n"
     ]
    },
    {
     "name": "stderr",
     "output_type": "stream",
     "text": [
      "0it [00:00, ?it/s]\n"
     ]
    },
    {
     "name": "stdout",
     "output_type": "stream",
     "text": [
      "0 successful.\n",
      "cz counts are:\n",
      "[]\n",
      "\n",
      " mean cz count: 27.102941176470587, total successful: 68\n",
      "====================\n",
      "\n",
      "Batch 2 out of 4\n",
      "r: 0.001, num_gates: 36\n",
      "\n",
      "Computing raw results.\n"
     ]
    },
    {
     "name": "stderr",
     "output_type": "stream",
     "text": [
      "100%|██████████| 500/500 [15:24<00:00,  1.85s/it]\n"
     ]
    },
    {
     "name": "stdout",
     "output_type": "stream",
     "text": [
      "\n",
      "Selecting prospective results:\n"
     ]
    },
    {
     "name": "stderr",
     "output_type": "stream",
     "text": [
      "500it [00:14, 34.64it/s]\n"
     ]
    },
    {
     "name": "stdout",
     "output_type": "stream",
     "text": [
      "2 found.\n",
      "\n",
      "Verifying prospective results:\n"
     ]
    },
    {
     "name": "stderr",
     "output_type": "stream",
     "text": [
      "100%|██████████| 2/2 [00:32<00:00, 16.33s/it]\n"
     ]
    },
    {
     "name": "stdout",
     "output_type": "stream",
     "text": [
      "2 successful.\n",
      "cz counts are:\n",
      "[20, 20]\n",
      "\n",
      " mean cz count: 27.728571428571428, total successful: 70\n",
      "====================\n",
      "\n",
      "Batch 3 out of 4\n",
      "r: 0.0011, num_gates: 36\n",
      "\n",
      "Computing raw results.\n"
     ]
    },
    {
     "name": "stderr",
     "output_type": "stream",
     "text": [
      "100%|██████████| 500/500 [15:20<00:00,  1.84s/it]\n"
     ]
    },
    {
     "name": "stdout",
     "output_type": "stream",
     "text": [
      "\n",
      "Selecting prospective results:\n"
     ]
    },
    {
     "name": "stderr",
     "output_type": "stream",
     "text": [
      "500it [00:14, 35.37it/s]\n"
     ]
    },
    {
     "name": "stdout",
     "output_type": "stream",
     "text": [
      "1 found.\n",
      "\n",
      "Verifying prospective results:\n"
     ]
    },
    {
     "name": "stderr",
     "output_type": "stream",
     "text": [
      "100%|██████████| 1/1 [00:16<00:00, 16.17s/it]\n"
     ]
    },
    {
     "name": "stdout",
     "output_type": "stream",
     "text": [
      "1 successful.\n",
      "cz counts are:\n",
      "[19]\n",
      "\n",
      " mean cz count: 27.484375, total successful: 64\n",
      "====================\n",
      "\n",
      "Batch 4 out of 4\n",
      "r: 0.0011, num_gates: 37\n",
      "\n",
      "Computing raw results.\n"
     ]
    },
    {
     "name": "stderr",
     "output_type": "stream",
     "text": [
      "100%|██████████| 500/500 [16:02<00:00,  1.93s/it]\n"
     ]
    },
    {
     "name": "stdout",
     "output_type": "stream",
     "text": [
      "\n",
      "Selecting prospective results:\n"
     ]
    },
    {
     "name": "stderr",
     "output_type": "stream",
     "text": [
      "500it [00:14, 34.45it/s]\n"
     ]
    },
    {
     "name": "stdout",
     "output_type": "stream",
     "text": [
      "1 found.\n",
      "\n",
      "Verifying prospective results:\n"
     ]
    },
    {
     "name": "stderr",
     "output_type": "stream",
     "text": [
      "100%|██████████| 1/1 [00:18<00:00, 18.62s/it]\n"
     ]
    },
    {
     "name": "stdout",
     "output_type": "stream",
     "text": [
      "1 successful.\n",
      "cz counts are:\n",
      "[19]\n",
      "\n",
      " mean cz count: 27.96, total successful: 75\n"
     ]
    }
   ],
   "source": [
    "qc = QuantumCircuit(4)\n",
    "qc.mct([0, 1, 2], 3)\n",
    "u_toff4 = Operator(qc.reverse_bits()).data\n",
    "\n",
    "reg_options = {'r': 0.001,\n",
    "               'function': 'linear',\n",
    "               'ymax': 2,\n",
    "               'xmax': jnp.pi/2,\n",
    "               'plato': 0.05,\n",
    "               'num_gates': 20,\n",
    "               'angle_tolerance': 0.2,\n",
    "               }\n",
    "\n",
    "key = random.PRNGKey(7)\n",
    "num_samples = 500\n",
    "num_batches = 4\n",
    "layer = chain_layer(4)\n",
    "initial_num_gates = 35\n",
    "\n",
    "cp_decompose_adaptive(u_toff4, \n",
    "                      layer,\n",
    "                      initial_num_gates=initial_num_gates,\n",
    "                      regularization_options=reg_options,\n",
    "                      num_samples=num_samples, \n",
    "                      num_batches=num_batches,\n",
    "                      key=key,\n",
    "                      disc_func=disc2,\n",
    "                      cp_dist='uniform',\n",
    "                      save_to='toff4_chain')"
   ]
  },
  {
   "cell_type": "code",
   "execution_count": 4,
   "id": "3105720e-7095-403e-aafc-1396469a9ae5",
   "metadata": {
    "tags": []
   },
   "outputs": [
    {
     "name": "stdout",
     "output_type": "stream",
     "text": [
      "====================\n",
      "\n",
      "Batch 1 out of 6\n",
      "r: 0.0012, num_gates: 40\n",
      "\n",
      "Computing raw results.\n"
     ]
    },
    {
     "name": "stderr",
     "output_type": "stream",
     "text": [
      "100%|██████████| 500/500 [16:01<00:00,  1.92s/it]\n"
     ]
    },
    {
     "name": "stdout",
     "output_type": "stream",
     "text": [
      "\n",
      "Selecting prospective results:\n"
     ]
    },
    {
     "name": "stderr",
     "output_type": "stream",
     "text": [
      "500it [00:15, 31.32it/s]\n"
     ]
    },
    {
     "name": "stdout",
     "output_type": "stream",
     "text": [
      "0 found.\n",
      "\n",
      "Verifying prospective results:\n"
     ]
    },
    {
     "name": "stderr",
     "output_type": "stream",
     "text": [
      "0it [00:00, ?it/s]\n"
     ]
    },
    {
     "name": "stdout",
     "output_type": "stream",
     "text": [
      "0 successful.\n",
      "cz counts are:\n",
      "[]\n",
      "\n",
      " mean cz count: 28.60952380952381, total successful: 105\n",
      "====================\n",
      "\n",
      "Batch 2 out of 6\n",
      "r: 0.0012, num_gates: 41\n",
      "\n",
      "Computing raw results.\n"
     ]
    },
    {
     "name": "stderr",
     "output_type": "stream",
     "text": [
      "100%|██████████| 500/500 [15:52<00:00,  1.91s/it]\n"
     ]
    },
    {
     "name": "stdout",
     "output_type": "stream",
     "text": [
      "\n",
      "Selecting prospective results:\n"
     ]
    },
    {
     "name": "stderr",
     "output_type": "stream",
     "text": [
      "500it [00:16, 30.68it/s]\n"
     ]
    },
    {
     "name": "stdout",
     "output_type": "stream",
     "text": [
      "1 found.\n",
      "\n",
      "Verifying prospective results:\n"
     ]
    },
    {
     "name": "stderr",
     "output_type": "stream",
     "text": [
      "100%|██████████| 1/1 [00:20<00:00, 20.28s/it]\n"
     ]
    },
    {
     "name": "stdout",
     "output_type": "stream",
     "text": [
      "1 successful.\n",
      "cz counts are:\n",
      "[20]\n",
      "\n",
      " mean cz count: 29.161538461538463, total successful: 130\n",
      "====================\n",
      "\n",
      "Batch 3 out of 6\n",
      "r: 0.00132, num_gates: 41\n",
      "\n",
      "Computing raw results.\n"
     ]
    },
    {
     "name": "stderr",
     "output_type": "stream",
     "text": [
      "100%|██████████| 500/500 [15:49<00:00,  1.90s/it]\n"
     ]
    },
    {
     "name": "stdout",
     "output_type": "stream",
     "text": [
      "\n",
      "Selecting prospective results:\n"
     ]
    },
    {
     "name": "stderr",
     "output_type": "stream",
     "text": [
      "500it [00:16, 30.37it/s]\n"
     ]
    },
    {
     "name": "stdout",
     "output_type": "stream",
     "text": [
      "0 found.\n",
      "\n",
      "Verifying prospective results:\n"
     ]
    },
    {
     "name": "stderr",
     "output_type": "stream",
     "text": [
      "0it [00:00, ?it/s]\n"
     ]
    },
    {
     "name": "stdout",
     "output_type": "stream",
     "text": [
      "0 successful.\n",
      "cz counts are:\n",
      "[]\n",
      "\n",
      " mean cz count: 28.296296296296298, total successful: 108\n",
      "====================\n",
      "\n",
      "Batch 4 out of 6\n",
      "r: 0.00132, num_gates: 42\n",
      "\n",
      "Computing raw results.\n"
     ]
    },
    {
     "name": "stderr",
     "output_type": "stream",
     "text": [
      "100%|██████████| 500/500 [15:30<00:00,  1.86s/it]\n"
     ]
    },
    {
     "name": "stdout",
     "output_type": "stream",
     "text": [
      "\n",
      "Selecting prospective results:\n"
     ]
    },
    {
     "name": "stderr",
     "output_type": "stream",
     "text": [
      "500it [00:16, 30.27it/s]\n"
     ]
    },
    {
     "name": "stdout",
     "output_type": "stream",
     "text": [
      "1 found.\n",
      "\n",
      "Verifying prospective results:\n"
     ]
    },
    {
     "name": "stderr",
     "output_type": "stream",
     "text": [
      "100%|██████████| 1/1 [00:18<00:00, 18.24s/it]\n"
     ]
    },
    {
     "name": "stdout",
     "output_type": "stream",
     "text": [
      "1 successful.\n",
      "cz counts are:\n",
      "[19]\n",
      "\n",
      " mean cz count: 29.449664429530202, total successful: 149\n",
      "====================\n",
      "\n",
      "Batch 5 out of 6\n",
      "r: 0.0014520000000000002, num_gates: 42\n",
      "\n",
      "Computing raw results.\n"
     ]
    },
    {
     "name": "stderr",
     "output_type": "stream",
     "text": [
      "100%|██████████| 500/500 [15:34<00:00,  1.87s/it]\n"
     ]
    },
    {
     "name": "stdout",
     "output_type": "stream",
     "text": [
      "\n",
      "Selecting prospective results:\n"
     ]
    },
    {
     "name": "stderr",
     "output_type": "stream",
     "text": [
      "500it [00:16, 31.00it/s]\n"
     ]
    },
    {
     "name": "stdout",
     "output_type": "stream",
     "text": [
      "1 found.\n",
      "\n",
      "Verifying prospective results:\n"
     ]
    },
    {
     "name": "stderr",
     "output_type": "stream",
     "text": [
      "100%|██████████| 1/1 [00:17<00:00, 17.23s/it]\n"
     ]
    },
    {
     "name": "stdout",
     "output_type": "stream",
     "text": [
      "1 successful.\n",
      "cz counts are:\n",
      "[20]\n",
      "\n",
      " mean cz count: 28.8705035971223, total successful: 139\n",
      "====================\n",
      "\n",
      "Batch 6 out of 6\n",
      "r: 0.0014520000000000002, num_gates: 43\n",
      "\n",
      "Computing raw results.\n"
     ]
    },
    {
     "name": "stderr",
     "output_type": "stream",
     "text": [
      "100%|██████████| 500/500 [15:59<00:00,  1.92s/it]\n"
     ]
    },
    {
     "name": "stdout",
     "output_type": "stream",
     "text": [
      "\n",
      "Selecting prospective results:\n"
     ]
    },
    {
     "name": "stderr",
     "output_type": "stream",
     "text": [
      "500it [00:17, 28.28it/s]\n"
     ]
    },
    {
     "name": "stdout",
     "output_type": "stream",
     "text": [
      "0 found.\n",
      "\n",
      "Verifying prospective results:\n"
     ]
    },
    {
     "name": "stderr",
     "output_type": "stream",
     "text": [
      "0it [00:00, ?it/s]\n"
     ]
    },
    {
     "name": "stdout",
     "output_type": "stream",
     "text": [
      "0 successful.\n",
      "cz counts are:\n",
      "[]\n",
      "\n",
      " mean cz count: 29.32191780821918, total successful: 146\n"
     ]
    }
   ],
   "source": [
    "qc = QuantumCircuit(4)\n",
    "qc.mct([0, 1, 2], 3)\n",
    "u_toff4 = Operator(qc.reverse_bits()).data\n",
    "\n",
    "reg_options = {'r': 0.0012,\n",
    "               'function': 'linear',\n",
    "               'ymax': 2,\n",
    "               'xmax': jnp.pi/2,\n",
    "               'plato': 0.05,\n",
    "               'num_gates': 20,\n",
    "               'angle_tolerance': 0.2,\n",
    "               }\n",
    "\n",
    "key = random.PRNGKey(7)\n",
    "num_samples = 500\n",
    "num_batches = 6\n",
    "layer = chain_layer(4)\n",
    "initial_num_gates = 40\n",
    "\n",
    "cp_decompose_adaptive(u_toff4, \n",
    "                      layer,\n",
    "                      initial_num_gates=initial_num_gates,\n",
    "                      regularization_options=reg_options,\n",
    "                      num_samples=num_samples, \n",
    "                      num_batches=num_batches,\n",
    "                      key=key,\n",
    "                      disc_func=disc2,\n",
    "                      cp_dist='uniform',\n",
    "                      save_to='toff4_chain')"
   ]
  },
  {
   "cell_type": "code",
   "execution_count": 4,
   "id": "d4358393-fdf3-45df-88f5-b65f1e675260",
   "metadata": {
    "tags": []
   },
   "outputs": [
    {
     "name": "stdout",
     "output_type": "stream",
     "text": [
      "====================\n",
      "\n",
      "Batch 1 out of 6\n",
      "r: 0.0015, num_gates: 35\n",
      "\n",
      "Computing raw results.\n"
     ]
    },
    {
     "name": "stderr",
     "output_type": "stream",
     "text": [
      "100%|██████████| 500/500 [15:44<00:00,  1.89s/it]\n"
     ]
    },
    {
     "name": "stdout",
     "output_type": "stream",
     "text": [
      "\n",
      "Selecting prospective results:\n"
     ]
    },
    {
     "name": "stderr",
     "output_type": "stream",
     "text": [
      "500it [00:14, 35.34it/s]\n"
     ]
    },
    {
     "name": "stdout",
     "output_type": "stream",
     "text": [
      "0 found.\n",
      "\n",
      "Verifying prospective results:\n"
     ]
    },
    {
     "name": "stderr",
     "output_type": "stream",
     "text": [
      "0it [00:00, ?it/s]\n"
     ]
    },
    {
     "name": "stdout",
     "output_type": "stream",
     "text": [
      "0 successful.\n",
      "cz counts are:\n",
      "[]\n",
      "\n",
      " mean cz count: 26.977272727272727, total successful: 44\n",
      "====================\n",
      "\n",
      "Batch 2 out of 6\n",
      "r: 0.0015, num_gates: 36\n",
      "\n",
      "Computing raw results.\n"
     ]
    },
    {
     "name": "stderr",
     "output_type": "stream",
     "text": [
      "100%|██████████| 500/500 [15:29<00:00,  1.86s/it]\n"
     ]
    },
    {
     "name": "stdout",
     "output_type": "stream",
     "text": [
      "\n",
      "Selecting prospective results:\n"
     ]
    },
    {
     "name": "stderr",
     "output_type": "stream",
     "text": [
      "500it [00:14, 33.88it/s]\n"
     ]
    },
    {
     "name": "stdout",
     "output_type": "stream",
     "text": [
      "0 found.\n",
      "\n",
      "Verifying prospective results:\n"
     ]
    },
    {
     "name": "stderr",
     "output_type": "stream",
     "text": [
      "0it [00:00, ?it/s]\n"
     ]
    },
    {
     "name": "stdout",
     "output_type": "stream",
     "text": [
      "0 successful.\n",
      "cz counts are:\n",
      "[]\n",
      "\n",
      " mean cz count: 27.333333333333332, total successful: 60\n",
      "====================\n",
      "\n",
      "Batch 3 out of 6\n",
      "r: 0.0016500000000000002, num_gates: 36\n",
      "\n",
      "Computing raw results.\n"
     ]
    },
    {
     "name": "stderr",
     "output_type": "stream",
     "text": [
      "100%|██████████| 500/500 [15:40<00:00,  1.88s/it]\n"
     ]
    },
    {
     "name": "stdout",
     "output_type": "stream",
     "text": [
      "\n",
      "Selecting prospective results:\n"
     ]
    },
    {
     "name": "stderr",
     "output_type": "stream",
     "text": [
      "500it [00:14, 34.87it/s]\n"
     ]
    },
    {
     "name": "stdout",
     "output_type": "stream",
     "text": [
      "0 found.\n",
      "\n",
      "Verifying prospective results:\n"
     ]
    },
    {
     "name": "stderr",
     "output_type": "stream",
     "text": [
      "0it [00:00, ?it/s]\n"
     ]
    },
    {
     "name": "stdout",
     "output_type": "stream",
     "text": [
      "0 successful.\n",
      "cz counts are:\n",
      "[]\n",
      "\n",
      " mean cz count: 27.357142857142858, total successful: 42\n",
      "====================\n",
      "\n",
      "Batch 4 out of 6\n",
      "r: 0.0018150000000000004, num_gates: 37\n",
      "\n",
      "Computing raw results.\n"
     ]
    },
    {
     "name": "stderr",
     "output_type": "stream",
     "text": [
      " 57%|█████▋    | 287/500 [09:25<06:59,  1.97s/it]\n"
     ]
    },
    {
     "ename": "KeyboardInterrupt",
     "evalue": "",
     "output_type": "error",
     "traceback": [
      "\u001b[0;31m---------------------------------------------------------------------------\u001b[0m",
      "\u001b[0;31mKeyboardInterrupt\u001b[0m                         Traceback (most recent call last)",
      "\u001b[0;32m<ipython-input-4-35877d720190>\u001b[0m in \u001b[0;36m<module>\u001b[0;34m\u001b[0m\n\u001b[1;32m     18\u001b[0m \u001b[0minitial_num_gates\u001b[0m \u001b[0;34m=\u001b[0m \u001b[0;36m35\u001b[0m\u001b[0;34m\u001b[0m\u001b[0;34m\u001b[0m\u001b[0m\n\u001b[1;32m     19\u001b[0m \u001b[0;34m\u001b[0m\u001b[0m\n\u001b[0;32m---> 20\u001b[0;31m cp_decompose_adaptive(u_toff4, \n\u001b[0m\u001b[1;32m     21\u001b[0m                       \u001b[0mlayer\u001b[0m\u001b[0;34m,\u001b[0m\u001b[0;34m\u001b[0m\u001b[0;34m\u001b[0m\u001b[0m\n\u001b[1;32m     22\u001b[0m                       \u001b[0minitial_num_gates\u001b[0m\u001b[0;34m=\u001b[0m\u001b[0minitial_num_gates\u001b[0m\u001b[0;34m,\u001b[0m\u001b[0;34m\u001b[0m\u001b[0;34m\u001b[0m\u001b[0m\n",
      "\u001b[0;32m<ipython-input-3-5db049a67b84>\u001b[0m in \u001b[0;36mcp_decompose_adaptive\u001b[0;34m(u_target, layer, initial_num_gates, regularization_options, disc_func, num_samples, key, entry_loss, threshold_loss, threshold_cp, cp_dist, save_to, num_batches, r_increment)\u001b[0m\n\u001b[1;32m     29\u001b[0m \u001b[0;34m\u001b[0m\u001b[0m\n\u001b[1;32m     30\u001b[0m         \u001b[0mkey\u001b[0m\u001b[0;34m,\u001b[0m \u001b[0msubkey\u001b[0m \u001b[0;34m=\u001b[0m \u001b[0mrandom\u001b[0m\u001b[0;34m.\u001b[0m\u001b[0msplit\u001b[0m\u001b[0;34m(\u001b[0m\u001b[0mkey\u001b[0m\u001b[0;34m)\u001b[0m\u001b[0;34m\u001b[0m\u001b[0;34m\u001b[0m\u001b[0m\n\u001b[0;32m---> 31\u001b[0;31m         successful_results, failed_results, cz_counts_list, disc_list = cp_decompose(\n\u001b[0m\u001b[1;32m     32\u001b[0m                      \u001b[0mu_target\u001b[0m\u001b[0;34m,\u001b[0m\u001b[0;34m\u001b[0m\u001b[0;34m\u001b[0m\u001b[0m\n\u001b[1;32m     33\u001b[0m                      \u001b[0manz\u001b[0m\u001b[0;34m,\u001b[0m\u001b[0;34m\u001b[0m\u001b[0;34m\u001b[0m\u001b[0m\n",
      "\u001b[0;32m~/Programming projects/jax_circuits/cp_utils.py\u001b[0m in \u001b[0;36mcp_decompose\u001b[0;34m(u_target, anz, regularization_options, disc_func, num_samples, key, entry_loss, threshold_loss, threshold_cp, cp_dist, save_successful_results, save_raw_results, save_to, report_successes)\u001b[0m\n\u001b[1;32m    294\u001b[0m \u001b[0;34m\u001b[0m\u001b[0m\n\u001b[1;32m    295\u001b[0m     \u001b[0mprint\u001b[0m\u001b[0;34m(\u001b[0m\u001b[0;34m'\\nComputing raw results.'\u001b[0m\u001b[0;34m)\u001b[0m\u001b[0;34m\u001b[0m\u001b[0;34m\u001b[0m\u001b[0m\n\u001b[0;32m--> 296\u001b[0;31m     raw_results = anz.learn(u_target,\n\u001b[0m\u001b[1;32m    297\u001b[0m                             \u001b[0mregularization_options\u001b[0m\u001b[0;34m=\u001b[0m\u001b[0mregularization_options\u001b[0m\u001b[0;34m,\u001b[0m\u001b[0;34m\u001b[0m\u001b[0;34m\u001b[0m\u001b[0m\n\u001b[1;32m    298\u001b[0m                             \u001b[0minitial_angles\u001b[0m\u001b[0;34m=\u001b[0m\u001b[0minitial_angles_array\u001b[0m\u001b[0;34m,\u001b[0m\u001b[0;34m\u001b[0m\u001b[0;34m\u001b[0m\u001b[0m\n",
      "\u001b[0;32m~/Programming projects/jax_circuits/jax_circuits.py\u001b[0m in \u001b[0;36mlearn\u001b[0;34m(self, u_target, method, learning_rate, target_loss, **kwargs)\u001b[0m\n\u001b[1;32m    202\u001b[0m               **kwargs):\n\u001b[1;32m    203\u001b[0m \u001b[0;34m\u001b[0m\u001b[0m\n\u001b[0;32m--> 204\u001b[0;31m         return unitary_learn(self.unitary,\n\u001b[0m\u001b[1;32m    205\u001b[0m                              \u001b[0mu_target\u001b[0m\u001b[0;34m,\u001b[0m\u001b[0;34m\u001b[0m\u001b[0;34m\u001b[0m\u001b[0m\n\u001b[1;32m    206\u001b[0m                              \u001b[0mself\u001b[0m\u001b[0;34m.\u001b[0m\u001b[0mnum_angles\u001b[0m\u001b[0;34m,\u001b[0m\u001b[0;34m\u001b[0m\u001b[0;34m\u001b[0m\u001b[0m\n",
      "\u001b[0;32m~/Programming projects/jax_circuits/optimization.py\u001b[0m in \u001b[0;36munitary_learn\u001b[0;34m(u_func, u_target, num_params, method, learning_rate, target_loss, disc_func, regularization_options, initial_angles, num_repeats, **kwargs)\u001b[0m\n\u001b[1;32m    369\u001b[0m         \u001b[0mregularization_func\u001b[0m \u001b[0;34m=\u001b[0m \u001b[0;32mlambda\u001b[0m \u001b[0mx\u001b[0m\u001b[0;34m:\u001b[0m \u001b[0;36m0\u001b[0m\u001b[0;34m\u001b[0m\u001b[0;34m\u001b[0m\u001b[0m\n\u001b[1;32m    370\u001b[0m \u001b[0;34m\u001b[0m\u001b[0m\n\u001b[0;32m--> 371\u001b[0;31m     return mynimize_repeated(loss_func,\n\u001b[0m\u001b[1;32m    372\u001b[0m                              \u001b[0mnum_params\u001b[0m\u001b[0;34m,\u001b[0m\u001b[0;34m\u001b[0m\u001b[0;34m\u001b[0m\u001b[0m\n\u001b[1;32m    373\u001b[0m                              \u001b[0mmethod\u001b[0m\u001b[0;34m=\u001b[0m\u001b[0mmethod\u001b[0m\u001b[0;34m,\u001b[0m\u001b[0;34m\u001b[0m\u001b[0;34m\u001b[0m\u001b[0m\n",
      "\u001b[0;32m~/Programming projects/jax_circuits/optimization.py\u001b[0m in \u001b[0;36mmynimize_repeated\u001b[0;34m(loss_func, num_params, method, learning_rate, target_loss, u_func, initial_params_batch, num_repeats, regularization_func, **kwargs)\u001b[0m\n\u001b[1;32m    315\u001b[0m \u001b[0;34m\u001b[0m\u001b[0m\n\u001b[1;32m    316\u001b[0m     \u001b[0;32mfor\u001b[0m \u001b[0minitial_params\u001b[0m \u001b[0;32min\u001b[0m \u001b[0mtqdm\u001b[0m\u001b[0;34m(\u001b[0m\u001b[0minitial_params_batch\u001b[0m\u001b[0;34m,\u001b[0m \u001b[0mdisable\u001b[0m\u001b[0;34m=\u001b[0m\u001b[0;34m(\u001b[0m\u001b[0;32mnot\u001b[0m \u001b[0minput_is_vector\u001b[0m\u001b[0;34m)\u001b[0m\u001b[0;34m)\u001b[0m\u001b[0;34m:\u001b[0m\u001b[0;34m\u001b[0m\u001b[0;34m\u001b[0m\u001b[0m\n\u001b[0;32m--> 317\u001b[0;31m         learn_result = mynimize(regloss_func,\n\u001b[0m\u001b[1;32m    318\u001b[0m                                 \u001b[0mnum_params\u001b[0m\u001b[0;34m,\u001b[0m\u001b[0;34m\u001b[0m\u001b[0;34m\u001b[0m\u001b[0m\n\u001b[1;32m    319\u001b[0m                                 \u001b[0mmethod\u001b[0m\u001b[0;34m=\u001b[0m\u001b[0mmethod\u001b[0m\u001b[0;34m,\u001b[0m\u001b[0;34m\u001b[0m\u001b[0;34m\u001b[0m\u001b[0m\n",
      "\u001b[0;32m~/Programming projects/jax_circuits/optimization.py\u001b[0m in \u001b[0;36mmynimize\u001b[0;34m(loss_func, num_params, method, learning_rate, opt_instance, u_func, loss_is_loss_and_grad, target_loss, **kwargs)\u001b[0m\n\u001b[1;32m    195\u001b[0m         \u001b[0;32mif\u001b[0m \u001b[0mopt_instance\u001b[0m \u001b[0;32mis\u001b[0m \u001b[0;32mNone\u001b[0m\u001b[0;34m:\u001b[0m\u001b[0;34m\u001b[0m\u001b[0;34m\u001b[0m\u001b[0m\n\u001b[1;32m    196\u001b[0m             \u001b[0mopt_instance\u001b[0m \u001b[0;34m=\u001b[0m \u001b[0moptax\u001b[0m\u001b[0;34m.\u001b[0m\u001b[0madam\u001b[0m\u001b[0;34m(\u001b[0m\u001b[0mlearning_rate\u001b[0m\u001b[0;34m)\u001b[0m\u001b[0;34m\u001b[0m\u001b[0;34m\u001b[0m\u001b[0m\n\u001b[0;32m--> 197\u001b[0;31m         angles_history, loss_history = optax_minimize(loss_func,\n\u001b[0m\u001b[1;32m    198\u001b[0m                                                       \u001b[0mnum_params\u001b[0m\u001b[0;34m,\u001b[0m\u001b[0;34m\u001b[0m\u001b[0;34m\u001b[0m\u001b[0m\n\u001b[1;32m    199\u001b[0m                                                       \u001b[0mopt_instance\u001b[0m\u001b[0;34m,\u001b[0m\u001b[0;34m\u001b[0m\u001b[0;34m\u001b[0m\u001b[0m\n",
      "\u001b[0;32m~/Programming projects/jax_circuits/optimization.py\u001b[0m in \u001b[0;36moptax_minimize\u001b[0;34m(loss_func, num_params, opt, preconditioner_func, loss_is_loss_and_grad, initial_params, num_iterations, target_loss)\u001b[0m\n\u001b[1;32m     57\u001b[0m             \u001b[0;32mbreak\u001b[0m\u001b[0;34m\u001b[0m\u001b[0;34m\u001b[0m\u001b[0m\n\u001b[1;32m     58\u001b[0m \u001b[0;34m\u001b[0m\u001b[0m\n\u001b[0;32m---> 59\u001b[0;31m     \u001b[0;32mreturn\u001b[0m \u001b[0mjnp\u001b[0m\u001b[0;34m.\u001b[0m\u001b[0marray\u001b[0m\u001b[0;34m(\u001b[0m\u001b[0mparams_history\u001b[0m\u001b[0;34m)\u001b[0m\u001b[0;34m,\u001b[0m \u001b[0mjnp\u001b[0m\u001b[0;34m.\u001b[0m\u001b[0marray\u001b[0m\u001b[0;34m(\u001b[0m\u001b[0mloss_history\u001b[0m\u001b[0;34m)\u001b[0m\u001b[0;34m\u001b[0m\u001b[0;34m\u001b[0m\u001b[0m\n\u001b[0m\u001b[1;32m     60\u001b[0m \u001b[0;34m\u001b[0m\u001b[0m\n\u001b[1;32m     61\u001b[0m \u001b[0;34m\u001b[0m\u001b[0m\n",
      "\u001b[0;32m~/.local/lib/python3.8/site-packages/jax/_src/numpy/lax_numpy.py\u001b[0m in \u001b[0;36marray\u001b[0;34m(object, dtype, copy, order, ndmin)\u001b[0m\n\u001b[1;32m   2955\u001b[0m   \u001b[0;32melif\u001b[0m \u001b[0misinstance\u001b[0m\u001b[0;34m(\u001b[0m\u001b[0mobject\u001b[0m\u001b[0;34m,\u001b[0m \u001b[0;34m(\u001b[0m\u001b[0mlist\u001b[0m\u001b[0;34m,\u001b[0m \u001b[0mtuple\u001b[0m\u001b[0;34m)\u001b[0m\u001b[0;34m)\u001b[0m\u001b[0;34m:\u001b[0m\u001b[0;34m\u001b[0m\u001b[0;34m\u001b[0m\u001b[0m\n\u001b[1;32m   2956\u001b[0m     \u001b[0;32mif\u001b[0m \u001b[0mobject\u001b[0m\u001b[0;34m:\u001b[0m\u001b[0;34m\u001b[0m\u001b[0;34m\u001b[0m\u001b[0m\n\u001b[0;32m-> 2957\u001b[0;31m       \u001b[0mout\u001b[0m \u001b[0;34m=\u001b[0m \u001b[0mstack\u001b[0m\u001b[0;34m(\u001b[0m\u001b[0;34m[\u001b[0m\u001b[0masarray\u001b[0m\u001b[0;34m(\u001b[0m\u001b[0melt\u001b[0m\u001b[0;34m,\u001b[0m \u001b[0mdtype\u001b[0m\u001b[0;34m=\u001b[0m\u001b[0mdtype\u001b[0m\u001b[0;34m)\u001b[0m \u001b[0;32mfor\u001b[0m \u001b[0melt\u001b[0m \u001b[0;32min\u001b[0m \u001b[0mobject\u001b[0m\u001b[0;34m]\u001b[0m\u001b[0;34m)\u001b[0m\u001b[0;34m\u001b[0m\u001b[0;34m\u001b[0m\u001b[0m\n\u001b[0m\u001b[1;32m   2958\u001b[0m     \u001b[0;32melse\u001b[0m\u001b[0;34m:\u001b[0m\u001b[0;34m\u001b[0m\u001b[0;34m\u001b[0m\u001b[0m\n\u001b[1;32m   2959\u001b[0m       \u001b[0mout\u001b[0m \u001b[0;34m=\u001b[0m \u001b[0m_device_put_raw\u001b[0m\u001b[0;34m(\u001b[0m\u001b[0m_np_array\u001b[0m\u001b[0;34m(\u001b[0m\u001b[0;34m[\u001b[0m\u001b[0;34m]\u001b[0m\u001b[0;34m,\u001b[0m \u001b[0mdtype\u001b[0m\u001b[0;34m=\u001b[0m\u001b[0mdtype\u001b[0m\u001b[0;34m)\u001b[0m\u001b[0;34m)\u001b[0m\u001b[0;34m\u001b[0m\u001b[0;34m\u001b[0m\u001b[0m\n",
      "\u001b[0;32m~/.local/lib/python3.8/site-packages/jax/_src/numpy/lax_numpy.py\u001b[0m in \u001b[0;36mstack\u001b[0;34m(arrays, axis, out)\u001b[0m\n\u001b[1;32m   2759\u001b[0m     \u001b[0;32mif\u001b[0m \u001b[0mshape\u001b[0m\u001b[0;34m(\u001b[0m\u001b[0ma\u001b[0m\u001b[0;34m)\u001b[0m \u001b[0;34m!=\u001b[0m \u001b[0mshape0\u001b[0m\u001b[0;34m:\u001b[0m\u001b[0;34m\u001b[0m\u001b[0;34m\u001b[0m\u001b[0m\n\u001b[1;32m   2760\u001b[0m       \u001b[0;32mraise\u001b[0m \u001b[0mValueError\u001b[0m\u001b[0;34m(\u001b[0m\u001b[0;34m\"All input arrays must have the same shape.\"\u001b[0m\u001b[0;34m)\u001b[0m\u001b[0;34m\u001b[0m\u001b[0;34m\u001b[0m\u001b[0m\n\u001b[0;32m-> 2761\u001b[0;31m     \u001b[0mnew_arrays\u001b[0m\u001b[0;34m.\u001b[0m\u001b[0mappend\u001b[0m\u001b[0;34m(\u001b[0m\u001b[0mexpand_dims\u001b[0m\u001b[0;34m(\u001b[0m\u001b[0ma\u001b[0m\u001b[0;34m,\u001b[0m \u001b[0maxis\u001b[0m\u001b[0;34m)\u001b[0m\u001b[0;34m)\u001b[0m\u001b[0;34m\u001b[0m\u001b[0;34m\u001b[0m\u001b[0m\n\u001b[0m\u001b[1;32m   2762\u001b[0m   \u001b[0;32mreturn\u001b[0m \u001b[0mconcatenate\u001b[0m\u001b[0;34m(\u001b[0m\u001b[0mnew_arrays\u001b[0m\u001b[0;34m,\u001b[0m \u001b[0maxis\u001b[0m\u001b[0;34m=\u001b[0m\u001b[0maxis\u001b[0m\u001b[0;34m)\u001b[0m\u001b[0;34m\u001b[0m\u001b[0;34m\u001b[0m\u001b[0m\n\u001b[1;32m   2763\u001b[0m \u001b[0;34m\u001b[0m\u001b[0m\n",
      "\u001b[0;32m~/.local/lib/python3.8/site-packages/jax/_src/numpy/lax_numpy.py\u001b[0m in \u001b[0;36mexpand_dims\u001b[0;34m(a, axis)\u001b[0m\n\u001b[1;32m   1425\u001b[0m   \u001b[0;32mif\u001b[0m \u001b[0;32mnot\u001b[0m \u001b[0misinstance\u001b[0m\u001b[0;34m(\u001b[0m\u001b[0maxis\u001b[0m\u001b[0;34m,\u001b[0m \u001b[0mtuple\u001b[0m\u001b[0;34m)\u001b[0m\u001b[0;34m:\u001b[0m\u001b[0;34m\u001b[0m\u001b[0;34m\u001b[0m\u001b[0m\n\u001b[1;32m   1426\u001b[0m     \u001b[0maxis\u001b[0m \u001b[0;34m=\u001b[0m \u001b[0;34m(\u001b[0m\u001b[0maxis\u001b[0m\u001b[0;34m,\u001b[0m\u001b[0;34m)\u001b[0m\u001b[0;34m\u001b[0m\u001b[0;34m\u001b[0m\u001b[0m\n\u001b[0;32m-> 1427\u001b[0;31m   \u001b[0;32mreturn\u001b[0m \u001b[0mlax\u001b[0m\u001b[0;34m.\u001b[0m\u001b[0mexpand_dims\u001b[0m\u001b[0;34m(\u001b[0m\u001b[0ma\u001b[0m\u001b[0;34m,\u001b[0m \u001b[0maxis\u001b[0m\u001b[0;34m)\u001b[0m\u001b[0;34m\u001b[0m\u001b[0;34m\u001b[0m\u001b[0m\n\u001b[0m\u001b[1;32m   1428\u001b[0m \u001b[0;34m\u001b[0m\u001b[0m\n\u001b[1;32m   1429\u001b[0m \u001b[0;34m\u001b[0m\u001b[0m\n",
      "\u001b[0;32m~/.local/lib/python3.8/site-packages/jax/_src/lax/lax.py\u001b[0m in \u001b[0;36mexpand_dims\u001b[0;34m(array, dimensions)\u001b[0m\n\u001b[1;32m   3816\u001b[0m     \u001b[0mresult_shape\u001b[0m\u001b[0;34m.\u001b[0m\u001b[0minsert\u001b[0m\u001b[0;34m(\u001b[0m\u001b[0mi\u001b[0m\u001b[0;34m,\u001b[0m \u001b[0;36m1\u001b[0m\u001b[0;34m)\u001b[0m\u001b[0;34m\u001b[0m\u001b[0;34m\u001b[0m\u001b[0m\n\u001b[1;32m   3817\u001b[0m   \u001b[0mbroadcast_dims\u001b[0m \u001b[0;34m=\u001b[0m \u001b[0;34m[\u001b[0m\u001b[0mi\u001b[0m \u001b[0;32mfor\u001b[0m \u001b[0mi\u001b[0m \u001b[0;32min\u001b[0m \u001b[0mrange\u001b[0m\u001b[0;34m(\u001b[0m\u001b[0mndim_out\u001b[0m\u001b[0;34m)\u001b[0m \u001b[0;32mif\u001b[0m \u001b[0mi\u001b[0m \u001b[0;32mnot\u001b[0m \u001b[0;32min\u001b[0m \u001b[0mdims_set\u001b[0m\u001b[0;34m]\u001b[0m\u001b[0;34m\u001b[0m\u001b[0;34m\u001b[0m\u001b[0m\n\u001b[0;32m-> 3818\u001b[0;31m   \u001b[0;32mreturn\u001b[0m \u001b[0mbroadcast_in_dim\u001b[0m\u001b[0;34m(\u001b[0m\u001b[0marray\u001b[0m\u001b[0;34m,\u001b[0m \u001b[0mresult_shape\u001b[0m\u001b[0;34m,\u001b[0m \u001b[0mbroadcast_dims\u001b[0m\u001b[0;34m)\u001b[0m\u001b[0;34m\u001b[0m\u001b[0;34m\u001b[0m\u001b[0m\n\u001b[0m\u001b[1;32m   3819\u001b[0m \u001b[0;34m\u001b[0m\u001b[0m\n\u001b[1;32m   3820\u001b[0m \u001b[0;34m\u001b[0m\u001b[0m\n",
      "\u001b[0;32m~/.local/lib/python3.8/site-packages/jax/_src/lax/lax.py\u001b[0m in \u001b[0;36mbroadcast_in_dim\u001b[0;34m(operand, shape, broadcast_dimensions)\u001b[0m\n\u001b[1;32m    731\u001b[0m       and isinstance(operand, (xla.DeviceArray, core.Tracer))):\n\u001b[1;32m    732\u001b[0m     \u001b[0;32mreturn\u001b[0m \u001b[0moperand\u001b[0m\u001b[0;34m\u001b[0m\u001b[0;34m\u001b[0m\u001b[0m\n\u001b[0;32m--> 733\u001b[0;31m   return broadcast_in_dim_p.bind(\n\u001b[0m\u001b[1;32m    734\u001b[0m       \u001b[0moperand\u001b[0m\u001b[0;34m,\u001b[0m \u001b[0mshape\u001b[0m\u001b[0;34m=\u001b[0m\u001b[0mtuple\u001b[0m\u001b[0;34m(\u001b[0m\u001b[0mshape\u001b[0m\u001b[0;34m)\u001b[0m\u001b[0;34m,\u001b[0m\u001b[0;34m\u001b[0m\u001b[0;34m\u001b[0m\u001b[0m\n\u001b[1;32m    735\u001b[0m       broadcast_dimensions=tuple(broadcast_dimensions))\n",
      "\u001b[0;32m~/.local/lib/python3.8/site-packages/jax/core.py\u001b[0m in \u001b[0;36mbind\u001b[0;34m(self, *args, **params)\u001b[0m\n\u001b[1;32m    262\u001b[0m         args, used_axis_names(self, params) if self._dispatch_on_params else None)\n\u001b[1;32m    263\u001b[0m     \u001b[0mtracers\u001b[0m \u001b[0;34m=\u001b[0m \u001b[0mmap\u001b[0m\u001b[0;34m(\u001b[0m\u001b[0mtop_trace\u001b[0m\u001b[0;34m.\u001b[0m\u001b[0mfull_raise\u001b[0m\u001b[0;34m,\u001b[0m \u001b[0margs\u001b[0m\u001b[0;34m)\u001b[0m\u001b[0;34m\u001b[0m\u001b[0;34m\u001b[0m\u001b[0m\n\u001b[0;32m--> 264\u001b[0;31m     \u001b[0mout\u001b[0m \u001b[0;34m=\u001b[0m \u001b[0mtop_trace\u001b[0m\u001b[0;34m.\u001b[0m\u001b[0mprocess_primitive\u001b[0m\u001b[0;34m(\u001b[0m\u001b[0mself\u001b[0m\u001b[0;34m,\u001b[0m \u001b[0mtracers\u001b[0m\u001b[0;34m,\u001b[0m \u001b[0mparams\u001b[0m\u001b[0;34m)\u001b[0m\u001b[0;34m\u001b[0m\u001b[0;34m\u001b[0m\u001b[0m\n\u001b[0m\u001b[1;32m    265\u001b[0m     \u001b[0;32mreturn\u001b[0m \u001b[0mmap\u001b[0m\u001b[0;34m(\u001b[0m\u001b[0mfull_lower\u001b[0m\u001b[0;34m,\u001b[0m \u001b[0mout\u001b[0m\u001b[0;34m)\u001b[0m \u001b[0;32mif\u001b[0m \u001b[0mself\u001b[0m\u001b[0;34m.\u001b[0m\u001b[0mmultiple_results\u001b[0m \u001b[0;32melse\u001b[0m \u001b[0mfull_lower\u001b[0m\u001b[0;34m(\u001b[0m\u001b[0mout\u001b[0m\u001b[0;34m)\u001b[0m\u001b[0;34m\u001b[0m\u001b[0;34m\u001b[0m\u001b[0m\n\u001b[1;32m    266\u001b[0m \u001b[0;34m\u001b[0m\u001b[0m\n",
      "\u001b[0;32m~/.local/lib/python3.8/site-packages/jax/core.py\u001b[0m in \u001b[0;36mprocess_primitive\u001b[0;34m(self, primitive, tracers, params)\u001b[0m\n\u001b[1;32m    604\u001b[0m \u001b[0;34m\u001b[0m\u001b[0m\n\u001b[1;32m    605\u001b[0m   \u001b[0;32mdef\u001b[0m \u001b[0mprocess_primitive\u001b[0m\u001b[0;34m(\u001b[0m\u001b[0mself\u001b[0m\u001b[0;34m,\u001b[0m \u001b[0mprimitive\u001b[0m\u001b[0;34m,\u001b[0m \u001b[0mtracers\u001b[0m\u001b[0;34m,\u001b[0m \u001b[0mparams\u001b[0m\u001b[0;34m)\u001b[0m\u001b[0;34m:\u001b[0m\u001b[0;34m\u001b[0m\u001b[0;34m\u001b[0m\u001b[0m\n\u001b[0;32m--> 606\u001b[0;31m     \u001b[0;32mreturn\u001b[0m \u001b[0mprimitive\u001b[0m\u001b[0;34m.\u001b[0m\u001b[0mimpl\u001b[0m\u001b[0;34m(\u001b[0m\u001b[0;34m*\u001b[0m\u001b[0mtracers\u001b[0m\u001b[0;34m,\u001b[0m \u001b[0;34m**\u001b[0m\u001b[0mparams\u001b[0m\u001b[0;34m)\u001b[0m\u001b[0;34m\u001b[0m\u001b[0;34m\u001b[0m\u001b[0m\n\u001b[0m\u001b[1;32m    607\u001b[0m \u001b[0;34m\u001b[0m\u001b[0m\n\u001b[1;32m    608\u001b[0m   \u001b[0;32mdef\u001b[0m \u001b[0mprocess_call\u001b[0m\u001b[0;34m(\u001b[0m\u001b[0mself\u001b[0m\u001b[0;34m,\u001b[0m \u001b[0mprimitive\u001b[0m\u001b[0;34m,\u001b[0m \u001b[0mf\u001b[0m\u001b[0;34m,\u001b[0m \u001b[0mtracers\u001b[0m\u001b[0;34m,\u001b[0m \u001b[0mparams\u001b[0m\u001b[0;34m)\u001b[0m\u001b[0;34m:\u001b[0m\u001b[0;34m\u001b[0m\u001b[0;34m\u001b[0m\u001b[0m\n",
      "\u001b[0;32m~/.local/lib/python3.8/site-packages/jax/interpreters/xla.py\u001b[0m in \u001b[0;36mapply_primitive\u001b[0;34m(prim, *args, **params)\u001b[0m\n\u001b[1;32m    227\u001b[0m     \u001b[0;32mreturn\u001b[0m \u001b[0maval\u001b[0m\u001b[0;34m,\u001b[0m \u001b[0;32mNone\u001b[0m\u001b[0;34m\u001b[0m\u001b[0;34m\u001b[0m\u001b[0m\n\u001b[1;32m    228\u001b[0m \u001b[0;34m\u001b[0m\u001b[0m\n\u001b[0;32m--> 229\u001b[0;31m \u001b[0;32mdef\u001b[0m \u001b[0mapply_primitive\u001b[0m\u001b[0;34m(\u001b[0m\u001b[0mprim\u001b[0m\u001b[0;34m,\u001b[0m \u001b[0;34m*\u001b[0m\u001b[0margs\u001b[0m\u001b[0;34m,\u001b[0m \u001b[0;34m**\u001b[0m\u001b[0mparams\u001b[0m\u001b[0;34m)\u001b[0m\u001b[0;34m:\u001b[0m\u001b[0;34m\u001b[0m\u001b[0;34m\u001b[0m\u001b[0m\n\u001b[0m\u001b[1;32m    230\u001b[0m   \u001b[0;34m\"\"\"Impl rule that compiles and runs a single primitive 'prim' using XLA.\"\"\"\u001b[0m\u001b[0;34m\u001b[0m\u001b[0;34m\u001b[0m\u001b[0m\n\u001b[1;32m    231\u001b[0m   \u001b[0mcompiled_fun\u001b[0m \u001b[0;34m=\u001b[0m \u001b[0mxla_primitive_callable\u001b[0m\u001b[0;34m(\u001b[0m\u001b[0mprim\u001b[0m\u001b[0;34m,\u001b[0m \u001b[0;34m*\u001b[0m\u001b[0munsafe_map\u001b[0m\u001b[0;34m(\u001b[0m\u001b[0marg_spec\u001b[0m\u001b[0;34m,\u001b[0m \u001b[0margs\u001b[0m\u001b[0;34m)\u001b[0m\u001b[0;34m,\u001b[0m \u001b[0;34m**\u001b[0m\u001b[0mparams\u001b[0m\u001b[0;34m)\u001b[0m\u001b[0;34m\u001b[0m\u001b[0;34m\u001b[0m\u001b[0m\n",
      "\u001b[0;31mKeyboardInterrupt\u001b[0m: "
     ]
    }
   ],
   "source": [
    "qc = QuantumCircuit(4)\n",
    "qc.mct([0, 1, 2], 3)\n",
    "u_toff4 = Operator(qc.reverse_bits()).data\n",
    "\n",
    "reg_options = {'r': 0.0015,\n",
    "               'function': 'linear',\n",
    "               'ymax': 2,\n",
    "               'xmax': jnp.pi/2,\n",
    "               'plato': 0.05,\n",
    "               'num_gates': 20,\n",
    "               'angle_tolerance': 0.2,\n",
    "               }\n",
    "\n",
    "key = random.PRNGKey(7)\n",
    "num_samples = 500\n",
    "num_batches = 6\n",
    "layer = chain_layer(4)\n",
    "initial_num_gates = 35\n",
    "\n",
    "cp_decompose_adaptive(u_toff4, \n",
    "                      layer,\n",
    "                      initial_num_gates=initial_num_gates,\n",
    "                      regularization_options=reg_options,\n",
    "                      num_samples=num_samples, \n",
    "                      num_batches=num_batches,\n",
    "                      key=key,\n",
    "                      disc_func=disc2,\n",
    "                      cp_dist='uniform',\n",
    "                      save_to='toff4_chain')"
   ]
  },
  {
   "cell_type": "code",
   "execution_count": 32,
   "id": "5729b58b-e4e7-4e00-83e4-bb34ecbe1c90",
   "metadata": {},
   "outputs": [
    {
     "data": {
      "text/plain": [
       "DeviceArray(8.34465e-07, dtype=float32)"
      ]
     },
     "execution_count": 32,
     "metadata": {},
     "output_type": "execute_result"
    }
   ],
   "source": [
    "cz, circ, u, angs = successful_results[-1]\n",
    "disc2(u(angs), u_toff4)"
   ]
  },
  {
   "cell_type": "code",
   "execution_count": 31,
   "id": "2cc55a29-fb46-4d21-bc4d-0d466395eb7d",
   "metadata": {},
   "outputs": [
    {
     "data": {
      "image/png": "[encoded data removed]",
      "text/plain": [
       "<Figure size 1591.6x1167.88 with 1 Axes>"
      ]
     },
     "execution_count": 31,
     "metadata": {},
     "output_type": "execute_result"
    }
   ],
   "source": [
    "circ(angs).draw(output='mpl')"
   ]
  },
  {
   "cell_type": "code",
   "execution_count": 17,
   "id": "52be0a49-bf76-4ba2-9a1c-2951663ef1bd",
   "metadata": {},
   "outputs": [
    {
     "name": "stdout",
     "output_type": "stream",
     "text": [
      "\n",
      "Computing raw results.\n"
     ]
    },
    {
     "name": "stderr",
     "output_type": "stream",
     "text": [
      "100%|██████████| 300/300 [12:19<00:00,  2.46s/it]\n"
     ]
    },
    {
     "name": "stdout",
     "output_type": "stream",
     "text": [
      "\n",
      "Selecting prospective results:\n"
     ]
    },
    {
     "name": "stderr",
     "output_type": "stream",
     "text": [
      "300it [00:05, 53.81it/s]\n"
     ]
    },
    {
     "name": "stdout",
     "output_type": "stream",
     "text": [
      "0 found.\n",
      "\n",
      "Verifying prospective results:\n"
     ]
    },
    {
     "name": "stderr",
     "output_type": "stream",
     "text": [
      "0it [00:00, ?it/s]"
     ]
    },
    {
     "name": "stdout",
     "output_type": "stream",
     "text": [
      "0 sucessfull.\n",
      "cz counts are:\n",
      "[]\n"
     ]
    },
    {
     "name": "stderr",
     "output_type": "stream",
     "text": [
      "\n"
     ]
    }
   ],
   "source": [
    "qc = QuantumCircuit(4)\n",
    "qc.mct([0, 1, 2], 3)\n",
    "u_toff4 = Operator(qc.reverse_bits()).data\n",
    "\n",
    "\n",
    "anz = Ansatz(4, 'cp', fill_layers(sequ_layer(4), 26))\n",
    "                                  \n",
    "\n",
    "reg_options = {'r': 0.002,\n",
    "               'function': 'linear',\n",
    "               'ymax': 2,\n",
    "               'xmax': jnp.pi/2,\n",
    "               'plato': 0.05,\n",
    "               'num_gates': 16,\n",
    "               'angle_tolerance': 0.2,\n",
    "               'cp_mask': anz.cp_mask}\n",
    "\n",
    "key = random.PRNGKey(135)\n",
    "num_samples = 300\n",
    "\n",
    "successful_results, failed_results = decompose(u_toff4, \n",
    "                                               anz,\n",
    "                                               regularization_options=reg_options,\n",
    "                                               num_samples=num_samples, \n",
    "                                               key=key,\n",
    "                                               cp_dist='0'\n",
    "                                               )"
   ]
  },
  {
   "cell_type": "markdown",
   "id": "d18b7a3b-3fb0-4528-a0e1-2f59dcace71c",
   "metadata": {
    "tags": []
   },
   "source": [
    "# Toffoli 5"
   ]
  },
  {
   "cell_type": "markdown",
   "id": "9c0bfbd8-3b29-4eab-9a9d-733acde28940",
   "metadata": {
    "tags": []
   },
   "source": [
    "## Connected"
   ]
  },
  {
   "cell_type": "code",
   "execution_count": 32,
   "id": "2aab7108-4cde-4f3a-afe2-3fdda40e87b9",
   "metadata": {},
   "outputs": [
    {
     "name": "stdout",
     "output_type": "stream",
     "text": [
      "====================\n",
      "\n",
      "Batch 1 out of 5\n",
      "r: 0.0001, num_gates: 90\n",
      "\n",
      "Computing raw results.\n"
     ]
    },
    {
     "name": "stderr",
     "output_type": "stream",
     "text": [
      "100%|██████████| 200/200 [19:09<00:00,  5.75s/it]\n"
     ]
    },
    {
     "name": "stdout",
     "output_type": "stream",
     "text": [
      "\n",
      "Selecting prospective results:\n"
     ]
    },
    {
     "name": "stderr",
     "output_type": "stream",
     "text": [
      "200it [00:14, 13.84it/s]\n"
     ]
    },
    {
     "name": "stdout",
     "output_type": "stream",
     "text": [
      "0 found.\n",
      "\n",
      "Verifying prospective results:\n"
     ]
    },
    {
     "name": "stderr",
     "output_type": "stream",
     "text": [
      "0it [00:00, ?it/s]\n"
     ]
    },
    {
     "name": "stdout",
     "output_type": "stream",
     "text": [
      "0 successful.\n",
      "cz counts are:\n",
      "[]\n",
      "\n",
      " mean cz count: 94.0, total successful: 2\n",
      "====================\n",
      "\n",
      "Batch 2 out of 5\n",
      "r: 0.0001, num_gates: 91\n",
      "\n",
      "Computing raw results.\n"
     ]
    },
    {
     "name": "stderr",
     "output_type": "stream",
     "text": [
      "100%|██████████| 200/200 [25:07<00:00,  7.54s/it]  \n"
     ]
    },
    {
     "name": "stdout",
     "output_type": "stream",
     "text": [
      "\n",
      "Selecting prospective results:\n"
     ]
    },
    {
     "name": "stderr",
     "output_type": "stream",
     "text": [
      "200it [00:14, 13.52it/s]\n"
     ]
    },
    {
     "name": "stdout",
     "output_type": "stream",
     "text": [
      "0 found.\n",
      "\n",
      "Verifying prospective results:\n"
     ]
    },
    {
     "name": "stderr",
     "output_type": "stream",
     "text": [
      "0it [00:00, ?it/s]\n"
     ]
    },
    {
     "name": "stdout",
     "output_type": "stream",
     "text": [
      "0 successful.\n",
      "cz counts are:\n",
      "[]\n",
      "\n",
      " mean cz count: 103.0, total successful: 1\n",
      "====================\n",
      "\n",
      "Batch 3 out of 5\n",
      "r: 0.00011000000000000002, num_gates: 92\n",
      "\n",
      "Computing raw results.\n"
     ]
    },
    {
     "name": "stderr",
     "output_type": "stream",
     "text": [
      "100%|██████████| 200/200 [19:31<00:00,  5.86s/it]\n"
     ]
    },
    {
     "name": "stdout",
     "output_type": "stream",
     "text": [
      "\n",
      "Selecting prospective results:\n"
     ]
    },
    {
     "name": "stderr",
     "output_type": "stream",
     "text": [
      "200it [00:13, 14.36it/s]\n"
     ]
    },
    {
     "name": "stdout",
     "output_type": "stream",
     "text": [
      "0 found.\n",
      "\n",
      "Verifying prospective results:\n"
     ]
    },
    {
     "name": "stderr",
     "output_type": "stream",
     "text": [
      "0it [00:00, ?it/s]\n"
     ]
    },
    {
     "name": "stdout",
     "output_type": "stream",
     "text": [
      "0 successful.\n",
      "cz counts are:\n",
      "[]\n",
      "\n",
      " mean cz count: 99.0, total successful: 1\n",
      "====================\n",
      "\n",
      "Batch 4 out of 5\n",
      "r: 0.00011000000000000002, num_gates: 92\n",
      "\n",
      "Computing raw results.\n"
     ]
    },
    {
     "name": "stderr",
     "output_type": "stream",
     "text": [
      "100%|██████████| 200/200 [19:19<00:00,  5.80s/it]\n"
     ]
    },
    {
     "name": "stdout",
     "output_type": "stream",
     "text": [
      "\n",
      "Selecting prospective results:\n"
     ]
    },
    {
     "name": "stderr",
     "output_type": "stream",
     "text": [
      "200it [00:17, 11.29it/s]\n"
     ]
    },
    {
     "name": "stdout",
     "output_type": "stream",
     "text": [
      "0 found.\n",
      "\n",
      "Verifying prospective results:\n"
     ]
    },
    {
     "name": "stderr",
     "output_type": "stream",
     "text": [
      "0it [00:00, ?it/s]\n"
     ]
    },
    {
     "name": "stdout",
     "output_type": "stream",
     "text": [
      "0 successful.\n",
      "cz counts are:\n",
      "[]\n",
      "\n",
      " mean cz count: 0, total successful: 0\n",
      "====================\n",
      "\n",
      "Batch 5 out of 5\n",
      "r: 0.00011000000000000002, num_gates: 93\n",
      "\n",
      "Computing raw results.\n"
     ]
    },
    {
     "name": "stderr",
     "output_type": "stream",
     "text": [
      "100%|██████████| 200/200 [20:02<00:00,  6.01s/it]\n"
     ]
    },
    {
     "name": "stdout",
     "output_type": "stream",
     "text": [
      "\n",
      "Selecting prospective results:\n"
     ]
    },
    {
     "name": "stderr",
     "output_type": "stream",
     "text": [
      "200it [00:14, 14.26it/s]\n"
     ]
    },
    {
     "name": "stdout",
     "output_type": "stream",
     "text": [
      "0 found.\n",
      "\n",
      "Verifying prospective results:\n"
     ]
    },
    {
     "name": "stderr",
     "output_type": "stream",
     "text": [
      "0it [00:00, ?it/s]\n"
     ]
    },
    {
     "name": "stdout",
     "output_type": "stream",
     "text": [
      "0 successful.\n",
      "cz counts are:\n",
      "[]\n",
      "\n",
      " mean cz count: 0, total successful: 0\n"
     ]
    }
   ],
   "source": [
    "qc = QuantumCircuit(5)\n",
    "qc.mct([0, 1, 2, 3], 4)\n",
    "u_toff5 = Operator(qc.reverse_bits()).data\n",
    "\n",
    "reg_options = {'r': 0.0001,\n",
    "               'function': 'linear',\n",
    "               'ymax': 2,\n",
    "               'xmax': jnp.pi/2,\n",
    "               'plato': 0.05,\n",
    "               'num_gates': 75,\n",
    "               }\n",
    "\n",
    "key = random.PRNGKey(1)\n",
    "num_samples = 200\n",
    "num_batches = 5\n",
    "\n",
    "layer = chain_layer(5)\n",
    "initial_num_gates = 90\n",
    "\n",
    "cp_decompose_adaptive(u_toff5, \n",
    "                      layer,\n",
    "                      initial_num_gates=initial_num_gates,\n",
    "                      regularization_options=reg_options,\n",
    "                      num_samples=num_samples, \n",
    "                      num_batches=num_batches,\n",
    "                      key=key,\n",
    "                      disc_func=disc2,\n",
    "                      cp_dist='uniform',\n",
    "                      save_to='toff5_conn')"
   ]
  },
  {
   "cell_type": "markdown",
   "id": "6e5a2ca6-4004-4444-97e9-f368ebcac191",
   "metadata": {
    "tags": []
   },
   "source": [
    "# Learning in the difficult region"
   ]
  },
  {
   "cell_type": "code",
   "execution_count": 53,
   "id": "799916dd-7ca8-40cc-9db9-c200910c15b1",
   "metadata": {},
   "outputs": [
    {
     "name": "stdout",
     "output_type": "stream",
     "text": [
      "CPU times: user 47.4 s, sys: 19 s, total: 1min 6s\n",
      "Wall time: 29.6 s\n"
     ]
    }
   ],
   "source": [
    "%%time\n",
    "placements = fill_layers(sequ_layer(3), 9)\n",
    "anz_cz = Ansatz(3, 'cz', placements=placements)\n",
    "target_angles = random_angles(anz_cz.num_angles, key=random.PRNGKey(1))\n",
    "u_target = anz_cz.unitary(target_angles)\n",
    "\n",
    "anz_cp = Ansatz(3, 'cp', placements=placements)\n",
    "angles_hist, loss_hist, disc_hist, penalty_hist = anz_cp.learn(u_target, \n",
    "                                      method='natural adam', \n",
    "                                      cp_penalty=True, \n",
    "                                      h=2, \n",
    "                                      t=0.15)\n",
    "\n",
    "best_angles = angles_hist[jnp.argmin(loss_hist)]"
   ]
  },
  {
   "cell_type": "code",
   "execution_count": 54,
   "id": "26ef751f-0ba9-4452-9400-97ebca02e5a4",
   "metadata": {},
   "outputs": [
    {
     "name": "stdout",
     "output_type": "stream",
     "text": [
      "14.0\n"
     ]
    },
    {
     "data": {
      "text/plain": [
       "<matplotlib.legend.Legend at 0x7f6bfd4d74c0>"
      ]
     },
     "execution_count": 54,
     "metadata": {},
     "output_type": "execute_result"
    },
    {
     "data": {
      "image/png": "[encoded data removed]",
      "text/plain": [
       "<Figure size 432x288 with 1 Axes>"
      ]
     },
     "metadata": {
      "needs_background": "light"
     },
     "output_type": "display_data"
    }
   ],
   "source": [
    "print(count_cnots(best_angles*anz_cp.cp_mask))\n",
    "plt.plot(loss_hist, label='loss')\n",
    "plt.plot(disc_hist, label='disc')\n",
    "plt.plot(penalty_hist, label='penalty')\n",
    "plt.yscale('log')\n",
    "plt.legend()"
   ]
  },
  {
   "cell_type": "code",
   "execution_count": 55,
   "id": "aa486614-15aa-4010-aa5f-c8c53073bc2d",
   "metadata": {},
   "outputs": [
    {
     "name": "stdout",
     "output_type": "stream",
     "text": [
      "CPU times: user 38min 25s, sys: 6min 54s, total: 45min 20s\n",
      "Wall time: 31min 38s\n"
     ]
    }
   ],
   "source": [
    "%%time\n",
    "best_angles_hist, success_hist = success_rate(anz_cp, u_target, 9, 'natural adam', t=t, num_samples=100)"
   ]
  },
  {
   "cell_type": "code",
   "execution_count": 56,
   "id": "b74f5096-5e0a-40d5-b090-b7784da04459",
   "metadata": {},
   "outputs": [
    {
     "data": {
      "text/plain": [
       "0.0"
      ]
     },
     "execution_count": 56,
     "metadata": {},
     "output_type": "execute_result"
    }
   ],
   "source": [
    "sum(success_hist)/len(success_hist)"
   ]
  },
  {
   "cell_type": "code",
   "execution_count": 58,
   "id": "03b3ce7d-a8cf-423c-b294-137d8f6e88e5",
   "metadata": {},
   "outputs": [
    {
     "name": "stdout",
     "output_type": "stream",
     "text": [
      "CPU times: user 38min 50s, sys: 5min 53s, total: 44min 44s\n",
      "Wall time: 32min 43s\n"
     ]
    }
   ],
   "source": [
    "%%time\n",
    "best_angles_hist, success_hist = success_rate(anz_cp, u_target, 9, 'natural gd', t=t, num_samples=100)"
   ]
  },
  {
   "cell_type": "code",
   "execution_count": 59,
   "id": "9dd3ff1a-9386-4aa9-b0a7-f718928a72f1",
   "metadata": {},
   "outputs": [
    {
     "data": {
      "text/plain": [
       "0.0"
      ]
     },
     "execution_count": 59,
     "metadata": {},
     "output_type": "execute_result"
    }
   ],
   "source": [
    "sum(success_hist)/len(success_hist)"
   ]
  },
  {
   "cell_type": "code",
   "execution_count": 60,
   "id": "75a443f8-765c-4297-9bd9-ebd5d4c2ce7e",
   "metadata": {},
   "outputs": [
    {
     "name": "stdout",
     "output_type": "stream",
     "text": [
      "CPU times: user 16min 51s, sys: 7.4 s, total: 16min 58s\n",
      "Wall time: 16min 34s\n"
     ]
    }
   ],
   "source": [
    "%%time\n",
    "best_angles_hist, success_hist = success_rate(anz_cp, u_target, 9, 'adam', t=t, num_samples=100)"
   ]
  },
  {
   "cell_type": "code",
   "execution_count": 61,
   "id": "25a62a33-6e95-4c3b-a1b1-c34346c05cd9",
   "metadata": {},
   "outputs": [
    {
     "data": {
      "text/plain": [
       "0.0"
      ]
     },
     "execution_count": 61,
     "metadata": {},
     "output_type": "execute_result"
    }
   ],
   "source": [
    "sum(success_hist)/len(success_hist)"
   ]
  },
  {
   "cell_type": "code",
   "execution_count": 5,
   "id": "f6df0dfe-45f8-487e-b0fb-d53f9e0c1ecc",
   "metadata": {},
   "outputs": [
    {
     "name": "stdout",
     "output_type": "stream",
     "text": [
      "CPU times: user 841 ms, sys: 5.87 ms, total: 846 ms\n",
      "Wall time: 835 ms\n"
     ]
    }
   ],
   "source": [
    "%%time\n",
    "placements = fill_layers(sequ_layer(3), 8)\n",
    "anz_cz = Ansatz(3, 'cz', placements=placements)\n",
    "target_angles = random_angles(anz_cz.num_angles, key=random.PRNGKey(1))\n",
    "u_target = anz_cz.unitary(target_angles)\n",
    "\n",
    "t=0.15\n",
    "anz_cp = Ansatz(3, 'cp', placements=fill_layers(sequ_layer(3), 10))"
   ]
  },
  {
   "cell_type": "code",
   "execution_count": 6,
   "id": "0465d7dc-65f3-482c-9f6b-26341f4ddc4b",
   "metadata": {},
   "outputs": [
    {
     "name": "stdout",
     "output_type": "stream",
     "text": [
      "CPU times: user 9min 5s, sys: 3.9 s, total: 9min 9s\n",
      "Wall time: 8min 56s\n"
     ]
    }
   ],
   "source": [
    "%%time\n",
    "best_angles_hist, success_hist = success_rate(anz_cp, u_target, 10, 'adam', t=t, num_samples=50)"
   ]
  },
  {
   "cell_type": "code",
   "execution_count": 7,
   "id": "5241c3ce-ea03-4b2b-8615-d6bbbeb1326a",
   "metadata": {},
   "outputs": [
    {
     "data": {
      "text/plain": [
       "0"
      ]
     },
     "execution_count": 7,
     "metadata": {},
     "output_type": "execute_result"
    }
   ],
   "source": [
    "sum(success_hist)"
   ]
  },
  {
   "cell_type": "markdown",
   "id": "379e4a01-7e8e-45de-a9c5-7563428e9334",
   "metadata": {},
   "source": [
    "Not successfull yet."
   ]
  },
  {
   "cell_type": "markdown",
   "id": "326abeb5-54d9-40d6-a5a2-00693d470c8b",
   "metadata": {
    "tags": [],
    "toc-hr-collapsed": true
   },
   "source": [
    "# Learning with extra gates"
   ]
  },
  {
   "cell_type": "markdown",
   "id": "c9314b84-117c-42e5-91ad-71680156a634",
   "metadata": {},
   "source": [
    "Works fine for toffoli 3."
   ]
  },
  {
   "cell_type": "code",
   "execution_count": 8,
   "id": "25f403a4-a6b3-4184-81e5-9f6f7627f61b",
   "metadata": {},
   "outputs": [
    {
     "data": {
      "image/png": "[encoded data removed]",
      "text/plain": [
       "<Figure size 1591.6x445.48 with 1 Axes>"
      ]
     },
     "execution_count": 8,
     "metadata": {},
     "output_type": "execute_result"
    }
   ],
   "source": [
    "qc = QuantumCircuit(3)\n",
    "qc.ccx(0, 1, 2)\n",
    "u_toff3 = Operator(qc.reverse_bits()).data\n",
    "\n",
    "placements_toff3 = [[1, 2], [0, 2], [1, 2], [0, 2], [0, 1], [0, 1]]\n",
    "extra_placements = [[0, 2], [0, 1], [1, 2]]\n",
    "\n",
    "anz_toff3 = Ansatz(3, 'cp', placements={'free': placements_toff3+extra_placements})\n",
    "\n",
    "anz_toff3.circuit().draw(output='mpl')"
   ]
  },
  {
   "cell_type": "code",
   "execution_count": 83,
   "id": "40c22ae8-26c1-4fde-9cf3-664505cf1962",
   "metadata": {},
   "outputs": [
    {
     "name": "stdout",
     "output_type": "stream",
     "text": [
      "CPU times: user 1min 1s, sys: 21.1 s, total: 1min 22s\n",
      "Wall time: 41.6 s\n"
     ]
    }
   ],
   "source": [
    "%%time\n",
    "initial_angles = random_cp_angles(anz_toff3.num_angles, anz_toff3.cp_mask, key=random.PRNGKey(10))\n",
    "res = anz_toff3.learn(u_toff3, method='natural adam', cp_penalty=True, t=0.15, learning_rate=0.025, r=0.0005, initial_params=initial_angles)\n",
    "angs_hist, loss_hist, disc_hist, penalty_hist = res"
   ]
  },
  {
   "cell_type": "code",
   "execution_count": 84,
   "id": "b84bd100-2399-43bb-b70c-ceb2d6daadb5",
   "metadata": {},
   "outputs": [
    {
     "name": "stdout",
     "output_type": "stream",
     "text": [
      "cnot count: 6.0\n",
      "fidelity at this count: 8.821487426757812e-06\n"
     ]
    },
    {
     "data": {
      "image/png": "[encoded data removed]",
      "text/plain": [
       "<Figure size 432x288 with 1 Axes>"
      ]
     },
     "metadata": {
      "needs_background": "light"
     },
     "output_type": "display_data"
    }
   ],
   "source": [
    "best_angles, best_cp_angles = report_cp_learning(res, cp_mask=anz_toff3.cp_mask)"
   ]
  },
  {
   "cell_type": "code",
   "execution_count": 68,
   "id": "dbd6a038-1897-44f6-b295-e4dd2b1536d2",
   "metadata": {},
   "outputs": [
    {
     "data": {
      "image/png": "[encoded data removed]",
      "text/plain": [
       "<Figure size 1591.6x445.48 with 1 Axes>"
      ]
     },
     "execution_count": 68,
     "metadata": {},
     "output_type": "execute_result"
    }
   ],
   "source": [
    "anz_toff3.circuit(best_angles).draw(output='mpl')"
   ]
  },
  {
   "cell_type": "code",
   "execution_count": 3,
   "id": "ddf781ff-58e4-4670-9dd2-9bb6d2c684d0",
   "metadata": {},
   "outputs": [],
   "source": [
    "anz_cz = Ansatz(3, 'cz', placements=fill_layers(sequ_layer(3), 8))\n",
    "angles_target = random_angles(anz_cz.num_angles, key=random.PRNGKey(123))\n",
    "u_target = anz_cz.unitary(angles_target)\n",
    "\n",
    "anz_cp = Ansatz(3, 'cp', placements=fill_layers(sequ_layer(3), 14))"
   ]
  },
  {
   "cell_type": "code",
   "execution_count": 43,
   "id": "240a761c-9d3f-4493-9048-a02af17ff49c",
   "metadata": {},
   "outputs": [
    {
     "name": "stdout",
     "output_type": "stream",
     "text": [
      "cnot count: 18.0\n",
      "fidelity at this count: 0.005213022232055664\n",
      "CPU times: user 17.4 s, sys: 346 ms, total: 17.8 s\n",
      "Wall time: 16.3 s\n"
     ]
    },
    {
     "data": {
      "image/png": "[encoded data removed]",
      "text/plain": [
       "<Figure size 432x288 with 1 Axes>"
      ]
     },
     "metadata": {
      "needs_background": "light"
     },
     "output_type": "display_data"
    }
   ],
   "source": [
    "%%time\n",
    "initial_angles = random_cp_angles(anz_cp.num_angles, anz_cp.cp_mask, key=random.PRNGKey(2))\n",
    "initial_angles = initial_angles+jnp.pi*jnp.ones(len(initial_angles))*anz_cp.cp_mask\n",
    "initial_angles = random_angles(anz_cp.num_angles, key=random.PRNGKey(2))\n",
    "\n",
    "res = anz_cp.learn(u_target, \n",
    "                   method='adam', \n",
    "                   cp_penalty=True, \n",
    "                   xmax=1.5, \n",
    "                   ymax=2,\n",
    "                   plato=0.01,\n",
    "                   learning_rate=0.1, \n",
    "                   r=0.01, \n",
    "                   initial_params=initial_angles, \n",
    "                   num_iterations=5000)\n",
    "\n",
    "angs_hist, loss_hist, disc_hist, penalty_hist = res\n",
    "best_angles, best_cp_angles = report_cp_learning(res, cp_mask=anz_cp.cp_mask)"
   ]
  },
  {
   "cell_type": "code",
   "execution_count": 44,
   "id": "438451d4-8ba6-4ee0-8a80-e2a5d4740387",
   "metadata": {},
   "outputs": [
    {
     "data": {
      "image/png": "[encoded data removed]",
      "text/plain": [
       "<Figure size 1591.6x686.28 with 1 Axes>"
      ]
     },
     "execution_count": 44,
     "metadata": {},
     "output_type": "execute_result"
    }
   ],
   "source": [
    "anz_cp.circuit(best_angles % (2*jnp.pi)).draw(output='mpl')"
   ]
  },
  {
   "cell_type": "code",
   "execution_count": 45,
   "id": "e651fb55-2ba6-4fe8-a955-b3e250bf8496",
   "metadata": {},
   "outputs": [],
   "source": [
    "anz_3 = Ansatz(3, 'cz', placements=fill_layers(sequ_layer(3), 10))\n",
    "ah, lh = anz_3.learn(u_target)"
   ]
  },
  {
   "cell_type": "code",
   "execution_count": 38,
   "id": "92b1fcca-9574-4078-b29b-247488a063bc",
   "metadata": {},
   "outputs": [
    {
     "data": {
      "image/png": "[encoded data removed]",
      "text/plain": [
       "<Figure size 432x288 with 1 Axes>"
      ]
     },
     "metadata": {
      "needs_background": "light"
     },
     "output_type": "display_data"
    }
   ],
   "source": [
    "plt.plot(lh)\n",
    "plt.yscale('log')"
   ]
  },
  {
   "cell_type": "markdown",
   "id": "2ad5418d-bc03-4adc-b4e6-d161f1330a34",
   "metadata": {
    "tags": [],
    "toc-hr-collapsed": true
   },
   "source": [
    "# CP circuits learn themselves"
   ]
  },
  {
   "cell_type": "markdown",
   "id": "dd34846d-e9a6-4d09-a398-134b72a48b86",
   "metadata": {},
   "source": [
    "Small-scale experiments below suggest that CP circuits are less prone to getting stuck in local minima than CZ circuits of the same gate count. The experiments are for randomly initialized CP angles so the 'effective cz count' of the circuit may be lower than of the corresponding CZ circuits. This will be tested later."
   ]
  },
  {
   "cell_type": "code",
   "execution_count": 22,
   "id": "7db6b164-939c-448e-80dc-08ff8efe4a9d",
   "metadata": {},
   "outputs": [
    {
     "name": "stdout",
     "output_type": "stream",
     "text": [
      "CPU times: user 9min 36s, sys: 9.35 s, total: 9min 45s\n",
      "Wall time: 9min 14s\n"
     ]
    }
   ],
   "source": [
    "%%time \n",
    "key = random.PRNGKey(134)\n",
    "num_qubits = 3 \n",
    "num_repeats = 10\n",
    "\n",
    "gate_counts = list(range(15))[::2]\n",
    "success_rates = []\n",
    "for num_gates in gate_counts:\n",
    "    anz = Ansatz(num_qubits, 'cp', placements=fill_layers(sequ_layer(num_qubits), num_gates))\n",
    "    key, subkey = random.split(key)\n",
    "    target_angles = random_angles(anz.num_angles, key=subkey)\n",
    "    target_u = anz.unitary(target_angles)\n",
    "    ah, lh, sh = unitary_learn_repeat(anz.unitary, \n",
    "                                  target_u, \n",
    "                                  anz.num_angles, \n",
    "                                  'adam', \n",
    "                                  0.1,\n",
    "                                  num_repeats=num_repeats,\n",
    "                                  target_loss=1e-4)\n",
    "    \n",
    "    success_rates.append(sum(sh)/len(sh))\n",
    "\n",
    "with open('success_rates_3cp.pickle', 'wb') as f:\n",
    "     pickle.dump(success_rates, f)"
   ]
  },
  {
   "cell_type": "code",
   "execution_count": 23,
   "id": "45f4d071-e8bf-4186-8cfc-df0d8e558824",
   "metadata": {},
   "outputs": [
    {
     "data": {
      "text/plain": [
       "<matplotlib.collections.PathCollection at 0x7fb18a08cd90>"
      ]
     },
     "execution_count": 23,
     "metadata": {},
     "output_type": "execute_result"
    },
    {
     "data": {
      "image/png": "[encoded data removed]",
      "text/plain": [
       "<Figure size 432x288 with 1 Axes>"
      ]
     },
     "metadata": {
      "needs_background": "light"
     },
     "output_type": "display_data"
    }
   ],
   "source": [
    "with open('success_rates_3cp.pickle', 'rb') as f:\n",
    "     success_rates = pickle.load(f)\n",
    "        \n",
    "plt.scatter(gate_counts, success_rates)"
   ]
  },
  {
   "cell_type": "markdown",
   "id": "7a4756c2-e056-4048-9a61-0fdc31a138f0",
   "metadata": {},
   "source": [
    "Let's look at a difficult point in the middle region."
   ]
  },
  {
   "cell_type": "code",
   "execution_count": 25,
   "id": "1b9393ef-5dff-4afd-873c-bc741e188e75",
   "metadata": {},
   "outputs": [
    {
     "name": "stdout",
     "output_type": "stream",
     "text": [
      "0.02\n",
      "CPU times: user 9min 10s, sys: 15 s, total: 9min 25s\n",
      "Wall time: 8min 32s\n"
     ]
    }
   ],
   "source": [
    "%%time \n",
    "key = random.PRNGKey(134)\n",
    "num_qubits = 3 \n",
    "num_repeats = 50\n",
    "num_gates = 9\n",
    "\n",
    "anz = Ansatz(num_qubits, 'cp', placements=fill_layers(sequ_layer(num_qubits), num_gates))\n",
    "key, subkey = random.split(key)\n",
    "target_angles = random_angles(anz.num_angles, key=subkey)\n",
    "target_u = anz.unitary(target_angles)\n",
    "ah, lh, sh = unitary_learn_repeat(anz.unitary, \n",
    "                                  target_u, \n",
    "                                  anz.num_angles, \n",
    "                                  'adam', \n",
    "                                  0.1,\n",
    "                                  num_repeats=num_repeats,\n",
    "                                  target_loss=1e-4)\n",
    "print(sum(sh)/len(sh))    "
   ]
  },
  {
   "cell_type": "markdown",
   "id": "adeab9eb-ab0c-46b5-86a6-92a3e23c8a75",
   "metadata": {},
   "source": [
    "Now let us make a different comparison -- instead of learning CP circuits with random values of CP-angles we will fix all CP gates to be CZ gates in the target circuits. This will give a more honest comparison with the difficulty of learning with CZ circuits."
   ]
  },
  {
   "cell_type": "code",
   "execution_count": 32,
   "id": "b0a94af5-e242-432e-a9aa-2165f679848d",
   "metadata": {},
   "outputs": [
    {
     "name": "stdout",
     "output_type": "stream",
     "text": [
      "CPU times: user 10min 33s, sys: 11.6 s, total: 10min 45s\n",
      "Wall time: 10min 15s\n"
     ]
    }
   ],
   "source": [
    "%%time \n",
    "key = random.PRNGKey(134)\n",
    "num_qubits = 3 \n",
    "num_repeats = 10\n",
    "\n",
    "gate_counts = list(range(15))[::2]\n",
    "success_rates = []\n",
    "for num_gates in gate_counts:\n",
    "    anz = Ansatz(num_qubits, 'cp', placements=fill_layers(sequ_layer(num_qubits), num_gates))\n",
    "    key, subkey = random.split(key)\n",
    "    target_angles = random_cp_angles(anz.num_angles, anz.cp_mask, key=subkey)+jnp.pi*jnp.ones(anz.num_angles)*anz.cp_mask\n",
    "    target_u = anz.unitary(target_angles)\n",
    "    ah, lh, sh = unitary_learn_repeat(anz.unitary, \n",
    "                                  target_u, \n",
    "                                  anz.num_angles, \n",
    "                                  'adam', \n",
    "                                  0.1,\n",
    "                                  num_repeats=num_repeats,\n",
    "                                  target_loss=1e-4)\n",
    "    \n",
    "    success_rates.append(sum(sh)/len(sh))\n",
    "\n",
    "with open('success_rates_3cp_cz.pickle', 'wb') as f:\n",
    "     pickle.dump(success_rates, f)"
   ]
  },
  {
   "cell_type": "code",
   "execution_count": 33,
   "id": "de4ae365-ddf7-4d61-a10a-c68b132908cc",
   "metadata": {},
   "outputs": [
    {
     "data": {
      "text/plain": [
       "<matplotlib.collections.PathCollection at 0x7fb16ee0ca90>"
      ]
     },
     "execution_count": 33,
     "metadata": {},
     "output_type": "execute_result"
    },
    {
     "data": {
      "image/png": "[encoded data removed]",
      "text/plain": [
       "<Figure size 432x288 with 1 Axes>"
      ]
     },
     "metadata": {
      "needs_background": "light"
     },
     "output_type": "display_data"
    }
   ],
   "source": [
    "with open('success_rates_3cp_cz.pickle', 'rb') as f:\n",
    "     success_rates = pickle.load(f)\n",
    "        \n",
    "plt.scatter(gate_counts, success_rates)"
   ]
  },
  {
   "cell_type": "markdown",
   "id": "6f2397ab-ed93-45c5-8683-7b5f6960e5fd",
   "metadata": {},
   "source": [
    "Again, let's look at the middle region."
   ]
  },
  {
   "cell_type": "code",
   "execution_count": 34,
   "id": "a231531c-c9da-40ec-a392-37c1776ab442",
   "metadata": {},
   "outputs": [
    {
     "name": "stdout",
     "output_type": "stream",
     "text": [
      "0.0\n",
      "CPU times: user 9min 44s, sys: 15.5 s, total: 10min\n",
      "Wall time: 9min 7s\n"
     ]
    }
   ],
   "source": [
    "%%time \n",
    "key = random.PRNGKey(134)\n",
    "num_qubits = 3 \n",
    "num_repeats = 50\n",
    "num_gates = 9\n",
    "\n",
    "anz = Ansatz(num_qubits, 'cp', placements=fill_layers(sequ_layer(num_qubits), num_gates))\n",
    "key, subkey = random.split(key)\n",
    "target_angles = random_cp_angles(anz.num_angles, anz.cp_mask, key=subkey)+jnp.pi*jnp.ones(anz.num_angles)*anz.cp_mask\n",
    "target_u = anz.unitary(target_angles)\n",
    "ah, lh, sh = unitary_learn_repeat(anz.unitary, \n",
    "                                  target_u, \n",
    "                                  anz.num_angles, \n",
    "                                  'adam', \n",
    "                                  0.1,\n",
    "                                  num_repeats=num_repeats,\n",
    "                                  target_loss=1e-4)\n",
    "print(sum(sh)/len(sh))    "
   ]
  },
  {
   "cell_type": "markdown",
   "id": "542ccee8-d3b1-4eac-b2be-4d3250fa5a99",
   "metadata": {},
   "source": [
    "It appears that CP gates do not significantly improve the chance of escaping the local minima even for 3-qubit gates."
   ]
  }
 ],
 "metadata": {
  "kernelspec": {
   "display_name": "Python 3",
   "language": "python",
   "name": "python3"
  },
  "language_info": {
   "codemirror_mode": {
    "name": "ipython",
    "version": 3
   },
   "file_extension": ".py",
   "mimetype": "text/x-python",
   "name": "python",
   "nbconvert_exporter": "python",
   "pygments_lexer": "ipython3",
   "version": "3.8.10"
  },
  "widgets": {
   "application/vnd.jupyter.widget-state+json": {
    "state": {},
    "version_major": 2,
    "version_minor": 0
   }
  }
 },
 "nbformat": 4,
 "nbformat_minor": 5
}
