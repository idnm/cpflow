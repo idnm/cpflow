{
 "cells": [
  {
   "cell_type": "code",
   "execution_count": 1,
   "id": "688d43fb-9197-4bfb-b5ce-72e5c1689ea6",
   "metadata": {},
   "outputs": [
    {
     "name": "stderr",
     "output_type": "stream",
     "text": [
      "WARNING:absl:No GPU/TPU found, falling back to CPU. (Set TF_CPP_MIN_LOG_LEVEL=0 and rerun for more info.)\n"
     ]
    }
   ],
   "source": [
    "from jax_circuits import *\n",
    "from scipy.stats import unitary_group\n",
    "import matplotlib.pyplot as plt\n",
    "\n",
    "import time\n",
    "import pickle\n",
    "\n",
    "from qiskit import transpile\n",
    "from qiskit.quantum_info import Operator\n",
    "\n",
    "from topology import *\n",
    "\n",
    "from jax import custom_jvp, jvp, grad\n",
    "from jax.scipy.optimize import minimize\n",
    "\n",
    "key = random.PRNGKey(0)"
   ]
  },
  {
   "cell_type": "markdown",
   "id": "78643887-16fe-474b-9a3f-e2bb4e1a328a",
   "metadata": {
    "tags": []
   },
   "source": [
    "# Trigonometric landscape"
   ]
  },
  {
   "cell_type": "markdown",
   "id": "c68935ef-495f-4ea1-9cb6-cc78c737753a",
   "metadata": {},
   "source": [
    "First we will define a generator of trigonometric functions and a procedure to compute exact average."
   ]
  },
  {
   "cell_type": "code",
   "execution_count": 2,
   "id": "76a0b47a-d407-43db-bab4-f7ccadc1be5e",
   "metadata": {},
   "outputs": [],
   "source": [
    "def int_to_list(n, size):\n",
    "    n_str = format(n, 'b')\n",
    "    assert len(n_str)<=size, 'Integer {} too big to be converted to size {}'.format(n, size)\n",
    "    \n",
    "    zero_pad = '0'*(size-len(n_str))\n",
    "    n_str = zero_pad + n_str\n",
    "    \n",
    "    return [int(b) for b in n_str]\n",
    "\n",
    "def all_binary_strings(size):\n",
    "    max_n = int('1'*size, 2)+1\n",
    "    return [int_to_list(n, size) for n in range(max_n)]\n",
    "\n",
    "\n",
    "def trigonometric_landscape(coeffs, n_angles):\n",
    "\n",
    "#     assert n_angles % 1 == 0, 'Number of coefficients must be 2**n, got len(coeffs) {}'.format(len(coeffs))\n",
    "    powers = 1-jnp.array(all_binary_strings(int(n_angles)))\n",
    "\n",
    "    def f(angles):\n",
    "        cos_sin_array = jnp.cos(angles/2)**powers * jnp.sin(angles/2)**(1-powers)\n",
    "        cos_sin_monomials = jnp.prod(cos_sin_array, axis=1)\n",
    "\n",
    "#         return (coeffs*cos_sin_monomials).sum()\n",
    "        return jnp.tensordot(cos_sin_monomials, coeffs, axes=1)\n",
    "    \n",
    "    return f\n",
    "\n",
    "def trigonometric_coefficients(f, n_angles):\n",
    "    all_vertices = jnp.pi*jnp.array(all_binary_strings(int(n_angles)))\n",
    "    return vmap(f)(all_vertices)"
   ]
  },
  {
   "cell_type": "markdown",
   "id": "1ea813b3-eb45-4aa3-a78a-cbdfe67dd7f7",
   "metadata": {},
   "source": [
    "This should illustrate what this function is doing."
   ]
  },
  {
   "cell_type": "code",
   "execution_count": 3,
   "id": "7270d691-4bbd-488d-9475-13a99c904ffc",
   "metadata": {
    "tags": []
   },
   "outputs": [
    {
     "name": "stdout",
     "output_type": "stream",
     "text": [
      "CPU times: user 492 ms, sys: 3.26 ms, total: 495 ms\n",
      "Wall time: 497 ms\n"
     ]
    },
    {
     "data": {
      "text/plain": [
       "[<matplotlib.lines.Line2D at 0x7f43601c5a60>]"
      ]
     },
     "execution_count": 3,
     "metadata": {},
     "output_type": "execute_result"
    },
    {
     "data": {
      "image/png": "[encoded data removed]",
      "text/plain": [
       "<Figure size 432x288 with 1 Axes>"
      ]
     },
     "metadata": {
      "needs_background": "light"
     },
     "output_type": "display_data"
    }
   ],
   "source": [
    "%%time\n",
    "coeffs0=jnp.array([1, 2, 3, 4], dtype='float32')\n",
    "n_angles0 = int(jnp.log2(len(coeffs0)))\n",
    "\n",
    "f0 = trigonometric_landscape(coeffs0, n_angles0)\n",
    "\n",
    "x_sweep = jnp.linspace(-2*jnp.pi, 2*jnp.pi, 1000)\n",
    "y = 0.3\n",
    "\n",
    "plt.plot(x_sweep, vmap(lambda x: f0(jnp.array([x, y], dtype='float32')))(x_sweep))\n",
    "plt.plot(x_sweep, jnp.cos(x_sweep/2)*jnp.cos(y/2)+\n",
    "         2*jnp.cos(x_sweep/2)*jnp.sin(y/2)+\n",
    "         3*jnp.sin(x_sweep/2)*jnp.cos(y/2)+\n",
    "         4*jnp.sin(x_sweep/2)*jnp.sin(y/2))"
   ]
  },
  {
   "cell_type": "code",
   "execution_count": 4,
   "id": "f70a3d62-7b58-40da-a26f-180bc531e527",
   "metadata": {},
   "outputs": [],
   "source": [
    "def exact_average(F, n_angles):\n",
    "    grid_points = jnp.pi*jnp.array(all_binary_strings(n_angles))\n",
    "    F_grid = vmap(F)(grid_points)\n",
    "    \n",
    "    return F_grid.sum()/len(grid_points)\n",
    "\n",
    "def approximate_average(F, n_angles, n_samples, key):\n",
    "    grid_points = jnp.pi*jnp.array(all_binary_strings(n_angles))\n",
    "    grid_points = random.permutation(key, grid_points)\n",
    "    grid_points = grid_points[:n_samples]\n",
    "    \n",
    "    F_grid = vmap(F)(grid_points)\n",
    "    \n",
    "    return F_grid.sum()/len(grid_points)"
   ]
  },
  {
   "cell_type": "markdown",
   "id": "07b3e102-e2b6-456a-a756-42e630974f78",
   "metadata": {},
   "source": [
    "Test."
   ]
  },
  {
   "cell_type": "code",
   "execution_count": 5,
   "id": "4b480f21-e64c-4e1b-8fff-a4be0a16aa95",
   "metadata": {},
   "outputs": [
    {
     "name": "stdout",
     "output_type": "stream",
     "text": [
      "0.34455547\n",
      "0.34455535\n"
     ]
    }
   ],
   "source": [
    "key, subkey = random.split(key)\n",
    "n_angles = 10\n",
    "coeffs = random.uniform(subkey, shape=(2**n_angles, ), minval=0, maxval=1)\n",
    "\n",
    "\n",
    "print((coeffs**2).sum()/2**n_angles)\n",
    "print(exact_average(lambda angles: trigonometric_landscape(coeffs, n_angles)(angles)**2, n_angles))"
   ]
  },
  {
   "cell_type": "code",
   "execution_count": 6,
   "id": "272b466f-637a-421f-ae0f-f061dc328313",
   "metadata": {},
   "outputs": [
    {
     "name": "stdout",
     "output_type": "stream",
     "text": [
      "CPU times: user 9.06 s, sys: 8.05 ms, total: 9.07 s\n",
      "Wall time: 4.83 s\n"
     ]
    }
   ],
   "source": [
    "%%time\n",
    "n_angles = 12\n",
    "key, subkey = random.split(key)\n",
    "coeffs = random.uniform(subkey, shape=(2**n_angles, ), minval=0, maxval=1)\n",
    "exact_avg = (coeffs**2).sum()/2**n_angles\n",
    "F = lambda angles: trigonometric_landscape(coeffs, n_angles)(angles)**2\n",
    "F=jit(F)\n",
    "\n",
    "average_list = []\n",
    "for i in range(n_angles):\n",
    "    key, subkey = random.split(key)\n",
    "    average_i = approximate_average(F, n_angles, 2**i, subkey)\n",
    "    average_list.append(average_i)"
   ]
  },
  {
   "cell_type": "code",
   "execution_count": 7,
   "id": "91e70a79-42bf-48ac-aaa6-a72c0c7f25a1",
   "metadata": {},
   "outputs": [
    {
     "name": "stdout",
     "output_type": "stream",
     "text": [
      "number of angles: 12\n"
     ]
    },
    {
     "data": {
      "text/plain": [
       "[<matplotlib.lines.Line2D at 0x7f4360063b50>]"
      ]
     },
     "execution_count": 7,
     "metadata": {},
     "output_type": "execute_result"
    },
    {
     "data": {
      "image/png": "[encoded data removed]",
      "text/plain": [
       "<Figure size 432x288 with 1 Axes>"
      ]
     },
     "metadata": {
      "needs_background": "light"
     },
     "output_type": "display_data"
    }
   ],
   "source": [
    "print('number of angles: {}'.format(n_angles))\n",
    "plt.plot(average_list)\n",
    "plt.plot([exact_avg]*n_angles)"
   ]
  },
  {
   "cell_type": "markdown",
   "id": "860d4398-eeed-4cf2-a114-2a5aa953676a",
   "metadata": {
    "tags": []
   },
   "source": [
    "# Average conjecture test"
   ]
  },
  {
   "cell_type": "markdown",
   "id": "97c06ff0-b745-45bb-8531-c44e34bed751",
   "metadata": {},
   "source": [
    "Now we can test the average conjecture."
   ]
  },
  {
   "cell_type": "code",
   "execution_count": 136,
   "id": "abf6d417-e0cc-46a1-b6b9-466072682311",
   "metadata": {},
   "outputs": [
    {
     "data": {
      "text/html": [
       "<pre style=\"word-wrap: normal;white-space: pre;background: #fff0;line-height: 1.1;font-family: &quot;Courier New&quot;,Courier,monospace\">     ┌───────┐┌───────┐┌───────┐                            ┌───────┐┌───────┐»\n",
       "q_0: ┤ RZ(0) ├┤ RX(0) ├┤ RZ(0) ├─────────────────────────■──┤ RY(0) ├┤ RX(0) ├»\n",
       "     ├───────┤├───────┤├───────┤     ┌───────┐┌───────┐┌─┴─┐├───────┤├───────┤»\n",
       "q_1: ┤ RZ(0) ├┤ RX(0) ├┤ RZ(0) ├──■──┤ RY(1) ├┤ RX(0) ├┤ X ├┤ RY(2) ├┤ RX(0) ├»\n",
       "     ├───────┤├───────┤├───────┤┌─┴─┐├───────┤├───────┤└───┘└───────┘└───────┘»\n",
       "q_2: ┤ RZ(0) ├┤ RX(0) ├┤ RZ(0) ├┤ X ├┤ RY(0) ├┤ RX(0) ├───────────────────────»\n",
       "     └───────┘└───────┘└───────┘└───┘└───────┘└───────┘                       »\n",
       "«          ┌───────┐┌───────┐\n",
       "«q_0: ──■──┤ RY(0) ├┤ RX(0) ├\n",
       "«       │  └───────┘└───────┘\n",
       "«q_1: ──┼────────────────────\n",
       "«     ┌─┴─┐┌───────┐┌───────┐\n",
       "«q_2: ┤ X ├┤ RY(0) ├┤ RX(0) ├\n",
       "«     └───┘└───────┘└───────┘</pre>"
      ],
      "text/plain": [
       "     ┌───────┐┌───────┐┌───────┐                            ┌───────┐┌───────┐»\n",
       "q_0: ┤ RZ(0) ├┤ RX(0) ├┤ RZ(0) ├─────────────────────────■──┤ RY(0) ├┤ RX(0) ├»\n",
       "     ├───────┤├───────┤├───────┤     ┌───────┐┌───────┐┌─┴─┐├───────┤├───────┤»\n",
       "q_1: ┤ RZ(0) ├┤ RX(0) ├┤ RZ(0) ├──■──┤ RY(1) ├┤ RX(0) ├┤ X ├┤ RY(2) ├┤ RX(0) ├»\n",
       "     ├───────┤├───────┤├───────┤┌─┴─┐├───────┤├───────┤└───┘└───────┘└───────┘»\n",
       "q_2: ┤ RZ(0) ├┤ RX(0) ├┤ RZ(0) ├┤ X ├┤ RY(0) ├┤ RX(0) ├───────────────────────»\n",
       "     └───────┘└───────┘└───────┘└───┘└───────┘└───────┘                       »\n",
       "«          ┌───────┐┌───────┐\n",
       "«q_0: ──■──┤ RY(0) ├┤ RX(0) ├\n",
       "«       │  └───────┘└───────┘\n",
       "«q_1: ──┼────────────────────\n",
       "«     ┌─┴─┐┌───────┐┌───────┐\n",
       "«q_2: ┤ X ├┤ RY(0) ├┤ RX(0) ├\n",
       "«     └───┘└───────┘└───────┘"
      ]
     },
     "execution_count": 136,
     "metadata": {},
     "output_type": "execute_result"
    }
   ],
   "source": [
    "n_qubits = 3\n",
    "a = Ansatz(n_qubits, 'cx', placements={'free':[[1,2], [0,1],[0, 2]]})\n",
    "# u_func = lambda angs: a.unitary(jnp.array([angs[0], 0, 0, 0, 0, 0], dtype='float32'))\n",
    "zero_angles = jnp.zeros((a.n_angles, ))\n",
    "restrinced_angles = lambda angs: zero_angles.at[9].set(angs[0]).at[15].set(angs[1])\n",
    "u_func = lambda angs: a.unitary(restrinced_angles(angs))\n",
    "n_angles = 1\n",
    "a.circuit(restrinced_angles((1, 2))).draw()"
   ]
  },
  {
   "cell_type": "code",
   "execution_count": 141,
   "id": "f2d984be-600d-458d-94c3-10f41365331e",
   "metadata": {},
   "outputs": [],
   "source": [
    "def A_and_B(angles):\n",
    "    n_angles = len(angles)\n",
    "    R = 1j*jnp.kron(y_mat, jnp.identity(2**(n_qubits-1)))\n",
    "    \n",
    "    W0 = u_func(jnp.zeros((n_angles), dtype='float32'))\n",
    "    W = u_func(angles)\n",
    "    \n",
    "    A = trace_prod(W0, W)\n",
    "    B = trace_prod(W0, R@W)\n",
    "    \n",
    "    return A, B\n",
    "\n",
    "def A_squared(angles):\n",
    "    A, _ = A_and_B(angles)\n",
    "    return A*A.conj()\n",
    "\n",
    "def B_squared(angles):\n",
    "    _, B = A_and_B(angles)\n",
    "    return B*B.conj()\n",
    "\n",
    "def A_bar_B(angles):\n",
    "    A, B = A_and_B(angles)\n",
    "    return A*B.conj()"
   ]
  },
  {
   "cell_type": "code",
   "execution_count": 142,
   "id": "03165dfd-917f-40de-bd0b-573a20884f57",
   "metadata": {},
   "outputs": [
    {
     "name": "stdout",
     "output_type": "stream",
     "text": [
      "(16+0j)\n",
      "0j\n",
      "0j\n"
     ]
    }
   ],
   "source": [
    "print(exact_average(A_squared, n_angles))\n",
    "print(exact_average(B_squared, n_angles))\n",
    "print(exact_average(A_bar_B, n_angles))"
   ]
  },
  {
   "cell_type": "markdown",
   "id": "1ac8c47a-adf5-45ac-b76e-97b64eee082d",
   "metadata": {
    "tags": [],
    "toc-hr-collapsed": true
   },
   "source": [
    "# Average learning"
   ]
  },
  {
   "cell_type": "code",
   "execution_count": 16,
   "id": "9cb0fe8f-a577-4ef3-bd3a-73a30fa1cc12",
   "metadata": {},
   "outputs": [],
   "source": [
    "def optimize_first_angle(f, n_angles, average_func):\n",
    "    if n_angles == 1:\n",
    "        return min_angle(lambda ang: f(jnp.array((ang, ))))\n",
    "    \n",
    "    def f_to_average(ang, angs):\n",
    "        angles = jnp.concatenate([jnp.array([ang]), angs])\n",
    "        return f(angles)\n",
    "    \n",
    "    def f1(ang):\n",
    "        return average_func(lambda angs: f_to_average(ang, angs), n_angles-1)\n",
    "    \n",
    "    return min_angle(f1)\n",
    "\n",
    "def average_learn(u_func, u_target, n_angles, average_func):\n",
    "    \n",
    "    def loss0(angles):\n",
    "        return disc2(u_func(angles), u_target)\n",
    "    \n",
    "    optimal_angles = jnp.array([], dtype='float32')\n",
    "    for n in range(n_angles):\n",
    "        def loss(angs):\n",
    "            angles = jnp.concatenate([optimal_angles, angs])\n",
    "            return loss0(angles)\n",
    "        n_angs = n_angles - n\n",
    "        new_angle = optimize_first_angle(loss, n_angs, average_func)\n",
    "        optimal_angles = jnp.append(optimal_angles, new_angle)\n",
    "\n",
    "    return optimal_angles"
   ]
  },
  {
   "cell_type": "code",
   "execution_count": 114,
   "id": "06a22a92-79c0-4d94-ba69-2f9319b8eb11",
   "metadata": {},
   "outputs": [
    {
     "data": {
      "image/png": "[encoded data removed]",
      "text/plain": [
       "<Figure size 808.997x204.68 with 1 Axes>"
      ]
     },
     "execution_count": 114,
     "metadata": {},
     "output_type": "execute_result"
    }
   ],
   "source": [
    "a = Ansatz(3, 'cz', placements={'free':[[1,0], [0, 2], [1, 2]]})\n",
    "u_target = a.unitary(jnp.array(range(1, a.n_angles+1), dtype='float32'))\n",
    "a.circuit().draw(output='mpl')"
   ]
  },
  {
   "cell_type": "code",
   "execution_count": 115,
   "id": "0c95487c-723a-43af-b7a1-b955044135ce",
   "metadata": {},
   "outputs": [],
   "source": [
    "u_restricted = lambda angs: a.unitary(jnp.concatenate([jnp.zeros(shape=(9,)), angs]))\n",
    "u_target_restricted = u_restricted(jnp.array(range(0, a.n_angles-9),dtype='float32'))"
   ]
  },
  {
   "cell_type": "code",
   "execution_count": 116,
   "id": "f5c5cb3a-5140-4b17-8dbf-22e2b23b9fbf",
   "metadata": {},
   "outputs": [],
   "source": [
    "opt_angles = average_learn(u_restricted, u_target_restricted, a.n_angles-9, exact_average)"
   ]
  },
  {
   "cell_type": "code",
   "execution_count": 117,
   "id": "ccee9097-3e66-41cc-bbed-7b0dadd3c2aa",
   "metadata": {},
   "outputs": [
    {
     "name": "stdout",
     "output_type": "stream",
     "text": [
      "[ 1.5707964   1.5707964  -0.         -0.         -0.9375348   1.9304514\n",
      "  0.7853982  -1.5707964   1.5391778  -0.42477575  1.2185782   3.5698256 ]\n",
      "0.68964493\n"
     ]
    }
   ],
   "source": [
    "print(opt_angles)\n",
    "print(disc2(u_restricted(opt_angles),u_target_restricted))"
   ]
  },
  {
   "cell_type": "markdown",
   "id": "19a48c89-f3a5-40a4-bb69-b64bee420617",
   "metadata": {},
   "source": [
    "# Coefficints distribution"
   ]
  },
  {
   "cell_type": "markdown",
   "id": "ae88d00f-4572-4ab5-ae53-dd0e72764bf4",
   "metadata": {},
   "source": [
    "Check `trigonometric_coefficients'."
   ]
  },
  {
   "cell_type": "code",
   "execution_count": 34,
   "id": "094cb435-48a6-4f75-b942-3197ab9734a6",
   "metadata": {},
   "outputs": [
    {
     "name": "stdout",
     "output_type": "stream",
     "text": [
      "[0.94779134 2.8464484  3.5750294  ... 9.188044   5.129981   5.34206   ]\n",
      "[0.94779134 2.8464484  3.5750294  ... 9.188042   5.1299796  5.342058  ]\n"
     ]
    }
   ],
   "source": [
    "# Reconstruction from coefficients.\n",
    "n_angles_rnd = 10\n",
    "coeffs_rnd = random.uniform(random.PRNGKey(0), shape=(2**n_angles_rnd,), minval=0, maxval=10)\n",
    "f_rnd = trigonometric_landscape(coeffs_rnd, n_angles_rnd)\n",
    "get_coeffs_rnd = trigonometric_coefficients(f_rnd, n_angles_rnd)\n",
    "\n",
    "print(coeffs_rnd)\n",
    "print(get_coeffs_rnd)"
   ]
  },
  {
   "cell_type": "code",
   "execution_count": 35,
   "id": "98c8f8e7-e487-44e9-a190-c4c7194a3b15",
   "metadata": {},
   "outputs": [
    {
     "name": "stdout",
     "output_type": "stream",
     "text": [
      "5.2657743\n",
      "5.2657743\n"
     ]
    }
   ],
   "source": [
    "# Reconstruction from funcion.\n",
    "get_f_rnd = trigonometric_landscape(get_coeffs_rnd, n_angles_rnd)\n",
    "\n",
    "angles_rnd_sample = random.uniform(random.PRNGKey(0), shape=(n_angles_rnd, ), minval=0, maxval=2*jnp.pi)\n",
    "\n",
    "print(f_rnd(angles_rnd_sample))\n",
    "print(get_f_rnd(angles_rnd_sample))"
   ]
  },
  {
   "cell_type": "code",
   "execution_count": 48,
   "id": "d8263f8b-a5f6-4164-88ba-3a85a8b253ff",
   "metadata": {},
   "outputs": [],
   "source": [
    "a = Ansatz(3, 'cz', placements={'free':[[1,0], [1,2]]})\n",
    "u_target = a.unitary(jnp.array(range(1, a.n_angles+1), dtype='float32'))\n",
    "a.circuit().draw(output='mpl')\n",
    "\n",
    "tr_func = jit(lambda angles: trace_prod(u_target, a.unitary(angles)))\n",
    "tr_coeffs = trigonometric_coefficients(tr_func, a.n_angles)\n",
    "tr_func_check = lambda angles: trigonometric_landscape(tr_coeffs, a.n_angles)(angles)"
   ]
  },
  {
   "cell_type": "code",
   "execution_count": 49,
   "id": "0322f321-4eeb-447f-928f-0c306631dc95",
   "metadata": {},
   "outputs": [
    {
     "name": "stdout",
     "output_type": "stream",
     "text": [
      "(-0.5539855-0.1016594j)\n",
      "(-0.55398566-0.10165937j)\n"
     ]
    }
   ],
   "source": [
    "angles = random.uniform(random.PRNGKey(1), shape=(a.n_angles, ), minval=0, maxval=2*jnp.pi)\n",
    "print(tr_func(angles))\n",
    "print(tr_func_check(angles))"
   ]
  },
  {
   "cell_type": "code",
   "execution_count": 50,
   "id": "cad999f8-a78f-4216-b441-aa8c42b860a2",
   "metadata": {},
   "outputs": [
    {
     "data": {
      "text/plain": [
       "[<matplotlib.lines.Line2D at 0x7f70a7d76040>]"
      ]
     },
     "execution_count": 50,
     "metadata": {},
     "output_type": "execute_result"
    },
    {
     "data": {
      "image/png": "[encoded data removed]",
      "text/plain": [
       "<Figure size 432x288 with 1 Axes>"
      ]
     },
     "metadata": {
      "needs_background": "light"
     },
     "output_type": "display_data"
    }
   ],
   "source": [
    "plt.plot(jnp.sort(jnp.abs(tr_coeffs)))"
   ]
  },
  {
   "cell_type": "code",
   "execution_count": 13,
   "id": "e78e1fb2-63aa-4071-8bd7-bb6afa44e90c",
   "metadata": {},
   "outputs": [
    {
     "data": {
      "image/png": "[encoded data removed]",
      "text/plain": [
       "<Figure size 206.852x144.48 with 1 Axes>"
      ]
     },
     "execution_count": 13,
     "metadata": {},
     "output_type": "execute_result"
    }
   ],
   "source": [
    "qc = QuantumCircuit(2)\n",
    "qc.cz(0, 1)\n",
    "qc.x(0)\n",
    "u_qc = Operator(qc.reverse_bits()).data\n",
    "\n",
    "qc.draw(output='mpl')"
   ]
  },
  {
   "cell_type": "code",
   "execution_count": 14,
   "id": "865fe2a6-f545-433a-a5cd-ff59cdc707fa",
   "metadata": {},
   "outputs": [
    {
     "data": {
      "image/png": "[encoded data removed]",
      "text/plain": [
       "<Figure size 267.052x144.48 with 1 Axes>"
      ]
     },
     "execution_count": 14,
     "metadata": {},
     "output_type": "execute_result"
    }
   ],
   "source": [
    "cq = QuantumCircuit(2)\n",
    "cq.x(0)\n",
    "cq.cz(0, 1)\n",
    "cq.z(1)\n",
    "u_cq = Operator(cq.reverse_bits()).data\n",
    "\n",
    "cq.draw(output='mpl')"
   ]
  },
  {
   "cell_type": "code",
   "execution_count": 15,
   "id": "ce5d7d80-1fe3-4bc0-bd1e-5118ca9f3623",
   "metadata": {},
   "outputs": [
    {
     "name": "stdout",
     "output_type": "stream",
     "text": [
      "True\n"
     ]
    }
   ],
   "source": [
    "print(jnp.allclose(u_qc, u_cq))"
   ]
  },
  {
   "cell_type": "code",
   "execution_count": 16,
   "id": "f19c3a0d-a787-4e44-8013-63845e5ed367",
   "metadata": {},
   "outputs": [
    {
     "data": {
      "image/png": "[encoded data removed]",
      "text/plain": [
       "<Figure size 447.797x204.68 with 1 Axes>"
      ]
     },
     "execution_count": 16,
     "metadata": {},
     "output_type": "execute_result"
    }
   ],
   "source": [
    "\n",
    "a.circuit().draw(output='mpl')"
   ]
  },
  {
   "cell_type": "code",
   "execution_count": 8,
   "id": "3f4ce95e-95d3-4839-9cd8-9916426ead95",
   "metadata": {},
   "outputs": [
    {
     "name": "stdout",
     "output_type": "stream",
     "text": [
      "CPU times: user 24.1 s, sys: 1.81 s, total: 25.9 s\n",
      "Wall time: 25.7 s\n"
     ]
    }
   ],
   "source": [
    "%%time\n",
    "a = Ansatz(3, 'cz', placements={'free':[[0,1], [1, 2], [0, 2]]})\n",
    "u_coeffs = trigonometric_coefficients(jit(a.unitary), a.n_angles)"
   ]
  },
  {
   "cell_type": "code",
   "execution_count": 9,
   "id": "d5960628-5712-4fd4-86bb-881baff649d4",
   "metadata": {},
   "outputs": [
    {
     "name": "stdout",
     "output_type": "stream",
     "text": [
      "CPU times: user 14.7 s, sys: 1.36 s, total: 16.1 s\n",
      "Wall time: 12.7 s\n"
     ]
    }
   ],
   "source": [
    "%%time\n",
    "u_0 = u_coeffs[0]\n",
    "prods = vmap(jit(lambda u: trace_prod(u_0, u)))(u_coeffs)\n",
    "prods_abs = vmap(jnp.abs)(jnp.array(prods))\n",
    "prods_abs = prods_abs/prods_abs[0]"
   ]
  },
  {
   "cell_type": "code",
   "execution_count": 10,
   "id": "3c810400-7f78-4033-9c38-fd82091b20a6",
   "metadata": {},
   "outputs": [
    {
     "name": "stdout",
     "output_type": "stream",
     "text": [
      "ones: 32768, zeros: 2064384, sum: 2097152, total: 2097152\n",
      "ratio: 64.0\n",
      "guess:: 64\n"
     ]
    }
   ],
   "source": [
    "zers = jnp.where(jnp.abs(prods_abs)<1e-7)[0]\n",
    "ons = jnp.where(jnp.abs(prods_abs-1)<1e-7)[0]\n",
    "\n",
    "print('ones: {}, zeros: {}, sum: {}, total: {}'.format(len(ons), len(zers),len(ons)+len(zers),len(prods_abs)))\n",
    "print('ratio: {}'.format(len(prods_abs)/len(ons)))\n",
    "print('guess:: {}'.format(4**a.n_qubits))"
   ]
  }
 ],
 "metadata": {
  "kernelspec": {
   "display_name": "Python 3",
   "language": "python",
   "name": "python3"
  },
  "language_info": {
   "codemirror_mode": {
    "name": "ipython",
    "version": 3
   },
   "file_extension": ".py",
   "mimetype": "text/x-python",
   "name": "python",
   "nbconvert_exporter": "python",
   "pygments_lexer": "ipython3",
   "version": "3.8.10"
  },
  "widgets": {
   "application/vnd.jupyter.widget-state+json": {
    "state": {},
    "version_major": 2,
    "version_minor": 0
   }
  }
 },
 "nbformat": 4,
 "nbformat_minor": 5
}
