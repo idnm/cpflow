{
 "cells": [
  {
   "cell_type": "code",
   "execution_count": 1,
   "id": "688d43fb-9197-4bfb-b5ce-72e5c1689ea6",
   "metadata": {},
   "outputs": [
    {
     "name": "stderr",
     "output_type": "stream",
     "text": [
      "WARNING:absl:No GPU/TPU found, falling back to CPU. (Set TF_CPP_MIN_LOG_LEVEL=0 and rerun for more info.)\n"
     ]
    }
   ],
   "source": [
    "from jax_circuits import *\n",
    "from scipy.stats import unitary_group\n",
    "import matplotlib.pyplot as plt\n",
    "\n",
    "import time\n",
    "import pickle\n",
    "\n",
    "from qiskit import transpile\n",
    "from qiskit.quantum_info import Operator\n",
    "\n",
    "from topology import *\n",
    "\n",
    "from jax import custom_jvp, jvp, grad\n",
    "from jax.scipy.optimize import minimize\n",
    "\n",
    "key = random.PRNGKey(0)"
   ]
  },
  {
   "cell_type": "markdown",
   "id": "78643887-16fe-474b-9a3f-e2bb4e1a328a",
   "metadata": {
    "tags": []
   },
   "source": [
    "# Trigonometric landscape"
   ]
  },
  {
   "cell_type": "markdown",
   "id": "c68935ef-495f-4ea1-9cb6-cc78c737753a",
   "metadata": {},
   "source": [
    "First we will define a generator of trigonometric functions and a procedure to compute exact average."
   ]
  },
  {
   "cell_type": "code",
   "execution_count": 10,
   "id": "76a0b47a-d407-43db-bab4-f7ccadc1be5e",
   "metadata": {},
   "outputs": [],
   "source": [
    "def int_to_list(n, size):\n",
    "    n_str = format(n, 'b')\n",
    "    assert len(n_str)<=size, 'Integer {} too big to be converted to size {}'.format(n, size)\n",
    "    \n",
    "    zero_pad = '0'*(size-len(n_str))\n",
    "    n_str = zero_pad + n_str\n",
    "    \n",
    "    return [int(b) for b in n_str]\n",
    "\n",
    "def all_binary_strings(size):\n",
    "    max_n = int('1'*size, 2)+1\n",
    "    return [int_to_list(n, size) for n in range(max_n)]\n",
    "\n",
    "\n",
    "def trigonometric_landscape(coeffs, n_angles):\n",
    "\n",
    "#     assert n_angles % 1 == 0, 'Number of coefficients must be 2**n, got len(coeffs) {}'.format(len(coeffs))\n",
    "    powers = 1-jnp.array(all_binary_strings(int(n_angles)))\n",
    "\n",
    "    def f(angles):\n",
    "        cos_sin_array = jnp.cos(angles/2)**powers * jnp.sin(angles/2)**(1-powers)\n",
    "        cos_sin_monomials = jnp.prod(cos_sin_array, axis=1)\n",
    "        \n",
    "        return (coeffs*cos_sin_monomials).sum()\n",
    "    \n",
    "    return f"
   ]
  },
  {
   "cell_type": "markdown",
   "id": "1ea813b3-eb45-4aa3-a78a-cbdfe67dd7f7",
   "metadata": {},
   "source": [
    "This should illustrate what this function is doing."
   ]
  },
  {
   "cell_type": "code",
   "execution_count": 11,
   "id": "7270d691-4bbd-488d-9475-13a99c904ffc",
   "metadata": {},
   "outputs": [
    {
     "name": "stdout",
     "output_type": "stream",
     "text": [
      "CPU times: user 424 ms, sys: 22.5 ms, total: 447 ms\n",
      "Wall time: 440 ms\n"
     ]
    },
    {
     "data": {
      "text/plain": [
       "[<matplotlib.lines.Line2D at 0x7f258ebfec40>]"
      ]
     },
     "execution_count": 11,
     "metadata": {},
     "output_type": "execute_result"
    },
    {
     "data": {
      "image/png": "[encoded data removed]",
      "text/plain": [
       "<Figure size 432x288 with 1 Axes>"
      ]
     },
     "metadata": {
      "needs_background": "light"
     },
     "output_type": "display_data"
    }
   ],
   "source": [
    "%%time\n",
    "coeffs0=jnp.array([1, 2, 3, 4], dtype='float32')\n",
    "n_angles0 = int(jnp.log2(len(coeffs0)))\n",
    "\n",
    "f0 = trigonometric_landscape(coeffs0, n_angles0)\n",
    "\n",
    "x_sweep = jnp.linspace(-2*jnp.pi, 2*jnp.pi, 1000)\n",
    "y = 0.3\n",
    "\n",
    "plt.plot(x_sweep, vmap(lambda x: f0(jnp.array([x, y], dtype='float32')))(x_sweep))\n",
    "plt.plot(x_sweep, jnp.cos(x_sweep/2)*jnp.cos(y/2)+\n",
    "         2*jnp.cos(x_sweep/2)*jnp.sin(y/2)+\n",
    "         3*jnp.sin(x_sweep/2)*jnp.cos(y/2)+\n",
    "         4*jnp.sin(x_sweep/2)*jnp.sin(y/2))"
   ]
  },
  {
   "cell_type": "code",
   "execution_count": 12,
   "id": "f70a3d62-7b58-40da-a26f-180bc531e527",
   "metadata": {},
   "outputs": [],
   "source": [
    "def exact_average(F, n_angles):\n",
    "    grid_points = jnp.pi*jnp.array(all_binary_strings(n_angles))\n",
    "    F_grid = vmap(F)(grid_points)\n",
    "    \n",
    "    return F_grid.sum()/len(grid_points)\n",
    "\n",
    "def approximate_average(F, n_angles, n_samples, key):\n",
    "    grid_points = jnp.pi*jnp.array(all_binary_strings(n_angles))\n",
    "    grid_points = random.permutation(key, grid_points)\n",
    "    grid_points = grid_points[:n_samples]\n",
    "    \n",
    "    F_grid = vmap(F)(grid_points)\n",
    "    \n",
    "    return F_grid.sum()/len(grid_points)"
   ]
  },
  {
   "cell_type": "markdown",
   "id": "07b3e102-e2b6-456a-a756-42e630974f78",
   "metadata": {},
   "source": [
    "Test."
   ]
  },
  {
   "cell_type": "code",
   "execution_count": 13,
   "id": "4b480f21-e64c-4e1b-8fff-a4be0a16aa95",
   "metadata": {},
   "outputs": [
    {
     "name": "stdout",
     "output_type": "stream",
     "text": [
      "0.34455547\n",
      "0.34455538\n"
     ]
    }
   ],
   "source": [
    "key, subkey = random.split(key)\n",
    "n_angles = 10\n",
    "coeffs = random.uniform(subkey, shape=(2**n_angles, ), minval=0, maxval=1)\n",
    "\n",
    "\n",
    "print((coeffs**2).sum()/2**n_angles)\n",
    "print(exact_average(lambda angles: trigonometric_landscape(coeffs, n_angles)(angles)**2, n_angles))"
   ]
  },
  {
   "cell_type": "code",
   "execution_count": 14,
   "id": "272b466f-637a-421f-ae0f-f061dc328313",
   "metadata": {},
   "outputs": [
    {
     "name": "stdout",
     "output_type": "stream",
     "text": [
      "CPU times: user 9.19 s, sys: 61 ms, total: 9.26 s\n",
      "Wall time: 5.51 s\n"
     ]
    }
   ],
   "source": [
    "%%time\n",
    "n_angles = 12\n",
    "key, subkey = random.split(key)\n",
    "coeffs = random.uniform(subkey, shape=(2**n_angles, ), minval=0, maxval=1)\n",
    "exact_avg = (coeffs**2).sum()/2**n_angles\n",
    "F = lambda angles: trigonometric_landscape(coeffs, n_angles)(angles)**2\n",
    "F=jit(F)\n",
    "\n",
    "average_list = []\n",
    "for i in range(n_angles):\n",
    "    key, subkey = random.split(key)\n",
    "    average_i = approximate_average(F, n_angles, 2**i, subkey)\n",
    "    average_list.append(average_i)"
   ]
  },
  {
   "cell_type": "code",
   "execution_count": 15,
   "id": "91e70a79-42bf-48ac-aaa6-a72c0c7f25a1",
   "metadata": {},
   "outputs": [
    {
     "name": "stdout",
     "output_type": "stream",
     "text": [
      "number of angles: 12\n"
     ]
    },
    {
     "data": {
      "text/plain": [
       "[<matplotlib.lines.Line2D at 0x7f258f3b7c40>]"
      ]
     },
     "execution_count": 15,
     "metadata": {},
     "output_type": "execute_result"
    },
    {
     "data": {
      "image/png": "[encoded data removed]",
      "text/plain": [
       "<Figure size 432x288 with 1 Axes>"
      ]
     },
     "metadata": {
      "needs_background": "light"
     },
     "output_type": "display_data"
    }
   ],
   "source": [
    "print('number of angles: {}'.format(n_angles))\n",
    "plt.plot(average_list)\n",
    "plt.plot([exact_avg]*n_angles)"
   ]
  },
  {
   "cell_type": "markdown",
   "id": "860d4398-eeed-4cf2-a114-2a5aa953676a",
   "metadata": {
    "tags": [],
    "toc-hr-collapsed": true
   },
   "source": [
    "# Average conjecture test"
   ]
  },
  {
   "cell_type": "markdown",
   "id": "97c06ff0-b745-45bb-8531-c44e34bed751",
   "metadata": {},
   "source": [
    "Now we can test the average conjecture."
   ]
  },
  {
   "cell_type": "code",
   "execution_count": 136,
   "id": "abf6d417-e0cc-46a1-b6b9-466072682311",
   "metadata": {},
   "outputs": [
    {
     "data": {
      "text/html": [
       "<pre style=\"word-wrap: normal;white-space: pre;background: #fff0;line-height: 1.1;font-family: &quot;Courier New&quot;,Courier,monospace\">     ┌───────┐┌───────┐┌───────┐                            ┌───────┐┌───────┐»\n",
       "q_0: ┤ RZ(0) ├┤ RX(0) ├┤ RZ(0) ├─────────────────────────■──┤ RY(0) ├┤ RX(0) ├»\n",
       "     ├───────┤├───────┤├───────┤     ┌───────┐┌───────┐┌─┴─┐├───────┤├───────┤»\n",
       "q_1: ┤ RZ(0) ├┤ RX(0) ├┤ RZ(0) ├──■──┤ RY(1) ├┤ RX(0) ├┤ X ├┤ RY(2) ├┤ RX(0) ├»\n",
       "     ├───────┤├───────┤├───────┤┌─┴─┐├───────┤├───────┤└───┘└───────┘└───────┘»\n",
       "q_2: ┤ RZ(0) ├┤ RX(0) ├┤ RZ(0) ├┤ X ├┤ RY(0) ├┤ RX(0) ├───────────────────────»\n",
       "     └───────┘└───────┘└───────┘└───┘└───────┘└───────┘                       »\n",
       "«          ┌───────┐┌───────┐\n",
       "«q_0: ──■──┤ RY(0) ├┤ RX(0) ├\n",
       "«       │  └───────┘└───────┘\n",
       "«q_1: ──┼────────────────────\n",
       "«     ┌─┴─┐┌───────┐┌───────┐\n",
       "«q_2: ┤ X ├┤ RY(0) ├┤ RX(0) ├\n",
       "«     └───┘└───────┘└───────┘</pre>"
      ],
      "text/plain": [
       "     ┌───────┐┌───────┐┌───────┐                            ┌───────┐┌───────┐»\n",
       "q_0: ┤ RZ(0) ├┤ RX(0) ├┤ RZ(0) ├─────────────────────────■──┤ RY(0) ├┤ RX(0) ├»\n",
       "     ├───────┤├───────┤├───────┤     ┌───────┐┌───────┐┌─┴─┐├───────┤├───────┤»\n",
       "q_1: ┤ RZ(0) ├┤ RX(0) ├┤ RZ(0) ├──■──┤ RY(1) ├┤ RX(0) ├┤ X ├┤ RY(2) ├┤ RX(0) ├»\n",
       "     ├───────┤├───────┤├───────┤┌─┴─┐├───────┤├───────┤└───┘└───────┘└───────┘»\n",
       "q_2: ┤ RZ(0) ├┤ RX(0) ├┤ RZ(0) ├┤ X ├┤ RY(0) ├┤ RX(0) ├───────────────────────»\n",
       "     └───────┘└───────┘└───────┘└───┘└───────┘└───────┘                       »\n",
       "«          ┌───────┐┌───────┐\n",
       "«q_0: ──■──┤ RY(0) ├┤ RX(0) ├\n",
       "«       │  └───────┘└───────┘\n",
       "«q_1: ──┼────────────────────\n",
       "«     ┌─┴─┐┌───────┐┌───────┐\n",
       "«q_2: ┤ X ├┤ RY(0) ├┤ RX(0) ├\n",
       "«     └───┘└───────┘└───────┘"
      ]
     },
     "execution_count": 136,
     "metadata": {},
     "output_type": "execute_result"
    }
   ],
   "source": [
    "n_qubits = 3\n",
    "a = Ansatz(n_qubits, 'cx', placements={'free':[[1,2], [0,1],[0, 2]]})\n",
    "# u_func = lambda angs: a.unitary(jnp.array([angs[0], 0, 0, 0, 0, 0], dtype='float32'))\n",
    "zero_angles = jnp.zeros((a.n_angles, ))\n",
    "restrinced_angles = lambda angs: zero_angles.at[9].set(angs[0]).at[15].set(angs[1])\n",
    "u_func = lambda angs: a.unitary(restrinced_angles(angs))\n",
    "n_angles = 1\n",
    "a.circuit(restrinced_angles((1, 2))).draw()"
   ]
  },
  {
   "cell_type": "code",
   "execution_count": 141,
   "id": "f2d984be-600d-458d-94c3-10f41365331e",
   "metadata": {},
   "outputs": [],
   "source": [
    "def A_and_B(angles):\n",
    "    n_angles = len(angles)\n",
    "    R = 1j*jnp.kron(y_mat, jnp.identity(2**(n_qubits-1)))\n",
    "    \n",
    "    W0 = u_func(jnp.zeros((n_angles), dtype='float32'))\n",
    "    W = u_func(angles)\n",
    "    \n",
    "    A = trace_prod(W0, W)\n",
    "    B = trace_prod(W0, R@W)\n",
    "    \n",
    "    return A, B\n",
    "\n",
    "def A_squared(angles):\n",
    "    A, _ = A_and_B(angles)\n",
    "    return A*A.conj()\n",
    "\n",
    "def B_squared(angles):\n",
    "    _, B = A_and_B(angles)\n",
    "    return B*B.conj()\n",
    "\n",
    "def A_bar_B(angles):\n",
    "    A, B = A_and_B(angles)\n",
    "    return A*B.conj()"
   ]
  },
  {
   "cell_type": "code",
   "execution_count": 142,
   "id": "03165dfd-917f-40de-bd0b-573a20884f57",
   "metadata": {},
   "outputs": [
    {
     "name": "stdout",
     "output_type": "stream",
     "text": [
      "(16+0j)\n",
      "0j\n",
      "0j\n"
     ]
    }
   ],
   "source": [
    "print(exact_average(A_squared, n_angles))\n",
    "print(exact_average(B_squared, n_angles))\n",
    "print(exact_average(A_bar_B, n_angles))"
   ]
  },
  {
   "cell_type": "markdown",
   "id": "1ac8c47a-adf5-45ac-b76e-97b64eee082d",
   "metadata": {
    "tags": []
   },
   "source": [
    "# Average learning"
   ]
  },
  {
   "cell_type": "code",
   "execution_count": 16,
   "id": "9cb0fe8f-a577-4ef3-bd3a-73a30fa1cc12",
   "metadata": {},
   "outputs": [],
   "source": [
    "def optimize_first_angle(f, n_angles, average_func):\n",
    "    if n_angles == 1:\n",
    "        return min_angle(lambda ang: f(jnp.array((ang, ))))\n",
    "    \n",
    "    def f_to_average(ang, angs):\n",
    "        angles = jnp.concatenate([jnp.array([ang]), angs])\n",
    "        return f(angles)\n",
    "    \n",
    "    def f1(ang):\n",
    "        return average_func(lambda angs: f_to_average(ang, angs), n_angles-1)\n",
    "    \n",
    "    return min_angle(f1)\n",
    "\n",
    "def average_learn(u_func, u_target, n_angles, average_func):\n",
    "    \n",
    "    def loss0(angles):\n",
    "        return disc2(u_func(angles), u_target)\n",
    "    \n",
    "    optimal_angles = jnp.array([], dtype='float32')\n",
    "    for n in range(n_angles):\n",
    "        def loss(angs):\n",
    "            angles = jnp.concatenate([optimal_angles, angs])\n",
    "            return loss0(angles)\n",
    "        n_angs = n_angles - n\n",
    "        new_angle = optimize_first_angle(loss, n_angs, average_func)\n",
    "        optimal_angles = jnp.append(optimal_angles, new_angle)\n",
    "\n",
    "    return optimal_angles"
   ]
  },
  {
   "cell_type": "code",
   "execution_count": 114,
   "id": "06a22a92-79c0-4d94-ba69-2f9319b8eb11",
   "metadata": {},
   "outputs": [
    {
     "data": {
      "image/png": "[encoded data removed]",
      "text/plain": [
       "<Figure size 808.997x204.68 with 1 Axes>"
      ]
     },
     "execution_count": 114,
     "metadata": {},
     "output_type": "execute_result"
    }
   ],
   "source": [
    "a = Ansatz(3, 'cz', placements={'free':[[1,0], [0, 2], [1, 2]]})\n",
    "u_target = a.unitary(jnp.array(range(1, a.n_angles+1), dtype='float32'))\n",
    "a.circuit().draw(output='mpl')"
   ]
  },
  {
   "cell_type": "code",
   "execution_count": 115,
   "id": "0c95487c-723a-43af-b7a1-b955044135ce",
   "metadata": {},
   "outputs": [],
   "source": [
    "u_restricted = lambda angs: a.unitary(jnp.concatenate([jnp.zeros(shape=(9,)), angs]))\n",
    "u_target_restricted = u_restricted(jnp.array(range(0, a.n_angles-9),dtype='float32'))"
   ]
  },
  {
   "cell_type": "code",
   "execution_count": 116,
   "id": "f5c5cb3a-5140-4b17-8dbf-22e2b23b9fbf",
   "metadata": {},
   "outputs": [],
   "source": [
    "opt_angles = average_learn(u_restricted, u_target_restricted, a.n_angles-9, exact_average)"
   ]
  },
  {
   "cell_type": "code",
   "execution_count": 117,
   "id": "ccee9097-3e66-41cc-bbed-7b0dadd3c2aa",
   "metadata": {},
   "outputs": [
    {
     "name": "stdout",
     "output_type": "stream",
     "text": [
      "[ 1.5707964   1.5707964  -0.         -0.         -0.9375348   1.9304514\n",
      "  0.7853982  -1.5707964   1.5391778  -0.42477575  1.2185782   3.5698256 ]\n",
      "0.68964493\n"
     ]
    }
   ],
   "source": [
    "print(opt_angles)\n",
    "print(disc2(u_restricted(opt_angles),u_target_restricted))"
   ]
  },
  {
   "cell_type": "code",
   "execution_count": 89,
   "id": "5fd30fc2-654b-46f6-a5af-54f239f99829",
   "metadata": {},
   "outputs": [
    {
     "data": {
      "text/plain": [
       "DeviceArray(0.+0.j, dtype=complex64)"
      ]
     },
     "execution_count": 89,
     "metadata": {},
     "output_type": "execute_result"
    }
   ],
   "source": [
    "W = rz_mat(3) @ rx_mat(2) @ rz_mat(1)\n",
    "Vmats = [W, z_mat @ W, x_mat @ W, x_mat @ z_mat @ W]\n",
    "total = 0\n",
    "for V in Vmats:\n",
    "    total += jnp.trace(V.conj().T)*jnp.trace(V@z_mat)-jnp.trace(V)*jnp.trace(V.conj().T@z_mat)\n",
    "total"
   ]
  },
  {
   "cell_type": "code",
   "execution_count": 94,
   "id": "ff214b1d-10ac-417e-8b5c-2e954af7a1ec",
   "metadata": {},
   "outputs": [
    {
     "data": {
      "text/plain": [
       "DeviceArray(0., dtype=float32)"
      ]
     },
     "execution_count": 94,
     "metadata": {},
     "output_type": "execute_result"
    }
   ],
   "source": [
    "total = 0\n",
    "for V in Vmats:\n",
    "    total += jnp.abs(jnp.trace(V.conj().T))**2-jnp.abs(jnp.trace(V.conj().T@z_mat))**2\n",
    "total"
   ]
  },
  {
   "cell_type": "code",
   "execution_count": 80,
   "id": "a2b2e4f7-69da-45a1-b48b-5257b38eeaed",
   "metadata": {},
   "outputs": [
    {
     "data": {
      "text/plain": [
       "DeviceArray(4., dtype=float32)"
      ]
     },
     "execution_count": 80,
     "metadata": {},
     "output_type": "execute_result"
    }
   ],
   "source": [
    "jnp.trace(jnp.identity(4))"
   ]
  },
  {
   "cell_type": "code",
   "execution_count": 21,
   "id": "2feabc75-9d92-4df9-899b-40081db3a3f5",
   "metadata": {},
   "outputs": [],
   "source": [
    "ah, lh = a.learn(u_target)"
   ]
  },
  {
   "cell_type": "code",
   "execution_count": 22,
   "id": "f787b6e9-f37d-4897-9b39-cecfed0d1c17",
   "metadata": {},
   "outputs": [
    {
     "data": {
      "text/plain": [
       "DeviceArray([4.1415873 , 4.283187  , 2.999997  , 4.0009146 , 1.8587089 ,\n",
       "             3.4250803 , 0.71681476, 1.7168156 , 5.85841   , 3.7168412 ],            dtype=float32)"
      ]
     },
     "execution_count": 22,
     "metadata": {},
     "output_type": "execute_result"
    }
   ],
   "source": [
    "ah[-1]"
   ]
  },
  {
   "cell_type": "code",
   "execution_count": 23,
   "id": "0f622610-8c56-4b43-a2bd-a11dcc9b8892",
   "metadata": {},
   "outputs": [
    {
     "data": {
      "text/plain": [
       "DeviceArray(0., dtype=float32)"
      ]
     },
     "execution_count": 23,
     "metadata": {},
     "output_type": "execute_result"
    }
   ],
   "source": [
    "lh[-1]"
   ]
  },
  {
   "cell_type": "code",
   "execution_count": null,
   "id": "812729e1-be55-4755-ad09-2a740da73378",
   "metadata": {},
   "outputs": [],
   "source": []
  }
 ],
 "metadata": {
  "kernelspec": {
   "display_name": "Python 3",
   "language": "python",
   "name": "python3"
  },
  "language_info": {
   "codemirror_mode": {
    "name": "ipython",
    "version": 3
   },
   "file_extension": ".py",
   "mimetype": "text/x-python",
   "name": "python",
   "nbconvert_exporter": "python",
   "pygments_lexer": "ipython3",
   "version": "3.8.10"
  },
  "widgets": {
   "application/vnd.jupyter.widget-state+json": {
    "state": {},
    "version_major": 2,
    "version_minor": 0
   }
  }
 },
 "nbformat": 4,
 "nbformat_minor": 5
}
