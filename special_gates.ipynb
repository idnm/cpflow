{
 "cells": [
  {
   "cell_type": "code",
   "execution_count": 1,
   "id": "f54916f1-4147-408c-b6c8-b5aeb6fbf3cd",
   "metadata": {},
   "outputs": [
    {
     "name": "stderr",
     "output_type": "stream",
     "text": [
      "WARNING:absl:No GPU/TPU found, falling back to CPU. (Set TF_CPP_MIN_LOG_LEVEL=0 and rerun for more info.)\n"
     ]
    }
   ],
   "source": [
    "from jax_circuits import *\n",
    "from scipy.stats import unitary_group\n",
    "import matplotlib.pyplot as plt\n",
    "\n",
    "import time\n",
    "import pickle\n",
    "\n",
    "from qiskit import transpile\n",
    "from qiskit.quantum_info import Operator\n",
    "\n",
    "from topology import *\n",
    "\n",
    "from jax import custom_jvp, jvp, grad\n",
    "from jax.scipy.optimize import minimize\n",
    "\n",
    "key = random.PRNGKey(42)"
   ]
  },
  {
   "cell_type": "markdown",
   "id": "a2f8c5f4-bf20-494b-96a9-521c4a119a15",
   "metadata": {
    "tags": []
   },
   "source": [
    "# Helper functions"
   ]
  },
  {
   "cell_type": "code",
   "execution_count": 2,
   "id": "235ab0f5-4e94-4bf5-b494-52a017067050",
   "metadata": {},
   "outputs": [],
   "source": [
    "def learning_success_rate(u_func, u_target, num_angles, num_samples, key, **kwargs):\n",
    "    \n",
    "    initial_angles = random.uniform(key, shape=(num_samples, num_angles), minval=0, maxval=2*jnp.pi)\n",
    "    cost_func = lambda angs: disc2(u_func(angs), u_target)\n",
    "    angles_and_loss_histories = gradient_descent_learn(cost_func, \n",
    "                                                       num_angles,\n",
    "                                                       initial_angles=initial_angles,\n",
    "                                                       **kwargs)\n",
    "    \n",
    "    best_losses = [min(hist) for (_, hist) in angles_and_loss_histories]\n",
    "    sucess_history = [loss<kwargs['target_disc'] for loss in best_losses]\n",
    "    return angles_and_loss_histories, sucess_history\n",
    "\n",
    "def chart_learning_success_rate(num_qubits, key, num_samples=20, min_depth=0, max_depth=0, **kwargs):\n",
    "\n",
    "    success_rates = []\n",
    "    for d in range(min_depth, max_depth+1):\n",
    "        a = Ansatz(num_qubits, 'cz', fill_layers(sequ_layer(num_qubits), d))\n",
    "        key, subkey = random.split(key)\n",
    "        target_angles = random.uniform(subkey, shape=(a.num_angles, ), minval=0, maxval=2*jnp.pi)\n",
    "        u_target = a.unitary(target_angles)\n",
    "        \n",
    "        key, subkey = random.split(key)\n",
    "        _, success_history = learning_success_rate(a.unitary, u_target, a.num_angles, num_samples, subkey, **kwargs)\n",
    "        success_rate = jnp.array(success_history).sum()/len(success_history)\n",
    "        success_rates.append(success_rate)\n",
    "        \n",
    "    return success_rates"
   ]
  },
  {
   "cell_type": "markdown",
   "id": "a4922bc1-8790-41f9-bd00-133390ba40a2",
   "metadata": {
    "tags": [],
    "toc-hr-collapsed": true
   },
   "source": [
    "# 2-qubit"
   ]
  },
  {
   "cell_type": "code",
   "execution_count": 3,
   "id": "3710b3c4-9533-45a8-ac7c-518b443f2c75",
   "metadata": {},
   "outputs": [],
   "source": [
    "max_depth = theoretical_lower_bound(2)+3\n",
    "num_samples = 20"
   ]
  },
  {
   "cell_type": "code",
   "execution_count": 4,
   "id": "c04b0f7b-7238-4df7-b23a-0975f890b6cd",
   "metadata": {},
   "outputs": [
    {
     "name": "stdout",
     "output_type": "stream",
     "text": [
      "CPU times: user 43.7 s, sys: 1.69 s, total: 45.4 s\n",
      "Wall time: 40.4 s\n"
     ]
    }
   ],
   "source": [
    "%%time\n",
    "key, subkey = random.split(key)\n",
    "success_rates = chart_learning_success_rate(2, \n",
    "                                            subkey, \n",
    "                                            num_samples=num_samples, \n",
    "                                            max_depth=max_depth,\n",
    "                                            num_iterations=5000,\n",
    "                                            target_disc=1e-3)\n",
    "\n",
    "with open('success_rates_2.pickle', 'wb') as f:\n",
    "     pickle.dump(success_rates, f)"
   ]
  },
  {
   "cell_type": "code",
   "execution_count": 6,
   "id": "37ff4b29-ab4f-4ca4-bad8-ec27f1b7a7ed",
   "metadata": {},
   "outputs": [
    {
     "data": {
      "text/plain": [
       "Text(0.5, 1.0, 'number of samples: 20')"
      ]
     },
     "execution_count": 6,
     "metadata": {},
     "output_type": "execute_result"
    },
    {
     "data": {
      "image/png": "[encoded data removed]",
      "text/plain": [
       "<Figure size 432x288 with 1 Axes>"
      ]
     },
     "metadata": {
      "needs_background": "light"
     },
     "output_type": "display_data"
    }
   ],
   "source": [
    "with open('success_rates_2.pickle', 'rb') as f:\n",
    "     success_rates = pickle.load(f)\n",
    "\n",
    "plt.scatter(range(max_depth+1), success_rates)\n",
    "plt.xlabel('depth')\n",
    "plt.ylabel('success rate')\n",
    "plt.title('number of samples: {}'.format(num_samples))"
   ]
  },
  {
   "cell_type": "markdown",
   "id": "888ea0c5-8467-436a-9982-0399c85183e1",
   "metadata": {
    "tags": []
   },
   "source": [
    "# 3-qubit"
   ]
  },
  {
   "cell_type": "markdown",
   "id": "5fedf2d4-fc46-40d0-9997-1b6b4e9850f2",
   "metadata": {
    "tags": []
   },
   "source": [
    "## Full sweep"
   ]
  },
  {
   "cell_type": "code",
   "execution_count": 12,
   "id": "850a6eec-294c-42ba-8f9d-70debca2cf0f",
   "metadata": {},
   "outputs": [],
   "source": [
    "min_depth=0\n",
    "max_depth = theoretical_lower_bound(3)+2"
   ]
  },
  {
   "cell_type": "code",
   "execution_count": 13,
   "id": "7ee6ec33-7451-4dd3-86ba-7e732b4e14ff",
   "metadata": {},
   "outputs": [
    {
     "name": "stdout",
     "output_type": "stream",
     "text": [
      "CPU times: user 13min 34s, sys: 43.6 s, total: 14min 18s\n",
      "Wall time: 11min 39s\n"
     ]
    }
   ],
   "source": [
    "%%time\n",
    "key, subkey = random.split(key)\n",
    "success_rates = chart_learning_success_rate(3, subkey, \n",
    "                                            num_samples=20, \n",
    "                                            min_depth=min_depth,\n",
    "                                            max_depth=max_depth,\n",
    "                                            num_iterations=5000,\n",
    "                                            target_disc=1e-3)\n",
    "\n",
    "with open('success_rates_3.pickle', 'wb') as f:\n",
    "     pickle.dump(success_rates, f)"
   ]
  },
  {
   "cell_type": "code",
   "execution_count": 15,
   "id": "6c6c7fa8-13c0-4175-86c4-bce95974dc8d",
   "metadata": {},
   "outputs": [
    {
     "data": {
      "text/plain": [
       "<matplotlib.collections.PathCollection at 0x7f22e88ecdf0>"
      ]
     },
     "execution_count": 15,
     "metadata": {},
     "output_type": "execute_result"
    },
    {
     "data": {
      "image/png": "[encoded data removed]",
      "text/plain": [
       "<Figure size 432x288 with 1 Axes>"
      ]
     },
     "metadata": {
      "needs_background": "light"
     },
     "output_type": "display_data"
    }
   ],
   "source": [
    "with open('success_rates_3.pickle', 'rb') as f:\n",
    "     success_rates = pickle.load(f)\n",
    "        \n",
    "plt.scatter(range(min_depth, max_depth+1), success_rates)"
   ]
  },
  {
   "cell_type": "markdown",
   "id": "1a9a4bde-fb6f-446b-b657-85c414b5dbf7",
   "metadata": {
    "tags": []
   },
   "source": [
    "## Zoom in on middle range"
   ]
  },
  {
   "cell_type": "markdown",
   "id": "4e740b95-e893-4f79-84da-3db9d959e111",
   "metadata": {},
   "source": [
    "As the plot above shows, GD appears to get stuck in local minimums a lot in the depth range 7-12. Let us zoom in on this region."
   ]
  },
  {
   "cell_type": "code",
   "execution_count": 16,
   "id": "8e5ae859-2606-49d7-ae35-788f409daccb",
   "metadata": {},
   "outputs": [
    {
     "name": "stdout",
     "output_type": "stream",
     "text": [
      "CPU times: user 29min 10s, sys: 1min 43s, total: 30min 54s\n",
      "Wall time: 23min 58s\n"
     ]
    }
   ],
   "source": [
    "%%time\n",
    "min_depth = 9\n",
    "max_depth = 13\n",
    "num_samples = 100\n",
    "\n",
    "key, subkey = random.split(key)\n",
    "success_rates = chart_learning_success_rate(3, subkey, \n",
    "                                            num_samples=num_samples, \n",
    "                                            min_depth=min_depth,\n",
    "                                            max_depth=max_depth,\n",
    "                                            num_iterations=5000,\n",
    "                                            target_disc=1e-3)\n",
    "\n",
    "with open('success_rates_3_zoom.pickle', 'wb') as f:\n",
    "     pickle.dump(success_rates, f)"
   ]
  },
  {
   "cell_type": "code",
   "execution_count": 72,
   "id": "4e3ab4c0-4453-4691-a21f-f4cbd72e6f29",
   "metadata": {},
   "outputs": [
    {
     "name": "stdout",
     "output_type": "stream",
     "text": [
      "[array(0., dtype=float32), array(0., dtype=float32), array(0., dtype=float32), array(0.01, dtype=float32), array(0.59, dtype=float32)]\n"
     ]
    },
    {
     "data": {
      "text/plain": [
       "Text(0.5, 1.0, 'num samples = 100')"
      ]
     },
     "execution_count": 72,
     "metadata": {},
     "output_type": "execute_result"
    },
    {
     "data": {
      "image/png": "[encoded data removed]",
      "text/plain": [
       "<Figure size 432x288 with 1 Axes>"
      ]
     },
     "metadata": {
      "needs_background": "light"
     },
     "output_type": "display_data"
    }
   ],
   "source": [
    "with open('success_rates_3_zoom.pickle', 'rb') as f:\n",
    "     success_rates = pickle.load(f)\n",
    "\n",
    "print(success_rates)\n",
    "plt.scatter(range(min_depth, max_depth+1), success_rates)\n",
    "plt.xlabel('depth')\n",
    "plt.ylabel('sucess rate')\n",
    "plt.title('num samples = {}'.format(num_samples))"
   ]
  },
  {
   "cell_type": "markdown",
   "id": "9289afcb",
   "metadata": {
    "tags": [],
    "toc-hr-collapsed": true
   },
   "source": [
    "## Distribution of local minimums"
   ]
  },
  {
   "cell_type": "markdown",
   "id": "67fa5d1b",
   "metadata": {},
   "source": [
    "Further experiments do not confirm conjecture that most of the local minumums are the same."
   ]
  },
  {
   "cell_type": "code",
   "execution_count": 70,
   "id": "a8ba26f7",
   "metadata": {},
   "outputs": [
    {
     "name": "stdout",
     "output_type": "stream",
     "text": [
      "CPU times: user 41.9 s, sys: 2.31 s, total: 44.2 s\n",
      "Wall time: 36.8 s\n"
     ]
    },
    {
     "data": {
      "text/plain": [
       "(array([12.,  0.,  0.,  0.,  0.,  0.,  0.,  0.,  0.,  0.,  0.,  0.,  0.,\n",
       "         0.,  0.,  0.,  0.,  0.,  0.,  0.,  0.,  0.,  0.,  0.,  1.,  1.,\n",
       "         0.,  1.,  0.,  5.]),\n",
       " array([9.6201897e-05, 1.8061135e-02, 3.6026068e-02, 5.3991001e-02,\n",
       "        7.1955934e-02, 8.9920871e-02, 1.0788580e-01, 1.2585074e-01,\n",
       "        1.4381567e-01, 1.6178060e-01, 1.7974554e-01, 1.9771047e-01,\n",
       "        2.1567540e-01, 2.3364033e-01, 2.5160527e-01, 2.6957020e-01,\n",
       "        2.8753513e-01, 3.0550006e-01, 3.2346499e-01, 3.4142995e-01,\n",
       "        3.5939488e-01, 3.7735981e-01, 3.9532474e-01, 4.1328967e-01,\n",
       "        4.3125460e-01, 4.4921952e-01, 4.6718445e-01, 4.8514941e-01,\n",
       "        5.0311434e-01, 5.2107924e-01, 5.3904420e-01], dtype=float32),\n",
       " <BarContainer object of 30 artists>)"
      ]
     },
     "execution_count": 70,
     "metadata": {},
     "output_type": "execute_result"
    },
    {
     "data": {
      "image/png": "[encoded data removed]",
      "text/plain": [
       "<Figure size 432x288 with 1 Axes>"
      ]
     },
     "metadata": {
      "needs_background": "light"
     },
     "output_type": "display_data"
    }
   ],
   "source": [
    "%%time\n",
    "num_qubits = 3\n",
    "depth = 7\n",
    "\n",
    "\n",
    "anz = Ansatz(3, 'cz', placements=fill_layers(chain_layer(3), 4))\n",
    "key, subkey = random.split(key)\n",
    "target_angles = random.uniform(subkey, shape=(anz.num_angles,), minval=0, maxval=2*jnp.pi)\n",
    "u_target = anz.unitary(target_angles)\n",
    "\n",
    "key, subkey = random.split(key)\n",
    "angles_and_loss_histories, sucess_history = learning_success_rate(anz.unitary, \n",
    "                                                                  u_target,\n",
    "                                                                  anz.num_angles,\n",
    "                                                                  20,\n",
    "                                                                  key,\n",
    "                                                                  target_disc=1e-4)\n",
    "\n",
    "best_losses = [h[-1] for _, h in angles_and_loss_histories]\n",
    "plt.hist(jnp.array(best_losses), bins=30)"
   ]
  },
  {
   "cell_type": "markdown",
   "id": "f21bed7b-e3ed-4d16-a2a0-add88b0f9e35",
   "metadata": {
    "tags": [],
    "toc-hr-collapsed": true
   },
   "source": [
    "## Lowest point"
   ]
  },
  {
   "cell_type": "markdown",
   "id": "c2a232d4-229d-438f-9d60-ed529fc1e67d",
   "metadata": {},
   "source": [
    "OK, seems that another zoom-in is in order. Let's just do depth=9."
   ]
  },
  {
   "cell_type": "code",
   "execution_count": 73,
   "id": "cb805bd4-49dd-44a9-ad6f-a85956c1b966",
   "metadata": {},
   "outputs": [
    {
     "name": "stdout",
     "output_type": "stream",
     "text": [
      "CPU times: user 24min 26s, sys: 1min 31s, total: 25min 57s\n",
      "Wall time: 20min 10s\n"
     ]
    },
    {
     "data": {
      "text/plain": [
       "[DeviceArray(0.011, dtype=float32)]"
      ]
     },
     "execution_count": 73,
     "metadata": {},
     "output_type": "execute_result"
    }
   ],
   "source": [
    "%%time\n",
    "key, subkey = random.split(key)\n",
    "chart_learning_success_rate(3, \n",
    "                            subkey, \n",
    "                            num_samples=1000, \n",
    "                            min_depth=9,\n",
    "                            max_depth=9,\n",
    "                            num_iterations=2000,\n",
    "                            target_disc=1e-3)"
   ]
  },
  {
   "cell_type": "markdown",
   "id": "ab16812d-2f7e-4b9e-b6d9-7199f7ca4947",
   "metadata": {
    "tags": []
   },
   "source": [
    "## Toffoli 3 "
   ]
  },
  {
   "cell_type": "markdown",
   "id": "b7bf1cda-909a-4d0a-881f-8395bde743ed",
   "metadata": {},
   "source": [
    "Let us also check directly the success rate for the toffoli gate."
   ]
  },
  {
   "cell_type": "code",
   "execution_count": 3,
   "id": "94aeb31e-6df6-4f3e-91cf-4c522fc765ae",
   "metadata": {},
   "outputs": [
    {
     "data": {
      "image/png": "[encoded data removed]",
      "text/plain": [
       "<Figure size 1350.8x204.68 with 1 Axes>"
      ]
     },
     "execution_count": 3,
     "metadata": {},
     "output_type": "execute_result"
    }
   ],
   "source": [
    "qc = QuantumCircuit(3)\n",
    "qc.ccx(0, 1, 2)\n",
    "u_toff3 = Operator(qc.reverse_bits()).data\n",
    "\n",
    "placements_toff3 = [[1, 2], [0, 2], [1, 2], [0, 2], [0, 1], [0, 1]]\n",
    "anz_toff3 = Ansatz(3, 'cz', placements={'free': placements_toff3})\n",
    "\n",
    "anz_toff3.circuit().draw(output='mpl')"
   ]
  },
  {
   "cell_type": "code",
   "execution_count": 37,
   "id": "df497491-a947-4d1f-9554-fdc38c014d77",
   "metadata": {},
   "outputs": [
    {
     "name": "stdout",
     "output_type": "stream",
     "text": [
      "CPU times: user 1min 3s, sys: 4.22 s, total: 1min 7s\n",
      "Wall time: 55.4 s\n"
     ]
    }
   ],
   "source": [
    "%%time\n",
    "\n",
    "num_samples=20\n",
    "key, subkey = random.split(key)\n",
    "angles_and_loss_histories, success_history_toff3 = learning_success_rate(anz_toff3.unitary, \n",
    "                                      u_toff3, \n",
    "                                      anz_toff3.num_angles, \n",
    "                                      num_samples, \n",
    "                                      subkey,\n",
    "                                      target_disc=1e-4)"
   ]
  },
  {
   "cell_type": "markdown",
   "id": "d8f2c6c4",
   "metadata": {},
   "source": [
    "Success rate is"
   ]
  },
  {
   "cell_type": "code",
   "execution_count": 40,
   "id": "1714f040",
   "metadata": {},
   "outputs": [
    {
     "data": {
      "text/plain": [
       "DeviceArray(0.2, dtype=float32)"
      ]
     },
     "execution_count": 40,
     "metadata": {},
     "output_type": "execute_result"
    }
   ],
   "source": [
    "jnp.array(success_history_toff3).sum()/len(success_history_toff3)"
   ]
  },
  {
   "cell_type": "markdown",
   "id": "8b887ea1",
   "metadata": {},
   "source": [
    "An interesting fact is that the almost all failed attempts are stuck in the same local minumum value."
   ]
  },
  {
   "cell_type": "code",
   "execution_count": 42,
   "id": "4b4228e2",
   "metadata": {},
   "outputs": [
    {
     "data": {
      "text/plain": [
       "[DeviceArray(0.146447, dtype=float32),\n",
       " DeviceArray(0.14644676, dtype=float32),\n",
       " DeviceArray(0.14644647, dtype=float32),\n",
       " DeviceArray(0.14644635, dtype=float32),\n",
       " DeviceArray(0.146447, dtype=float32),\n",
       " DeviceArray(0.14644724, dtype=float32),\n",
       " DeviceArray(0.14644724, dtype=float32),\n",
       " DeviceArray(0.14644676, dtype=float32),\n",
       " DeviceArray(0.57322323, dtype=float32),\n",
       " DeviceArray(0.14644676, dtype=float32),\n",
       " DeviceArray(0.14644724, dtype=float32),\n",
       " DeviceArray(0.14644653, dtype=float32),\n",
       " DeviceArray(0.14644653, dtype=float32),\n",
       " DeviceArray(0.14644653, dtype=float32),\n",
       " DeviceArray(0.14644688, dtype=float32),\n",
       " DeviceArray(0.14644676, dtype=float32)]"
      ]
     },
     "execution_count": 42,
     "metadata": {},
     "output_type": "execute_result"
    }
   ],
   "source": [
    "[h[-1] for _, h in angles_and_loss_histories if h[-1]>1e-4]"
   ]
  },
  {
   "cell_type": "markdown",
   "id": "4fe1fed1",
   "metadata": {},
   "source": [
    "It does not seem possible to find a value below the dominating local minimum by naive sampling. In fact, even getting fidelity near 80% is very hard."
   ]
  },
  {
   "cell_type": "code",
   "execution_count": 46,
   "id": "f6cdabad",
   "metadata": {},
   "outputs": [],
   "source": [
    "def find_below_treshold(cost_func, num_angles, num_attempts=100, threshhold=0.1):\n",
    "    for k in range(num_attempts):\n",
    "        angles = random.uniform(random.PRNGKey(k), \n",
    "                                shape=(num_angles, ), \n",
    "                                minval=0, \n",
    "                                maxval=2*jnp.pi)\n",
    "        cost = cost_func(angles)\n",
    "        if cost<threshhold:\n",
    "            return angles\n",
    "        \n",
    "    print('not found')"
   ]
  },
  {
   "cell_type": "code",
   "execution_count": 48,
   "id": "c95e7224",
   "metadata": {},
   "outputs": [
    {
     "name": "stdout",
     "output_type": "stream",
     "text": [
      "CPU times: user 1min 21s, sys: 6.15 s, total: 1min 28s\n",
      "Wall time: 1min 13s\n"
     ]
    },
    {
     "data": {
      "text/plain": [
       "DeviceArray([5.2530184 , 5.513037  , 2.29013   , 2.8192403 , 0.3081886 ,\n",
       "             4.0115075 , 5.370657  , 0.75173223, 5.8935275 , 0.419179  ,\n",
       "             3.9311795 , 5.0833397 , 5.8756514 , 3.1994467 , 0.5335347 ,\n",
       "             3.4507296 , 1.8419687 , 3.2537718 , 2.0118923 , 4.709503  ,\n",
       "             2.7546117 , 5.4779077 , 0.7300296 , 5.458556  , 2.2637603 ,\n",
       "             3.4483762 , 3.5452993 , 3.505454  , 6.228811  , 4.3201027 ,\n",
       "             0.34771556, 4.4520235 , 4.7252684 ], dtype=float32)"
      ]
     },
     "execution_count": 48,
     "metadata": {},
     "output_type": "execute_result"
    }
   ],
   "source": [
    "%%time\n",
    "overlap = jit(lambda angs: disc2(anz_toff3.unitary(angs), u_toff3))\n",
    "find_below_treshold(overlap,\n",
    "                    anz_toff3.num_angles, \n",
    "                    num_attempts=50000, \n",
    "                    threshhold=0.8)"
   ]
  },
  {
   "cell_type": "markdown",
   "id": "3bea80dc-1305-4137-bc11-44cfe1470f1d",
   "metadata": {
    "tags": [],
    "toc-hr-collapsed": true
   },
   "source": [
    "## Loss history in local minimum"
   ]
  },
  {
   "cell_type": "code",
   "execution_count": 35,
   "id": "dce5c014-5aaf-4a27-9fcd-6561d06ebfeb",
   "metadata": {
    "tags": []
   },
   "outputs": [
    {
     "name": "stdout",
     "output_type": "stream",
     "text": [
      "CPU times: user 13.1 s, sys: 64.4 ms, total: 13.2 s\n",
      "Wall time: 12.7 s\n"
     ]
    },
    {
     "data": {
      "image/png": "[encoded data removed]",
      "text/plain": [
       "<Figure size 432x288 with 1 Axes>"
      ]
     },
     "metadata": {
      "needs_background": "light"
     },
     "output_type": "display_data"
    }
   ],
   "source": [
    "%%time\n",
    "initial_angles = random.uniform(random.PRNGKey(20), (anz_toff3.num_angles,), minval=0, maxval=2*jnp.pi)\n",
    "angles_hisotory, loss_history = anz_toff3.learn(u_toff3, initial_angles=initial_angles, num_iterations=1000)\n",
    "_, loss_history_aba = anz_toff3.learn(u_toff3, initial_angles=initial_angles, num_iterations=1000, method='aba')\n",
    "plt.plot(loss_history, label='gd')\n",
    "plt.plot(loss_history_aba, label='aba')\n",
    "plt.legend()\n",
    "plt.yscale('log')"
   ]
  },
  {
   "cell_type": "code",
   "execution_count": null,
   "id": "8aa7d4a6-dc91-4f05-921c-3e27d67dd1c3",
   "metadata": {},
   "outputs": [],
   "source": [
    "anz."
   ]
  },
  {
   "cell_type": "code",
   "execution_count": 36,
   "id": "01476f44-994a-4fb6-80db-377cf553f071",
   "metadata": {},
   "outputs": [
    {
     "data": {
      "text/plain": [
       "DeviceArray(0.146447, dtype=float32)"
      ]
     },
     "execution_count": 36,
     "metadata": {},
     "output_type": "execute_result"
    }
   ],
   "source": [
    "loss_history_aba[-1]"
   ]
  },
  {
   "cell_type": "code",
   "execution_count": 34,
   "id": "8cc78dac-930f-40e9-98c7-7447d993713a",
   "metadata": {},
   "outputs": [
    {
     "data": {
      "text/plain": [
       "DeviceArray(0.14644653, dtype=float32)"
      ]
     },
     "execution_count": 34,
     "metadata": {},
     "output_type": "execute_result"
    }
   ],
   "source": [
    "loss_history[-1]"
   ]
  },
  {
   "cell_type": "code",
   "execution_count": 11,
   "id": "601b47bb-1d23-4c8f-99d4-e105966d7dfa",
   "metadata": {
    "tags": []
   },
   "outputs": [
    {
     "name": "stdout",
     "output_type": "stream",
     "text": [
      "CPU times: user 5.53 s, sys: 35.4 ms, total: 5.56 s\n",
      "Wall time: 5.43 s\n"
     ]
    },
    {
     "data": {
      "image/png": "[encoded data removed]",
      "text/plain": [
       "<Figure size 432x288 with 1 Axes>"
      ]
     },
     "metadata": {
      "needs_background": "light"
     },
     "output_type": "display_data"
    }
   ],
   "source": [
    "%%time\n",
    "initial_angles = random.uniform(random.PRNGKey(8), (anz_toff3.num_angles,), minval=0, maxval=2*jnp.pi)\n",
    "angles_history, loss_history = anz_toff3.learn(u_toff3, initial_params=initial_angles, num_iterations=1000)\n",
    "#  _, loss_history_aba = anz_toff3.learn(u_toff3, initial_angles=initial_angles, num_iterations=1000, method='aba')\n",
    "plt.plot(loss_history, label='gd')\n",
    "# plt.plot(loss_history_aba, label='aba')\n",
    "plt.legend()\n",
    "plt.yscale('log')"
   ]
  },
  {
   "cell_type": "code",
   "execution_count": 12,
   "id": "7a76a7e9-1a55-42b8-9e3a-16c710633ad0",
   "metadata": {},
   "outputs": [
    {
     "data": {
      "text/plain": [
       "DeviceArray([ 3.6358833e-06,  1.6221293e-08,  3.5911798e-06,\n",
       "             -1.0112375e-03, -2.0089806e-07, -1.0112301e-03,\n",
       "              7.0780516e-08, -7.1269460e-07, -2.9802322e-08,\n",
       "             -7.4505806e-07, -8.0429018e-04, -7.4505806e-08,\n",
       "              6.7637302e-08, -3.4272671e-07,  3.6358833e-06,\n",
       "              1.4901161e-08, -7.1144314e-08,  0.0000000e+00,\n",
       "              1.6689301e-06, -1.1754694e-04,  5.8362275e-08,\n",
       "             -1.3411045e-07, -5.9604645e-08,  1.7460115e-07,\n",
       "             -7.1525574e-07, -2.2351742e-07, -1.5273690e-07,\n",
       "             -6.7055225e-07,  7.8129233e-08,  3.3080578e-06,\n",
       "             -1.4901161e-08, -5.7000790e-08, -4.0114310e-07],            dtype=float32)"
      ]
     },
     "execution_count": 12,
     "metadata": {},
     "output_type": "execute_result"
    }
   ],
   "source": [
    "def toff3_cost(angles):\n",
    "    return disc2(anz_toff3.unitary(angles), u_toff3)\n",
    "\n",
    "jax.grad(toff3_cost)(angles_history[-1])"
   ]
  },
  {
   "cell_type": "code",
   "execution_count": 14,
   "id": "8091ccf0-abc1-45e9-ad98-542a6afff513",
   "metadata": {},
   "outputs": [],
   "source": [
    "toffeigs = jnp.linalg.eigvals(jax.hessian(toff3_cost)(angles_history[-1]))"
   ]
  },
  {
   "cell_type": "code",
   "execution_count": 15,
   "id": "324aa4ff-bd6f-4b86-b5dc-7cb98f626187",
   "metadata": {},
   "outputs": [
    {
     "data": {
      "text/plain": [
       "DeviceArray([ 8.5051483e-01+0.j,  6.7552692e-01+0.j,  6.0802937e-01+0.j,\n",
       "              4.9082175e-01+0.j,  5.3367782e-01+0.j,  4.2789227e-01+0.j,\n",
       "              4.3555638e-01+0.j,  4.0900460e-01+0.j,  2.5589207e-01+0.j,\n",
       "              2.5172666e-01+0.j,  2.3867965e-01+0.j,  2.2540231e-01+0.j,\n",
       "              1.9473420e-01+0.j,  1.9404107e-01+0.j,  1.4852816e-01+0.j,\n",
       "              1.2634420e-01+0.j,  1.2135269e-01+0.j,  7.7274919e-02+0.j,\n",
       "              8.1190050e-02+0.j,  3.7423670e-02+0.j,  2.1338667e-01+0.j,\n",
       "              2.1338712e-01+0.j,  2.1339077e-01+0.j,  1.2996628e-02+0.j,\n",
       "              3.7703526e-03+0.j,  1.0596151e-03+0.j,  1.6999403e-04+0.j,\n",
       "             -1.8031585e-06+0.j, -9.5436963e-07+0.j, -2.0153816e-07+0.j,\n",
       "             -6.1641270e-09+0.j, -3.2521601e-08+0.j, -4.3252093e-08+0.j],            dtype=complex64)"
      ]
     },
     "execution_count": 15,
     "metadata": {},
     "output_type": "execute_result"
    }
   ],
   "source": [
    "toffeigs"
   ]
  },
  {
   "cell_type": "markdown",
   "id": "550ba507-0a6e-4e05-83ab-1c911febd28e",
   "metadata": {
    "tags": []
   },
   "source": [
    "## Learning in the complex plane"
   ]
  },
  {
   "cell_type": "markdown",
   "id": "a01e2b3d-348d-4a93-9d96-42a5207bc0b9",
   "metadata": {},
   "source": [
    "Preliminary results are nor enterily clear but still interesting.\n",
    "1. The complex GD looks like it would benefit greatly from improved convergence --> implement natural gradient!\n",
    "1. To compare the two approaches it is necessary to collect statistics and not just look at single runs."
   ]
  },
  {
   "cell_type": "code",
   "execution_count": 100,
   "id": "574e7d5a-47bc-4d96-8140-a9e9e952d55b",
   "metadata": {},
   "outputs": [],
   "source": [
    "def complex_toffoli_cost(c_angles, reg):\n",
    "    n_angles = len(c_angles)//2\n",
    "    re_angles = c_angles[:n_angles]\n",
    "    im_angles = c_angles[n_angles:]\n",
    "    angles = re_angles + 1j*im_angles\n",
    "    disc_cost = jnp.abs(disc2(anz_toff3.unitary(angles), u_toff3))\n",
    "    reg_cost = reg*(jnp.imag(angles)**2).sum()\n",
    "    return disc_cost + reg_cost"
   ]
  },
  {
   "cell_type": "code",
   "execution_count": 125,
   "id": "25290261-5d99-4434-8a7d-9bc3bc634397",
   "metadata": {},
   "outputs": [],
   "source": [
    "c_angles_re = random.uniform(random.PRNGKey(0), shape=(anz_toff3.num_angles,), minval=0, maxval=2*jnp.pi)\n",
    "c_angles_im = random.normal(random.PRNGKey(0), shape=(anz_toff3.num_angles,))\n",
    "\n",
    "c_angles = jnp.concatenate([c_angles_re, 0*c_angles_im])\n",
    "\n",
    "\n",
    "angles_history, loss_history = gradient_descent_learn(lambda angs: disc2(anz_toff3.unitary(angs), u_toff3), \n",
    "                                                      anz_toff3.num_angles, \n",
    "                                                      initial_angles=c_angles_re,\n",
    "                                                      target_disc=1e-4,\n",
    "                                                      learning_rate=0.001,\n",
    "                                                      num_iterations=200000)"
   ]
  },
  {
   "cell_type": "code",
   "execution_count": 123,
   "id": "774d362e-2492-467f-977d-bad1a6f31605",
   "metadata": {},
   "outputs": [
    {
     "name": "stdout",
     "output_type": "stream",
     "text": [
      "CPU times: user 1min 58s, sys: 7.54 s, total: 2min 6s\n",
      "Wall time: 1min 41s\n"
     ]
    }
   ],
   "source": [
    "%%time\n",
    "angles_history_c, loss_history_c = gradient_descent_learn(lambda angs: complex_toffoli_cost(angs, 0.01), \n",
    "                                                      2*anz_toff3.num_angles, \n",
    "                                                      initial_angles=c_angles,\n",
    "                                                      target_disc=1e-4,\n",
    "                                                      learning_rate=0.001,\n",
    "                                                      num_iterations=200000)"
   ]
  },
  {
   "cell_type": "code",
   "execution_count": 128,
   "id": "1e25cf95-b869-4708-989a-3512834fc13c",
   "metadata": {},
   "outputs": [
    {
     "data": {
      "image/png": "[encoded data removed]",
      "text/plain": [
       "<Figure size 432x288 with 1 Axes>"
      ]
     },
     "metadata": {
      "needs_background": "light"
     },
     "output_type": "display_data"
    }
   ],
   "source": [
    "plt.plot(loss_history, label='real')\n",
    "plt.plot(loss_history_c, label='complex')\n",
    "plt.legend()\n",
    "plt.yscale('log')"
   ]
  },
  {
   "cell_type": "code",
   "execution_count": 129,
   "id": "ad0ed278-6f55-4dee-8940-d284fda388a2",
   "metadata": {},
   "outputs": [
    {
     "data": {
      "text/plain": [
       "DeviceArray(0.14644653, dtype=float32)"
      ]
     },
     "execution_count": 129,
     "metadata": {},
     "output_type": "execute_result"
    }
   ],
   "source": [
    "disc2(anz_toff3.unitary(angles_history[-1]), u_toff3)"
   ]
  },
  {
   "cell_type": "code",
   "execution_count": 130,
   "id": "a16bee2c-4b59-4b3c-8084-eff2c0da6a29",
   "metadata": {},
   "outputs": [
    {
     "data": {
      "text/plain": [
       "DeviceArray(0.16411108, dtype=float32)"
      ]
     },
     "execution_count": 130,
     "metadata": {},
     "output_type": "execute_result"
    }
   ],
   "source": [
    "disc2(anz_toff3.unitary(angles_history_c[-1][:33]), u_toff3)"
   ]
  },
  {
   "cell_type": "markdown",
   "id": "fd2947a0-2b5b-479b-9d70-0282475e7e21",
   "metadata": {
    "tags": []
   },
   "source": [
    "# 4-qubit"
   ]
  },
  {
   "cell_type": "markdown",
   "id": "79778c8c-9284-48b2-859d-46d0e2590dfa",
   "metadata": {
    "tags": [],
    "toc-hr-collapsed": true
   },
   "source": [
    "## Full sweep"
   ]
  },
  {
   "cell_type": "code",
   "execution_count": 78,
   "id": "d744c1eb-5d32-41c9-a6f7-18b89c804737",
   "metadata": {},
   "outputs": [],
   "source": [
    "min_depth=0\n",
    "max_depth = theoretical_lower_bound(4)+2"
   ]
  },
  {
   "cell_type": "code",
   "execution_count": 79,
   "id": "fa60fdd5-8063-48dc-a046-c097549e8eb3",
   "metadata": {},
   "outputs": [
    {
     "name": "stdout",
     "output_type": "stream",
     "text": [
      "CPU times: user 1h 57min 6s, sys: 3min 33s, total: 2h 40s\n",
      "Wall time: 1h 28min 45s\n"
     ]
    }
   ],
   "source": [
    "%%time\n",
    "key, subkey = random.split(key)\n",
    "success_rates = chart_learning_success_rate(4, subkey, \n",
    "                                            num_samples=20, \n",
    "                                            min_depth=min_depth,\n",
    "                                            max_depth=max_depth,\n",
    "                                            num_iterations=5000,\n",
    "                                            target_disc=1e-3)\n",
    "\n",
    "with open('success_rates_4.pickle', 'wb') as f:\n",
    "     pickle.dump(success_rates, f)"
   ]
  },
  {
   "cell_type": "code",
   "execution_count": 80,
   "id": "f515f46d-73c0-45db-b354-84320fb83204",
   "metadata": {},
   "outputs": [
    {
     "data": {
      "text/plain": [
       "<matplotlib.collections.PathCollection at 0x7f22c4023640>"
      ]
     },
     "execution_count": 80,
     "metadata": {},
     "output_type": "execute_result"
    },
    {
     "data": {
      "image/png": "[encoded data removed]",
      "text/plain": [
       "<Figure size 432x288 with 1 Axes>"
      ]
     },
     "metadata": {
      "needs_background": "light"
     },
     "output_type": "display_data"
    }
   ],
   "source": [
    "with open('success_rates_4.pickle', 'rb') as f:\n",
    "     success_rates = pickle.load(f)\n",
    "        \n",
    "plt.scatter(range(min_depth, max_depth+1), success_rates)"
   ]
  },
  {
   "cell_type": "code",
   "execution_count": 41,
   "id": "f14987fe-8ffe-46fa-b9c8-832ef70969cd",
   "metadata": {},
   "outputs": [
    {
     "name": "stdout",
     "output_type": "stream",
     "text": [
      "CPU times: user 1h 52min 44s, sys: 3min 32s, total: 1h 56min 17s\n",
      "Wall time: 1h 26min 25s\n"
     ]
    }
   ],
   "source": [
    "%%time\n",
    "max_depth = theoretical_lower_boundical_lower_bound(4)+2\n",
    "\n",
    "key, subkey = random.split(key)\n",
    "success_rates = chart_learning_success_rate(4, subkey, n_samples=20, \n",
    "                                            max_depth=max_depth,\n",
    "                                            target_disc=1e-3)\n",
    "with open('success_rates_4.pickle', 'wb') as f:\n",
    "     pickle.dump(success_rates, f)"
   ]
  },
  {
   "cell_type": "code",
   "execution_count": 43,
   "id": "48dea318-a67b-4fb4-a3f3-71fa4357d2db",
   "metadata": {},
   "outputs": [
    {
     "data": {
      "text/plain": [
       "<matplotlib.collections.PathCollection at 0x7ff6606b6a90>"
      ]
     },
     "execution_count": 43,
     "metadata": {},
     "output_type": "execute_result"
    },
    {
     "data": {
      "image/png": "[encoded data removed]",
      "text/plain": [
       "<Figure size 432x288 with 1 Axes>"
      ]
     },
     "metadata": {
      "needs_background": "light"
     },
     "output_type": "display_data"
    }
   ],
   "source": [
    "max_depth = theoretical_lower_bound(4)+2\n",
    "with open('success_rates_4.pickle', 'rb') as f:\n",
    "     success_rates = pickle.load(f)\n",
    "        \n",
    "plt.scatter(range(max_depth+1), success_rates)"
   ]
  },
  {
   "cell_type": "markdown",
   "id": "881805aa-9b5e-49d0-85aa-14a862a08348",
   "metadata": {
    "tags": [],
    "toc-hr-collapsed": true
   },
   "source": [
    "## Middle point"
   ]
  },
  {
   "cell_type": "code",
   "execution_count": 77,
   "id": "252f17f0-f062-41ee-afe7-ed9886dd1182",
   "metadata": {},
   "outputs": [
    {
     "name": "stdout",
     "output_type": "stream",
     "text": [
      "30-gate unitary sucess rate\n"
     ]
    },
    {
     "data": {
      "text/plain": [
       "[DeviceArray(0., dtype=float32), DeviceArray(0., dtype=float32)]"
      ]
     },
     "execution_count": 77,
     "metadata": {},
     "output_type": "execute_result"
    }
   ],
   "source": [
    "num_samples=200\n",
    "key, subkey = random.split(key)\n",
    "\n",
    "print('30-gate unitary sucess rate')\n",
    "chart_learning_success_rate(4, \n",
    "                            subkey, \n",
    "                            num_samples=num_samples, \n",
    "                            min_depth=30,\n",
    "                            max_depth=31,\n",
    "                            target_disc=1e-3)"
   ]
  },
  {
   "cell_type": "markdown",
   "id": "901aa47a-d525-4822-8d44-5a71e2f0c3ea",
   "metadata": {
    "tags": []
   },
   "source": [
    "## Toffoli 4"
   ]
  },
  {
   "cell_type": "code",
   "execution_count": 3,
   "id": "c4f06faa-1213-4cb5-992a-566986b17f83",
   "metadata": {},
   "outputs": [
    {
     "data": {
      "image/png": "[encoded data removed]",
      "text/plain": [
       "<Figure size 1591.6x565.88 with 1 Axes>"
      ]
     },
     "execution_count": 3,
     "metadata": {},
     "output_type": "execute_result"
    }
   ],
   "source": [
    "qc = QuantumCircuit(4)\n",
    "qc.mct([0, 1, 2], 3)\n",
    "u_toff4 = Operator(qc.reverse_bits()).data\n",
    "\n",
    "qc.draw(output='mpl')\n",
    "transpile(qc, basis_gates=['u3', 'cx'], optimization_level=3).draw(output='mpl')"
   ]
  },
  {
   "cell_type": "code",
   "execution_count": 10,
   "id": "e1f400ed-300f-43dc-80e2-207c07692f9d",
   "metadata": {},
   "outputs": [],
   "source": [
    "qc = QuantumCircuit(4)\n",
    "qc.mct([0, 1, 2], 3)\n",
    "u_toff4 = Operator(qc.reverse_bits()).data\n",
    "\n",
    "qc.draw(output='mpl')\n",
    "qc_\n",
    "u_toff4_trans = Operator(transpile(qc, basis_gates=['u3', 'cx'], coupling_map=[[0,1],[1,0],[1,2],[2,1],[2,3],[3,2]], optimization_level=3)).data"
   ]
  },
  {
   "cell_type": "code",
   "execution_count": 12,
   "id": "f0594df2-6411-4b5b-a9c4-40005dc12a16",
   "metadata": {},
   "outputs": [
    {
     "data": {
      "text/plain": [
       "DeviceArray(False, dtype=bool)"
      ]
     },
     "execution_count": 12,
     "metadata": {},
     "output_type": "execute_result"
    }
   ],
   "source": [
    "\n",
    "\n",
    "jnp.allclose(Operator(u_toff4_trans).data,Operator(u_toff4).data)"
   ]
  },
  {
   "cell_type": "code",
   "execution_count": 45,
   "id": "016f16b2-5c7f-4948-9867-c3fd56034d18",
   "metadata": {},
   "outputs": [],
   "source": [
    "placements_toff4 = [[0, 1], [0, 1], [1, 2], [0, 2], [1, 2], [0, 2], [2, 3], [1, 3], [2, 3], [0, 3], [2, 3], [1, 3], [2, 3], [0, 3]]\n",
    "anz_toff4 = Ansatz(4, 'cz', placements={'free': placements_toff4})"
   ]
  },
  {
   "cell_type": "code",
   "execution_count": 49,
   "id": "ec79160a-bc51-4020-9b21-d586170d47be",
   "metadata": {},
   "outputs": [
    {
     "name": "stdout",
     "output_type": "stream",
     "text": [
      "Toffoli4 sucess rate\n",
      "CPU times: user 8min 43s, sys: 22.8 s, total: 9min 6s\n",
      "Wall time: 6min 59s\n"
     ]
    },
    {
     "data": {
      "text/plain": [
       "DeviceArray(0.01, dtype=float32)"
      ]
     },
     "execution_count": 49,
     "metadata": {},
     "output_type": "execute_result"
    }
   ],
   "source": [
    "%%time\n",
    "\n",
    "num_samples=100\n",
    "key, subkey = random.split(key)\n",
    "_, success_history_toff4 = learning_success_rate(\n",
    "                                      anz_toff4.unitary, \n",
    "                                      u_toff4, \n",
    "                                      anz_toff4.num_angles, \n",
    "                                      num_samples, \n",
    "                                      subkey,\n",
    "                                      target_disc=1e-4)\n",
    "\n",
    "print('Toffoli4 sucess rate')\n",
    "jnp.array(success_history_toff4).sum()/num_samples"
   ]
  },
  {
   "cell_type": "code",
   "execution_count": null,
   "id": "88504c80-901d-440f-af87-d2d081710f24",
   "metadata": {},
   "outputs": [],
   "source": []
  }
 ],
 "metadata": {
  "kernelspec": {
   "display_name": "Python 3",
   "language": "python",
   "name": "python3"
  },
  "language_info": {
   "codemirror_mode": {
    "name": "ipython",
    "version": 3
   },
   "file_extension": ".py",
   "mimetype": "text/x-python",
   "name": "python",
   "nbconvert_exporter": "python",
   "pygments_lexer": "ipython3",
   "version": "3.8.10"
  },
  "widgets": {
   "application/vnd.jupyter.widget-state+json": {
    "state": {},
    "version_major": 2,
    "version_minor": 0
   }
  }
 },
 "nbformat": 4,
 "nbformat_minor": 5
}
