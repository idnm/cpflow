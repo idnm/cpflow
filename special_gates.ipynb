{
 "cells": [
  {
   "cell_type": "code",
   "execution_count": 1,
   "id": "f54916f1-4147-408c-b6c8-b5aeb6fbf3cd",
   "metadata": {},
   "outputs": [
    {
     "name": "stderr",
     "output_type": "stream",
     "text": [
      "WARNING:absl:No GPU/TPU found, falling back to CPU. (Set TF_CPP_MIN_LOG_LEVEL=0 and rerun for more info.)\n"
     ]
    }
   ],
   "source": [
    "from jax_circuits import *\n",
    "from scipy.stats import unitary_group\n",
    "import matplotlib.pyplot as plt\n",
    "\n",
    "import time\n",
    "import pickle\n",
    "\n",
    "from qiskit import transpile\n",
    "from qiskit.quantum_info import Operator\n",
    "\n",
    "from topology import *\n",
    "\n",
    "from jax import custom_jvp, jvp, grad\n",
    "from jax.scipy.optimize import minimize"
   ]
  },
  {
   "cell_type": "markdown",
   "id": "0e392818-bd32-4527-9bf8-c55df7429fad",
   "metadata": {},
   "source": [
    "# How many local minimums are there?"
   ]
  },
  {
   "cell_type": "markdown",
   "id": "a2f8c5f4-bf20-494b-96a9-521c4a119a15",
   "metadata": {
    "tags": [],
    "toc-hr-collapsed": true
   },
   "source": [
    "## Helper functions"
   ]
  },
  {
   "cell_type": "code",
   "execution_count": 28,
   "id": "235ab0f5-4e94-4bf5-b494-52a017067050",
   "metadata": {},
   "outputs": [],
   "source": [
    "def learning_success_rate(u_func, u_target, n_angles, n_samples, key, **kwargs):\n",
    "    initial_angles = random.uniform(key, shape=(n_samples, n_angles), minval=0, maxval=2*jnp.pi)\n",
    "    angles_and_loss_histories = gradient_descent_learn(u_func, u_target, n_angles,\n",
    "                                                      initial_angles=initial_angles, **kwargs)\n",
    "    \n",
    "    best_losses = [min(hist) for (_, hist) in angles_and_loss_histories]\n",
    "    return angles_and_loss_histories, len([loss for loss in best_losses if loss<kwargs['target_disc']])/len(best_losses)\n",
    "\n",
    "def chart_learning_success_rate(n_qubits, key, n_samples=20, min_depth=0, max_depth=0, **kwargs):\n",
    "\n",
    "    success_rates = []\n",
    "    for n in range(min_depth, max_depth+1):\n",
    "        a = Ansatz(n_qubits, 'cz', fill_layers(sequ_layer(n_qubits), n))\n",
    "        key, subkey = random.split(key)\n",
    "        target_angles = random.uniform(subkey, shape=(a.n_angles, ), minval=0, maxval=2*jnp.pi)\n",
    "        u_target = a.unitary(target_angles)\n",
    "        \n",
    "        key, subkey = random.split(key)\n",
    "        _, rate = learning_success_rate(a.unitary, u_target, a.n_angles, n_samples, subkey, **kwargs)\n",
    "        success_rates.append(rate)\n",
    "        \n",
    "    return success_rates"
   ]
  },
  {
   "cell_type": "markdown",
   "id": "a4922bc1-8790-41f9-bd00-133390ba40a2",
   "metadata": {
    "tags": []
   },
   "source": [
    "### 2-qubit"
   ]
  },
  {
   "cell_type": "code",
   "execution_count": 5,
   "id": "3710b3c4-9533-45a8-ac7c-518b443f2c75",
   "metadata": {},
   "outputs": [
    {
     "name": "stdout",
     "output_type": "stream",
     "text": [
      "CPU times: user 47.4 s, sys: 2.09 s, total: 49.5 s\n",
      "Wall time: 44.1 s\n"
     ]
    }
   ],
   "source": [
    "%%time\n",
    "max_depth = TLB(2)+3\n",
    "key, subkey = random.split(key)\n",
    "success_rates = chart_learning_success_rate(2, subkey, n_samples=20, \n",
    "                                            max_depth=max_depth,\n",
    "                                            target_disc=1e-3)\n",
    "with open('success_rates_2.pickle', 'wb') as f:\n",
    "     pickle.dump(success_rates, f)"
   ]
  },
  {
   "cell_type": "code",
   "execution_count": 14,
   "id": "37ff4b29-ab4f-4ca4-bad8-ec27f1b7a7ed",
   "metadata": {},
   "outputs": [
    {
     "data": {
      "text/plain": [
       "<matplotlib.collections.PathCollection at 0x7ff68df1a6a0>"
      ]
     },
     "execution_count": 14,
     "metadata": {},
     "output_type": "execute_result"
    },
    {
     "data": {
      "image/png": "[encoded data removed]",
      "text/plain": [
       "<Figure size 432x288 with 1 Axes>"
      ]
     },
     "metadata": {
      "needs_background": "light"
     },
     "output_type": "display_data"
    }
   ],
   "source": [
    "max_depth = TLB(2)+3\n",
    "with open('success_rates_2.pickle', 'rb') as f:\n",
    "     success_rates = pickle.load(f)\n",
    "        \n",
    "plt.scatter(range(max_depth+1), success_rates)"
   ]
  },
  {
   "cell_type": "markdown",
   "id": "888ea0c5-8467-436a-9982-0399c85183e1",
   "metadata": {
    "tags": []
   },
   "source": [
    "### 3-qubit"
   ]
  },
  {
   "cell_type": "code",
   "execution_count": 15,
   "id": "850a6eec-294c-42ba-8f9d-70debca2cf0f",
   "metadata": {},
   "outputs": [
    {
     "name": "stdout",
     "output_type": "stream",
     "text": [
      "CPU times: user 13min 54s, sys: 45.5 s, total: 14min 39s\n",
      "Wall time: 12min 4s\n"
     ]
    }
   ],
   "source": [
    "%%time\n",
    "max_depth = TLB(3)+2\n",
    "key, subkey = random.split(key)\n",
    "success_rates = chart_learning_success_rate(3, subkey, n_samples=20, \n",
    "                                            max_depth=max_depth,\n",
    "                                            target_disc=1e-3)\n",
    "with open('success_rates_3.pickle', 'wb') as f:\n",
    "     pickle.dump(success_rates, f)"
   ]
  },
  {
   "cell_type": "code",
   "execution_count": 16,
   "id": "6c6c7fa8-13c0-4175-86c4-bce95974dc8d",
   "metadata": {},
   "outputs": [
    {
     "data": {
      "text/plain": [
       "<matplotlib.collections.PathCollection at 0x7ff6825382b0>"
      ]
     },
     "execution_count": 16,
     "metadata": {},
     "output_type": "execute_result"
    },
    {
     "data": {
      "image/png": "[encoded data removed]",
      "text/plain": [
       "<Figure size 432x288 with 1 Axes>"
      ]
     },
     "metadata": {
      "needs_background": "light"
     },
     "output_type": "display_data"
    }
   ],
   "source": [
    "max_depth = TLB(3)+2\n",
    "with open('success_rates_3.pickle', 'rb') as f:\n",
    "     success_rates = pickle.load(f)\n",
    "        \n",
    "plt.scatter(range(max_depth+1), success_rates)"
   ]
  },
  {
   "cell_type": "markdown",
   "id": "1a9a4bde-fb6f-446b-b657-85c414b5dbf7",
   "metadata": {},
   "source": [
    "As the plot above shows, GD appears to get stuck in local minimums a lot in the depth range 7-12. Let us zoom in on this region."
   ]
  },
  {
   "cell_type": "code",
   "execution_count": 29,
   "id": "8e5ae859-2606-49d7-ae35-788f409daccb",
   "metadata": {},
   "outputs": [
    {
     "name": "stdout",
     "output_type": "stream",
     "text": [
      "CPU times: user 36min 42s, sys: 2min 14s, total: 38min 57s\n",
      "Wall time: 30min 42s\n"
     ]
    }
   ],
   "source": [
    "%%time\n",
    "min_depth = 7\n",
    "max_depth = 12\n",
    "key, subkey = random.split(key)\n",
    "success_rates = chart_learning_success_rate(3, subkey, n_samples=100, \n",
    "                                            min_depth=min_depth,\n",
    "                                            max_depth=max_depth,\n",
    "                                            target_disc=1e-3)\n",
    "with open('success_rates_3_zoom.pickle', 'wb') as f:\n",
    "     pickle.dump(success_rates, f)"
   ]
  },
  {
   "cell_type": "code",
   "execution_count": 33,
   "id": "4e3ab4c0-4453-4691-a21f-f4cbd72e6f29",
   "metadata": {},
   "outputs": [
    {
     "name": "stdout",
     "output_type": "stream",
     "text": [
      "[0.1, 0.01, 0.0, 0.0, 0.0, 0.01]\n"
     ]
    },
    {
     "data": {
      "text/plain": [
       "<matplotlib.collections.PathCollection at 0x7ff6881abf70>"
      ]
     },
     "execution_count": 33,
     "metadata": {},
     "output_type": "execute_result"
    },
    {
     "data": {
      "image/png": "[encoded data removed]",
      "text/plain": [
       "<Figure size 432x288 with 1 Axes>"
      ]
     },
     "metadata": {
      "needs_background": "light"
     },
     "output_type": "display_data"
    }
   ],
   "source": [
    "min_depth = 7\n",
    "max_depth = 12\n",
    "with open('success_rates_3_zoom.pickle', 'rb') as f:\n",
    "     success_rates = pickle.load(f)\n",
    "\n",
    "print(success_rates)\n",
    "plt.scatter(range(min_depth, max_depth+1), success_rates)"
   ]
  },
  {
   "cell_type": "markdown",
   "id": "f21bed7b-e3ed-4d16-a2a0-add88b0f9e35",
   "metadata": {},
   "source": [
    "OK, seems that another zoom-in is in order. Let's just do depth=10 which seems to be the most difficult."
   ]
  },
  {
   "cell_type": "code",
   "execution_count": 39,
   "id": "cb805bd4-49dd-44a9-ad6f-a85956c1b966",
   "metadata": {},
   "outputs": [
    {
     "name": "stdout",
     "output_type": "stream",
     "text": [
      "CPU times: user 26min 53s, sys: 1min 50s, total: 28min 44s\n",
      "Wall time: 23min 36s\n"
     ]
    },
    {
     "data": {
      "text/plain": [
       "[0.0]"
      ]
     },
     "execution_count": 39,
     "metadata": {},
     "output_type": "execute_result"
    }
   ],
   "source": [
    "%%time\n",
    "key, subkey = random.split(key)\n",
    "chart_learning_success_rate(3, subkey, n_samples=1000, \n",
    "                                            min_depth=10,\n",
    "                                            max_depth=10,\n",
    "                                            n_iterations=2000,\n",
    "                                            target_disc=1e-3)"
   ]
  },
  {
   "cell_type": "code",
   "execution_count": 40,
   "id": "cfce1010-d10f-44c1-a47b-8ba6adadc0ae",
   "metadata": {},
   "outputs": [
    {
     "name": "stdout",
     "output_type": "stream",
     "text": [
      "CPU times: user 30min 33s, sys: 2min 10s, total: 32min 44s\n",
      "Wall time: 28min 55s\n"
     ]
    },
    {
     "data": {
      "text/plain": [
       "[0.002]"
      ]
     },
     "execution_count": 40,
     "metadata": {},
     "output_type": "execute_result"
    }
   ],
   "source": [
    "%%time\n",
    "key, subkey = random.split(key)\n",
    "chart_learning_success_rate(3, subkey, n_samples=1000, \n",
    "                                            min_depth=9,\n",
    "                                            max_depth=9,\n",
    "                                            n_iterations=2000,\n",
    "                                            target_disc=1e-3)"
   ]
  },
  {
   "cell_type": "markdown",
   "id": "b7bf1cda-909a-4d0a-881f-8395bde743ed",
   "metadata": {},
   "source": [
    "Let us also check directly the success rate for the toffoli gate."
   ]
  },
  {
   "cell_type": "code",
   "execution_count": 26,
   "id": "94aeb31e-6df6-4f3e-91cf-4c522fc765ae",
   "metadata": {},
   "outputs": [
    {
     "name": "stdout",
     "output_type": "stream",
     "text": [
      "CPU times: user 2min 47s, sys: 10.3 s, total: 2min 57s\n",
      "Wall time: 2min 23s\n"
     ]
    },
    {
     "data": {
      "text/plain": [
       "0.12"
      ]
     },
     "execution_count": 26,
     "metadata": {},
     "output_type": "execute_result"
    }
   ],
   "source": [
    "%%time\n",
    "qc = QuantumCircuit(3)\n",
    "qc.ccx(0, 1, 2)\n",
    "u_toff3 = Operator(qc.reverse_bits()).data\n",
    "\n",
    "placements_toff3 = [[1, 2], [0, 2], [1, 2], [0, 2], [0, 1], [0, 1]]\n",
    "a_toff3 = Ansatz(3, 'cz', placements={'free': placements_toff3})\n",
    "\n",
    "key, subkey = random.split(key)\n",
    "_, rate_toff3 = learning_success_rate(a_toff3.unitary, u_toff3, a_toff3.n_angles, 50, subkey,\n",
    "                                     target_disc=1e-4)\n",
    "rate_toff3"
   ]
  },
  {
   "cell_type": "markdown",
   "id": "fd2947a0-2b5b-479b-9d70-0282475e7e21",
   "metadata": {},
   "source": [
    "## 4-qubit"
   ]
  },
  {
   "cell_type": "code",
   "execution_count": 41,
   "id": "f14987fe-8ffe-46fa-b9c8-832ef70969cd",
   "metadata": {},
   "outputs": [
    {
     "name": "stdout",
     "output_type": "stream",
     "text": [
      "CPU times: user 1h 52min 44s, sys: 3min 32s, total: 1h 56min 17s\n",
      "Wall time: 1h 26min 25s\n"
     ]
    }
   ],
   "source": [
    "%%time\n",
    "max_depth = TLB(4)+2\n",
    "key, subkey = random.split(key)\n",
    "success_rates = chart_learning_success_rate(4, subkey, n_samples=20, \n",
    "                                            max_depth=max_depth,\n",
    "                                            target_disc=1e-3)\n",
    "with open('success_rates_4.pickle', 'wb') as f:\n",
    "     pickle.dump(success_rates, f)"
   ]
  },
  {
   "cell_type": "code",
   "execution_count": 43,
   "id": "48dea318-a67b-4fb4-a3f3-71fa4357d2db",
   "metadata": {},
   "outputs": [
    {
     "data": {
      "text/plain": [
       "<matplotlib.collections.PathCollection at 0x7ff6606b6a90>"
      ]
     },
     "execution_count": 43,
     "metadata": {},
     "output_type": "execute_result"
    },
    {
     "data": {
      "image/png": "[encoded data removed]",
      "text/plain": [
       "<Figure size 432x288 with 1 Axes>"
      ]
     },
     "metadata": {
      "needs_background": "light"
     },
     "output_type": "display_data"
    }
   ],
   "source": [
    "max_depth = TLB(4)+2\n",
    "with open('success_rates_4.pickle', 'rb') as f:\n",
    "     success_rates = pickle.load(f)\n",
    "        \n",
    "plt.scatter(range(max_depth+1), success_rates)"
   ]
  }
 ],
 "metadata": {
  "kernelspec": {
   "display_name": "Python 3",
   "language": "python",
   "name": "python3"
  },
  "language_info": {
   "codemirror_mode": {
    "name": "ipython",
    "version": 3
   },
   "file_extension": ".py",
   "mimetype": "text/x-python",
   "name": "python",
   "nbconvert_exporter": "python",
   "pygments_lexer": "ipython3",
   "version": "3.8.10"
  },
  "widgets": {
   "application/vnd.jupyter.widget-state+json": {
    "state": {},
    "version_major": 2,
    "version_minor": 0
   }
  }
 },
 "nbformat": 4,
 "nbformat_minor": 5
}