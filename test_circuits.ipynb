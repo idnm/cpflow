{
 "cells": [
  {
   "cell_type": "code",
   "execution_count": 1,
   "id": "fc8e0651-3750-42e8-bf83-1b7d1f4c576c",
   "metadata": {},
   "outputs": [
    {
     "name": "stderr",
     "output_type": "stream",
     "text": [
      "WARNING:absl:No GPU/TPU found, falling back to CPU. (Set TF_CPP_MIN_LOG_LEVEL=0 and rerun for more info.)\n"
     ]
    }
   ],
   "source": [
    "from jax_circuits import*\n",
    "from topology import *\n",
    "from penalty import *\n",
    "import matplotlib.pyplot as plt\n",
    "\n",
    "from qiskit import transpile\n",
    "from qiskit.quantum_info import Operator"
   ]
  },
  {
   "cell_type": "code",
   "execution_count": 2,
   "id": "f0d85a0e-6879-45da-901a-addaaf11a1e7",
   "metadata": {},
   "outputs": [],
   "source": [
    "class TestCircuit():\n",
    "    def __init__(self, ansatz, angles=None, circuit=None):\n",
    "        self.ansatz = ansatz\n",
    "        self.angles = angles\n",
    "        if self.angles is not None:\n",
    "            self.circuit = self.ansatz.circuit(self.angles)\n",
    "        else:\n",
    "            self.circuit = circuit"
   ]
  },
  {
   "cell_type": "markdown",
   "id": "10313bc5-22a8-4c61-a679-c7beceec9808",
   "metadata": {
    "tags": []
   },
   "source": [
    "# Circuits with random angles"
   ]
  },
  {
   "cell_type": "markdown",
   "id": "cbf49696-1d20-484c-9a15-9b74ced9d134",
   "metadata": {
    "tags": []
   },
   "source": [
    "## 3q"
   ]
  },
  {
   "cell_type": "markdown",
   "id": "3646d1eb-92aa-4b21-9968-274a67cf3a53",
   "metadata": {},
   "source": [
    "Fully connected topology."
   ]
  },
  {
   "cell_type": "code",
   "execution_count": 3,
   "id": "12c681bf-d81b-451b-a2c5-e7b065aff7d4",
   "metadata": {},
   "outputs": [],
   "source": [
    "num_qubits = 3\n",
    "gate_counts = list(range(15))[::3]\n",
    "key = random.PRNGKey(0)\n",
    "\n",
    "circuits_3conn = []\n",
    "for n_gates in gate_counts:\n",
    "    anz = Ansatz(num_qubits, 'cz', fill_layers(sequ_layer(num_qubits), n_gates))\n",
    "    key, subkey = random.split(key)\n",
    "    angles = random_angles(anz.num_angles, key=subkey)\n",
    "    tc = TestCircuit(anz, angles)\n",
    "    circuits_3conn.append(tc)"
   ]
  },
  {
   "cell_type": "markdown",
   "id": "72c697e7-01d4-4c52-8355-409f06fde7af",
   "metadata": {},
   "source": [
    "Chain topology."
   ]
  },
  {
   "cell_type": "code",
   "execution_count": 4,
   "id": "23272a04-cc75-4755-87aa-e2db5289cb8c",
   "metadata": {},
   "outputs": [],
   "source": [
    "num_qubits = 3\n",
    "gate_counts = list(range(15))[::3]\n",
    "key = random.PRNGKey(0)\n",
    "\n",
    "circuits_3chain = []\n",
    "for n_gates in gate_counts:\n",
    "    anz = Ansatz(3, 'cz', fill_layers(chain_layer(3), n_gates))\n",
    "    key, subkey = random.split(key)\n",
    "    angles = random_angles(anz.num_angles, key=subkey)\n",
    "    tc = TestCircuit(anz, angles)\n",
    "    circuits_3conn.append(tc)"
   ]
  },
  {
   "cell_type": "markdown",
   "id": "2434f5d9-cb0c-4860-a1ca-51d538a8cca4",
   "metadata": {
    "tags": []
   },
   "source": [
    "## 4q"
   ]
  },
  {
   "cell_type": "markdown",
   "id": "c5f992d7-d3e9-493c-8282-3effe49079d7",
   "metadata": {},
   "source": [
    "Fully connected topology."
   ]
  },
  {
   "cell_type": "code",
   "execution_count": 5,
   "id": "3fe4a200-99bb-491c-a45f-3a969f4e359d",
   "metadata": {},
   "outputs": [],
   "source": [
    "num_qubits = 4\n",
    "gate_counts = list(range(64))[::10]\n",
    "key = random.PRNGKey(0)\n",
    "\n",
    "circuits_4conn = []\n",
    "for n_gates in gate_counts:\n",
    "    anz = Ansatz(num_qubits, 'cz', fill_layers(sequ_layer(num_qubits), n_gates))\n",
    "    key, subkey = random.split(key)\n",
    "    angles = random_angles(anz.num_angles, key=subkey)\n",
    "    tc = TestCircuit(anz, angles)\n",
    "    circuits_4conn.append(tc)"
   ]
  },
  {
   "cell_type": "markdown",
   "id": "14a70701-145d-491d-881c-cf098b62fa53",
   "metadata": {},
   "source": [
    "Chain topology."
   ]
  },
  {
   "cell_type": "code",
   "execution_count": 6,
   "id": "f9e9c03c-ed33-43b5-abaf-a5a29d043076",
   "metadata": {},
   "outputs": [],
   "source": [
    "num_qubits = 4\n",
    "gate_counts = list(range(64))[::10]\n",
    "key = random.PRNGKey(0)\n",
    "\n",
    "circuits_4chain = []\n",
    "for n_gates in gate_counts:\n",
    "    anz = Ansatz(num_qubits, 'cz', fill_layers(chain_layer(num_qubits), n_gates))\n",
    "    key, subkey = random.split(key)\n",
    "    angles = random_angles(anz.num_angles, key=subkey)\n",
    "    tc = TestCircuit(anz, angles)\n",
    "    circuits_4chain.append(tc)"
   ]
  },
  {
   "cell_type": "markdown",
   "id": "352e6778-20a5-4e6f-ae83-6fd175963c44",
   "metadata": {},
   "source": [
    "# Toffoli gates"
   ]
  },
  {
   "cell_type": "markdown",
   "id": "cfb99805-4e6b-4c1f-940b-fdd147859279",
   "metadata": {},
   "source": [
    "## 3q"
   ]
  },
  {
   "cell_type": "code",
   "execution_count": 7,
   "id": "032704e3-f51f-432a-bfa9-cf6cc95ec503",
   "metadata": {},
   "outputs": [],
   "source": [
    "qc = QuantumCircuit(3)\n",
    "qc.ccx(0, 1, 2)\n",
    "u_toff3 = Operator(qc.reverse_bits()).data\n",
    "qc_toff3_trans = transpile(qc, basis_gates=['cz', 'rx', 'ry', 'rz'])\n",
    "\n",
    "placements_toff3 = [[1, 2], [0, 2], [1, 2], [0, 2], [0, 1], [0, 1]]\n",
    "anz_toff3 = Ansatz(3, 'cz', placements={'free': placements_toff3})\n",
    "tc_toff3 = TestCircuit(anz_toff3, circuit=qc_toff3_trans)"
   ]
  },
  {
   "cell_type": "markdown",
   "id": "25a43fbe-d737-4db5-964d-2589a4f6d940",
   "metadata": {},
   "source": [
    "## 4q"
   ]
  },
  {
   "cell_type": "markdown",
   "id": "7f15a4b3-a832-4612-b1ce-328a35b9d657",
   "metadata": {},
   "source": [
    "Fully connected."
   ]
  },
  {
   "cell_type": "code",
   "execution_count": 8,
   "id": "8b0eda36-5541-43cd-ae08-34cd4f8a5e3d",
   "metadata": {},
   "outputs": [],
   "source": [
    "qc = QuantumCircuit(4)\n",
    "qc.mct([0, 1, 2], 3)\n",
    "u_toff4 = Operator(qc.reverse_bits()).data\n",
    "qc_toff4_trans = transpile(qc, basis_gates=['cz', 'rx', 'ry', 'rz'])\n",
    "\n",
    "placements_toff4 = [[0, 1], [0, 1], [1, 2], [0, 2], [1, 2], [0, 2], [2, 3], [1, 3], [2, 3], [0, 3], [2, 3], [1, 3], [2, 3], [0, 3]]\n",
    "anz_toff4 = Ansatz(4, 'cz', placements={'free': placements_toff4})\n",
    "tc_toff4 = TestCircuit(anz_toff4, circuit=qc_toff4_trans)"
   ]
  },
  {
   "cell_type": "markdown",
   "id": "ac2912ac-6579-4b63-87f3-3c40742a8d87",
   "metadata": {},
   "source": [
    "Chain. Optimization level=3 probably uses stochastic swaps and the result is run-dependent. The best I've got is 21 gates for chain topology. Note that this probably does not include swapping the qubits back in order."
   ]
  },
  {
   "cell_type": "code",
   "execution_count": 11,
   "id": "d4ca486f-dc8e-4685-adfc-e859d8b8220e",
   "metadata": {},
   "outputs": [
    {
     "data": {
      "text/plain": [
       "23"
      ]
     },
     "execution_count": 11,
     "metadata": {},
     "output_type": "execute_result"
    }
   ],
   "source": [
    "qc = QuantumCircuit(4)\n",
    "qc.mct([0, 1, 2], 3)\n",
    "u_toff4 = Operator(qc.reverse_bits()).data\n",
    "qc_toff4_trans_chain = transpile(qc, basis_gates=['cz', 'rx', 'ry', 'rz'],\n",
    "                                 coupling_map=[[0,1], [1,0], [1,2],[2,1],[2,3],[3,2]], optimization_level=3)\n",
    "\n",
    "(qc_toff4_trans_chain.qasm()).count('\\ncz') "
   ]
  },
  {
   "cell_type": "markdown",
   "id": "6435320a-cfee-4be7-a9c3-e63acadf2f67",
   "metadata": {},
   "source": [
    "T-shaped [ref](http://arxiv.org/abs/2109.13223)"
   ]
  },
  {
   "cell_type": "code",
   "execution_count": 10,
   "id": "6b96560d-5ecc-4f7b-b98b-18b4d043617a",
   "metadata": {},
   "outputs": [],
   "source": [
    "toff4_t_placements = [[2, 3], [1, 3], [0, 3], [1, 3], [0, 3], [2, 3], [0, 3], [1, 3], [2, 3], [0, 3], [2, 3], [0, 3], [1, 3], [2, 3], [0, 3], [2, 3], [1, 3]]\n",
    "# toff4_t_1q_gates = (too lazy to write)"
   ]
  }
 ],
 "metadata": {
  "kernelspec": {
   "display_name": "Python 3",
   "language": "python",
   "name": "python3"
  },
  "language_info": {
   "codemirror_mode": {
    "name": "ipython",
    "version": 3
   },
   "file_extension": ".py",
   "mimetype": "text/x-python",
   "name": "python",
   "nbconvert_exporter": "python",
   "pygments_lexer": "ipython3",
   "version": "3.8.10"
  },
  "widgets": {
   "application/vnd.jupyter.widget-state+json": {
    "state": {},
    "version_major": 2,
    "version_minor": 0
   }
  }
 },
 "nbformat": 4,
 "nbformat_minor": 5
}
