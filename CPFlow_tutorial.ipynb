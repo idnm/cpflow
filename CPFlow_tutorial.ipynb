{
  "cells": [
    {
      "cell_type": "markdown",
      "metadata": {
        "id": "view-in-github",
        "colab_type": "text"
      },
      "source": [
        "<a href=\"https://colab.research.google.com/github/idnm/cpflow/blob/master/CPFlow_tutorial.ipynb\" target=\"_parent\"><img src=\"https://colab.research.google.com/assets/colab-badge.svg\" alt=\"Open In Colab\"/></a>"
      ]
    },
    {
      "cell_type": "markdown",
      "metadata": {
        "id": "QTpfFOTHv00P"
      },
      "source": [
        "# Imports"
      ]
    },
    {
      "cell_type": "code",
      "execution_count": null,
      "metadata": {
        "colab": {
          "base_uri": "https://localhost:8080/"
        },
        "id": "AKdprjBYSrUh",
        "outputId": "5172a178-f806-4388-d759-51b37419a8e5"
      },
      "outputs": [
        {
          "name": "stdout",
          "output_type": "stream",
          "text": [
            "Reading package lists... Done\n",
            "Building dependency tree       \n",
            "Reading state information... Done\n",
            "The following additional packages will be installed:\n",
            "  cargo libstd-rust-1.57 libstd-rust-dev\n",
            "Suggested packages:\n",
            "  cargo-doc lld-13 clang-13\n",
            "Recommended packages:\n",
            "  llvm-13\n",
            "The following NEW packages will be installed:\n",
            "  cargo libstd-rust-1.57 libstd-rust-dev rustc\n",
            "0 upgraded, 4 newly installed, 0 to remove and 39 not upgraded.\n",
            "Need to get 78.4 MB of archives.\n",
            "After this operation, 350 MB of additional disk space will be used.\n",
            "Get:1 http://archive.ubuntu.com/ubuntu bionic-updates/universe amd64 libstd-rust-1.57 amd64 1.57.0+dfsg1+llvm-0ubuntu1~18.04.1 [38.7 MB]\n",
            "Get:2 http://archive.ubuntu.com/ubuntu bionic-updates/universe amd64 libstd-rust-dev amd64 1.57.0+dfsg1+llvm-0ubuntu1~18.04.1 [32.9 MB]\n",
            "Get:3 http://archive.ubuntu.com/ubuntu bionic-updates/universe amd64 rustc amd64 1.57.0+dfsg1+llvm-0ubuntu1~18.04.1 [3,415 kB]\n",
            "Get:4 http://archive.ubuntu.com/ubuntu bionic-updates/universe amd64 cargo amd64 0.58.0-0ubuntu1~18.04.1 [3,446 kB]\n",
            "Fetched 78.4 MB in 4s (20.6 MB/s)\n",
            "Selecting previously unselected package libstd-rust-1.57:amd64.\n",
            "(Reading database ... 155455 files and directories currently installed.)\n",
            "Preparing to unpack .../libstd-rust-1.57_1.57.0+dfsg1+llvm-0ubuntu1~18.04.1_amd64.deb ...\n",
            "Unpacking libstd-rust-1.57:amd64 (1.57.0+dfsg1+llvm-0ubuntu1~18.04.1) ...\n",
            "Selecting previously unselected package libstd-rust-dev:amd64.\n",
            "Preparing to unpack .../libstd-rust-dev_1.57.0+dfsg1+llvm-0ubuntu1~18.04.1_amd64.deb ...\n",
            "Unpacking libstd-rust-dev:amd64 (1.57.0+dfsg1+llvm-0ubuntu1~18.04.1) ...\n",
            "Selecting previously unselected package rustc.\n",
            "Preparing to unpack .../rustc_1.57.0+dfsg1+llvm-0ubuntu1~18.04.1_amd64.deb ...\n",
            "Unpacking rustc (1.57.0+dfsg1+llvm-0ubuntu1~18.04.1) ...\n",
            "Selecting previously unselected package cargo.\n",
            "Preparing to unpack .../cargo_0.58.0-0ubuntu1~18.04.1_amd64.deb ...\n",
            "Unpacking cargo (0.58.0-0ubuntu1~18.04.1) ...\n",
            "Setting up libstd-rust-1.57:amd64 (1.57.0+dfsg1+llvm-0ubuntu1~18.04.1) ...\n",
            "Setting up libstd-rust-dev:amd64 (1.57.0+dfsg1+llvm-0ubuntu1~18.04.1) ...\n",
            "Setting up rustc (1.57.0+dfsg1+llvm-0ubuntu1~18.04.1) ...\n",
            "Setting up cargo (0.58.0-0ubuntu1~18.04.1) ...\n",
            "Processing triggers for libc-bin (2.27-3ubuntu1.3) ...\n",
            "/sbin/ldconfig.real: /usr/local/lib/python3.7/dist-packages/ideep4py/lib/libmkldnn.so.0 is not a symbolic link\n",
            "\n",
            "Processing triggers for man-db (2.8.3-2ubuntu0.1) ...\n",
            "/usr/local/lib/python3.7/dist-packages/gdown/cli.py:131: FutureWarning: Option `--id` was deprecated in version 4.3.1 and will be removed in 5.0. You don't need to pass it anymore to use a file ID.\n",
            "  category=FutureWarning,\n",
            "Downloading...\n",
            "From: https://drive.google.com/uc?id=1PULtTc-2e9z4bswh_SQqL5oy_4JpfV7c\n",
            "To: /content/evcxr_jupyter\n",
            "100% 4.76M/4.76M [00:00<00:00, 27.3MB/s]\n",
            "Writing /root/.local/share/jupyter/kernels/rust/kernel.json\n",
            "Writing /root/.local/share/jupyter/kernels/rust/logo-32x32.png\n",
            "Writing /root/.local/share/jupyter/kernels/rust/logo-64x64.png\n",
            "Writing /root/.local/share/jupyter/kernels/rust/logo-LICENSE.md\n",
            "Installation complete\n",
            "Collecting git+https://github.com/LNoorl/qiskit-terra@d2e0dc1185ccc3b0c9957e3d7d9bc610dede29d4\n",
            "  Cloning https://github.com/LNoorl/qiskit-terra (to revision d2e0dc1185ccc3b0c9957e3d7d9bc610dede29d4) to /tmp/pip-req-build-5q7ctw7y\n",
            "  Running command git clone -q https://github.com/LNoorl/qiskit-terra /tmp/pip-req-build-5q7ctw7y\n",
            "  Running command git rev-parse -q --verify 'sha^d2e0dc1185ccc3b0c9957e3d7d9bc610dede29d4'\n",
            "  Running command git fetch -q https://github.com/LNoorl/qiskit-terra d2e0dc1185ccc3b0c9957e3d7d9bc610dede29d4\n",
            "  Running command git checkout -q d2e0dc1185ccc3b0c9957e3d7d9bc610dede29d4\n",
            "  Installing build dependencies ... \u001b[?25l\u001b[?25hdone\n",
            "  Getting requirements to build wheel ... \u001b[?25l\u001b[?25hdone\n",
            "    Preparing wheel metadata ... \u001b[?25l\u001b[?25hdone\n",
            "Collecting retworkx>=0.11.0\n",
            "  Downloading retworkx-0.11.0-cp37-cp37m-manylinux_2_5_x86_64.manylinux1_x86_64.manylinux_2_12_x86_64.manylinux2010_x86_64.whl (1.6 MB)\n",
            "\u001b[K     |████████████████████████████████| 1.6 MB 12.8 MB/s \n",
            "\u001b[?25hCollecting scipy>=1.5\n",
            "  Downloading scipy-1.7.3-cp37-cp37m-manylinux_2_12_x86_64.manylinux2010_x86_64.whl (38.1 MB)\n",
            "\u001b[K     |████████████████████████████████| 38.1 MB 1.2 MB/s \n",
            "\u001b[?25hRequirement already satisfied: numpy>=1.17 in /usr/local/lib/python3.7/dist-packages (from qiskit-terra==0.20.0) (1.21.6)\n",
            "Requirement already satisfied: python-dateutil>=2.8.0 in /usr/local/lib/python3.7/dist-packages (from qiskit-terra==0.20.0) (2.8.2)\n",
            "Requirement already satisfied: psutil>=5 in /usr/local/lib/python3.7/dist-packages (from qiskit-terra==0.20.0) (5.4.8)\n",
            "Collecting tweedledum<2.0,>=1.1\n",
            "  Downloading tweedledum-1.1.1-cp37-cp37m-manylinux_2_12_x86_64.manylinux2010_x86_64.whl (943 kB)\n",
            "\u001b[K     |████████████████████████████████| 943 kB 40.8 MB/s \n",
            "\u001b[?25hCollecting ply>=3.10\n",
            "  Downloading ply-3.11-py2.py3-none-any.whl (49 kB)\n",
            "\u001b[K     |████████████████████████████████| 49 kB 6.4 MB/s \n",
            "\u001b[?25hCollecting symengine>=0.9\n",
            "  Downloading symengine-0.9.2-cp37-cp37m-manylinux2010_x86_64.whl (37.5 MB)\n",
            "\u001b[K     |████████████████████████████████| 37.5 MB 1.2 MB/s \n",
            "\u001b[?25hRequirement already satisfied: sympy>=1.3 in /usr/local/lib/python3.7/dist-packages (from qiskit-terra==0.20.0) (1.7.1)\n",
            "Requirement already satisfied: dill>=0.3 in /usr/local/lib/python3.7/dist-packages (from qiskit-terra==0.20.0) (0.3.4)\n",
            "Collecting stevedore>=3.0.0\n",
            "  Downloading stevedore-3.5.0-py3-none-any.whl (49 kB)\n",
            "\u001b[K     |████████████████████████████████| 49 kB 6.4 MB/s \n",
            "\u001b[?25hCollecting python-constraint>=1.4\n",
            "  Downloading python-constraint-1.4.0.tar.bz2 (18 kB)\n",
            "Requirement already satisfied: six>=1.5 in /usr/local/lib/python3.7/dist-packages (from python-dateutil>=2.8.0->qiskit-terra==0.20.0) (1.15.0)\n",
            "Requirement already satisfied: importlib-metadata>=1.7.0 in /usr/local/lib/python3.7/dist-packages (from stevedore>=3.0.0->qiskit-terra==0.20.0) (4.11.3)\n",
            "Collecting pbr!=2.1.0,>=2.0.0\n",
            "  Downloading pbr-5.8.1-py2.py3-none-any.whl (113 kB)\n",
            "\u001b[K     |████████████████████████████████| 113 kB 47.6 MB/s \n",
            "\u001b[?25hRequirement already satisfied: zipp>=0.5 in /usr/local/lib/python3.7/dist-packages (from importlib-metadata>=1.7.0->stevedore>=3.0.0->qiskit-terra==0.20.0) (3.8.0)\n",
            "Requirement already satisfied: typing-extensions>=3.6.4 in /usr/local/lib/python3.7/dist-packages (from importlib-metadata>=1.7.0->stevedore>=3.0.0->qiskit-terra==0.20.0) (4.1.1)\n",
            "Requirement already satisfied: mpmath>=0.19 in /usr/local/lib/python3.7/dist-packages (from sympy>=1.3->qiskit-terra==0.20.0) (1.2.1)\n",
            "Building wheels for collected packages: qiskit-terra, python-constraint\n",
            "  Building wheel for qiskit-terra (PEP 517) ... \u001b[?25l\u001b[?25hdone\n",
            "  Created wheel for qiskit-terra: filename=qiskit_terra-0.20.0-cp37-cp37m-linux_x86_64.whl size=6983291 sha256=3378780f5451dfa081be2839fc67b86ac0235cecb4e11f0fdfb86a41c1034cf7\n",
            "  Stored in directory: /root/.cache/pip/wheels/58/28/47/8f01a02a14ff0479286d39e487aebffd71fe56e38ee45fde54\n",
            "  Building wheel for python-constraint (setup.py) ... \u001b[?25l\u001b[?25hdone\n",
            "  Created wheel for python-constraint: filename=python_constraint-1.4.0-py2.py3-none-any.whl size=24081 sha256=3b4bc984a35d2bcc966e3b03d020af023ec376738e62f73389c8c5c4e5be7f2c\n",
            "  Stored in directory: /root/.cache/pip/wheels/07/27/db/1222c80eb1e431f3d2199c12569cb1cac60f562a451fe30479\n",
            "Successfully built qiskit-terra python-constraint\n",
            "Installing collected packages: pbr, tweedledum, symengine, stevedore, scipy, retworkx, python-constraint, ply, qiskit-terra\n",
            "  Attempting uninstall: scipy\n",
            "    Found existing installation: scipy 1.4.1\n",
            "    Uninstalling scipy-1.4.1:\n",
            "      Successfully uninstalled scipy-1.4.1\n",
            "\u001b[31mERROR: pip's dependency resolver does not currently take into account all the packages that are installed. This behaviour is the source of the following dependency conflicts.\n",
            "albumentations 0.1.12 requires imgaug<0.2.7,>=0.2.5, but you have imgaug 0.2.9 which is incompatible.\u001b[0m\n",
            "Successfully installed pbr-5.8.1 ply-3.11 python-constraint-1.4.0 qiskit-terra-0.20.0 retworkx-0.11.0 scipy-1.7.3 stevedore-3.5.0 symengine-0.9.2 tweedledum-1.1.1\n",
            "Collecting cpflow\n",
            "  Downloading cpflow-0.0.1.tar.gz (28 kB)\n",
            "Requirement already satisfied: jax<0.3.5,>=0.3.0 in /usr/local/lib/python3.7/dist-packages (from cpflow) (0.3.4)\n",
            "Requirement already satisfied: jaxlib<0.3.5,>=0.3.0 in /usr/local/lib/python3.7/dist-packages (from cpflow) (0.3.2+cuda11.cudnn805)\n",
            "Requirement already satisfied: dill>=0.3.4 in /usr/local/lib/python3.7/dist-packages (from cpflow) (0.3.4)\n",
            "Requirement already satisfied: matplotlib>=3.2.2 in /usr/local/lib/python3.7/dist-packages (from cpflow) (3.2.2)\n",
            "Collecting hyperopt>=0.2.7\n",
            "  Downloading hyperopt-0.2.7-py2.py3-none-any.whl (1.6 MB)\n",
            "\u001b[K     |████████████████████████████████| 1.6 MB 17.1 MB/s \n",
            "\u001b[?25hCollecting qiskit>=0.20.0\n",
            "  Downloading qiskit-0.36.0.tar.gz (13 kB)\n",
            "Collecting optax==0.1.1\n",
            "  Downloading optax-0.1.1-py3-none-any.whl (136 kB)\n",
            "\u001b[K     |████████████████████████████████| 136 kB 45.4 MB/s \n",
            "\u001b[?25hCollecting chex==0.1.0\n",
            "  Downloading chex-0.1.0-py3-none-any.whl (65 kB)\n",
            "\u001b[K     |████████████████████████████████| 65 kB 3.8 MB/s \n",
            "\u001b[?25hCollecting pylatexenc>=2.10\n",
            "  Downloading pylatexenc-2.10.tar.gz (162 kB)\n",
            "\u001b[K     |████████████████████████████████| 162 kB 49.4 MB/s \n",
            "\u001b[?25hRequirement already satisfied: numpy>=1.18.0 in /usr/local/lib/python3.7/dist-packages (from chex==0.1.0->cpflow) (1.21.6)\n",
            "Requirement already satisfied: absl-py>=0.9.0 in /usr/local/lib/python3.7/dist-packages (from chex==0.1.0->cpflow) (1.0.0)\n",
            "Requirement already satisfied: toolz>=0.9.0 in /usr/local/lib/python3.7/dist-packages (from chex==0.1.0->cpflow) (0.11.2)\n",
            "Requirement already satisfied: dm-tree>=0.1.5 in /usr/local/lib/python3.7/dist-packages (from chex==0.1.0->cpflow) (0.1.7)\n",
            "Requirement already satisfied: typing-extensions>=3.10.0 in /usr/local/lib/python3.7/dist-packages (from optax==0.1.1->cpflow) (4.1.1)\n",
            "Requirement already satisfied: six in /usr/local/lib/python3.7/dist-packages (from absl-py>=0.9.0->chex==0.1.0->cpflow) (1.15.0)\n",
            "Requirement already satisfied: cloudpickle in /usr/local/lib/python3.7/dist-packages (from hyperopt>=0.2.7->cpflow) (1.3.0)\n",
            "Requirement already satisfied: future in /usr/local/lib/python3.7/dist-packages (from hyperopt>=0.2.7->cpflow) (0.16.0)\n",
            "Requirement already satisfied: tqdm in /usr/local/lib/python3.7/dist-packages (from hyperopt>=0.2.7->cpflow) (4.64.0)\n",
            "Requirement already satisfied: networkx>=2.2 in /usr/local/lib/python3.7/dist-packages (from hyperopt>=0.2.7->cpflow) (2.6.3)\n",
            "Collecting py4j\n",
            "  Downloading py4j-0.10.9.5-py2.py3-none-any.whl (199 kB)\n",
            "\u001b[K     |████████████████████████████████| 199 kB 46.9 MB/s \n",
            "\u001b[?25hRequirement already satisfied: scipy in /usr/local/lib/python3.7/dist-packages (from hyperopt>=0.2.7->cpflow) (1.7.3)\n",
            "Requirement already satisfied: opt-einsum in /usr/local/lib/python3.7/dist-packages (from jax<0.3.5,>=0.3.0->cpflow) (3.3.0)\n",
            "Requirement already satisfied: flatbuffers<3.0,>=1.12 in /usr/local/lib/python3.7/dist-packages (from jaxlib<0.3.5,>=0.3.0->cpflow) (2.0)\n",
            "Requirement already satisfied: kiwisolver>=1.0.1 in /usr/local/lib/python3.7/dist-packages (from matplotlib>=3.2.2->cpflow) (1.4.2)\n",
            "Requirement already satisfied: cycler>=0.10 in /usr/local/lib/python3.7/dist-packages (from matplotlib>=3.2.2->cpflow) (0.11.0)\n",
            "Requirement already satisfied: python-dateutil>=2.1 in /usr/local/lib/python3.7/dist-packages (from matplotlib>=3.2.2->cpflow) (2.8.2)\n",
            "Requirement already satisfied: pyparsing!=2.0.4,!=2.1.2,!=2.1.6,>=2.0.1 in /usr/local/lib/python3.7/dist-packages (from matplotlib>=3.2.2->cpflow) (3.0.8)\n",
            "Requirement already satisfied: qiskit-terra==0.20.0 in /usr/local/lib/python3.7/dist-packages (from qiskit>=0.20.0->cpflow) (0.20.0)\n",
            "Collecting qiskit-aer==0.10.4\n",
            "  Downloading qiskit_aer-0.10.4-cp37-cp37m-manylinux_2_12_x86_64.manylinux2010_x86_64.whl (18.0 MB)\n",
            "\u001b[K     |████████████████████████████████| 18.0 MB 376 kB/s \n",
            "\u001b[?25hCollecting qiskit-ibmq-provider==0.19.0\n",
            "  Downloading qiskit_ibmq_provider-0.19.0-py3-none-any.whl (240 kB)\n",
            "\u001b[K     |████████████████████████████████| 240 kB 50.2 MB/s \n",
            "\u001b[?25hCollecting qiskit-ignis==0.7.0\n",
            "  Downloading qiskit_ignis-0.7.0-py3-none-any.whl (200 kB)\n",
            "\u001b[K     |████████████████████████████████| 200 kB 49.4 MB/s \n",
            "\u001b[?25hRequirement already satisfied: urllib3>=1.21.1 in /usr/local/lib/python3.7/dist-packages (from qiskit-ibmq-provider==0.19.0->qiskit>=0.20.0->cpflow) (1.24.3)\n",
            "Collecting websockets>=10.0\n",
            "  Downloading websockets-10.3-cp37-cp37m-manylinux_2_5_x86_64.manylinux1_x86_64.manylinux_2_12_x86_64.manylinux2010_x86_64.whl (112 kB)\n",
            "\u001b[K     |████████████████████████████████| 112 kB 48.9 MB/s \n",
            "\u001b[?25hCollecting requests-ntlm>=1.1.0\n",
            "  Downloading requests_ntlm-1.1.0-py2.py3-none-any.whl (5.7 kB)\n",
            "Requirement already satisfied: requests>=2.19 in /usr/local/lib/python3.7/dist-packages (from qiskit-ibmq-provider==0.19.0->qiskit>=0.20.0->cpflow) (2.23.0)\n",
            "Collecting websocket-client>=1.0.1\n",
            "  Downloading websocket_client-1.3.2-py3-none-any.whl (54 kB)\n",
            "\u001b[K     |████████████████████████████████| 54 kB 2.8 MB/s \n",
            "\u001b[?25hRequirement already satisfied: setuptools>=40.1.0 in /usr/local/lib/python3.7/dist-packages (from qiskit-ignis==0.7.0->qiskit>=0.20.0->cpflow) (57.4.0)\n",
            "Requirement already satisfied: retworkx>=0.8.0 in /usr/local/lib/python3.7/dist-packages (from qiskit-ignis==0.7.0->qiskit>=0.20.0->cpflow) (0.11.0)\n",
            "Requirement already satisfied: python-constraint>=1.4 in /usr/local/lib/python3.7/dist-packages (from qiskit-terra==0.20.0->qiskit>=0.20.0->cpflow) (1.4.0)\n",
            "Requirement already satisfied: sympy>=1.3 in /usr/local/lib/python3.7/dist-packages (from qiskit-terra==0.20.0->qiskit>=0.20.0->cpflow) (1.7.1)\n",
            "Requirement already satisfied: ply>=3.10 in /usr/local/lib/python3.7/dist-packages (from qiskit-terra==0.20.0->qiskit>=0.20.0->cpflow) (3.11)\n",
            "Requirement already satisfied: tweedledum<2.0,>=1.1 in /usr/local/lib/python3.7/dist-packages (from qiskit-terra==0.20.0->qiskit>=0.20.0->cpflow) (1.1.1)\n",
            "Requirement already satisfied: psutil>=5 in /usr/local/lib/python3.7/dist-packages (from qiskit-terra==0.20.0->qiskit>=0.20.0->cpflow) (5.4.8)\n",
            "Requirement already satisfied: stevedore>=3.0.0 in /usr/local/lib/python3.7/dist-packages (from qiskit-terra==0.20.0->qiskit>=0.20.0->cpflow) (3.5.0)\n",
            "Requirement already satisfied: symengine>=0.9 in /usr/local/lib/python3.7/dist-packages (from qiskit-terra==0.20.0->qiskit>=0.20.0->cpflow) (0.9.2)\n",
            "Requirement already satisfied: certifi>=2017.4.17 in /usr/local/lib/python3.7/dist-packages (from requests>=2.19->qiskit-ibmq-provider==0.19.0->qiskit>=0.20.0->cpflow) (2021.10.8)\n",
            "Requirement already satisfied: idna<3,>=2.5 in /usr/local/lib/python3.7/dist-packages (from requests>=2.19->qiskit-ibmq-provider==0.19.0->qiskit>=0.20.0->cpflow) (2.10)\n",
            "Requirement already satisfied: chardet<4,>=3.0.2 in /usr/local/lib/python3.7/dist-packages (from requests>=2.19->qiskit-ibmq-provider==0.19.0->qiskit>=0.20.0->cpflow) (3.0.4)\n",
            "Collecting cryptography>=1.3\n",
            "  Downloading cryptography-36.0.2-cp36-abi3-manylinux_2_24_x86_64.whl (3.6 MB)\n",
            "\u001b[K     |████████████████████████████████| 3.6 MB 46.8 MB/s \n",
            "\u001b[?25hCollecting ntlm-auth>=1.0.2\n",
            "  Downloading ntlm_auth-1.5.0-py2.py3-none-any.whl (29 kB)\n",
            "Requirement already satisfied: cffi>=1.12 in /usr/local/lib/python3.7/dist-packages (from cryptography>=1.3->requests-ntlm>=1.1.0->qiskit-ibmq-provider==0.19.0->qiskit>=0.20.0->cpflow) (1.15.0)\n",
            "Requirement already satisfied: pycparser in /usr/local/lib/python3.7/dist-packages (from cffi>=1.12->cryptography>=1.3->requests-ntlm>=1.1.0->qiskit-ibmq-provider==0.19.0->qiskit>=0.20.0->cpflow) (2.21)\n",
            "Requirement already satisfied: pbr!=2.1.0,>=2.0.0 in /usr/local/lib/python3.7/dist-packages (from stevedore>=3.0.0->qiskit-terra==0.20.0->qiskit>=0.20.0->cpflow) (5.8.1)\n",
            "Requirement already satisfied: importlib-metadata>=1.7.0 in /usr/local/lib/python3.7/dist-packages (from stevedore>=3.0.0->qiskit-terra==0.20.0->qiskit>=0.20.0->cpflow) (4.11.3)\n",
            "Requirement already satisfied: zipp>=0.5 in /usr/local/lib/python3.7/dist-packages (from importlib-metadata>=1.7.0->stevedore>=3.0.0->qiskit-terra==0.20.0->qiskit>=0.20.0->cpflow) (3.8.0)\n",
            "Requirement already satisfied: mpmath>=0.19 in /usr/local/lib/python3.7/dist-packages (from sympy>=1.3->qiskit-terra==0.20.0->qiskit>=0.20.0->cpflow) (1.2.1)\n",
            "Building wheels for collected packages: cpflow, pylatexenc, qiskit\n",
            "  Building wheel for cpflow (setup.py) ... \u001b[?25l\u001b[?25hdone\n",
            "  Created wheel for cpflow: filename=cpflow-0.0.1-py3-none-any.whl size=30804 sha256=70a785cd049ff08b5088fed720923983701f3cb4434a72b09c24f60efd00e728\n",
            "  Stored in directory: /root/.cache/pip/wheels/f2/3e/81/3e7353ab67eb71f1efc243fa6a1f14683fa388735a7691bbc4\n",
            "  Building wheel for pylatexenc (setup.py) ... \u001b[?25l\u001b[?25hdone\n",
            "  Created wheel for pylatexenc: filename=pylatexenc-2.10-py3-none-any.whl size=136835 sha256=958bcab9836e1c5793fc3b344af2fc7ac4167ddae2cde7b21ffbf4b932c5f9a9\n",
            "  Stored in directory: /root/.cache/pip/wheels/f1/8a/f5/33ee79d4473eb201b519fa40f989b842e373237395a3421f52\n",
            "  Building wheel for qiskit (setup.py) ... \u001b[?25l\u001b[?25hdone\n",
            "  Created wheel for qiskit: filename=qiskit-0.36.0-py3-none-any.whl size=11861 sha256=b98112003b444cc4bd89038a768284271a307e6190959ce7c37c7a349d0a88ef\n",
            "  Stored in directory: /root/.cache/pip/wheels/c3/25/bc/bb06f0f4587fa7253f761a778580d546f13e031b90fc929bb3\n",
            "Successfully built cpflow pylatexenc qiskit\n",
            "Installing collected packages: ntlm-auth, cryptography, websockets, websocket-client, requests-ntlm, qiskit-ignis, qiskit-ibmq-provider, qiskit-aer, py4j, chex, qiskit, pylatexenc, optax, hyperopt, cpflow\n",
            "  Attempting uninstall: hyperopt\n",
            "    Found existing installation: hyperopt 0.1.2\n",
            "    Uninstalling hyperopt-0.1.2:\n",
            "      Successfully uninstalled hyperopt-0.1.2\n",
            "Successfully installed chex-0.1.0 cpflow-0.0.1 cryptography-36.0.2 hyperopt-0.2.7 ntlm-auth-1.5.0 optax-0.1.1 py4j-0.10.9.5 pylatexenc-2.10 qiskit-0.36.0 qiskit-aer-0.10.4 qiskit-ibmq-provider-0.19.0 qiskit-ignis-0.7.0 requests-ntlm-1.1.0 websocket-client-1.3.2 websockets-10.3\n"
          ]
        }
      ],
      "source": [
        "try:\n",
        "   from qiskit.transpiler.passes import SolovayKitaevDecomposition\n",
        "except ImportError:\n",
        "  # Install Rust compiler, needed to build wheel for qiskit-terra\n",
        "  !apt install rustc\n",
        "  !gdown --id 1PULtTc-2e9z4bswh_SQqL5oy_4JpfV7c\n",
        "  !chmod +x evcxr_jupyter\n",
        "  !./evcxr_jupyter --install\n",
        "  # Install qiskit branch with SolovayKitaevDecomposition\n",
        "  !pip install git+https://github.com/LNoorl/qiskit-terra@d2e0dc1185ccc3b0c9957e3d7d9bc610dede29d4\n",
        "\n",
        "try:\n",
        "   import cpflow\n",
        "except ImportError:\n",
        "  !pip install cpflow\n",
        "\n",
        "from qiskit import QuantumCircuit\n",
        "from qiskit.quantum_info import Operator\n",
        "import numpy as np\n",
        "\n",
        "from jax import vmap\n",
        "import jax.numpy as jnp\n",
        "import matplotlib.pyplot as plt\n",
        "\n",
        "from cpflow import *"
      ]
    },
    {
      "cell_type": "markdown",
      "metadata": {
        "id": "9jwYLHU3v5M7"
      },
      "source": [
        "# Background"
      ]
    },
    {
      "cell_type": "markdown",
      "metadata": {
        "id": "8nQpuVrolr0d"
      },
      "source": [
        "\n",
        "The main goal of CPFlow is to find quantum circuits consisting of CNOT+arbitrary 1q gates that simultaneously\n",
        "- minimize a given loss function $L(U)$\n",
        "- do it with as few CNOT gates as possible\n",
        "\n",
        "Indirectly the circuits can also be optimized for CNOT depth and even T count or T depth in some cases.\n",
        "\n",
        "CPFlow uses CP templates to combine the architecture search and parameter optimization into a single coherent continuous optimization. Example of a CP template is shown below.\n",
        "\n",
        " (_NOTE: code in this section is for illustration purposes, actual usage examples are found in later sections_.)"
      ]
    },
    {
      "cell_type": "code",
      "execution_count": null,
      "metadata": {
        "colab": {
          "base_uri": "https://localhost:8080/",
          "height": 310
        },
        "id": "IlMpys5IotFO",
        "outputId": "da17d1e8-c304-4068-8087-1b9d1e7f45dc"
      },
      "outputs": [
        {
          "data": {
            "image/png": "[encoded data removed]",
            "text/plain": [
              "<Figure size 1591.6x445.48 with 1 Axes>"
            ]
          },
          "execution_count": 35,
          "metadata": {},
          "output_type": "execute_result"
        }
      ],
      "source": [
        "from cpflow.topology import connected_layer, fill_layers\n",
        "\n",
        "num_qubits = 3\n",
        "num_cp_gates = 6\n",
        "cp_template = Ansatz(num_qubits, 'cp', fill_layers(connected_layer(num_qubits), num_cp_gates))\n",
        "cp_template.circuit().draw(output='mpl')"
      ]
    },
    {
      "cell_type": "markdown",
      "metadata": {
        "id": "nSaR_9WLpEx-"
      },
      "source": [
        "Controlled phase gates CP($a$) with $a=0$ are equivalent to identity gates, with $a=\\pi$ to CZ gates. CP($a$) with intermediate values of $a$ can be decomposed using 2 CZ gates. Hence, different choices of CP angles in a CP template corresponds to different architectures of a standard CZ/CNOT circuits. To minimize CZ count minimization of the original loss function is performed with a regularization term\n",
        "$$\\mathcal{L}(U)=L(U)+r \\sum_{a_i\\in CP}R(a_i)$$\n",
        "Here $U$ is the unitary matrix of the CP template, $L(U)$ is the original loss function, $r$ is the overall weight of the regularization term. The sum is over all CP angles, penalty function $R(a)$ for a single angles has the following shape:"
      ]
    },
    {
      "cell_type": "code",
      "execution_count": null,
      "metadata": {
        "colab": {
          "base_uri": "https://localhost:8080/",
          "height": 320
        },
        "id": "X45mq5ETpDI-",
        "outputId": "75d2351a-4c09-4ed1-ddec-a089e77710a2"
      },
      "outputs": [
        {
          "data": {
            "text/plain": [
              "Text(0.5, 0, 'Angle of CP gate $a$')"
            ]
          },
          "execution_count": 36,
          "metadata": {},
          "output_type": "execute_result"
        },
        {
          "data": {
            "image/png": "[encoded data removed]",
            "text/plain": [
              "<Figure size 432x288 with 1 Axes>"
            ]
          },
          "metadata": {},
          "output_type": "display_data"
        }
      ],
      "source": [
        "from cpflow.cp_utils import make_regularization_function\n",
        "from cpflow.main import RegularizationOptions\n",
        "\n",
        "penalty_func = make_regularization_function(RegularizationOptions)\n",
        "a_sweep = jnp.linspace(0, 2*jnp.pi, 500)\n",
        "plt.plot(a_sweep, vmap(penalty_func)(a_sweep), 'blue', linewidth=2)\n",
        "plt.xticks([0, jnp.pi/2, jnp.pi, 3*jnp.pi/2, 2*jnp.pi], ['$0$', '$\\pi/2$', '$\\pi$', '$3\\pi/2$', '$2\\pi$'])\n",
        "plt.title('Penalty function')\n",
        "plt.ylabel('penalty function value $R(a)$')\n",
        "plt.xlabel('Angle of CP gate $a$')"
      ]
    },
    {
      "cell_type": "markdown",
      "metadata": {
        "id": "sRIygAeluSy5"
      },
      "source": [
        "Both the regularization term and the original loss function typically have many local minumums. CPFlow takes a straightfoward approach of extensive multi-start optimization to mitigate the problem. There are two basic synthesis routines\n",
        "- Static: optimization with a fixed CP template and regularization weight $r$.\n",
        "- Adaptive: series of static optimizations with hyperparameters (number of CP gates and value of $r$) tuned by the [Hyperopt algorithm](http://hyperopt.github.io/hyperopt/) .\n",
        "\n",
        "\n",
        "The rest of the notebook containes several examples of using both routines as well as some additional features."
      ]
    },
    {
      "cell_type": "markdown",
      "metadata": {
        "id": "kecbcU2wv9mx"
      },
      "source": [
        "# Static synthesis example: 3q Toffoli gate"
      ]
    },
    {
      "cell_type": "markdown",
      "metadata": {
        "id": "0XADq1AzJkHM"
      },
      "source": [
        "## Defining the target unitary"
      ]
    },
    {
      "cell_type": "markdown",
      "metadata": {
        "id": "5QE9CIAEwm0l"
      },
      "source": [
        "\n",
        "We will now use CPFlow to find efficient decomposisions of the Toffoli 3 gate. One can input the unitary matrix directly, but we will import it from `qiskit`\n"
      ]
    },
    {
      "cell_type": "code",
      "execution_count": null,
      "metadata": {
        "colab": {
          "base_uri": "https://localhost:8080/",
          "height": 184
        },
        "id": "8hhz2g0MwmFT",
        "outputId": "0aab517d-c757-4581-a6e7-115353ecfce9"
      },
      "outputs": [
        {
          "data": {
            "image/png": "[encoded data removed]",
            "text/plain": [
              "<Figure size 146.797x204.68 with 1 Axes>"
            ]
          },
          "execution_count": 38,
          "metadata": {},
          "output_type": "execute_result"
        }
      ],
      "source": [
        "qc = QuantumCircuit(3)\n",
        "qc.ccx(0, 1, 2)\n",
        "u_toff3 = Operator(qc.reverse_bits()).data\n",
        "qc.draw(output='mpl')"
      ]
    },
    {
      "cell_type": "markdown",
      "metadata": {
        "id": "irPZPXA_xgoj"
      },
      "source": [
        "Note that CPFlow does not follow the little-endian convention of `qiskit` so we applied the `reverse_bits()` method before extracting the unitary. "
      ]
    },
    {
      "cell_type": "markdown",
      "metadata": {
        "id": "IX91mNwtJn4s"
      },
      "source": [
        "## Setting up the decomposer"
      ]
    },
    {
      "cell_type": "markdown",
      "metadata": {
        "id": "6mXrcOnzJuSW"
      },
      "source": [
        "The following lines initialize the decomposer."
      ]
    },
    {
      "cell_type": "code",
      "execution_count": null,
      "metadata": {
        "id": "pzwvNLgNx5CY"
      },
      "outputs": [],
      "source": [
        "layer = [[0, 1], [1, 2]]  # Layer corresponding to the linearly connected qubit topology 0-1-2.\n",
        "decomposer = Synthesize(layer, target_unitary=u_toff3, label='toff3_chain')\n",
        "options = StaticOptions(\n",
        "    num_cp_gates=12, \n",
        "    r=0.0005,\n",
        "    accepted_num_cz_gates=10,\n",
        "    num_samples=5,\n",
        "    )"
      ]
    },
    {
      "cell_type": "markdown",
      "metadata": {
        "id": "hFJpk9qAy0Mq"
      },
      "source": [
        "- The main role of `layer` is to provide information about qubit connectivity -- the final decompositions can only contain entangling gates between qubit pairs specified in `layer`.  The order of qubits in each pair does not matter, the order of pair and presence of duplicated might matters in theory but apparently not in practice. The simple way to construct layers is to just list (in arbitrary order) all pairs of qubits that admit entangling gates.\n",
        "- `label` is just a name to keep track of what we are decomposing (referencing the unitary matrix itself is often not helpful). It is also used to name the file on a disk that stores the results of the synthesis.\n",
        "- `options` specify exact details of template construction, optimization and verification. The only required attributes are `num_cp_gates` -- total number of entagling gate in the template (together with `layer` this specifies the template completely) and `accepted_num_cz_gates` -- only decompositions with CZ count below this value will be verified and stored. Additionaly, we provided the value of the regularization weight (same as default, just to emphasize it is there) and chose a relatively small number of samples for multistart optimization `num_samples` which is sufficient in this case."
      ]
    },
    {
      "cell_type": "markdown",
      "metadata": {
        "id": "4KqFcn44J8up"
      },
      "source": [
        "## Running the decomposer\n",
        "\n"
      ]
    },
    {
      "cell_type": "markdown",
      "metadata": {
        "id": "IQ3nvEmPJ9l4"
      },
      "source": [
        "We can now run the decomposer."
      ]
    },
    {
      "cell_type": "code",
      "execution_count": null,
      "metadata": {
        "colab": {
          "base_uri": "https://localhost:8080/",
          "height": 308,
          "referenced_widgets": [
            "d73a4821214a4dc5b90e48a193e3c508",
            "37b32b21d5104a829186f8ef886cbf6b",
            "2d175d373e3643d99176cbb0ba3a0037",
            "f19fea2948524473bbf8541aea2316d4",
            "2082aa8e3d71403fb20a3e15979a3ee5",
            "3cc6df25fa04432e94cdce93e350fdb4",
            "7c53c140b96a4366b30069c524b96585",
            "4460aff22afb42abbbce1c1bf267ef00",
            "82c5ff1a37034c7fbf65579aed4b7867",
            "60709c1b8b23476bb6cb36c4207f724c",
            "6380cf31b0a1454abd4bb690d7a4e0bb"
          ]
        },
        "id": "oqxypRFiyyeH",
        "outputId": "4028b3be-cc53-48b6-dc32-f2fa48c0fa5d"
      },
      "outputs": [
        {
          "name": "stdout",
          "output_type": "stream",
          "text": [
            "\n",
            "Starting decomposition routine with the following options:\n",
            "\n",
            " StaticOptions(num_samples=5, method='adam', learning_rate=0.1, num_gd_iterations=2000, cp_distribution='uniform', entry_loss=0.001, target_loss=1e-06, threshold_cp=0.2, learning_rate_at_verification=0.01, num_gd_iterations_at_verification=5000, random_seed=0, rotation_gates='xyz', num_cp_gates=12, r=0.0005, accepted_num_cz_gates=10)\n",
            "\n",
            "Computing raw results...\n",
            "\n",
            "Selecting prospective results...\n",
            "\n",
            "Found 5. Verifying...\n"
          ]
        },
        {
          "data": {
            "application/vnd.jupyter.widget-view+json": {
              "model_id": "d73a4821214a4dc5b90e48a193e3c508",
              "version_major": 2,
              "version_minor": 0
            },
            "text/plain": [
              "  0%|          | 0/5 [00:00<?, ?it/s]"
            ]
          },
          "metadata": {},
          "output_type": "display_data"
        },
        {
          "name": "stdout",
          "output_type": "stream",
          "text": [
            "\n",
            "5 successful. cz counts are:\n",
            "[8, 8, 9, 9, 9]\n"
          ]
        }
      ],
      "source": [
        "results = decomposer.static(options)"
      ]
    },
    {
      "cell_type": "markdown",
      "metadata": {
        "id": "yIRMBtTkKFUb"
      },
      "source": [
        "## Analyzing decompositions"
      ]
    },
    {
      "cell_type": "markdown",
      "metadata": {
        "id": "Iyccof_t4k3v"
      },
      "source": [
        "Five decompositions with CZ count below the specified were found. They are stored in `decompositoins` attribute of `results`."
      ]
    },
    {
      "cell_type": "code",
      "execution_count": null,
      "metadata": {
        "colab": {
          "base_uri": "https://localhost:8080/"
        },
        "id": "DCarYIAB4afS",
        "outputId": "d0646d72-b5bc-4139-f490-2480895571b5"
      },
      "outputs": [
        {
          "data": {
            "text/plain": [
              "[< toff3_chain| Approximate | loss: 1.1920928955078125e-07  | CZ count: 8 | CZ depth: 8  >,\n",
              " < toff3_chain| Approximate | loss: 0.0  | CZ count: 8 | CZ depth: 8  >,\n",
              " < toff3_chain| Approximate | loss: 3.5762786865234375e-07  | CZ count: 9 | CZ depth: 9  >,\n",
              " < toff3_chain| Approximate | loss: 0.0  | CZ count: 9 | CZ depth: 9  >,\n",
              " < toff3_chain| Approximate | loss: 0.0  | CZ count: 9 | CZ depth: 9  >]"
            ]
          },
          "execution_count": 27,
          "metadata": {},
          "output_type": "execute_result"
        }
      ],
      "source": [
        "results.decompositions"
      ]
    },
    {
      "cell_type": "markdown",
      "metadata": {
        "id": "L0T1TrUd45oZ"
      },
      "source": [
        "Let us take a closer look at the first decomposition."
      ]
    },
    {
      "cell_type": "code",
      "execution_count": null,
      "metadata": {
        "colab": {
          "base_uri": "https://localhost:8080/",
          "height": 334
        },
        "id": "yaMNzYx94yk-",
        "outputId": "5137df79-0540-43a4-fe41-f84aa595816b"
      },
      "outputs": [
        {
          "name": "stdout",
          "output_type": "stream",
          "text": [
            "< toff3_chain| Approximate | loss: 1.1920928955078125e-07  | CZ count: 8 | CZ depth: 8  >\n"
          ]
        },
        {
          "data": {
            "image/png": "[encoded data removed]",
            "text/plain": [
              "<Figure size 1591.6x445.48 with 1 Axes>"
            ]
          },
          "execution_count": 28,
          "metadata": {},
          "output_type": "execute_result"
        }
      ],
      "source": [
        "d = results.decompositions[0]\n",
        "print(d)\n",
        "d.circuit.draw(output='mpl')"
      ]
    },
    {
      "cell_type": "markdown",
      "metadata": {
        "id": "P-DRuXZh5FCg"
      },
      "source": [
        "We can see explicitly that it complies with the linear connectivity and has 8 CZ gates. The `loss` value here is the Hilbert-Schmidt distance to the target unitary and is basically within machine precision. `Approximate` means that the decomposition is a result of straightforward numerical optimization. Looking at the angles in the circuit it is tempting to simplify/remove some of them. CPFlow has an experimental automated routine to do this."
      ]
    },
    {
      "cell_type": "code",
      "execution_count": null,
      "metadata": {
        "colab": {
          "base_uri": "https://localhost:8080/",
          "height": 36
        },
        "id": "zzLISEOO6Ss6",
        "outputId": "4592b229-57b2-41a8-f985-18d94621beeb"
      },
      "outputs": [
        {
          "data": {
            "application/vnd.google.colaboratory.intrinsic+json": {
              "type": "string"
            },
            "text/plain": [
              "'Refined to Clifford+T'"
            ]
          },
          "execution_count": 29,
          "metadata": {},
          "output_type": "execute_result"
        }
      ],
      "source": [
        "d.refine()"
      ]
    },
    {
      "cell_type": "markdown",
      "metadata": {
        "id": "aZLO1HkZ6iMP"
      },
      "source": [
        "In this case the routine was able to find an exact version of the circuit and decompose it into a Clifford+T basis. This is reflected in a new description of the circuit which now also features T count and T depth. This can also be checked by looking at the new circuit diagram (rotation gates with angles $\\pi/4$ are non-clifford)."
      ]
    },
    {
      "cell_type": "code",
      "execution_count": null,
      "metadata": {
        "colab": {
          "base_uri": "https://localhost:8080/",
          "height": 194
        },
        "id": "XUPUivkc6cp2",
        "outputId": "ce088471-fad6-4148-d728-3b5db6b6eebf"
      },
      "outputs": [
        {
          "name": "stdout",
          "output_type": "stream",
          "text": [
            "< toff3_chain| Clifford+T | loss: 1.1920928955078125e-07  | CZ count: 8 | CZ depth: 8  | T count: 7 | T depth: 4 >\n"
          ]
        },
        {
          "data": {
            "image/png": "[encoded data removed]",
            "text/plain": [
              "<Figure size 1471.2x204.68 with 1 Axes>"
            ]
          },
          "execution_count": 31,
          "metadata": {},
          "output_type": "execute_result"
        }
      ],
      "source": [
        "print(d)\n",
        "d.circuit.draw(output='mpl')"
      ]
    },
    {
      "cell_type": "markdown",
      "metadata": {
        "id": "Vm901vUsKPnF"
      },
      "source": [
        "## Saving and loading results"
      ]
    },
    {
      "cell_type": "markdown",
      "metadata": {
        "id": "5yBciHD58S5a"
      },
      "source": [
        "The results are __automatically__ saved if you prodived a label with your decomposition. The default location is `results/label` but it can be ovewritten by providing `save_to` path in the decomposer call `decomposer.static(options, save_to=path)`. Note: if you've applied `refine` method to some of the decompositions the refined results are not saved by default. To save you can "
      ]
    },
    {
      "cell_type": "code",
      "execution_count": null,
      "metadata": {
        "id": "GQkIz9Nv9IEV"
      },
      "outputs": [],
      "source": [
        "results.save()"
      ]
    },
    {
      "cell_type": "markdown",
      "metadata": {
        "id": "kbns4tSS9MpC"
      },
      "source": [
        "Existing results can be loaded as follows."
      ]
    },
    {
      "cell_type": "code",
      "execution_count": null,
      "metadata": {
        "colab": {
          "base_uri": "https://localhost:8080/"
        },
        "id": "n1LnwxCs9RGp",
        "outputId": "d1e43dad-658e-4245-ca3f-efe323aa57eb"
      },
      "outputs": [
        {
          "data": {
            "text/plain": [
              "[< toff3_chain| Approximate | loss: 1.1920928955078125e-07  | CZ count: 8 | CZ depth: 8  >,\n",
              " < toff3_chain| Approximate | loss: 0.0  | CZ count: 8 | CZ depth: 8  >,\n",
              " < toff3_chain| Approximate | loss: 3.5762786865234375e-07  | CZ count: 9 | CZ depth: 9  >,\n",
              " < toff3_chain| Approximate | loss: 0.0  | CZ count: 9 | CZ depth: 9  >,\n",
              " < toff3_chain| Approximate | loss: 0.0  | CZ count: 9 | CZ depth: 9  >]"
            ]
          },
          "execution_count": 33,
          "metadata": {},
          "output_type": "execute_result"
        }
      ],
      "source": [
        "del results\n",
        "results = Results.load('results/toff3_chain')\n",
        "results.decompositions"
      ]
    },
    {
      "cell_type": "markdown",
      "metadata": {
        "id": "o2KX9xsNJWnY"
      },
      "source": [
        "# Adaptive synthesis example: decomposition of 4q Toffoli gate"
      ]
    },
    {
      "cell_type": "markdown",
      "metadata": {
        "id": "LQ99ynjIyO51"
      },
      "source": [
        "## Hyperparameters"
      ]
    },
    {
      "cell_type": "markdown",
      "metadata": {
        "id": "G2_JeqWRxqBN"
      },
      "source": [
        "The static routine that we used above has several hyperparameters that can significantly alter the results. Two of the most crucial appear to be the number of gates in a CP template and the regularization weight $r$. Adaptive routine uses Hyperopt's algorithm to tune these hyperparameters and stores interesting decompositions found along the way. We will illustrate the adaptive routine with the 4q Toffoli gate on a 'star'-shaped topology. "
      ]
    },
    {
      "cell_type": "markdown",
      "metadata": {
        "id": "anADbmRAyV9q"
      },
      "source": [
        "## Defining the target unitary"
      ]
    },
    {
      "cell_type": "markdown",
      "metadata": {
        "id": "MJ9PRHAWybev"
      },
      "source": [
        "Again, we will define the target unitary using `qiskit`."
      ]
    },
    {
      "cell_type": "code",
      "execution_count": null,
      "metadata": {
        "colab": {
          "base_uri": "https://localhost:8080/",
          "height": 231
        },
        "id": "FApZoKxGyU5z",
        "outputId": "18b34215-9f9c-4aca-da6d-1deadff8084d"
      },
      "outputs": [
        {
          "data": {
            "image/png": "[encoded data removed]",
            "text/plain": [
              "<Figure size 146.797x264.88 with 1 Axes>"
            ]
          },
          "execution_count": 2,
          "metadata": {},
          "output_type": "execute_result"
        }
      ],
      "source": [
        "qc = QuantumCircuit(4)\n",
        "qc.mct([0, 1, 2], 3)\n",
        "u_toff4 = Operator(qc.reverse_bits()).data\n",
        "qc.draw(output='mpl')"
      ]
    },
    {
      "cell_type": "markdown",
      "metadata": {
        "id": "BP5FFhloy21P"
      },
      "source": [
        "## Setting up the decomposer"
      ]
    },
    {
      "cell_type": "markdown",
      "metadata": {
        "id": "pFoS1X-xzYub"
      },
      "source": [
        "Decomposer is set up in a very similar manner to the static case, except that now options must be an instance of the `AdaptiveOptions` class."
      ]
    },
    {
      "cell_type": "code",
      "execution_count": null,
      "metadata": {
        "id": "n-JbsyHZK3Wn"
      },
      "outputs": [],
      "source": [
        "layer = [[0, 1], [0, 2], [0, 3]]  # 'Star' or 'T-shaped' layer where qubits 1,2,3 are only connected to qubit 0.\n",
        "decomposer = Synthesize(layer, target_unitary=u_toff4, label='toff4_star')\n",
        "options = AdaptiveOptions(\n",
        "    min_num_cp_gates=10,\n",
        "    max_num_cp_gates=30,\n",
        "    r_mean=0.0005,  # Default value, speficied explicitly only for illustration.\n",
        "    r_variance=0.5,  # Default value, speficied explicitly only for illustration.\n",
        "    num_samples=500,\n",
        "    max_evals=5\n",
        ")"
      ]
    },
    {
      "cell_type": "markdown",
      "metadata": {
        "id": "d31TgMus3LZ-"
      },
      "source": [
        "Here `layer` again is intended to indicate the qubit connectivity. Adaptive options have only two required attributes: `min_num_cp_gates` and `max_num_cp_gates` specifying the allowed range for CP templates during the hyperparameter tuning. The second hyperparameter that is optimized is the regularization weight $r$ sampled from the lognormal distribution with mean `r_mean` and variance `r_variance`. We have explicitly set these parameters to their default values to emphasize that they are present. `num_samples` determines how many initial conditions are used for multi-start optimization at each hyperparmeter configuration. `max_evals` determines the total number of hyperparameter evaluations."
      ]
    },
    {
      "cell_type": "markdown",
      "metadata": {
        "id": "_gA38ocd5imq"
      },
      "source": [
        "## Running the decomposer"
      ]
    },
    {
      "cell_type": "markdown",
      "metadata": {
        "id": "KO5ie93t5lSH"
      },
      "source": [
        "Now that the setup is in place we can run the decomposer."
      ]
    },
    {
      "cell_type": "code",
      "execution_count": null,
      "metadata": {
        "colab": {
          "background_save": true,
          "base_uri": "https://localhost:8080/",
          "height": 917,
          "referenced_widgets": [
            "3dca25bddaf24fa48973a27c7fd8d475"
          ]
        },
        "id": "tsgnAQxh5hCi",
        "outputId": "11958e97-1449-452c-d6ef-35e56bd08d8a"
      },
      "outputs": [
        {
          "name": "stdout",
          "output_type": "stream",
          "text": [
            "\n",
            "Starting decomposition routine with the following options:\n",
            "\n",
            " AdaptiveOptions(num_samples=500, method='adam', learning_rate=0.1, num_gd_iterations=2000, cp_distribution='uniform', entry_loss=0.001, target_loss=1e-06, threshold_cp=0.2, learning_rate_at_verification=0.01, num_gd_iterations_at_verification=5000, random_seed=0, rotation_gates='xyz', min_num_cp_gates=10, max_num_cp_gates=30, r_mean=0.0005, r_variance=0.5, max_evals=5, target_num_cz_gates=0, stop_if_target_reached=False, keep_logs=False)\n"
          ]
        },
        {
          "data": {
            "application/vnd.jupyter.widget-view+json": {
              "model_id": "3dca25bddaf24fa48973a27c7fd8d475",
              "version_major": 2,
              "version_minor": 0
            },
            "text/plain": [
              "Evaluations:   0%|          | 0/5 [00:00<?, ?it/s]"
            ]
          },
          "metadata": {},
          "output_type": "display_data"
        },
        {
          "name": "stdout",
          "output_type": "stream",
          "text": [
            "\n",
            "------------------------------------------\n",
            "iteration 0/5\n",
            "\n",
            "num_cp_gates: 18, r: 0.0005069511389752133\n",
            "score: inf, cz counts of prospective results: []\n",
            "\n",
            "Found no decompositions potentially improving the current best count 61.\n",
            "\n",
            "------------------------------------------\n",
            "iteration 1/5\n",
            "\n",
            "num_cp_gates: 18, r: 0.00042233662661280336\n",
            "score: inf, cz counts of prospective results: []\n",
            "\n",
            "Found no decompositions potentially improving the current best count 61.\n",
            "\n",
            "------------------------------------------\n",
            "iteration 2/5\n",
            "\n",
            "num_cp_gates: 18, r: 0.0005889875866486171\n",
            "score: inf, cz counts of prospective results: []\n",
            "\n",
            "Found no decompositions potentially improving the current best count 61.\n",
            "\n",
            "------------------------------------------\n",
            "iteration 3/5\n",
            "\n",
            "num_cp_gates: 11, r: 0.0019248510669024055\n",
            "score: inf, cz counts of prospective results: []\n",
            "\n",
            "Found no decompositions potentially improving the current best count 61.\n",
            "\n",
            "------------------------------------------\n",
            "iteration 4/5\n",
            "\n",
            "num_cp_gates: 27, r: 0.0008816951698088887\n",
            "score: 24.84085464477539, cz counts of prospective results: [18, 19, 19, 20, 20, 21, 21, 21, 21, 21, 21, 21, 21, 21, 22, 22, 22, 22, 22, 22, 22, 23, 23, 23, 23, 23, 24, 24, 24, 24, 24, 24, 24, 25, 25, 25, 26, 26, 27, 30, 30]\n",
            "\n",
            "Found 41 decompositions potentially improving the current best count 61, verifying...\n",
            "\n",
            "Found a new decomposition with 18 gates.\n"
          ]
        }
      ],
      "source": [
        "results = decomposer.adaptive(options)"
      ]
    },
    {
      "cell_type": "markdown",
      "source": [
        "So, in the first few iteration the adaptive routine found a decomposition with 18 gates. Let us take a look at it."
      ],
      "metadata": {
        "id": "9lbixgYmDmXr"
      }
    },
    {
      "cell_type": "code",
      "execution_count": 5,
      "metadata": {
        "id": "w5TRKyGDzj6Q",
        "colab": {
          "base_uri": "https://localhost:8080/",
          "height": 791
        },
        "outputId": "c00c848f-b7b4-4efb-f4ed-f6d64e1e31d9"
      },
      "outputs": [
        {
          "output_type": "stream",
          "name": "stdout",
          "text": [
            "< toff4_star| Approximate | loss: 0.0  | CZ count: 18 | CZ depth: 18  >\n"
          ]
        },
        {
          "output_type": "execute_result",
          "data": {
            "text/plain": [
              "<Figure size 1591.6x1167.88 with 1 Axes>"
            ],
            "image/png": "[encoded data removed]"
          },
          "metadata": {},
          "execution_count": 5
        }
      ],
      "source": [
        "d = results.decompositions[-1]\n",
        "print(d)\n",
        "d.circuit.draw(output='mpl')"
      ]
    },
    {
      "cell_type": "markdown",
      "source": [
        "We can see explicitly from the circuit that it complies with the topological restrictions (all two-qubit gates start at qubit 0). The best decomposition of the 4q Toffoli gate on the star topology has 16 CZ gates. To keep searching for better results we can just change the number of `max_evals` and run the synthesis again. The existing evaluations are automatically taken into account and the process continues with the next evaluation.\n",
        "\n",
        "_(NOTE: first 20 hyperparameter evaluations are random and inteded to sample broadly from the search space. Actual optimization starts after that. If `num_samples` is sifficiently large to accurately evaluate the quality of hyperparameters (which is a stochastic function) convergence could be expected near about 100 evaluations. However, near-optimal or optimal decompositions are likely to be found much earlier. As we saw, a near-optimal 18 CZ decomposition was found during the first 5 evaluations)_"
      ],
      "metadata": {
        "id": "SA7qN8YsD5V7"
      }
    },
    {
      "cell_type": "code",
      "source": [
        "options.max_evals = 20\n",
        "results = decomposer.adaptive(options)"
      ],
      "metadata": {
        "colab": {
          "base_uri": "https://localhost:8080/",
          "height": 862,
          "referenced_widgets": [
            "d4e1dc77b974468a8384a4327479612a",
            "8fbd66f1a24e446eb93936d93304daea",
            "5a7d6146f03e46b99afd6f04e7c19c1e",
            "7a89c175c0b248be865bf37e8f356268",
            "593227645a3945b3a57f930e9804689f",
            "272690fa3cba41928ccf7a8c6329e881",
            "6066b24debf04d958fdfc9b200eb1c42",
            "48efaf18cf564326b0b1e9c44ac0742c",
            "8f442d5980414bdbaf7a5499ba8664ba",
            "517bbc60948a44a493315681b9aea287",
            "2ff629ebb2094781abbc9035c7f9e5e8"
          ]
        },
        "id": "x4qb_1dQFfDM",
        "outputId": "e919474a-afa0-4188-be6f-955b1d127bec"
      },
      "execution_count": null,
      "outputs": [
        {
          "output_type": "stream",
          "name": "stdout",
          "text": [
            "\n",
            "Starting decomposition routine with the following options:\n",
            "\n",
            " AdaptiveOptions(num_samples=500, method='adam', learning_rate=0.1, num_gd_iterations=2000, cp_distribution='uniform', entry_loss=0.001, target_loss=1e-06, threshold_cp=0.2, learning_rate_at_verification=0.01, num_gd_iterations_at_verification=5000, random_seed=0, rotation_gates='xyz', min_num_cp_gates=10, max_num_cp_gates=30, r_mean=0.0005, r_variance=0.5, max_evals=20, target_num_cz_gates=0, stop_if_target_reached=False, keep_logs=False)\n",
            "\n",
            "Found existing trials, resuming from here.\n"
          ]
        },
        {
          "output_type": "display_data",
          "data": {
            "text/plain": [
              "Evaluations:   0%|          | 0/15 [00:00<?, ?it/s]"
            ],
            "application/vnd.jupyter.widget-view+json": {
              "version_major": 2,
              "version_minor": 0,
              "model_id": "d4e1dc77b974468a8384a4327479612a"
            }
          },
          "metadata": {}
        },
        {
          "output_type": "stream",
          "name": "stdout",
          "text": [
            "\n",
            "------------------------------------------\n",
            "iteration 5/20\n",
            "\n",
            "num_cp_gates: 25, r: 0.0011866360100009831\n",
            "score: 25.387413024902344, cz counts of prospective results: [18, 18, 20, 20, 21, 21, 22, 22, 22, 23, 25, 25, 27]\n",
            "\n",
            "Found no decompositions potentially improving the current best count 18.\n",
            "\n",
            "------------------------------------------\n",
            "iteration 6/20\n",
            "\n",
            "num_cp_gates: 21, r: 0.0008162760956025106\n",
            "score: 29.965784072875977, cz counts of prospective results: [22, 22]\n",
            "\n",
            "Found no decompositions potentially improving the current best count 18.\n",
            "\n",
            "------------------------------------------\n",
            "iteration 7/20\n",
            "\n",
            "num_cp_gates: 22, r: 0.0003687679260635769\n",
            "score: 29.71785545349121, cz counts of prospective results: [21, 24, 25]\n",
            "\n",
            "Found no decompositions potentially improving the current best count 18.\n",
            "\n",
            "------------------------------------------\n",
            "iteration 8/20\n",
            "\n",
            "num_cp_gates: 16, r: 0.0008425086752551032\n",
            "score: inf, cz counts of prospective results: []\n",
            "\n",
            "Found no decompositions potentially improving the current best count 18.\n",
            "\n",
            "------------------------------------------\n",
            "iteration 9/20\n",
            "\n",
            "num_cp_gates: 21, r: 0.0005524807951969632\n"
          ]
        }
      ]
    },
    {
      "cell_type": "markdown",
      "metadata": {
        "id": "z8H8QzSxK4Rl"
      },
      "source": [
        "# Using custom loss functions: state preparation and relative phase Toffoli gate"
      ]
    },
    {
      "cell_type": "code",
      "execution_count": null,
      "metadata": {
        "id": "ut0DXEFRLYy-"
      },
      "outputs": [],
      "source": [
        ""
      ]
    },
    {
      "cell_type": "markdown",
      "metadata": {
        "id": "B3K9azoILOOz"
      },
      "source": [
        "# Extra features"
      ]
    },
    {
      "cell_type": "markdown",
      "source": [
        "## Optimizing CZ depth or other metrics"
      ],
      "metadata": {
        "id": "m8o0YbBLGv0O"
      }
    },
    {
      "cell_type": "markdown",
      "source": [
        "## Reproducibility"
      ],
      "metadata": {
        "id": "WEYCJq7ZG3VG"
      }
    },
    {
      "cell_type": "markdown",
      "source": [
        "## Tweaking templates"
      ],
      "metadata": {
        "id": "a9rak5-MHDGo"
      }
    }
  ],
  "metadata": {
    "accelerator": "GPU",
    "colab": {
      "collapsed_sections": [
        "kecbcU2wv9mx",
        "Vm901vUsKPnF",
        "z8H8QzSxK4Rl"
      ],
      "name": "CPFlow tutorial.ipynb",
      "toc_visible": true,
      "provenance": [],
      "authorship_tag": "ABX9TyN/DHJcJ6h8/Y03XcIU1sds",
      "include_colab_link": true
    },
    "kernelspec": {
      "display_name": "Python 3",
      "name": "python3"
    },
    "language_info": {
      "name": "python"
    },
    "widgets": {
      "application/vnd.jupyter.widget-state+json": {
        "2082aa8e3d71403fb20a3e15979a3ee5": {
          "model_module": "@jupyter-widgets/base",
          "model_module_version": "1.2.0",
          "model_name": "LayoutModel",
          "state": {
            "_model_module": "@jupyter-widgets/base",
            "_model_module_version": "1.2.0",
            "_model_name": "LayoutModel",
            "_view_count": null,
            "_view_module": "@jupyter-widgets/base",
            "_view_module_version": "1.2.0",
            "_view_name": "LayoutView",
            "align_content": null,
            "align_items": null,
            "align_self": null,
            "border": null,
            "bottom": null,
            "display": null,
            "flex": null,
            "flex_flow": null,
            "grid_area": null,
            "grid_auto_columns": null,
            "grid_auto_flow": null,
            "grid_auto_rows": null,
            "grid_column": null,
            "grid_gap": null,
            "grid_row": null,
            "grid_template_areas": null,
            "grid_template_columns": null,
            "grid_template_rows": null,
            "height": null,
            "justify_content": null,
            "justify_items": null,
            "left": null,
            "margin": null,
            "max_height": null,
            "max_width": null,
            "min_height": null,
            "min_width": null,
            "object_fit": null,
            "object_position": null,
            "order": null,
            "overflow": null,
            "overflow_x": null,
            "overflow_y": null,
            "padding": null,
            "right": null,
            "top": null,
            "visibility": null,
            "width": null
          }
        },
        "2d175d373e3643d99176cbb0ba3a0037": {
          "model_module": "@jupyter-widgets/controls",
          "model_module_version": "1.5.0",
          "model_name": "FloatProgressModel",
          "state": {
            "_dom_classes": [],
            "_model_module": "@jupyter-widgets/controls",
            "_model_module_version": "1.5.0",
            "_model_name": "FloatProgressModel",
            "_view_count": null,
            "_view_module": "@jupyter-widgets/controls",
            "_view_module_version": "1.5.0",
            "_view_name": "ProgressView",
            "bar_style": "success",
            "description": "",
            "description_tooltip": null,
            "layout": "IPY_MODEL_4460aff22afb42abbbce1c1bf267ef00",
            "max": 5,
            "min": 0,
            "orientation": "horizontal",
            "style": "IPY_MODEL_82c5ff1a37034c7fbf65579aed4b7867",
            "value": 5
          }
        },
        "37b32b21d5104a829186f8ef886cbf6b": {
          "model_module": "@jupyter-widgets/controls",
          "model_module_version": "1.5.0",
          "model_name": "HTMLModel",
          "state": {
            "_dom_classes": [],
            "_model_module": "@jupyter-widgets/controls",
            "_model_module_version": "1.5.0",
            "_model_name": "HTMLModel",
            "_view_count": null,
            "_view_module": "@jupyter-widgets/controls",
            "_view_module_version": "1.5.0",
            "_view_name": "HTMLView",
            "description": "",
            "description_tooltip": null,
            "layout": "IPY_MODEL_3cc6df25fa04432e94cdce93e350fdb4",
            "placeholder": "​",
            "style": "IPY_MODEL_7c53c140b96a4366b30069c524b96585",
            "value": "100%"
          }
        },
        "3cc6df25fa04432e94cdce93e350fdb4": {
          "model_module": "@jupyter-widgets/base",
          "model_module_version": "1.2.0",
          "model_name": "LayoutModel",
          "state": {
            "_model_module": "@jupyter-widgets/base",
            "_model_module_version": "1.2.0",
            "_model_name": "LayoutModel",
            "_view_count": null,
            "_view_module": "@jupyter-widgets/base",
            "_view_module_version": "1.2.0",
            "_view_name": "LayoutView",
            "align_content": null,
            "align_items": null,
            "align_self": null,
            "border": null,
            "bottom": null,
            "display": null,
            "flex": null,
            "flex_flow": null,
            "grid_area": null,
            "grid_auto_columns": null,
            "grid_auto_flow": null,
            "grid_auto_rows": null,
            "grid_column": null,
            "grid_gap": null,
            "grid_row": null,
            "grid_template_areas": null,
            "grid_template_columns": null,
            "grid_template_rows": null,
            "height": null,
            "justify_content": null,
            "justify_items": null,
            "left": null,
            "margin": null,
            "max_height": null,
            "max_width": null,
            "min_height": null,
            "min_width": null,
            "object_fit": null,
            "object_position": null,
            "order": null,
            "overflow": null,
            "overflow_x": null,
            "overflow_y": null,
            "padding": null,
            "right": null,
            "top": null,
            "visibility": null,
            "width": null
          }
        },
        "4460aff22afb42abbbce1c1bf267ef00": {
          "model_module": "@jupyter-widgets/base",
          "model_module_version": "1.2.0",
          "model_name": "LayoutModel",
          "state": {
            "_model_module": "@jupyter-widgets/base",
            "_model_module_version": "1.2.0",
            "_model_name": "LayoutModel",
            "_view_count": null,
            "_view_module": "@jupyter-widgets/base",
            "_view_module_version": "1.2.0",
            "_view_name": "LayoutView",
            "align_content": null,
            "align_items": null,
            "align_self": null,
            "border": null,
            "bottom": null,
            "display": null,
            "flex": null,
            "flex_flow": null,
            "grid_area": null,
            "grid_auto_columns": null,
            "grid_auto_flow": null,
            "grid_auto_rows": null,
            "grid_column": null,
            "grid_gap": null,
            "grid_row": null,
            "grid_template_areas": null,
            "grid_template_columns": null,
            "grid_template_rows": null,
            "height": null,
            "justify_content": null,
            "justify_items": null,
            "left": null,
            "margin": null,
            "max_height": null,
            "max_width": null,
            "min_height": null,
            "min_width": null,
            "object_fit": null,
            "object_position": null,
            "order": null,
            "overflow": null,
            "overflow_x": null,
            "overflow_y": null,
            "padding": null,
            "right": null,
            "top": null,
            "visibility": null,
            "width": null
          }
        },
        "60709c1b8b23476bb6cb36c4207f724c": {
          "model_module": "@jupyter-widgets/base",
          "model_module_version": "1.2.0",
          "model_name": "LayoutModel",
          "state": {
            "_model_module": "@jupyter-widgets/base",
            "_model_module_version": "1.2.0",
            "_model_name": "LayoutModel",
            "_view_count": null,
            "_view_module": "@jupyter-widgets/base",
            "_view_module_version": "1.2.0",
            "_view_name": "LayoutView",
            "align_content": null,
            "align_items": null,
            "align_self": null,
            "border": null,
            "bottom": null,
            "display": null,
            "flex": null,
            "flex_flow": null,
            "grid_area": null,
            "grid_auto_columns": null,
            "grid_auto_flow": null,
            "grid_auto_rows": null,
            "grid_column": null,
            "grid_gap": null,
            "grid_row": null,
            "grid_template_areas": null,
            "grid_template_columns": null,
            "grid_template_rows": null,
            "height": null,
            "justify_content": null,
            "justify_items": null,
            "left": null,
            "margin": null,
            "max_height": null,
            "max_width": null,
            "min_height": null,
            "min_width": null,
            "object_fit": null,
            "object_position": null,
            "order": null,
            "overflow": null,
            "overflow_x": null,
            "overflow_y": null,
            "padding": null,
            "right": null,
            "top": null,
            "visibility": null,
            "width": null
          }
        },
        "6380cf31b0a1454abd4bb690d7a4e0bb": {
          "model_module": "@jupyter-widgets/controls",
          "model_module_version": "1.5.0",
          "model_name": "DescriptionStyleModel",
          "state": {
            "_model_module": "@jupyter-widgets/controls",
            "_model_module_version": "1.5.0",
            "_model_name": "DescriptionStyleModel",
            "_view_count": null,
            "_view_module": "@jupyter-widgets/base",
            "_view_module_version": "1.2.0",
            "_view_name": "StyleView",
            "description_width": ""
          }
        },
        "7c53c140b96a4366b30069c524b96585": {
          "model_module": "@jupyter-widgets/controls",
          "model_module_version": "1.5.0",
          "model_name": "DescriptionStyleModel",
          "state": {
            "_model_module": "@jupyter-widgets/controls",
            "_model_module_version": "1.5.0",
            "_model_name": "DescriptionStyleModel",
            "_view_count": null,
            "_view_module": "@jupyter-widgets/base",
            "_view_module_version": "1.2.0",
            "_view_name": "StyleView",
            "description_width": ""
          }
        },
        "82c5ff1a37034c7fbf65579aed4b7867": {
          "model_module": "@jupyter-widgets/controls",
          "model_module_version": "1.5.0",
          "model_name": "ProgressStyleModel",
          "state": {
            "_model_module": "@jupyter-widgets/controls",
            "_model_module_version": "1.5.0",
            "_model_name": "ProgressStyleModel",
            "_view_count": null,
            "_view_module": "@jupyter-widgets/base",
            "_view_module_version": "1.2.0",
            "_view_name": "StyleView",
            "bar_color": null,
            "description_width": ""
          }
        },
        "d73a4821214a4dc5b90e48a193e3c508": {
          "model_module": "@jupyter-widgets/controls",
          "model_module_version": "1.5.0",
          "model_name": "HBoxModel",
          "state": {
            "_dom_classes": [],
            "_model_module": "@jupyter-widgets/controls",
            "_model_module_version": "1.5.0",
            "_model_name": "HBoxModel",
            "_view_count": null,
            "_view_module": "@jupyter-widgets/controls",
            "_view_module_version": "1.5.0",
            "_view_name": "HBoxView",
            "box_style": "",
            "children": [
              "IPY_MODEL_37b32b21d5104a829186f8ef886cbf6b",
              "IPY_MODEL_2d175d373e3643d99176cbb0ba3a0037",
              "IPY_MODEL_f19fea2948524473bbf8541aea2316d4"
            ],
            "layout": "IPY_MODEL_2082aa8e3d71403fb20a3e15979a3ee5"
          }
        },
        "f19fea2948524473bbf8541aea2316d4": {
          "model_module": "@jupyter-widgets/controls",
          "model_module_version": "1.5.0",
          "model_name": "HTMLModel",
          "state": {
            "_dom_classes": [],
            "_model_module": "@jupyter-widgets/controls",
            "_model_module_version": "1.5.0",
            "_model_name": "HTMLModel",
            "_view_count": null,
            "_view_module": "@jupyter-widgets/controls",
            "_view_module_version": "1.5.0",
            "_view_name": "HTMLView",
            "description": "",
            "description_tooltip": null,
            "layout": "IPY_MODEL_60709c1b8b23476bb6cb36c4207f724c",
            "placeholder": "​",
            "style": "IPY_MODEL_6380cf31b0a1454abd4bb690d7a4e0bb",
            "value": " 5/5 [00:41&lt;00:00,  8.35s/it]"
          }
        },
        "d4e1dc77b974468a8384a4327479612a": {
          "model_module": "@jupyter-widgets/controls",
          "model_name": "HBoxModel",
          "model_module_version": "1.5.0",
          "state": {
            "_dom_classes": [],
            "_model_module": "@jupyter-widgets/controls",
            "_model_module_version": "1.5.0",
            "_model_name": "HBoxModel",
            "_view_count": null,
            "_view_module": "@jupyter-widgets/controls",
            "_view_module_version": "1.5.0",
            "_view_name": "HBoxView",
            "box_style": "",
            "children": [
              "IPY_MODEL_8fbd66f1a24e446eb93936d93304daea",
              "IPY_MODEL_5a7d6146f03e46b99afd6f04e7c19c1e",
              "IPY_MODEL_7a89c175c0b248be865bf37e8f356268"
            ],
            "layout": "IPY_MODEL_593227645a3945b3a57f930e9804689f"
          }
        },
        "8fbd66f1a24e446eb93936d93304daea": {
          "model_module": "@jupyter-widgets/controls",
          "model_name": "HTMLModel",
          "model_module_version": "1.5.0",
          "state": {
            "_dom_classes": [],
            "_model_module": "@jupyter-widgets/controls",
            "_model_module_version": "1.5.0",
            "_model_name": "HTMLModel",
            "_view_count": null,
            "_view_module": "@jupyter-widgets/controls",
            "_view_module_version": "1.5.0",
            "_view_name": "HTMLView",
            "description": "",
            "description_tooltip": null,
            "layout": "IPY_MODEL_272690fa3cba41928ccf7a8c6329e881",
            "placeholder": "​",
            "style": "IPY_MODEL_6066b24debf04d958fdfc9b200eb1c42",
            "value": "Evaluations:  27%"
          }
        },
        "5a7d6146f03e46b99afd6f04e7c19c1e": {
          "model_module": "@jupyter-widgets/controls",
          "model_name": "FloatProgressModel",
          "model_module_version": "1.5.0",
          "state": {
            "_dom_classes": [],
            "_model_module": "@jupyter-widgets/controls",
            "_model_module_version": "1.5.0",
            "_model_name": "FloatProgressModel",
            "_view_count": null,
            "_view_module": "@jupyter-widgets/controls",
            "_view_module_version": "1.5.0",
            "_view_name": "ProgressView",
            "bar_style": "",
            "description": "",
            "description_tooltip": null,
            "layout": "IPY_MODEL_48efaf18cf564326b0b1e9c44ac0742c",
            "max": 15,
            "min": 0,
            "orientation": "horizontal",
            "style": "IPY_MODEL_8f442d5980414bdbaf7a5499ba8664ba",
            "value": 4
          }
        },
        "7a89c175c0b248be865bf37e8f356268": {
          "model_module": "@jupyter-widgets/controls",
          "model_name": "HTMLModel",
          "model_module_version": "1.5.0",
          "state": {
            "_dom_classes": [],
            "_model_module": "@jupyter-widgets/controls",
            "_model_module_version": "1.5.0",
            "_model_name": "HTMLModel",
            "_view_count": null,
            "_view_module": "@jupyter-widgets/controls",
            "_view_module_version": "1.5.0",
            "_view_name": "HTMLView",
            "description": "",
            "description_tooltip": null,
            "layout": "IPY_MODEL_517bbc60948a44a493315681b9aea287",
            "placeholder": "​",
            "style": "IPY_MODEL_2ff629ebb2094781abbc9035c7f9e5e8",
            "value": " 4/15 [11:32&lt;30:32, 166.58s/it]"
          }
        },
        "593227645a3945b3a57f930e9804689f": {
          "model_module": "@jupyter-widgets/base",
          "model_name": "LayoutModel",
          "model_module_version": "1.2.0",
          "state": {
            "_model_module": "@jupyter-widgets/base",
            "_model_module_version": "1.2.0",
            "_model_name": "LayoutModel",
            "_view_count": null,
            "_view_module": "@jupyter-widgets/base",
            "_view_module_version": "1.2.0",
            "_view_name": "LayoutView",
            "align_content": null,
            "align_items": null,
            "align_self": null,
            "border": null,
            "bottom": null,
            "display": null,
            "flex": null,
            "flex_flow": null,
            "grid_area": null,
            "grid_auto_columns": null,
            "grid_auto_flow": null,
            "grid_auto_rows": null,
            "grid_column": null,
            "grid_gap": null,
            "grid_row": null,
            "grid_template_areas": null,
            "grid_template_columns": null,
            "grid_template_rows": null,
            "height": null,
            "justify_content": null,
            "justify_items": null,
            "left": null,
            "margin": null,
            "max_height": null,
            "max_width": null,
            "min_height": null,
            "min_width": null,
            "object_fit": null,
            "object_position": null,
            "order": null,
            "overflow": null,
            "overflow_x": null,
            "overflow_y": null,
            "padding": null,
            "right": null,
            "top": null,
            "visibility": null,
            "width": null
          }
        },
        "272690fa3cba41928ccf7a8c6329e881": {
          "model_module": "@jupyter-widgets/base",
          "model_name": "LayoutModel",
          "model_module_version": "1.2.0",
          "state": {
            "_model_module": "@jupyter-widgets/base",
            "_model_module_version": "1.2.0",
            "_model_name": "LayoutModel",
            "_view_count": null,
            "_view_module": "@jupyter-widgets/base",
            "_view_module_version": "1.2.0",
            "_view_name": "LayoutView",
            "align_content": null,
            "align_items": null,
            "align_self": null,
            "border": null,
            "bottom": null,
            "display": null,
            "flex": null,
            "flex_flow": null,
            "grid_area": null,
            "grid_auto_columns": null,
            "grid_auto_flow": null,
            "grid_auto_rows": null,
            "grid_column": null,
            "grid_gap": null,
            "grid_row": null,
            "grid_template_areas": null,
            "grid_template_columns": null,
            "grid_template_rows": null,
            "height": null,
            "justify_content": null,
            "justify_items": null,
            "left": null,
            "margin": null,
            "max_height": null,
            "max_width": null,
            "min_height": null,
            "min_width": null,
            "object_fit": null,
            "object_position": null,
            "order": null,
            "overflow": null,
            "overflow_x": null,
            "overflow_y": null,
            "padding": null,
            "right": null,
            "top": null,
            "visibility": null,
            "width": null
          }
        },
        "6066b24debf04d958fdfc9b200eb1c42": {
          "model_module": "@jupyter-widgets/controls",
          "model_name": "DescriptionStyleModel",
          "model_module_version": "1.5.0",
          "state": {
            "_model_module": "@jupyter-widgets/controls",
            "_model_module_version": "1.5.0",
            "_model_name": "DescriptionStyleModel",
            "_view_count": null,
            "_view_module": "@jupyter-widgets/base",
            "_view_module_version": "1.2.0",
            "_view_name": "StyleView",
            "description_width": ""
          }
        },
        "48efaf18cf564326b0b1e9c44ac0742c": {
          "model_module": "@jupyter-widgets/base",
          "model_name": "LayoutModel",
          "model_module_version": "1.2.0",
          "state": {
            "_model_module": "@jupyter-widgets/base",
            "_model_module_version": "1.2.0",
            "_model_name": "LayoutModel",
            "_view_count": null,
            "_view_module": "@jupyter-widgets/base",
            "_view_module_version": "1.2.0",
            "_view_name": "LayoutView",
            "align_content": null,
            "align_items": null,
            "align_self": null,
            "border": null,
            "bottom": null,
            "display": null,
            "flex": null,
            "flex_flow": null,
            "grid_area": null,
            "grid_auto_columns": null,
            "grid_auto_flow": null,
            "grid_auto_rows": null,
            "grid_column": null,
            "grid_gap": null,
            "grid_row": null,
            "grid_template_areas": null,
            "grid_template_columns": null,
            "grid_template_rows": null,
            "height": null,
            "justify_content": null,
            "justify_items": null,
            "left": null,
            "margin": null,
            "max_height": null,
            "max_width": null,
            "min_height": null,
            "min_width": null,
            "object_fit": null,
            "object_position": null,
            "order": null,
            "overflow": null,
            "overflow_x": null,
            "overflow_y": null,
            "padding": null,
            "right": null,
            "top": null,
            "visibility": null,
            "width": null
          }
        },
        "8f442d5980414bdbaf7a5499ba8664ba": {
          "model_module": "@jupyter-widgets/controls",
          "model_name": "ProgressStyleModel",
          "model_module_version": "1.5.0",
          "state": {
            "_model_module": "@jupyter-widgets/controls",
            "_model_module_version": "1.5.0",
            "_model_name": "ProgressStyleModel",
            "_view_count": null,
            "_view_module": "@jupyter-widgets/base",
            "_view_module_version": "1.2.0",
            "_view_name": "StyleView",
            "bar_color": null,
            "description_width": ""
          }
        },
        "517bbc60948a44a493315681b9aea287": {
          "model_module": "@jupyter-widgets/base",
          "model_name": "LayoutModel",
          "model_module_version": "1.2.0",
          "state": {
            "_model_module": "@jupyter-widgets/base",
            "_model_module_version": "1.2.0",
            "_model_name": "LayoutModel",
            "_view_count": null,
            "_view_module": "@jupyter-widgets/base",
            "_view_module_version": "1.2.0",
            "_view_name": "LayoutView",
            "align_content": null,
            "align_items": null,
            "align_self": null,
            "border": null,
            "bottom": null,
            "display": null,
            "flex": null,
            "flex_flow": null,
            "grid_area": null,
            "grid_auto_columns": null,
            "grid_auto_flow": null,
            "grid_auto_rows": null,
            "grid_column": null,
            "grid_gap": null,
            "grid_row": null,
            "grid_template_areas": null,
            "grid_template_columns": null,
            "grid_template_rows": null,
            "height": null,
            "justify_content": null,
            "justify_items": null,
            "left": null,
            "margin": null,
            "max_height": null,
            "max_width": null,
            "min_height": null,
            "min_width": null,
            "object_fit": null,
            "object_position": null,
            "order": null,
            "overflow": null,
            "overflow_x": null,
            "overflow_y": null,
            "padding": null,
            "right": null,
            "top": null,
            "visibility": null,
            "width": null
          }
        },
        "2ff629ebb2094781abbc9035c7f9e5e8": {
          "model_module": "@jupyter-widgets/controls",
          "model_name": "DescriptionStyleModel",
          "model_module_version": "1.5.0",
          "state": {
            "_model_module": "@jupyter-widgets/controls",
            "_model_module_version": "1.5.0",
            "_model_name": "DescriptionStyleModel",
            "_view_count": null,
            "_view_module": "@jupyter-widgets/base",
            "_view_module_version": "1.2.0",
            "_view_name": "StyleView",
            "description_width": ""
          }
        }
      }
    }
  },
  "nbformat": 4,
  "nbformat_minor": 0
}