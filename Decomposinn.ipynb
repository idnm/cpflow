{
 "cells": [
  {
   "cell_type": "code",
   "execution_count": 1,
   "id": "1042721f-0714-4bea-b52d-c9163784f3f3",
   "metadata": {},
   "outputs": [
    {
     "name": "stderr",
     "output_type": "stream",
     "text": [
      "WARNING:absl:No GPU/TPU found, falling back to CPU. (Set TF_CPP_MIN_LOG_LEVEL=0 and rerun for more info.)\n"
     ]
    },
    {
     "data": {
      "text/plain": [
       "[<matplotlib.lines.Line2D at 0x7f5c6c332e50>]"
      ]
     },
     "execution_count": 1,
     "metadata": {},
     "output_type": "execute_result"
    },
    {
     "data": {
      "image/png": "[encoded data removed]",
      "text/plain": [
       "<Figure size 432x288 with 1 Axes>"
      ]
     },
     "metadata": {
      "needs_background": "light"
     },
     "output_type": "display_data"
    }
   ],
   "source": [
    "from jax_circuits import *\n",
    "from cp_utils import *\n",
    "from topology import *\n",
    "from scipy.stats import unitary_group\n",
    "\n",
    "import matplotlib.pyplot as plt\n",
    "\n",
    "u_target = unitary_group.rvs(4, random_state=0)\n",
    "d = Decompose(sequ_layer(2), u_target=u_target)\n",
    "sweep = jnp.linspace(0, 4*jnp.pi, 200)\n",
    "plt.plot(sweep, vmap(d.cp_regularization_func)(sweep))"
   ]
  },
  {
   "cell_type": "markdown",
   "id": "43a2133f-be1f-4e42-b538-731611ef7ec7",
   "metadata": {
    "tags": []
   },
   "source": [
    "# Chain Toffoli 3 with 7 gates up to a swap"
   ]
  },
  {
   "cell_type": "code",
   "execution_count": 85,
   "id": "6b1c682a-4321-4c58-b31d-0be28939b2aa",
   "metadata": {
    "collapsed": true,
    "jupyter": {
     "outputs_hidden": true
    },
    "tags": []
   },
   "outputs": [
    {
     "name": "stdout",
     "output_type": "stream",
     "text": [
      "\n",
      "Starting decomposition routine with the following options:\n",
      "\n",
      "Static:\n",
      "{'accepted_num_gates': 8,\n",
      " 'batch_size': 100,\n",
      " 'cp_dist': 'uniform',\n",
      " 'entry_loss': 0.001,\n",
      " 'learning_rate': 0.01,\n",
      " 'method': 'adam',\n",
      " 'num_gd_iterations': 2000,\n",
      " 'target_loss': 1e-06,\n",
      " 'threshold_cp': 0.2}\n",
      "\n",
      "Adaptive:\n",
      "{'evals_between_verification': 2,\n",
      " 'hyperopt_random_seed': 0,\n",
      " 'max_evals': 20,\n",
      " 'max_num_cp_gates': 12,\n",
      " 'min_num_cp_gates': 6,\n",
      " 'r_mean': 0.00055,\n",
      " 'r_variance': 0.5,\n",
      " 'stop_if_target_reached': False,\n",
      " 'target_num_gates': 7}\n",
      "\n",
      "\n"
     ]
    },
    {
     "name": "stderr",
     "output_type": "stream",
     "text": [
      "Epochs:   0%|                                                                                                                      | 0/10 [00:00<?, ?it/s]"
     ]
    },
    {
     "name": "stdout",
     "output_type": "stream",
     "text": [
      "\n",
      "  0%|                                                                                                               | 0/2 [00:00<?, ?trial/s, best loss=?]\u001b[A\n",
      " 50%|█████████████████████████████████████████▌                                         | 1/2 [00:33<00:33, 33.13s/trial, best loss: -0.02437499910593033]\u001b[A\n",
      "100%|██████████████████████████████████████████████████████████████████████████████████| 2/2 [01:08<00:00, 34.29s/trial, best loss: -0.048124998807907104]\u001b[A\n",
      "\n",
      "Found 36 decompositions potentially better than current best count 14, verifying...\n"
     ]
    },
    {
     "name": "stderr",
     "output_type": "stream",
     "text": [
      "Epochs:  10%|███████████                                                                                                   | 1/10 [01:25<12:49, 85.49s/it]"
     ]
    },
    {
     "name": "stdout",
     "output_type": "stream",
     "text": [
      "\n",
      "Found new decomposition with 8 gates.\n",
      "\n",
      "\n",
      " 50%|███████████████████████████████████████████████████████▌                                                       | 2/4 [00:00<?, ?trial/s, best loss=?]\u001b[A\n",
      " 75%|█████████████████████████████████████████████████████████████▌                    | 3/4 [00:32<00:32, 32.10s/trial, best loss: -0.048124998807907104]\u001b[A\n",
      "100%|██████████████████████████████████████████████████████████████████████████████████| 4/4 [01:02<00:00, 31.06s/trial, best loss: -0.054375000298023224]\u001b[A"
     ]
    },
    {
     "name": "stderr",
     "output_type": "stream",
     "text": [
      "Epochs:  20%|██████████████████████                                                                                        | 2/10 [02:27<09:34, 71.75s/it]"
     ]
    },
    {
     "name": "stdout",
     "output_type": "stream",
     "text": [
      "\n",
      "\n",
      "Found no better decompositions. Found 4 decompositions with the current best count 8.\n",
      "\n",
      " 67%|██████████████████████████████████████████████████████████████████████████                                     | 4/6 [00:00<?, ?trial/s, best loss=?]\u001b[A\n",
      " 83%|████████████████████████████████████████████████████████████████████▎             | 5/6 [00:31<00:31, 31.12s/trial, best loss: -0.054375000298023224]\u001b[A\n",
      "100%|███████████████████████████████████████████████████████████████████████████████████| 6/6 [00:59<00:00, 29.96s/trial, best loss: -0.08453124761581421]\u001b[A\n",
      "\n",
      "Found 5 decompositions potentially better than current best count 8, verifying...\n"
     ]
    },
    {
     "name": "stderr",
     "output_type": "stream",
     "text": [
      "Epochs:  30%|█████████████████████████████████                                                                             | 3/10 [03:42<08:32, 73.16s/it]"
     ]
    },
    {
     "name": "stdout",
     "output_type": "stream",
     "text": [
      "\n",
      "Found new decomposition with 7 gates.\n",
      "\n",
      "\n",
      " 75%|███████████████████████████████████████████████████████████████████████████████████▎                           | 6/8 [00:00<?, ?trial/s, best loss=?]\u001b[A\n",
      " 88%|████████████████████████████████████████████████████████████████████████▋          | 7/8 [00:35<00:35, 35.22s/trial, best loss: -0.08453124761581421]\u001b[A\n",
      "100%|███████████████████████████████████████████████████████████████████████████████████| 8/8 [01:04<00:00, 32.38s/trial, best loss: -0.08453124761581421]\u001b[A"
     ]
    },
    {
     "name": "stderr",
     "output_type": "stream",
     "text": [
      "Epochs:  40%|████████████████████████████████████████████                                                                  | 4/10 [04:47<06:59, 69.85s/it]"
     ]
    },
    {
     "name": "stdout",
     "output_type": "stream",
     "text": [
      "\n",
      "\n",
      "Found no better decompositions. Found 1 decompositions with the current best count 7.\n",
      "\n",
      " 80%|████████████████████████████████████████████████████████████████████████████████████████                      | 8/10 [00:00<?, ?trial/s, best loss=?]\u001b[A\n",
      " 90%|█████████████████████████████████████████████████████████████████████████▊        | 9/10 [00:29<00:29, 29.38s/trial, best loss: -0.08453124761581421]\u001b[A\n",
      "100%|█████████████████████████████████████████████████████████████████████████████████| 10/10 [00:56<00:00, 28.47s/trial, best loss: -0.08453124761581421]\u001b[A"
     ]
    },
    {
     "name": "stderr",
     "output_type": "stream",
     "text": [
      "Epochs:  50%|███████████████████████████████████████████████████████                                                       | 5/10 [05:44<05:26, 65.20s/it]"
     ]
    },
    {
     "name": "stdout",
     "output_type": "stream",
     "text": [
      "\n",
      "\n",
      "Found no better decompositions. Found 3 decompositions with the current best count 7.\n",
      "\n",
      " 83%|██████████████████████████████████████████████████████████████████████████████████████████▊                  | 10/12 [00:00<?, ?trial/s, best loss=?]\u001b[A\n",
      " 92%|██████████████████████████████████████████████████████████████████████████▎      | 11/12 [00:28<00:28, 28.48s/trial, best loss: -0.08453124761581421]\u001b[A\n",
      "100%|█████████████████████████████████████████████████████████████████████████████████| 12/12 [00:56<00:00, 28.11s/trial, best loss: -0.08453124761581421]\u001b[A"
     ]
    },
    {
     "name": "stderr",
     "output_type": "stream",
     "text": [
      "Epochs:  60%|██████████████████████████████████████████████████████████████████                                            | 6/10 [06:40<04:08, 62.16s/it]"
     ]
    },
    {
     "name": "stdout",
     "output_type": "stream",
     "text": [
      "\n",
      "\n",
      "Found no better decompositions. Found 0 decompositions with the current best count 7.\n",
      "\n",
      " 86%|█████████████████████████████████████████████████████████████████████████████████████████████▍               | 12/14 [00:00<?, ?trial/s, best loss=?]\u001b[A\n",
      " 93%|███████████████████████████████████████████████████████████████████████████▏     | 13/14 [00:35<00:35, 35.26s/trial, best loss: -0.08453124761581421]\u001b[A\n",
      "100%|█████████████████████████████████████████████████████████████████████████████████| 14/14 [01:03<00:00, 31.77s/trial, best loss: -0.09289062768220901]\u001b[A"
     ]
    },
    {
     "name": "stderr",
     "output_type": "stream",
     "text": [
      "Epochs:  70%|█████████████████████████████████████████████████████████████████████████████                                 | 7/10 [07:43<03:07, 62.61s/it]"
     ]
    },
    {
     "name": "stdout",
     "output_type": "stream",
     "text": [
      "\n",
      "\n",
      "Found no better decompositions. Found 4 decompositions with the current best count 7.\n",
      "\n",
      " 88%|███████████████████████████████████████████████████████████████████████████████████████████████▍             | 14/16 [00:00<?, ?trial/s, best loss=?]\u001b[A\n",
      " 94%|███████████████████████████████████████████████████████████████████████████▉     | 15/16 [00:30<00:30, 30.75s/trial, best loss: -0.09289062768220901]\u001b[A\n",
      "100%|█████████████████████████████████████████████████████████████████████████████████| 16/16 [01:01<00:00, 30.71s/trial, best loss: -0.09289062768220901]\u001b[A"
     ]
    },
    {
     "name": "stderr",
     "output_type": "stream",
     "text": [
      "Epochs:  80%|████████████████████████████████████████████████████████████████████████████████████████                      | 8/10 [08:45<02:04, 62.24s/it]"
     ]
    },
    {
     "name": "stdout",
     "output_type": "stream",
     "text": [
      "\n",
      "\n",
      "Found no better decompositions. Found 0 decompositions with the current best count 7.\n",
      "\n",
      " 89%|████████████████████████████████████████████████████████████████████████████████████████████████▉            | 16/18 [00:00<?, ?trial/s, best loss=?]\u001b[A\n",
      " 94%|████████████████████████████████████████████████████████████████████████████▌    | 17/18 [00:32<00:32, 32.05s/trial, best loss: -0.09289062768220901]\u001b[A\n",
      "100%|█████████████████████████████████████████████████████████████████████████████████| 18/18 [01:04<00:00, 32.22s/trial, best loss: -0.09289062768220901]\u001b[A"
     ]
    },
    {
     "name": "stderr",
     "output_type": "stream",
     "text": [
      "Epochs:  90%|███████████████████████████████████████████████████████████████████████████████████████████████████           | 9/10 [09:49<01:02, 62.93s/it]"
     ]
    },
    {
     "name": "stdout",
     "output_type": "stream",
     "text": [
      "\n",
      "\n",
      "Found no better decompositions. Found 2 decompositions with the current best count 7.\n",
      "\n",
      " 90%|██████████████████████████████████████████████████████████████████████████████████████████████████           | 18/20 [00:00<?, ?trial/s, best loss=?]\u001b[A\n",
      " 95%|████████████████████████████████████████████████████████████████████████████▉    | 19/20 [00:37<00:37, 37.61s/trial, best loss: -0.09289062768220901]\u001b[A\n",
      "100%|█████████████████████████████████████████████████████████████████████████████████| 20/20 [01:09<00:00, 34.95s/trial, best loss: -0.09289062768220901]\u001b[A"
     ]
    },
    {
     "name": "stderr",
     "output_type": "stream",
     "text": [
      "Epochs: 100%|█████████████████████████████████████████████████████████████████████████████████████████████████████████████| 10/10 [10:59<00:00, 65.98s/it]"
     ]
    },
    {
     "name": "stdout",
     "output_type": "stream",
     "text": [
      "\n",
      "\n",
      "Found no better decompositions. Found 3 decompositions with the current best count 7.\n"
     ]
    },
    {
     "name": "stderr",
     "output_type": "stream",
     "text": [
      "\n"
     ]
    }
   ],
   "source": [
    "u_target = u_toff3\n",
    "layer = chain_layer(3)\n",
    "unitary_loss_func = lambda u: disc2_swap(u, u_target, 3)\n",
    "\n",
    "decomposer = Decompose(layer, unitary_loss_func=unitary_loss_func)\n",
    "\n",
    "static_options = {'batch_size': 100, 'accepted_num_gates': 8}\n",
    "\n",
    "adaptive_options = {'max_evals':20,\n",
    "                   'max_num_cp_gates':12,\n",
    "                   'min_num_cp_gates':6,\n",
    "                   'target_num_gates': 7,\n",
    "                   'evals_between_verification':2,\n",
    "                   'stop_if_target_reached': False}\n",
    "\n",
    "\n",
    "results = decomposer.adaptive(\n",
    "    static_options=static_options,\n",
    "    adaptive_options = adaptive_options,\n",
    "    save_to = 'data/toff3_chain_swap/',\n",
    "    overwrite_existing_trials=False,\n",
    "    overwrite_existing_decompositions=False,\n",
    ")"
   ]
  },
  {
   "cell_type": "code",
   "execution_count": 98,
   "id": "e86f4e05-f877-4b04-99de-0b9715d0476f",
   "metadata": {},
   "outputs": [
    {
     "data": {
      "image/png": "[encoded data removed]",
      "text/plain": [
       "<Figure size 1591.6x445.48 with 1 Axes>"
      ]
     },
     "execution_count": 98,
     "metadata": {},
     "output_type": "execute_result"
    }
   ],
   "source": [
    "trials, decompositions = Decompose.load_trials_and_decompositions('data/toff3_chain_swap/')\n",
    "cz, circ, u, angs = decompositions[-1]\n",
    "disc2(u(angs), permutation_matrices(3)[1]@u_toff3)\n",
    "circ(angs).draw(output='mpl')"
   ]
  },
  {
   "cell_type": "code",
   "execution_count": null,
   "id": "6364c6d9-2c2a-4876-a055-16fcb3c2593c",
   "metadata": {},
   "outputs": [],
   "source": []
  }
 ],
 "metadata": {
  "kernelspec": {
   "display_name": "python37",
   "language": "python",
   "name": "python37"
  },
  "language_info": {
   "codemirror_mode": {
    "name": "ipython",
    "version": 3
   },
   "file_extension": ".py",
   "mimetype": "text/x-python",
   "name": "python",
   "nbconvert_exporter": "python",
   "pygments_lexer": "ipython3",
   "version": "3.7.12"
  },
  "widgets": {
   "application/vnd.jupyter.widget-state+json": {
    "state": {},
    "version_major": 2,
    "version_minor": 0
   }
  }
 },
 "nbformat": 4,
 "nbformat_minor": 5
}
