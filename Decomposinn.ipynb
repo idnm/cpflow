{
 "cells": [
  {
   "cell_type": "code",
   "execution_count": 1,
   "id": "1042721f-0714-4bea-b52d-c9163784f3f3",
   "metadata": {
    "tags": []
   },
   "outputs": [
    {
     "name": "stderr",
     "output_type": "stream",
     "text": [
      "WARNING:absl:No GPU/TPU found, falling back to CPU. (Set TF_CPP_MIN_LOG_LEVEL=0 and rerun for more info.)\n"
     ]
    },
    {
     "data": {
      "text/plain": [
       "[<matplotlib.lines.Line2D at 0x7f25082dcf90>]"
      ]
     },
     "execution_count": 1,
     "metadata": {},
     "output_type": "execute_result"
    },
    {
     "data": {
      "image/png": "[encoded data removed]",
      "text/plain": [
       "<Figure size 432x288 with 1 Axes>"
      ]
     },
     "metadata": {
      "needs_background": "light"
     },
     "output_type": "display_data"
    }
   ],
   "source": [
    "from jax_circuits import *\n",
    "from cp_utils import *\n",
    "from topology import *\n",
    "from matrix_utils import *\n",
    "from scipy.stats import unitary_group\n",
    "\n",
    "import matplotlib.pyplot as plt\n",
    "from hyperopt import plotting\n",
    "\n",
    "u_target = unitary_group.rvs(4, random_state=0)\n",
    "d = Decompose(sequ_layer(2), u_target=u_target)\n",
    "sweep = jnp.linspace(0, 4*jnp.pi, 200)\n",
    "plt.plot(sweep, vmap(d.cp_regularization_func)(sweep))"
   ]
  },
  {
   "cell_type": "code",
   "execution_count": 19,
   "id": "fa7e071d-c208-49a6-8a3f-1ebc524a5b85",
   "metadata": {},
   "outputs": [
    {
     "name": "stdout",
     "output_type": "stream",
     "text": [
      "117.52797\n",
      "0.5590403\n",
      "0.0\n"
     ]
    }
   ],
   "source": [
    "n = 6\n",
    "\n",
    "u_rnd = unitary_group.rvs(4, random_state=0)\n",
    "u_diag = jnp.diag(jnp.exp(1j*jnp.arange(1,2**n+1, dtype=jnp.complex64))).reshape([2]*(2*n))\n",
    "\n",
    "u = jnp.identity(2**n).reshape([2]*(2*n))\n",
    "u = apply_gate_to_tensor(u_diag, u, list(range(n)))\n",
    "\n",
    "u =  apply_gate_to_tensor(u_rnd.reshape(2,2,2,2), u, [2, 4])\n",
    "u = apply_gate_to_tensor(x_mat, u, [1]).reshape(2**n, 2**n)\n",
    "\n",
    "                         \n",
    "wires = [0,3,5]\n",
    "print(tensor_identity_loss_frobenius(u,  wires))\n",
    "print(tensor_identity_loss(u,  wires))\n",
    "print(tensor_diagonal_loss(u,  wires))\n",
    "\n",
    "\n",
    "# u_diag, u_diag_shifted, u_off_diag = tensor_identity_loss(u,  [0, 1])"
   ]
  },
  {
   "cell_type": "code",
   "execution_count": 186,
   "id": "7abf89bc-4ef8-49ca-9785-dd755f9069a4",
   "metadata": {},
   "outputs": [
    {
     "name": "stdout",
     "output_type": "stream",
     "text": [
      "                                                                                                                \n",
      "0.364356+0.308594j 0.558925+0.076750j 0.0+0.0j 0.0+0.0j 0.0+0.0j 0.0+0.0j 0.0+000000.000000j  0.0+000000.000000j\n",
      "0.385735-0.527307j 0.344763+0.551238j 0.0+0.0j 0.0+0.0j 0.0+0.0j 0.0+0.0j 0.0+000000.000000j  0.0+000000.000000j\n",
      " -0.00000+0.00000j 0.0+000000.000000j 0.0+0.0j 0.0+0.0j 0.0+0.0j 0.0+0.0j  -0.00000+0.00000j  0.0+000000.000000j\n",
      "0.0+000000.000000j 0.0+000000.000000j 0.0+0.0j 0.0+0.0j 0.0+0.0j 0.0+0.0j 0.0+000000.000000j  0.0+000000.000000j\n",
      "0.0+000000.000000j 0.0+000000.000000j 0.0+0.0j 0.0+0.0j 0.0+0.0j 0.0+0.0j 0.0+000000.000000j  0.0+000000.000000j\n",
      " -0.00000+0.00000j  -0.00000+0.00000j 0.0+0.0j 0.0+0.0j 0.0+0.0j 0.0+0.0j  -0.00000+0.00000j -0.000000+0.000000j\n",
      "0.0+000000.000000j  -0.00000+0.00000j 0.0+0.0j 0.0+0.0j 0.0+0.0j 0.0+0.0j 0.084125-0.470633j -0.560447+0.197538j\n",
      "0.0+000000.000000j 0.0-000000.000000j 0.0+0.0j 0.0+0.0j 0.0+0.0j 0.0+0.0j 0.052160+0.795844j -0.421065-0.027612j\n",
      "                                                                                                                \n",
      "0.0+0.0j 0.0+0.0j 0.0+0.0j 0.0+0.0j 0.0+000000.000000j  0.0+000000.000000j 0.0+000000.000000j 0.0+000000.000000j\n",
      "0.0+0.0j 0.0+0.0j 0.0+0.0j 0.0+0.0j 0.0+000000.000000j  0.0+000000.000000j 0.0+000000.000000j 0.0+000000.000000j\n",
      "0.0+0.0j 0.0+0.0j 0.0+0.0j 0.0+0.0j 0.0+000000.000000j  0.0+000000.000000j 0.0+000000.000000j 0.0+000000.000000j\n",
      "0.0+0.0j 0.0+0.0j 0.0+0.0j 0.0+0.0j 0.0+000000.000000j  0.0+000000.000000j 0.0+000000.000000j 0.0+000000.000000j\n",
      "0.0+0.0j 0.0+0.0j 0.0+0.0j 0.0+0.0j 0.084125-0.470633j -0.560447+0.197538j 0.0+000000.000000j 0.0+000000.000000j\n",
      "0.0+0.0j 0.0+0.0j 0.0+0.0j 0.0+0.0j 0.052160+0.795844j -0.421065-0.027612j 0.0+000000.000000j 0.0+000000.000000j\n",
      "0.0+0.0j 0.0+0.0j 0.0+0.0j 0.0+0.0j 0.0+000000.000000j  0.0+000000.000000j 0.364356+0.308594j 0.558925+0.076750j\n",
      "0.0+0.0j 0.0+0.0j 0.0+0.0j 0.0+0.0j 0.0+000000.000000j  0.0+000000.000000j 0.385735-0.527307j 0.344763+0.551238j\n"
     ]
    }
   ],
   "source": [
    "A = df(u_diag)\n",
    "A.columns = ['']*A.shape[1]\n",
    "print(A.to_string(index=False))\n",
    "A = df(u_diag_shifted)\n",
    "A.columns = ['']*A.shape[1]\n",
    "print(A.to_string(index=False))\n",
    "# print(df(u_diag))\n",
    "# print(df(u_diag_shifted))"
   ]
  },
  {
   "cell_type": "code",
   "execution_count": null,
   "id": "813efc25-5d84-4780-ab5c-1c2bea043ba7",
   "metadata": {},
   "outputs": [],
   "source": [
    "u"
   ]
  },
  {
   "cell_type": "code",
   "execution_count": 116,
   "id": "ab126ee1-c326-474a-bfc9-bf124ecdd5e8",
   "metadata": {},
   "outputs": [
    {
     "data": {
      "text/plain": [
       "DeviceArray([[ 0,  1,  2,  3],\n",
       "             [ 4,  5,  6,  7],\n",
       "             [ 8,  9, 10, 11],\n",
       "             [12, 13, 14, 15]], dtype=int32)"
      ]
     },
     "execution_count": 116,
     "metadata": {},
     "output_type": "execute_result"
    }
   ],
   "source": [
    "m = jnp.arange(16).reshape(4,4)\n",
    "m"
   ]
  },
  {
   "cell_type": "code",
   "execution_count": 117,
   "id": "c0f50ca3-b9c0-4edb-b37b-262262ceb43f",
   "metadata": {},
   "outputs": [
    {
     "data": {
      "text/plain": [
       "(DeviceArray([[ 0.,  0.,  0.,  0.],\n",
       "              [ 0.,  5.,  0.,  0.],\n",
       "              [ 0.,  0., 10.,  0.],\n",
       "              [ 0.,  0.,  0., 15.]], dtype=float32),\n",
       " DeviceArray([[ 0.,  1.,  2.,  3.],\n",
       "              [ 4.,  5.,  6.,  7.],\n",
       "              [ 8.,  9., 10., 11.],\n",
       "              [12., 13., 14., 15.]], dtype=float32),\n",
       " DeviceArray([[ 0.,  1.,  2.,  3.],\n",
       "              [ 4.,  0.,  6.,  7.],\n",
       "              [ 8.,  9.,  0., 11.],\n",
       "              [12., 13., 14.,  0.]], dtype=float32))"
      ]
     },
     "execution_count": 117,
     "metadata": {},
     "output_type": "execute_result"
    }
   ],
   "source": [
    "tensor_split(m, 2)"
   ]
  },
  {
   "cell_type": "code",
   "execution_count": 106,
   "id": "a56f3501-ff7b-4591-ae01-822a9b10ee06",
   "metadata": {},
   "outputs": [
    {
     "data": {
      "text/plain": [
       "(DeviceArray([[1., 1., 1., 1., 0., 0., 0., 0.],\n",
       "              [1., 1., 1., 1., 0., 0., 0., 0.],\n",
       "              [1., 1., 1., 1., 0., 0., 0., 0.],\n",
       "              [1., 1., 1., 1., 0., 0., 0., 0.],\n",
       "              [0., 0., 0., 0., 1., 1., 1., 1.],\n",
       "              [0., 0., 0., 0., 1., 1., 1., 1.],\n",
       "              [0., 0., 0., 0., 1., 1., 1., 1.],\n",
       "              [0., 0., 0., 0., 1., 1., 1., 1.]], dtype=float32),\n",
       " DeviceArray([[0., 0., 0., 0., 1., 1., 1., 1.],\n",
       "              [0., 0., 0., 0., 1., 1., 1., 1.],\n",
       "              [0., 0., 0., 0., 1., 1., 1., 1.],\n",
       "              [0., 0., 0., 0., 1., 1., 1., 1.],\n",
       "              [1., 1., 1., 1., 0., 0., 0., 0.],\n",
       "              [1., 1., 1., 1., 0., 0., 0., 0.],\n",
       "              [1., 1., 1., 1., 0., 0., 0., 0.],\n",
       "              [1., 1., 1., 1., 0., 0., 0., 0.]], dtype=float32))"
      ]
     },
     "execution_count": 106,
     "metadata": {},
     "output_type": "execute_result"
    }
   ],
   "source": [
    "tm = jnp.array([[0,1,0,0,0,0],[2,3,0,0,0,0],[0,0,4,5,0,0],[0,0,6,7,0,0],[0,0,0,0,8,9],[0,0,0,0,10,11]])\n",
    "contains_identity(jnp.identity(2**3), 1)"
   ]
  },
  {
   "cell_type": "code",
   "execution_count": 90,
   "id": "5d21e561-6318-4d60-ac75-e832ee10e1e9",
   "metadata": {},
   "outputs": [
    {
     "data": {
      "text/plain": [
       "DeviceArray([[ 4.,  5.,  0.,  0.,  0.,  0.],\n",
       "             [ 6.,  7.,  0.,  0.,  0.,  0.],\n",
       "             [ 0.,  0.,  8.,  9.,  0.,  0.],\n",
       "             [ 0.,  0., 10., 11.,  0.,  0.],\n",
       "             [ 0.,  0.,  0.,  0.,  0.,  1.],\n",
       "             [ 0.,  0.,  0.,  0.,  2.,  3.]], dtype=float32)"
      ]
     },
     "execution_count": 90,
     "metadata": {},
     "output_type": "execute_result"
    }
   ],
   "source": [
    "shift_block_diagonal_matrix(tm, 2)"
   ]
  },
  {
   "cell_type": "code",
   "execution_count": 79,
   "id": "f3c5e590-15f9-49d7-adf4-0e44cfb89680",
   "metadata": {},
   "outputs": [
    {
     "data": {
      "text/plain": [
       "DeviceArray([[2., 0., 0., 0.],\n",
       "             [0., 3., 0., 0.],\n",
       "             [0., 0., 4., 0.],\n",
       "             [0., 0., 0., 1.]], dtype=float32)"
      ]
     },
     "execution_count": 79,
     "metadata": {},
     "output_type": "execute_result"
    }
   ],
   "source": [
    "shift_matrix(jnp.diag(jnp.linspace(1,4,4)))"
   ]
  },
  {
   "cell_type": "code",
   "execution_count": 78,
   "id": "74197d7a-5782-4498-a039-5278f45d5638",
   "metadata": {},
   "outputs": [
    {
     "data": {
      "text/plain": [
       "DeviceArray([[4., 5., 3.],\n",
       "             [7., 8., 6.],\n",
       "             [1., 2., 0.]], dtype=float32)"
      ]
     },
     "execution_count": 78,
     "metadata": {},
     "output_type": "execute_result"
    }
   ],
   "source": [
    "shift_matrix(jnp.array([[0,1, 2],[3,4, 5],[6,7,8]]))"
   ]
  },
  {
   "cell_type": "code",
   "execution_count": 74,
   "id": "7912256c-02f7-481d-9453-f05d5778347b",
   "metadata": {},
   "outputs": [
    {
     "ename": "TypeError",
     "evalue": "dot_general requires contracting dimensions to have the same shape, got [8] and [9].",
     "output_type": "error",
     "traceback": [
      "\u001b[0;31m---------------------------------------------------------------------------\u001b[0m",
      "\u001b[0;31mTypeError\u001b[0m                                 Traceback (most recent call last)",
      "\u001b[0;32m/tmp/ipykernel_14662/3101580791.py\u001b[0m in \u001b[0;36m<module>\u001b[0;34m\u001b[0m\n\u001b[1;32m      1\u001b[0m \u001b[0mvkron\u001b[0m \u001b[0;34m=\u001b[0m \u001b[0mjnp\u001b[0m\u001b[0;34m.\u001b[0m\u001b[0mkron\u001b[0m\u001b[0;34m(\u001b[0m\u001b[0mjnp\u001b[0m\u001b[0;34m.\u001b[0m\u001b[0midentity\u001b[0m\u001b[0;34m(\u001b[0m\u001b[0;36m3\u001b[0m\u001b[0;34m)\u001b[0m\u001b[0;34m,\u001b[0m \u001b[0mjnp\u001b[0m\u001b[0;34m.\u001b[0m\u001b[0mdiag\u001b[0m\u001b[0;34m(\u001b[0m\u001b[0mjnp\u001b[0m\u001b[0;34m.\u001b[0m\u001b[0mlinspace\u001b[0m\u001b[0;34m(\u001b[0m\u001b[0;36m1\u001b[0m\u001b[0;34m,\u001b[0m \u001b[0;36m3\u001b[0m\u001b[0;34m,\u001b[0m \u001b[0;36m3\u001b[0m\u001b[0;34m)\u001b[0m\u001b[0;34m)\u001b[0m\u001b[0;34m)\u001b[0m\u001b[0;34m\u001b[0m\u001b[0;34m\u001b[0m\u001b[0m\n\u001b[0;32m----> 2\u001b[0;31m \u001b[0mcontains_identity\u001b[0m\u001b[0;34m(\u001b[0m\u001b[0mvkron\u001b[0m\u001b[0;34m,\u001b[0m \u001b[0;36m2\u001b[0m\u001b[0;34m)\u001b[0m\u001b[0;34m\u001b[0m\u001b[0;34m\u001b[0m\u001b[0m\n\u001b[0m",
      "\u001b[0;32m/tmp/ipykernel_14662/3021700655.py\u001b[0m in \u001b[0;36mcontains_identity\u001b[0;34m(u, n)\u001b[0m\n\u001b[1;32m     41\u001b[0m     \u001b[0;34m\"\"\"Check if u is of the form I x V for I on the first n qubits\"\"\"\u001b[0m\u001b[0;34m\u001b[0m\u001b[0;34m\u001b[0m\u001b[0m\n\u001b[1;32m     42\u001b[0m     \u001b[0mnum_qubits\u001b[0m \u001b[0;34m=\u001b[0m \u001b[0mint\u001b[0m\u001b[0;34m(\u001b[0m\u001b[0mjnp\u001b[0m\u001b[0;34m.\u001b[0m\u001b[0mlog2\u001b[0m\u001b[0;34m(\u001b[0m\u001b[0mu\u001b[0m\u001b[0;34m.\u001b[0m\u001b[0mshape\u001b[0m\u001b[0;34m[\u001b[0m\u001b[0;36m0\u001b[0m\u001b[0;34m]\u001b[0m\u001b[0;34m)\u001b[0m\u001b[0;34m)\u001b[0m\u001b[0;34m\u001b[0m\u001b[0;34m\u001b[0m\u001b[0m\n\u001b[0;32m---> 43\u001b[0;31m     \u001b[0mu_shifted\u001b[0m \u001b[0;34m=\u001b[0m \u001b[0mshift_kronecker_product\u001b[0m\u001b[0;34m(\u001b[0m\u001b[0mu\u001b[0m\u001b[0;34m,\u001b[0m \u001b[0;36m2\u001b[0m\u001b[0;34m**\u001b[0m\u001b[0mn\u001b[0m\u001b[0;34m)\u001b[0m\u001b[0;34m\u001b[0m\u001b[0;34m\u001b[0m\u001b[0m\n\u001b[0m\u001b[1;32m     44\u001b[0m \u001b[0;34m\u001b[0m\u001b[0m\n\u001b[1;32m     45\u001b[0m \u001b[0;34m\u001b[0m\u001b[0m\n",
      "\u001b[0;32m/tmp/ipykernel_14662/3021700655.py\u001b[0m in \u001b[0;36mshift_kronecker_product\u001b[0;34m(u, m)\u001b[0m\n\u001b[1;32m     35\u001b[0m     \u001b[0mk\u001b[0m \u001b[0;34m=\u001b[0m \u001b[0mint\u001b[0m\u001b[0;34m(\u001b[0m\u001b[0mu\u001b[0m\u001b[0;34m.\u001b[0m\u001b[0mshape\u001b[0m\u001b[0;34m[\u001b[0m\u001b[0;36m0\u001b[0m\u001b[0;34m]\u001b[0m\u001b[0;34m/\u001b[0m\u001b[0mm\u001b[0m\u001b[0;34m)\u001b[0m\u001b[0;34m\u001b[0m\u001b[0;34m\u001b[0m\u001b[0m\n\u001b[1;32m     36\u001b[0m     \u001b[0mx\u001b[0m \u001b[0;34m=\u001b[0m \u001b[0mjnp\u001b[0m\u001b[0;34m.\u001b[0m\u001b[0mkron\u001b[0m\u001b[0;34m(\u001b[0m\u001b[0mshifting_matrix\u001b[0m\u001b[0;34m(\u001b[0m\u001b[0mm\u001b[0m\u001b[0;34m)\u001b[0m\u001b[0;34m,\u001b[0m \u001b[0mjnp\u001b[0m\u001b[0;34m.\u001b[0m\u001b[0midentity\u001b[0m\u001b[0;34m(\u001b[0m\u001b[0mk\u001b[0m\u001b[0;34m)\u001b[0m\u001b[0;34m)\u001b[0m\u001b[0;34m\u001b[0m\u001b[0;34m\u001b[0m\u001b[0m\n\u001b[0;32m---> 37\u001b[0;31m     \u001b[0;32mreturn\u001b[0m \u001b[0mx\u001b[0m\u001b[0;34m@\u001b[0m\u001b[0mu\u001b[0m\u001b[0;34m@\u001b[0m\u001b[0mjnp\u001b[0m\u001b[0;34m.\u001b[0m\u001b[0mlinalg\u001b[0m\u001b[0;34m.\u001b[0m\u001b[0minv\u001b[0m\u001b[0;34m(\u001b[0m\u001b[0mx\u001b[0m\u001b[0;34m)\u001b[0m\u001b[0;34m\u001b[0m\u001b[0;34m\u001b[0m\u001b[0m\n\u001b[0m\u001b[1;32m     38\u001b[0m \u001b[0;34m\u001b[0m\u001b[0m\n\u001b[1;32m     39\u001b[0m \u001b[0;34m\u001b[0m\u001b[0m\n",
      "\u001b[0;32m~/.local/lib/python3.7/site-packages/jax/_src/numpy/lax_numpy.py\u001b[0m in \u001b[0;36mdeferring_binary_op\u001b[0;34m(self, other)\u001b[0m\n\u001b[1;32m   6583\u001b[0m     \u001b[0;32mif\u001b[0m \u001b[0;32mnot\u001b[0m \u001b[0misinstance\u001b[0m\u001b[0;34m(\u001b[0m\u001b[0mother\u001b[0m\u001b[0;34m,\u001b[0m \u001b[0m_accepted_binop_types\u001b[0m\u001b[0;34m)\u001b[0m\u001b[0;34m:\u001b[0m\u001b[0;34m\u001b[0m\u001b[0;34m\u001b[0m\u001b[0m\n\u001b[1;32m   6584\u001b[0m       \u001b[0;32mreturn\u001b[0m \u001b[0mNotImplemented\u001b[0m\u001b[0;34m\u001b[0m\u001b[0;34m\u001b[0m\u001b[0m\n\u001b[0;32m-> 6585\u001b[0;31m     \u001b[0;32mreturn\u001b[0m \u001b[0mbinary_op\u001b[0m\u001b[0;34m(\u001b[0m\u001b[0mself\u001b[0m\u001b[0;34m,\u001b[0m \u001b[0mother\u001b[0m\u001b[0;34m)\u001b[0m\u001b[0;34m\u001b[0m\u001b[0;34m\u001b[0m\u001b[0m\n\u001b[0m\u001b[1;32m   6586\u001b[0m   \u001b[0;32mreturn\u001b[0m \u001b[0mdeferring_binary_op\u001b[0m\u001b[0;34m\u001b[0m\u001b[0;34m\u001b[0m\u001b[0m\n\u001b[1;32m   6587\u001b[0m \u001b[0;34m\u001b[0m\u001b[0m\n",
      "    \u001b[0;31m[... skipping hidden 13 frame]\u001b[0m\n",
      "\u001b[0;32m~/.local/lib/python3.7/site-packages/jax/_src/numpy/lax_numpy.py\u001b[0m in \u001b[0;36mmatmul\u001b[0;34m(a, b, precision)\u001b[0m\n\u001b[1;32m   4859\u001b[0m   out = lax.dot_general(\n\u001b[1;32m   4860\u001b[0m     \u001b[0ma\u001b[0m\u001b[0;34m,\u001b[0m \u001b[0mb\u001b[0m\u001b[0;34m,\u001b[0m \u001b[0;34m(\u001b[0m\u001b[0;34m(\u001b[0m\u001b[0;34m(\u001b[0m\u001b[0mndim\u001b[0m\u001b[0;34m(\u001b[0m\u001b[0ma\u001b[0m\u001b[0;34m)\u001b[0m \u001b[0;34m-\u001b[0m \u001b[0;36m1\u001b[0m\u001b[0;34m,\u001b[0m\u001b[0;34m)\u001b[0m\u001b[0;34m,\u001b[0m \u001b[0;34m(\u001b[0m\u001b[0mndim\u001b[0m\u001b[0;34m(\u001b[0m\u001b[0mb\u001b[0m\u001b[0;34m)\u001b[0m \u001b[0;34m-\u001b[0m \u001b[0;36m1\u001b[0m \u001b[0;34m-\u001b[0m \u001b[0mb_is_mat\u001b[0m\u001b[0;34m,\u001b[0m\u001b[0;34m)\u001b[0m\u001b[0;34m)\u001b[0m\u001b[0;34m,\u001b[0m \u001b[0;34m(\u001b[0m\u001b[0ma_batch\u001b[0m\u001b[0;34m,\u001b[0m \u001b[0mb_batch\u001b[0m\u001b[0;34m)\u001b[0m\u001b[0;34m)\u001b[0m\u001b[0;34m,\u001b[0m\u001b[0;34m\u001b[0m\u001b[0;34m\u001b[0m\u001b[0m\n\u001b[0;32m-> 4861\u001b[0;31m     precision=precision)\n\u001b[0m\u001b[1;32m   4862\u001b[0m   \u001b[0;32mreturn\u001b[0m \u001b[0mlax\u001b[0m\u001b[0;34m.\u001b[0m\u001b[0mtranspose\u001b[0m\u001b[0;34m(\u001b[0m\u001b[0mout\u001b[0m\u001b[0;34m,\u001b[0m \u001b[0mperm\u001b[0m\u001b[0;34m)\u001b[0m\u001b[0;34m\u001b[0m\u001b[0;34m\u001b[0m\u001b[0m\n\u001b[1;32m   4863\u001b[0m \u001b[0;34m\u001b[0m\u001b[0m\n",
      "    \u001b[0;31m[... skipping hidden 4 frame]\u001b[0m\n",
      "\u001b[0;32m~/.local/lib/python3.7/site-packages/jax/_src/lax/lax.py\u001b[0m in \u001b[0;36m_dot_general_shape_rule\u001b[0;34m(lhs, rhs, dimension_numbers, precision, preferred_element_type)\u001b[0m\n\u001b[1;32m   3574\u001b[0m     msg = (\"dot_general requires contracting dimensions to have the same \"\n\u001b[1;32m   3575\u001b[0m            \"shape, got {} and {}.\")\n\u001b[0;32m-> 3576\u001b[0;31m     \u001b[0;32mraise\u001b[0m \u001b[0mTypeError\u001b[0m\u001b[0;34m(\u001b[0m\u001b[0mmsg\u001b[0m\u001b[0;34m.\u001b[0m\u001b[0mformat\u001b[0m\u001b[0;34m(\u001b[0m\u001b[0mlhs_contracting_shape\u001b[0m\u001b[0;34m,\u001b[0m \u001b[0mrhs_contracting_shape\u001b[0m\u001b[0;34m)\u001b[0m\u001b[0;34m)\u001b[0m\u001b[0;34m\u001b[0m\u001b[0;34m\u001b[0m\u001b[0m\n\u001b[0m\u001b[1;32m   3577\u001b[0m \u001b[0;34m\u001b[0m\u001b[0m\n\u001b[1;32m   3578\u001b[0m   \u001b[0;32mreturn\u001b[0m \u001b[0m_dot_general_shape_computation\u001b[0m\u001b[0;34m(\u001b[0m\u001b[0mlhs\u001b[0m\u001b[0;34m.\u001b[0m\u001b[0mshape\u001b[0m\u001b[0;34m,\u001b[0m \u001b[0mrhs\u001b[0m\u001b[0;34m.\u001b[0m\u001b[0mshape\u001b[0m\u001b[0;34m,\u001b[0m \u001b[0mdimension_numbers\u001b[0m\u001b[0;34m)\u001b[0m\u001b[0;34m\u001b[0m\u001b[0;34m\u001b[0m\u001b[0m\n",
      "\u001b[0;31mTypeError\u001b[0m: dot_general requires contracting dimensions to have the same shape, got [8] and [9]."
     ]
    }
   ],
   "source": [
    "vkron = jnp.kron(jnp.identity(3), jnp.diag(jnp.linspace(1, 3, 3)))\n",
    "contains_identity(vkron, 2)"
   ]
  },
  {
   "cell_type": "code",
   "execution_count": 67,
   "id": "509f3fbf-612d-4527-971b-49f078dd9317",
   "metadata": {},
   "outputs": [
    {
     "data": {
      "text/plain": [
       "DeviceArray([[1., 0., 0., 0., 0., 0., 0., 0., 0.],\n",
       "             [0., 1., 0., 0., 0., 0., 0., 0., 0.],\n",
       "             [0., 0., 1., 0., 0., 0., 0., 0., 0.],\n",
       "             [0., 0., 0., 2., 0., 0., 0., 0., 0.],\n",
       "             [0., 0., 0., 0., 2., 0., 0., 0., 0.],\n",
       "             [0., 0., 0., 0., 0., 2., 0., 0., 0.],\n",
       "             [0., 0., 0., 0., 0., 0., 3., 0., 0.],\n",
       "             [0., 0., 0., 0., 0., 0., 0., 3., 0.],\n",
       "             [0., 0., 0., 0., 0., 0., 0., 0., 3.]], dtype=float32)"
      ]
     },
     "execution_count": 67,
     "metadata": {},
     "output_type": "execute_result"
    }
   ],
   "source": [
    "ukron = jnp.kron(jnp.diag(jnp.linspace(1, 3, 3)), jnp.identity(3))\n",
    "ukron"
   ]
  },
  {
   "cell_type": "code",
   "execution_count": 68,
   "id": "e4c8dc55-6b0a-40b7-bb35-2fbbfa1e2365",
   "metadata": {},
   "outputs": [
    {
     "data": {
      "text/plain": [
       "DeviceArray([[2., 0., 0., 0., 0., 0., 0., 0., 0.],\n",
       "             [0., 2., 0., 0., 0., 0., 0., 0., 0.],\n",
       "             [0., 0., 2., 0., 0., 0., 0., 0., 0.],\n",
       "             [0., 0., 0., 3., 0., 0., 0., 0., 0.],\n",
       "             [0., 0., 0., 0., 3., 0., 0., 0., 0.],\n",
       "             [0., 0., 0., 0., 0., 3., 0., 0., 0.],\n",
       "             [0., 0., 0., 0., 0., 0., 1., 0., 0.],\n",
       "             [0., 0., 0., 0., 0., 0., 0., 1., 0.],\n",
       "             [0., 0., 0., 0., 0., 0., 0., 0., 1.]], dtype=float32)"
      ]
     },
     "execution_count": 68,
     "metadata": {},
     "output_type": "execute_result"
    }
   ],
   "source": [
    "shift_kronecker_product(ukron, 3)"
   ]
  },
  {
   "cell_type": "code",
   "execution_count": 54,
   "id": "a7578630-43ff-4140-8ac4-9907d54bafc7",
   "metadata": {},
   "outputs": [
    {
     "data": {
      "text/plain": [
       "DeviceArray([[2., 0., 0., 0., 0.],\n",
       "             [0., 3., 0., 0., 0.],\n",
       "             [0., 0., 4., 0., 0.],\n",
       "             [0., 0., 0., 5., 0.],\n",
       "             [0., 0., 0., 0., 1.]], dtype=float32)"
      ]
     },
     "execution_count": 54,
     "metadata": {},
     "output_type": "execute_result"
    }
   ],
   "source": [
    "shift_matrix(jnp.diag(jnp.linspace(1, 5, 5)))"
   ]
  },
  {
   "cell_type": "code",
   "execution_count": null,
   "id": "99b73114-d02a-46a4-8ab8-f5d2ad9ddd8a",
   "metadata": {},
   "outputs": [],
   "source": [
    "shift_matrix(jnp.diag(jnp.linspace(1, 5, 5)))"
   ]
  },
  {
   "cell_type": "code",
   "execution_count": 44,
   "id": "168fcf06-0157-4cb4-993e-aea9ca680889",
   "metadata": {},
   "outputs": [
    {
     "data": {
      "text/plain": [
       "DeviceArray([[1., 0., 0.],\n",
       "             [0., 1., 0.],\n",
       "             [0., 0., 1.]], dtype=float32)"
      ]
     },
     "execution_count": 44,
     "metadata": {},
     "output_type": "execute_result"
    }
   ],
   "source": [
    "shift_matrix(3)@shift_matrix(3)@shift_matrix(3)"
   ]
  },
  {
   "cell_type": "code",
   "execution_count": 41,
   "id": "56c8ca18-7784-4611-bba7-acec4a46452a",
   "metadata": {},
   "outputs": [
    {
     "data": {
      "text/plain": [
       "DeviceArray([[1., 0., 0.],\n",
       "             [0., 2., 0.],\n",
       "             [0., 0., 3.]], dtype=float32)"
      ]
     },
     "execution_count": 41,
     "metadata": {},
     "output_type": "execute_result"
    }
   ],
   "source": [
    "jnp.diag(jnp.array([1., 2., 3.]))"
   ]
  },
  {
   "cell_type": "code",
   "execution_count": 50,
   "id": "12e5cbb3-119a-4283-af55-87aa3c9fe48a",
   "metadata": {},
   "outputs": [
    {
     "data": {
      "text/plain": [
       "DeviceArray([[2., 0., 0., 0.],\n",
       "             [0., 3., 0., 0.],\n",
       "             [0., 0., 4., 0.],\n",
       "             [0., 0., 0., 1.]], dtype=float32)"
      ]
     },
     "execution_count": 50,
     "metadata": {},
     "output_type": "execute_result"
    }
   ],
   "source": [
    "shift_matrix(4)@jnp.diag(jnp.array([1., 2., 3., 4.]))@shift_matrix(4)@shift_matrix(4)@shift_matrix(4)"
   ]
  },
  {
   "cell_type": "markdown",
   "id": "10534d74-4ef1-4285-840e-aedabc754a5f",
   "metadata": {
    "tags": []
   },
   "source": [
    "# Reconstruction"
   ]
  },
  {
   "cell_type": "markdown",
   "id": "76005866-de7f-45bf-bdc0-00202fe19720",
   "metadata": {
    "tags": []
   },
   "source": [
    "# Toffoli 4"
   ]
  },
  {
   "cell_type": "markdown",
   "id": "97864a88-1088-410a-ade7-7fed01be8d98",
   "metadata": {
    "tags": []
   },
   "source": [
    "## Square"
   ]
  },
  {
   "cell_type": "code",
   "execution_count": 11,
   "id": "a97fa5e8-f6e8-49c8-af6b-648a2f158676",
   "metadata": {
    "collapsed": true,
    "jupyter": {
     "outputs_hidden": true
    },
    "tags": []
   },
   "outputs": [
    {
     "name": "stdout",
     "output_type": "stream",
     "text": [
      "\n",
      "Starting decomposition routine with the following options:\n",
      "\n",
      "Static:\n",
      "{'accepted_num_gates': None,\n",
      " 'batch_size': 300,\n",
      " 'cp_dist': 'uniform',\n",
      " 'entry_loss': 0.001,\n",
      " 'learning_rate': 0.01,\n",
      " 'method': 'adam',\n",
      " 'num_gd_iterations': 2000,\n",
      " 'target_loss': 1e-06,\n",
      " 'threshold_cp': 0.2}\n",
      "\n",
      "Adaptive:\n",
      "{'evals_between_verification': 1,\n",
      " 'hyperopt_random_seed': 0,\n",
      " 'max_evals': 50,\n",
      " 'max_num_cp_gates': 35,\n",
      " 'min_num_cp_gates': 14,\n",
      " 'r_mean': 0.00055,\n",
      " 'r_variance': 0.5,\n",
      " 'stop_if_target_reached': True,\n",
      " 'target_num_gates': 15}\n",
      "\n",
      "\n",
      "\n",
      "Found existing trials, resuming from here.\n"
     ]
    },
    {
     "name": "stderr",
     "output_type": "stream",
     "text": [
      "Epochs:   0%|                                                                                                                      | 0/50 [00:00<?, ?it/s]"
     ]
    },
    {
     "name": "stdout",
     "output_type": "stream",
     "text": [
      "\n",
      " 99%|██████████████████████████████████████████████████████████████████████████████████████████████████████████▎| 160/161 [00:00<?, ?trial/s, best loss=?]\u001b[A\n",
      "100%|█████████████████████████████████████████████████████████████████████████████| 161/161 [03:27<00:00, 207.89s/trial, best loss: -0.008426151238381863]\u001b[A"
     ]
    },
    {
     "name": "stderr",
     "output_type": "stream",
     "text": [
      "Epochs:   2%|██▏                                                                                                        | 1/50 [03:28<2:49:54, 208.06s/it]"
     ]
    },
    {
     "name": "stdout",
     "output_type": "stream",
     "text": [
      "\n",
      "\n",
      "Found no better decompositions. Found 0 decompositions with the current best count 17.\n",
      "\n",
      " 99%|██████████████████████████████████████████████████████████████████████████████████████████████████████████▎| 161/162 [00:00<?, ?trial/s, best loss=?]\u001b[A\n",
      "100%|█████████████████████████████████████████████████████████████████████████████| 162/162 [03:42<00:00, 222.21s/trial, best loss: -0.008426151238381863]\u001b[A"
     ]
    },
    {
     "name": "stderr",
     "output_type": "stream",
     "text": [
      "Epochs:   4%|████▎                                                                                                      | 2/50 [07:10<2:53:10, 216.46s/it]"
     ]
    },
    {
     "name": "stdout",
     "output_type": "stream",
     "text": [
      "\n",
      "\n",
      "Found no better decompositions. Found 0 decompositions with the current best count 17.\n",
      "\n",
      " 99%|██████████████████████████████████████████████████████████████████████████████████████████████████████████▎| 162/163 [00:00<?, ?trial/s, best loss=?]\u001b[A\n",
      "100%|█████████████████████████████████████████████████████████████████████████████| 163/163 [03:49<00:00, 229.16s/trial, best loss: -0.008426151238381863]\u001b[A"
     ]
    },
    {
     "name": "stderr",
     "output_type": "stream",
     "text": [
      "Epochs:   6%|██████▍                                                                                                    | 3/50 [10:59<2:54:08, 222.31s/it]"
     ]
    },
    {
     "name": "stdout",
     "output_type": "stream",
     "text": [
      "\n",
      "\n",
      "Found no better decompositions. Found 0 decompositions with the current best count 17.\n",
      "\n",
      " 99%|██████████████████████████████████████████████████████████████████████████████████████████████████████████▎| 163/164 [00:00<?, ?trial/s, best loss=?]\u001b[A\n",
      "100%|█████████████████████████████████████████████████████████████████████████████| 164/164 [03:31<00:00, 211.36s/trial, best loss: -0.008426151238381863]\u001b[A"
     ]
    },
    {
     "name": "stderr",
     "output_type": "stream",
     "text": [
      "Epochs:   8%|████████▌                                                                                                  | 4/50 [14:31<2:47:09, 218.04s/it]"
     ]
    },
    {
     "name": "stdout",
     "output_type": "stream",
     "text": [
      "\n",
      "\n",
      "Found no better decompositions. Found 0 decompositions with the current best count 17.\n",
      "\n",
      " 99%|██████████████████████████████████████████████████████████████████████████████████████████████████████████▎| 164/165 [00:00<?, ?trial/s, best loss=?]\u001b[A\n",
      "100%|█████████████████████████████████████████████████████████████████████████████| 165/165 [03:35<00:00, 215.14s/trial, best loss: -0.008426151238381863]\u001b[A"
     ]
    },
    {
     "name": "stderr",
     "output_type": "stream",
     "text": [
      "Epochs:  10%|██████████▋                                                                                                | 5/50 [18:06<2:42:46, 217.04s/it]"
     ]
    },
    {
     "name": "stdout",
     "output_type": "stream",
     "text": [
      "\n",
      "\n",
      "Found no better decompositions. Found 1 decompositions with the current best count 17.\n",
      "\n",
      " 99%|██████████████████████████████████████████████████████████████████████████████████████████████████████████▎| 165/166 [00:00<?, ?trial/s, best loss=?]\u001b[A\n",
      "100%|█████████████████████████████████████████████████████████████████████████████| 166/166 [03:53<00:00, 233.86s/trial, best loss: -0.008426151238381863]\u001b[A"
     ]
    },
    {
     "name": "stderr",
     "output_type": "stream",
     "text": [
      "Epochs:  12%|████████████▊                                                                                              | 6/50 [22:00<2:43:23, 222.80s/it]"
     ]
    },
    {
     "name": "stdout",
     "output_type": "stream",
     "text": [
      "\n",
      "\n",
      "Found no better decompositions. Found 0 decompositions with the current best count 17.\n",
      "\n",
      " 99%|██████████████████████████████████████████████████████████████████████████████████████████████████████████▎| 166/167 [00:00<?, ?trial/s, best loss=?]\u001b[A\n",
      "100%|█████████████████████████████████████████████████████████████████████████████| 167/167 [03:27<00:00, 207.23s/trial, best loss: -0.008426151238381863]\u001b[A"
     ]
    },
    {
     "name": "stderr",
     "output_type": "stream",
     "text": [
      "Epochs:  14%|██████████████▉                                                                                            | 7/50 [25:27<2:36:03, 217.75s/it]"
     ]
    },
    {
     "name": "stdout",
     "output_type": "stream",
     "text": [
      "\n",
      "\n",
      "Found no better decompositions. Found 0 decompositions with the current best count 17.\n",
      "\n",
      " 99%|██████████████████████████████████████████████████████████████████████████████████████████████████████████▎| 167/168 [00:00<?, ?trial/s, best loss=?]\u001b[A\n",
      "100%|█████████████████████████████████████████████████████████████████████████████| 168/168 [03:39<00:00, 219.06s/trial, best loss: -0.008426151238381863]\u001b[A"
     ]
    },
    {
     "name": "stderr",
     "output_type": "stream",
     "text": [
      "Epochs:  16%|█████████████████                                                                                          | 8/50 [29:06<2:32:45, 218.22s/it]"
     ]
    },
    {
     "name": "stdout",
     "output_type": "stream",
     "text": [
      "\n",
      "\n",
      "Found no better decompositions. Found 0 decompositions with the current best count 17.\n",
      "\n",
      " 99%|██████████████████████████████████████████████████████████████████████████████████████████████████████████▎| 168/169 [00:00<?, ?trial/s, best loss=?]\u001b[A\n",
      "100%|█████████████████████████████████████████████████████████████████████████████| 169/169 [03:19<00:00, 199.89s/trial, best loss: -0.008426151238381863]\u001b[A"
     ]
    },
    {
     "name": "stderr",
     "output_type": "stream",
     "text": [
      "Epochs:  18%|███████████████████▎                                                                                       | 9/50 [32:27<2:25:13, 212.53s/it]"
     ]
    },
    {
     "name": "stdout",
     "output_type": "stream",
     "text": [
      "\n",
      "\n",
      "Found no better decompositions. Found 0 decompositions with the current best count 17.\n",
      "\n",
      " 99%|██████████████████████████████████████████████████████████████████████████████████████████████████████████▎| 169/170 [00:00<?, ?trial/s, best loss=?]\u001b[A\n",
      "100%|█████████████████████████████████████████████████████████████████████████████| 170/170 [03:38<00:00, 218.59s/trial, best loss: -0.008426151238381863]\u001b[A"
     ]
    },
    {
     "name": "stderr",
     "output_type": "stream",
     "text": [
      "Epochs:  20%|█████████████████████▏                                                                                    | 10/50 [36:05<2:22:57, 214.44s/it]"
     ]
    },
    {
     "name": "stdout",
     "output_type": "stream",
     "text": [
      "\n",
      "\n",
      "Found no better decompositions. Found 1 decompositions with the current best count 17.\n",
      "\n",
      " 99%|██████████████████████████████████████████████████████████████████████████████████████████████████████████▎| 170/171 [00:00<?, ?trial/s, best loss=?]\u001b[A\n",
      "100%|█████████████████████████████████████████████████████████████████████████████| 171/171 [03:23<00:00, 203.33s/trial, best loss: -0.008426151238381863]\u001b[A"
     ]
    },
    {
     "name": "stderr",
     "output_type": "stream",
     "text": [
      "Epochs:  22%|███████████████████████▎                                                                                  | 11/50 [39:29<2:17:12, 211.09s/it]"
     ]
    },
    {
     "name": "stdout",
     "output_type": "stream",
     "text": [
      "\n",
      "\n",
      "Found no better decompositions. Found 2 decompositions with the current best count 17.\n",
      "\n",
      " 99%|██████████████████████████████████████████████████████████████████████████████████████████████████████████▍| 171/172 [00:00<?, ?trial/s, best loss=?]\u001b[A\n",
      "100%|█████████████████████████████████████████████████████████████████████████████| 172/172 [03:16<00:00, 196.93s/trial, best loss: -0.008426151238381863]\u001b[A\n",
      "\n",
      "Found 1 decompositions potentially better than current best count 17, verifying...\n",
      "vefigying with options\n",
      "{'cp_dist': 'uniform', 'entry_loss': 0.001, 'target_loss': 1e-06, 'threshold_cp': 0.2, 'batch_size': 300, 'num_gd_iterations': 2000, 'method': 'adam', 'learning_rate': 0.01, 'accepted_num_gates': None}\n"
     ]
    },
    {
     "name": "stderr",
     "output_type": "stream",
     "text": [
      "Epochs:  24%|█████████████████████████▍                                                                                | 12/50 [43:26<2:18:46, 219.13s/it]"
     ]
    },
    {
     "name": "stdout",
     "output_type": "stream",
     "text": [
      "\n",
      "Found new decomposition with 16 gates.\n",
      "\n",
      "\n",
      " 99%|██████████████████████████████████████████████████████████████████████████████████████████████████████████▍| 172/173 [00:00<?, ?trial/s, best loss=?]\u001b[A\n",
      "100%|█████████████████████████████████████████████████████████████████████████████| 173/173 [02:37<00:00, 157.44s/trial, best loss: -0.008426151238381863]\u001b[A"
     ]
    },
    {
     "name": "stderr",
     "output_type": "stream",
     "text": [
      "Epochs:  26%|███████████████████████████▌                                                                              | 13/50 [46:04<2:03:38, 200.49s/it]"
     ]
    },
    {
     "name": "stdout",
     "output_type": "stream",
     "text": [
      "\n",
      "\n",
      "Found no better decompositions. Found 0 decompositions with the current best count 16.\n",
      "\n",
      " 99%|██████████████████████████████████████████████████████████████████████████████████████████████████████████▍| 173/174 [00:00<?, ?trial/s, best loss=?]\u001b[A\n",
      "100%|█████████████████████████████████████████████████████████████████████████████| 174/174 [03:46<00:00, 226.80s/trial, best loss: -0.008426151238381863]\u001b[A"
     ]
    },
    {
     "name": "stderr",
     "output_type": "stream",
     "text": [
      "Epochs:  28%|█████████████████████████████▋                                                                            | 14/50 [49:51<2:05:05, 208.48s/it]"
     ]
    },
    {
     "name": "stdout",
     "output_type": "stream",
     "text": [
      "\n",
      "\n",
      "Found no better decompositions. Found 0 decompositions with the current best count 16.\n",
      "\n",
      " 99%|██████████████████████████████████████████████████████████████████████████████████████████████████████████▍| 174/175 [00:00<?, ?trial/s, best loss=?]\u001b[A\n",
      "100%|█████████████████████████████████████████████████████████████████████████████| 175/175 [03:34<00:00, 214.29s/trial, best loss: -0.008426151238381863]\u001b[A"
     ]
    },
    {
     "name": "stderr",
     "output_type": "stream",
     "text": [
      "Epochs:  30%|███████████████████████████████▊                                                                          | 15/50 [53:25<2:02:39, 210.28s/it]"
     ]
    },
    {
     "name": "stdout",
     "output_type": "stream",
     "text": [
      "\n",
      "\n",
      "Found no better decompositions. Found 0 decompositions with the current best count 16.\n",
      "\n",
      " 99%|██████████████████████████████████████████████████████████████████████████████████████████████████████████▍| 175/176 [00:00<?, ?trial/s, best loss=?]\u001b[A\n",
      "100%|█████████████████████████████████████████████████████████████████████████████| 176/176 [02:50<00:00, 170.13s/trial, best loss: -0.008426151238381863]\u001b[A"
     ]
    },
    {
     "name": "stderr",
     "output_type": "stream",
     "text": [
      "Epochs:  32%|█████████████████████████████████▉                                                                        | 16/50 [56:15<1:52:19, 198.23s/it]"
     ]
    },
    {
     "name": "stdout",
     "output_type": "stream",
     "text": [
      "\n",
      "\n",
      "Found no better decompositions. Found 1 decompositions with the current best count 16.\n",
      "\n",
      " 99%|██████████████████████████████████████████████████████████████████████████████████████████████████████████▍| 176/177 [00:00<?, ?trial/s, best loss=?]\u001b[A\n",
      "100%|█████████████████████████████████████████████████████████████████████████████| 177/177 [02:30<00:00, 150.07s/trial, best loss: -0.008426151238381863]\u001b[A"
     ]
    },
    {
     "name": "stderr",
     "output_type": "stream",
     "text": [
      "Epochs:  34%|████████████████████████████████████                                                                      | 17/50 [58:46<1:41:05, 183.79s/it]"
     ]
    },
    {
     "name": "stdout",
     "output_type": "stream",
     "text": [
      "\n",
      "\n",
      "Found no better decompositions. Found 0 decompositions with the current best count 16.\n",
      "\n",
      " 99%|██████████████████████████████████████████████████████████████████████████████████████████████████████████▍| 177/178 [00:00<?, ?trial/s, best loss=?]\u001b[A\n",
      "100%|█████████████████████████████████████████████████████████████████████████████| 178/178 [02:43<00:00, 163.38s/trial, best loss: -0.008426151238381863]\u001b[A"
     ]
    },
    {
     "name": "stderr",
     "output_type": "stream",
     "text": [
      "Epochs:  36%|█████████████████████████████████████▍                                                                  | 18/50 [1:01:29<1:34:46, 177.70s/it]"
     ]
    },
    {
     "name": "stdout",
     "output_type": "stream",
     "text": [
      "\n",
      "\n",
      "Found no better decompositions. Found 0 decompositions with the current best count 16.\n",
      "\n",
      " 99%|██████████████████████████████████████████████████████████████████████████████████████████████████████████▍| 178/179 [00:00<?, ?trial/s, best loss=?]\u001b[A\n",
      "100%|█████████████████████████████████████████████████████████████████████████████| 179/179 [02:48<00:00, 168.05s/trial, best loss: -0.008426151238381863]\u001b[A"
     ]
    },
    {
     "name": "stderr",
     "output_type": "stream",
     "text": [
      "Epochs:  38%|███████████████████████████████████████▌                                                                | 19/50 [1:04:17<1:30:20, 174.85s/it]"
     ]
    },
    {
     "name": "stdout",
     "output_type": "stream",
     "text": [
      "\n",
      "\n",
      "Found no better decompositions. Found 0 decompositions with the current best count 16.\n",
      "\n",
      " 99%|██████████████████████████████████████████████████████████████████████████████████████████████████████████▍| 179/180 [00:00<?, ?trial/s, best loss=?]\u001b[A\n",
      "100%|█████████████████████████████████████████████████████████████████████████████| 180/180 [02:51<00:00, 171.59s/trial, best loss: -0.008426151238381863]\u001b[A"
     ]
    },
    {
     "name": "stderr",
     "output_type": "stream",
     "text": [
      "Epochs:  40%|█████████████████████████████████████████▌                                                              | 20/50 [1:07:09<1:26:57, 173.91s/it]"
     ]
    },
    {
     "name": "stdout",
     "output_type": "stream",
     "text": [
      "\n",
      "\n",
      "Found no better decompositions. Found 0 decompositions with the current best count 16.\n",
      "\n",
      " 99%|██████████████████████████████████████████████████████████████████████████████████████████████████████████▍| 180/181 [02:35<?, ?trial/s, best loss=?]\u001b[A"
     ]
    },
    {
     "name": "stderr",
     "output_type": "stream",
     "text": [
      "Epochs:  40%|█████████████████████████████████████████▌                                                              | 20/50 [1:09:44<1:44:37, 209.25s/it]"
     ]
    },
    {
     "name": "stdout",
     "output_type": "stream",
     "text": [
      "\n"
     ]
    },
    {
     "name": "stderr",
     "output_type": "stream",
     "text": [
      "\n"
     ]
    },
    {
     "ename": "KeyboardInterrupt",
     "evalue": "",
     "output_type": "error",
     "traceback": [
      "\u001b[0;31m---------------------------------------------------------------------------\u001b[0m",
      "\u001b[0;31mKeyboardInterrupt\u001b[0m                         Traceback (most recent call last)",
      "\u001b[0;32m/tmp/ipykernel_160325/3552720574.py\u001b[0m in \u001b[0;36m<module>\u001b[0;34m\u001b[0m\n\u001b[1;32m     18\u001b[0m     \u001b[0msave_to\u001b[0m\u001b[0;34m=\u001b[0m\u001b[0mst\u001b[0m\u001b[0;34m,\u001b[0m\u001b[0;34m\u001b[0m\u001b[0;34m\u001b[0m\u001b[0m\n\u001b[1;32m     19\u001b[0m     \u001b[0moverwrite_existing_trials\u001b[0m\u001b[0;34m=\u001b[0m\u001b[0;32mFalse\u001b[0m\u001b[0;34m,\u001b[0m\u001b[0;34m\u001b[0m\u001b[0;34m\u001b[0m\u001b[0m\n\u001b[0;32m---> 20\u001b[0;31m     overwrite_existing_decompositions=False)\n\u001b[0m",
      "\u001b[0;32m~/Programming projects/jax_circuits/jax_circuits.py\u001b[0m in \u001b[0;36madaptive\u001b[0;34m(self, static_options, adaptive_options, save_to, overwrite_existing_trials, overwrite_existing_decompositions)\u001b[0m\n\u001b[1;32m    544\u001b[0m                 \u001b[0mmax_evals\u001b[0m\u001b[0;34m=\u001b[0m\u001b[0madaptive_options\u001b[0m\u001b[0;34m[\u001b[0m\u001b[0;34m'evals_between_verification'\u001b[0m\u001b[0;34m]\u001b[0m \u001b[0;34m+\u001b[0m \u001b[0mlen\u001b[0m\u001b[0;34m(\u001b[0m\u001b[0mtrials\u001b[0m\u001b[0;34m.\u001b[0m\u001b[0mtrials\u001b[0m\u001b[0;34m)\u001b[0m\u001b[0;34m,\u001b[0m\u001b[0;34m\u001b[0m\u001b[0;34m\u001b[0m\u001b[0m\n\u001b[1;32m    545\u001b[0m                 \u001b[0mtrials\u001b[0m\u001b[0;34m=\u001b[0m\u001b[0mtrials\u001b[0m\u001b[0;34m,\u001b[0m\u001b[0;34m\u001b[0m\u001b[0;34m\u001b[0m\u001b[0m\n\u001b[0;32m--> 546\u001b[0;31m                 rstate=np.random.default_rng(hyper_random_seed))\n\u001b[0m\u001b[1;32m    547\u001b[0m             \u001b[0mhyper_random_seed\u001b[0m \u001b[0;34m+=\u001b[0m \u001b[0;36m1\u001b[0m\u001b[0;34m\u001b[0m\u001b[0;34m\u001b[0m\u001b[0m\n\u001b[1;32m    548\u001b[0m \u001b[0;34m\u001b[0m\u001b[0m\n",
      "\u001b[0;32m~/.local/lib/python3.7/site-packages/hyperopt/fmin.py\u001b[0m in \u001b[0;36mfmin\u001b[0;34m(fn, space, algo, max_evals, timeout, loss_threshold, trials, rstate, allow_trials_fmin, pass_expr_memo_ctrl, catch_eval_exceptions, verbose, return_argmin, points_to_evaluate, max_queue_len, show_progressbar, early_stop_fn, trials_save_file)\u001b[0m\n\u001b[1;32m    553\u001b[0m             \u001b[0mshow_progressbar\u001b[0m\u001b[0;34m=\u001b[0m\u001b[0mshow_progressbar\u001b[0m\u001b[0;34m,\u001b[0m\u001b[0;34m\u001b[0m\u001b[0;34m\u001b[0m\u001b[0m\n\u001b[1;32m    554\u001b[0m             \u001b[0mearly_stop_fn\u001b[0m\u001b[0;34m=\u001b[0m\u001b[0mearly_stop_fn\u001b[0m\u001b[0;34m,\u001b[0m\u001b[0;34m\u001b[0m\u001b[0;34m\u001b[0m\u001b[0m\n\u001b[0;32m--> 555\u001b[0;31m             \u001b[0mtrials_save_file\u001b[0m\u001b[0;34m=\u001b[0m\u001b[0mtrials_save_file\u001b[0m\u001b[0;34m,\u001b[0m\u001b[0;34m\u001b[0m\u001b[0;34m\u001b[0m\u001b[0m\n\u001b[0m\u001b[1;32m    556\u001b[0m         )\n\u001b[1;32m    557\u001b[0m \u001b[0;34m\u001b[0m\u001b[0m\n",
      "\u001b[0;32m~/.local/lib/python3.7/site-packages/hyperopt/base.py\u001b[0m in \u001b[0;36mfmin\u001b[0;34m(self, fn, space, algo, max_evals, timeout, loss_threshold, max_queue_len, rstate, verbose, pass_expr_memo_ctrl, catch_eval_exceptions, return_argmin, show_progressbar, early_stop_fn, trials_save_file)\u001b[0m\n\u001b[1;32m    686\u001b[0m             \u001b[0mshow_progressbar\u001b[0m\u001b[0;34m=\u001b[0m\u001b[0mshow_progressbar\u001b[0m\u001b[0;34m,\u001b[0m\u001b[0;34m\u001b[0m\u001b[0;34m\u001b[0m\u001b[0m\n\u001b[1;32m    687\u001b[0m             \u001b[0mearly_stop_fn\u001b[0m\u001b[0;34m=\u001b[0m\u001b[0mearly_stop_fn\u001b[0m\u001b[0;34m,\u001b[0m\u001b[0;34m\u001b[0m\u001b[0;34m\u001b[0m\u001b[0m\n\u001b[0;32m--> 688\u001b[0;31m             \u001b[0mtrials_save_file\u001b[0m\u001b[0;34m=\u001b[0m\u001b[0mtrials_save_file\u001b[0m\u001b[0;34m,\u001b[0m\u001b[0;34m\u001b[0m\u001b[0;34m\u001b[0m\u001b[0m\n\u001b[0m\u001b[1;32m    689\u001b[0m         )\n\u001b[1;32m    690\u001b[0m \u001b[0;34m\u001b[0m\u001b[0m\n",
      "\u001b[0;32m~/.local/lib/python3.7/site-packages/hyperopt/fmin.py\u001b[0m in \u001b[0;36mfmin\u001b[0;34m(fn, space, algo, max_evals, timeout, loss_threshold, trials, rstate, allow_trials_fmin, pass_expr_memo_ctrl, catch_eval_exceptions, verbose, return_argmin, points_to_evaluate, max_queue_len, show_progressbar, early_stop_fn, trials_save_file)\u001b[0m\n\u001b[1;32m    584\u001b[0m \u001b[0;34m\u001b[0m\u001b[0m\n\u001b[1;32m    585\u001b[0m     \u001b[0;31m# next line is where the fmin is actually executed\u001b[0m\u001b[0;34m\u001b[0m\u001b[0;34m\u001b[0m\u001b[0;34m\u001b[0m\u001b[0m\n\u001b[0;32m--> 586\u001b[0;31m     \u001b[0mrval\u001b[0m\u001b[0;34m.\u001b[0m\u001b[0mexhaust\u001b[0m\u001b[0;34m(\u001b[0m\u001b[0;34m)\u001b[0m\u001b[0;34m\u001b[0m\u001b[0;34m\u001b[0m\u001b[0m\n\u001b[0m\u001b[1;32m    587\u001b[0m \u001b[0;34m\u001b[0m\u001b[0m\n\u001b[1;32m    588\u001b[0m     \u001b[0;32mif\u001b[0m \u001b[0mreturn_argmin\u001b[0m\u001b[0;34m:\u001b[0m\u001b[0;34m\u001b[0m\u001b[0;34m\u001b[0m\u001b[0m\n",
      "\u001b[0;32m~/.local/lib/python3.7/site-packages/hyperopt/fmin.py\u001b[0m in \u001b[0;36mexhaust\u001b[0;34m(self)\u001b[0m\n\u001b[1;32m    362\u001b[0m     \u001b[0;32mdef\u001b[0m \u001b[0mexhaust\u001b[0m\u001b[0;34m(\u001b[0m\u001b[0mself\u001b[0m\u001b[0;34m)\u001b[0m\u001b[0;34m:\u001b[0m\u001b[0;34m\u001b[0m\u001b[0;34m\u001b[0m\u001b[0m\n\u001b[1;32m    363\u001b[0m         \u001b[0mn_done\u001b[0m \u001b[0;34m=\u001b[0m \u001b[0mlen\u001b[0m\u001b[0;34m(\u001b[0m\u001b[0mself\u001b[0m\u001b[0;34m.\u001b[0m\u001b[0mtrials\u001b[0m\u001b[0;34m)\u001b[0m\u001b[0;34m\u001b[0m\u001b[0;34m\u001b[0m\u001b[0m\n\u001b[0;32m--> 364\u001b[0;31m         \u001b[0mself\u001b[0m\u001b[0;34m.\u001b[0m\u001b[0mrun\u001b[0m\u001b[0;34m(\u001b[0m\u001b[0mself\u001b[0m\u001b[0;34m.\u001b[0m\u001b[0mmax_evals\u001b[0m \u001b[0;34m-\u001b[0m \u001b[0mn_done\u001b[0m\u001b[0;34m,\u001b[0m \u001b[0mblock_until_done\u001b[0m\u001b[0;34m=\u001b[0m\u001b[0mself\u001b[0m\u001b[0;34m.\u001b[0m\u001b[0masynchronous\u001b[0m\u001b[0;34m)\u001b[0m\u001b[0;34m\u001b[0m\u001b[0;34m\u001b[0m\u001b[0m\n\u001b[0m\u001b[1;32m    365\u001b[0m         \u001b[0mself\u001b[0m\u001b[0;34m.\u001b[0m\u001b[0mtrials\u001b[0m\u001b[0;34m.\u001b[0m\u001b[0mrefresh\u001b[0m\u001b[0;34m(\u001b[0m\u001b[0;34m)\u001b[0m\u001b[0;34m\u001b[0m\u001b[0;34m\u001b[0m\u001b[0m\n\u001b[1;32m    366\u001b[0m         \u001b[0;32mreturn\u001b[0m \u001b[0mself\u001b[0m\u001b[0;34m\u001b[0m\u001b[0;34m\u001b[0m\u001b[0m\n",
      "\u001b[0;32m~/.local/lib/python3.7/site-packages/hyperopt/fmin.py\u001b[0m in \u001b[0;36mrun\u001b[0;34m(self, N, block_until_done)\u001b[0m\n\u001b[1;32m    298\u001b[0m                 \u001b[0;32melse\u001b[0m\u001b[0;34m:\u001b[0m\u001b[0;34m\u001b[0m\u001b[0;34m\u001b[0m\u001b[0m\n\u001b[1;32m    299\u001b[0m                     \u001b[0;31m# -- loop over trials and do the jobs directly\u001b[0m\u001b[0;34m\u001b[0m\u001b[0;34m\u001b[0m\u001b[0;34m\u001b[0m\u001b[0m\n\u001b[0;32m--> 300\u001b[0;31m                     \u001b[0mself\u001b[0m\u001b[0;34m.\u001b[0m\u001b[0mserial_evaluate\u001b[0m\u001b[0;34m(\u001b[0m\u001b[0;34m)\u001b[0m\u001b[0;34m\u001b[0m\u001b[0;34m\u001b[0m\u001b[0m\n\u001b[0m\u001b[1;32m    301\u001b[0m \u001b[0;34m\u001b[0m\u001b[0m\n\u001b[1;32m    302\u001b[0m                 \u001b[0mself\u001b[0m\u001b[0;34m.\u001b[0m\u001b[0mtrials\u001b[0m\u001b[0;34m.\u001b[0m\u001b[0mrefresh\u001b[0m\u001b[0;34m(\u001b[0m\u001b[0;34m)\u001b[0m\u001b[0;34m\u001b[0m\u001b[0;34m\u001b[0m\u001b[0m\n",
      "\u001b[0;32m~/.local/lib/python3.7/site-packages/hyperopt/fmin.py\u001b[0m in \u001b[0;36mserial_evaluate\u001b[0;34m(self, N)\u001b[0m\n\u001b[1;32m    176\u001b[0m                 \u001b[0mctrl\u001b[0m \u001b[0;34m=\u001b[0m \u001b[0mbase\u001b[0m\u001b[0;34m.\u001b[0m\u001b[0mCtrl\u001b[0m\u001b[0;34m(\u001b[0m\u001b[0mself\u001b[0m\u001b[0;34m.\u001b[0m\u001b[0mtrials\u001b[0m\u001b[0;34m,\u001b[0m \u001b[0mcurrent_trial\u001b[0m\u001b[0;34m=\u001b[0m\u001b[0mtrial\u001b[0m\u001b[0;34m)\u001b[0m\u001b[0;34m\u001b[0m\u001b[0;34m\u001b[0m\u001b[0m\n\u001b[1;32m    177\u001b[0m                 \u001b[0;32mtry\u001b[0m\u001b[0;34m:\u001b[0m\u001b[0;34m\u001b[0m\u001b[0;34m\u001b[0m\u001b[0m\n\u001b[0;32m--> 178\u001b[0;31m                     \u001b[0mresult\u001b[0m \u001b[0;34m=\u001b[0m \u001b[0mself\u001b[0m\u001b[0;34m.\u001b[0m\u001b[0mdomain\u001b[0m\u001b[0;34m.\u001b[0m\u001b[0mevaluate\u001b[0m\u001b[0;34m(\u001b[0m\u001b[0mspec\u001b[0m\u001b[0;34m,\u001b[0m \u001b[0mctrl\u001b[0m\u001b[0;34m)\u001b[0m\u001b[0;34m\u001b[0m\u001b[0;34m\u001b[0m\u001b[0m\n\u001b[0m\u001b[1;32m    179\u001b[0m                 \u001b[0;32mexcept\u001b[0m \u001b[0mException\u001b[0m \u001b[0;32mas\u001b[0m \u001b[0me\u001b[0m\u001b[0;34m:\u001b[0m\u001b[0;34m\u001b[0m\u001b[0;34m\u001b[0m\u001b[0m\n\u001b[1;32m    180\u001b[0m                     \u001b[0mlogger\u001b[0m\u001b[0;34m.\u001b[0m\u001b[0merror\u001b[0m\u001b[0;34m(\u001b[0m\u001b[0;34m\"job exception: %s\"\u001b[0m \u001b[0;34m%\u001b[0m \u001b[0mstr\u001b[0m\u001b[0;34m(\u001b[0m\u001b[0me\u001b[0m\u001b[0;34m)\u001b[0m\u001b[0;34m)\u001b[0m\u001b[0;34m\u001b[0m\u001b[0;34m\u001b[0m\u001b[0m\n",
      "\u001b[0;32m~/.local/lib/python3.7/site-packages/hyperopt/base.py\u001b[0m in \u001b[0;36mevaluate\u001b[0;34m(self, config, ctrl, attach_attachments)\u001b[0m\n\u001b[1;32m    890\u001b[0m                 \u001b[0mprint_node_on_error\u001b[0m\u001b[0;34m=\u001b[0m\u001b[0mself\u001b[0m\u001b[0;34m.\u001b[0m\u001b[0mrec_eval_print_node_on_error\u001b[0m\u001b[0;34m,\u001b[0m\u001b[0;34m\u001b[0m\u001b[0;34m\u001b[0m\u001b[0m\n\u001b[1;32m    891\u001b[0m             )\n\u001b[0;32m--> 892\u001b[0;31m             \u001b[0mrval\u001b[0m \u001b[0;34m=\u001b[0m \u001b[0mself\u001b[0m\u001b[0;34m.\u001b[0m\u001b[0mfn\u001b[0m\u001b[0;34m(\u001b[0m\u001b[0mpyll_rval\u001b[0m\u001b[0;34m)\u001b[0m\u001b[0;34m\u001b[0m\u001b[0;34m\u001b[0m\u001b[0m\n\u001b[0m\u001b[1;32m    893\u001b[0m \u001b[0;34m\u001b[0m\u001b[0m\n\u001b[1;32m    894\u001b[0m         \u001b[0;32mif\u001b[0m \u001b[0misinstance\u001b[0m\u001b[0;34m(\u001b[0m\u001b[0mrval\u001b[0m\u001b[0;34m,\u001b[0m \u001b[0;34m(\u001b[0m\u001b[0mfloat\u001b[0m\u001b[0;34m,\u001b[0m \u001b[0mint\u001b[0m\u001b[0;34m,\u001b[0m \u001b[0mnp\u001b[0m\u001b[0;34m.\u001b[0m\u001b[0mnumber\u001b[0m\u001b[0;34m)\u001b[0m\u001b[0;34m)\u001b[0m\u001b[0;34m:\u001b[0m\u001b[0;34m\u001b[0m\u001b[0;34m\u001b[0m\u001b[0m\n",
      "\u001b[0;32m~/Programming projects/jax_circuits/jax_circuits.py\u001b[0m in \u001b[0;36mobjective_from_cz_distribution\u001b[0;34m(search_params)\u001b[0m\n\u001b[1;32m    475\u001b[0m                 \u001b[0mr\u001b[0m\u001b[0;34m,\u001b[0m\u001b[0;34m\u001b[0m\u001b[0;34m\u001b[0m\u001b[0m\n\u001b[1;32m    476\u001b[0m                 \u001b[0mkey\u001b[0m\u001b[0;34m=\u001b[0m\u001b[0mrandom\u001b[0m\u001b[0;34m.\u001b[0m\u001b[0mPRNGKey\u001b[0m\u001b[0;34m(\u001b[0m\u001b[0mangles_random_seed\u001b[0m\u001b[0;34m)\u001b[0m\u001b[0;34m,\u001b[0m\u001b[0;34m\u001b[0m\u001b[0;34m\u001b[0m\u001b[0m\n\u001b[0;32m--> 477\u001b[0;31m                 options=static_options)\n\u001b[0m\u001b[1;32m    478\u001b[0m \u001b[0;34m\u001b[0m\u001b[0m\n\u001b[1;32m    479\u001b[0m             evaluated_results = Decompose.evaluate_raw(\n",
      "\u001b[0;32m~/Programming projects/jax_circuits/jax_circuits.py\u001b[0m in \u001b[0;36mgenerate_raw\u001b[0;34m(self, num_cp_gates, r, key, initial_angles_array, options, keep_history)\u001b[0m\n\u001b[1;32m    381\u001b[0m             \u001b[0mregularization_func\u001b[0m\u001b[0;34m=\u001b[0m\u001b[0mregularization_func\u001b[0m\u001b[0;34m,\u001b[0m\u001b[0;34m\u001b[0m\u001b[0;34m\u001b[0m\u001b[0m\n\u001b[1;32m    382\u001b[0m             \u001b[0mu_func\u001b[0m\u001b[0;34m=\u001b[0m\u001b[0manz\u001b[0m\u001b[0;34m.\u001b[0m\u001b[0munitary\u001b[0m\u001b[0;34m,\u001b[0m  \u001b[0;31m# For 'adam' this won't be used, but it will e.g. for 'natural adam'.\u001b[0m\u001b[0;34m\u001b[0m\u001b[0;34m\u001b[0m\u001b[0m\n\u001b[0;32m--> 383\u001b[0;31m             \u001b[0mkeep_history\u001b[0m\u001b[0;34m=\u001b[0m\u001b[0mkeep_history\u001b[0m\u001b[0;34m\u001b[0m\u001b[0;34m\u001b[0m\u001b[0m\n\u001b[0m\u001b[1;32m    384\u001b[0m         )\n\u001b[1;32m    385\u001b[0m \u001b[0;34m\u001b[0m\u001b[0m\n",
      "\u001b[0;32m~/Programming projects/jax_circuits/optimization.py\u001b[0m in \u001b[0;36mmynimize_repeated\u001b[0;34m(loss_func, num_params, method, learning_rate, target_loss, u_func, initial_params_batch, num_repeats, regularization_func, keep_history, compute_losses, **kwargs)\u001b[0m\n\u001b[1;32m    360\u001b[0m \u001b[0;34m\u001b[0m\u001b[0m\n\u001b[1;32m    361\u001b[0m     \u001b[0;32mif\u001b[0m \u001b[0minput_is_vector\u001b[0m\u001b[0;34m:\u001b[0m\u001b[0;34m\u001b[0m\u001b[0;34m\u001b[0m\u001b[0m\n\u001b[0;32m--> 362\u001b[0;31m         \u001b[0mbatch_params_history\u001b[0m\u001b[0;34m,\u001b[0m \u001b[0mbatch_regloss_history\u001b[0m \u001b[0;34m=\u001b[0m \u001b[0mjit\u001b[0m\u001b[0;34m(\u001b[0m\u001b[0mvmap\u001b[0m\u001b[0;34m(\u001b[0m\u001b[0mmynimize_particular\u001b[0m\u001b[0;34m)\u001b[0m\u001b[0;34m)\u001b[0m\u001b[0;34m(\u001b[0m\u001b[0mjnp\u001b[0m\u001b[0;34m.\u001b[0m\u001b[0marray\u001b[0m\u001b[0;34m(\u001b[0m\u001b[0minitial_params_batch\u001b[0m\u001b[0;34m)\u001b[0m\u001b[0;34m)\u001b[0m\u001b[0;34m\u001b[0m\u001b[0;34m\u001b[0m\u001b[0m\n\u001b[0m\u001b[1;32m    363\u001b[0m         \u001b[0mresults\u001b[0m \u001b[0;34m=\u001b[0m \u001b[0;34m[\u001b[0m\u001b[0;34m{\u001b[0m\u001b[0;34m'params'\u001b[0m\u001b[0;34m:\u001b[0m \u001b[0mp\u001b[0m\u001b[0;34m,\u001b[0m \u001b[0;34m'loss'\u001b[0m\u001b[0;34m:\u001b[0m \u001b[0ml\u001b[0m\u001b[0;34m}\u001b[0m \u001b[0;32mfor\u001b[0m \u001b[0mp\u001b[0m\u001b[0;34m,\u001b[0m \u001b[0ml\u001b[0m \u001b[0;32min\u001b[0m \u001b[0mzip\u001b[0m\u001b[0;34m(\u001b[0m\u001b[0mbatch_params_history\u001b[0m\u001b[0;34m,\u001b[0m \u001b[0mbatch_regloss_history\u001b[0m\u001b[0;34m)\u001b[0m\u001b[0;34m]\u001b[0m\u001b[0;34m\u001b[0m\u001b[0;34m\u001b[0m\u001b[0m\n\u001b[1;32m    364\u001b[0m \u001b[0;34m\u001b[0m\u001b[0m\n",
      "    \u001b[0;31m[... skipping hidden 1 frame]\u001b[0m\n",
      "\u001b[0;32m~/.local/lib/python3.7/site-packages/jax/_src/api.py\u001b[0m in \u001b[0;36mcache_miss\u001b[0;34m(*args, **kwargs)\u001b[0m\n\u001b[1;32m    417\u001b[0m         \u001b[0mflat_fun\u001b[0m\u001b[0;34m,\u001b[0m \u001b[0;34m*\u001b[0m\u001b[0margs_flat\u001b[0m\u001b[0;34m,\u001b[0m\u001b[0;34m\u001b[0m\u001b[0;34m\u001b[0m\u001b[0m\n\u001b[1;32m    418\u001b[0m         \u001b[0mdevice\u001b[0m\u001b[0;34m=\u001b[0m\u001b[0mdevice\u001b[0m\u001b[0;34m,\u001b[0m \u001b[0mbackend\u001b[0m\u001b[0;34m=\u001b[0m\u001b[0mbackend\u001b[0m\u001b[0;34m,\u001b[0m \u001b[0mname\u001b[0m\u001b[0;34m=\u001b[0m\u001b[0mflat_fun\u001b[0m\u001b[0;34m.\u001b[0m\u001b[0m__name__\u001b[0m\u001b[0;34m,\u001b[0m\u001b[0;34m\u001b[0m\u001b[0;34m\u001b[0m\u001b[0m\n\u001b[0;32m--> 419\u001b[0;31m         donated_invars=donated_invars, inline=inline)\n\u001b[0m\u001b[1;32m    420\u001b[0m     \u001b[0mout_pytree_def\u001b[0m \u001b[0;34m=\u001b[0m \u001b[0mout_tree\u001b[0m\u001b[0;34m(\u001b[0m\u001b[0;34m)\u001b[0m\u001b[0;34m\u001b[0m\u001b[0;34m\u001b[0m\u001b[0m\n\u001b[1;32m    421\u001b[0m     \u001b[0mout\u001b[0m \u001b[0;34m=\u001b[0m \u001b[0mtree_unflatten\u001b[0m\u001b[0;34m(\u001b[0m\u001b[0mout_pytree_def\u001b[0m\u001b[0;34m,\u001b[0m \u001b[0mout_flat\u001b[0m\u001b[0;34m)\u001b[0m\u001b[0;34m\u001b[0m\u001b[0;34m\u001b[0m\u001b[0m\n",
      "\u001b[0;32m~/.local/lib/python3.7/site-packages/jax/core.py\u001b[0m in \u001b[0;36mbind\u001b[0;34m(self, fun, *args, **params)\u001b[0m\n\u001b[1;32m   1630\u001b[0m \u001b[0;34m\u001b[0m\u001b[0m\n\u001b[1;32m   1631\u001b[0m   \u001b[0;32mdef\u001b[0m \u001b[0mbind\u001b[0m\u001b[0;34m(\u001b[0m\u001b[0mself\u001b[0m\u001b[0;34m,\u001b[0m \u001b[0mfun\u001b[0m\u001b[0;34m,\u001b[0m \u001b[0;34m*\u001b[0m\u001b[0margs\u001b[0m\u001b[0;34m,\u001b[0m \u001b[0;34m**\u001b[0m\u001b[0mparams\u001b[0m\u001b[0;34m)\u001b[0m\u001b[0;34m:\u001b[0m\u001b[0;34m\u001b[0m\u001b[0;34m\u001b[0m\u001b[0m\n\u001b[0;32m-> 1632\u001b[0;31m     \u001b[0;32mreturn\u001b[0m \u001b[0mcall_bind\u001b[0m\u001b[0;34m(\u001b[0m\u001b[0mself\u001b[0m\u001b[0;34m,\u001b[0m \u001b[0mfun\u001b[0m\u001b[0;34m,\u001b[0m \u001b[0;34m*\u001b[0m\u001b[0margs\u001b[0m\u001b[0;34m,\u001b[0m \u001b[0;34m**\u001b[0m\u001b[0mparams\u001b[0m\u001b[0;34m)\u001b[0m\u001b[0;34m\u001b[0m\u001b[0;34m\u001b[0m\u001b[0m\n\u001b[0m\u001b[1;32m   1633\u001b[0m \u001b[0;34m\u001b[0m\u001b[0m\n\u001b[1;32m   1634\u001b[0m   \u001b[0;32mdef\u001b[0m \u001b[0mprocess\u001b[0m\u001b[0;34m(\u001b[0m\u001b[0mself\u001b[0m\u001b[0;34m,\u001b[0m \u001b[0mtrace\u001b[0m\u001b[0;34m,\u001b[0m \u001b[0mfun\u001b[0m\u001b[0;34m,\u001b[0m \u001b[0mtracers\u001b[0m\u001b[0;34m,\u001b[0m \u001b[0mparams\u001b[0m\u001b[0;34m)\u001b[0m\u001b[0;34m:\u001b[0m\u001b[0;34m\u001b[0m\u001b[0;34m\u001b[0m\u001b[0m\n",
      "\u001b[0;32m~/.local/lib/python3.7/site-packages/jax/core.py\u001b[0m in \u001b[0;36mcall_bind\u001b[0;34m(primitive, fun, *args, **params)\u001b[0m\n\u001b[1;32m   1621\u001b[0m       params_tuple, out_axes_transforms)\n\u001b[1;32m   1622\u001b[0m   \u001b[0mtracers\u001b[0m \u001b[0;34m=\u001b[0m \u001b[0mmap\u001b[0m\u001b[0;34m(\u001b[0m\u001b[0mtop_trace\u001b[0m\u001b[0;34m.\u001b[0m\u001b[0mfull_raise\u001b[0m\u001b[0;34m,\u001b[0m \u001b[0margs\u001b[0m\u001b[0;34m)\u001b[0m\u001b[0;34m\u001b[0m\u001b[0;34m\u001b[0m\u001b[0m\n\u001b[0;32m-> 1623\u001b[0;31m   \u001b[0mouts\u001b[0m \u001b[0;34m=\u001b[0m \u001b[0mprimitive\u001b[0m\u001b[0;34m.\u001b[0m\u001b[0mprocess\u001b[0m\u001b[0;34m(\u001b[0m\u001b[0mtop_trace\u001b[0m\u001b[0;34m,\u001b[0m \u001b[0mfun\u001b[0m\u001b[0;34m,\u001b[0m \u001b[0mtracers\u001b[0m\u001b[0;34m,\u001b[0m \u001b[0mparams\u001b[0m\u001b[0;34m)\u001b[0m\u001b[0;34m\u001b[0m\u001b[0;34m\u001b[0m\u001b[0m\n\u001b[0m\u001b[1;32m   1624\u001b[0m   \u001b[0;32mreturn\u001b[0m \u001b[0mmap\u001b[0m\u001b[0;34m(\u001b[0m\u001b[0mfull_lower\u001b[0m\u001b[0;34m,\u001b[0m \u001b[0mapply_todos\u001b[0m\u001b[0;34m(\u001b[0m\u001b[0menv_trace_todo\u001b[0m\u001b[0;34m(\u001b[0m\u001b[0;34m)\u001b[0m\u001b[0;34m,\u001b[0m \u001b[0mouts\u001b[0m\u001b[0;34m)\u001b[0m\u001b[0;34m)\u001b[0m\u001b[0;34m\u001b[0m\u001b[0;34m\u001b[0m\u001b[0m\n\u001b[1;32m   1625\u001b[0m \u001b[0;34m\u001b[0m\u001b[0m\n",
      "\u001b[0;32m~/.local/lib/python3.7/site-packages/jax/core.py\u001b[0m in \u001b[0;36mprocess\u001b[0;34m(self, trace, fun, tracers, params)\u001b[0m\n\u001b[1;32m   1633\u001b[0m \u001b[0;34m\u001b[0m\u001b[0m\n\u001b[1;32m   1634\u001b[0m   \u001b[0;32mdef\u001b[0m \u001b[0mprocess\u001b[0m\u001b[0;34m(\u001b[0m\u001b[0mself\u001b[0m\u001b[0;34m,\u001b[0m \u001b[0mtrace\u001b[0m\u001b[0;34m,\u001b[0m \u001b[0mfun\u001b[0m\u001b[0;34m,\u001b[0m \u001b[0mtracers\u001b[0m\u001b[0;34m,\u001b[0m \u001b[0mparams\u001b[0m\u001b[0;34m)\u001b[0m\u001b[0;34m:\u001b[0m\u001b[0;34m\u001b[0m\u001b[0;34m\u001b[0m\u001b[0m\n\u001b[0;32m-> 1635\u001b[0;31m     \u001b[0;32mreturn\u001b[0m \u001b[0mtrace\u001b[0m\u001b[0;34m.\u001b[0m\u001b[0mprocess_call\u001b[0m\u001b[0;34m(\u001b[0m\u001b[0mself\u001b[0m\u001b[0;34m,\u001b[0m \u001b[0mfun\u001b[0m\u001b[0;34m,\u001b[0m \u001b[0mtracers\u001b[0m\u001b[0;34m,\u001b[0m \u001b[0mparams\u001b[0m\u001b[0;34m)\u001b[0m\u001b[0;34m\u001b[0m\u001b[0;34m\u001b[0m\u001b[0m\n\u001b[0m\u001b[1;32m   1636\u001b[0m \u001b[0;34m\u001b[0m\u001b[0m\n\u001b[1;32m   1637\u001b[0m   \u001b[0;32mdef\u001b[0m \u001b[0mpost_process\u001b[0m\u001b[0;34m(\u001b[0m\u001b[0mself\u001b[0m\u001b[0;34m,\u001b[0m \u001b[0mtrace\u001b[0m\u001b[0;34m,\u001b[0m \u001b[0mout_tracers\u001b[0m\u001b[0;34m,\u001b[0m \u001b[0mparams\u001b[0m\u001b[0;34m)\u001b[0m\u001b[0;34m:\u001b[0m\u001b[0;34m\u001b[0m\u001b[0;34m\u001b[0m\u001b[0m\n",
      "\u001b[0;32m~/.local/lib/python3.7/site-packages/jax/core.py\u001b[0m in \u001b[0;36mprocess_call\u001b[0;34m(self, primitive, f, tracers, params)\u001b[0m\n\u001b[1;32m    625\u001b[0m \u001b[0;34m\u001b[0m\u001b[0m\n\u001b[1;32m    626\u001b[0m   \u001b[0;32mdef\u001b[0m \u001b[0mprocess_call\u001b[0m\u001b[0;34m(\u001b[0m\u001b[0mself\u001b[0m\u001b[0;34m,\u001b[0m \u001b[0mprimitive\u001b[0m\u001b[0;34m,\u001b[0m \u001b[0mf\u001b[0m\u001b[0;34m,\u001b[0m \u001b[0mtracers\u001b[0m\u001b[0;34m,\u001b[0m \u001b[0mparams\u001b[0m\u001b[0;34m)\u001b[0m\u001b[0;34m:\u001b[0m\u001b[0;34m\u001b[0m\u001b[0;34m\u001b[0m\u001b[0m\n\u001b[0;32m--> 627\u001b[0;31m     \u001b[0;32mreturn\u001b[0m \u001b[0mprimitive\u001b[0m\u001b[0;34m.\u001b[0m\u001b[0mimpl\u001b[0m\u001b[0;34m(\u001b[0m\u001b[0mf\u001b[0m\u001b[0;34m,\u001b[0m \u001b[0;34m*\u001b[0m\u001b[0mtracers\u001b[0m\u001b[0;34m,\u001b[0m \u001b[0;34m**\u001b[0m\u001b[0mparams\u001b[0m\u001b[0;34m)\u001b[0m\u001b[0;34m\u001b[0m\u001b[0;34m\u001b[0m\u001b[0m\n\u001b[0m\u001b[1;32m    628\u001b[0m   \u001b[0mprocess_map\u001b[0m \u001b[0;34m=\u001b[0m \u001b[0mprocess_call\u001b[0m\u001b[0;34m\u001b[0m\u001b[0;34m\u001b[0m\u001b[0m\n\u001b[1;32m    629\u001b[0m \u001b[0;34m\u001b[0m\u001b[0m\n",
      "\u001b[0;32m~/.local/lib/python3.7/site-packages/jax/interpreters/xla.py\u001b[0m in \u001b[0;36m_xla_call_impl\u001b[0;34m(***failed resolving arguments***)\u001b[0m\n\u001b[1;32m    688\u001b[0m                                *unsafe_map(arg_spec, args))\n\u001b[1;32m    689\u001b[0m   \u001b[0;32mtry\u001b[0m\u001b[0;34m:\u001b[0m\u001b[0;34m\u001b[0m\u001b[0;34m\u001b[0m\u001b[0m\n\u001b[0;32m--> 690\u001b[0;31m     \u001b[0mout\u001b[0m \u001b[0;34m=\u001b[0m \u001b[0mcompiled_fun\u001b[0m\u001b[0;34m(\u001b[0m\u001b[0;34m*\u001b[0m\u001b[0margs\u001b[0m\u001b[0;34m)\u001b[0m\u001b[0;34m\u001b[0m\u001b[0;34m\u001b[0m\u001b[0m\n\u001b[0m\u001b[1;32m    691\u001b[0m   \u001b[0;32mexcept\u001b[0m \u001b[0mFloatingPointError\u001b[0m\u001b[0;34m:\u001b[0m\u001b[0;34m\u001b[0m\u001b[0;34m\u001b[0m\u001b[0m\n\u001b[1;32m    692\u001b[0m     \u001b[0;32massert\u001b[0m \u001b[0mconfig\u001b[0m\u001b[0;34m.\u001b[0m\u001b[0mjax_debug_nans\u001b[0m \u001b[0;32mor\u001b[0m \u001b[0mconfig\u001b[0m\u001b[0;34m.\u001b[0m\u001b[0mjax_debug_infs\u001b[0m  \u001b[0;31m# compiled_fun can only raise in this case\u001b[0m\u001b[0;34m\u001b[0m\u001b[0;34m\u001b[0m\u001b[0m\n",
      "\u001b[0;32m~/.local/lib/python3.7/site-packages/jax/interpreters/xla.py\u001b[0m in \u001b[0;36m_execute_compiled\u001b[0;34m(name, compiled, output_buffer_counts, handlers, kept_var_idx, *args)\u001b[0m\n\u001b[1;32m   1098\u001b[0m           \u001b[0;32mfor\u001b[0m \u001b[0mi\u001b[0m\u001b[0;34m,\u001b[0m \u001b[0mx\u001b[0m \u001b[0;32min\u001b[0m \u001b[0menumerate\u001b[0m\u001b[0;34m(\u001b[0m\u001b[0margs\u001b[0m\u001b[0;34m)\u001b[0m\u001b[0;34m\u001b[0m\u001b[0;34m\u001b[0m\u001b[0m\n\u001b[1;32m   1099\u001b[0m           if x is not token and i in kept_var_idx))\n\u001b[0;32m-> 1100\u001b[0;31m   \u001b[0mout_bufs\u001b[0m \u001b[0;34m=\u001b[0m \u001b[0mcompiled\u001b[0m\u001b[0;34m.\u001b[0m\u001b[0mexecute\u001b[0m\u001b[0;34m(\u001b[0m\u001b[0minput_bufs\u001b[0m\u001b[0;34m)\u001b[0m\u001b[0;34m\u001b[0m\u001b[0;34m\u001b[0m\u001b[0m\n\u001b[0m\u001b[1;32m   1101\u001b[0m   \u001b[0mcheck_special\u001b[0m\u001b[0;34m(\u001b[0m\u001b[0mname\u001b[0m\u001b[0;34m,\u001b[0m \u001b[0mout_bufs\u001b[0m\u001b[0;34m)\u001b[0m\u001b[0;34m\u001b[0m\u001b[0;34m\u001b[0m\u001b[0m\n\u001b[1;32m   1102\u001b[0m   \u001b[0;32mif\u001b[0m \u001b[0moutput_buffer_counts\u001b[0m \u001b[0;32mis\u001b[0m \u001b[0;32mNone\u001b[0m\u001b[0;34m:\u001b[0m\u001b[0;34m\u001b[0m\u001b[0;34m\u001b[0m\u001b[0m\n",
      "\u001b[0;31mKeyboardInterrupt\u001b[0m: "
     ]
    }
   ],
   "source": [
    "layer = [[0,1], [1,2], [2,3], [3,0]]\n",
    "\n",
    "u_target = u_toff4\n",
    "decomposer = Decompose(layer, u_target=u_target)\n",
    "\n",
    "static_options = {'batch_size':300}\n",
    "adaptive_options = {\n",
    "    'max_evals': 50,\n",
    "    'evals_between_verification': 1,\n",
    "    'min_num_cp_gates': 14,\n",
    "    'max_num_cp_gates': 35,\n",
    "    'target_num_gates': 15}\n",
    "\n",
    "adaptive_results = decomposer.adaptive(\n",
    "    static_options=static_options,\n",
    "    adaptive_options=adaptive_options,\n",
    "    save_to='data/toff4_square/',\n",
    "    overwrite_existing_trials=False,\n",
    "    overwrite_existing_decompositions=False)"
   ]
  },
  {
   "cell_type": "code",
   "execution_count": 12,
   "id": "84d02a5f-6734-489e-83cd-78993f6858cb",
   "metadata": {},
   "outputs": [
    {
     "name": "stdout",
     "output_type": "stream",
     "text": [
      "avg best error: -0.008426151238381863\n"
     ]
    },
    {
     "data": {
      "image/png": "[encoded data removed]",
      "text/plain": [
       "<Figure size 432x288 with 1 Axes>"
      ]
     },
     "metadata": {
      "needs_background": "light"
     },
     "output_type": "display_data"
    },
    {
     "name": "stdout",
     "output_type": "stream",
     "text": [
      "finite loss range -0.008426151238381863 -0.0 -1.0084261512383819\n"
     ]
    },
    {
     "data": {
      "image/png": "[encoded data removed]",
      "text/plain": [
       "<Figure size 432x288 with 2 Axes>"
      ]
     },
     "metadata": {
      "needs_background": "light"
     },
     "output_type": "display_data"
    }
   ],
   "source": [
    "trials, decompositions = Decompose.load_trials_and_decompositions(st)\n",
    "plotting.main_plot_history(trials)\n",
    "plotting.main_plot_vars(trials)"
   ]
  },
  {
   "cell_type": "markdown",
   "id": "c0a2e25e-5012-4729-8e8c-8cc225500839",
   "metadata": {
    "tags": []
   },
   "source": [
    "## Chain"
   ]
  },
  {
   "cell_type": "code",
   "execution_count": null,
   "id": "5ecae5d0-69d4-4e51-ba70-f4e6b23ca781",
   "metadata": {
    "collapsed": true,
    "jupyter": {
     "outputs_hidden": true
    },
    "tags": []
   },
   "outputs": [
    {
     "name": "stdout",
     "output_type": "stream",
     "text": [
      "\n",
      "Starting decomposition routine with the following options:\n",
      "\n",
      "Static:\n",
      "{'accepted_num_gates': None,\n",
      " 'batch_size': 400,\n",
      " 'cp_dist': 'uniform',\n",
      " 'entry_loss': 0.001,\n",
      " 'learning_rate': 0.01,\n",
      " 'method': 'adam',\n",
      " 'num_gd_iterations': 2000,\n",
      " 'target_loss': 1e-06,\n",
      " 'threshold_cp': 0.2}\n",
      "\n",
      "Adaptive:\n",
      "{'evals_between_verification': 1,\n",
      " 'hyperopt_random_seed': 0,\n",
      " 'max_evals': 200,\n",
      " 'max_num_cp_gates': 32,\n",
      " 'min_num_cp_gates': 27,\n",
      " 'r_mean': 0.00055,\n",
      " 'r_variance': 0.5,\n",
      " 'stop_if_target_reached': True,\n",
      " 'target_num_gates': 16}\n",
      "\n",
      "\n",
      "\n",
      "Found existing trials, resuming from here.\n"
     ]
    },
    {
     "name": "stderr",
     "output_type": "stream",
     "text": [
      "Epochs:   0%|                                                                                                                     | 0/200 [00:00<?, ?it/s]"
     ]
    },
    {
     "name": "stdout",
     "output_type": "stream",
     "text": [
      "\n",
      " 99%|██████████████████████████████████████████████████████████████████████████████████████████████████████████▎| 166/167 [00:00<?, ?trial/s, best loss=?]\u001b[A\n",
      "100%|█████████████████████████████████████████████████████████████████████████████| 167/167 [05:40<00:00, 340.90s/trial, best loss: -0.001399621949531138]\u001b[A"
     ]
    },
    {
     "name": "stderr",
     "output_type": "stream",
     "text": [
      "Epochs:   0%|▌                                                                                                        | 1/200 [05:41<18:51:13, 341.07s/it]"
     ]
    },
    {
     "name": "stdout",
     "output_type": "stream",
     "text": [
      "\n",
      "\n",
      "Found no better decompositions. Found 0 decompositions with the current best count 18.\n",
      "\n",
      " 99%|██████████████████████████████████████████████████████████████████████████████████████████████████████████▎| 167/168 [00:00<?, ?trial/s, best loss=?]\u001b[A\n",
      "100%|█████████████████████████████████████████████████████████████████████████████| 168/168 [05:47<00:00, 347.27s/trial, best loss: -0.001399621949531138]\u001b[A"
     ]
    },
    {
     "name": "stderr",
     "output_type": "stream",
     "text": [
      "Epochs:   1%|█                                                                                                        | 2/200 [11:28<18:57:51, 344.81s/it]"
     ]
    },
    {
     "name": "stdout",
     "output_type": "stream",
     "text": [
      "\n",
      "\n",
      "Found no better decompositions. Found 0 decompositions with the current best count 18.\n",
      "\n",
      " 99%|██████████████████████████████████████████████████████████████████████████████████████████████████████████▎| 168/169 [00:00<?, ?trial/s, best loss=?]\u001b[A\n",
      "100%|█████████████████████████████████████████████████████████████████████████████| 169/169 [05:47<00:00, 347.88s/trial, best loss: -0.001399621949531138]\u001b[A"
     ]
    },
    {
     "name": "stderr",
     "output_type": "stream",
     "text": [
      "Epochs:   2%|█▌                                                                                                       | 3/200 [17:16<18:56:56, 346.28s/it]"
     ]
    },
    {
     "name": "stdout",
     "output_type": "stream",
     "text": [
      "\n",
      "\n",
      "Found no better decompositions. Found 0 decompositions with the current best count 18.\n",
      "\n",
      " 99%|██████████████████████████████████████████████████████████████████████████████████████████████████████████▎| 169/170 [00:00<?, ?trial/s, best loss=?]\u001b[A\n",
      "100%|█████████████████████████████████████████████████████████████████████████████| 170/170 [05:29<00:00, 329.51s/trial, best loss: -0.001399621949531138]\u001b[A"
     ]
    },
    {
     "name": "stderr",
     "output_type": "stream",
     "text": [
      "Epochs:   2%|██                                                                                                       | 4/200 [22:46<18:29:47, 339.73s/it]"
     ]
    },
    {
     "name": "stdout",
     "output_type": "stream",
     "text": [
      "\n",
      "\n",
      "Found no better decompositions. Found 0 decompositions with the current best count 18.\n",
      "\n",
      " 99%|██████████████████████████████████████████████████████████████████████████████████████████████████████████▎| 170/171 [00:00<?, ?trial/s, best loss=?]\u001b[A\n",
      "100%|█████████████████████████████████████████████████████████████████████████████| 171/171 [05:18<00:00, 318.45s/trial, best loss: -0.001399621949531138]\u001b[A"
     ]
    },
    {
     "name": "stderr",
     "output_type": "stream",
     "text": [
      "Epochs:   2%|██▋                                                                                                      | 5/200 [28:04<17:59:20, 332.11s/it]"
     ]
    },
    {
     "name": "stdout",
     "output_type": "stream",
     "text": [
      "\n",
      "\n",
      "Found no better decompositions. Found 0 decompositions with the current best count 18.\n",
      "\n",
      " 99%|██████████████████████████████████████████████████████████████████████████████████████████████████████████▍| 171/172 [00:00<?, ?trial/s, best loss=?]\u001b[A\n",
      "100%|█████████████████████████████████████████████████████████████████████████████| 172/172 [05:22<00:00, 322.61s/trial, best loss: -0.001399621949531138]\u001b[A"
     ]
    },
    {
     "name": "stderr",
     "output_type": "stream",
     "text": [
      "Epochs:   3%|███▏                                                                                                     | 6/200 [33:27<17:43:32, 328.93s/it]"
     ]
    },
    {
     "name": "stdout",
     "output_type": "stream",
     "text": [
      "\n",
      "\n",
      "Found no better decompositions. Found 0 decompositions with the current best count 18.\n",
      "\n",
      " 99%|██████████████████████████████████████████████████████████████████████████████████████████████████████████▍| 172/173 [00:00<?, ?trial/s, best loss=?]\u001b[A\n",
      "100%|█████████████████████████████████████████████████████████████████████████████| 173/173 [05:36<00:00, 336.90s/trial, best loss: -0.001399621949531138]\u001b[A"
     ]
    },
    {
     "name": "stderr",
     "output_type": "stream",
     "text": [
      "Epochs:   4%|███▋                                                                                                     | 7/200 [39:04<17:46:36, 331.59s/it]"
     ]
    },
    {
     "name": "stdout",
     "output_type": "stream",
     "text": [
      "\n",
      "\n",
      "Found no better decompositions. Found 0 decompositions with the current best count 18.\n",
      "\n",
      " 99%|██████████████████████████████████████████████████████████████████████████████████████████████████████████▍| 173/174 [00:00<?, ?trial/s, best loss=?]\u001b[A\n",
      "100%|█████████████████████████████████████████████████████████████████████████████| 174/174 [05:23<00:00, 323.81s/trial, best loss: -0.001399621949531138]\u001b[A"
     ]
    },
    {
     "name": "stderr",
     "output_type": "stream",
     "text": [
      "Epochs:   4%|████▏                                                                                                    | 8/200 [44:28<17:33:19, 329.16s/it]"
     ]
    },
    {
     "name": "stdout",
     "output_type": "stream",
     "text": [
      "\n",
      "\n",
      "Found no better decompositions. Found 0 decompositions with the current best count 18.\n",
      "\n",
      " 99%|██████████████████████████████████████████████████████████████████████████████████████████████████████████▍| 174/175 [00:00<?, ?trial/s, best loss=?]\u001b[A\n",
      "100%|█████████████████████████████████████████████████████████████████████████████| 175/175 [05:34<00:00, 334.94s/trial, best loss: -0.001399621949531138]\u001b[A"
     ]
    },
    {
     "name": "stderr",
     "output_type": "stream",
     "text": [
      "Epochs:   4%|████▋                                                                                                    | 9/200 [50:03<17:33:43, 331.01s/it]"
     ]
    },
    {
     "name": "stdout",
     "output_type": "stream",
     "text": [
      "\n",
      "\n",
      "Found no better decompositions. Found 0 decompositions with the current best count 18.\n",
      "\n",
      " 99%|██████████████████████████████████████████████████████████████████████████████████████████████████████████▍| 175/176 [00:00<?, ?trial/s, best loss=?]\u001b[A\n",
      "100%|█████████████████████████████████████████████████████████████████████████████| 176/176 [05:25<00:00, 325.89s/trial, best loss: -0.001399621949531138]\u001b[A"
     ]
    },
    {
     "name": "stderr",
     "output_type": "stream",
     "text": [
      "Epochs:   5%|█████▏                                                                                                  | 10/200 [55:29<17:23:21, 329.48s/it]"
     ]
    },
    {
     "name": "stdout",
     "output_type": "stream",
     "text": [
      "\n",
      "\n",
      "Found no better decompositions. Found 0 decompositions with the current best count 18.\n",
      "\n",
      " 99%|██████████████████████████████████████████████████████████████████████████████████████████████████████████▍| 176/177 [00:00<?, ?trial/s, best loss=?]\u001b[A\n",
      "100%|█████████████████████████████████████████████████████████████████████████████| 177/177 [05:16<00:00, 316.65s/trial, best loss: -0.001399621949531138]\u001b[A"
     ]
    },
    {
     "name": "stderr",
     "output_type": "stream",
     "text": [
      "Epochs:   6%|█████▌                                                                                                | 11/200 [1:00:46<17:05:39, 325.60s/it]"
     ]
    },
    {
     "name": "stdout",
     "output_type": "stream",
     "text": [
      "\n",
      "\n",
      "Found no better decompositions. Found 0 decompositions with the current best count 18.\n",
      "\n",
      " 99%|██████████████████████████████████████████████████████████████████████████████████████████████████████████▍| 177/178 [00:00<?, ?trial/s, best loss=?]\u001b[A\n",
      "100%|█████████████████████████████████████████████████████████████████████████████| 178/178 [05:23<00:00, 323.01s/trial, best loss: -0.001399621949531138]\u001b[A"
     ]
    },
    {
     "name": "stderr",
     "output_type": "stream",
     "text": [
      "Epochs:   6%|██████                                                                                                | 12/200 [1:06:09<16:57:54, 324.86s/it]"
     ]
    },
    {
     "name": "stdout",
     "output_type": "stream",
     "text": [
      "\n",
      "\n",
      "Found no better decompositions. Found 0 decompositions with the current best count 18.\n",
      "\n",
      " 99%|██████████████████████████████████████████████████████████████████████████████████████████████████████████▍| 178/179 [00:00<?, ?trial/s, best loss=?]\u001b[A\n",
      "100%|█████████████████████████████████████████████████████████████████████████████| 179/179 [05:16<00:00, 316.51s/trial, best loss: -0.001399621949531138]\u001b[A"
     ]
    },
    {
     "name": "stderr",
     "output_type": "stream",
     "text": [
      "Epochs:   6%|██████▋                                                                                               | 13/200 [1:11:26<16:44:45, 322.38s/it]"
     ]
    },
    {
     "name": "stdout",
     "output_type": "stream",
     "text": [
      "\n",
      "\n",
      "Found no better decompositions. Found 0 decompositions with the current best count 18.\n",
      "\n",
      " 99%|██████████████████████████████████████████████████████████████████████████████████████████████████████████▍| 179/180 [00:00<?, ?trial/s, best loss=?]\u001b[A\n",
      "100%|█████████████████████████████████████████████████████████████████████████████| 180/180 [05:58<00:00, 358.99s/trial, best loss: -0.001399621949531138]\u001b[A"
     ]
    },
    {
     "name": "stderr",
     "output_type": "stream",
     "text": [
      "Epochs:   7%|███████▏                                                                                              | 14/200 [1:17:25<17:13:50, 333.49s/it]"
     ]
    },
    {
     "name": "stdout",
     "output_type": "stream",
     "text": [
      "\n",
      "\n",
      "Found no better decompositions. Found 0 decompositions with the current best count 18.\n",
      "\n",
      " 99%|██████████████████████████████████████████████████████████████████████████████████████████████████████████▍| 180/181 [00:00<?, ?trial/s, best loss=?]\u001b[A\n",
      "100%|█████████████████████████████████████████████████████████████████████████████| 181/181 [06:06<00:00, 366.40s/trial, best loss: -0.001399621949531138]\u001b[A"
     ]
    },
    {
     "name": "stderr",
     "output_type": "stream",
     "text": [
      "Epochs:   8%|███████▋                                                                                              | 15/200 [1:23:32<17:39:00, 343.46s/it]"
     ]
    },
    {
     "name": "stdout",
     "output_type": "stream",
     "text": [
      "\n",
      "\n",
      "Found no better decompositions. Found 0 decompositions with the current best count 18.\n",
      "\n",
      " 99%|██████████████████████████████████████████████████████████████████████████████████████████████████████████▍| 181/182 [00:00<?, ?trial/s, best loss=?]\u001b[A\n",
      "100%|█████████████████████████████████████████████████████████████████████████████| 182/182 [05:20<00:00, 320.83s/trial, best loss: -0.001399621949531138]\u001b[A"
     ]
    },
    {
     "name": "stderr",
     "output_type": "stream",
     "text": [
      "Epochs:   8%|████████▏                                                                                             | 16/200 [1:28:53<17:12:33, 336.71s/it]"
     ]
    },
    {
     "name": "stdout",
     "output_type": "stream",
     "text": [
      "\n",
      "\n",
      "Found no better decompositions. Found 0 decompositions with the current best count 18.\n",
      "\n",
      " 99%|██████████████████████████████████████████████████████████████████████████████████████████████████████████▍| 182/183 [00:00<?, ?trial/s, best loss=?]\u001b[A\n",
      "100%|█████████████████████████████████████████████████████████████████████████████| 183/183 [05:39<00:00, 339.38s/trial, best loss: -0.001399621949531138]\u001b[A"
     ]
    },
    {
     "name": "stderr",
     "output_type": "stream",
     "text": [
      "Epochs:   8%|████████▋                                                                                             | 17/200 [1:34:32<17:09:34, 337.57s/it]"
     ]
    },
    {
     "name": "stdout",
     "output_type": "stream",
     "text": [
      "\n",
      "\n",
      "Found no better decompositions. Found 0 decompositions with the current best count 18.\n",
      "\n",
      " 99%|██████████████████████████████████████████████████████████████████████████████████████████████████████████▍| 183/184 [00:00<?, ?trial/s, best loss=?]\u001b[A\n",
      "100%|█████████████████████████████████████████████████████████████████████████████| 184/184 [05:24<00:00, 324.39s/trial, best loss: -0.001399621949531138]\u001b[A"
     ]
    },
    {
     "name": "stderr",
     "output_type": "stream",
     "text": [
      "Epochs:   9%|█████████▏                                                                                            | 18/200 [1:39:57<16:52:05, 333.66s/it]"
     ]
    },
    {
     "name": "stdout",
     "output_type": "stream",
     "text": [
      "\n",
      "\n",
      "Found no better decompositions. Found 0 decompositions with the current best count 18.\n",
      "\n",
      " 99%|██████████████████████████████████████████████████████████████████████████████████████████████████████████▍| 184/185 [00:00<?, ?trial/s, best loss=?]\u001b[A\n",
      "100%|█████████████████████████████████████████████████████████████████████████████| 185/185 [05:26<00:00, 326.20s/trial, best loss: -0.001399621949531138]\u001b[A"
     ]
    },
    {
     "name": "stderr",
     "output_type": "stream",
     "text": [
      "Epochs:  10%|█████████▋                                                                                            | 19/200 [1:45:23<16:39:55, 331.46s/it]"
     ]
    },
    {
     "name": "stdout",
     "output_type": "stream",
     "text": [
      "\n",
      "\n",
      "Found no better decompositions. Found 0 decompositions with the current best count 18.\n",
      "\n",
      " 99%|██████████████████████████████████████████████████████████████████████████████████████████████████████████▍| 185/186 [00:00<?, ?trial/s, best loss=?]\u001b[A\n",
      "100%|█████████████████████████████████████████████████████████████████████████████| 186/186 [05:40<00:00, 340.43s/trial, best loss: -0.001399621949531138]\u001b[A"
     ]
    },
    {
     "name": "stderr",
     "output_type": "stream",
     "text": [
      "Epochs:  10%|██████████▏                                                                                           | 20/200 [1:51:04<16:42:38, 334.22s/it]"
     ]
    },
    {
     "name": "stdout",
     "output_type": "stream",
     "text": [
      "\n",
      "\n",
      "Found no better decompositions. Found 0 decompositions with the current best count 18.\n",
      "\n",
      " 99%|██████████████████████████████████████████████████████████████████████████████████████████████████████████▍| 186/187 [00:00<?, ?trial/s, best loss=?]\u001b[A\n",
      "100%|█████████████████████████████████████████████████████████████████████████████| 187/187 [05:23<00:00, 323.36s/trial, best loss: -0.001399621949531138]\u001b[A"
     ]
    },
    {
     "name": "stderr",
     "output_type": "stream",
     "text": [
      "Epochs:  10%|██████████▋                                                                                           | 21/200 [1:56:27<16:27:29, 331.00s/it]"
     ]
    },
    {
     "name": "stdout",
     "output_type": "stream",
     "text": [
      "\n",
      "\n",
      "Found no better decompositions. Found 0 decompositions with the current best count 18.\n",
      "\n",
      " 99%|██████████████████████████████████████████████████████████████████████████████████████████████████████████▍| 187/188 [00:00<?, ?trial/s, best loss=?]\u001b[A\n",
      "100%|█████████████████████████████████████████████████████████████████████████████| 188/188 [05:27<00:00, 327.12s/trial, best loss: -0.001399621949531138]\u001b[A"
     ]
    },
    {
     "name": "stderr",
     "output_type": "stream",
     "text": [
      "Epochs:  11%|███████████▏                                                                                          | 22/200 [2:01:55<16:18:39, 329.88s/it]"
     ]
    },
    {
     "name": "stdout",
     "output_type": "stream",
     "text": [
      "\n",
      "\n",
      "Found no better decompositions. Found 0 decompositions with the current best count 18.\n",
      "\n",
      " 99%|██████████████████████████████████████████████████████████████████████████████████████████████████████████▍| 188/189 [00:00<?, ?trial/s, best loss=?]\u001b[A\n",
      "100%|█████████████████████████████████████████████████████████████████████████████| 189/189 [05:35<00:00, 335.08s/trial, best loss: -0.001399621949531138]\u001b[A"
     ]
    },
    {
     "name": "stderr",
     "output_type": "stream",
     "text": [
      "Epochs:  12%|███████████▋                                                                                          | 23/200 [2:07:30<16:17:53, 331.49s/it]"
     ]
    },
    {
     "name": "stdout",
     "output_type": "stream",
     "text": [
      "\n",
      "\n",
      "Found no better decompositions. Found 1 decompositions with the current best count 18.\n",
      "\n",
      " 99%|██████████████████████████████████████████████████████████████████████████████████████████████████████████▍| 189/190 [00:00<?, ?trial/s, best loss=?]\u001b[A\n",
      "100%|█████████████████████████████████████████████████████████████████████████████| 190/190 [05:39<00:00, 339.44s/trial, best loss: -0.001399621949531138]\u001b[A"
     ]
    },
    {
     "name": "stderr",
     "output_type": "stream",
     "text": [
      "Epochs:  12%|████████████▏                                                                                         | 24/200 [2:13:09<16:19:31, 333.93s/it]"
     ]
    },
    {
     "name": "stdout",
     "output_type": "stream",
     "text": [
      "\n",
      "\n",
      "Found no better decompositions. Found 0 decompositions with the current best count 18.\n",
      "\n",
      " 99%|██████████████████████████████████████████████████████████████████████████████████████████████████████████▍| 190/191 [00:00<?, ?trial/s, best loss=?]\u001b[A\n",
      "100%|█████████████████████████████████████████████████████████████████████████████| 191/191 [05:40<00:00, 340.85s/trial, best loss: -0.001399621949531138]\u001b[A"
     ]
    },
    {
     "name": "stderr",
     "output_type": "stream",
     "text": [
      "Epochs:  12%|████████████▊                                                                                         | 25/200 [2:18:50<16:20:10, 336.06s/it]"
     ]
    },
    {
     "name": "stdout",
     "output_type": "stream",
     "text": [
      "\n",
      "\n",
      "Found no better decompositions. Found 0 decompositions with the current best count 18.\n",
      "\n",
      " 99%|██████████████████████████████████████████████████████████████████████████████████████████████████████████▍| 191/192 [00:00<?, ?trial/s, best loss=?]\u001b[A\n",
      "100%|█████████████████████████████████████████████████████████████████████████████| 192/192 [05:24<00:00, 324.50s/trial, best loss: -0.001399621949531138]\u001b[A"
     ]
    },
    {
     "name": "stderr",
     "output_type": "stream",
     "text": [
      "Epochs:  13%|█████████████▎                                                                                        | 26/200 [2:24:15<16:04:38, 332.64s/it]"
     ]
    },
    {
     "name": "stdout",
     "output_type": "stream",
     "text": [
      "\n",
      "\n",
      "Found no better decompositions. Found 0 decompositions with the current best count 18.\n",
      "\n",
      " 99%|██████████████████████████████████████████████████████████████████████████████████████████████████████████▍| 192/193 [00:00<?, ?trial/s, best loss=?]\u001b[A\n",
      "100%|█████████████████████████████████████████████████████████████████████████████| 193/193 [05:38<00:00, 338.22s/trial, best loss: -0.001399621949531138]\u001b[A"
     ]
    },
    {
     "name": "stderr",
     "output_type": "stream",
     "text": [
      "Epochs:  14%|█████████████▊                                                                                        | 27/200 [2:29:53<16:04:03, 334.36s/it]"
     ]
    },
    {
     "name": "stdout",
     "output_type": "stream",
     "text": [
      "\n",
      "\n",
      "Found no better decompositions. Found 0 decompositions with the current best count 18.\n",
      "\n",
      " 99%|██████████████████████████████████████████████████████████████████████████████████████████████████████████▍| 193/194 [00:00<?, ?trial/s, best loss=?]\u001b[A\n",
      "100%|█████████████████████████████████████████████████████████████████████████████| 194/194 [05:30<00:00, 330.70s/trial, best loss: -0.001399621949531138]\u001b[A"
     ]
    },
    {
     "name": "stderr",
     "output_type": "stream",
     "text": [
      "Epochs:  14%|██████████████▎                                                                                       | 28/200 [2:35:24<15:55:29, 333.31s/it]"
     ]
    },
    {
     "name": "stdout",
     "output_type": "stream",
     "text": [
      "\n",
      "\n",
      "Found no better decompositions. Found 0 decompositions with the current best count 18.\n",
      "\n",
      " 99%|██████████████████████████████████████████████████████████████████████████████████████████████████████████▍| 194/195 [00:00<?, ?trial/s, best loss=?]\u001b[A\n",
      "100%|█████████████████████████████████████████████████████████████████████████████| 195/195 [05:48<00:00, 348.72s/trial, best loss: -0.001399621949531138]\u001b[A"
     ]
    },
    {
     "name": "stderr",
     "output_type": "stream",
     "text": [
      "Epochs:  14%|██████████████▊                                                                                       | 29/200 [2:41:13<16:03:15, 337.99s/it]"
     ]
    },
    {
     "name": "stdout",
     "output_type": "stream",
     "text": [
      "\n",
      "\n",
      "Found no better decompositions. Found 0 decompositions with the current best count 18.\n",
      "\n",
      " 99%|██████████████████████████████████████████████████████████████████████████████████████████████████████████▍| 195/196 [00:00<?, ?trial/s, best loss=?]\u001b[A\n",
      "100%|█████████████████████████████████████████████████████████████████████████████| 196/196 [05:38<00:00, 338.61s/trial, best loss: -0.001399621949531138]\u001b[A"
     ]
    },
    {
     "name": "stderr",
     "output_type": "stream",
     "text": [
      "Epochs:  15%|███████████████▎                                                                                      | 30/200 [2:46:52<15:58:17, 338.22s/it]"
     ]
    },
    {
     "name": "stdout",
     "output_type": "stream",
     "text": [
      "\n",
      "\n",
      "Found no better decompositions. Found 0 decompositions with the current best count 18.\n",
      "\n",
      " 99%|██████████████████████████████████████████████████████████████████████████████████████████████████████████▍| 196/197 [00:00<?, ?trial/s, best loss=?]\u001b[A\n",
      "100%|█████████████████████████████████████████████████████████████████████████████| 197/197 [05:49<00:00, 349.90s/trial, best loss: -0.001399621949531138]\u001b[A"
     ]
    },
    {
     "name": "stderr",
     "output_type": "stream",
     "text": [
      "Epochs:  16%|███████████████▊                                                                                      | 31/200 [2:52:42<16:02:39, 341.77s/it]"
     ]
    },
    {
     "name": "stdout",
     "output_type": "stream",
     "text": [
      "\n",
      "\n",
      "Found no better decompositions. Found 0 decompositions with the current best count 18.\n",
      "\n",
      " 99%|██████████████████████████████████████████████████████████████████████████████████████████████████████████▍| 197/198 [00:00<?, ?trial/s, best loss=?]\u001b[A\n",
      "100%|█████████████████████████████████████████████████████████████████████████████| 198/198 [05:20<00:00, 320.19s/trial, best loss: -0.001399621949531138]\u001b[A"
     ]
    },
    {
     "name": "stderr",
     "output_type": "stream",
     "text": [
      "Epochs:  16%|████████████████▎                                                                                     | 32/200 [2:58:02<15:38:58, 335.35s/it]"
     ]
    },
    {
     "name": "stdout",
     "output_type": "stream",
     "text": [
      "\n",
      "\n",
      "Found no better decompositions. Found 0 decompositions with the current best count 18.\n",
      "\n",
      " 99%|██████████████████████████████████████████████████████████████████████████████████████████████████████████▍| 198/199 [00:00<?, ?trial/s, best loss=?]\u001b[A\n",
      "100%|█████████████████████████████████████████████████████████████████████████████| 199/199 [05:24<00:00, 324.05s/trial, best loss: -0.001399621949531138]\u001b[A"
     ]
    },
    {
     "name": "stderr",
     "output_type": "stream",
     "text": [
      "Epochs:  16%|████████████████▊                                                                                     | 33/200 [3:03:27<15:24:06, 332.01s/it]"
     ]
    },
    {
     "name": "stdout",
     "output_type": "stream",
     "text": [
      "\n",
      "\n",
      "Found no better decompositions. Found 0 decompositions with the current best count 18.\n",
      "\n",
      "100%|██████████████████████████████████████████████████████████████████████████████████████████████████████████▍| 199/200 [00:00<?, ?trial/s, best loss=?]\u001b[A\n",
      "100%|█████████████████████████████████████████████████████████████████████████████| 200/200 [05:38<00:00, 338.46s/trial, best loss: -0.001399621949531138]\u001b[A"
     ]
    },
    {
     "name": "stderr",
     "output_type": "stream",
     "text": [
      "Epochs:  17%|█████████████████▎                                                                                    | 34/200 [3:09:05<15:24:04, 334.01s/it]"
     ]
    },
    {
     "name": "stdout",
     "output_type": "stream",
     "text": [
      "\n",
      "\n",
      "Found no better decompositions. Found 0 decompositions with the current best count 18.\n",
      "\n",
      "100%|██████████████████████████████████████████████████████████████████████████████████████████████████████████▍| 200/201 [00:00<?, ?trial/s, best loss=?]\u001b[A\n",
      "100%|█████████████████████████████████████████████████████████████████████████████| 201/201 [05:24<00:00, 324.98s/trial, best loss: -0.001399621949531138]\u001b[A"
     ]
    },
    {
     "name": "stderr",
     "output_type": "stream",
     "text": [
      "Epochs:  18%|█████████████████▊                                                                                    | 35/200 [3:14:30<15:11:12, 331.35s/it]"
     ]
    },
    {
     "name": "stdout",
     "output_type": "stream",
     "text": [
      "\n",
      "\n",
      "Found no better decompositions. Found 0 decompositions with the current best count 18.\n",
      "\n",
      "100%|██████████████████████████████████████████████████████████████████████████████████████████████████████████▍| 201/202 [00:00<?, ?trial/s, best loss=?]\u001b[A\n",
      "100%|█████████████████████████████████████████████████████████████████████████████| 202/202 [05:35<00:00, 335.49s/trial, best loss: -0.001399621949531138]\u001b[A"
     ]
    },
    {
     "name": "stderr",
     "output_type": "stream",
     "text": [
      "Epochs:  18%|██████████████████▎                                                                                   | 36/200 [3:20:06<15:09:13, 332.64s/it]"
     ]
    },
    {
     "name": "stdout",
     "output_type": "stream",
     "text": [
      "\n",
      "\n",
      "Found no better decompositions. Found 0 decompositions with the current best count 18.\n",
      "\n",
      "100%|██████████████████████████████████████████████████████████████████████████████████████████████████████████▍| 202/203 [00:00<?, ?trial/s, best loss=?]\u001b[A\n",
      "100%|█████████████████████████████████████████████████████████████████████████████| 203/203 [05:22<00:00, 322.69s/trial, best loss: -0.001399621949531138]\u001b[A"
     ]
    },
    {
     "name": "stderr",
     "output_type": "stream",
     "text": [
      "Epochs:  18%|██████████████████▊                                                                                   | 37/200 [3:25:29<14:55:41, 329.70s/it]"
     ]
    },
    {
     "name": "stdout",
     "output_type": "stream",
     "text": [
      "\n",
      "\n",
      "Found no better decompositions. Found 0 decompositions with the current best count 18.\n",
      "\n",
      "100%|██████████████████████████████████████████████████████████████████████████████████████████████████████████▍| 203/204 [00:00<?, ?trial/s, best loss=?]\u001b[A\n",
      "100%|█████████████████████████████████████████████████████████████████████████████| 204/204 [05:27<00:00, 327.35s/trial, best loss: -0.001399621949531138]\u001b[A"
     ]
    },
    {
     "name": "stderr",
     "output_type": "stream",
     "text": [
      "Epochs:  19%|███████████████████▍                                                                                  | 38/200 [3:30:56<14:48:26, 329.05s/it]"
     ]
    },
    {
     "name": "stdout",
     "output_type": "stream",
     "text": [
      "\n",
      "\n",
      "Found no better decompositions. Found 0 decompositions with the current best count 18.\n",
      "\n",
      "100%|██████████████████████████████████████████████████████████████████████████████████████████████████████████▍| 204/205 [00:00<?, ?trial/s, best loss=?]\u001b[A\n",
      "100%|█████████████████████████████████████████████████████████████████████████████| 205/205 [05:41<00:00, 341.90s/trial, best loss: -0.001399621949531138]\u001b[A"
     ]
    },
    {
     "name": "stderr",
     "output_type": "stream",
     "text": [
      "Epochs:  20%|███████████████████▉                                                                                  | 39/200 [3:36:39<14:53:26, 332.96s/it]"
     ]
    },
    {
     "name": "stdout",
     "output_type": "stream",
     "text": [
      "\n",
      "\n",
      "Found no better decompositions. Found 0 decompositions with the current best count 18.\n",
      "\n",
      "100%|██████████████████████████████████████████████████████████████████████████████████████████████████████████▍| 205/206 [00:00<?, ?trial/s, best loss=?]\u001b[A\n",
      "100%|█████████████████████████████████████████████████████████████████████████████| 206/206 [05:46<00:00, 346.47s/trial, best loss: -0.001399621949531138]\u001b[A"
     ]
    },
    {
     "name": "stderr",
     "output_type": "stream",
     "text": [
      "Epochs:  20%|████████████████████▍                                                                                 | 40/200 [3:42:25<14:58:50, 337.06s/it]"
     ]
    },
    {
     "name": "stdout",
     "output_type": "stream",
     "text": [
      "\n",
      "\n",
      "Found no better decompositions. Found 0 decompositions with the current best count 18.\n",
      "\n",
      "100%|██████████████████████████████████████████████████████████████████████████████████████████████████████████▍| 206/207 [00:00<?, ?trial/s, best loss=?]\u001b[A\n",
      "100%|█████████████████████████████████████████████████████████████████████████████| 207/207 [05:26<00:00, 326.74s/trial, best loss: -0.001399621949531138]\u001b[A"
     ]
    },
    {
     "name": "stderr",
     "output_type": "stream",
     "text": [
      "Epochs:  20%|████████████████████▉                                                                                 | 41/200 [3:47:52<14:45:09, 334.02s/it]"
     ]
    },
    {
     "name": "stdout",
     "output_type": "stream",
     "text": [
      "\n",
      "\n",
      "Found no better decompositions. Found 0 decompositions with the current best count 18.\n",
      "\n",
      "100%|██████████████████████████████████████████████████████████████████████████████████████████████████████████▍| 207/208 [00:00<?, ?trial/s, best loss=?]\u001b[A\n",
      "100%|█████████████████████████████████████████████████████████████████████████████| 208/208 [05:21<00:00, 321.05s/trial, best loss: -0.001399621949531138]\u001b[A"
     ]
    },
    {
     "name": "stderr",
     "output_type": "stream",
     "text": [
      "Epochs:  21%|█████████████████████▍                                                                                | 42/200 [3:53:13<14:29:29, 330.19s/it]"
     ]
    },
    {
     "name": "stdout",
     "output_type": "stream",
     "text": [
      "\n",
      "\n",
      "Found no better decompositions. Found 0 decompositions with the current best count 18.\n",
      "\n",
      "100%|██████████████████████████████████████████████████████████████████████████████████████████████████████████▍| 208/209 [00:00<?, ?trial/s, best loss=?]\u001b[A\n",
      "100%|█████████████████████████████████████████████████████████████████████████████| 209/209 [05:00<00:00, 300.74s/trial, best loss: -0.001399621949531138]\u001b[A"
     ]
    },
    {
     "name": "stderr",
     "output_type": "stream",
     "text": [
      "Epochs:  22%|█████████████████████▉                                                                                | 43/200 [3:58:14<14:00:59, 321.40s/it]"
     ]
    },
    {
     "name": "stdout",
     "output_type": "stream",
     "text": [
      "\n",
      "\n",
      "Found no better decompositions. Found 0 decompositions with the current best count 18.\n",
      "\n",
      "100%|██████████████████████████████████████████████████████████████████████████████████████████████████████████▍| 209/210 [00:00<?, ?trial/s, best loss=?]\u001b[A\n",
      "100%|█████████████████████████████████████████████████████████████████████████████| 210/210 [05:14<00:00, 314.60s/trial, best loss: -0.001399621949531138]\u001b[A"
     ]
    },
    {
     "name": "stderr",
     "output_type": "stream",
     "text": [
      "Epochs:  22%|██████████████████████▍                                                                               | 44/200 [4:03:29<13:50:28, 319.41s/it]"
     ]
    },
    {
     "name": "stdout",
     "output_type": "stream",
     "text": [
      "\n",
      "\n",
      "Found no better decompositions. Found 0 decompositions with the current best count 18.\n",
      "\n",
      "100%|██████████████████████████████████████████████████████████████████████████████████████████████████████████▍| 210/211 [00:00<?, ?trial/s, best loss=?]\u001b[A"
     ]
    }
   ],
   "source": [
    "layer = chain_layer(4)\n",
    "\n",
    "u_target = u_toff4\n",
    "decomposer = Decompose(layer, u_target=u_target)\n",
    "st = 'data/toff4_chain/'\n",
    "\n",
    "static_options = {\n",
    "    'batch_size':400}\n",
    "\n",
    "adaptive_options = {\n",
    "    'max_evals': 200,\n",
    "    'evals_between_verification': 1,\n",
    "    'min_num_cp_gates': 27,\n",
    "    'max_num_cp_gates': 32,\n",
    "    'target_num_gates': 16}\n",
    "\n",
    "adaptive_results = decomposer.adaptive(\n",
    "    static_options=static_options,\n",
    "    adaptive_options=adaptive_options,\n",
    "    save_to=st,\n",
    "    overwrite_existing_trials=False,\n",
    "    overwrite_existing_decompositions=False)"
   ]
  },
  {
   "cell_type": "code",
   "execution_count": 2,
   "id": "faaf1c47-0253-4b0a-825c-27a7dc752734",
   "metadata": {},
   "outputs": [
    {
     "name": "stdout",
     "output_type": "stream",
     "text": [
      "avg best error: -0.001399621949531138\n"
     ]
    },
    {
     "data": {
      "image/png": "[encoded data removed]",
      "text/plain": [
       "<Figure size 432x288 with 1 Axes>"
      ]
     },
     "metadata": {
      "needs_background": "light"
     },
     "output_type": "display_data"
    },
    {
     "name": "stdout",
     "output_type": "stream",
     "text": [
      "finite loss range -0.001399621949531138 -0.0 -1.0013996219495311\n"
     ]
    },
    {
     "data": {
      "image/png": "[encoded data removed]",
      "text/plain": [
       "<Figure size 432x288 with 2 Axes>"
      ]
     },
     "metadata": {
      "needs_background": "light"
     },
     "output_type": "display_data"
    }
   ],
   "source": [
    "trials, decompositions = Decompose.load_trials_and_decompositions('data/toff4_chain/')\n",
    "plotting.main_plot_history(trials)\n",
    "plotting.main_plot_vars(trials)"
   ]
  },
  {
   "cell_type": "code",
   "execution_count": 3,
   "id": "38bd98d1-012b-44c1-be49-e9522ffc12b4",
   "metadata": {},
   "outputs": [
    {
     "name": "stdout",
     "output_type": "stream",
     "text": [
      "\n",
      "Starting decomposition routine with the following options:\n",
      "\n",
      "{'accepted_num_gates': 17,\n",
      " 'batch_size': 5000,\n",
      " 'cp_dist': 'uniform',\n",
      " 'entry_loss': 0.001,\n",
      " 'learning_rate': 0.01,\n",
      " 'method': 'adam',\n",
      " 'num_gd_iterations': 2000,\n",
      " 'target_loss': 1e-06,\n",
      " 'threshold_cp': 0.2}\n",
      "\n",
      "Computing raw results...\n",
      "\n",
      "Selecting prospective results...\n"
     ]
    },
    {
     "name": "stderr",
     "output_type": "stream",
     "text": [
      "5000it [00:04, 1101.03it/s]"
     ]
    },
    {
     "name": "stdout",
     "output_type": "stream",
     "text": [
      "No results passed.\n"
     ]
    },
    {
     "name": "stderr",
     "output_type": "stream",
     "text": [
      "\n"
     ]
    }
   ],
   "source": [
    "layer = [[0,1], [0,2], [0,3]]\n",
    "\n",
    "u_target = u_toff4\n",
    "decomposer = Decompose(layer, u_target=u_target)\n",
    "\n",
    "static_options = {'batch_size':5000,\n",
    "                 'accepted_num_gates': 17}\n",
    "\n",
    "static_results = decomposer.static(\n",
    "    41,\n",
    "    0.003472913211387546,\n",
    "    key=random.PRNGKey(2),\n",
    "    options=static_options,\n",
    "    save_to='data/toff4_star/',\n",
    "    overwrite_existing=False,\n",
    "    )"
   ]
  },
  {
   "cell_type": "code",
   "execution_count": 4,
   "id": "85c4c080-289c-45ff-a03d-acb50d63a7fd",
   "metadata": {},
   "outputs": [
    {
     "name": "stdout",
     "output_type": "stream",
     "text": [
      "\n",
      "Starting decomposition routine with the following options:\n",
      "\n",
      "{'accepted_num_gates': 17,\n",
      " 'batch_size': 5000,\n",
      " 'cp_dist': 'uniform',\n",
      " 'entry_loss': 0.001,\n",
      " 'learning_rate': 0.01,\n",
      " 'method': 'adam',\n",
      " 'num_gd_iterations': 2000,\n",
      " 'target_loss': 1e-06,\n",
      " 'threshold_cp': 0.2}\n",
      "\n",
      "Computing raw results...\n",
      "\n",
      "Selecting prospective results...\n"
     ]
    },
    {
     "name": "stderr",
     "output_type": "stream",
     "text": [
      "5000it [00:02, 1810.54it/s]"
     ]
    },
    {
     "name": "stdout",
     "output_type": "stream",
     "text": [
      "No results passed.\n"
     ]
    },
    {
     "name": "stderr",
     "output_type": "stream",
     "text": [
      "\n"
     ]
    }
   ],
   "source": [
    "layer = [[0,1], [0,2], [0,3]]\n",
    "\n",
    "u_target = u_toff4\n",
    "decomposer = Decompose(layer, u_target=u_target)\n",
    "\n",
    "static_options = {'batch_size':5000,\n",
    "                 'accepted_num_gates': 17}\n",
    "\n",
    "static_results = decomposer.static(\n",
    "    41,\n",
    "    0.003472913211387546,\n",
    "    key=random.PRNGKey(101),\n",
    "    options=static_options,\n",
    "    save_to='data/toff4_star/',\n",
    "    overwrite_existing=False,\n",
    "    )"
   ]
  },
  {
   "cell_type": "markdown",
   "id": "43a2133f-be1f-4e42-b538-731611ef7ec7",
   "metadata": {
    "tags": []
   },
   "source": [
    "# Toffoli 3"
   ]
  },
  {
   "cell_type": "markdown",
   "id": "e644f669-ad6e-4b88-936c-5373676d0d53",
   "metadata": {
    "jp-MarkdownHeadingCollapsed": true,
    "tags": []
   },
   "source": [
    "## Relative phase"
   ]
  },
  {
   "cell_type": "code",
   "execution_count": 25,
   "id": "62ff899c-668f-4a93-836c-b5f9be582b47",
   "metadata": {
    "collapsed": true,
    "jupyter": {
     "outputs_hidden": true
    },
    "tags": []
   },
   "outputs": [
    {
     "name": "stdout",
     "output_type": "stream",
     "text": [
      "\n",
      "Starting decomposition routine with the following options:\n",
      "\n",
      "Static:\n",
      "{'accepted_num_gates': 4,\n",
      " 'batch_size': 20,\n",
      " 'cp_dist': 'uniform',\n",
      " 'entry_loss': 0.001,\n",
      " 'learning_rate': 0.01,\n",
      " 'method': 'adam',\n",
      " 'num_gd_iterations': 2000,\n",
      " 'target_loss': 1e-06,\n",
      " 'threshold_cp': 0.2}\n",
      "\n",
      "Adaptive:\n",
      "{'evals_between_verification': 1,\n",
      " 'hyperopt_random_seed': 0,\n",
      " 'max_evals': 20,\n",
      " 'max_num_cp_gates': 8,\n",
      " 'min_num_cp_gates': 2,\n",
      " 'r_mean': 0.00055,\n",
      " 'r_variance': 0.5,\n",
      " 'stop_if_target_reached': False,\n",
      " 'target_num_gates': 3}\n",
      "\n",
      "\n"
     ]
    },
    {
     "name": "stderr",
     "output_type": "stream",
     "text": [
      "Epochs:   0%|                                                                                                                      | 0/20 [00:00<?, ?it/s]"
     ]
    },
    {
     "name": "stdout",
     "output_type": "stream",
     "text": [
      "\n",
      "  0%|                                                                                                               | 0/1 [00:00<?, ?trial/s, best loss=?]\u001b[A\n",
      "100%|███████████████████████████████████████████████████████████████████████████████████████████████████| 1/1 [00:17<00:00, 17.32s/trial, best loss: -0.0]\u001b[A"
     ]
    },
    {
     "name": "stderr",
     "output_type": "stream",
     "text": [
      "Epochs:   5%|█████▌                                                                                                        | 1/20 [00:17<05:29, 17.33s/it]"
     ]
    },
    {
     "name": "stdout",
     "output_type": "stream",
     "text": [
      "\n",
      "\n",
      "Found no better decompositions. Found 0 decompositions with the current best count 14.\n",
      "\n",
      " 50%|███████████████████████████████████████████████████████▌                                                       | 1/2 [00:00<?, ?trial/s, best loss=?]\u001b[A\n",
      "100%|███████████████████████████████████████████████████████████████████████████████████████████████████| 2/2 [00:20<00:00, 20.54s/trial, best loss: -0.0]\u001b[A"
     ]
    },
    {
     "name": "stderr",
     "output_type": "stream",
     "text": [
      "Epochs:  10%|███████████                                                                                                   | 2/20 [00:37<05:46, 19.23s/it]"
     ]
    },
    {
     "name": "stdout",
     "output_type": "stream",
     "text": [
      "\n",
      "\n",
      "Found no better decompositions. Found 0 decompositions with the current best count 14.\n",
      "\n",
      " 67%|██████████████████████████████████████████████████████████████████████████                                     | 2/3 [00:00<?, ?trial/s, best loss=?]\u001b[A\n",
      "100%|███████████████████████████████████████████████████████████████████████████████████████████████████| 3/3 [00:16<00:00, 16.96s/trial, best loss: -0.0]\u001b[A"
     ]
    },
    {
     "name": "stderr",
     "output_type": "stream",
     "text": [
      "Epochs:  15%|████████████████▌                                                                                             | 3/20 [00:54<05:09, 18.20s/it]"
     ]
    },
    {
     "name": "stdout",
     "output_type": "stream",
     "text": [
      "\n",
      "\n",
      "Found no better decompositions. Found 0 decompositions with the current best count 14.\n",
      "\n",
      " 75%|███████████████████████████████████████████████████████████████████████████████████▎                           | 3/4 [00:00<?, ?trial/s, best loss=?]\u001b[A\n",
      "100%|███████████████████████████████████████████████████████████████████████████████████| 4/4 [00:23<00:00, 23.10s/trial, best loss: -0.30937498807907104]\u001b[A\n",
      "\n",
      "Found 20 decompositions potentially better than current best count 14, verifying...\n",
      "vefigying with options\n",
      "{'cp_dist': 'uniform', 'entry_loss': 0.001, 'target_loss': 1e-06, 'threshold_cp': 0.2, 'batch_size': 20, 'num_gd_iterations': 2000, 'method': 'adam', 'learning_rate': 0.01, 'accepted_num_gates': 4}\n"
     ]
    },
    {
     "name": "stderr",
     "output_type": "stream",
     "text": [
      "Epochs:  20%|██████████████████████                                                                                        | 4/20 [01:40<07:47, 29.21s/it]"
     ]
    },
    {
     "name": "stdout",
     "output_type": "stream",
     "text": [
      "\n",
      "Found new decomposition with 3 gates.\n",
      "\n",
      "\n",
      " 80%|████████████████████████████████████████████████████████████████████████████████████████▊                      | 4/5 [00:10<?, ?trial/s, best loss=?]\u001b[A"
     ]
    },
    {
     "name": "stderr",
     "output_type": "stream",
     "text": [
      "Epochs:  20%|██████████████████████                                                                                        | 4/20 [01:51<07:24, 27.78s/it]"
     ]
    },
    {
     "name": "stdout",
     "output_type": "stream",
     "text": [
      "\n"
     ]
    },
    {
     "name": "stderr",
     "output_type": "stream",
     "text": [
      "\n"
     ]
    },
    {
     "ename": "KeyboardInterrupt",
     "evalue": "",
     "output_type": "error",
     "traceback": [
      "\u001b[0;31m---------------------------------------------------------------------------\u001b[0m",
      "\u001b[0;31mKeyboardInterrupt\u001b[0m                         Traceback (most recent call last)",
      "\u001b[0;32m/tmp/ipykernel_192684/373500385.py\u001b[0m in \u001b[0;36m<module>\u001b[0;34m\u001b[0m\n\u001b[1;32m     20\u001b[0m     \u001b[0msave_to\u001b[0m \u001b[0;34m=\u001b[0m \u001b[0;34m'data/toff3_relative/'\u001b[0m\u001b[0;34m,\u001b[0m\u001b[0;34m\u001b[0m\u001b[0;34m\u001b[0m\u001b[0m\n\u001b[1;32m     21\u001b[0m     \u001b[0moverwrite_existing_trials\u001b[0m\u001b[0;34m=\u001b[0m\u001b[0;32mTrue\u001b[0m\u001b[0;34m,\u001b[0m\u001b[0;34m\u001b[0m\u001b[0;34m\u001b[0m\u001b[0m\n\u001b[0;32m---> 22\u001b[0;31m     \u001b[0moverwrite_existing_decompositions\u001b[0m\u001b[0;34m=\u001b[0m\u001b[0;32mTrue\u001b[0m\u001b[0;34m,\u001b[0m\u001b[0;34m\u001b[0m\u001b[0;34m\u001b[0m\u001b[0m\n\u001b[0m\u001b[1;32m     23\u001b[0m )\n",
      "\u001b[0;32m~/Programming projects/jax_circuits/jax_circuits.py\u001b[0m in \u001b[0;36madaptive\u001b[0;34m(self, static_options, adaptive_options, save_to, overwrite_existing_trials, overwrite_existing_decompositions)\u001b[0m\n\u001b[1;32m    544\u001b[0m                 \u001b[0mmax_evals\u001b[0m\u001b[0;34m=\u001b[0m\u001b[0madaptive_options\u001b[0m\u001b[0;34m[\u001b[0m\u001b[0;34m'evals_between_verification'\u001b[0m\u001b[0;34m]\u001b[0m \u001b[0;34m+\u001b[0m \u001b[0mlen\u001b[0m\u001b[0;34m(\u001b[0m\u001b[0mtrials\u001b[0m\u001b[0;34m.\u001b[0m\u001b[0mtrials\u001b[0m\u001b[0;34m)\u001b[0m\u001b[0;34m,\u001b[0m\u001b[0;34m\u001b[0m\u001b[0;34m\u001b[0m\u001b[0m\n\u001b[1;32m    545\u001b[0m                 \u001b[0mtrials\u001b[0m\u001b[0;34m=\u001b[0m\u001b[0mtrials\u001b[0m\u001b[0;34m,\u001b[0m\u001b[0;34m\u001b[0m\u001b[0;34m\u001b[0m\u001b[0m\n\u001b[0;32m--> 546\u001b[0;31m                 rstate=np.random.default_rng(hyper_random_seed))\n\u001b[0m\u001b[1;32m    547\u001b[0m             \u001b[0mhyper_random_seed\u001b[0m \u001b[0;34m+=\u001b[0m \u001b[0;36m1\u001b[0m\u001b[0;34m\u001b[0m\u001b[0;34m\u001b[0m\u001b[0m\n\u001b[1;32m    548\u001b[0m \u001b[0;34m\u001b[0m\u001b[0m\n",
      "\u001b[0;32m~/.local/lib/python3.7/site-packages/hyperopt/fmin.py\u001b[0m in \u001b[0;36mfmin\u001b[0;34m(fn, space, algo, max_evals, timeout, loss_threshold, trials, rstate, allow_trials_fmin, pass_expr_memo_ctrl, catch_eval_exceptions, verbose, return_argmin, points_to_evaluate, max_queue_len, show_progressbar, early_stop_fn, trials_save_file)\u001b[0m\n\u001b[1;32m    553\u001b[0m             \u001b[0mshow_progressbar\u001b[0m\u001b[0;34m=\u001b[0m\u001b[0mshow_progressbar\u001b[0m\u001b[0;34m,\u001b[0m\u001b[0;34m\u001b[0m\u001b[0;34m\u001b[0m\u001b[0m\n\u001b[1;32m    554\u001b[0m             \u001b[0mearly_stop_fn\u001b[0m\u001b[0;34m=\u001b[0m\u001b[0mearly_stop_fn\u001b[0m\u001b[0;34m,\u001b[0m\u001b[0;34m\u001b[0m\u001b[0;34m\u001b[0m\u001b[0m\n\u001b[0;32m--> 555\u001b[0;31m             \u001b[0mtrials_save_file\u001b[0m\u001b[0;34m=\u001b[0m\u001b[0mtrials_save_file\u001b[0m\u001b[0;34m,\u001b[0m\u001b[0;34m\u001b[0m\u001b[0;34m\u001b[0m\u001b[0m\n\u001b[0m\u001b[1;32m    556\u001b[0m         )\n\u001b[1;32m    557\u001b[0m \u001b[0;34m\u001b[0m\u001b[0m\n",
      "\u001b[0;32m~/.local/lib/python3.7/site-packages/hyperopt/base.py\u001b[0m in \u001b[0;36mfmin\u001b[0;34m(self, fn, space, algo, max_evals, timeout, loss_threshold, max_queue_len, rstate, verbose, pass_expr_memo_ctrl, catch_eval_exceptions, return_argmin, show_progressbar, early_stop_fn, trials_save_file)\u001b[0m\n\u001b[1;32m    686\u001b[0m             \u001b[0mshow_progressbar\u001b[0m\u001b[0;34m=\u001b[0m\u001b[0mshow_progressbar\u001b[0m\u001b[0;34m,\u001b[0m\u001b[0;34m\u001b[0m\u001b[0;34m\u001b[0m\u001b[0m\n\u001b[1;32m    687\u001b[0m             \u001b[0mearly_stop_fn\u001b[0m\u001b[0;34m=\u001b[0m\u001b[0mearly_stop_fn\u001b[0m\u001b[0;34m,\u001b[0m\u001b[0;34m\u001b[0m\u001b[0;34m\u001b[0m\u001b[0m\n\u001b[0;32m--> 688\u001b[0;31m             \u001b[0mtrials_save_file\u001b[0m\u001b[0;34m=\u001b[0m\u001b[0mtrials_save_file\u001b[0m\u001b[0;34m,\u001b[0m\u001b[0;34m\u001b[0m\u001b[0;34m\u001b[0m\u001b[0m\n\u001b[0m\u001b[1;32m    689\u001b[0m         )\n\u001b[1;32m    690\u001b[0m \u001b[0;34m\u001b[0m\u001b[0m\n",
      "\u001b[0;32m~/.local/lib/python3.7/site-packages/hyperopt/fmin.py\u001b[0m in \u001b[0;36mfmin\u001b[0;34m(fn, space, algo, max_evals, timeout, loss_threshold, trials, rstate, allow_trials_fmin, pass_expr_memo_ctrl, catch_eval_exceptions, verbose, return_argmin, points_to_evaluate, max_queue_len, show_progressbar, early_stop_fn, trials_save_file)\u001b[0m\n\u001b[1;32m    584\u001b[0m \u001b[0;34m\u001b[0m\u001b[0m\n\u001b[1;32m    585\u001b[0m     \u001b[0;31m# next line is where the fmin is actually executed\u001b[0m\u001b[0;34m\u001b[0m\u001b[0;34m\u001b[0m\u001b[0;34m\u001b[0m\u001b[0m\n\u001b[0;32m--> 586\u001b[0;31m     \u001b[0mrval\u001b[0m\u001b[0;34m.\u001b[0m\u001b[0mexhaust\u001b[0m\u001b[0;34m(\u001b[0m\u001b[0;34m)\u001b[0m\u001b[0;34m\u001b[0m\u001b[0;34m\u001b[0m\u001b[0m\n\u001b[0m\u001b[1;32m    587\u001b[0m \u001b[0;34m\u001b[0m\u001b[0m\n\u001b[1;32m    588\u001b[0m     \u001b[0;32mif\u001b[0m \u001b[0mreturn_argmin\u001b[0m\u001b[0;34m:\u001b[0m\u001b[0;34m\u001b[0m\u001b[0;34m\u001b[0m\u001b[0m\n",
      "\u001b[0;32m~/.local/lib/python3.7/site-packages/hyperopt/fmin.py\u001b[0m in \u001b[0;36mexhaust\u001b[0;34m(self)\u001b[0m\n\u001b[1;32m    362\u001b[0m     \u001b[0;32mdef\u001b[0m \u001b[0mexhaust\u001b[0m\u001b[0;34m(\u001b[0m\u001b[0mself\u001b[0m\u001b[0;34m)\u001b[0m\u001b[0;34m:\u001b[0m\u001b[0;34m\u001b[0m\u001b[0;34m\u001b[0m\u001b[0m\n\u001b[1;32m    363\u001b[0m         \u001b[0mn_done\u001b[0m \u001b[0;34m=\u001b[0m \u001b[0mlen\u001b[0m\u001b[0;34m(\u001b[0m\u001b[0mself\u001b[0m\u001b[0;34m.\u001b[0m\u001b[0mtrials\u001b[0m\u001b[0;34m)\u001b[0m\u001b[0;34m\u001b[0m\u001b[0;34m\u001b[0m\u001b[0m\n\u001b[0;32m--> 364\u001b[0;31m         \u001b[0mself\u001b[0m\u001b[0;34m.\u001b[0m\u001b[0mrun\u001b[0m\u001b[0;34m(\u001b[0m\u001b[0mself\u001b[0m\u001b[0;34m.\u001b[0m\u001b[0mmax_evals\u001b[0m \u001b[0;34m-\u001b[0m \u001b[0mn_done\u001b[0m\u001b[0;34m,\u001b[0m \u001b[0mblock_until_done\u001b[0m\u001b[0;34m=\u001b[0m\u001b[0mself\u001b[0m\u001b[0;34m.\u001b[0m\u001b[0masynchronous\u001b[0m\u001b[0;34m)\u001b[0m\u001b[0;34m\u001b[0m\u001b[0;34m\u001b[0m\u001b[0m\n\u001b[0m\u001b[1;32m    365\u001b[0m         \u001b[0mself\u001b[0m\u001b[0;34m.\u001b[0m\u001b[0mtrials\u001b[0m\u001b[0;34m.\u001b[0m\u001b[0mrefresh\u001b[0m\u001b[0;34m(\u001b[0m\u001b[0;34m)\u001b[0m\u001b[0;34m\u001b[0m\u001b[0;34m\u001b[0m\u001b[0m\n\u001b[1;32m    366\u001b[0m         \u001b[0;32mreturn\u001b[0m \u001b[0mself\u001b[0m\u001b[0;34m\u001b[0m\u001b[0;34m\u001b[0m\u001b[0m\n",
      "\u001b[0;32m~/.local/lib/python3.7/site-packages/hyperopt/fmin.py\u001b[0m in \u001b[0;36mrun\u001b[0;34m(self, N, block_until_done)\u001b[0m\n\u001b[1;32m    298\u001b[0m                 \u001b[0;32melse\u001b[0m\u001b[0;34m:\u001b[0m\u001b[0;34m\u001b[0m\u001b[0;34m\u001b[0m\u001b[0m\n\u001b[1;32m    299\u001b[0m                     \u001b[0;31m# -- loop over trials and do the jobs directly\u001b[0m\u001b[0;34m\u001b[0m\u001b[0;34m\u001b[0m\u001b[0;34m\u001b[0m\u001b[0m\n\u001b[0;32m--> 300\u001b[0;31m                     \u001b[0mself\u001b[0m\u001b[0;34m.\u001b[0m\u001b[0mserial_evaluate\u001b[0m\u001b[0;34m(\u001b[0m\u001b[0;34m)\u001b[0m\u001b[0;34m\u001b[0m\u001b[0;34m\u001b[0m\u001b[0m\n\u001b[0m\u001b[1;32m    301\u001b[0m \u001b[0;34m\u001b[0m\u001b[0m\n\u001b[1;32m    302\u001b[0m                 \u001b[0mself\u001b[0m\u001b[0;34m.\u001b[0m\u001b[0mtrials\u001b[0m\u001b[0;34m.\u001b[0m\u001b[0mrefresh\u001b[0m\u001b[0;34m(\u001b[0m\u001b[0;34m)\u001b[0m\u001b[0;34m\u001b[0m\u001b[0;34m\u001b[0m\u001b[0m\n",
      "\u001b[0;32m~/.local/lib/python3.7/site-packages/hyperopt/fmin.py\u001b[0m in \u001b[0;36mserial_evaluate\u001b[0;34m(self, N)\u001b[0m\n\u001b[1;32m    176\u001b[0m                 \u001b[0mctrl\u001b[0m \u001b[0;34m=\u001b[0m \u001b[0mbase\u001b[0m\u001b[0;34m.\u001b[0m\u001b[0mCtrl\u001b[0m\u001b[0;34m(\u001b[0m\u001b[0mself\u001b[0m\u001b[0;34m.\u001b[0m\u001b[0mtrials\u001b[0m\u001b[0;34m,\u001b[0m \u001b[0mcurrent_trial\u001b[0m\u001b[0;34m=\u001b[0m\u001b[0mtrial\u001b[0m\u001b[0;34m)\u001b[0m\u001b[0;34m\u001b[0m\u001b[0;34m\u001b[0m\u001b[0m\n\u001b[1;32m    177\u001b[0m                 \u001b[0;32mtry\u001b[0m\u001b[0;34m:\u001b[0m\u001b[0;34m\u001b[0m\u001b[0;34m\u001b[0m\u001b[0m\n\u001b[0;32m--> 178\u001b[0;31m                     \u001b[0mresult\u001b[0m \u001b[0;34m=\u001b[0m \u001b[0mself\u001b[0m\u001b[0;34m.\u001b[0m\u001b[0mdomain\u001b[0m\u001b[0;34m.\u001b[0m\u001b[0mevaluate\u001b[0m\u001b[0;34m(\u001b[0m\u001b[0mspec\u001b[0m\u001b[0;34m,\u001b[0m \u001b[0mctrl\u001b[0m\u001b[0;34m)\u001b[0m\u001b[0;34m\u001b[0m\u001b[0;34m\u001b[0m\u001b[0m\n\u001b[0m\u001b[1;32m    179\u001b[0m                 \u001b[0;32mexcept\u001b[0m \u001b[0mException\u001b[0m \u001b[0;32mas\u001b[0m \u001b[0me\u001b[0m\u001b[0;34m:\u001b[0m\u001b[0;34m\u001b[0m\u001b[0;34m\u001b[0m\u001b[0m\n\u001b[1;32m    180\u001b[0m                     \u001b[0mlogger\u001b[0m\u001b[0;34m.\u001b[0m\u001b[0merror\u001b[0m\u001b[0;34m(\u001b[0m\u001b[0;34m\"job exception: %s\"\u001b[0m \u001b[0;34m%\u001b[0m \u001b[0mstr\u001b[0m\u001b[0;34m(\u001b[0m\u001b[0me\u001b[0m\u001b[0;34m)\u001b[0m\u001b[0;34m)\u001b[0m\u001b[0;34m\u001b[0m\u001b[0;34m\u001b[0m\u001b[0m\n",
      "\u001b[0;32m~/.local/lib/python3.7/site-packages/hyperopt/base.py\u001b[0m in \u001b[0;36mevaluate\u001b[0;34m(self, config, ctrl, attach_attachments)\u001b[0m\n\u001b[1;32m    890\u001b[0m                 \u001b[0mprint_node_on_error\u001b[0m\u001b[0;34m=\u001b[0m\u001b[0mself\u001b[0m\u001b[0;34m.\u001b[0m\u001b[0mrec_eval_print_node_on_error\u001b[0m\u001b[0;34m,\u001b[0m\u001b[0;34m\u001b[0m\u001b[0;34m\u001b[0m\u001b[0m\n\u001b[1;32m    891\u001b[0m             )\n\u001b[0;32m--> 892\u001b[0;31m             \u001b[0mrval\u001b[0m \u001b[0;34m=\u001b[0m \u001b[0mself\u001b[0m\u001b[0;34m.\u001b[0m\u001b[0mfn\u001b[0m\u001b[0;34m(\u001b[0m\u001b[0mpyll_rval\u001b[0m\u001b[0;34m)\u001b[0m\u001b[0;34m\u001b[0m\u001b[0;34m\u001b[0m\u001b[0m\n\u001b[0m\u001b[1;32m    893\u001b[0m \u001b[0;34m\u001b[0m\u001b[0m\n\u001b[1;32m    894\u001b[0m         \u001b[0;32mif\u001b[0m \u001b[0misinstance\u001b[0m\u001b[0;34m(\u001b[0m\u001b[0mrval\u001b[0m\u001b[0;34m,\u001b[0m \u001b[0;34m(\u001b[0m\u001b[0mfloat\u001b[0m\u001b[0;34m,\u001b[0m \u001b[0mint\u001b[0m\u001b[0;34m,\u001b[0m \u001b[0mnp\u001b[0m\u001b[0;34m.\u001b[0m\u001b[0mnumber\u001b[0m\u001b[0;34m)\u001b[0m\u001b[0;34m)\u001b[0m\u001b[0;34m:\u001b[0m\u001b[0;34m\u001b[0m\u001b[0;34m\u001b[0m\u001b[0m\n",
      "\u001b[0;32m~/Programming projects/jax_circuits/jax_circuits.py\u001b[0m in \u001b[0;36mobjective_from_cz_distribution\u001b[0;34m(search_params)\u001b[0m\n\u001b[1;32m    475\u001b[0m                 \u001b[0mr\u001b[0m\u001b[0;34m,\u001b[0m\u001b[0;34m\u001b[0m\u001b[0;34m\u001b[0m\u001b[0m\n\u001b[1;32m    476\u001b[0m                 \u001b[0mkey\u001b[0m\u001b[0;34m=\u001b[0m\u001b[0mrandom\u001b[0m\u001b[0;34m.\u001b[0m\u001b[0mPRNGKey\u001b[0m\u001b[0;34m(\u001b[0m\u001b[0mangles_random_seed\u001b[0m\u001b[0;34m)\u001b[0m\u001b[0;34m,\u001b[0m\u001b[0;34m\u001b[0m\u001b[0;34m\u001b[0m\u001b[0m\n\u001b[0;32m--> 477\u001b[0;31m                 options=static_options)\n\u001b[0m\u001b[1;32m    478\u001b[0m \u001b[0;34m\u001b[0m\u001b[0m\n\u001b[1;32m    479\u001b[0m             evaluated_results = Decompose.evaluate_raw(\n",
      "\u001b[0;32m~/Programming projects/jax_circuits/jax_circuits.py\u001b[0m in \u001b[0;36mgenerate_raw\u001b[0;34m(self, num_cp_gates, r, key, initial_angles_array, options, keep_history)\u001b[0m\n\u001b[1;32m    381\u001b[0m             \u001b[0mregularization_func\u001b[0m\u001b[0;34m=\u001b[0m\u001b[0mregularization_func\u001b[0m\u001b[0;34m,\u001b[0m\u001b[0;34m\u001b[0m\u001b[0;34m\u001b[0m\u001b[0m\n\u001b[1;32m    382\u001b[0m             \u001b[0mu_func\u001b[0m\u001b[0;34m=\u001b[0m\u001b[0manz\u001b[0m\u001b[0;34m.\u001b[0m\u001b[0munitary\u001b[0m\u001b[0;34m,\u001b[0m  \u001b[0;31m# For 'adam' this won't be used, but it will e.g. for 'natural adam'.\u001b[0m\u001b[0;34m\u001b[0m\u001b[0;34m\u001b[0m\u001b[0m\n\u001b[0;32m--> 383\u001b[0;31m             \u001b[0mkeep_history\u001b[0m\u001b[0;34m=\u001b[0m\u001b[0mkeep_history\u001b[0m\u001b[0;34m\u001b[0m\u001b[0;34m\u001b[0m\u001b[0m\n\u001b[0m\u001b[1;32m    384\u001b[0m         )\n\u001b[1;32m    385\u001b[0m \u001b[0;34m\u001b[0m\u001b[0m\n",
      "\u001b[0;32m~/Programming projects/jax_circuits/optimization.py\u001b[0m in \u001b[0;36mmynimize_repeated\u001b[0;34m(loss_func, num_params, method, learning_rate, target_loss, u_func, initial_params_batch, num_repeats, regularization_func, keep_history, compute_losses, **kwargs)\u001b[0m\n\u001b[1;32m    360\u001b[0m \u001b[0;34m\u001b[0m\u001b[0m\n\u001b[1;32m    361\u001b[0m     \u001b[0;32mif\u001b[0m \u001b[0minput_is_vector\u001b[0m\u001b[0;34m:\u001b[0m\u001b[0;34m\u001b[0m\u001b[0;34m\u001b[0m\u001b[0m\n\u001b[0;32m--> 362\u001b[0;31m         \u001b[0mbatch_params_history\u001b[0m\u001b[0;34m,\u001b[0m \u001b[0mbatch_regloss_history\u001b[0m \u001b[0;34m=\u001b[0m \u001b[0mjit\u001b[0m\u001b[0;34m(\u001b[0m\u001b[0mvmap\u001b[0m\u001b[0;34m(\u001b[0m\u001b[0mmynimize_particular\u001b[0m\u001b[0;34m)\u001b[0m\u001b[0;34m)\u001b[0m\u001b[0;34m(\u001b[0m\u001b[0mjnp\u001b[0m\u001b[0;34m.\u001b[0m\u001b[0marray\u001b[0m\u001b[0;34m(\u001b[0m\u001b[0minitial_params_batch\u001b[0m\u001b[0;34m)\u001b[0m\u001b[0;34m)\u001b[0m\u001b[0;34m\u001b[0m\u001b[0;34m\u001b[0m\u001b[0m\n\u001b[0m\u001b[1;32m    363\u001b[0m         \u001b[0mresults\u001b[0m \u001b[0;34m=\u001b[0m \u001b[0;34m[\u001b[0m\u001b[0;34m{\u001b[0m\u001b[0;34m'params'\u001b[0m\u001b[0;34m:\u001b[0m \u001b[0mp\u001b[0m\u001b[0;34m,\u001b[0m \u001b[0;34m'loss'\u001b[0m\u001b[0;34m:\u001b[0m \u001b[0ml\u001b[0m\u001b[0;34m}\u001b[0m \u001b[0;32mfor\u001b[0m \u001b[0mp\u001b[0m\u001b[0;34m,\u001b[0m \u001b[0ml\u001b[0m \u001b[0;32min\u001b[0m \u001b[0mzip\u001b[0m\u001b[0;34m(\u001b[0m\u001b[0mbatch_params_history\u001b[0m\u001b[0;34m,\u001b[0m \u001b[0mbatch_regloss_history\u001b[0m\u001b[0;34m)\u001b[0m\u001b[0;34m]\u001b[0m\u001b[0;34m\u001b[0m\u001b[0;34m\u001b[0m\u001b[0m\n\u001b[1;32m    364\u001b[0m \u001b[0;34m\u001b[0m\u001b[0m\n",
      "    \u001b[0;31m[... skipping hidden 1 frame]\u001b[0m\n",
      "\u001b[0;32m~/.local/lib/python3.7/site-packages/jax/_src/api.py\u001b[0m in \u001b[0;36mcache_miss\u001b[0;34m(*args, **kwargs)\u001b[0m\n\u001b[1;32m    417\u001b[0m         \u001b[0mflat_fun\u001b[0m\u001b[0;34m,\u001b[0m \u001b[0;34m*\u001b[0m\u001b[0margs_flat\u001b[0m\u001b[0;34m,\u001b[0m\u001b[0;34m\u001b[0m\u001b[0;34m\u001b[0m\u001b[0m\n\u001b[1;32m    418\u001b[0m         \u001b[0mdevice\u001b[0m\u001b[0;34m=\u001b[0m\u001b[0mdevice\u001b[0m\u001b[0;34m,\u001b[0m \u001b[0mbackend\u001b[0m\u001b[0;34m=\u001b[0m\u001b[0mbackend\u001b[0m\u001b[0;34m,\u001b[0m \u001b[0mname\u001b[0m\u001b[0;34m=\u001b[0m\u001b[0mflat_fun\u001b[0m\u001b[0;34m.\u001b[0m\u001b[0m__name__\u001b[0m\u001b[0;34m,\u001b[0m\u001b[0;34m\u001b[0m\u001b[0;34m\u001b[0m\u001b[0m\n\u001b[0;32m--> 419\u001b[0;31m         donated_invars=donated_invars, inline=inline)\n\u001b[0m\u001b[1;32m    420\u001b[0m     \u001b[0mout_pytree_def\u001b[0m \u001b[0;34m=\u001b[0m \u001b[0mout_tree\u001b[0m\u001b[0;34m(\u001b[0m\u001b[0;34m)\u001b[0m\u001b[0;34m\u001b[0m\u001b[0;34m\u001b[0m\u001b[0m\n\u001b[1;32m    421\u001b[0m     \u001b[0mout\u001b[0m \u001b[0;34m=\u001b[0m \u001b[0mtree_unflatten\u001b[0m\u001b[0;34m(\u001b[0m\u001b[0mout_pytree_def\u001b[0m\u001b[0;34m,\u001b[0m \u001b[0mout_flat\u001b[0m\u001b[0;34m)\u001b[0m\u001b[0;34m\u001b[0m\u001b[0;34m\u001b[0m\u001b[0m\n",
      "\u001b[0;32m~/.local/lib/python3.7/site-packages/jax/core.py\u001b[0m in \u001b[0;36mbind\u001b[0;34m(self, fun, *args, **params)\u001b[0m\n\u001b[1;32m   1630\u001b[0m \u001b[0;34m\u001b[0m\u001b[0m\n\u001b[1;32m   1631\u001b[0m   \u001b[0;32mdef\u001b[0m \u001b[0mbind\u001b[0m\u001b[0;34m(\u001b[0m\u001b[0mself\u001b[0m\u001b[0;34m,\u001b[0m \u001b[0mfun\u001b[0m\u001b[0;34m,\u001b[0m \u001b[0;34m*\u001b[0m\u001b[0margs\u001b[0m\u001b[0;34m,\u001b[0m \u001b[0;34m**\u001b[0m\u001b[0mparams\u001b[0m\u001b[0;34m)\u001b[0m\u001b[0;34m:\u001b[0m\u001b[0;34m\u001b[0m\u001b[0;34m\u001b[0m\u001b[0m\n\u001b[0;32m-> 1632\u001b[0;31m     \u001b[0;32mreturn\u001b[0m \u001b[0mcall_bind\u001b[0m\u001b[0;34m(\u001b[0m\u001b[0mself\u001b[0m\u001b[0;34m,\u001b[0m \u001b[0mfun\u001b[0m\u001b[0;34m,\u001b[0m \u001b[0;34m*\u001b[0m\u001b[0margs\u001b[0m\u001b[0;34m,\u001b[0m \u001b[0;34m**\u001b[0m\u001b[0mparams\u001b[0m\u001b[0;34m)\u001b[0m\u001b[0;34m\u001b[0m\u001b[0;34m\u001b[0m\u001b[0m\n\u001b[0m\u001b[1;32m   1633\u001b[0m \u001b[0;34m\u001b[0m\u001b[0m\n\u001b[1;32m   1634\u001b[0m   \u001b[0;32mdef\u001b[0m \u001b[0mprocess\u001b[0m\u001b[0;34m(\u001b[0m\u001b[0mself\u001b[0m\u001b[0;34m,\u001b[0m \u001b[0mtrace\u001b[0m\u001b[0;34m,\u001b[0m \u001b[0mfun\u001b[0m\u001b[0;34m,\u001b[0m \u001b[0mtracers\u001b[0m\u001b[0;34m,\u001b[0m \u001b[0mparams\u001b[0m\u001b[0;34m)\u001b[0m\u001b[0;34m:\u001b[0m\u001b[0;34m\u001b[0m\u001b[0;34m\u001b[0m\u001b[0m\n",
      "\u001b[0;32m~/.local/lib/python3.7/site-packages/jax/core.py\u001b[0m in \u001b[0;36mcall_bind\u001b[0;34m(primitive, fun, *args, **params)\u001b[0m\n\u001b[1;32m   1621\u001b[0m       params_tuple, out_axes_transforms)\n\u001b[1;32m   1622\u001b[0m   \u001b[0mtracers\u001b[0m \u001b[0;34m=\u001b[0m \u001b[0mmap\u001b[0m\u001b[0;34m(\u001b[0m\u001b[0mtop_trace\u001b[0m\u001b[0;34m.\u001b[0m\u001b[0mfull_raise\u001b[0m\u001b[0;34m,\u001b[0m \u001b[0margs\u001b[0m\u001b[0;34m)\u001b[0m\u001b[0;34m\u001b[0m\u001b[0;34m\u001b[0m\u001b[0m\n\u001b[0;32m-> 1623\u001b[0;31m   \u001b[0mouts\u001b[0m \u001b[0;34m=\u001b[0m \u001b[0mprimitive\u001b[0m\u001b[0;34m.\u001b[0m\u001b[0mprocess\u001b[0m\u001b[0;34m(\u001b[0m\u001b[0mtop_trace\u001b[0m\u001b[0;34m,\u001b[0m \u001b[0mfun\u001b[0m\u001b[0;34m,\u001b[0m \u001b[0mtracers\u001b[0m\u001b[0;34m,\u001b[0m \u001b[0mparams\u001b[0m\u001b[0;34m)\u001b[0m\u001b[0;34m\u001b[0m\u001b[0;34m\u001b[0m\u001b[0m\n\u001b[0m\u001b[1;32m   1624\u001b[0m   \u001b[0;32mreturn\u001b[0m \u001b[0mmap\u001b[0m\u001b[0;34m(\u001b[0m\u001b[0mfull_lower\u001b[0m\u001b[0;34m,\u001b[0m \u001b[0mapply_todos\u001b[0m\u001b[0;34m(\u001b[0m\u001b[0menv_trace_todo\u001b[0m\u001b[0;34m(\u001b[0m\u001b[0;34m)\u001b[0m\u001b[0;34m,\u001b[0m \u001b[0mouts\u001b[0m\u001b[0;34m)\u001b[0m\u001b[0;34m)\u001b[0m\u001b[0;34m\u001b[0m\u001b[0;34m\u001b[0m\u001b[0m\n\u001b[1;32m   1625\u001b[0m \u001b[0;34m\u001b[0m\u001b[0m\n",
      "\u001b[0;32m~/.local/lib/python3.7/site-packages/jax/core.py\u001b[0m in \u001b[0;36mprocess\u001b[0;34m(self, trace, fun, tracers, params)\u001b[0m\n\u001b[1;32m   1633\u001b[0m \u001b[0;34m\u001b[0m\u001b[0m\n\u001b[1;32m   1634\u001b[0m   \u001b[0;32mdef\u001b[0m \u001b[0mprocess\u001b[0m\u001b[0;34m(\u001b[0m\u001b[0mself\u001b[0m\u001b[0;34m,\u001b[0m \u001b[0mtrace\u001b[0m\u001b[0;34m,\u001b[0m \u001b[0mfun\u001b[0m\u001b[0;34m,\u001b[0m \u001b[0mtracers\u001b[0m\u001b[0;34m,\u001b[0m \u001b[0mparams\u001b[0m\u001b[0;34m)\u001b[0m\u001b[0;34m:\u001b[0m\u001b[0;34m\u001b[0m\u001b[0;34m\u001b[0m\u001b[0m\n\u001b[0;32m-> 1635\u001b[0;31m     \u001b[0;32mreturn\u001b[0m \u001b[0mtrace\u001b[0m\u001b[0;34m.\u001b[0m\u001b[0mprocess_call\u001b[0m\u001b[0;34m(\u001b[0m\u001b[0mself\u001b[0m\u001b[0;34m,\u001b[0m \u001b[0mfun\u001b[0m\u001b[0;34m,\u001b[0m \u001b[0mtracers\u001b[0m\u001b[0;34m,\u001b[0m \u001b[0mparams\u001b[0m\u001b[0;34m)\u001b[0m\u001b[0;34m\u001b[0m\u001b[0;34m\u001b[0m\u001b[0m\n\u001b[0m\u001b[1;32m   1636\u001b[0m \u001b[0;34m\u001b[0m\u001b[0m\n\u001b[1;32m   1637\u001b[0m   \u001b[0;32mdef\u001b[0m \u001b[0mpost_process\u001b[0m\u001b[0;34m(\u001b[0m\u001b[0mself\u001b[0m\u001b[0;34m,\u001b[0m \u001b[0mtrace\u001b[0m\u001b[0;34m,\u001b[0m \u001b[0mout_tracers\u001b[0m\u001b[0;34m,\u001b[0m \u001b[0mparams\u001b[0m\u001b[0;34m)\u001b[0m\u001b[0;34m:\u001b[0m\u001b[0;34m\u001b[0m\u001b[0;34m\u001b[0m\u001b[0m\n",
      "\u001b[0;32m~/.local/lib/python3.7/site-packages/jax/core.py\u001b[0m in \u001b[0;36mprocess_call\u001b[0;34m(self, primitive, f, tracers, params)\u001b[0m\n\u001b[1;32m    625\u001b[0m \u001b[0;34m\u001b[0m\u001b[0m\n\u001b[1;32m    626\u001b[0m   \u001b[0;32mdef\u001b[0m \u001b[0mprocess_call\u001b[0m\u001b[0;34m(\u001b[0m\u001b[0mself\u001b[0m\u001b[0;34m,\u001b[0m \u001b[0mprimitive\u001b[0m\u001b[0;34m,\u001b[0m \u001b[0mf\u001b[0m\u001b[0;34m,\u001b[0m \u001b[0mtracers\u001b[0m\u001b[0;34m,\u001b[0m \u001b[0mparams\u001b[0m\u001b[0;34m)\u001b[0m\u001b[0;34m:\u001b[0m\u001b[0;34m\u001b[0m\u001b[0;34m\u001b[0m\u001b[0m\n\u001b[0;32m--> 627\u001b[0;31m     \u001b[0;32mreturn\u001b[0m \u001b[0mprimitive\u001b[0m\u001b[0;34m.\u001b[0m\u001b[0mimpl\u001b[0m\u001b[0;34m(\u001b[0m\u001b[0mf\u001b[0m\u001b[0;34m,\u001b[0m \u001b[0;34m*\u001b[0m\u001b[0mtracers\u001b[0m\u001b[0;34m,\u001b[0m \u001b[0;34m**\u001b[0m\u001b[0mparams\u001b[0m\u001b[0;34m)\u001b[0m\u001b[0;34m\u001b[0m\u001b[0;34m\u001b[0m\u001b[0m\n\u001b[0m\u001b[1;32m    628\u001b[0m   \u001b[0mprocess_map\u001b[0m \u001b[0;34m=\u001b[0m \u001b[0mprocess_call\u001b[0m\u001b[0;34m\u001b[0m\u001b[0;34m\u001b[0m\u001b[0m\n\u001b[1;32m    629\u001b[0m \u001b[0;34m\u001b[0m\u001b[0m\n",
      "\u001b[0;32m~/.local/lib/python3.7/site-packages/jax/interpreters/xla.py\u001b[0m in \u001b[0;36m_xla_call_impl\u001b[0;34m(***failed resolving arguments***)\u001b[0m\n\u001b[1;32m    686\u001b[0m   \u001b[0;32mdel\u001b[0m \u001b[0minline\u001b[0m  \u001b[0;31m# Only used at tracing time\u001b[0m\u001b[0;34m\u001b[0m\u001b[0;34m\u001b[0m\u001b[0m\n\u001b[1;32m    687\u001b[0m   compiled_fun = _xla_callable(fun, device, backend, name, donated_invars,\n\u001b[0;32m--> 688\u001b[0;31m                                *unsafe_map(arg_spec, args))\n\u001b[0m\u001b[1;32m    689\u001b[0m   \u001b[0;32mtry\u001b[0m\u001b[0;34m:\u001b[0m\u001b[0;34m\u001b[0m\u001b[0;34m\u001b[0m\u001b[0m\n\u001b[1;32m    690\u001b[0m     \u001b[0mout\u001b[0m \u001b[0;34m=\u001b[0m \u001b[0mcompiled_fun\u001b[0m\u001b[0;34m(\u001b[0m\u001b[0;34m*\u001b[0m\u001b[0margs\u001b[0m\u001b[0;34m)\u001b[0m\u001b[0;34m\u001b[0m\u001b[0;34m\u001b[0m\u001b[0m\n",
      "\u001b[0;32m~/.local/lib/python3.7/site-packages/jax/linear_util.py\u001b[0m in \u001b[0;36mmemoized_fun\u001b[0;34m(fun, *args)\u001b[0m\n\u001b[1;32m    261\u001b[0m       \u001b[0mfun\u001b[0m\u001b[0;34m.\u001b[0m\u001b[0mpopulate_stores\u001b[0m\u001b[0;34m(\u001b[0m\u001b[0mstores\u001b[0m\u001b[0;34m)\u001b[0m\u001b[0;34m\u001b[0m\u001b[0;34m\u001b[0m\u001b[0m\n\u001b[1;32m    262\u001b[0m     \u001b[0;32melse\u001b[0m\u001b[0;34m:\u001b[0m\u001b[0;34m\u001b[0m\u001b[0;34m\u001b[0m\u001b[0m\n\u001b[0;32m--> 263\u001b[0;31m       \u001b[0mans\u001b[0m \u001b[0;34m=\u001b[0m \u001b[0mcall\u001b[0m\u001b[0;34m(\u001b[0m\u001b[0mfun\u001b[0m\u001b[0;34m,\u001b[0m \u001b[0;34m*\u001b[0m\u001b[0margs\u001b[0m\u001b[0;34m)\u001b[0m\u001b[0;34m\u001b[0m\u001b[0;34m\u001b[0m\u001b[0m\n\u001b[0m\u001b[1;32m    264\u001b[0m       \u001b[0mcache\u001b[0m\u001b[0;34m[\u001b[0m\u001b[0mkey\u001b[0m\u001b[0;34m]\u001b[0m \u001b[0;34m=\u001b[0m \u001b[0;34m(\u001b[0m\u001b[0mans\u001b[0m\u001b[0;34m,\u001b[0m \u001b[0mfun\u001b[0m\u001b[0;34m.\u001b[0m\u001b[0mstores\u001b[0m\u001b[0;34m)\u001b[0m\u001b[0;34m\u001b[0m\u001b[0;34m\u001b[0m\u001b[0m\n\u001b[1;32m    265\u001b[0m \u001b[0;34m\u001b[0m\u001b[0m\n",
      "\u001b[0;32m~/.local/lib/python3.7/site-packages/jax/interpreters/xla.py\u001b[0m in \u001b[0;36m_xla_callable_uncached\u001b[0;34m(fun, device, backend, name, donated_invars, *arg_specs)\u001b[0m\n\u001b[1;32m    758\u001b[0m                            donated_invars, *arg_specs):\n\u001b[1;32m    759\u001b[0m   return lower_xla_callable(fun, device, backend, name, donated_invars,\n\u001b[0;32m--> 760\u001b[0;31m                             *arg_specs).compile().unsafe_call\n\u001b[0m\u001b[1;32m    761\u001b[0m \u001b[0;34m\u001b[0m\u001b[0m\n\u001b[1;32m    762\u001b[0m \u001b[0m_xla_callable\u001b[0m \u001b[0;34m=\u001b[0m \u001b[0mlu\u001b[0m\u001b[0;34m.\u001b[0m\u001b[0mcache\u001b[0m\u001b[0;34m(\u001b[0m\u001b[0m_xla_callable_uncached\u001b[0m\u001b[0;34m)\u001b[0m\u001b[0;34m\u001b[0m\u001b[0;34m\u001b[0m\u001b[0m\n",
      "\u001b[0;32m~/.local/lib/python3.7/site-packages/jax/interpreters/xla.py\u001b[0m in \u001b[0;36mlower_xla_callable\u001b[0;34m(fun, device, backend, name, donated_invars, *arg_specs)\u001b[0m\n\u001b[1;32m    827\u001b[0m   ctx = TranslationContext(c, platform, AxisEnv(nreps, (), ()),\n\u001b[1;32m    828\u001b[0m                            extend_name_stack(wrap_name(name, 'jit')))\n\u001b[0;32m--> 829\u001b[0;31m   \u001b[0mout_nodes\u001b[0m \u001b[0;34m=\u001b[0m \u001b[0mjaxpr_subcomp\u001b[0m\u001b[0;34m(\u001b[0m\u001b[0mctx\u001b[0m\u001b[0;34m,\u001b[0m \u001b[0mjaxpr\u001b[0m\u001b[0;34m,\u001b[0m \u001b[0mxla_consts\u001b[0m\u001b[0;34m,\u001b[0m \u001b[0;34m*\u001b[0m\u001b[0mxla_args\u001b[0m\u001b[0;34m)\u001b[0m\u001b[0;34m\u001b[0m\u001b[0;34m\u001b[0m\u001b[0m\n\u001b[0m\u001b[1;32m    830\u001b[0m   \u001b[0mbackend\u001b[0m \u001b[0;34m=\u001b[0m \u001b[0mxb\u001b[0m\u001b[0;34m.\u001b[0m\u001b[0mget_backend\u001b[0m\u001b[0;34m(\u001b[0m\u001b[0mbackend\u001b[0m\u001b[0;34m)\u001b[0m\u001b[0;34m\u001b[0m\u001b[0;34m\u001b[0m\u001b[0m\n\u001b[1;32m    831\u001b[0m   \u001b[0;31m# There is a non-zero cost to building an output tuple, particularly on TPU.\u001b[0m\u001b[0;34m\u001b[0m\u001b[0;34m\u001b[0m\u001b[0;34m\u001b[0m\u001b[0m\n",
      "\u001b[0;32m~/.local/lib/python3.7/site-packages/jax/interpreters/xla.py\u001b[0m in \u001b[0;36mjaxpr_subcomp\u001b[0;34m(ctx, jaxpr, consts, *args)\u001b[0m\n\u001b[1;32m    576\u001b[0m     \u001b[0;32mwith\u001b[0m \u001b[0msource_info_util\u001b[0m\u001b[0;34m.\u001b[0m\u001b[0muser_context\u001b[0m\u001b[0;34m(\u001b[0m\u001b[0meqn\u001b[0m\u001b[0;34m.\u001b[0m\u001b[0msource_info\u001b[0m\u001b[0;34m)\u001b[0m\u001b[0;34m:\u001b[0m\u001b[0;34m\u001b[0m\u001b[0;34m\u001b[0m\u001b[0m\n\u001b[1;32m    577\u001b[0m       ans = rule(ctx, map(aval, eqn.invars), map(aval, eqn.outvars),\n\u001b[0;32m--> 578\u001b[0;31m                  *in_nodes, **eqn.params)\n\u001b[0m\u001b[1;32m    579\u001b[0m \u001b[0;34m\u001b[0m\u001b[0m\n\u001b[1;32m    580\u001b[0m     \u001b[0;32massert\u001b[0m \u001b[0misinstance\u001b[0m\u001b[0;34m(\u001b[0m\u001b[0mans\u001b[0m\u001b[0;34m,\u001b[0m \u001b[0mcollections\u001b[0m\u001b[0;34m.\u001b[0m\u001b[0mabc\u001b[0m\u001b[0;34m.\u001b[0m\u001b[0mSequence\u001b[0m\u001b[0;34m)\u001b[0m\u001b[0;34m,\u001b[0m \u001b[0;34m(\u001b[0m\u001b[0mans\u001b[0m\u001b[0;34m,\u001b[0m \u001b[0meqn\u001b[0m\u001b[0;34m)\u001b[0m\u001b[0;34m\u001b[0m\u001b[0;34m\u001b[0m\u001b[0m\n",
      "\u001b[0;32m~/.local/lib/python3.7/site-packages/jax/interpreters/xla.py\u001b[0m in \u001b[0;36mf_new\u001b[0;34m(ctx, avals_in, avals_out, *xla_args, **params)\u001b[0m\n\u001b[1;32m   1341\u001b[0m         \u001b[0mjaxpr\u001b[0m\u001b[0;34m,\u001b[0m \u001b[0m_\u001b[0m\u001b[0;34m,\u001b[0m \u001b[0mconsts\u001b[0m \u001b[0;34m=\u001b[0m \u001b[0mpe\u001b[0m\u001b[0;34m.\u001b[0m\u001b[0mtrace_to_jaxpr_dynamic\u001b[0m\u001b[0;34m(\u001b[0m\u001b[0mwrapped_fun\u001b[0m\u001b[0;34m,\u001b[0m \u001b[0mavals_in\u001b[0m\u001b[0;34m)\u001b[0m\u001b[0;34m\u001b[0m\u001b[0;34m\u001b[0m\u001b[0m\n\u001b[1;32m   1342\u001b[0m       return jaxpr_subcomp(ctx, jaxpr, _xla_consts(ctx.builder, consts),\n\u001b[0;32m-> 1343\u001b[0;31m                            *xla_args)\n\u001b[0m\u001b[1;32m   1344\u001b[0m     \u001b[0;32mreturn\u001b[0m \u001b[0mf_new\u001b[0m\u001b[0;34m\u001b[0m\u001b[0;34m\u001b[0m\u001b[0m\n\u001b[1;32m   1345\u001b[0m \u001b[0;34m\u001b[0m\u001b[0m\n",
      "\u001b[0;32m~/.local/lib/python3.7/site-packages/jax/interpreters/xla.py\u001b[0m in \u001b[0;36mjaxpr_subcomp\u001b[0;34m(ctx, jaxpr, consts, *args)\u001b[0m\n\u001b[1;32m    576\u001b[0m     \u001b[0;32mwith\u001b[0m \u001b[0msource_info_util\u001b[0m\u001b[0;34m.\u001b[0m\u001b[0muser_context\u001b[0m\u001b[0;34m(\u001b[0m\u001b[0meqn\u001b[0m\u001b[0;34m.\u001b[0m\u001b[0msource_info\u001b[0m\u001b[0;34m)\u001b[0m\u001b[0;34m:\u001b[0m\u001b[0;34m\u001b[0m\u001b[0;34m\u001b[0m\u001b[0m\n\u001b[1;32m    577\u001b[0m       ans = rule(ctx, map(aval, eqn.invars), map(aval, eqn.outvars),\n\u001b[0;32m--> 578\u001b[0;31m                  *in_nodes, **eqn.params)\n\u001b[0m\u001b[1;32m    579\u001b[0m \u001b[0;34m\u001b[0m\u001b[0m\n\u001b[1;32m    580\u001b[0m     \u001b[0;32massert\u001b[0m \u001b[0misinstance\u001b[0m\u001b[0;34m(\u001b[0m\u001b[0mans\u001b[0m\u001b[0;34m,\u001b[0m \u001b[0mcollections\u001b[0m\u001b[0;34m.\u001b[0m\u001b[0mabc\u001b[0m\u001b[0;34m.\u001b[0m\u001b[0mSequence\u001b[0m\u001b[0;34m)\u001b[0m\u001b[0;34m,\u001b[0m \u001b[0;34m(\u001b[0m\u001b[0mans\u001b[0m\u001b[0;34m,\u001b[0m \u001b[0meqn\u001b[0m\u001b[0;34m)\u001b[0m\u001b[0;34m\u001b[0m\u001b[0;34m\u001b[0m\u001b[0m\n",
      "\u001b[0;32m~/.local/lib/python3.7/site-packages/jax/_src/lax/control_flow.py\u001b[0m in \u001b[0;36m_while_loop_translation_rule\u001b[0;34m(ctx, avals_in, avals_out, cond_jaxpr, body_jaxpr, cond_nconsts, body_nconsts, *args)\u001b[0m\n\u001b[1;32m    362\u001b[0m       \u001b[0mbody_ctx\u001b[0m\u001b[0;34m,\u001b[0m \u001b[0mbody_jaxpr\u001b[0m\u001b[0;34m.\u001b[0m\u001b[0mjaxpr\u001b[0m\u001b[0;34m,\u001b[0m\u001b[0;34m\u001b[0m\u001b[0;34m\u001b[0m\u001b[0m\n\u001b[1;32m    363\u001b[0m       \u001b[0m_map\u001b[0m\u001b[0;34m(\u001b[0m\u001b[0mpartial\u001b[0m\u001b[0;34m(\u001b[0m\u001b[0mxla\u001b[0m\u001b[0;34m.\u001b[0m\u001b[0mpyval_to_ir_constant\u001b[0m\u001b[0;34m,\u001b[0m \u001b[0mbody_c\u001b[0m\u001b[0;34m)\u001b[0m\u001b[0;34m,\u001b[0m \u001b[0mbody_jaxpr\u001b[0m\u001b[0;34m.\u001b[0m\u001b[0mconsts\u001b[0m\u001b[0;34m)\u001b[0m\u001b[0;34m,\u001b[0m\u001b[0;34m\u001b[0m\u001b[0;34m\u001b[0m\u001b[0m\n\u001b[0;32m--> 364\u001b[0;31m       *(y + z))\n\u001b[0m\u001b[1;32m    365\u001b[0m   \u001b[0;32mif\u001b[0m \u001b[0mbatched\u001b[0m\u001b[0;34m:\u001b[0m\u001b[0;34m\u001b[0m\u001b[0;34m\u001b[0m\u001b[0m\n\u001b[1;32m    366\u001b[0m     body_pred_ctx = body_ctx.replace(\n",
      "\u001b[0;32m~/.local/lib/python3.7/site-packages/jax/interpreters/xla.py\u001b[0m in \u001b[0;36mjaxpr_subcomp\u001b[0;34m(ctx, jaxpr, consts, *args)\u001b[0m\n\u001b[1;32m    576\u001b[0m     \u001b[0;32mwith\u001b[0m \u001b[0msource_info_util\u001b[0m\u001b[0;34m.\u001b[0m\u001b[0muser_context\u001b[0m\u001b[0;34m(\u001b[0m\u001b[0meqn\u001b[0m\u001b[0;34m.\u001b[0m\u001b[0msource_info\u001b[0m\u001b[0;34m)\u001b[0m\u001b[0;34m:\u001b[0m\u001b[0;34m\u001b[0m\u001b[0;34m\u001b[0m\u001b[0m\n\u001b[1;32m    577\u001b[0m       ans = rule(ctx, map(aval, eqn.invars), map(aval, eqn.outvars),\n\u001b[0;32m--> 578\u001b[0;31m                  *in_nodes, **eqn.params)\n\u001b[0m\u001b[1;32m    579\u001b[0m \u001b[0;34m\u001b[0m\u001b[0m\n\u001b[1;32m    580\u001b[0m     \u001b[0;32massert\u001b[0m \u001b[0misinstance\u001b[0m\u001b[0;34m(\u001b[0m\u001b[0mans\u001b[0m\u001b[0;34m,\u001b[0m \u001b[0mcollections\u001b[0m\u001b[0;34m.\u001b[0m\u001b[0mabc\u001b[0m\u001b[0;34m.\u001b[0m\u001b[0mSequence\u001b[0m\u001b[0;34m)\u001b[0m\u001b[0;34m,\u001b[0m \u001b[0;34m(\u001b[0m\u001b[0mans\u001b[0m\u001b[0;34m,\u001b[0m \u001b[0meqn\u001b[0m\u001b[0;34m)\u001b[0m\u001b[0;34m\u001b[0m\u001b[0;34m\u001b[0m\u001b[0m\n",
      "\u001b[0;32m~/.local/lib/python3.7/site-packages/jax/interpreters/xla.py\u001b[0m in \u001b[0;36m_xla_call_translation_rule\u001b[0;34m(***failed resolving arguments***)\u001b[0m\n\u001b[1;32m   1185\u001b[0m       \u001b[0mbuilder\u001b[0m\u001b[0;34m=\u001b[0m\u001b[0msubc\u001b[0m\u001b[0;34m,\u001b[0m\u001b[0;34m\u001b[0m\u001b[0;34m\u001b[0m\u001b[0m\n\u001b[1;32m   1186\u001b[0m       name_stack=extend_name_stack(ctx.name_stack, wrap_name(name, 'jit')))\n\u001b[0;32m-> 1187\u001b[0;31m   \u001b[0mout_nodes\u001b[0m \u001b[0;34m=\u001b[0m \u001b[0mjaxpr_subcomp\u001b[0m\u001b[0;34m(\u001b[0m\u001b[0msub_ctx\u001b[0m\u001b[0;34m,\u001b[0m \u001b[0mcall_jaxpr\u001b[0m\u001b[0;34m,\u001b[0m \u001b[0;34m(\u001b[0m\u001b[0;34m)\u001b[0m\u001b[0;34m,\u001b[0m \u001b[0;34m*\u001b[0m\u001b[0margs\u001b[0m\u001b[0;34m)\u001b[0m\u001b[0;34m\u001b[0m\u001b[0;34m\u001b[0m\u001b[0m\n\u001b[0m\u001b[1;32m   1188\u001b[0m   \u001b[0msubc\u001b[0m \u001b[0;34m=\u001b[0m \u001b[0msubc\u001b[0m\u001b[0;34m.\u001b[0m\u001b[0mbuild\u001b[0m\u001b[0;34m(\u001b[0m\u001b[0mxops\u001b[0m\u001b[0;34m.\u001b[0m\u001b[0mTuple\u001b[0m\u001b[0;34m(\u001b[0m\u001b[0msubc\u001b[0m\u001b[0;34m,\u001b[0m \u001b[0mout_nodes\u001b[0m\u001b[0;34m)\u001b[0m\u001b[0;34m)\u001b[0m\u001b[0;34m\u001b[0m\u001b[0;34m\u001b[0m\u001b[0m\n\u001b[1;32m   1189\u001b[0m   \u001b[0;32mreturn\u001b[0m \u001b[0mxla_destructure\u001b[0m\u001b[0;34m(\u001b[0m\u001b[0mc\u001b[0m\u001b[0;34m,\u001b[0m \u001b[0mxops\u001b[0m\u001b[0;34m.\u001b[0m\u001b[0mCall\u001b[0m\u001b[0;34m(\u001b[0m\u001b[0mc\u001b[0m\u001b[0;34m,\u001b[0m \u001b[0msubc\u001b[0m\u001b[0;34m,\u001b[0m \u001b[0mlist\u001b[0m\u001b[0;34m(\u001b[0m\u001b[0min_nodes\u001b[0m\u001b[0;34m)\u001b[0m\u001b[0;34m)\u001b[0m\u001b[0;34m)\u001b[0m\u001b[0;34m\u001b[0m\u001b[0;34m\u001b[0m\u001b[0m\n",
      "\u001b[0;32m~/.local/lib/python3.7/site-packages/jax/interpreters/xla.py\u001b[0m in \u001b[0;36mjaxpr_subcomp\u001b[0;34m(ctx, jaxpr, consts, *args)\u001b[0m\n\u001b[1;32m    576\u001b[0m     \u001b[0;32mwith\u001b[0m \u001b[0msource_info_util\u001b[0m\u001b[0;34m.\u001b[0m\u001b[0muser_context\u001b[0m\u001b[0;34m(\u001b[0m\u001b[0meqn\u001b[0m\u001b[0;34m.\u001b[0m\u001b[0msource_info\u001b[0m\u001b[0;34m)\u001b[0m\u001b[0;34m:\u001b[0m\u001b[0;34m\u001b[0m\u001b[0;34m\u001b[0m\u001b[0m\n\u001b[1;32m    577\u001b[0m       ans = rule(ctx, map(aval, eqn.invars), map(aval, eqn.outvars),\n\u001b[0;32m--> 578\u001b[0;31m                  *in_nodes, **eqn.params)\n\u001b[0m\u001b[1;32m    579\u001b[0m \u001b[0;34m\u001b[0m\u001b[0m\n\u001b[1;32m    580\u001b[0m     \u001b[0;32massert\u001b[0m \u001b[0misinstance\u001b[0m\u001b[0;34m(\u001b[0m\u001b[0mans\u001b[0m\u001b[0;34m,\u001b[0m \u001b[0mcollections\u001b[0m\u001b[0;34m.\u001b[0m\u001b[0mabc\u001b[0m\u001b[0;34m.\u001b[0m\u001b[0mSequence\u001b[0m\u001b[0;34m)\u001b[0m\u001b[0;34m,\u001b[0m \u001b[0;34m(\u001b[0m\u001b[0mans\u001b[0m\u001b[0;34m,\u001b[0m \u001b[0meqn\u001b[0m\u001b[0;34m)\u001b[0m\u001b[0;34m\u001b[0m\u001b[0;34m\u001b[0m\u001b[0m\n",
      "\u001b[0;32m~/.local/lib/python3.7/site-packages/jax/interpreters/xla.py\u001b[0m in \u001b[0;36mf_new\u001b[0;34m(ctx, avals_in, avals_out, *xla_args, **params)\u001b[0m\n\u001b[1;32m   1341\u001b[0m         \u001b[0mjaxpr\u001b[0m\u001b[0;34m,\u001b[0m \u001b[0m_\u001b[0m\u001b[0;34m,\u001b[0m \u001b[0mconsts\u001b[0m \u001b[0;34m=\u001b[0m \u001b[0mpe\u001b[0m\u001b[0;34m.\u001b[0m\u001b[0mtrace_to_jaxpr_dynamic\u001b[0m\u001b[0;34m(\u001b[0m\u001b[0mwrapped_fun\u001b[0m\u001b[0;34m,\u001b[0m \u001b[0mavals_in\u001b[0m\u001b[0;34m)\u001b[0m\u001b[0;34m\u001b[0m\u001b[0;34m\u001b[0m\u001b[0m\n\u001b[1;32m   1342\u001b[0m       return jaxpr_subcomp(ctx, jaxpr, _xla_consts(ctx.builder, consts),\n\u001b[0;32m-> 1343\u001b[0;31m                            *xla_args)\n\u001b[0m\u001b[1;32m   1344\u001b[0m     \u001b[0;32mreturn\u001b[0m \u001b[0mf_new\u001b[0m\u001b[0;34m\u001b[0m\u001b[0;34m\u001b[0m\u001b[0m\n\u001b[1;32m   1345\u001b[0m \u001b[0;34m\u001b[0m\u001b[0m\n",
      "\u001b[0;32m~/.local/lib/python3.7/site-packages/jax/interpreters/xla.py\u001b[0m in \u001b[0;36mjaxpr_subcomp\u001b[0;34m(ctx, jaxpr, consts, *args)\u001b[0m\n\u001b[1;32m    576\u001b[0m     \u001b[0;32mwith\u001b[0m \u001b[0msource_info_util\u001b[0m\u001b[0;34m.\u001b[0m\u001b[0muser_context\u001b[0m\u001b[0;34m(\u001b[0m\u001b[0meqn\u001b[0m\u001b[0;34m.\u001b[0m\u001b[0msource_info\u001b[0m\u001b[0;34m)\u001b[0m\u001b[0;34m:\u001b[0m\u001b[0;34m\u001b[0m\u001b[0;34m\u001b[0m\u001b[0m\n\u001b[1;32m    577\u001b[0m       ans = rule(ctx, map(aval, eqn.invars), map(aval, eqn.outvars),\n\u001b[0;32m--> 578\u001b[0;31m                  *in_nodes, **eqn.params)\n\u001b[0m\u001b[1;32m    579\u001b[0m \u001b[0;34m\u001b[0m\u001b[0m\n\u001b[1;32m    580\u001b[0m     \u001b[0;32massert\u001b[0m \u001b[0misinstance\u001b[0m\u001b[0;34m(\u001b[0m\u001b[0mans\u001b[0m\u001b[0;34m,\u001b[0m \u001b[0mcollections\u001b[0m\u001b[0;34m.\u001b[0m\u001b[0mabc\u001b[0m\u001b[0;34m.\u001b[0m\u001b[0mSequence\u001b[0m\u001b[0;34m)\u001b[0m\u001b[0;34m,\u001b[0m \u001b[0;34m(\u001b[0m\u001b[0mans\u001b[0m\u001b[0;34m,\u001b[0m \u001b[0meqn\u001b[0m\u001b[0;34m)\u001b[0m\u001b[0;34m\u001b[0m\u001b[0;34m\u001b[0m\u001b[0m\n",
      "\u001b[0;32m~/.local/lib/python3.7/site-packages/jax/_src/lax/control_flow.py\u001b[0m in \u001b[0;36m_while_loop_translation_rule\u001b[0;34m(ctx, avals_in, avals_out, cond_jaxpr, body_jaxpr, cond_nconsts, body_nconsts, *args)\u001b[0m\n\u001b[1;32m    362\u001b[0m       \u001b[0mbody_ctx\u001b[0m\u001b[0;34m,\u001b[0m \u001b[0mbody_jaxpr\u001b[0m\u001b[0;34m.\u001b[0m\u001b[0mjaxpr\u001b[0m\u001b[0;34m,\u001b[0m\u001b[0;34m\u001b[0m\u001b[0;34m\u001b[0m\u001b[0m\n\u001b[1;32m    363\u001b[0m       \u001b[0m_map\u001b[0m\u001b[0;34m(\u001b[0m\u001b[0mpartial\u001b[0m\u001b[0;34m(\u001b[0m\u001b[0mxla\u001b[0m\u001b[0;34m.\u001b[0m\u001b[0mpyval_to_ir_constant\u001b[0m\u001b[0;34m,\u001b[0m \u001b[0mbody_c\u001b[0m\u001b[0;34m)\u001b[0m\u001b[0;34m,\u001b[0m \u001b[0mbody_jaxpr\u001b[0m\u001b[0;34m.\u001b[0m\u001b[0mconsts\u001b[0m\u001b[0;34m)\u001b[0m\u001b[0;34m,\u001b[0m\u001b[0;34m\u001b[0m\u001b[0;34m\u001b[0m\u001b[0m\n\u001b[0;32m--> 364\u001b[0;31m       *(y + z))\n\u001b[0m\u001b[1;32m    365\u001b[0m   \u001b[0;32mif\u001b[0m \u001b[0mbatched\u001b[0m\u001b[0;34m:\u001b[0m\u001b[0;34m\u001b[0m\u001b[0;34m\u001b[0m\u001b[0m\n\u001b[1;32m    366\u001b[0m     body_pred_ctx = body_ctx.replace(\n",
      "\u001b[0;32m~/.local/lib/python3.7/site-packages/jax/interpreters/xla.py\u001b[0m in \u001b[0;36mjaxpr_subcomp\u001b[0;34m(ctx, jaxpr, consts, *args)\u001b[0m\n\u001b[1;32m    562\u001b[0m     op_metadata = make_op_metadata(\n\u001b[1;32m    563\u001b[0m         \u001b[0meqn\u001b[0m\u001b[0;34m.\u001b[0m\u001b[0mprimitive\u001b[0m\u001b[0;34m,\u001b[0m \u001b[0meqn\u001b[0m\u001b[0;34m.\u001b[0m\u001b[0mparams\u001b[0m\u001b[0;34m,\u001b[0m \u001b[0mname_stack\u001b[0m\u001b[0;34m=\u001b[0m\u001b[0mctx\u001b[0m\u001b[0;34m.\u001b[0m\u001b[0mname_stack\u001b[0m\u001b[0;34m,\u001b[0m\u001b[0;34m\u001b[0m\u001b[0;34m\u001b[0m\u001b[0m\n\u001b[0;32m--> 564\u001b[0;31m         source_info=eqn.source_info)\n\u001b[0m\u001b[1;32m    565\u001b[0m     \u001b[0mctx\u001b[0m\u001b[0;34m.\u001b[0m\u001b[0mbuilder\u001b[0m\u001b[0;34m.\u001b[0m\u001b[0mset_op_metadata\u001b[0m\u001b[0;34m(\u001b[0m\u001b[0mop_metadata\u001b[0m\u001b[0;34m)\u001b[0m\u001b[0;34m\u001b[0m\u001b[0;34m\u001b[0m\u001b[0m\n\u001b[1;32m    566\u001b[0m     \u001b[0min_nodes\u001b[0m \u001b[0;34m=\u001b[0m \u001b[0m_flatmap\u001b[0m\u001b[0;34m(\u001b[0m\u001b[0mread\u001b[0m\u001b[0;34m,\u001b[0m \u001b[0meqn\u001b[0m\u001b[0;34m.\u001b[0m\u001b[0minvars\u001b[0m\u001b[0;34m)\u001b[0m\u001b[0;34m\u001b[0m\u001b[0;34m\u001b[0m\u001b[0m\n",
      "\u001b[0;32m~/.local/lib/python3.7/site-packages/jax/interpreters/xla.py\u001b[0m in \u001b[0;36mmake_op_metadata\u001b[0;34m(primitive, params, name_stack, source_info)\u001b[0m\n\u001b[1;32m    103\u001b[0m                      ) -> xc.OpMetadata:\n\u001b[1;32m    104\u001b[0m   eqn_str = str(pp.text(name_stack) +\n\u001b[0;32m--> 105\u001b[0;31m                 pp_eqn_compact(primitive.name, params, JaxprPpContext()))\n\u001b[0m\u001b[1;32m    106\u001b[0m   \u001b[0mtracebacks\u001b[0m\u001b[0;34m[\u001b[0m\u001b[0meqn_str\u001b[0m\u001b[0;34m]\u001b[0m \u001b[0;34m=\u001b[0m \u001b[0msource_info\u001b[0m\u001b[0;34m\u001b[0m\u001b[0;34m\u001b[0m\u001b[0m\n\u001b[1;32m    107\u001b[0m   \u001b[0mframe\u001b[0m \u001b[0;34m=\u001b[0m \u001b[0msource_info_util\u001b[0m\u001b[0;34m.\u001b[0m\u001b[0muser_frame\u001b[0m\u001b[0;34m(\u001b[0m\u001b[0msource_info\u001b[0m\u001b[0;34m)\u001b[0m \u001b[0;32mif\u001b[0m \u001b[0msource_info\u001b[0m \u001b[0;32melse\u001b[0m \u001b[0;32mNone\u001b[0m\u001b[0;34m\u001b[0m\u001b[0;34m\u001b[0m\u001b[0m\n",
      "\u001b[0;32m~/.local/lib/python3.7/site-packages/jax/_src/pretty_printer.py\u001b[0m in \u001b[0;36m__str__\u001b[0;34m(self)\u001b[0m\n\u001b[1;32m     46\u001b[0m \u001b[0;34m\u001b[0m\u001b[0m\n\u001b[1;32m     47\u001b[0m   \u001b[0;32mdef\u001b[0m \u001b[0m__str__\u001b[0m\u001b[0;34m(\u001b[0m\u001b[0mself\u001b[0m\u001b[0;34m)\u001b[0m\u001b[0;34m:\u001b[0m\u001b[0;34m\u001b[0m\u001b[0;34m\u001b[0m\u001b[0m\n\u001b[0;32m---> 48\u001b[0;31m     \u001b[0;32mreturn\u001b[0m \u001b[0mself\u001b[0m\u001b[0;34m.\u001b[0m\u001b[0mformat\u001b[0m\u001b[0;34m(\u001b[0m\u001b[0;34m)\u001b[0m\u001b[0;34m\u001b[0m\u001b[0;34m\u001b[0m\u001b[0m\n\u001b[0m\u001b[1;32m     49\u001b[0m \u001b[0;34m\u001b[0m\u001b[0m\n\u001b[1;32m     50\u001b[0m   \u001b[0;32mdef\u001b[0m \u001b[0m__add__\u001b[0m\u001b[0;34m(\u001b[0m\u001b[0mself\u001b[0m\u001b[0;34m,\u001b[0m \u001b[0mother\u001b[0m\u001b[0;34m:\u001b[0m \u001b[0;34m'Doc'\u001b[0m\u001b[0;34m)\u001b[0m \u001b[0;34m->\u001b[0m \u001b[0;34m'Doc'\u001b[0m\u001b[0;34m:\u001b[0m\u001b[0;34m\u001b[0m\u001b[0;34m\u001b[0m\u001b[0m\n",
      "\u001b[0;31mKeyboardInterrupt\u001b[0m: "
     ]
    }
   ],
   "source": [
    "u_target = u_toff3\n",
    "layer = sequ_layer(3)\n",
    "unitary_loss_func = lambda u: (jnp.abs(jnp.abs(u)-u_toff3)**2).sum()/(u_toff3.shape[0]**2)\n",
    "\n",
    "decomposer = Decompose(layer, unitary_loss_func=unitary_loss_func)\n",
    "\n",
    "static_options = {'batch_size': 20, 'accepted_num_gates': 4}\n",
    "\n",
    "adaptive_options = {'max_evals':20,\n",
    "                   'max_num_cp_gates':8,\n",
    "                   'min_num_cp_gates':2,\n",
    "                   'target_num_gates': 3,\n",
    "                   'evals_between_verification':1,\n",
    "                   'stop_if_target_reached': False}\n",
    "\n",
    "\n",
    "results = decomposer.adaptive(\n",
    "    static_options=static_options,\n",
    "    adaptive_options = adaptive_options,\n",
    "    save_to = 'data/toff3_relative/',\n",
    "    overwrite_existing_trials=False,\n",
    "    overwrite_existing_decompositions=False,\n",
    ")"
   ]
  },
  {
   "cell_type": "code",
   "execution_count": 33,
   "id": "bed93ef8-5438-452d-a9e3-bd135ce62e5a",
   "metadata": {},
   "outputs": [
    {
     "data": {
      "image/png": "[encoded data removed]",
      "text/plain": [
       "<Figure size 1350.8x204.68 with 1 Axes>"
      ]
     },
     "execution_count": 33,
     "metadata": {},
     "output_type": "execute_result"
    }
   ],
   "source": [
    "cz, circ, u , angs = decompositions[-1]\n",
    "circ(angs).draw(output='mpl')"
   ]
  },
  {
   "cell_type": "code",
   "execution_count": 31,
   "id": "086ea54e-c134-4100-9027-77db3345301a",
   "metadata": {},
   "outputs": [
    {
     "name": "stdout",
     "output_type": "stream",
     "text": [
      "avg best error: -0.30937498807907104\n"
     ]
    },
    {
     "data": {
      "image/png": "[encoded data removed]",
      "text/plain": [
       "<Figure size 432x288 with 1 Axes>"
      ]
     },
     "metadata": {
      "needs_background": "light"
     },
     "output_type": "display_data"
    },
    {
     "name": "stdout",
     "output_type": "stream",
     "text": [
      "finite loss range -0.30937498807907104 -0.0 -1.309374988079071\n"
     ]
    },
    {
     "data": {
      "image/png": "[encoded data removed]",
      "text/plain": [
       "<Figure size 432x288 with 2 Axes>"
      ]
     },
     "metadata": {
      "needs_background": "light"
     },
     "output_type": "display_data"
    }
   ],
   "source": [
    "trials, decompositions = Decompose.load_trials_and_decompositions('data/toff3_relative/')\n",
    "plotting.main_plot_history(trials)\n",
    "plotting.main_plot_vars(trials)"
   ]
  },
  {
   "cell_type": "markdown",
   "id": "38455e78-ac02-4e54-99e2-af8a7135f07c",
   "metadata": {
    "jp-MarkdownHeadingCollapsed": true,
    "tags": []
   },
   "source": [
    "## Chain with 7 gates up to a swap"
   ]
  },
  {
   "cell_type": "code",
   "execution_count": 85,
   "id": "6b1c682a-4321-4c58-b31d-0be28939b2aa",
   "metadata": {
    "collapsed": true,
    "jupyter": {
     "outputs_hidden": true
    },
    "tags": []
   },
   "outputs": [
    {
     "name": "stdout",
     "output_type": "stream",
     "text": [
      "\n",
      "Starting decomposition routine with the following options:\n",
      "\n",
      "Static:\n",
      "{'accepted_num_gates': 8,\n",
      " 'batch_size': 100,\n",
      " 'cp_dist': 'uniform',\n",
      " 'entry_loss': 0.001,\n",
      " 'learning_rate': 0.01,\n",
      " 'method': 'adam',\n",
      " 'num_gd_iterations': 2000,\n",
      " 'target_loss': 1e-06,\n",
      " 'threshold_cp': 0.2}\n",
      "\n",
      "Adaptive:\n",
      "{'evals_between_verification': 2,\n",
      " 'hyperopt_random_seed': 0,\n",
      " 'max_evals': 20,\n",
      " 'max_num_cp_gates': 12,\n",
      " 'min_num_cp_gates': 6,\n",
      " 'r_mean': 0.00055,\n",
      " 'r_variance': 0.5,\n",
      " 'stop_if_target_reached': False,\n",
      " 'target_num_gates': 7}\n",
      "\n",
      "\n"
     ]
    },
    {
     "name": "stderr",
     "output_type": "stream",
     "text": [
      "Epochs:   0%|                                                                                                                      | 0/10 [00:00<?, ?it/s]"
     ]
    },
    {
     "name": "stdout",
     "output_type": "stream",
     "text": [
      "\n",
      "  0%|                                                                                                               | 0/2 [00:00<?, ?trial/s, best loss=?]\u001b[A\n",
      " 50%|█████████████████████████████████████████▌                                         | 1/2 [00:33<00:33, 33.13s/trial, best loss: -0.02437499910593033]\u001b[A\n",
      "100%|██████████████████████████████████████████████████████████████████████████████████| 2/2 [01:08<00:00, 34.29s/trial, best loss: -0.048124998807907104]\u001b[A\n",
      "\n",
      "Found 36 decompositions potentially better than current best count 14, verifying...\n"
     ]
    },
    {
     "name": "stderr",
     "output_type": "stream",
     "text": [
      "Epochs:  10%|███████████                                                                                                   | 1/10 [01:25<12:49, 85.49s/it]"
     ]
    },
    {
     "name": "stdout",
     "output_type": "stream",
     "text": [
      "\n",
      "Found new decomposition with 8 gates.\n",
      "\n",
      "\n",
      " 50%|███████████████████████████████████████████████████████▌                                                       | 2/4 [00:00<?, ?trial/s, best loss=?]\u001b[A\n",
      " 75%|█████████████████████████████████████████████████████████████▌                    | 3/4 [00:32<00:32, 32.10s/trial, best loss: -0.048124998807907104]\u001b[A\n",
      "100%|██████████████████████████████████████████████████████████████████████████████████| 4/4 [01:02<00:00, 31.06s/trial, best loss: -0.054375000298023224]\u001b[A"
     ]
    },
    {
     "name": "stderr",
     "output_type": "stream",
     "text": [
      "Epochs:  20%|██████████████████████                                                                                        | 2/10 [02:27<09:34, 71.75s/it]"
     ]
    },
    {
     "name": "stdout",
     "output_type": "stream",
     "text": [
      "\n",
      "\n",
      "Found no better decompositions. Found 4 decompositions with the current best count 8.\n",
      "\n",
      " 67%|██████████████████████████████████████████████████████████████████████████                                     | 4/6 [00:00<?, ?trial/s, best loss=?]\u001b[A\n",
      " 83%|████████████████████████████████████████████████████████████████████▎             | 5/6 [00:31<00:31, 31.12s/trial, best loss: -0.054375000298023224]\u001b[A\n",
      "100%|███████████████████████████████████████████████████████████████████████████████████| 6/6 [00:59<00:00, 29.96s/trial, best loss: -0.08453124761581421]\u001b[A\n",
      "\n",
      "Found 5 decompositions potentially better than current best count 8, verifying...\n"
     ]
    },
    {
     "name": "stderr",
     "output_type": "stream",
     "text": [
      "Epochs:  30%|█████████████████████████████████                                                                             | 3/10 [03:42<08:32, 73.16s/it]"
     ]
    },
    {
     "name": "stdout",
     "output_type": "stream",
     "text": [
      "\n",
      "Found new decomposition with 7 gates.\n",
      "\n",
      "\n",
      " 75%|███████████████████████████████████████████████████████████████████████████████████▎                           | 6/8 [00:00<?, ?trial/s, best loss=?]\u001b[A\n",
      " 88%|████████████████████████████████████████████████████████████████████████▋          | 7/8 [00:35<00:35, 35.22s/trial, best loss: -0.08453124761581421]\u001b[A\n",
      "100%|███████████████████████████████████████████████████████████████████████████████████| 8/8 [01:04<00:00, 32.38s/trial, best loss: -0.08453124761581421]\u001b[A"
     ]
    },
    {
     "name": "stderr",
     "output_type": "stream",
     "text": [
      "Epochs:  40%|████████████████████████████████████████████                                                                  | 4/10 [04:47<06:59, 69.85s/it]"
     ]
    },
    {
     "name": "stdout",
     "output_type": "stream",
     "text": [
      "\n",
      "\n",
      "Found no better decompositions. Found 1 decompositions with the current best count 7.\n",
      "\n",
      " 80%|████████████████████████████████████████████████████████████████████████████████████████                      | 8/10 [00:00<?, ?trial/s, best loss=?]\u001b[A\n",
      " 90%|█████████████████████████████████████████████████████████████████████████▊        | 9/10 [00:29<00:29, 29.38s/trial, best loss: -0.08453124761581421]\u001b[A\n",
      "100%|█████████████████████████████████████████████████████████████████████████████████| 10/10 [00:56<00:00, 28.47s/trial, best loss: -0.08453124761581421]\u001b[A"
     ]
    },
    {
     "name": "stderr",
     "output_type": "stream",
     "text": [
      "Epochs:  50%|███████████████████████████████████████████████████████                                                       | 5/10 [05:44<05:26, 65.20s/it]"
     ]
    },
    {
     "name": "stdout",
     "output_type": "stream",
     "text": [
      "\n",
      "\n",
      "Found no better decompositions. Found 3 decompositions with the current best count 7.\n",
      "\n",
      " 83%|██████████████████████████████████████████████████████████████████████████████████████████▊                  | 10/12 [00:00<?, ?trial/s, best loss=?]\u001b[A\n",
      " 92%|██████████████████████████████████████████████████████████████████████████▎      | 11/12 [00:28<00:28, 28.48s/trial, best loss: -0.08453124761581421]\u001b[A\n",
      "100%|█████████████████████████████████████████████████████████████████████████████████| 12/12 [00:56<00:00, 28.11s/trial, best loss: -0.08453124761581421]\u001b[A"
     ]
    },
    {
     "name": "stderr",
     "output_type": "stream",
     "text": [
      "Epochs:  60%|██████████████████████████████████████████████████████████████████                                            | 6/10 [06:40<04:08, 62.16s/it]"
     ]
    },
    {
     "name": "stdout",
     "output_type": "stream",
     "text": [
      "\n",
      "\n",
      "Found no better decompositions. Found 0 decompositions with the current best count 7.\n",
      "\n",
      " 86%|█████████████████████████████████████████████████████████████████████████████████████████████▍               | 12/14 [00:00<?, ?trial/s, best loss=?]\u001b[A\n",
      " 93%|███████████████████████████████████████████████████████████████████████████▏     | 13/14 [00:35<00:35, 35.26s/trial, best loss: -0.08453124761581421]\u001b[A\n",
      "100%|█████████████████████████████████████████████████████████████████████████████████| 14/14 [01:03<00:00, 31.77s/trial, best loss: -0.09289062768220901]\u001b[A"
     ]
    },
    {
     "name": "stderr",
     "output_type": "stream",
     "text": [
      "Epochs:  70%|█████████████████████████████████████████████████████████████████████████████                                 | 7/10 [07:43<03:07, 62.61s/it]"
     ]
    },
    {
     "name": "stdout",
     "output_type": "stream",
     "text": [
      "\n",
      "\n",
      "Found no better decompositions. Found 4 decompositions with the current best count 7.\n",
      "\n",
      " 88%|███████████████████████████████████████████████████████████████████████████████████████████████▍             | 14/16 [00:00<?, ?trial/s, best loss=?]\u001b[A\n",
      " 94%|███████████████████████████████████████████████████████████████████████████▉     | 15/16 [00:30<00:30, 30.75s/trial, best loss: -0.09289062768220901]\u001b[A\n",
      "100%|█████████████████████████████████████████████████████████████████████████████████| 16/16 [01:01<00:00, 30.71s/trial, best loss: -0.09289062768220901]\u001b[A"
     ]
    },
    {
     "name": "stderr",
     "output_type": "stream",
     "text": [
      "Epochs:  80%|████████████████████████████████████████████████████████████████████████████████████████                      | 8/10 [08:45<02:04, 62.24s/it]"
     ]
    },
    {
     "name": "stdout",
     "output_type": "stream",
     "text": [
      "\n",
      "\n",
      "Found no better decompositions. Found 0 decompositions with the current best count 7.\n",
      "\n",
      " 89%|████████████████████████████████████████████████████████████████████████████████████████████████▉            | 16/18 [00:00<?, ?trial/s, best loss=?]\u001b[A\n",
      " 94%|████████████████████████████████████████████████████████████████████████████▌    | 17/18 [00:32<00:32, 32.05s/trial, best loss: -0.09289062768220901]\u001b[A\n",
      "100%|█████████████████████████████████████████████████████████████████████████████████| 18/18 [01:04<00:00, 32.22s/trial, best loss: -0.09289062768220901]\u001b[A"
     ]
    },
    {
     "name": "stderr",
     "output_type": "stream",
     "text": [
      "Epochs:  90%|███████████████████████████████████████████████████████████████████████████████████████████████████           | 9/10 [09:49<01:02, 62.93s/it]"
     ]
    },
    {
     "name": "stdout",
     "output_type": "stream",
     "text": [
      "\n",
      "\n",
      "Found no better decompositions. Found 2 decompositions with the current best count 7.\n",
      "\n",
      " 90%|██████████████████████████████████████████████████████████████████████████████████████████████████           | 18/20 [00:00<?, ?trial/s, best loss=?]\u001b[A\n",
      " 95%|████████████████████████████████████████████████████████████████████████████▉    | 19/20 [00:37<00:37, 37.61s/trial, best loss: -0.09289062768220901]\u001b[A\n",
      "100%|█████████████████████████████████████████████████████████████████████████████████| 20/20 [01:09<00:00, 34.95s/trial, best loss: -0.09289062768220901]\u001b[A"
     ]
    },
    {
     "name": "stderr",
     "output_type": "stream",
     "text": [
      "Epochs: 100%|█████████████████████████████████████████████████████████████████████████████████████████████████████████████| 10/10 [10:59<00:00, 65.98s/it]"
     ]
    },
    {
     "name": "stdout",
     "output_type": "stream",
     "text": [
      "\n",
      "\n",
      "Found no better decompositions. Found 3 decompositions with the current best count 7.\n"
     ]
    },
    {
     "name": "stderr",
     "output_type": "stream",
     "text": [
      "\n"
     ]
    }
   ],
   "source": [
    "u_target = u_toff3\n",
    "layer = chain_layer(3)\n",
    "unitary_loss_func = lambda u: disc2_swap(u, u_target, 3)\n",
    "\n",
    "decomposer = Decompose(layer, unitary_loss_func=unitary_loss_func)\n",
    "\n",
    "static_options = {'batch_size': 100, 'accepted_num_gates': 8}\n",
    "\n",
    "adaptive_options = {'max_evals':20,\n",
    "                   'max_num_cp_gates':12,\n",
    "                   'min_num_cp_gates':6,\n",
    "                   'target_num_gates': 7,\n",
    "                   'evals_between_verification':2,\n",
    "                   'stop_if_target_reached': False}\n",
    "\n",
    "\n",
    "results = decomposer.adaptive(\n",
    "    static_options=static_options,\n",
    "    adaptive_options = adaptive_options,\n",
    "    save_to = 'data/toff3_chain_swap/',\n",
    "    overwrite_existing_trials=False,\n",
    "    overwrite_existing_decompositions=False,\n",
    ")"
   ]
  },
  {
   "cell_type": "code",
   "execution_count": 98,
   "id": "e86f4e05-f877-4b04-99de-0b9715d0476f",
   "metadata": {},
   "outputs": [
    {
     "data": {
      "image/png": "[encoded data removed]",
      "text/plain": [
       "<Figure size 1591.6x445.48 with 1 Axes>"
      ]
     },
     "execution_count": 98,
     "metadata": {},
     "output_type": "execute_result"
    }
   ],
   "source": [
    "trials, decompositions = Decompose.load_trials_and_decompositions('data/toff3_chain_swap/')\n",
    "cz, circ, u, angs = decompositions[-1]\n",
    "disc2(u(angs), permutation_matrices(3)[1]@u_toff3)\n",
    "circ(angs).draw(output='mpl')"
   ]
  },
  {
   "cell_type": "markdown",
   "id": "aac6a626-90ca-4118-91fb-99118a4fea96",
   "metadata": {},
   "source": [
    "## Clean ancilla"
   ]
  },
  {
   "cell_type": "code",
   "execution_count": null,
   "id": "a0407aba-c535-4d5e-a201-a584b1c01951",
   "metadata": {},
   "outputs": [
    {
     "name": "stdout",
     "output_type": "stream",
     "text": [
      "\n",
      "Starting decomposition routine with the following options:\n",
      "\n",
      "Static:\n",
      "{'accepted_num_gates': 15,\n",
      " 'batch_size': 500,\n",
      " 'cp_dist': 'uniform',\n",
      " 'entry_loss': 0.001,\n",
      " 'learning_rate': 0.01,\n",
      " 'method': 'adam',\n",
      " 'num_gd_iterations': 2000,\n",
      " 'target_loss': 1e-06,\n",
      " 'threshold_cp': 0.2}\n",
      "\n",
      "Adaptive:\n",
      "{'evals_between_verification': 2,\n",
      " 'hyperopt_random_seed': 0,\n",
      " 'max_evals': 30,\n",
      " 'max_num_cp_gates': 35,\n",
      " 'min_num_cp_gates': 12,\n",
      " 'r_mean': 0.00055,\n",
      " 'r_variance': 0.5,\n",
      " 'stop_if_target_reached': False,\n",
      " 'target_num_gates': 13}\n",
      "\n",
      "\n"
     ]
    },
    {
     "name": "stderr",
     "output_type": "stream",
     "text": [
      "Epochs:   0%|                                                                                                                      | 0/15 [00:00<?, ?it/s]"
     ]
    },
    {
     "name": "stdout",
     "output_type": "stream",
     "text": [
      "\n",
      "  0%|                                                                                                               | 0/2 [00:00<?, ?trial/s, best loss=?]\u001b[A\n",
      " 50%|█████████████████████████████████████████████████                                                 | 1/2 [08:24<08:24, 504.65s/trial, best loss: -0.0]\u001b[A\n",
      "100%|██████████████████████████████████████████████████████████████████████████████████████████████████| 2/2 [17:59<00:00, 539.67s/trial, best loss: -0.0]\u001b[A"
     ]
    },
    {
     "name": "stderr",
     "output_type": "stream",
     "text": [
      "Epochs:   7%|███████                                                                                                   | 1/15 [17:59<4:11:51, 1079.36s/it]"
     ]
    },
    {
     "name": "stdout",
     "output_type": "stream",
     "text": [
      "\n",
      "\n",
      "Found no better decompositions. Found 0 decompositions with the current best count 253.\n",
      "\n",
      " 50%|███████████████████████████████████████████████████████▌                                                       | 2/4 [00:00<?, ?trial/s, best loss=?]\u001b[A\n",
      " 75%|█████████████████████████████████████████████████████████████████████████▌                        | 3/4 [08:05<08:05, 485.54s/trial, best loss: -0.0]\u001b[A"
     ]
    }
   ],
   "source": [
    "qc = QuantumCircuit(5)\n",
    "qc.mct([0, 1, 2], 3)\n",
    "u_target = Operator(qc.reverse_bits()).data\n",
    "\n",
    "layer = sequ_layer(5)\n",
    "\n",
    "projector = jnp.kron(jnp.identity(2**4), jnp.array([[1,0],[0,0]], dtype=jnp.complex64))\n",
    "unitary_loss_func = lambda u: disc2(u @ projector, u_target @ projector)\n",
    "\n",
    "decomposer = Decompose(layer, unitary_loss_func=unitary_loss_func)\n",
    "\n",
    "\n",
    "static_options = {'batch_size': 500, \n",
    "                  'accepted_num_gates': 15}\n",
    "\n",
    "adaptive_options = {'max_evals':30,\n",
    "                   'max_num_cp_gates':35,\n",
    "                   'min_num_cp_gates':12,\n",
    "                   'target_num_gates': 13,\n",
    "                   'evals_between_verification':2,\n",
    "                   'stop_if_target_reached': False}\n",
    "\n",
    "\n",
    "adaptive_results = decomposer.adaptive(\n",
    "    static_options=static_options,\n",
    "    adaptive_options = adaptive_options,\n",
    "    save_to = 'data/toff4_conn_clean_ancilla/',\n",
    "    overwrite_existing_trials=False,\n",
    "    overwrite_existing_decompositions=False,\n",
    ")"
   ]
  }
 ],
 "metadata": {
  "kernelspec": {
   "display_name": "python37",
   "language": "python",
   "name": "python37"
  },
  "language_info": {
   "codemirror_mode": {
    "name": "ipython",
    "version": 3
   },
   "file_extension": ".py",
   "mimetype": "text/x-python",
   "name": "python",
   "nbconvert_exporter": "python",
   "pygments_lexer": "ipython3",
   "version": "3.7.12"
  },
  "widgets": {
   "application/vnd.jupyter.widget-state+json": {
    "state": {},
    "version_major": 2,
    "version_minor": 0
   }
  }
 },
 "nbformat": 4,
 "nbformat_minor": 5
}
