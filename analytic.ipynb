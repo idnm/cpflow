{
 "cells": [
  {
   "cell_type": "code",
   "execution_count": 1,
   "id": "688d43fb-9197-4bfb-b5ce-72e5c1689ea6",
   "metadata": {},
   "outputs": [
    {
     "name": "stderr",
     "output_type": "stream",
     "text": [
      "WARNING:absl:No GPU/TPU found, falling back to CPU. (Set TF_CPP_MIN_LOG_LEVEL=0 and rerun for more info.)\n"
     ]
    }
   ],
   "source": [
    "from jax_circuits import *\n",
    "from scipy.stats import unitary_group\n",
    "import matplotlib.pyplot as plt\n",
    "import sympy as sp\n",
    "\n",
    "from functools import reduce\n",
    "import time\n",
    "import pickle\n",
    "\n",
    "from qiskit import transpile\n",
    "from qiskit.quantum_info import Operator\n",
    "\n",
    "from topology import *\n",
    "\n",
    "from jax import custom_jvp, jvp, grad\n",
    "from jax.scipy.optimize import minimize\n",
    "\n",
    "key = random.PRNGKey(0)"
   ]
  },
  {
   "cell_type": "markdown",
   "id": "78643887-16fe-474b-9a3f-e2bb4e1a328a",
   "metadata": {
    "tags": []
   },
   "source": [
    "# Trigonometric landscape"
   ]
  },
  {
   "cell_type": "markdown",
   "id": "c68935ef-495f-4ea1-9cb6-cc78c737753a",
   "metadata": {},
   "source": [
    "First we will define a generator of trigonometric functions and a procedure to compute exact average."
   ]
  },
  {
   "cell_type": "code",
   "execution_count": 2,
   "id": "76a0b47a-d407-43db-bab4-f7ccadc1be5e",
   "metadata": {},
   "outputs": [],
   "source": [
    "def int_to_list(n, size):\n",
    "    n_str = format(n, 'b')\n",
    "    assert len(n_str)<=size, 'Integer {} too big to be converted to size {}'.format(n, size)\n",
    "    \n",
    "    zero_pad = '0'*(size-len(n_str))\n",
    "    n_str = zero_pad + n_str\n",
    "    \n",
    "    return [int(b) for b in n_str]\n",
    "\n",
    "def all_binary_strings(size):\n",
    "    max_n = int('1'*size, 2)+1\n",
    "    return [int_to_list(n, size) for n in range(max_n)]\n",
    "\n",
    "def cos_sin_monomials(angles, n_angles):\n",
    "    powers = 1-jnp.array(all_binary_strings(int(n_angles)))\n",
    "    cos_sin_array = jnp.cos(angles/2)**powers * jnp.sin(angles/2)**(1-powers)\n",
    "    cos_sin_monomials = jnp.prod(cos_sin_array, axis=1)\n",
    "    return cos_sin_monomials\n",
    "\n",
    "def trigonometric_landscape(coeffs, n_angles):\n",
    "    return lambda angles: jnp.tensordot(cos_sin_monomials(angles, n_angles), coeffs, axes=1)\n",
    "# def trigonometric_landscape(coeffs, n_angles):\n",
    "\n",
    "#     powers = 1-jnp.array(all_binary_strings(int(n_angles)))\n",
    "\n",
    "#     def f(angles):\n",
    "#         cos_sin_array = jnp.cos(angles/2)**powers * jnp.sin(angles/2)**(1-powers)\n",
    "#         cos_sin_monomials = jnp.prod(cos_sin_array, axis=1)\n",
    "#         return jnp.tensordot(cos_sin_monomials, coeffs, axes=1)\n",
    "    \n",
    "#     return f\n",
    "\n",
    "def trigonometric_coefficients(f, n_angles):\n",
    "    all_vertices = jnp.pi*jnp.array(all_binary_strings(int(n_angles)))\n",
    "    return vmap(f)(all_vertices)"
   ]
  },
  {
   "cell_type": "markdown",
   "id": "1ea813b3-eb45-4aa3-a78a-cbdfe67dd7f7",
   "metadata": {},
   "source": [
    "This should illustrate what this function is doing."
   ]
  },
  {
   "cell_type": "code",
   "execution_count": 3,
   "id": "7270d691-4bbd-488d-9475-13a99c904ffc",
   "metadata": {
    "tags": []
   },
   "outputs": [
    {
     "name": "stdout",
     "output_type": "stream",
     "text": [
      "CPU times: user 491 ms, sys: 12.5 ms, total: 504 ms\n",
      "Wall time: 495 ms\n"
     ]
    },
    {
     "data": {
      "text/plain": [
       "[<matplotlib.lines.Line2D at 0x7f8d30072c10>]"
      ]
     },
     "execution_count": 3,
     "metadata": {},
     "output_type": "execute_result"
    },
    {
     "data": {
      "image/png": "[encoded data removed]",
      "text/plain": [
       "<Figure size 432x288 with 1 Axes>"
      ]
     },
     "metadata": {
      "needs_background": "light"
     },
     "output_type": "display_data"
    }
   ],
   "source": [
    "%%time\n",
    "coeffs0=jnp.array([1, 2, 3, 4], dtype='float32')\n",
    "n_angles0 = int(jnp.log2(len(coeffs0)))\n",
    "\n",
    "f0 = trigonometric_landscape(coeffs0, n_angles0)\n",
    "\n",
    "x_sweep = jnp.linspace(-2*jnp.pi, 2*jnp.pi, 1000)\n",
    "y = 0.3\n",
    "\n",
    "plt.plot(x_sweep, vmap(lambda x: f0(jnp.array([x, y], dtype='float32')))(x_sweep))\n",
    "plt.plot(x_sweep, jnp.cos(x_sweep/2)*jnp.cos(y/2)+\n",
    "         2*jnp.cos(x_sweep/2)*jnp.sin(y/2)+\n",
    "         3*jnp.sin(x_sweep/2)*jnp.cos(y/2)+\n",
    "         4*jnp.sin(x_sweep/2)*jnp.sin(y/2))"
   ]
  },
  {
   "cell_type": "code",
   "execution_count": 4,
   "id": "f70a3d62-7b58-40da-a26f-180bc531e527",
   "metadata": {},
   "outputs": [],
   "source": [
    "def exact_average(F, n_angles):\n",
    "    grid_points = jnp.pi*jnp.array(all_binary_strings(n_angles))\n",
    "    F_grid = vmap(F)(grid_points)\n",
    "    \n",
    "    return F_grid.sum()/len(grid_points)\n",
    "\n",
    "def approximate_average(F, n_angles, n_samples, key):\n",
    "    grid_points = jnp.pi*jnp.array(all_binary_strings(n_angles))\n",
    "    grid_points = random.permutation(key, grid_points)\n",
    "    grid_points = grid_points[:n_samples]\n",
    "    \n",
    "    F_grid = vmap(F)(grid_points)\n",
    "    \n",
    "    return F_grid.sum()/len(grid_points)"
   ]
  },
  {
   "cell_type": "markdown",
   "id": "07b3e102-e2b6-456a-a756-42e630974f78",
   "metadata": {},
   "source": [
    "Test."
   ]
  },
  {
   "cell_type": "code",
   "execution_count": 5,
   "id": "4b480f21-e64c-4e1b-8fff-a4be0a16aa95",
   "metadata": {},
   "outputs": [
    {
     "name": "stdout",
     "output_type": "stream",
     "text": [
      "0.34455547\n",
      "0.34455535\n"
     ]
    }
   ],
   "source": [
    "key, subkey = random.split(key)\n",
    "n_angles = 10\n",
    "coeffs = random.uniform(subkey, shape=(2**n_angles, ), minval=0, maxval=1)\n",
    "\n",
    "\n",
    "print((coeffs**2).sum()/2**n_angles)\n",
    "print(exact_average(lambda angles: trigonometric_landscape(coeffs, n_angles)(angles)**2, n_angles))"
   ]
  },
  {
   "cell_type": "code",
   "execution_count": 17,
   "id": "272b466f-637a-421f-ae0f-f061dc328313",
   "metadata": {},
   "outputs": [
    {
     "name": "stdout",
     "output_type": "stream",
     "text": [
      "CPU times: user 7.57 s, sys: 0 ns, total: 7.57 s\n",
      "Wall time: 3.54 s\n"
     ]
    }
   ],
   "source": [
    "%%time\n",
    "n_angles = 12\n",
    "key, subkey = random.split(key)\n",
    "coeffs = random.uniform(subkey, shape=(2**n_angles, ), minval=0, maxval=1)\n",
    "exact_avg = (coeffs**2).sum()/2**n_angles\n",
    "F = lambda angles: trigonometric_landscape(coeffs, n_angles)(angles)**2\n",
    "F=jit(F)\n",
    "\n",
    "average_list = []\n",
    "for i in range(n_angles):\n",
    "    key, subkey = random.split(key)\n",
    "    average_i = approximate_average(F, n_angles, 2**i, subkey)\n",
    "    average_list.append(average_i)"
   ]
  },
  {
   "cell_type": "code",
   "execution_count": 18,
   "id": "91e70a79-42bf-48ac-aaa6-a72c0c7f25a1",
   "metadata": {},
   "outputs": [
    {
     "name": "stdout",
     "output_type": "stream",
     "text": [
      "number of angles: 12\n"
     ]
    },
    {
     "data": {
      "text/plain": [
       "[<matplotlib.lines.Line2D at 0x7f4325d487f0>]"
      ]
     },
     "execution_count": 18,
     "metadata": {},
     "output_type": "execute_result"
    },
    {
     "data": {
      "image/png": "[encoded data removed]",
      "text/plain": [
       "<Figure size 432x288 with 1 Axes>"
      ]
     },
     "metadata": {
      "needs_background": "light"
     },
     "output_type": "display_data"
    }
   ],
   "source": [
    "print('number of angles: {}'.format(n_angles))\n",
    "plt.plot(average_list)\n",
    "plt.plot([exact_avg]*n_angles)"
   ]
  },
  {
   "cell_type": "markdown",
   "id": "860d4398-eeed-4cf2-a114-2a5aa953676a",
   "metadata": {
    "tags": [],
    "toc-hr-collapsed": true
   },
   "source": [
    "# Average conjecture test"
   ]
  },
  {
   "cell_type": "markdown",
   "id": "97c06ff0-b745-45bb-8531-c44e34bed751",
   "metadata": {},
   "source": [
    "Now we can test the average conjecture."
   ]
  },
  {
   "cell_type": "code",
   "execution_count": 136,
   "id": "abf6d417-e0cc-46a1-b6b9-466072682311",
   "metadata": {},
   "outputs": [
    {
     "data": {
      "text/html": [
       "<pre style=\"word-wrap: normal;white-space: pre;background: #fff0;line-height: 1.1;font-family: &quot;Courier New&quot;,Courier,monospace\">     ┌───────┐┌───────┐┌───────┐                            ┌───────┐┌───────┐»\n",
       "q_0: ┤ RZ(0) ├┤ RX(0) ├┤ RZ(0) ├─────────────────────────■──┤ RY(0) ├┤ RX(0) ├»\n",
       "     ├───────┤├───────┤├───────┤     ┌───────┐┌───────┐┌─┴─┐├───────┤├───────┤»\n",
       "q_1: ┤ RZ(0) ├┤ RX(0) ├┤ RZ(0) ├──■──┤ RY(1) ├┤ RX(0) ├┤ X ├┤ RY(2) ├┤ RX(0) ├»\n",
       "     ├───────┤├───────┤├───────┤┌─┴─┐├───────┤├───────┤└───┘└───────┘└───────┘»\n",
       "q_2: ┤ RZ(0) ├┤ RX(0) ├┤ RZ(0) ├┤ X ├┤ RY(0) ├┤ RX(0) ├───────────────────────»\n",
       "     └───────┘└───────┘└───────┘└───┘└───────┘└───────┘                       »\n",
       "«          ┌───────┐┌───────┐\n",
       "«q_0: ──■──┤ RY(0) ├┤ RX(0) ├\n",
       "«       │  └───────┘└───────┘\n",
       "«q_1: ──┼────────────────────\n",
       "«     ┌─┴─┐┌───────┐┌───────┐\n",
       "«q_2: ┤ X ├┤ RY(0) ├┤ RX(0) ├\n",
       "«     └───┘└───────┘└───────┘</pre>"
      ],
      "text/plain": [
       "     ┌───────┐┌───────┐┌───────┐                            ┌───────┐┌───────┐»\n",
       "q_0: ┤ RZ(0) ├┤ RX(0) ├┤ RZ(0) ├─────────────────────────■──┤ RY(0) ├┤ RX(0) ├»\n",
       "     ├───────┤├───────┤├───────┤     ┌───────┐┌───────┐┌─┴─┐├───────┤├───────┤»\n",
       "q_1: ┤ RZ(0) ├┤ RX(0) ├┤ RZ(0) ├──■──┤ RY(1) ├┤ RX(0) ├┤ X ├┤ RY(2) ├┤ RX(0) ├»\n",
       "     ├───────┤├───────┤├───────┤┌─┴─┐├───────┤├───────┤└───┘└───────┘└───────┘»\n",
       "q_2: ┤ RZ(0) ├┤ RX(0) ├┤ RZ(0) ├┤ X ├┤ RY(0) ├┤ RX(0) ├───────────────────────»\n",
       "     └───────┘└───────┘└───────┘└───┘└───────┘└───────┘                       »\n",
       "«          ┌───────┐┌───────┐\n",
       "«q_0: ──■──┤ RY(0) ├┤ RX(0) ├\n",
       "«       │  └───────┘└───────┘\n",
       "«q_1: ──┼────────────────────\n",
       "«     ┌─┴─┐┌───────┐┌───────┐\n",
       "«q_2: ┤ X ├┤ RY(0) ├┤ RX(0) ├\n",
       "«     └───┘└───────┘└───────┘"
      ]
     },
     "execution_count": 136,
     "metadata": {},
     "output_type": "execute_result"
    }
   ],
   "source": [
    "n_qubits = 3\n",
    "a = Ansatz(n_qubits, 'cx', placements={'free':[[1,2], [0,1],[0, 2]]})\n",
    "# u_func = lambda angs: a.unitary(jnp.array([angs[0], 0, 0, 0, 0, 0], dtype='float32'))\n",
    "zero_angles = jnp.zeros((a.n_angles, ))\n",
    "restrinced_angles = lambda angs: zero_angles.at[9].set(angs[0]).at[15].set(angs[1])\n",
    "u_func = lambda angs: a.unitary(restrinced_angles(angs))\n",
    "n_angles = 1\n",
    "a.circuit(restrinced_angles((1, 2))).draw()"
   ]
  },
  {
   "cell_type": "code",
   "execution_count": 141,
   "id": "f2d984be-600d-458d-94c3-10f41365331e",
   "metadata": {},
   "outputs": [],
   "source": [
    "def A_and_B(angles):\n",
    "    n_angles = len(angles)\n",
    "    R = 1j*jnp.kron(y_mat, jnp.identity(2**(n_qubits-1)))\n",
    "    \n",
    "    W0 = u_func(jnp.zeros((n_angles), dtype='float32'))\n",
    "    W = u_func(angles)\n",
    "    \n",
    "    A = trace_prod(W0, W)\n",
    "    B = trace_prod(W0, R@W)\n",
    "    \n",
    "    return A, B\n",
    "\n",
    "def A_squared(angles):\n",
    "    A, _ = A_and_B(angles)\n",
    "    return A*A.conj()\n",
    "\n",
    "def B_squared(angles):\n",
    "    _, B = A_and_B(angles)\n",
    "    return B*B.conj()\n",
    "\n",
    "def A_bar_B(angles):\n",
    "    A, B = A_and_B(angles)\n",
    "    return A*B.conj()"
   ]
  },
  {
   "cell_type": "code",
   "execution_count": 142,
   "id": "03165dfd-917f-40de-bd0b-573a20884f57",
   "metadata": {},
   "outputs": [
    {
     "name": "stdout",
     "output_type": "stream",
     "text": [
      "(16+0j)\n",
      "0j\n",
      "0j\n"
     ]
    }
   ],
   "source": [
    "print(exact_average(A_squared, n_angles))\n",
    "print(exact_average(B_squared, n_angles))\n",
    "print(exact_average(A_bar_B, n_angles))"
   ]
  },
  {
   "cell_type": "markdown",
   "id": "1ac8c47a-adf5-45ac-b76e-97b64eee082d",
   "metadata": {
    "tags": [],
    "toc-hr-collapsed": true
   },
   "source": [
    "# Average learning"
   ]
  },
  {
   "cell_type": "code",
   "execution_count": 16,
   "id": "9cb0fe8f-a577-4ef3-bd3a-73a30fa1cc12",
   "metadata": {},
   "outputs": [],
   "source": [
    "def optimize_first_angle(f, n_angles, average_func):\n",
    "    if n_angles == 1:\n",
    "        return min_angle(lambda ang: f(jnp.array((ang, ))))\n",
    "    \n",
    "    def f_to_average(ang, angs):\n",
    "        angles = jnp.concatenate([jnp.array([ang]), angs])\n",
    "        return f(angles)\n",
    "    \n",
    "    def f1(ang):\n",
    "        return average_func(lambda angs: f_to_average(ang, angs), n_angles-1)\n",
    "    \n",
    "    return min_angle(f1)\n",
    "\n",
    "def average_learn(u_func, u_target, n_angles, average_func):\n",
    "    \n",
    "    def loss0(angles):\n",
    "        return disc2(u_func(angles), u_target)\n",
    "    \n",
    "    optimal_angles = jnp.array([], dtype='float32')\n",
    "    for n in range(n_angles):\n",
    "        def loss(angs):\n",
    "            angles = jnp.concatenate([optimal_angles, angs])\n",
    "            return loss0(angles)\n",
    "        n_angs = n_angles - n\n",
    "        new_angle = optimize_first_angle(loss, n_angs, average_func)\n",
    "        optimal_angles = jnp.append(optimal_angles, new_angle)\n",
    "\n",
    "    return optimal_angles"
   ]
  },
  {
   "cell_type": "code",
   "execution_count": 114,
   "id": "06a22a92-79c0-4d94-ba69-2f9319b8eb11",
   "metadata": {},
   "outputs": [
    {
     "data": {
      "image/png": "[encoded data removed]",
      "text/plain": [
       "<Figure size 808.997x204.68 with 1 Axes>"
      ]
     },
     "execution_count": 114,
     "metadata": {},
     "output_type": "execute_result"
    }
   ],
   "source": [
    "a = Ansatz(3, 'cz', placements={'free':[[1,0], [0, 2], [1, 2]]})\n",
    "u_target = a.unitary(jnp.array(range(1, a.n_angles+1), dtype='float32'))\n",
    "a.circuit().draw(output='mpl')"
   ]
  },
  {
   "cell_type": "code",
   "execution_count": 115,
   "id": "0c95487c-723a-43af-b7a1-b955044135ce",
   "metadata": {},
   "outputs": [],
   "source": [
    "u_restricted = lambda angs: a.unitary(jnp.concatenate([jnp.zeros(shape=(9,)), angs]))\n",
    "u_target_restricted = u_restricted(jnp.array(range(0, a.n_angles-9),dtype='float32'))"
   ]
  },
  {
   "cell_type": "code",
   "execution_count": 116,
   "id": "f5c5cb3a-5140-4b17-8dbf-22e2b23b9fbf",
   "metadata": {},
   "outputs": [],
   "source": [
    "opt_angles = average_learn(u_restricted, u_target_restricted, a.n_angles-9, exact_average)"
   ]
  },
  {
   "cell_type": "code",
   "execution_count": 117,
   "id": "ccee9097-3e66-41cc-bbed-7b0dadd3c2aa",
   "metadata": {},
   "outputs": [
    {
     "name": "stdout",
     "output_type": "stream",
     "text": [
      "[ 1.5707964   1.5707964  -0.         -0.         -0.9375348   1.9304514\n",
      "  0.7853982  -1.5707964   1.5391778  -0.42477575  1.2185782   3.5698256 ]\n",
      "0.68964493\n"
     ]
    }
   ],
   "source": [
    "print(opt_angles)\n",
    "print(disc2(u_restricted(opt_angles),u_target_restricted))"
   ]
  },
  {
   "cell_type": "markdown",
   "id": "19a48c89-f3a5-40a4-bb69-b64bee420617",
   "metadata": {
    "tags": []
   },
   "source": [
    "# Coefficints distribution"
   ]
  },
  {
   "cell_type": "markdown",
   "id": "ae88d00f-4572-4ab5-ae53-dd0e72764bf4",
   "metadata": {
    "tags": []
   },
   "source": [
    "### Check `trigonometric_coefficients'."
   ]
  },
  {
   "cell_type": "code",
   "execution_count": 19,
   "id": "094cb435-48a6-4f75-b942-3197ab9734a6",
   "metadata": {},
   "outputs": [
    {
     "name": "stdout",
     "output_type": "stream",
     "text": [
      "[0.94779134 2.8464484  3.5750294  ... 9.188044   5.129981   5.34206   ]\n",
      "[0.94779134 2.8464484  3.5750294  ... 9.188043   5.12998    5.3420577 ]\n"
     ]
    }
   ],
   "source": [
    "# Reconstruction from coefficients.\n",
    "n_angles_rnd = 10\n",
    "coeffs_rnd = random.uniform(random.PRNGKey(0), shape=(2**n_angles_rnd,), minval=0, maxval=10)\n",
    "f_rnd = trigonometric_landscape(coeffs_rnd, n_angles_rnd)\n",
    "get_coeffs_rnd = trigonometric_coefficients(f_rnd, n_angles_rnd)\n",
    "\n",
    "print(coeffs_rnd)\n",
    "print(get_coeffs_rnd)"
   ]
  },
  {
   "cell_type": "code",
   "execution_count": 20,
   "id": "98c8f8e7-e487-44e9-a190-c4c7194a3b15",
   "metadata": {},
   "outputs": [
    {
     "name": "stdout",
     "output_type": "stream",
     "text": [
      "5.2657743\n",
      "5.265774\n"
     ]
    }
   ],
   "source": [
    "# Reconstruction from funcion.\n",
    "get_f_rnd = trigonometric_landscape(get_coeffs_rnd, n_angles_rnd)\n",
    "\n",
    "angles_rnd_sample = random.uniform(random.PRNGKey(0), shape=(n_angles_rnd, ), minval=0, maxval=2*jnp.pi)\n",
    "\n",
    "print(f_rnd(angles_rnd_sample))\n",
    "print(get_f_rnd(angles_rnd_sample))"
   ]
  },
  {
   "cell_type": "code",
   "execution_count": 48,
   "id": "d8263f8b-a5f6-4164-88ba-3a85a8b253ff",
   "metadata": {},
   "outputs": [],
   "source": [
    "a = Ansatz(3, 'cz', placements={'free':[[1,0], [1,2]]})\n",
    "u_target = a.unitary(jnp.array(range(1, a.n_angles+1), dtype='float32'))\n",
    "a.circuit().draw(output='mpl')\n",
    "\n",
    "tr_func = jit(lambda angles: trace_prod(u_target, a.unitary(angles)))\n",
    "tr_coeffs = trigonometric_coefficients(tr_func, a.n_angles)\n",
    "tr_func_check = lambda angles: trigonometric_landscape(tr_coeffs, a.n_angles)(angles)"
   ]
  },
  {
   "cell_type": "code",
   "execution_count": 49,
   "id": "0322f321-4eeb-447f-928f-0c306631dc95",
   "metadata": {},
   "outputs": [
    {
     "name": "stdout",
     "output_type": "stream",
     "text": [
      "(-0.5539855-0.1016594j)\n",
      "(-0.55398566-0.10165937j)\n"
     ]
    }
   ],
   "source": [
    "angles = random.uniform(random.PRNGKey(1), shape=(a.n_angles, ), minval=0, maxval=2*jnp.pi)\n",
    "print(tr_func(angles))\n",
    "print(tr_func_check(angles))"
   ]
  },
  {
   "cell_type": "code",
   "execution_count": 50,
   "id": "cad999f8-a78f-4216-b441-aa8c42b860a2",
   "metadata": {},
   "outputs": [
    {
     "data": {
      "text/plain": [
       "[<matplotlib.lines.Line2D at 0x7f70a7d76040>]"
      ]
     },
     "execution_count": 50,
     "metadata": {},
     "output_type": "execute_result"
    },
    {
     "data": {
      "image/png": "[encoded data removed]",
      "text/plain": [
       "<Figure size 432x288 with 1 Axes>"
      ]
     },
     "metadata": {
      "needs_background": "light"
     },
     "output_type": "display_data"
    }
   ],
   "source": [
    "plt.plot(jnp.sort(jnp.abs(tr_coeffs)))"
   ]
  },
  {
   "cell_type": "markdown",
   "id": "4e23a9f0-0884-47bd-9ed6-9042a9035199",
   "metadata": {
    "tags": [],
    "toc-hr-collapsed": true
   },
   "source": [
    "### Check commutator cz and x"
   ]
  },
  {
   "cell_type": "code",
   "execution_count": 13,
   "id": "e78e1fb2-63aa-4071-8bd7-bb6afa44e90c",
   "metadata": {},
   "outputs": [
    {
     "data": {
      "image/png": "[encoded data removed]",
      "text/plain": [
       "<Figure size 206.852x144.48 with 1 Axes>"
      ]
     },
     "execution_count": 13,
     "metadata": {},
     "output_type": "execute_result"
    }
   ],
   "source": [
    "qc = QuantumCircuit(2)\n",
    "qc.cz(0, 1)\n",
    "qc.x(0)\n",
    "u_qc = Operator(qc.reverse_bits()).data\n",
    "\n",
    "qc.draw(output='mpl')"
   ]
  },
  {
   "cell_type": "code",
   "execution_count": 14,
   "id": "865fe2a6-f545-433a-a5cd-ff59cdc707fa",
   "metadata": {},
   "outputs": [
    {
     "data": {
      "image/png": "[encoded data removed]",
      "text/plain": [
       "<Figure size 267.052x144.48 with 1 Axes>"
      ]
     },
     "execution_count": 14,
     "metadata": {},
     "output_type": "execute_result"
    }
   ],
   "source": [
    "cq = QuantumCircuit(2)\n",
    "cq.x(0)\n",
    "cq.cz(0, 1)\n",
    "cq.z(1)\n",
    "u_cq = Operator(cq.reverse_bits()).data\n",
    "\n",
    "cq.draw(output='mpl')"
   ]
  },
  {
   "cell_type": "code",
   "execution_count": 15,
   "id": "ce5d7d80-1fe3-4bc0-bd1e-5118ca9f3623",
   "metadata": {},
   "outputs": [
    {
     "name": "stdout",
     "output_type": "stream",
     "text": [
      "True\n"
     ]
    }
   ],
   "source": [
    "print(jnp.allclose(u_qc, u_cq))"
   ]
  },
  {
   "cell_type": "markdown",
   "id": "ffa2a23a-b22f-40db-8953-78da02b4bd25",
   "metadata": {
    "tags": []
   },
   "source": [
    "### Orthogonality check"
   ]
  },
  {
   "cell_type": "code",
   "execution_count": 21,
   "id": "3f4ce95e-95d3-4839-9cd8-9916426ead95",
   "metadata": {},
   "outputs": [
    {
     "name": "stdout",
     "output_type": "stream",
     "text": [
      "CPU times: user 2.02 s, sys: 32.5 ms, total: 2.05 s\n",
      "Wall time: 2.05 s\n"
     ]
    }
   ],
   "source": [
    "%%time\n",
    "a = Ansatz(3, 'cz', placements={'free':[[0,1], [1, 2]]})\n",
    "u_coeffs = trigonometric_coefficients(jit(a.unitary), a.n_angles)"
   ]
  },
  {
   "cell_type": "code",
   "execution_count": 22,
   "id": "d5960628-5712-4fd4-86bb-881baff649d4",
   "metadata": {},
   "outputs": [
    {
     "name": "stdout",
     "output_type": "stream",
     "text": [
      "CPU times: user 927 ms, sys: 68.4 ms, total: 995 ms\n",
      "Wall time: 770 ms\n"
     ]
    }
   ],
   "source": [
    "%%time\n",
    "u_0 = u_coeffs[0]\n",
    "prods = vmap(jit(lambda u: trace_prod(u_0, u)))(u_coeffs)\n",
    "prods_abs = vmap(jnp.abs)(jnp.array(prods))\n",
    "prods_abs = prods_abs/prods_abs[0]"
   ]
  },
  {
   "cell_type": "code",
   "execution_count": 23,
   "id": "3c810400-7f78-4033-9c38-fd82091b20a6",
   "metadata": {},
   "outputs": [
    {
     "name": "stdout",
     "output_type": "stream",
     "text": [
      "ones: 2048, zeros: 129024, sum: 131072, total: 131072\n",
      "ratio: 64.0\n",
      "guess:: 64\n"
     ]
    }
   ],
   "source": [
    "zers = jnp.where(jnp.abs(prods_abs)<1e-7)[0]\n",
    "ons = jnp.where(jnp.abs(prods_abs-1)<1e-7)[0]\n",
    "\n",
    "print('ones: {}, zeros: {}, sum: {}, total: {}'.format(len(ons), len(zers),len(ons)+len(zers),len(prods_abs)))\n",
    "print('ratio: {}'.format(len(prods_abs)/len(ons)))\n",
    "print('guess:: {}'.format(4**a.n_qubits))"
   ]
  },
  {
   "cell_type": "markdown",
   "id": "1d3604ba-dfe3-46da-9da3-514a6bcb37a3",
   "metadata": {
    "tags": []
   },
   "source": [
    "### Polynomials"
   ]
  },
  {
   "cell_type": "code",
   "execution_count": 72,
   "id": "86c52265-e724-4896-aea5-a9c0447e6146",
   "metadata": {},
   "outputs": [],
   "source": [
    "def overlaps(u, u_arr):\n",
    "    return vmap(jit(lambda u_i: trace_prod(u, u_i)))(u_arr)\n",
    "\n",
    "def choose_basis(u_arr, dim):\n",
    "    basis = jnp.array([u_arr[0]])\n",
    "    for u in u_arr:\n",
    "        if len(basis)==dim:\n",
    "            return basis\n",
    "        ovlps = overlaps(u, basis)\n",
    "        if jnp.all(jnp.abs(ovlps)<1e-6):\n",
    "            basis = jnp.append(basis, jnp.array([u]), axis=0)\n",
    "    if len(basis)<dim:\n",
    "        print('basis not completed')\n",
    "    return basis\n",
    "\n",
    "def signature(u, u_arr):\n",
    "    raw_overlaps = overlaps(u, u_arr)\n",
    "    signed_overlaps = raw_overlaps / trace_prod(u, u)\n",
    "    normalized_overlaps = signed_overlaps/jnp.max(jnp.abs(signed_overlaps))\n",
    "    return jnp.around(normalized_overlaps, decimals=6)\n",
    "\n",
    "def generate_symbolic_angles(n_angles):\n",
    "    return [sp.Symbol('x_{}'.format(i)) for i in range(n_angles)]\n",
    "\n",
    "def monomials(n_angles):\n",
    "    x_list = generate_symbolic_angles(n_angles)\n",
    "    mons = []\n",
    "    for s in all_binary_strings(n_angles):\n",
    "        factors = [sp.sin(x_list[i]/2) if p else sp.cos(x_list[i]/2) for (i,p) in enumerate(s)]\n",
    "        product = reduce((lambda x, y: x * y), factors)\n",
    "        mons.append(product)\n",
    "    return mons\n",
    "\n",
    "def trigonometric_polynomial_from_signature(sig, n_angles):\n",
    "    mons = monomials(n_angles)\n",
    "    filtered = [s*m for (s, m) in zip(sig, mons)]\n",
    "    return sum(filtered)\n",
    "\n",
    "def recostruct_unitary_from_signature(basis, signatures, n_angles):\n",
    "    \n",
    "    def f(angles):\n",
    "        cos_sin = cos_sin_monomials(angles, n_angles)\n",
    "        total_u = jnp.zeros(basis[0].shape)\n",
    "        for s, u in zip(signatures, basis):\n",
    "            total_u += u*((cos_sin*jnp.array(s)).sum())\n",
    "        return total_u\n",
    "    \n",
    "    return f\n",
    "\n",
    "def reconstruct_unitary_from_trigonometric_polynomial(basis, polynomials, n_angles):\n",
    "    sym_angles = generate_symbolic_angles(n_angles)\n",
    "    def f(angles):\n",
    "        eval_polynomials = [p.subs([(sym_angle, angle) for sym_angle, angle in zip(sym_angles, angles)]) for p in polynomials]\n",
    "        eval_polynomials = jnp.array(eval_polynomials, dtype='complex64')\n",
    "        return jnp.tensordot(jnp.array(eval_polynomials), basis, axes=1)\n",
    "    return f"
   ]
  },
  {
   "cell_type": "markdown",
   "id": "4dbbb42c-5240-4415-a5ac-cb431abc6e0f",
   "metadata": {},
   "source": [
    "Single-qubit test."
   ]
  },
  {
   "cell_type": "code",
   "execution_count": 68,
   "id": "95f5e43d-df1b-44a2-9c75-f9cf800ced83",
   "metadata": {},
   "outputs": [
    {
     "name": "stdout",
     "output_type": "stream",
     "text": [
      "True\n",
      "True\n"
     ]
    }
   ],
   "source": [
    "n_angles = 2\n",
    "n_qubits = 1\n",
    "u_func = lambda angs: ry_mat(angs[0]) @ rz_mat(angs[1])\n",
    "u_coeffs = trigonometric_coefficients(u_func, n_angles)\n",
    "u_basis = choose_basis(u_coeffs, 4**n_qubits)\n",
    "u_signatures = vmap(lambda u: signature(u, u_coeffs))(u_basis)\n",
    "u_polynomials = [trigonometric_polynomial_from_signature(s, n_angles) for s in u_signatures]\n",
    "\n",
    "u_signature_check = recostruct_unitary_from_signature(u_basis, u_signatures, n_angles)\n",
    "u_polynomial_check = reconstruct_unitary_from_trigonometric_polynomial(u_basis, u_polynomials, n_angles)\n",
    "\n",
    "angs = random.uniform(key, shape=(n_angles, ), minval=0, maxval=2*jnp.pi)\n",
    "print(jnp.allclose(u_func(angs),u_signature_check(angs), atol=1e-7))\n",
    "print(jnp.allclose(u_func(angs),u_polynomial_check(angs), atol=1e-7))"
   ]
  },
  {
   "cell_type": "code",
   "execution_count": 73,
   "id": "a74bcbc9-b03b-4562-a4b8-8907039681aa",
   "metadata": {},
   "outputs": [
    {
     "name": "stdout",
     "output_type": "stream",
     "text": [
      "basis not completed\n",
      "True\n",
      "True\n"
     ]
    }
   ],
   "source": [
    "n_angles = 3\n",
    "n_qubits = 2\n",
    "\n",
    "u_func = lambda angs: jnp.kron(jnp.identity(2), rx_mat(angs[0])) @ cz_mat @ jnp.kron(rz_mat(angs[1]), rx_mat(angs[2]))\n",
    "u_coeffs = trigonometric_coefficients(u_func, n_angles)\n",
    "u_basis = choose_basis(u_coeffs, 4**n_qubits)\n",
    "u_signatures = vmap(lambda u: signature(u, u_coeffs))(u_basis)\n",
    "u_polynomials = [trigonometric_polynomial_from_signature(s, n_angles) for s in u_signatures]\n",
    "\n",
    "u_signature_check = recostruct_unitary_from_signature(u_basis, u_signatures, n_angles)\n",
    "u_polynomial_check = reconstruct_unitary_from_trigonometric_polynomial(u_basis, u_polynomials, n_angles)\n",
    "\n",
    "angs = random.uniform(key, shape=(n_angles, ), minval=0, maxval=2*jnp.pi)\n",
    "print(jnp.allclose(u_func(angs),u_signature_check(angs), atol=1e-7))\n",
    "print(jnp.allclose(u_func(angs),u_polynomial_check(angs), atol=1e-7))"
   ]
  },
  {
   "cell_type": "code",
   "execution_count": 75,
   "id": "4dc37e55-d6a7-4c4c-a6ea-907d9f1c5076",
   "metadata": {},
   "outputs": [
    {
     "name": "stdout",
     "output_type": "stream",
     "text": [
      "True\n",
      "True\n"
     ]
    }
   ],
   "source": [
    "a = Ansatz(2, 'cz', placements={'free': [[0, 1]]})\n",
    "n_angles = a.n_angles\n",
    "\n",
    "u_func = lambda angs: a.unitary(jnp.concatenate([jnp.zeros(a.n_angles-n_angles), angs]))\n",
    "u_coeffs = trigonometric_coefficients(u_func, n_angles)\n",
    "u_basis = choose_basis(u_coeffs, 4**a.n_qubits)\n",
    "u_signatures = vmap(lambda u: signature(u, u_coeffs))(u_basis)\n",
    "u_polynomials = [trigonometric_polynomial_from_signature(s, n_angles) for s in u_signatures]\n",
    "\n",
    "u_signature_check = recostruct_unitary_from_signature(u_basis, u_signatures, n_angles)\n",
    "u_polynomial_check = reconstruct_unitary_from_trigonometric_polynomial(u_basis, u_polynomials, n_angles)\n",
    "\n",
    "angs = random.uniform(key, shape=(n_angles, ), minval=0, maxval=2*jnp.pi)\n",
    "print(jnp.allclose(u_func(angs),u_signature_check(angs), atol=1e-7))\n",
    "print(jnp.allclose(u_func(angs),u_polynomial_check(angs), atol=1e-7))"
   ]
  },
  {
   "cell_type": "markdown",
   "id": "2268faa2-c705-4679-97c8-510b892a7b50",
   "metadata": {},
   "source": [
    "# Experiments"
   ]
  },
  {
   "cell_type": "code",
   "execution_count": 129,
   "id": "c3a9f8cf-5735-4eee-bd64-fc99d22a2852",
   "metadata": {},
   "outputs": [
    {
     "name": "stdout",
     "output_type": "stream",
     "text": [
      "True\n",
      "True\n",
      "num angles: 5\n",
      "CPU times: user 1.39 s, sys: 28.7 ms, total: 1.42 s\n",
      "Wall time: 1.36 s\n"
     ]
    },
    {
     "data": {
      "image/png": "[encoded data removed]",
      "text/plain": [
       "<Figure size 628.252x144.48 with 1 Axes>"
      ]
     },
     "execution_count": 129,
     "metadata": {},
     "output_type": "execute_result"
    }
   ],
   "source": [
    "%%time\n",
    "a = Ansatz(2, 'cz', placements={'free': [[0, 1], [0, 1]]})\n",
    "positions = [5, 6, 11, 9, 12]\n",
    "n_angles = len(positions)\n",
    "def sub_angles(angs, positions, n_all_angles):\n",
    "    all_angs = jnp.zeros((n_all_angles, ))\n",
    "    for a, p in zip(angs, positions):\n",
    "        all_angs = all_angs.at[p].set(a)\n",
    "    return all_angs\n",
    "\n",
    "u_func = lambda angs: a.unitary(sub_angles(angs, positions, a.n_angles))\n",
    "u_coeffs = trigonometric_coefficients(u_func, n_angles)\n",
    "u_basis = choose_basis(u_coeffs, 4**a.n_qubits)\n",
    "u_signatures = vmap(lambda u: signature(u, u_coeffs))(u_basis)\n",
    "u_polynomials = [trigonometric_polynomial_from_signature(s, n_angles) for s in u_signatures]\n",
    "\n",
    "u_signature_check = recostruct_unitary_from_signature(u_basis, u_signatures, n_angles)\n",
    "u_polynomial_check = reconstruct_unitary_from_trigonometric_polynomial(u_basis, u_polynomials, n_angles)\n",
    "\n",
    "angs = random.uniform(key, shape=(n_angles, ), minval=0, maxval=2*jnp.pi)\n",
    "print(jnp.allclose(u_func(angs),u_signature_check(angs), atol=1e-7))\n",
    "print(jnp.allclose(u_func(angs),u_polynomial_check(angs), atol=1e-7))\n",
    "\n",
    "print('num angles: {}'.format(n_angles))\n",
    "np.array(u_signatures).astype('complex64').tofile('signatures.dat')\n",
    "np.array(all_binary_strings(n_angles)).astype('int32').tofile('binary_strings.dat')\n",
    "np.array([n_angles]).astype('int32').tofile('n_angles.dat')\n",
    "\n",
    "a.circuit(sub_angles(positions, positions, a.n_angles)).draw(output='mpl')"
   ]
  },
  {
   "cell_type": "code",
   "execution_count": null,
   "id": "53f3f129-1417-4b28-9c46-2c52ee397ac5",
   "metadata": {},
   "outputs": [],
   "source": []
  }
 ],
 "metadata": {
  "kernelspec": {
   "display_name": "Python 3",
   "language": "python",
   "name": "python3"
  },
  "language_info": {
   "codemirror_mode": {
    "name": "ipython",
    "version": 3
   },
   "file_extension": ".py",
   "mimetype": "text/x-python",
   "name": "python",
   "nbconvert_exporter": "python",
   "pygments_lexer": "ipython3",
   "version": "3.8.10"
  },
  "widgets": {
   "application/vnd.jupyter.widget-state+json": {
    "state": {},
    "version_major": 2,
    "version_minor": 0
   }
  }
 },
 "nbformat": 4,
 "nbformat_minor": 5
}
