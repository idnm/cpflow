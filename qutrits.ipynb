{
 "cells": [
  {
   "cell_type": "code",
   "execution_count": 1,
   "id": "8c554b49-920d-43aa-ac53-09648d9a2912",
   "metadata": {},
   "outputs": [],
   "source": [
    "import jax.numpy as jnp\n",
    "from jax.scipy.linalg import expm\n",
    "from scipy.stats import unitary_group\n",
    "from jax import random\n",
    "from matplotlib import pyplot as plt\n",
    "\n",
    "from optimization import *"
   ]
  },
  {
   "cell_type": "markdown",
   "id": "fb56ee86-adb1-4ef2-8a78-21c6cca8a191",
   "metadata": {},
   "source": [
    "Introduce simple parameterization for generic unitary matrix through its hermitian logarithm."
   ]
  },
  {
   "cell_type": "code",
   "execution_count": 2,
   "id": "ce67df30-9635-443a-a3d1-697a2bc9b1a9",
   "metadata": {},
   "outputs": [],
   "source": [
    "def h3(h):\n",
    "    return jnp.array([[h[0], h[1]+1j*h[2], h[3]+1j*h[4]],\n",
    "                      [h[1]-1j*h[2], h[5], h[6]+1j*h[7]],\n",
    "                      [h[3]-1j*h[4], h[6]-1j*h[7], h[8]]], dtype=jnp.complex64)\n",
    "                    \n",
    "def u3(h):\n",
    "    return expm(1j*h3(h))"
   ]
  },
  {
   "cell_type": "markdown",
   "id": "e5e42bda-205e-464e-a033-c0e30731768a",
   "metadata": {},
   "source": [
    "Let's check that a random unitary can be learned in this parametrization."
   ]
  },
  {
   "cell_type": "code",
   "execution_count": 3,
   "id": "feb46754-f17e-4e04-a810-2efeb33b0318",
   "metadata": {},
   "outputs": [
    {
     "name": "stderr",
     "output_type": "stream",
     "text": [
      "WARNING:absl:No GPU/TPU found, falling back to CPU. (Set TF_CPP_MIN_LOG_LEVEL=0 and rerun for more info.)\n",
      "100%|██████████| 10/10 [00:16<00:00,  1.69s/it]"
     ]
    },
    {
     "name": "stdout",
     "output_type": "stream",
     "text": [
      "1.0\n"
     ]
    },
    {
     "name": "stderr",
     "output_type": "stream",
     "text": [
      "\n"
     ]
    }
   ],
   "source": [
    "u_target = unitary_group.rvs(3, random_state=131)\n",
    "\n",
    "res = unitary_learn(u3, u_target, 9, num_repeats=10)\n",
    "success_hist = [r['loss'][-1] < 1e-5 for r in res]\n",
    "print(sum(success_hist)/len(success_hist))"
   ]
  },
  {
   "cell_type": "markdown",
   "id": "7b2b6556-e5e5-4381-88fa-831b09198dbf",
   "metadata": {},
   "source": [
    "Introduce qutrit gates."
   ]
  },
  {
   "cell_type": "code",
   "execution_count": 4,
   "id": "87330bf0-8caf-4596-bde8-42fb7c68b8a4",
   "metadata": {},
   "outputs": [],
   "source": [
    "P0 = jnp.array([[1,0,0],\n",
    "                [0,0,0],\n",
    "                [0,0,0]], dtype=jnp.complex64)\n",
    "\n",
    "P1 = jnp.array([[0,0,0],\n",
    "                [0,1,0],\n",
    "                [0,0,0]], dtype=jnp.complex64)\n",
    "\n",
    "P2 = jnp.array([[0,0,0],\n",
    "                [0,0,0],\n",
    "                [0,0,1]], dtype=jnp.complex64)\n",
    "\n",
    "Z01 = jnp.array([[1,0,0],\n",
    "                 [0,-1,0],\n",
    "                 [0,0,1]], dtype=jnp.complex64)\n",
    "\n",
    "Id3 = jnp.array([[1,0,0],\n",
    "                 [0,1,0],\n",
    "                 [0,0,1]], dtype=jnp.complex64)\n",
    "\n",
    "CZ = jnp.kron(P0+P2, Id3)+jnp.kron(P1, Z01)\n",
    "  \n",
    "def U3_CP(phi):\n",
    "    return jnp.kron(P0+P2, Id3)+jnp.kron(P1, P0+P2)+jnp.exp(-1j*phi/2)*jnp.kron(P1, P1)\n",
    "\n",
    "def U3_RZZ(phi):\n",
    "    return jnp.exp(-1j*phi/2)*jnp.kron(P0, P0)+jnp.exp(1j*phi/2)*jnp.kron(P0, P1)+jnp.exp(1j*phi/2)*jnp.kron(P1, P0)+jnp.exp(-1j*phi/2)*jnp.kron(P1, P1)+jnp.kron(P2, P0+P1+P2)+jnp.kron(P0+P1, P2)"
   ]
  },
  {
   "cell_type": "markdown",
   "id": "9d4793b5-ecc7-44eb-b838-bda0b84d0ead",
   "metadata": {},
   "source": [
    "Ansatz with d layers of CNOTs."
   ]
  },
  {
   "cell_type": "code",
   "execution_count": 27,
   "id": "7d3cf847-5d91-4246-8b49-23fbc54f9b97",
   "metadata": {},
   "outputs": [],
   "source": [
    "def qutrit_anz(d):\n",
    "    def u_anz(h):\n",
    "        h = h.reshape(d+1, 2, 9)\n",
    "        u = jnp.kron(u3(h[0,0]), u3(h[0, 1]))\n",
    "        \n",
    "        def apply_layer(i, u):\n",
    "            u = CZ @ u\n",
    "            u = jnp.kron(u3(h[i,0]), u3(h[i,1])) @ u\n",
    "            return u\n",
    "        \n",
    "        if d > 0:\n",
    "            u = lax.fori_loop(1, d+1, lambda i, u: apply_layer(i, u), u)\n",
    "\n",
    "        \n",
    "#         for k in range(1, d+1):\n",
    "#             u = CZ @ u\n",
    "#             u = jnp.kron(u3(h[k,0]), u3(h[k,1])) @ u\n",
    "            \n",
    "        return u\n",
    "    \n",
    "    return u_anz    "
   ]
  },
  {
   "cell_type": "markdown",
   "id": "7b8b0cfb-3455-4f89-a968-78aa0316fe8b",
   "metadata": {},
   "source": [
    "Let's check 3-CNOT ansatz can learn tensor product of random 2-qubit unitaries."
   ]
  },
  {
   "cell_type": "code",
   "execution_count": 28,
   "id": "175d5025-fcdd-49f9-9a51-15c3b5c4da2a",
   "metadata": {},
   "outputs": [
    {
     "data": {
      "text/plain": [
       "DeviceArray(True, dtype=bool)"
      ]
     },
     "execution_count": 28,
     "metadata": {},
     "output_type": "execute_result"
    }
   ],
   "source": [
    "u0 = unitary_group.rvs(2, random_state=13)\n",
    "u1 = unitary_group.rvs(2, random_state=14)\n",
    "\n",
    "u0 = jnp.array([[u0[0,0], u0[0,1], 0],\n",
    "                [u0[1,0], u0[1,1], 0],\n",
    "                [0, 0, 1]])\n",
    "\n",
    "u1 = jnp.array([[u1[0,0], u1[0,1], 0],\n",
    "                [u1[1,0], u1[1,1], 0],\n",
    "                [0, 0, 1]])\n",
    "\n",
    "u01 = jnp.kron(u0, u1)\n",
    "jnp.allclose(jnp.identity(9), u01 @ u01.conj().T, atol=1e-5)"
   ]
  },
  {
   "cell_type": "code",
   "execution_count": 29,
   "id": "e33ae26a-b223-4bda-920b-61a5ff25d974",
   "metadata": {},
   "outputs": [
    {
     "name": "stderr",
     "output_type": "stream",
     "text": [
      "100%|██████████| 10/10 [00:37<00:00,  3.72s/it]\n"
     ]
    },
    {
     "name": "stdout",
     "output_type": "stream",
     "text": [
      "0.4\n"
     ]
    }
   ],
   "source": [
    "d=2\n",
    "u_target = u01\n",
    "\n",
    "loss_f = lambda h: (jnp.abs(qutrit_anz(d)(h)-u_target)**2).sum()\n",
    "\n",
    "res = mynimize_repeated(loss_f, (d+1)*2*9, num_repeats=10)\n",
    "success_hist = [r['loss'][-1] < 1e-5 for r in res]\n",
    "print(sum(success_hist)/len(success_hist))"
   ]
  },
  {
   "cell_type": "markdown",
   "id": "f9f4e124-652a-4bd3-81ed-8690e8326766",
   "metadata": {},
   "source": [
    "Note that the problem of local minima is present already in this simple case!\n",
    "\n",
    "Now let's try to learn the interesting gates."
   ]
  },
  {
   "cell_type": "code",
   "execution_count": 42,
   "id": "9557c6a4-37e4-4006-82a6-383d15fbd8c7",
   "metadata": {},
   "outputs": [
    {
     "name": "stderr",
     "output_type": "stream",
     "text": [
      "100%|██████████| 10/10 [00:51<00:00,  5.10s/it]"
     ]
    },
    {
     "name": "stdout",
     "output_type": "stream",
     "text": [
      "0.1\n"
     ]
    },
    {
     "name": "stderr",
     "output_type": "stream",
     "text": [
      "\n"
     ]
    }
   ],
   "source": [
    "d=2\n",
    "phi = 0.01\n",
    "# u_target = U3_CP(phi)\n",
    "u_target = CZ\n",
    "\n",
    "loss_f = lambda h: (jnp.abs(qutrit_anz(d)(h)-u_target)**2).sum()\n",
    "\n",
    "res = mynimize_repeated(loss_f, (d+1)*2*9, num_repeats=10)\n",
    "success_hist = [r['loss'][-1] < 1e-5 for r in res]\n",
    "print(sum(success_hist)/len(success_hist))"
   ]
  },
  {
   "cell_type": "code",
   "execution_count": 43,
   "id": "c545fc69-5ed7-455c-a51d-05592d50079b",
   "metadata": {},
   "outputs": [
    {
     "data": {
      "text/plain": [
       "[DeviceArray(False, dtype=bool),\n",
       " DeviceArray(True, dtype=bool),\n",
       " DeviceArray(False, dtype=bool),\n",
       " DeviceArray(False, dtype=bool),\n",
       " DeviceArray(False, dtype=bool),\n",
       " DeviceArray(False, dtype=bool),\n",
       " DeviceArray(False, dtype=bool),\n",
       " DeviceArray(False, dtype=bool),\n",
       " DeviceArray(False, dtype=bool),\n",
       " DeviceArray(False, dtype=bool)]"
      ]
     },
     "execution_count": 43,
     "metadata": {},
     "output_type": "execute_result"
    }
   ],
   "source": [
    "success_hist"
   ]
  },
  {
   "cell_type": "code",
   "execution_count": 45,
   "id": "3bda1e85-30b9-41f1-8170-2a9aa30e5fd3",
   "metadata": {},
   "outputs": [
    {
     "data": {
      "image/png": "[encoded data removed]",
      "text/plain": [
       "<Figure size 432x288 with 1 Axes>"
      ]
     },
     "metadata": {
      "needs_background": "light"
     },
     "output_type": "display_data"
    }
   ],
   "source": [
    "plt.plot(res[1]['loss'])\n",
    "plt.yscale('log')"
   ]
  },
  {
   "cell_type": "code",
   "execution_count": null,
   "id": "594b5de0-077e-47de-9d1d-87e00518915d",
   "metadata": {},
   "outputs": [],
   "source": []
  }
 ],
 "metadata": {
  "kernelspec": {
   "display_name": "Python 3",
   "language": "python",
   "name": "python3"
  },
  "language_info": {
   "codemirror_mode": {
    "name": "ipython",
    "version": 3
   },
   "file_extension": ".py",
   "mimetype": "text/x-python",
   "name": "python",
   "nbconvert_exporter": "python",
   "pygments_lexer": "ipython3",
   "version": "3.8.10"
  },
  "widgets": {
   "application/vnd.jupyter.widget-state+json": {
    "state": {},
    "version_major": 2,
    "version_minor": 0
   }
  }
 },
 "nbformat": 4,
 "nbformat_minor": 5
}
